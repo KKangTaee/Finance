{
 "cells": [
  {
   "cell_type": "code",
   "execution_count": 1,
   "id": "9c1555da",
   "metadata": {},
   "outputs": [
    {
     "name": "stderr",
     "output_type": "stream",
     "text": [
      "Processing Companies:   0%|          | 0/4204 [00:00<?, ?it/s]"
     ]
    },
    {
     "name": "stdout",
     "output_type": "stream",
     "text": [
      "✅ AACG - IncomeStatement_Quarter 데이터 삽입 완료\n",
      "✅ AACG - BalanceSheet_Quarter 데이터 삽입 완료\n"
     ]
    },
    {
     "name": "stderr",
     "output_type": "stream",
     "text": [
      "Processing Companies:   0%|          | 1/4204 [00:04<5:04:36,  4.35s/it]"
     ]
    },
    {
     "name": "stdout",
     "output_type": "stream",
     "text": [
      "❌ CashFlow_Quarter 데이터 없음\n",
      "✅ A - IncomeStatement_Quarter 데이터 삽입 완료\n",
      "✅ A - BalanceSheet_Quarter 데이터 삽입 완료\n"
     ]
    },
    {
     "name": "stderr",
     "output_type": "stream",
     "text": [
      "Processing Companies:   0%|          | 2/4204 [00:07<4:10:26,  3.58s/it]"
     ]
    },
    {
     "name": "stdout",
     "output_type": "stream",
     "text": [
      "✅ A - CashFlow_Quarter 데이터 삽입 완료\n",
      "✅ AA - IncomeStatement_Quarter 데이터 삽입 완료\n",
      "✅ AA - BalanceSheet_Quarter 데이터 삽입 완료\n"
     ]
    },
    {
     "name": "stderr",
     "output_type": "stream",
     "text": [
      "Processing Companies:   0%|          | 3/4204 [00:10<4:09:25,  3.56s/it]"
     ]
    },
    {
     "name": "stdout",
     "output_type": "stream",
     "text": [
      "✅ AA - CashFlow_Quarter 데이터 삽입 완료\n",
      "✅ AAL - IncomeStatement_Quarter 데이터 삽입 완료\n",
      "✅ AAL - BalanceSheet_Quarter 데이터 삽입 완료\n"
     ]
    },
    {
     "name": "stderr",
     "output_type": "stream",
     "text": [
      "Processing Companies:   0%|          | 4/4204 [00:13<3:48:31,  3.26s/it]"
     ]
    },
    {
     "name": "stdout",
     "output_type": "stream",
     "text": [
      "✅ AAL - CashFlow_Quarter 데이터 삽입 완료\n",
      "✅ AAME - IncomeStatement_Quarter 데이터 삽입 완료\n",
      "✅ AAME - BalanceSheet_Quarter 데이터 삽입 완료\n"
     ]
    },
    {
     "name": "stderr",
     "output_type": "stream",
     "text": [
      "Processing Companies:   0%|          | 5/4204 [00:16<3:35:57,  3.09s/it]"
     ]
    },
    {
     "name": "stdout",
     "output_type": "stream",
     "text": [
      "✅ AAME - CashFlow_Quarter 데이터 삽입 완료\n",
      "✅ AAP - IncomeStatement_Quarter 데이터 삽입 완료\n",
      "✅ AAP - BalanceSheet_Quarter 데이터 삽입 완료\n"
     ]
    },
    {
     "name": "stderr",
     "output_type": "stream",
     "text": [
      "Processing Companies:   0%|          | 6/4204 [00:19<3:31:11,  3.02s/it]"
     ]
    },
    {
     "name": "stdout",
     "output_type": "stream",
     "text": [
      "✅ AAP - CashFlow_Quarter 데이터 삽입 완료\n",
      "✅ AAOI - IncomeStatement_Quarter 데이터 삽입 완료\n",
      "✅ AAOI - BalanceSheet_Quarter 데이터 삽입 완료\n"
     ]
    },
    {
     "name": "stderr",
     "output_type": "stream",
     "text": [
      "Processing Companies:   0%|          | 7/4204 [00:22<3:31:58,  3.03s/it]"
     ]
    },
    {
     "name": "stdout",
     "output_type": "stream",
     "text": [
      "✅ AAOI - CashFlow_Quarter 데이터 삽입 완료\n",
      "✅ AAON - IncomeStatement_Quarter 데이터 삽입 완료\n",
      "✅ AAON - BalanceSheet_Quarter 데이터 삽입 완료\n"
     ]
    },
    {
     "name": "stderr",
     "output_type": "stream",
     "text": [
      "Processing Companies:   0%|          | 8/4204 [00:25<3:36:22,  3.09s/it]"
     ]
    },
    {
     "name": "stdout",
     "output_type": "stream",
     "text": [
      "✅ AAON - CashFlow_Quarter 데이터 삽입 완료\n",
      "✅ AAPL - IncomeStatement_Quarter 데이터 삽입 완료\n",
      "✅ AAPL - BalanceSheet_Quarter 데이터 삽입 완료\n"
     ]
    },
    {
     "name": "stderr",
     "output_type": "stream",
     "text": [
      "Processing Companies:   0%|          | 9/4204 [00:28<3:32:29,  3.04s/it]"
     ]
    },
    {
     "name": "stdout",
     "output_type": "stream",
     "text": [
      "✅ AAPL - CashFlow_Quarter 데이터 삽입 완료\n",
      "✅ ABAT - IncomeStatement_Quarter 데이터 삽입 완료\n",
      "✅ ABAT - BalanceSheet_Quarter 데이터 삽입 완료\n"
     ]
    },
    {
     "name": "stderr",
     "output_type": "stream",
     "text": [
      "Processing Companies:   0%|          | 10/4204 [00:31<3:31:25,  3.02s/it]"
     ]
    },
    {
     "name": "stdout",
     "output_type": "stream",
     "text": [
      "✅ ABAT - CashFlow_Quarter 데이터 삽입 완료\n",
      "✅ ABBV - IncomeStatement_Quarter 데이터 삽입 완료\n",
      "✅ ABBV - BalanceSheet_Quarter 데이터 삽입 완료\n"
     ]
    },
    {
     "name": "stderr",
     "output_type": "stream",
     "text": [
      "Processing Companies:   0%|          | 11/4204 [00:34<3:31:05,  3.02s/it]"
     ]
    },
    {
     "name": "stdout",
     "output_type": "stream",
     "text": [
      "✅ ABBV - CashFlow_Quarter 데이터 삽입 완료\n",
      "✅ ABEO - IncomeStatement_Quarter 데이터 삽입 완료\n",
      "✅ ABEO - BalanceSheet_Quarter 데이터 삽입 완료\n"
     ]
    },
    {
     "name": "stderr",
     "output_type": "stream",
     "text": [
      "Processing Companies:   0%|          | 12/4204 [00:37<3:28:11,  2.98s/it]"
     ]
    },
    {
     "name": "stdout",
     "output_type": "stream",
     "text": [
      "✅ ABEO - CashFlow_Quarter 데이터 삽입 완료\n",
      "✅ ABG - IncomeStatement_Quarter 데이터 삽입 완료\n",
      "✅ ABG - BalanceSheet_Quarter 데이터 삽입 완료\n"
     ]
    },
    {
     "name": "stderr",
     "output_type": "stream",
     "text": [
      "Processing Companies:   0%|          | 13/4204 [00:40<3:25:21,  2.94s/it]"
     ]
    },
    {
     "name": "stdout",
     "output_type": "stream",
     "text": [
      "✅ ABG - CashFlow_Quarter 데이터 삽입 완료\n",
      "✅ ABCB - IncomeStatement_Quarter 데이터 삽입 완료\n",
      "✅ ABCB - BalanceSheet_Quarter 데이터 삽입 완료\n"
     ]
    },
    {
     "name": "stderr",
     "output_type": "stream",
     "text": [
      "Processing Companies:   0%|          | 14/4204 [00:43<3:24:29,  2.93s/it]"
     ]
    },
    {
     "name": "stdout",
     "output_type": "stream",
     "text": [
      "✅ ABCB - CashFlow_Quarter 데이터 삽입 완료\n",
      "✅ ABCL - IncomeStatement_Quarter 데이터 삽입 완료\n",
      "✅ ABCL - BalanceSheet_Quarter 데이터 삽입 완료\n"
     ]
    },
    {
     "name": "stderr",
     "output_type": "stream",
     "text": [
      "Processing Companies:   0%|          | 15/4204 [00:46<3:21:43,  2.89s/it]"
     ]
    },
    {
     "name": "stdout",
     "output_type": "stream",
     "text": [
      "✅ ABCL - CashFlow_Quarter 데이터 삽입 완료\n",
      "✅ ABEV - IncomeStatement_Quarter 데이터 삽입 완료\n",
      "✅ ABEV - BalanceSheet_Quarter 데이터 삽입 완료\n"
     ]
    },
    {
     "name": "stderr",
     "output_type": "stream",
     "text": [
      "Processing Companies:   0%|          | 16/4204 [00:49<3:33:30,  3.06s/it]"
     ]
    },
    {
     "name": "stdout",
     "output_type": "stream",
     "text": [
      "✅ ABEV - CashFlow_Quarter 데이터 삽입 완료\n",
      "✅ ABL - IncomeStatement_Quarter 데이터 삽입 완료\n",
      "✅ ABL - BalanceSheet_Quarter 데이터 삽입 완료\n"
     ]
    },
    {
     "name": "stderr",
     "output_type": "stream",
     "text": [
      "Processing Companies:   0%|          | 17/4204 [00:52<3:36:12,  3.10s/it]"
     ]
    },
    {
     "name": "stdout",
     "output_type": "stream",
     "text": [
      "✅ ABL - CashFlow_Quarter 데이터 삽입 완료\n",
      "✅ ABM - IncomeStatement_Quarter 데이터 삽입 완료\n",
      "✅ ABM - BalanceSheet_Quarter 데이터 삽입 완료\n"
     ]
    },
    {
     "name": "stderr",
     "output_type": "stream",
     "text": [
      "Processing Companies:   0%|          | 18/4204 [00:55<3:32:21,  3.04s/it]"
     ]
    },
    {
     "name": "stdout",
     "output_type": "stream",
     "text": [
      "✅ ABM - CashFlow_Quarter 데이터 삽입 완료\n",
      "✅ ABR - IncomeStatement_Quarter 데이터 삽입 완료\n",
      "✅ ABR - BalanceSheet_Quarter 데이터 삽입 완료\n"
     ]
    },
    {
     "name": "stderr",
     "output_type": "stream",
     "text": [
      "Processing Companies:   0%|          | 19/4204 [00:58<3:27:07,  2.97s/it]"
     ]
    },
    {
     "name": "stdout",
     "output_type": "stream",
     "text": [
      "✅ ABR - CashFlow_Quarter 데이터 삽입 완료\n",
      "✅ ABOS - IncomeStatement_Quarter 데이터 삽입 완료\n",
      "✅ ABOS - BalanceSheet_Quarter 데이터 삽입 완료\n"
     ]
    },
    {
     "name": "stderr",
     "output_type": "stream",
     "text": [
      "Processing Companies:   0%|          | 20/4204 [01:01<3:27:37,  2.98s/it]"
     ]
    },
    {
     "name": "stdout",
     "output_type": "stream",
     "text": [
      "✅ ABOS - CashFlow_Quarter 데이터 삽입 완료\n",
      "✅ ABP - IncomeStatement_Quarter 데이터 삽입 완료\n",
      "✅ ABP - BalanceSheet_Quarter 데이터 삽입 완료\n"
     ]
    },
    {
     "name": "stderr",
     "output_type": "stream",
     "text": [
      "Processing Companies:   0%|          | 21/4204 [01:04<3:25:17,  2.94s/it]"
     ]
    },
    {
     "name": "stdout",
     "output_type": "stream",
     "text": [
      "✅ ABP - CashFlow_Quarter 데이터 삽입 완료\n",
      "✅ ABT - IncomeStatement_Quarter 데이터 삽입 완료\n",
      "✅ ABT - BalanceSheet_Quarter 데이터 삽입 완료\n"
     ]
    },
    {
     "name": "stderr",
     "output_type": "stream",
     "text": [
      "Processing Companies:   1%|          | 22/4204 [01:07<3:38:31,  3.14s/it]"
     ]
    },
    {
     "name": "stdout",
     "output_type": "stream",
     "text": [
      "✅ ABT - CashFlow_Quarter 데이터 삽입 완료\n",
      "✅ ABSI - IncomeStatement_Quarter 데이터 삽입 완료\n",
      "✅ ABSI - BalanceSheet_Quarter 데이터 삽입 완료\n"
     ]
    },
    {
     "name": "stderr",
     "output_type": "stream",
     "text": [
      "Processing Companies:   1%|          | 23/4204 [01:10<3:34:33,  3.08s/it]"
     ]
    },
    {
     "name": "stdout",
     "output_type": "stream",
     "text": [
      "✅ ABSI - CashFlow_Quarter 데이터 삽입 완료\n",
      "✅ ABVC - IncomeStatement_Quarter 데이터 삽입 완료\n",
      "✅ ABVC - BalanceSheet_Quarter 데이터 삽입 완료\n"
     ]
    },
    {
     "name": "stderr",
     "output_type": "stream",
     "text": [
      "Processing Companies:   1%|          | 24/4204 [01:13<3:29:50,  3.01s/it]"
     ]
    },
    {
     "name": "stdout",
     "output_type": "stream",
     "text": [
      "✅ ABVC - CashFlow_Quarter 데이터 삽입 완료\n",
      "✅ ABUS - IncomeStatement_Quarter 데이터 삽입 완료\n",
      "✅ ABUS - BalanceSheet_Quarter 데이터 삽입 완료\n"
     ]
    },
    {
     "name": "stderr",
     "output_type": "stream",
     "text": [
      "Processing Companies:   1%|          | 25/4204 [01:16<3:27:35,  2.98s/it]"
     ]
    },
    {
     "name": "stdout",
     "output_type": "stream",
     "text": [
      "✅ ABUS - CashFlow_Quarter 데이터 삽입 완료\n",
      "✅ ACAD - IncomeStatement_Quarter 데이터 삽입 완료\n",
      "✅ ACAD - BalanceSheet_Quarter 데이터 삽입 완료\n"
     ]
    },
    {
     "name": "stderr",
     "output_type": "stream",
     "text": [
      "Processing Companies:   1%|          | 26/4204 [01:19<3:23:52,  2.93s/it]"
     ]
    },
    {
     "name": "stdout",
     "output_type": "stream",
     "text": [
      "✅ ACAD - CashFlow_Quarter 데이터 삽입 완료\n",
      "✅ ACB - IncomeStatement_Quarter 데이터 삽입 완료\n",
      "✅ ACB - BalanceSheet_Quarter 데이터 삽입 완료\n"
     ]
    },
    {
     "name": "stderr",
     "output_type": "stream",
     "text": [
      "Processing Companies:   1%|          | 27/4204 [01:22<3:22:07,  2.90s/it]"
     ]
    },
    {
     "name": "stdout",
     "output_type": "stream",
     "text": [
      "✅ ACB - CashFlow_Quarter 데이터 삽입 완료\n",
      "✅ ACA - IncomeStatement_Quarter 데이터 삽입 완료\n",
      "✅ ACA - BalanceSheet_Quarter 데이터 삽입 완료\n"
     ]
    },
    {
     "name": "stderr",
     "output_type": "stream",
     "text": [
      "Processing Companies:   1%|          | 28/4204 [01:25<3:22:47,  2.91s/it]"
     ]
    },
    {
     "name": "stdout",
     "output_type": "stream",
     "text": [
      "✅ ACA - CashFlow_Quarter 데이터 삽입 완료\n",
      "✅ ACGL - IncomeStatement_Quarter 데이터 삽입 완료\n",
      "✅ ACGL - BalanceSheet_Quarter 데이터 삽입 완료\n"
     ]
    },
    {
     "name": "stderr",
     "output_type": "stream",
     "text": [
      "Processing Companies:   1%|          | 29/4204 [01:27<3:21:30,  2.90s/it]"
     ]
    },
    {
     "name": "stdout",
     "output_type": "stream",
     "text": [
      "✅ ACGL - CashFlow_Quarter 데이터 삽입 완료\n",
      "✅ ACEL - IncomeStatement_Quarter 데이터 삽입 완료\n",
      "✅ ACEL - BalanceSheet_Quarter 데이터 삽입 완료\n"
     ]
    },
    {
     "name": "stderr",
     "output_type": "stream",
     "text": [
      "Processing Companies:   1%|          | 30/4204 [01:30<3:21:41,  2.90s/it]"
     ]
    },
    {
     "name": "stdout",
     "output_type": "stream",
     "text": [
      "✅ ACEL - CashFlow_Quarter 데이터 삽입 완료\n",
      "✅ ACDC - IncomeStatement_Quarter 데이터 삽입 완료\n",
      "✅ ACDC - BalanceSheet_Quarter 데이터 삽입 완료\n"
     ]
    },
    {
     "name": "stderr",
     "output_type": "stream",
     "text": [
      "Processing Companies:   1%|          | 31/4204 [01:34<3:26:43,  2.97s/it]"
     ]
    },
    {
     "name": "stdout",
     "output_type": "stream",
     "text": [
      "✅ ACDC - CashFlow_Quarter 데이터 삽입 완료\n",
      "✅ ACET - IncomeStatement_Quarter 데이터 삽입 완료\n",
      "✅ ACET - BalanceSheet_Quarter 데이터 삽입 완료\n"
     ]
    },
    {
     "name": "stderr",
     "output_type": "stream",
     "text": [
      "Processing Companies:   1%|          | 32/4204 [01:37<3:28:16,  3.00s/it]"
     ]
    },
    {
     "name": "stdout",
     "output_type": "stream",
     "text": [
      "✅ ACET - CashFlow_Quarter 데이터 삽입 완료\n",
      "✅ ACGLN - IncomeStatement_Quarter 데이터 삽입 완료\n",
      "✅ ACGLN - BalanceSheet_Quarter 데이터 삽입 완료\n"
     ]
    },
    {
     "name": "stderr",
     "output_type": "stream",
     "text": [
      "Processing Companies:   1%|          | 33/4204 [01:40<3:26:33,  2.97s/it]"
     ]
    },
    {
     "name": "stdout",
     "output_type": "stream",
     "text": [
      "✅ ACGLN - CashFlow_Quarter 데이터 삽입 완료\n",
      "✅ ACCS - IncomeStatement_Quarter 데이터 삽입 완료\n",
      "✅ ACCS - BalanceSheet_Quarter 데이터 삽입 완료\n"
     ]
    },
    {
     "name": "stderr",
     "output_type": "stream",
     "text": [
      "Processing Companies:   1%|          | 34/4204 [01:42<3:24:41,  2.95s/it]"
     ]
    },
    {
     "name": "stdout",
     "output_type": "stream",
     "text": [
      "✅ ACCS - CashFlow_Quarter 데이터 삽입 완료\n",
      "✅ ACHV - IncomeStatement_Quarter 데이터 삽입 완료\n",
      "✅ ACHV - BalanceSheet_Quarter 데이터 삽입 완료\n"
     ]
    },
    {
     "name": "stderr",
     "output_type": "stream",
     "text": [
      "Processing Companies:   1%|          | 35/4204 [01:45<3:22:04,  2.91s/it]"
     ]
    },
    {
     "name": "stdout",
     "output_type": "stream",
     "text": [
      "✅ ACHV - CashFlow_Quarter 데이터 삽입 완료\n",
      "✅ ACHC - IncomeStatement_Quarter 데이터 삽입 완료\n",
      "✅ ACHC - BalanceSheet_Quarter 데이터 삽입 완료\n"
     ]
    },
    {
     "name": "stderr",
     "output_type": "stream",
     "text": [
      "Processing Companies:   1%|          | 36/4204 [01:48<3:20:21,  2.88s/it]"
     ]
    },
    {
     "name": "stdout",
     "output_type": "stream",
     "text": [
      "✅ ACHC - CashFlow_Quarter 데이터 삽입 완료\n",
      "✅ ACGLO - IncomeStatement_Quarter 데이터 삽입 완료\n",
      "✅ ACGLO - BalanceSheet_Quarter 데이터 삽입 완료\n"
     ]
    },
    {
     "name": "stderr",
     "output_type": "stream",
     "text": [
      "Processing Companies:   1%|          | 37/4204 [01:51<3:17:36,  2.85s/it]"
     ]
    },
    {
     "name": "stdout",
     "output_type": "stream",
     "text": [
      "✅ ACGLO - CashFlow_Quarter 데이터 삽입 완료\n",
      "✅ ACI - IncomeStatement_Quarter 데이터 삽입 완료\n",
      "✅ ACI - BalanceSheet_Quarter 데이터 삽입 완료\n"
     ]
    },
    {
     "name": "stderr",
     "output_type": "stream",
     "text": [
      "Processing Companies:   1%|          | 38/4204 [01:54<3:17:45,  2.85s/it]"
     ]
    },
    {
     "name": "stdout",
     "output_type": "stream",
     "text": [
      "✅ ACI - CashFlow_Quarter 데이터 삽입 완료\n",
      "✅ ACIC - IncomeStatement_Quarter 데이터 삽입 완료\n",
      "✅ ACIC - BalanceSheet_Quarter 데이터 삽입 완료\n"
     ]
    },
    {
     "name": "stderr",
     "output_type": "stream",
     "text": [
      "Processing Companies:   1%|          | 39/4204 [01:56<3:16:39,  2.83s/it]"
     ]
    },
    {
     "name": "stdout",
     "output_type": "stream",
     "text": [
      "✅ ACIC - CashFlow_Quarter 데이터 삽입 완료\n",
      "✅ ACLX - IncomeStatement_Quarter 데이터 삽입 완료\n",
      "✅ ACLX - BalanceSheet_Quarter 데이터 삽입 완료\n"
     ]
    },
    {
     "name": "stderr",
     "output_type": "stream",
     "text": [
      "Processing Companies:   1%|          | 40/4204 [01:59<3:15:46,  2.82s/it]"
     ]
    },
    {
     "name": "stdout",
     "output_type": "stream",
     "text": [
      "✅ ACLX - CashFlow_Quarter 데이터 삽입 완료\n",
      "✅ ACIU - IncomeStatement_Quarter 데이터 삽입 완료\n",
      "✅ ACIU - BalanceSheet_Quarter 데이터 삽입 완료\n"
     ]
    },
    {
     "name": "stderr",
     "output_type": "stream",
     "text": [
      "Processing Companies:   1%|          | 41/4204 [02:02<3:15:04,  2.81s/it]"
     ]
    },
    {
     "name": "stdout",
     "output_type": "stream",
     "text": [
      "✅ ACIU - CashFlow_Quarter 데이터 삽입 완료\n",
      "✅ ACM - IncomeStatement_Quarter 데이터 삽입 완료\n",
      "✅ ACM - BalanceSheet_Quarter 데이터 삽입 완료\n"
     ]
    },
    {
     "name": "stderr",
     "output_type": "stream",
     "text": [
      "Processing Companies:   1%|          | 42/4204 [02:05<3:15:28,  2.82s/it]"
     ]
    },
    {
     "name": "stdout",
     "output_type": "stream",
     "text": [
      "✅ ACM - CashFlow_Quarter 데이터 삽입 완료\n",
      "✅ ACLS - IncomeStatement_Quarter 데이터 삽입 완료\n",
      "✅ ACLS - BalanceSheet_Quarter 데이터 삽입 완료\n"
     ]
    },
    {
     "name": "stderr",
     "output_type": "stream",
     "text": [
      "Processing Companies:   1%|          | 43/4204 [02:08<3:16:46,  2.84s/it]"
     ]
    },
    {
     "name": "stdout",
     "output_type": "stream",
     "text": [
      "✅ ACLS - CashFlow_Quarter 데이터 삽입 완료\n",
      "✅ ACIW - IncomeStatement_Quarter 데이터 삽입 완료\n",
      "✅ ACIW - BalanceSheet_Quarter 데이터 삽입 완료\n"
     ]
    },
    {
     "name": "stderr",
     "output_type": "stream",
     "text": [
      "Processing Companies:   1%|          | 44/4204 [02:11<3:24:35,  2.95s/it]"
     ]
    },
    {
     "name": "stdout",
     "output_type": "stream",
     "text": [
      "✅ ACIW - CashFlow_Quarter 데이터 삽입 완료\n",
      "✅ ACMR - IncomeStatement_Quarter 데이터 삽입 완료\n",
      "✅ ACMR - BalanceSheet_Quarter 데이터 삽입 완료\n"
     ]
    },
    {
     "name": "stderr",
     "output_type": "stream",
     "text": [
      "Processing Companies:   1%|          | 45/4204 [02:14<3:24:59,  2.96s/it]"
     ]
    },
    {
     "name": "stdout",
     "output_type": "stream",
     "text": [
      "✅ ACMR - CashFlow_Quarter 데이터 삽입 완료\n",
      "✅ ACNB - IncomeStatement_Quarter 데이터 삽입 완료\n",
      "✅ ACNB - BalanceSheet_Quarter 데이터 삽입 완료\n"
     ]
    },
    {
     "name": "stderr",
     "output_type": "stream",
     "text": [
      "Processing Companies:   1%|          | 46/4204 [02:17<3:24:58,  2.96s/it]"
     ]
    },
    {
     "name": "stdout",
     "output_type": "stream",
     "text": [
      "✅ ACNB - CashFlow_Quarter 데이터 삽입 완료\n",
      "✅ ACN - IncomeStatement_Quarter 데이터 삽입 완료\n",
      "✅ ACN - BalanceSheet_Quarter 데이터 삽입 완료\n"
     ]
    },
    {
     "name": "stderr",
     "output_type": "stream",
     "text": [
      "Processing Companies:   1%|          | 47/4204 [02:20<3:22:52,  2.93s/it]"
     ]
    },
    {
     "name": "stdout",
     "output_type": "stream",
     "text": [
      "✅ ACN - CashFlow_Quarter 데이터 삽입 완료\n",
      "✅ ACNT - IncomeStatement_Quarter 데이터 삽입 완료\n",
      "✅ ACNT - BalanceSheet_Quarter 데이터 삽입 완료\n"
     ]
    },
    {
     "name": "stderr",
     "output_type": "stream",
     "text": [
      "Processing Companies:   1%|          | 48/4204 [02:23<3:20:16,  2.89s/it]"
     ]
    },
    {
     "name": "stdout",
     "output_type": "stream",
     "text": [
      "✅ ACNT - CashFlow_Quarter 데이터 삽입 완료\n",
      "✅ ACON - IncomeStatement_Quarter 데이터 삽입 완료\n",
      "✅ ACON - BalanceSheet_Quarter 데이터 삽입 완료\n"
     ]
    },
    {
     "name": "stderr",
     "output_type": "stream",
     "text": [
      "Processing Companies:   1%|          | 49/4204 [02:26<3:22:05,  2.92s/it]"
     ]
    },
    {
     "name": "stdout",
     "output_type": "stream",
     "text": [
      "✅ ACON - CashFlow_Quarter 데이터 삽입 완료\n",
      "✅ ACR - IncomeStatement_Quarter 데이터 삽입 완료\n",
      "✅ ACR - BalanceSheet_Quarter 데이터 삽입 완료\n"
     ]
    },
    {
     "name": "stderr",
     "output_type": "stream",
     "text": [
      "Processing Companies:   1%|          | 50/4204 [02:28<3:17:50,  2.86s/it]"
     ]
    },
    {
     "name": "stdout",
     "output_type": "stream",
     "text": [
      "✅ ACR - CashFlow_Quarter 데이터 삽입 완료\n",
      "✅ ACRE - IncomeStatement_Quarter 데이터 삽입 완료\n",
      "✅ ACRE - BalanceSheet_Quarter 데이터 삽입 완료\n"
     ]
    },
    {
     "name": "stderr",
     "output_type": "stream",
     "text": [
      "Processing Companies:   1%|          | 51/4204 [02:31<3:15:35,  2.83s/it]"
     ]
    },
    {
     "name": "stdout",
     "output_type": "stream",
     "text": [
      "✅ ACRE - CashFlow_Quarter 데이터 삽입 완료\n",
      "✅ ACRS - IncomeStatement_Quarter 데이터 삽입 완료\n",
      "✅ ACRS - BalanceSheet_Quarter 데이터 삽입 완료\n"
     ]
    },
    {
     "name": "stderr",
     "output_type": "stream",
     "text": [
      "Processing Companies:   1%|          | 52/4204 [02:34<3:17:00,  2.85s/it]"
     ]
    },
    {
     "name": "stdout",
     "output_type": "stream",
     "text": [
      "✅ ACRS - CashFlow_Quarter 데이터 삽입 완료\n",
      "✅ ACT - IncomeStatement_Quarter 데이터 삽입 완료\n",
      "✅ ACT - BalanceSheet_Quarter 데이터 삽입 완료\n"
     ]
    },
    {
     "name": "stderr",
     "output_type": "stream",
     "text": [
      "Processing Companies:   1%|▏         | 53/4204 [02:37<3:15:57,  2.83s/it]"
     ]
    },
    {
     "name": "stdout",
     "output_type": "stream",
     "text": [
      "✅ ACT - CashFlow_Quarter 데이터 삽입 완료\n",
      "✅ ACTG - IncomeStatement_Quarter 데이터 삽입 완료\n",
      "✅ ACTG - BalanceSheet_Quarter 데이터 삽입 완료\n"
     ]
    },
    {
     "name": "stderr",
     "output_type": "stream",
     "text": [
      "Processing Companies:   1%|▏         | 54/4204 [02:40<3:21:18,  2.91s/it]"
     ]
    },
    {
     "name": "stdout",
     "output_type": "stream",
     "text": [
      "✅ ACTG - CashFlow_Quarter 데이터 삽입 완료\n",
      "✅ ACU - IncomeStatement_Quarter 데이터 삽입 완료\n",
      "✅ ACU - BalanceSheet_Quarter 데이터 삽입 완료\n"
     ]
    },
    {
     "name": "stderr",
     "output_type": "stream",
     "text": [
      "Processing Companies:   1%|▏         | 55/4204 [02:43<3:22:01,  2.92s/it]"
     ]
    },
    {
     "name": "stdout",
     "output_type": "stream",
     "text": [
      "✅ ACU - CashFlow_Quarter 데이터 삽입 완료\n",
      "✅ ACXP - IncomeStatement_Quarter 데이터 삽입 완료\n",
      "✅ ACXP - BalanceSheet_Quarter 데이터 삽입 완료\n"
     ]
    },
    {
     "name": "stderr",
     "output_type": "stream",
     "text": [
      "Processing Companies:   1%|▏         | 56/4204 [02:46<3:19:27,  2.89s/it]"
     ]
    },
    {
     "name": "stdout",
     "output_type": "stream",
     "text": [
      "✅ ACXP - CashFlow_Quarter 데이터 삽입 완료\n",
      "✅ ACVA - IncomeStatement_Quarter 데이터 삽입 완료\n",
      "✅ ACVA - BalanceSheet_Quarter 데이터 삽입 완료\n"
     ]
    },
    {
     "name": "stderr",
     "output_type": "stream",
     "text": [
      "Processing Companies:   1%|▏         | 57/4204 [02:48<3:16:54,  2.85s/it]"
     ]
    },
    {
     "name": "stdout",
     "output_type": "stream",
     "text": [
      "✅ ACVA - CashFlow_Quarter 데이터 삽입 완료\n",
      "❌ IncomeStatement_Quarter 데이터 없음\n",
      "✅ ADAG - BalanceSheet_Quarter 데이터 삽입 완료\n"
     ]
    },
    {
     "name": "stderr",
     "output_type": "stream",
     "text": [
      "Processing Companies:   1%|▏         | 58/4204 [02:51<3:14:19,  2.81s/it]"
     ]
    },
    {
     "name": "stdout",
     "output_type": "stream",
     "text": [
      "❌ CashFlow_Quarter 데이터 없음\n",
      "✅ ADAP - IncomeStatement_Quarter 데이터 삽입 완료\n",
      "✅ ADAP - BalanceSheet_Quarter 데이터 삽입 완료\n"
     ]
    },
    {
     "name": "stderr",
     "output_type": "stream",
     "text": [
      "Processing Companies:   1%|▏         | 59/4204 [02:54<3:15:11,  2.83s/it]"
     ]
    },
    {
     "name": "stdout",
     "output_type": "stream",
     "text": [
      "✅ ADAP - CashFlow_Quarter 데이터 삽입 완료\n",
      "✅ ADC - IncomeStatement_Quarter 데이터 삽입 완료\n",
      "✅ ADC - BalanceSheet_Quarter 데이터 삽입 완료\n"
     ]
    },
    {
     "name": "stderr",
     "output_type": "stream",
     "text": [
      "Processing Companies:   1%|▏         | 60/4204 [02:57<3:18:02,  2.87s/it]"
     ]
    },
    {
     "name": "stdout",
     "output_type": "stream",
     "text": [
      "✅ ADC - CashFlow_Quarter 데이터 삽입 완료\n",
      "✅ ADBE - IncomeStatement_Quarter 데이터 삽입 완료\n",
      "✅ ADBE - BalanceSheet_Quarter 데이터 삽입 완료\n"
     ]
    },
    {
     "name": "stderr",
     "output_type": "stream",
     "text": [
      "Processing Companies:   1%|▏         | 61/4204 [03:00<3:21:42,  2.92s/it]"
     ]
    },
    {
     "name": "stdout",
     "output_type": "stream",
     "text": [
      "✅ ADBE - CashFlow_Quarter 데이터 삽입 완료\n",
      "✅ ADCT - IncomeStatement_Quarter 데이터 삽입 완료\n",
      "✅ ADCT - BalanceSheet_Quarter 데이터 삽입 완료\n"
     ]
    },
    {
     "name": "stderr",
     "output_type": "stream",
     "text": [
      "Processing Companies:   1%|▏         | 62/4204 [03:03<3:20:03,  2.90s/it]"
     ]
    },
    {
     "name": "stdout",
     "output_type": "stream",
     "text": [
      "✅ ADCT - CashFlow_Quarter 데이터 삽입 완료\n",
      "❌ IncomeStatement_Quarter 데이터 없음\n",
      "✅ ADD - BalanceSheet_Quarter 데이터 삽입 완료\n"
     ]
    },
    {
     "name": "stderr",
     "output_type": "stream",
     "text": [
      "Processing Companies:   1%|▏         | 63/4204 [03:06<3:17:32,  2.86s/it]"
     ]
    },
    {
     "name": "stdout",
     "output_type": "stream",
     "text": [
      "❌ CashFlow_Quarter 데이터 없음\n",
      "✅ ADEA - IncomeStatement_Quarter 데이터 삽입 완료\n",
      "✅ ADEA - BalanceSheet_Quarter 데이터 삽입 완료\n"
     ]
    },
    {
     "name": "stderr",
     "output_type": "stream",
     "text": [
      "Processing Companies:   2%|▏         | 64/4204 [03:08<3:16:50,  2.85s/it]"
     ]
    },
    {
     "name": "stdout",
     "output_type": "stream",
     "text": [
      "✅ ADEA - CashFlow_Quarter 데이터 삽입 완료\n",
      "✅ ADM - IncomeStatement_Quarter 데이터 삽입 완료\n",
      "✅ ADM - BalanceSheet_Quarter 데이터 삽입 완료\n"
     ]
    },
    {
     "name": "stderr",
     "output_type": "stream",
     "text": [
      "Processing Companies:   2%|▏         | 65/4204 [03:11<3:19:38,  2.89s/it]"
     ]
    },
    {
     "name": "stdout",
     "output_type": "stream",
     "text": [
      "✅ ADM - CashFlow_Quarter 데이터 삽입 완료\n",
      "✅ ADN - IncomeStatement_Quarter 데이터 삽입 완료\n",
      "✅ ADN - BalanceSheet_Quarter 데이터 삽입 완료\n"
     ]
    },
    {
     "name": "stderr",
     "output_type": "stream",
     "text": [
      "Processing Companies:   2%|▏         | 66/4204 [03:14<3:18:39,  2.88s/it]"
     ]
    },
    {
     "name": "stdout",
     "output_type": "stream",
     "text": [
      "✅ ADN - CashFlow_Quarter 데이터 삽입 완료\n",
      "✅ ADMA - IncomeStatement_Quarter 데이터 삽입 완료\n",
      "✅ ADMA - BalanceSheet_Quarter 데이터 삽입 완료\n"
     ]
    },
    {
     "name": "stderr",
     "output_type": "stream",
     "text": [
      "Processing Companies:   2%|▏         | 67/4204 [03:17<3:20:16,  2.90s/it]"
     ]
    },
    {
     "name": "stdout",
     "output_type": "stream",
     "text": [
      "✅ ADMA - CashFlow_Quarter 데이터 삽입 완료\n",
      "✅ ADPT - IncomeStatement_Quarter 데이터 삽입 완료\n",
      "✅ ADPT - BalanceSheet_Quarter 데이터 삽입 완료\n"
     ]
    },
    {
     "name": "stderr",
     "output_type": "stream",
     "text": [
      "Processing Companies:   2%|▏         | 68/4204 [03:20<3:18:08,  2.87s/it]"
     ]
    },
    {
     "name": "stdout",
     "output_type": "stream",
     "text": [
      "✅ ADPT - CashFlow_Quarter 데이터 삽입 완료\n",
      "✅ ADNT - IncomeStatement_Quarter 데이터 삽입 완료\n",
      "✅ ADNT - BalanceSheet_Quarter 데이터 삽입 완료\n"
     ]
    },
    {
     "name": "stderr",
     "output_type": "stream",
     "text": [
      "Processing Companies:   2%|▏         | 69/4204 [03:23<3:18:23,  2.88s/it]"
     ]
    },
    {
     "name": "stdout",
     "output_type": "stream",
     "text": [
      "✅ ADNT - CashFlow_Quarter 데이터 삽입 완료\n",
      "✅ ADP - IncomeStatement_Quarter 데이터 삽입 완료\n",
      "✅ ADP - BalanceSheet_Quarter 데이터 삽입 완료\n"
     ]
    },
    {
     "name": "stderr",
     "output_type": "stream",
     "text": [
      "Processing Companies:   2%|▏         | 70/4204 [03:26<3:19:59,  2.90s/it]"
     ]
    },
    {
     "name": "stdout",
     "output_type": "stream",
     "text": [
      "✅ ADP - CashFlow_Quarter 데이터 삽입 완료\n",
      "❌ IncomeStatement_Quarter 데이터 없음\n",
      "✅ ADSE - BalanceSheet_Quarter 데이터 삽입 완료\n"
     ]
    },
    {
     "name": "stderr",
     "output_type": "stream",
     "text": [
      "Processing Companies:   2%|▏         | 71/4204 [03:29<3:16:12,  2.85s/it]"
     ]
    },
    {
     "name": "stdout",
     "output_type": "stream",
     "text": [
      "❌ CashFlow_Quarter 데이터 없음\n",
      "✅ ADSK - IncomeStatement_Quarter 데이터 삽입 완료\n",
      "✅ ADSK - BalanceSheet_Quarter 데이터 삽입 완료\n"
     ]
    },
    {
     "name": "stderr",
     "output_type": "stream",
     "text": [
      "Processing Companies:   2%|▏         | 72/4204 [03:31<3:16:44,  2.86s/it]"
     ]
    },
    {
     "name": "stdout",
     "output_type": "stream",
     "text": [
      "✅ ADSK - CashFlow_Quarter 데이터 삽입 완료\n",
      "✅ ADTX - IncomeStatement_Quarter 데이터 삽입 완료\n",
      "✅ ADTX - BalanceSheet_Quarter 데이터 삽입 완료\n"
     ]
    },
    {
     "name": "stderr",
     "output_type": "stream",
     "text": [
      "Processing Companies:   2%|▏         | 73/4204 [03:34<3:15:43,  2.84s/it]"
     ]
    },
    {
     "name": "stdout",
     "output_type": "stream",
     "text": [
      "✅ ADTX - CashFlow_Quarter 데이터 삽입 완료\n",
      "✅ ADT - IncomeStatement_Quarter 데이터 삽입 완료\n",
      "✅ ADT - BalanceSheet_Quarter 데이터 삽입 완료\n"
     ]
    },
    {
     "name": "stderr",
     "output_type": "stream",
     "text": [
      "Processing Companies:   2%|▏         | 74/4204 [03:37<3:16:25,  2.85s/it]"
     ]
    },
    {
     "name": "stdout",
     "output_type": "stream",
     "text": [
      "✅ ADT - CashFlow_Quarter 데이터 삽입 완료\n",
      "✅ ADTN - IncomeStatement_Quarter 데이터 삽입 완료\n",
      "✅ ADTN - BalanceSheet_Quarter 데이터 삽입 완료\n"
     ]
    },
    {
     "name": "stderr",
     "output_type": "stream",
     "text": [
      "Processing Companies:   2%|▏         | 75/4204 [03:40<3:15:33,  2.84s/it]"
     ]
    },
    {
     "name": "stdout",
     "output_type": "stream",
     "text": [
      "✅ ADTN - CashFlow_Quarter 데이터 삽입 완료\n",
      "✅ ADUS - IncomeStatement_Quarter 데이터 삽입 완료\n",
      "✅ ADUS - BalanceSheet_Quarter 데이터 삽입 완료\n"
     ]
    },
    {
     "name": "stderr",
     "output_type": "stream",
     "text": [
      "Processing Companies:   2%|▏         | 76/4204 [03:43<3:13:22,  2.81s/it]"
     ]
    },
    {
     "name": "stdout",
     "output_type": "stream",
     "text": [
      "✅ ADUS - CashFlow_Quarter 데이터 삽입 완료\n",
      "✅ ADV - IncomeStatement_Quarter 데이터 삽입 완료\n",
      "✅ ADV - BalanceSheet_Quarter 데이터 삽입 완료\n"
     ]
    },
    {
     "name": "stderr",
     "output_type": "stream",
     "text": [
      "Processing Companies:   2%|▏         | 77/4204 [03:47<3:40:09,  3.20s/it]"
     ]
    },
    {
     "name": "stdout",
     "output_type": "stream",
     "text": [
      "✅ ADV - CashFlow_Quarter 데이터 삽입 완료\n",
      "✅ ADVM - IncomeStatement_Quarter 데이터 삽입 완료\n",
      "✅ ADVM - BalanceSheet_Quarter 데이터 삽입 완료\n"
     ]
    },
    {
     "name": "stderr",
     "output_type": "stream",
     "text": [
      "Processing Companies:   2%|▏         | 78/4204 [03:50<3:32:37,  3.09s/it]"
     ]
    },
    {
     "name": "stdout",
     "output_type": "stream",
     "text": [
      "✅ ADVM - CashFlow_Quarter 데이터 삽입 완료\n",
      "✅ ADXN - IncomeStatement_Quarter 데이터 삽입 완료\n",
      "✅ ADXN - BalanceSheet_Quarter 데이터 삽입 완료\n"
     ]
    },
    {
     "name": "stderr",
     "output_type": "stream",
     "text": [
      "Processing Companies:   2%|▏         | 79/4204 [03:52<3:26:39,  3.01s/it]"
     ]
    },
    {
     "name": "stdout",
     "output_type": "stream",
     "text": [
      "✅ ADXN - CashFlow_Quarter 데이터 삽입 완료\n",
      "✅ AEE - IncomeStatement_Quarter 데이터 삽입 완료\n",
      "✅ AEE - BalanceSheet_Quarter 데이터 삽입 완료\n"
     ]
    },
    {
     "name": "stderr",
     "output_type": "stream",
     "text": [
      "Processing Companies:   2%|▏         | 80/4204 [03:55<3:25:18,  2.99s/it]"
     ]
    },
    {
     "name": "stdout",
     "output_type": "stream",
     "text": [
      "✅ AEE - CashFlow_Quarter 데이터 삽입 완료\n",
      "❌ IncomeStatement_Quarter 데이터 없음\n",
      "✅ AEG - BalanceSheet_Quarter 데이터 삽입 완료\n"
     ]
    },
    {
     "name": "stderr",
     "output_type": "stream",
     "text": [
      "Processing Companies:   2%|▏         | 81/4204 [03:58<3:19:38,  2.91s/it]"
     ]
    },
    {
     "name": "stdout",
     "output_type": "stream",
     "text": [
      "❌ CashFlow_Quarter 데이터 없음\n",
      "❌ IncomeStatement_Quarter 데이터 없음\n",
      "✅ AEHL - BalanceSheet_Quarter 데이터 삽입 완료\n"
     ]
    },
    {
     "name": "stderr",
     "output_type": "stream",
     "text": [
      "Processing Companies:   2%|▏         | 82/4204 [04:01<3:17:09,  2.87s/it]"
     ]
    },
    {
     "name": "stdout",
     "output_type": "stream",
     "text": [
      "❌ CashFlow_Quarter 데이터 없음\n",
      "✅ AEHR - IncomeStatement_Quarter 데이터 삽입 완료\n",
      "✅ AEHR - BalanceSheet_Quarter 데이터 삽입 완료\n"
     ]
    },
    {
     "name": "stderr",
     "output_type": "stream",
     "text": [
      "Processing Companies:   2%|▏         | 83/4204 [04:04<3:17:42,  2.88s/it]"
     ]
    },
    {
     "name": "stdout",
     "output_type": "stream",
     "text": [
      "✅ AEHR - CashFlow_Quarter 데이터 삽입 완료\n",
      "✅ AEIS - IncomeStatement_Quarter 데이터 삽입 완료\n",
      "✅ AEIS - BalanceSheet_Quarter 데이터 삽입 완료\n"
     ]
    },
    {
     "name": "stderr",
     "output_type": "stream",
     "text": [
      "Processing Companies:   2%|▏         | 84/4204 [04:07<3:19:08,  2.90s/it]"
     ]
    },
    {
     "name": "stdout",
     "output_type": "stream",
     "text": [
      "✅ AEIS - CashFlow_Quarter 데이터 삽입 완료\n",
      "✅ AEI - IncomeStatement_Quarter 데이터 삽입 완료\n",
      "✅ AEI - BalanceSheet_Quarter 데이터 삽입 완료\n"
     ]
    },
    {
     "name": "stderr",
     "output_type": "stream",
     "text": [
      "Processing Companies:   2%|▏         | 85/4204 [04:10<3:18:03,  2.88s/it]"
     ]
    },
    {
     "name": "stdout",
     "output_type": "stream",
     "text": [
      "✅ AEI - CashFlow_Quarter 데이터 삽입 완료\n",
      "✅ AEM - IncomeStatement_Quarter 데이터 삽입 완료\n",
      "✅ AEM - BalanceSheet_Quarter 데이터 삽입 완료\n"
     ]
    },
    {
     "name": "stderr",
     "output_type": "stream",
     "text": [
      "Processing Companies:   2%|▏         | 86/4204 [04:13<3:24:21,  2.98s/it]"
     ]
    },
    {
     "name": "stdout",
     "output_type": "stream",
     "text": [
      "✅ AEM - CashFlow_Quarter 데이터 삽입 완료\n",
      "✅ AENT - IncomeStatement_Quarter 데이터 삽입 완료\n",
      "✅ AENT - BalanceSheet_Quarter 데이터 삽입 완료\n"
     ]
    },
    {
     "name": "stderr",
     "output_type": "stream",
     "text": [
      "Processing Companies:   2%|▏         | 87/4204 [04:16<3:21:12,  2.93s/it]"
     ]
    },
    {
     "name": "stdout",
     "output_type": "stream",
     "text": [
      "✅ AENT - CashFlow_Quarter 데이터 삽입 완료\n",
      "✅ AEMD - IncomeStatement_Quarter 데이터 삽입 완료\n",
      "✅ AEMD - BalanceSheet_Quarter 데이터 삽입 완료\n"
     ]
    },
    {
     "name": "stderr",
     "output_type": "stream",
     "text": [
      "Processing Companies:   2%|▏         | 88/4204 [04:18<3:18:25,  2.89s/it]"
     ]
    },
    {
     "name": "stdout",
     "output_type": "stream",
     "text": [
      "✅ AEMD - CashFlow_Quarter 데이터 삽입 완료\n",
      "✅ AEO - IncomeStatement_Quarter 데이터 삽입 완료\n",
      "✅ AEO - BalanceSheet_Quarter 데이터 삽입 완료\n"
     ]
    },
    {
     "name": "stderr",
     "output_type": "stream",
     "text": [
      "Processing Companies:   2%|▏         | 89/4204 [04:21<3:20:00,  2.92s/it]"
     ]
    },
    {
     "name": "stdout",
     "output_type": "stream",
     "text": [
      "✅ AEO - CashFlow_Quarter 데이터 삽입 완료\n",
      "✅ AERT - IncomeStatement_Quarter 데이터 삽입 완료\n",
      "✅ AERT - BalanceSheet_Quarter 데이터 삽입 완료\n"
     ]
    },
    {
     "name": "stderr",
     "output_type": "stream",
     "text": [
      "Processing Companies:   2%|▏         | 90/4204 [04:24<3:17:45,  2.88s/it]"
     ]
    },
    {
     "name": "stdout",
     "output_type": "stream",
     "text": [
      "✅ AERT - CashFlow_Quarter 데이터 삽입 완료\n",
      "✅ AES - IncomeStatement_Quarter 데이터 삽입 완료\n",
      "✅ AES - BalanceSheet_Quarter 데이터 삽입 완료\n"
     ]
    },
    {
     "name": "stderr",
     "output_type": "stream",
     "text": [
      "Processing Companies:   2%|▏         | 91/4204 [04:27<3:18:03,  2.89s/it]"
     ]
    },
    {
     "name": "stdout",
     "output_type": "stream",
     "text": [
      "✅ AES - CashFlow_Quarter 데이터 삽입 완료\n",
      "✅ AER - IncomeStatement_Quarter 데이터 삽입 완료\n",
      "✅ AER - BalanceSheet_Quarter 데이터 삽입 완료\n"
     ]
    },
    {
     "name": "stderr",
     "output_type": "stream",
     "text": [
      "Processing Companies:   2%|▏         | 92/4204 [04:30<3:16:23,  2.87s/it]"
     ]
    },
    {
     "name": "stdout",
     "output_type": "stream",
     "text": [
      "✅ AER - CashFlow_Quarter 데이터 삽입 완료\n",
      "✅ AEP - IncomeStatement_Quarter 데이터 삽입 완료\n",
      "✅ AEP - BalanceSheet_Quarter 데이터 삽입 완료\n"
     ]
    },
    {
     "name": "stderr",
     "output_type": "stream",
     "text": [
      "Processing Companies:   2%|▏         | 93/4204 [04:33<3:17:39,  2.88s/it]"
     ]
    },
    {
     "name": "stdout",
     "output_type": "stream",
     "text": [
      "✅ AEP - CashFlow_Quarter 데이터 삽입 완료\n",
      "✅ AEVA - IncomeStatement_Quarter 데이터 삽입 완료\n",
      "✅ AEVA - BalanceSheet_Quarter 데이터 삽입 완료\n"
     ]
    },
    {
     "name": "stderr",
     "output_type": "stream",
     "text": [
      "Processing Companies:   2%|▏         | 94/4204 [04:36<3:17:32,  2.88s/it]"
     ]
    },
    {
     "name": "stdout",
     "output_type": "stream",
     "text": [
      "✅ AEVA - CashFlow_Quarter 데이터 삽입 완료\n",
      "✅ AEYE - IncomeStatement_Quarter 데이터 삽입 완료\n",
      "✅ AEYE - BalanceSheet_Quarter 데이터 삽입 완료\n"
     ]
    },
    {
     "name": "stderr",
     "output_type": "stream",
     "text": [
      "Processing Companies:   2%|▏         | 95/4204 [04:38<3:15:07,  2.85s/it]"
     ]
    },
    {
     "name": "stdout",
     "output_type": "stream",
     "text": [
      "✅ AEYE - CashFlow_Quarter 데이터 삽입 완료\n",
      "✅ AFBI - IncomeStatement_Quarter 데이터 삽입 완료\n",
      "✅ AFBI - BalanceSheet_Quarter 데이터 삽입 완료\n"
     ]
    },
    {
     "name": "stderr",
     "output_type": "stream",
     "text": [
      "Processing Companies:   2%|▏         | 96/4204 [04:41<3:14:03,  2.83s/it]"
     ]
    },
    {
     "name": "stdout",
     "output_type": "stream",
     "text": [
      "✅ AFBI - CashFlow_Quarter 데이터 삽입 완료\n",
      "✅ AFCG - IncomeStatement_Quarter 데이터 삽입 완료\n",
      "✅ AFCG - BalanceSheet_Quarter 데이터 삽입 완료\n"
     ]
    },
    {
     "name": "stderr",
     "output_type": "stream",
     "text": [
      "Processing Companies:   2%|▏         | 97/4204 [04:44<3:13:48,  2.83s/it]"
     ]
    },
    {
     "name": "stdout",
     "output_type": "stream",
     "text": [
      "✅ AFCG - CashFlow_Quarter 데이터 삽입 완료\n",
      "✅ AFG - IncomeStatement_Quarter 데이터 삽입 완료\n",
      "✅ AFG - BalanceSheet_Quarter 데이터 삽입 완료\n"
     ]
    },
    {
     "name": "stderr",
     "output_type": "stream",
     "text": [
      "Processing Companies:   2%|▏         | 98/4204 [04:47<3:15:43,  2.86s/it]"
     ]
    },
    {
     "name": "stdout",
     "output_type": "stream",
     "text": [
      "✅ AFG - CashFlow_Quarter 데이터 삽입 완료\n",
      "✅ AFL - IncomeStatement_Quarter 데이터 삽입 완료\n",
      "✅ AFL - BalanceSheet_Quarter 데이터 삽입 완료\n"
     ]
    },
    {
     "name": "stderr",
     "output_type": "stream",
     "text": [
      "Processing Companies:   2%|▏         | 99/4204 [04:50<3:15:36,  2.86s/it]"
     ]
    },
    {
     "name": "stdout",
     "output_type": "stream",
     "text": [
      "✅ AFL - CashFlow_Quarter 데이터 삽입 완료\n",
      "❌ IncomeStatement_Quarter 데이터 없음\n",
      "✅ AFRI - BalanceSheet_Quarter 데이터 삽입 완료\n"
     ]
    },
    {
     "name": "stderr",
     "output_type": "stream",
     "text": [
      "Processing Companies:   2%|▏         | 100/4204 [04:53<3:13:29,  2.83s/it]"
     ]
    },
    {
     "name": "stdout",
     "output_type": "stream",
     "text": [
      "❌ CashFlow_Quarter 데이터 없음\n",
      "✅ AG - IncomeStatement_Quarter 데이터 삽입 완료\n",
      "✅ AG - BalanceSheet_Quarter 데이터 삽입 완료\n"
     ]
    },
    {
     "name": "stderr",
     "output_type": "stream",
     "text": [
      "Processing Companies:   2%|▏         | 101/4204 [04:55<3:14:43,  2.85s/it]"
     ]
    },
    {
     "name": "stdout",
     "output_type": "stream",
     "text": [
      "✅ AG - CashFlow_Quarter 데이터 삽입 완료\n",
      "✅ AFRM - IncomeStatement_Quarter 데이터 삽입 완료\n",
      "✅ AFRM - BalanceSheet_Quarter 데이터 삽입 완료\n"
     ]
    },
    {
     "name": "stderr",
     "output_type": "stream",
     "text": [
      "Processing Companies:   2%|▏         | 102/4204 [04:59<3:18:55,  2.91s/it]"
     ]
    },
    {
     "name": "stdout",
     "output_type": "stream",
     "text": [
      "✅ AFRM - CashFlow_Quarter 데이터 삽입 완료\n",
      "✅ AGAE - IncomeStatement_Quarter 데이터 삽입 완료\n",
      "✅ AGAE - BalanceSheet_Quarter 데이터 삽입 완료\n"
     ]
    },
    {
     "name": "stderr",
     "output_type": "stream",
     "text": [
      "Processing Companies:   2%|▏         | 103/4204 [05:01<3:15:49,  2.87s/it]"
     ]
    },
    {
     "name": "stdout",
     "output_type": "stream",
     "text": [
      "✅ AGAE - CashFlow_Quarter 데이터 삽입 완료\n",
      "✅ AFYA - IncomeStatement_Quarter 데이터 삽입 완료\n",
      "✅ AFYA - BalanceSheet_Quarter 데이터 삽입 완료\n"
     ]
    },
    {
     "name": "stderr",
     "output_type": "stream",
     "text": [
      "Processing Companies:   2%|▏         | 104/4204 [05:04<3:15:08,  2.86s/it]"
     ]
    },
    {
     "name": "stdout",
     "output_type": "stream",
     "text": [
      "✅ AFYA - CashFlow_Quarter 데이터 삽입 완료\n",
      "✅ AGCO - IncomeStatement_Quarter 데이터 삽입 완료\n",
      "✅ AGCO - BalanceSheet_Quarter 데이터 삽입 완료\n"
     ]
    },
    {
     "name": "stderr",
     "output_type": "stream",
     "text": [
      "Processing Companies:   2%|▏         | 105/4204 [05:07<3:16:04,  2.87s/it]"
     ]
    },
    {
     "name": "stdout",
     "output_type": "stream",
     "text": [
      "✅ AGCO - CashFlow_Quarter 데이터 삽입 완료\n",
      "✅ AGEN - IncomeStatement_Quarter 데이터 삽입 완료\n",
      "✅ AGEN - BalanceSheet_Quarter 데이터 삽입 완료\n"
     ]
    },
    {
     "name": "stderr",
     "output_type": "stream",
     "text": [
      "Processing Companies:   3%|▎         | 106/4204 [05:10<3:16:26,  2.88s/it]"
     ]
    },
    {
     "name": "stdout",
     "output_type": "stream",
     "text": [
      "✅ AGEN - CashFlow_Quarter 데이터 삽입 완료\n",
      "✅ AGI - IncomeStatement_Quarter 데이터 삽입 완료\n",
      "✅ AGI - BalanceSheet_Quarter 데이터 삽입 완료\n"
     ]
    },
    {
     "name": "stderr",
     "output_type": "stream",
     "text": [
      "Processing Companies:   3%|▎         | 107/4204 [05:13<3:17:02,  2.89s/it]"
     ]
    },
    {
     "name": "stdout",
     "output_type": "stream",
     "text": [
      "✅ AGI - CashFlow_Quarter 데이터 삽입 완료\n",
      "✅ AGFY - IncomeStatement_Quarter 데이터 삽입 완료\n",
      "✅ AGFY - BalanceSheet_Quarter 데이터 삽입 완료\n"
     ]
    },
    {
     "name": "stderr",
     "output_type": "stream",
     "text": [
      "Processing Companies:   3%|▎         | 108/4204 [05:16<3:15:37,  2.87s/it]"
     ]
    },
    {
     "name": "stdout",
     "output_type": "stream",
     "text": [
      "✅ AGFY - CashFlow_Quarter 데이터 삽입 완료\n",
      "✅ AGM - IncomeStatement_Quarter 데이터 삽입 완료\n",
      "✅ AGM - BalanceSheet_Quarter 데이터 삽입 완료\n"
     ]
    },
    {
     "name": "stderr",
     "output_type": "stream",
     "text": [
      "Processing Companies:   3%|▎         | 109/4204 [05:18<3:14:09,  2.84s/it]"
     ]
    },
    {
     "name": "stdout",
     "output_type": "stream",
     "text": [
      "✅ AGM - CashFlow_Quarter 데이터 삽입 완료\n",
      "✅ AGL - IncomeStatement_Quarter 데이터 삽입 완료\n",
      "✅ AGL - BalanceSheet_Quarter 데이터 삽입 완료\n"
     ]
    },
    {
     "name": "stderr",
     "output_type": "stream",
     "text": [
      "Processing Companies:   3%|▎         | 110/4204 [05:21<3:15:57,  2.87s/it]"
     ]
    },
    {
     "name": "stdout",
     "output_type": "stream",
     "text": [
      "✅ AGL - CashFlow_Quarter 데이터 삽입 완료\n",
      "✅ AGIO - IncomeStatement_Quarter 데이터 삽입 완료\n",
      "✅ AGIO - BalanceSheet_Quarter 데이터 삽입 완료\n"
     ]
    },
    {
     "name": "stderr",
     "output_type": "stream",
     "text": [
      "Processing Companies:   3%|▎         | 111/4204 [05:24<3:14:42,  2.85s/it]"
     ]
    },
    {
     "name": "stdout",
     "output_type": "stream",
     "text": [
      "✅ AGIO - CashFlow_Quarter 데이터 삽입 완료\n",
      "❌ IncomeStatement_Quarter 데이터 없음\n",
      "✅ AGMH - BalanceSheet_Quarter 데이터 삽입 완료\n"
     ]
    },
    {
     "name": "stderr",
     "output_type": "stream",
     "text": [
      "Processing Companies:   3%|▎         | 112/4204 [05:27<3:11:44,  2.81s/it]"
     ]
    },
    {
     "name": "stdout",
     "output_type": "stream",
     "text": [
      "❌ CashFlow_Quarter 데이터 없음\n",
      "✅ AGNC - IncomeStatement_Quarter 데이터 삽입 완료\n",
      "✅ AGNC - BalanceSheet_Quarter 데이터 삽입 완료\n"
     ]
    },
    {
     "name": "stderr",
     "output_type": "stream",
     "text": [
      "Processing Companies:   3%|▎         | 113/4204 [05:30<3:11:58,  2.82s/it]"
     ]
    },
    {
     "name": "stdout",
     "output_type": "stream",
     "text": [
      "✅ AGNC - CashFlow_Quarter 데이터 삽입 완료\n",
      "✅ AGNCN - IncomeStatement_Quarter 데이터 삽입 완료\n",
      "✅ AGNCN - BalanceSheet_Quarter 데이터 삽입 완료\n"
     ]
    },
    {
     "name": "stderr",
     "output_type": "stream",
     "text": [
      "Processing Companies:   3%|▎         | 114/4204 [05:32<3:10:36,  2.80s/it]"
     ]
    },
    {
     "name": "stdout",
     "output_type": "stream",
     "text": [
      "✅ AGNCN - CashFlow_Quarter 데이터 삽입 완료\n",
      "✅ AGNCM - IncomeStatement_Quarter 데이터 삽입 완료\n",
      "✅ AGNCM - BalanceSheet_Quarter 데이터 삽입 완료\n"
     ]
    },
    {
     "name": "stderr",
     "output_type": "stream",
     "text": [
      "Processing Companies:   3%|▎         | 115/4204 [05:35<3:11:03,  2.80s/it]"
     ]
    },
    {
     "name": "stdout",
     "output_type": "stream",
     "text": [
      "✅ AGNCM - CashFlow_Quarter 데이터 삽입 완료\n",
      "✅ AGNCO - IncomeStatement_Quarter 데이터 삽입 완료\n",
      "✅ AGNCO - BalanceSheet_Quarter 데이터 삽입 완료\n"
     ]
    },
    {
     "name": "stderr",
     "output_type": "stream",
     "text": [
      "Processing Companies:   3%|▎         | 116/4204 [05:38<3:10:26,  2.80s/it]"
     ]
    },
    {
     "name": "stdout",
     "output_type": "stream",
     "text": [
      "✅ AGNCO - CashFlow_Quarter 데이터 삽입 완료\n",
      "✅ AGNCP - IncomeStatement_Quarter 데이터 삽입 완료\n",
      "✅ AGNCP - BalanceSheet_Quarter 데이터 삽입 완료\n"
     ]
    },
    {
     "name": "stderr",
     "output_type": "stream",
     "text": [
      "Processing Companies:   3%|▎         | 117/4204 [05:41<3:09:33,  2.78s/it]"
     ]
    },
    {
     "name": "stdout",
     "output_type": "stream",
     "text": [
      "✅ AGNCP - CashFlow_Quarter 데이터 삽입 완료\n",
      "✅ AGO - IncomeStatement_Quarter 데이터 삽입 완료\n",
      "✅ AGO - BalanceSheet_Quarter 데이터 삽입 완료\n"
     ]
    },
    {
     "name": "stderr",
     "output_type": "stream",
     "text": [
      "Processing Companies:   3%|▎         | 118/4204 [05:44<3:14:57,  2.86s/it]"
     ]
    },
    {
     "name": "stdout",
     "output_type": "stream",
     "text": [
      "✅ AGO - CashFlow_Quarter 데이터 삽입 완료\n",
      "✅ AGRO - IncomeStatement_Quarter 데이터 삽입 완료\n",
      "✅ AGRO - BalanceSheet_Quarter 데이터 삽입 완료\n"
     ]
    },
    {
     "name": "stderr",
     "output_type": "stream",
     "text": [
      "Processing Companies:   3%|▎         | 119/4204 [05:47<3:19:58,  2.94s/it]"
     ]
    },
    {
     "name": "stdout",
     "output_type": "stream",
     "text": [
      "✅ AGRO - CashFlow_Quarter 데이터 삽입 완료\n",
      "✅ AGRI - IncomeStatement_Quarter 데이터 삽입 완료\n",
      "✅ AGRI - BalanceSheet_Quarter 데이터 삽입 완료\n"
     ]
    },
    {
     "name": "stderr",
     "output_type": "stream",
     "text": [
      "Processing Companies:   3%|▎         | 120/4204 [05:50<3:18:21,  2.91s/it]"
     ]
    },
    {
     "name": "stdout",
     "output_type": "stream",
     "text": [
      "✅ AGRI - CashFlow_Quarter 데이터 삽입 완료\n"
     ]
    },
    {
     "name": "stderr",
     "output_type": "stream",
     "text": [
      "$AGS: possibly delisted; no price data found  (period=5d)\n"
     ]
    },
    {
     "name": "stdout",
     "output_type": "stream",
     "text": [
      "✅ AGS - IncomeStatement_Quarter 데이터 삽입 완료\n",
      "✅ AGS - BalanceSheet_Quarter 데이터 삽입 완료\n"
     ]
    },
    {
     "name": "stderr",
     "output_type": "stream",
     "text": [
      "Processing Companies:   3%|▎         | 121/4204 [05:53<3:20:01,  2.94s/it]"
     ]
    },
    {
     "name": "stdout",
     "output_type": "stream",
     "text": [
      "✅ AGS - CashFlow_Quarter 데이터 삽입 완료\n",
      "✅ AGX - IncomeStatement_Quarter 데이터 삽입 완료\n",
      "✅ AGX - BalanceSheet_Quarter 데이터 삽입 완료\n"
     ]
    },
    {
     "name": "stderr",
     "output_type": "stream",
     "text": [
      "Processing Companies:   3%|▎         | 122/4204 [05:56<3:17:37,  2.90s/it]"
     ]
    },
    {
     "name": "stdout",
     "output_type": "stream",
     "text": [
      "✅ AGX - CashFlow_Quarter 데이터 삽입 완료\n",
      "✅ AGYS - IncomeStatement_Quarter 데이터 삽입 완료\n",
      "✅ AGYS - BalanceSheet_Quarter 데이터 삽입 완료\n"
     ]
    },
    {
     "name": "stderr",
     "output_type": "stream",
     "text": [
      "Processing Companies:   3%|▎         | 123/4204 [05:59<3:20:37,  2.95s/it]"
     ]
    },
    {
     "name": "stdout",
     "output_type": "stream",
     "text": [
      "✅ AGYS - CashFlow_Quarter 데이터 삽입 완료\n",
      "✅ AHCO - IncomeStatement_Quarter 데이터 삽입 완료\n",
      "✅ AHCO - BalanceSheet_Quarter 데이터 삽입 완료\n"
     ]
    },
    {
     "name": "stderr",
     "output_type": "stream",
     "text": [
      "Processing Companies:   3%|▎         | 124/4204 [06:02<3:18:34,  2.92s/it]"
     ]
    },
    {
     "name": "stdout",
     "output_type": "stream",
     "text": [
      "✅ AHCO - CashFlow_Quarter 데이터 삽입 완료\n",
      "❌ IncomeStatement_Quarter 데이터 없음\n",
      "✅ AHG - BalanceSheet_Quarter 데이터 삽입 완료\n"
     ]
    },
    {
     "name": "stderr",
     "output_type": "stream",
     "text": [
      "Processing Companies:   3%|▎         | 125/4204 [06:04<3:14:31,  2.86s/it]"
     ]
    },
    {
     "name": "stdout",
     "output_type": "stream",
     "text": [
      "❌ CashFlow_Quarter 데이터 없음\n",
      "✅ AHH - IncomeStatement_Quarter 데이터 삽입 완료\n",
      "✅ AHH - BalanceSheet_Quarter 데이터 삽입 완료\n"
     ]
    },
    {
     "name": "stderr",
     "output_type": "stream",
     "text": [
      "Processing Companies:   3%|▎         | 126/4204 [06:07<3:16:51,  2.90s/it]"
     ]
    },
    {
     "name": "stdout",
     "output_type": "stream",
     "text": [
      "✅ AHH - CashFlow_Quarter 데이터 삽입 완료\n",
      "✅ AHT - IncomeStatement_Quarter 데이터 삽입 완료\n",
      "✅ AHT - BalanceSheet_Quarter 데이터 삽입 완료\n"
     ]
    },
    {
     "name": "stderr",
     "output_type": "stream",
     "text": [
      "Processing Companies:   3%|▎         | 127/4204 [06:10<3:15:54,  2.88s/it]"
     ]
    },
    {
     "name": "stdout",
     "output_type": "stream",
     "text": [
      "✅ AHT - CashFlow_Quarter 데이터 삽입 완료\n",
      "✅ AIFU - IncomeStatement_Quarter 데이터 삽입 완료\n",
      "✅ AIFU - BalanceSheet_Quarter 데이터 삽입 완료\n"
     ]
    },
    {
     "name": "stderr",
     "output_type": "stream",
     "text": [
      "Processing Companies:   3%|▎         | 128/4204 [06:13<3:13:25,  2.85s/it]"
     ]
    },
    {
     "name": "stdout",
     "output_type": "stream",
     "text": [
      "✅ AIFU - CashFlow_Quarter 데이터 삽입 완료\n",
      "✅ AIG - IncomeStatement_Quarter 데이터 삽입 완료\n",
      "✅ AIG - BalanceSheet_Quarter 데이터 삽입 완료\n"
     ]
    },
    {
     "name": "stderr",
     "output_type": "stream",
     "text": [
      "Processing Companies:   3%|▎         | 129/4204 [06:16<3:13:57,  2.86s/it]"
     ]
    },
    {
     "name": "stdout",
     "output_type": "stream",
     "text": [
      "✅ AIG - CashFlow_Quarter 데이터 삽입 완료\n",
      "✅ AIHS - IncomeStatement_Quarter 데이터 삽입 완료\n",
      "✅ AIHS - BalanceSheet_Quarter 데이터 삽입 완료\n"
     ]
    },
    {
     "name": "stderr",
     "output_type": "stream",
     "text": [
      "Processing Companies:   3%|▎         | 130/4204 [06:19<3:16:12,  2.89s/it]"
     ]
    },
    {
     "name": "stdout",
     "output_type": "stream",
     "text": [
      "✅ AIHS - CashFlow_Quarter 데이터 삽입 완료\n",
      "✅ AIMD - IncomeStatement_Quarter 데이터 삽입 완료\n",
      "✅ AIMD - BalanceSheet_Quarter 데이터 삽입 완료\n"
     ]
    },
    {
     "name": "stderr",
     "output_type": "stream",
     "text": [
      "Processing Companies:   3%|▎         | 131/4204 [06:21<3:13:11,  2.85s/it]"
     ]
    },
    {
     "name": "stdout",
     "output_type": "stream",
     "text": [
      "✅ AIMD - CashFlow_Quarter 데이터 삽입 완료\n",
      "✅ AIN - IncomeStatement_Quarter 데이터 삽입 완료\n",
      "✅ AIN - BalanceSheet_Quarter 데이터 삽입 완료\n"
     ]
    },
    {
     "name": "stderr",
     "output_type": "stream",
     "text": [
      "Processing Companies:   3%|▎         | 132/4204 [06:25<3:20:22,  2.95s/it]"
     ]
    },
    {
     "name": "stdout",
     "output_type": "stream",
     "text": [
      "✅ AIN - CashFlow_Quarter 데이터 삽입 완료\n",
      "✅ AIRG - IncomeStatement_Quarter 데이터 삽입 완료\n",
      "✅ AIRG - BalanceSheet_Quarter 데이터 삽입 완료\n"
     ]
    },
    {
     "name": "stderr",
     "output_type": "stream",
     "text": [
      "Processing Companies:   3%|▎         | 133/4204 [06:27<3:16:16,  2.89s/it]"
     ]
    },
    {
     "name": "stdout",
     "output_type": "stream",
     "text": [
      "✅ AIRG - CashFlow_Quarter 데이터 삽입 완료\n",
      "✅ AIP - IncomeStatement_Quarter 데이터 삽입 완료\n",
      "✅ AIP - BalanceSheet_Quarter 데이터 삽입 완료\n"
     ]
    },
    {
     "name": "stderr",
     "output_type": "stream",
     "text": [
      "Processing Companies:   3%|▎         | 134/4204 [06:30<3:14:12,  2.86s/it]"
     ]
    },
    {
     "name": "stdout",
     "output_type": "stream",
     "text": [
      "✅ AIP - CashFlow_Quarter 데이터 삽입 완료\n",
      "✅ AIRJ - IncomeStatement_Quarter 데이터 삽입 완료\n",
      "✅ AIRJ - BalanceSheet_Quarter 데이터 삽입 완료\n"
     ]
    },
    {
     "name": "stderr",
     "output_type": "stream",
     "text": [
      "Processing Companies:   3%|▎         | 135/4204 [06:33<3:13:51,  2.86s/it]"
     ]
    },
    {
     "name": "stdout",
     "output_type": "stream",
     "text": [
      "✅ AIRJ - CashFlow_Quarter 데이터 삽입 완료\n",
      "✅ AIRS - IncomeStatement_Quarter 데이터 삽입 완료\n",
      "✅ AIRS - BalanceSheet_Quarter 데이터 삽입 완료\n"
     ]
    },
    {
     "name": "stderr",
     "output_type": "stream",
     "text": [
      "Processing Companies:   3%|▎         | 136/4204 [06:36<3:14:35,  2.87s/it]"
     ]
    },
    {
     "name": "stdout",
     "output_type": "stream",
     "text": [
      "✅ AIRS - CashFlow_Quarter 데이터 삽입 완료\n",
      "✅ AIRT - IncomeStatement_Quarter 데이터 삽입 완료\n",
      "✅ AIRT - BalanceSheet_Quarter 데이터 삽입 완료\n"
     ]
    },
    {
     "name": "stderr",
     "output_type": "stream",
     "text": [
      "Processing Companies:   3%|▎         | 137/4204 [06:39<3:18:28,  2.93s/it]"
     ]
    },
    {
     "name": "stdout",
     "output_type": "stream",
     "text": [
      "✅ AIRT - CashFlow_Quarter 데이터 삽입 완료\n",
      "✅ AISP - IncomeStatement_Quarter 데이터 삽입 완료\n",
      "✅ AISP - BalanceSheet_Quarter 데이터 삽입 완료\n"
     ]
    },
    {
     "name": "stderr",
     "output_type": "stream",
     "text": [
      "Processing Companies:   3%|▎         | 138/4204 [06:42<3:16:34,  2.90s/it]"
     ]
    },
    {
     "name": "stdout",
     "output_type": "stream",
     "text": [
      "✅ AISP - CashFlow_Quarter 데이터 삽입 완료\n",
      "✅ AIRTP - IncomeStatement_Quarter 데이터 삽입 완료\n",
      "✅ AIRTP - BalanceSheet_Quarter 데이터 삽입 완료\n"
     ]
    },
    {
     "name": "stderr",
     "output_type": "stream",
     "text": [
      "Processing Companies:   3%|▎         | 139/4204 [06:45<3:25:00,  3.03s/it]"
     ]
    },
    {
     "name": "stdout",
     "output_type": "stream",
     "text": [
      "✅ AIRTP - CashFlow_Quarter 데이터 삽입 완료\n",
      "✅ AIV - IncomeStatement_Quarter 데이터 삽입 완료\n",
      "✅ AIV - BalanceSheet_Quarter 데이터 삽입 완료\n"
     ]
    },
    {
     "name": "stderr",
     "output_type": "stream",
     "text": [
      "Processing Companies:   3%|▎         | 140/4204 [06:48<3:24:15,  3.02s/it]"
     ]
    },
    {
     "name": "stdout",
     "output_type": "stream",
     "text": [
      "✅ AIV - CashFlow_Quarter 데이터 삽입 완료\n",
      "✅ AIZ - IncomeStatement_Quarter 데이터 삽입 완료\n",
      "✅ AIZ - BalanceSheet_Quarter 데이터 삽입 완료\n"
     ]
    },
    {
     "name": "stderr",
     "output_type": "stream",
     "text": [
      "Processing Companies:   3%|▎         | 141/4204 [06:51<3:21:03,  2.97s/it]"
     ]
    },
    {
     "name": "stdout",
     "output_type": "stream",
     "text": [
      "✅ AIZ - CashFlow_Quarter 데이터 삽입 완료\n",
      "✅ AIT - IncomeStatement_Quarter 데이터 삽입 완료\n",
      "✅ AIT - BalanceSheet_Quarter 데이터 삽입 완료\n"
     ]
    },
    {
     "name": "stderr",
     "output_type": "stream",
     "text": [
      "Processing Companies:   3%|▎         | 142/4204 [06:54<3:20:06,  2.96s/it]"
     ]
    },
    {
     "name": "stdout",
     "output_type": "stream",
     "text": [
      "✅ AIT - CashFlow_Quarter 데이터 삽입 완료\n",
      "✅ AKAM - IncomeStatement_Quarter 데이터 삽입 완료\n",
      "✅ AKAM - BalanceSheet_Quarter 데이터 삽입 완료\n"
     ]
    },
    {
     "name": "stderr",
     "output_type": "stream",
     "text": [
      "Processing Companies:   3%|▎         | 143/4204 [06:57<3:20:07,  2.96s/it]"
     ]
    },
    {
     "name": "stdout",
     "output_type": "stream",
     "text": [
      "✅ AKAM - CashFlow_Quarter 데이터 삽입 완료\n",
      "✅ AKBA - IncomeStatement_Quarter 데이터 삽입 완료\n",
      "✅ AKBA - BalanceSheet_Quarter 데이터 삽입 완료\n"
     ]
    },
    {
     "name": "stderr",
     "output_type": "stream",
     "text": [
      "Processing Companies:   3%|▎         | 144/4204 [07:00<3:21:03,  2.97s/it]"
     ]
    },
    {
     "name": "stdout",
     "output_type": "stream",
     "text": [
      "✅ AKBA - CashFlow_Quarter 데이터 삽입 완료\n",
      "✅ AKA - IncomeStatement_Quarter 데이터 삽입 완료\n",
      "✅ AKA - BalanceSheet_Quarter 데이터 삽입 완료\n"
     ]
    },
    {
     "name": "stderr",
     "output_type": "stream",
     "text": [
      "Processing Companies:   3%|▎         | 145/4204 [07:03<3:18:25,  2.93s/it]"
     ]
    },
    {
     "name": "stdout",
     "output_type": "stream",
     "text": [
      "✅ AKA - CashFlow_Quarter 데이터 삽입 완료\n",
      "✅ AJG - IncomeStatement_Quarter 데이터 삽입 완료\n",
      "✅ AJG - BalanceSheet_Quarter 데이터 삽입 완료\n"
     ]
    },
    {
     "name": "stderr",
     "output_type": "stream",
     "text": [
      "Processing Companies:   3%|▎         | 146/4204 [07:06<3:22:44,  3.00s/it]"
     ]
    },
    {
     "name": "stdout",
     "output_type": "stream",
     "text": [
      "✅ AJG - CashFlow_Quarter 데이터 삽입 완료\n",
      "✅ AKR - IncomeStatement_Quarter 데이터 삽입 완료\n",
      "✅ AKR - BalanceSheet_Quarter 데이터 삽입 완료\n"
     ]
    },
    {
     "name": "stderr",
     "output_type": "stream",
     "text": [
      "Processing Companies:   3%|▎         | 147/4204 [07:09<3:19:55,  2.96s/it]"
     ]
    },
    {
     "name": "stdout",
     "output_type": "stream",
     "text": [
      "✅ AKR - CashFlow_Quarter 데이터 삽입 완료\n",
      "❌ IncomeStatement_Quarter 데이터 없음\n",
      "✅ AKAN - BalanceSheet_Quarter 데이터 삽입 완료\n"
     ]
    },
    {
     "name": "stderr",
     "output_type": "stream",
     "text": [
      "Processing Companies:   4%|▎         | 148/4204 [07:12<3:18:36,  2.94s/it]"
     ]
    },
    {
     "name": "stdout",
     "output_type": "stream",
     "text": [
      "❌ CashFlow_Quarter 데이터 없음\n",
      "✅ AKRO - IncomeStatement_Quarter 데이터 삽입 완료\n",
      "✅ AKRO - BalanceSheet_Quarter 데이터 삽입 완료\n"
     ]
    },
    {
     "name": "stderr",
     "output_type": "stream",
     "text": [
      "Processing Companies:   4%|▎         | 149/4204 [07:15<3:16:31,  2.91s/it]"
     ]
    },
    {
     "name": "stdout",
     "output_type": "stream",
     "text": [
      "✅ AKRO - CashFlow_Quarter 데이터 삽입 완료\n",
      "✅ AL - IncomeStatement_Quarter 데이터 삽입 완료\n",
      "✅ AL - BalanceSheet_Quarter 데이터 삽입 완료\n"
     ]
    },
    {
     "name": "stderr",
     "output_type": "stream",
     "text": [
      "Processing Companies:   4%|▎         | 150/4204 [07:18<3:21:34,  2.98s/it]"
     ]
    },
    {
     "name": "stdout",
     "output_type": "stream",
     "text": [
      "✅ AL - CashFlow_Quarter 데이터 삽입 완료\n",
      "✅ AKYA - IncomeStatement_Quarter 데이터 삽입 완료\n",
      "✅ AKYA - BalanceSheet_Quarter 데이터 삽입 완료\n"
     ]
    },
    {
     "name": "stderr",
     "output_type": "stream",
     "text": [
      "Processing Companies:   4%|▎         | 151/4204 [07:21<3:20:07,  2.96s/it]"
     ]
    },
    {
     "name": "stdout",
     "output_type": "stream",
     "text": [
      "✅ AKYA - CashFlow_Quarter 데이터 삽입 완료\n",
      "✅ ALAR - IncomeStatement_Quarter 데이터 삽입 완료\n",
      "✅ ALAR - BalanceSheet_Quarter 데이터 삽입 완료\n"
     ]
    },
    {
     "name": "stderr",
     "output_type": "stream",
     "text": [
      "Processing Companies:   4%|▎         | 152/4204 [07:23<3:17:22,  2.92s/it]"
     ]
    },
    {
     "name": "stdout",
     "output_type": "stream",
     "text": [
      "❌ CashFlow_Quarter 데이터 없음\n",
      "✅ ALBT - IncomeStatement_Quarter 데이터 삽입 완료\n",
      "✅ ALBT - BalanceSheet_Quarter 데이터 삽입 완료\n"
     ]
    },
    {
     "name": "stderr",
     "output_type": "stream",
     "text": [
      "Processing Companies:   4%|▎         | 153/4204 [07:27<3:23:01,  3.01s/it]"
     ]
    },
    {
     "name": "stdout",
     "output_type": "stream",
     "text": [
      "✅ ALBT - CashFlow_Quarter 데이터 삽입 완료\n",
      "✅ ALC - IncomeStatement_Quarter 데이터 삽입 완료\n",
      "✅ ALC - BalanceSheet_Quarter 데이터 삽입 완료\n"
     ]
    },
    {
     "name": "stderr",
     "output_type": "stream",
     "text": [
      "Processing Companies:   4%|▎         | 154/4204 [07:30<3:20:48,  2.97s/it]"
     ]
    },
    {
     "name": "stdout",
     "output_type": "stream",
     "text": [
      "✅ ALC - CashFlow_Quarter 데이터 삽입 완료\n",
      "✅ ALCO - IncomeStatement_Quarter 데이터 삽입 완료\n",
      "✅ ALCO - BalanceSheet_Quarter 데이터 삽입 완료\n"
     ]
    },
    {
     "name": "stderr",
     "output_type": "stream",
     "text": [
      "Processing Companies:   4%|▎         | 155/4204 [07:32<3:18:19,  2.94s/it]"
     ]
    },
    {
     "name": "stdout",
     "output_type": "stream",
     "text": [
      "✅ ALCO - CashFlow_Quarter 데이터 삽입 완료\n",
      "✅ ALDX - IncomeStatement_Quarter 데이터 삽입 완료\n",
      "✅ ALDX - BalanceSheet_Quarter 데이터 삽입 완료\n"
     ]
    },
    {
     "name": "stderr",
     "output_type": "stream",
     "text": [
      "Processing Companies:   4%|▎         | 156/4204 [07:35<3:15:22,  2.90s/it]"
     ]
    },
    {
     "name": "stdout",
     "output_type": "stream",
     "text": [
      "✅ ALDX - CashFlow_Quarter 데이터 삽입 완료\n",
      "✅ ALEC - IncomeStatement_Quarter 데이터 삽입 완료\n",
      "✅ ALEC - BalanceSheet_Quarter 데이터 삽입 완료\n"
     ]
    },
    {
     "name": "stderr",
     "output_type": "stream",
     "text": [
      "Processing Companies:   4%|▎         | 157/4204 [07:38<3:12:49,  2.86s/it]"
     ]
    },
    {
     "name": "stdout",
     "output_type": "stream",
     "text": [
      "✅ ALEC - CashFlow_Quarter 데이터 삽입 완료\n",
      "✅ ALE - IncomeStatement_Quarter 데이터 삽입 완료\n",
      "✅ ALE - BalanceSheet_Quarter 데이터 삽입 완료\n"
     ]
    },
    {
     "name": "stderr",
     "output_type": "stream",
     "text": [
      "Processing Companies:   4%|▍         | 158/4204 [07:41<3:12:33,  2.86s/it]"
     ]
    },
    {
     "name": "stdout",
     "output_type": "stream",
     "text": [
      "✅ ALE - CashFlow_Quarter 데이터 삽입 완료\n",
      "✅ ALG - IncomeStatement_Quarter 데이터 삽입 완료\n",
      "✅ ALG - BalanceSheet_Quarter 데이터 삽입 완료\n"
     ]
    },
    {
     "name": "stderr",
     "output_type": "stream",
     "text": [
      "Processing Companies:   4%|▍         | 159/4204 [07:44<3:15:54,  2.91s/it]"
     ]
    },
    {
     "name": "stdout",
     "output_type": "stream",
     "text": [
      "✅ ALG - CashFlow_Quarter 데이터 삽입 완료\n",
      "✅ ALGM - IncomeStatement_Quarter 데이터 삽입 완료\n",
      "✅ ALGM - BalanceSheet_Quarter 데이터 삽입 완료\n"
     ]
    },
    {
     "name": "stderr",
     "output_type": "stream",
     "text": [
      "Processing Companies:   4%|▍         | 160/4204 [07:47<3:19:58,  2.97s/it]"
     ]
    },
    {
     "name": "stdout",
     "output_type": "stream",
     "text": [
      "✅ ALGM - CashFlow_Quarter 데이터 삽입 완료\n",
      "✅ ALGS - IncomeStatement_Quarter 데이터 삽입 완료\n",
      "✅ ALGS - BalanceSheet_Quarter 데이터 삽입 완료\n"
     ]
    },
    {
     "name": "stderr",
     "output_type": "stream",
     "text": [
      "Processing Companies:   4%|▍         | 161/4204 [07:50<3:16:38,  2.92s/it]"
     ]
    },
    {
     "name": "stdout",
     "output_type": "stream",
     "text": [
      "✅ ALGS - CashFlow_Quarter 데이터 삽입 완료\n",
      "✅ ALGN - IncomeStatement_Quarter 데이터 삽입 완료\n",
      "✅ ALGN - BalanceSheet_Quarter 데이터 삽입 완료\n"
     ]
    },
    {
     "name": "stderr",
     "output_type": "stream",
     "text": [
      "Processing Companies:   4%|▍         | 162/4204 [07:53<3:15:16,  2.90s/it]"
     ]
    },
    {
     "name": "stdout",
     "output_type": "stream",
     "text": [
      "✅ ALGN - CashFlow_Quarter 데이터 삽입 완료\n",
      "✅ ALGT - IncomeStatement_Quarter 데이터 삽입 완료\n",
      "✅ ALGT - BalanceSheet_Quarter 데이터 삽입 완료\n"
     ]
    },
    {
     "name": "stderr",
     "output_type": "stream",
     "text": [
      "Processing Companies:   4%|▍         | 163/4204 [07:56<3:16:05,  2.91s/it]"
     ]
    },
    {
     "name": "stdout",
     "output_type": "stream",
     "text": [
      "✅ ALGT - CashFlow_Quarter 데이터 삽입 완료\n",
      "✅ ALIT - IncomeStatement_Quarter 데이터 삽입 완료\n",
      "✅ ALIT - BalanceSheet_Quarter 데이터 삽입 완료\n"
     ]
    },
    {
     "name": "stderr",
     "output_type": "stream",
     "text": [
      "Processing Companies:   4%|▍         | 164/4204 [07:58<3:15:59,  2.91s/it]"
     ]
    },
    {
     "name": "stdout",
     "output_type": "stream",
     "text": [
      "✅ ALIT - CashFlow_Quarter 데이터 삽입 완료\n",
      "✅ ALKS - IncomeStatement_Quarter 데이터 삽입 완료\n",
      "✅ ALKS - BalanceSheet_Quarter 데이터 삽입 완료\n"
     ]
    },
    {
     "name": "stderr",
     "output_type": "stream",
     "text": [
      "Processing Companies:   4%|▍         | 165/4204 [08:01<3:13:52,  2.88s/it]"
     ]
    },
    {
     "name": "stdout",
     "output_type": "stream",
     "text": [
      "✅ ALKS - CashFlow_Quarter 데이터 삽입 완료\n",
      "✅ ALHC - IncomeStatement_Quarter 데이터 삽입 완료\n",
      "✅ ALHC - BalanceSheet_Quarter 데이터 삽입 완료\n"
     ]
    },
    {
     "name": "stderr",
     "output_type": "stream",
     "text": [
      "Processing Companies:   4%|▍         | 166/4204 [08:04<3:16:56,  2.93s/it]"
     ]
    },
    {
     "name": "stdout",
     "output_type": "stream",
     "text": [
      "✅ ALHC - CashFlow_Quarter 데이터 삽입 완료\n",
      "✅ ALK - IncomeStatement_Quarter 데이터 삽입 완료\n",
      "✅ ALK - BalanceSheet_Quarter 데이터 삽입 완료\n"
     ]
    },
    {
     "name": "stderr",
     "output_type": "stream",
     "text": [
      "Processing Companies:   4%|▍         | 167/4204 [08:07<3:17:18,  2.93s/it]"
     ]
    },
    {
     "name": "stdout",
     "output_type": "stream",
     "text": [
      "✅ ALK - CashFlow_Quarter 데이터 삽입 완료\n",
      "✅ ALKT - IncomeStatement_Quarter 데이터 삽입 완료\n",
      "✅ ALKT - BalanceSheet_Quarter 데이터 삽입 완료\n"
     ]
    },
    {
     "name": "stderr",
     "output_type": "stream",
     "text": [
      "Processing Companies:   4%|▍         | 168/4204 [08:10<3:14:37,  2.89s/it]"
     ]
    },
    {
     "name": "stdout",
     "output_type": "stream",
     "text": [
      "✅ ALKT - CashFlow_Quarter 데이터 삽입 완료\n",
      "✅ ALL - IncomeStatement_Quarter 데이터 삽입 완료\n",
      "✅ ALL - BalanceSheet_Quarter 데이터 삽입 완료\n"
     ]
    },
    {
     "name": "stderr",
     "output_type": "stream",
     "text": [
      "Processing Companies:   4%|▍         | 169/4204 [08:13<3:12:37,  2.86s/it]"
     ]
    },
    {
     "name": "stdout",
     "output_type": "stream",
     "text": [
      "✅ ALL - CashFlow_Quarter 데이터 삽입 완료\n",
      "✅ ALLE - IncomeStatement_Quarter 데이터 삽입 완료\n",
      "✅ ALLE - BalanceSheet_Quarter 데이터 삽입 완료\n"
     ]
    },
    {
     "name": "stderr",
     "output_type": "stream",
     "text": [
      "Processing Companies:   4%|▍         | 170/4204 [08:16<3:12:21,  2.86s/it]"
     ]
    },
    {
     "name": "stdout",
     "output_type": "stream",
     "text": [
      "✅ ALLE - CashFlow_Quarter 데이터 삽입 완료\n",
      "✅ ALLY - IncomeStatement_Quarter 데이터 삽입 완료\n",
      "✅ ALLY - BalanceSheet_Quarter 데이터 삽입 완료\n"
     ]
    },
    {
     "name": "stderr",
     "output_type": "stream",
     "text": [
      "Processing Companies:   4%|▍         | 171/4204 [08:19<3:11:18,  2.85s/it]"
     ]
    },
    {
     "name": "stdout",
     "output_type": "stream",
     "text": [
      "✅ ALLY - CashFlow_Quarter 데이터 삽입 완료\n",
      "✅ ALLR - IncomeStatement_Quarter 데이터 삽입 완료\n",
      "✅ ALLR - BalanceSheet_Quarter 데이터 삽입 완료\n"
     ]
    },
    {
     "name": "stderr",
     "output_type": "stream",
     "text": [
      "Processing Companies:   4%|▍         | 172/4204 [08:21<3:10:01,  2.83s/it]"
     ]
    },
    {
     "name": "stdout",
     "output_type": "stream",
     "text": [
      "✅ ALLR - CashFlow_Quarter 데이터 삽입 완료\n",
      "✅ ALLT - IncomeStatement_Quarter 데이터 삽입 완료\n",
      "✅ ALLT - BalanceSheet_Quarter 데이터 삽입 완료\n"
     ]
    },
    {
     "name": "stderr",
     "output_type": "stream",
     "text": [
      "Processing Companies:   4%|▍         | 173/4204 [08:24<3:10:29,  2.84s/it]"
     ]
    },
    {
     "name": "stdout",
     "output_type": "stream",
     "text": [
      "✅ ALLT - CashFlow_Quarter 데이터 삽입 완료\n",
      "✅ ALNY - IncomeStatement_Quarter 데이터 삽입 완료\n",
      "✅ ALNY - BalanceSheet_Quarter 데이터 삽입 완료\n"
     ]
    },
    {
     "name": "stderr",
     "output_type": "stream",
     "text": [
      "Processing Companies:   4%|▍         | 174/4204 [08:27<3:12:06,  2.86s/it]"
     ]
    },
    {
     "name": "stdout",
     "output_type": "stream",
     "text": [
      "✅ ALNY - CashFlow_Quarter 데이터 삽입 완료\n",
      "✅ ALT - IncomeStatement_Quarter 데이터 삽입 완료\n",
      "✅ ALT - BalanceSheet_Quarter 데이터 삽입 완료\n"
     ]
    },
    {
     "name": "stderr",
     "output_type": "stream",
     "text": [
      "Processing Companies:   4%|▍         | 175/4204 [08:30<3:13:28,  2.88s/it]"
     ]
    },
    {
     "name": "stdout",
     "output_type": "stream",
     "text": [
      "✅ ALT - CashFlow_Quarter 데이터 삽입 완료\n",
      "✅ ALRM - IncomeStatement_Quarter 데이터 삽입 완료\n",
      "✅ ALRM - BalanceSheet_Quarter 데이터 삽입 완료\n"
     ]
    },
    {
     "name": "stderr",
     "output_type": "stream",
     "text": [
      "Processing Companies:   4%|▍         | 176/4204 [08:33<3:12:40,  2.87s/it]"
     ]
    },
    {
     "name": "stdout",
     "output_type": "stream",
     "text": [
      "✅ ALRM - CashFlow_Quarter 데이터 삽입 완료\n",
      "✅ ALSN - IncomeStatement_Quarter 데이터 삽입 완료\n",
      "✅ ALSN - BalanceSheet_Quarter 데이터 삽입 완료\n"
     ]
    },
    {
     "name": "stderr",
     "output_type": "stream",
     "text": [
      "Processing Companies:   4%|▍         | 177/4204 [08:36<3:10:46,  2.84s/it]"
     ]
    },
    {
     "name": "stdout",
     "output_type": "stream",
     "text": [
      "✅ ALSN - CashFlow_Quarter 데이터 삽입 완료\n",
      "✅ ALRS - IncomeStatement_Quarter 데이터 삽입 완료\n",
      "✅ ALRS - BalanceSheet_Quarter 데이터 삽입 완료\n"
     ]
    },
    {
     "name": "stderr",
     "output_type": "stream",
     "text": [
      "Processing Companies:   4%|▍         | 178/4204 [08:39<3:11:40,  2.86s/it]"
     ]
    },
    {
     "name": "stdout",
     "output_type": "stream",
     "text": [
      "✅ ALRS - CashFlow_Quarter 데이터 삽입 완료\n",
      "✅ ALTG - IncomeStatement_Quarter 데이터 삽입 완료\n",
      "✅ ALTG - BalanceSheet_Quarter 데이터 삽입 완료\n"
     ]
    },
    {
     "name": "stderr",
     "output_type": "stream",
     "text": [
      "Processing Companies:   4%|▍         | 179/4204 [08:41<3:10:37,  2.84s/it]"
     ]
    },
    {
     "name": "stdout",
     "output_type": "stream",
     "text": [
      "✅ ALTG - CashFlow_Quarter 데이터 삽입 완료\n",
      "✅ ALTO - IncomeStatement_Quarter 데이터 삽입 완료\n",
      "✅ ALTO - BalanceSheet_Quarter 데이터 삽입 완료\n"
     ]
    },
    {
     "name": "stderr",
     "output_type": "stream",
     "text": [
      "Processing Companies:   4%|▍         | 180/4204 [08:44<3:10:15,  2.84s/it]"
     ]
    },
    {
     "name": "stdout",
     "output_type": "stream",
     "text": [
      "✅ ALTO - CashFlow_Quarter 데이터 삽입 완료\n",
      "✅ ALTS - IncomeStatement_Quarter 데이터 삽입 완료\n",
      "✅ ALTS - BalanceSheet_Quarter 데이터 삽입 완료\n"
     ]
    },
    {
     "name": "stderr",
     "output_type": "stream",
     "text": [
      "Processing Companies:   4%|▍         | 181/4204 [08:47<3:10:26,  2.84s/it]"
     ]
    },
    {
     "name": "stdout",
     "output_type": "stream",
     "text": [
      "✅ ALTS - CashFlow_Quarter 데이터 삽입 완료\n",
      "✅ ALV - IncomeStatement_Quarter 데이터 삽입 완료\n",
      "✅ ALV - BalanceSheet_Quarter 데이터 삽입 완료\n"
     ]
    },
    {
     "name": "stderr",
     "output_type": "stream",
     "text": [
      "Processing Companies:   4%|▍         | 182/4204 [08:50<3:12:46,  2.88s/it]"
     ]
    },
    {
     "name": "stdout",
     "output_type": "stream",
     "text": [
      "✅ ALV - CashFlow_Quarter 데이터 삽입 완료\n",
      "✅ ALUR - IncomeStatement_Quarter 데이터 삽입 완료\n",
      "✅ ALUR - BalanceSheet_Quarter 데이터 삽입 완료\n"
     ]
    },
    {
     "name": "stderr",
     "output_type": "stream",
     "text": [
      "Processing Companies:   4%|▍         | 183/4204 [08:53<3:12:03,  2.87s/it]"
     ]
    },
    {
     "name": "stdout",
     "output_type": "stream",
     "text": [
      "✅ ALUR - CashFlow_Quarter 데이터 삽입 완료\n",
      "✅ ALX - IncomeStatement_Quarter 데이터 삽입 완료\n",
      "✅ ALX - BalanceSheet_Quarter 데이터 삽입 완료\n"
     ]
    },
    {
     "name": "stderr",
     "output_type": "stream",
     "text": [
      "Processing Companies:   4%|▍         | 184/4204 [08:56<3:10:06,  2.84s/it]"
     ]
    },
    {
     "name": "stdout",
     "output_type": "stream",
     "text": [
      "✅ ALX - CashFlow_Quarter 데이터 삽입 완료\n",
      "✅ ALVO - IncomeStatement_Quarter 데이터 삽입 완료\n",
      "✅ ALVO - BalanceSheet_Quarter 데이터 삽입 완료\n"
     ]
    },
    {
     "name": "stderr",
     "output_type": "stream",
     "text": [
      "Processing Companies:   4%|▍         | 185/4204 [08:58<3:10:52,  2.85s/it]"
     ]
    },
    {
     "name": "stdout",
     "output_type": "stream",
     "text": [
      "✅ ALVO - CashFlow_Quarter 데이터 삽입 완료\n",
      "✅ ALXO - IncomeStatement_Quarter 데이터 삽입 완료\n",
      "✅ ALXO - BalanceSheet_Quarter 데이터 삽입 완료\n"
     ]
    },
    {
     "name": "stderr",
     "output_type": "stream",
     "text": [
      "Processing Companies:   4%|▍         | 186/4204 [09:01<3:10:21,  2.84s/it]"
     ]
    },
    {
     "name": "stdout",
     "output_type": "stream",
     "text": [
      "✅ ALXO - CashFlow_Quarter 데이터 삽입 완료\n",
      "✅ ALZN - IncomeStatement_Quarter 데이터 삽입 완료\n",
      "✅ ALZN - BalanceSheet_Quarter 데이터 삽입 완료\n"
     ]
    },
    {
     "name": "stderr",
     "output_type": "stream",
     "text": [
      "Processing Companies:   4%|▍         | 187/4204 [09:04<3:10:05,  2.84s/it]"
     ]
    },
    {
     "name": "stdout",
     "output_type": "stream",
     "text": [
      "✅ ALZN - CashFlow_Quarter 데이터 삽입 완료\n",
      "✅ AM - IncomeStatement_Quarter 데이터 삽입 완료\n",
      "✅ AM - BalanceSheet_Quarter 데이터 삽입 완료\n"
     ]
    },
    {
     "name": "stderr",
     "output_type": "stream",
     "text": [
      "Processing Companies:   4%|▍         | 188/4204 [09:07<3:10:31,  2.85s/it]"
     ]
    },
    {
     "name": "stdout",
     "output_type": "stream",
     "text": [
      "✅ AM - CashFlow_Quarter 데이터 삽입 완료\n",
      "✅ AMAL - IncomeStatement_Quarter 데이터 삽입 완료\n",
      "✅ AMAL - BalanceSheet_Quarter 데이터 삽입 완료\n"
     ]
    },
    {
     "name": "stderr",
     "output_type": "stream",
     "text": [
      "Processing Companies:   4%|▍         | 189/4204 [09:10<3:12:09,  2.87s/it]"
     ]
    },
    {
     "name": "stdout",
     "output_type": "stream",
     "text": [
      "✅ AMAL - CashFlow_Quarter 데이터 삽입 완료\n",
      "✅ AMAT - IncomeStatement_Quarter 데이터 삽입 완료\n",
      "✅ AMAT - BalanceSheet_Quarter 데이터 삽입 완료\n"
     ]
    },
    {
     "name": "stderr",
     "output_type": "stream",
     "text": [
      "Processing Companies:   5%|▍         | 190/4204 [09:16<4:24:04,  3.95s/it]"
     ]
    },
    {
     "name": "stdout",
     "output_type": "stream",
     "text": [
      "✅ AMAT - CashFlow_Quarter 데이터 삽입 완료\n",
      "✅ AMBC - IncomeStatement_Quarter 데이터 삽입 완료\n",
      "✅ AMBC - BalanceSheet_Quarter 데이터 삽입 완료\n"
     ]
    },
    {
     "name": "stderr",
     "output_type": "stream",
     "text": [
      "Processing Companies:   5%|▍         | 191/4204 [09:20<4:16:05,  3.83s/it]"
     ]
    },
    {
     "name": "stdout",
     "output_type": "stream",
     "text": [
      "✅ AMBC - CashFlow_Quarter 데이터 삽입 완료\n",
      "✅ AMBI - IncomeStatement_Quarter 데이터 삽입 완료\n",
      "✅ AMBI - BalanceSheet_Quarter 데이터 삽입 완료\n"
     ]
    },
    {
     "name": "stderr",
     "output_type": "stream",
     "text": [
      "Processing Companies:   5%|▍         | 192/4204 [09:23<4:02:39,  3.63s/it]"
     ]
    },
    {
     "name": "stdout",
     "output_type": "stream",
     "text": [
      "✅ AMBI - CashFlow_Quarter 데이터 삽입 완료\n",
      "✅ AMBO - IncomeStatement_Quarter 데이터 삽입 완료\n",
      "✅ AMBO - BalanceSheet_Quarter 데이터 삽입 완료\n"
     ]
    },
    {
     "name": "stderr",
     "output_type": "stream",
     "text": [
      "Processing Companies:   5%|▍         | 193/4204 [09:26<3:43:38,  3.35s/it]"
     ]
    },
    {
     "name": "stdout",
     "output_type": "stream",
     "text": [
      "❌ CashFlow_Quarter 데이터 없음\n",
      "✅ AMCX - IncomeStatement_Quarter 데이터 삽입 완료\n",
      "✅ AMCX - BalanceSheet_Quarter 데이터 삽입 완료\n"
     ]
    },
    {
     "name": "stderr",
     "output_type": "stream",
     "text": [
      "Processing Companies:   5%|▍         | 194/4204 [09:29<3:37:04,  3.25s/it]"
     ]
    },
    {
     "name": "stdout",
     "output_type": "stream",
     "text": [
      "✅ AMCX - CashFlow_Quarter 데이터 삽입 완료\n",
      "✅ AMC - IncomeStatement_Quarter 데이터 삽입 완료\n",
      "✅ AMC - BalanceSheet_Quarter 데이터 삽입 완료\n"
     ]
    },
    {
     "name": "stderr",
     "output_type": "stream",
     "text": [
      "Processing Companies:   5%|▍         | 195/4204 [09:32<3:29:54,  3.14s/it]"
     ]
    },
    {
     "name": "stdout",
     "output_type": "stream",
     "text": [
      "✅ AMC - CashFlow_Quarter 데이터 삽입 완료\n",
      "✅ AMCR - IncomeStatement_Quarter 데이터 삽입 완료\n",
      "✅ AMCR - BalanceSheet_Quarter 데이터 삽입 완료\n"
     ]
    },
    {
     "name": "stderr",
     "output_type": "stream",
     "text": [
      "Processing Companies:   5%|▍         | 196/4204 [09:35<3:27:56,  3.11s/it]"
     ]
    },
    {
     "name": "stdout",
     "output_type": "stream",
     "text": [
      "✅ AMCR - CashFlow_Quarter 데이터 삽입 완료\n",
      "✅ AMD - IncomeStatement_Quarter 데이터 삽입 완료\n",
      "✅ AMD - BalanceSheet_Quarter 데이터 삽입 완료\n"
     ]
    },
    {
     "name": "stderr",
     "output_type": "stream",
     "text": [
      "Processing Companies:   5%|▍         | 197/4204 [09:38<3:21:46,  3.02s/it]"
     ]
    },
    {
     "name": "stdout",
     "output_type": "stream",
     "text": [
      "✅ AMD - CashFlow_Quarter 데이터 삽입 완료\n",
      "✅ AMGN - IncomeStatement_Quarter 데이터 삽입 완료\n",
      "✅ AMGN - BalanceSheet_Quarter 데이터 삽입 완료\n"
     ]
    },
    {
     "name": "stderr",
     "output_type": "stream",
     "text": [
      "Processing Companies:   5%|▍         | 198/4204 [09:40<3:19:01,  2.98s/it]"
     ]
    },
    {
     "name": "stdout",
     "output_type": "stream",
     "text": [
      "✅ AMGN - CashFlow_Quarter 데이터 삽입 완료\n",
      "✅ AMED - IncomeStatement_Quarter 데이터 삽입 완료\n",
      "✅ AMED - BalanceSheet_Quarter 데이터 삽입 완료\n"
     ]
    },
    {
     "name": "stderr",
     "output_type": "stream",
     "text": [
      "Processing Companies:   5%|▍         | 199/4204 [09:43<3:16:09,  2.94s/it]"
     ]
    },
    {
     "name": "stdout",
     "output_type": "stream",
     "text": [
      "✅ AMED - CashFlow_Quarter 데이터 삽입 완료\n",
      "✅ AMH - IncomeStatement_Quarter 데이터 삽입 완료\n",
      "✅ AMH - BalanceSheet_Quarter 데이터 삽입 완료\n"
     ]
    },
    {
     "name": "stderr",
     "output_type": "stream",
     "text": [
      "Processing Companies:   5%|▍         | 200/4204 [09:46<3:16:51,  2.95s/it]"
     ]
    },
    {
     "name": "stdout",
     "output_type": "stream",
     "text": [
      "✅ AMH - CashFlow_Quarter 데이터 삽입 완료\n",
      "✅ AMKR - IncomeStatement_Quarter 데이터 삽입 완료\n",
      "✅ AMKR - BalanceSheet_Quarter 데이터 삽입 완료\n"
     ]
    },
    {
     "name": "stderr",
     "output_type": "stream",
     "text": [
      "Processing Companies:   5%|▍         | 201/4204 [09:49<3:18:25,  2.97s/it]"
     ]
    },
    {
     "name": "stdout",
     "output_type": "stream",
     "text": [
      "✅ AMKR - CashFlow_Quarter 데이터 삽입 완료\n",
      "✅ AMLX - IncomeStatement_Quarter 데이터 삽입 완료\n",
      "✅ AMLX - BalanceSheet_Quarter 데이터 삽입 완료\n"
     ]
    },
    {
     "name": "stderr",
     "output_type": "stream",
     "text": [
      "Processing Companies:   5%|▍         | 202/4204 [09:52<3:13:02,  2.89s/it]"
     ]
    },
    {
     "name": "stdout",
     "output_type": "stream",
     "text": [
      "✅ AMLX - CashFlow_Quarter 데이터 삽입 완료\n",
      "✅ AMN - IncomeStatement_Quarter 데이터 삽입 완료\n",
      "✅ AMN - BalanceSheet_Quarter 데이터 삽입 완료\n"
     ]
    },
    {
     "name": "stderr",
     "output_type": "stream",
     "text": [
      "Processing Companies:   5%|▍         | 203/4204 [09:55<3:11:48,  2.88s/it]"
     ]
    },
    {
     "name": "stdout",
     "output_type": "stream",
     "text": [
      "✅ AMN - CashFlow_Quarter 데이터 삽입 완료\n",
      "✅ AMPH - IncomeStatement_Quarter 데이터 삽입 완료\n",
      "✅ AMPH - BalanceSheet_Quarter 데이터 삽입 완료\n"
     ]
    },
    {
     "name": "stderr",
     "output_type": "stream",
     "text": [
      "Processing Companies:   5%|▍         | 204/4204 [09:58<3:10:47,  2.86s/it]"
     ]
    },
    {
     "name": "stdout",
     "output_type": "stream",
     "text": [
      "✅ AMPH - CashFlow_Quarter 데이터 삽입 완료\n",
      "✅ AMPL - IncomeStatement_Quarter 데이터 삽입 완료\n",
      "✅ AMPL - BalanceSheet_Quarter 데이터 삽입 완료\n"
     ]
    },
    {
     "name": "stderr",
     "output_type": "stream",
     "text": [
      "Processing Companies:   5%|▍         | 205/4204 [10:00<3:09:31,  2.84s/it]"
     ]
    },
    {
     "name": "stdout",
     "output_type": "stream",
     "text": [
      "✅ AMPL - CashFlow_Quarter 데이터 삽입 완료\n",
      "✅ AMR - IncomeStatement_Quarter 데이터 삽입 완료\n",
      "✅ AMR - BalanceSheet_Quarter 데이터 삽입 완료\n"
     ]
    },
    {
     "name": "stderr",
     "output_type": "stream",
     "text": [
      "Processing Companies:   5%|▍         | 206/4204 [10:03<3:08:02,  2.82s/it]"
     ]
    },
    {
     "name": "stdout",
     "output_type": "stream",
     "text": [
      "✅ AMR - CashFlow_Quarter 데이터 삽입 완료\n",
      "✅ AMPY - IncomeStatement_Quarter 데이터 삽입 완료\n",
      "✅ AMPY - BalanceSheet_Quarter 데이터 삽입 완료\n"
     ]
    },
    {
     "name": "stderr",
     "output_type": "stream",
     "text": [
      "Processing Companies:   5%|▍         | 207/4204 [10:06<3:09:43,  2.85s/it]"
     ]
    },
    {
     "name": "stdout",
     "output_type": "stream",
     "text": [
      "✅ AMPY - CashFlow_Quarter 데이터 삽입 완료\n",
      "✅ AMRC - IncomeStatement_Quarter 데이터 삽입 완료\n",
      "✅ AMRC - BalanceSheet_Quarter 데이터 삽입 완료\n"
     ]
    },
    {
     "name": "stderr",
     "output_type": "stream",
     "text": [
      "Processing Companies:   5%|▍         | 208/4204 [10:09<3:09:02,  2.84s/it]"
     ]
    },
    {
     "name": "stdout",
     "output_type": "stream",
     "text": [
      "✅ AMRC - CashFlow_Quarter 데이터 삽입 완료\n",
      "✅ AMRN - IncomeStatement_Quarter 데이터 삽입 완료\n",
      "✅ AMRN - BalanceSheet_Quarter 데이터 삽입 완료\n"
     ]
    },
    {
     "name": "stderr",
     "output_type": "stream",
     "text": [
      "Processing Companies:   5%|▍         | 209/4204 [10:12<3:07:52,  2.82s/it]"
     ]
    },
    {
     "name": "stdout",
     "output_type": "stream",
     "text": [
      "✅ AMRN - CashFlow_Quarter 데이터 삽입 완료\n",
      "✅ AMS - IncomeStatement_Quarter 데이터 삽입 완료\n",
      "✅ AMS - BalanceSheet_Quarter 데이터 삽입 완료\n"
     ]
    },
    {
     "name": "stderr",
     "output_type": "stream",
     "text": [
      "Processing Companies:   5%|▍         | 210/4204 [10:15<3:08:26,  2.83s/it]"
     ]
    },
    {
     "name": "stdout",
     "output_type": "stream",
     "text": [
      "✅ AMS - CashFlow_Quarter 데이터 삽입 완료\n",
      "✅ AMRX - IncomeStatement_Quarter 데이터 삽입 완료\n",
      "✅ AMRX - BalanceSheet_Quarter 데이터 삽입 완료\n"
     ]
    },
    {
     "name": "stderr",
     "output_type": "stream",
     "text": [
      "Processing Companies:   5%|▌         | 211/4204 [10:17<3:08:40,  2.84s/it]"
     ]
    },
    {
     "name": "stdout",
     "output_type": "stream",
     "text": [
      "✅ AMRX - CashFlow_Quarter 데이터 삽입 완료\n",
      "✅ AMST - IncomeStatement_Quarter 데이터 삽입 완료\n",
      "✅ AMST - BalanceSheet_Quarter 데이터 삽입 완료\n"
     ]
    },
    {
     "name": "stderr",
     "output_type": "stream",
     "text": [
      "Processing Companies:   5%|▌         | 212/4204 [10:20<3:07:21,  2.82s/it]"
     ]
    },
    {
     "name": "stdout",
     "output_type": "stream",
     "text": [
      "✅ AMST - CashFlow_Quarter 데이터 삽입 완료\n",
      "✅ AMSF - IncomeStatement_Quarter 데이터 삽입 완료\n",
      "✅ AMSF - BalanceSheet_Quarter 데이터 삽입 완료\n"
     ]
    },
    {
     "name": "stderr",
     "output_type": "stream",
     "text": [
      "Processing Companies:   5%|▌         | 213/4204 [10:23<3:10:01,  2.86s/it]"
     ]
    },
    {
     "name": "stdout",
     "output_type": "stream",
     "text": [
      "✅ AMSF - CashFlow_Quarter 데이터 삽입 완료\n",
      "✅ AMTB - IncomeStatement_Quarter 데이터 삽입 완료\n",
      "✅ AMTB - BalanceSheet_Quarter 데이터 삽입 완료\n"
     ]
    },
    {
     "name": "stderr",
     "output_type": "stream",
     "text": [
      "Processing Companies:   5%|▌         | 214/4204 [10:26<3:09:53,  2.86s/it]"
     ]
    },
    {
     "name": "stdout",
     "output_type": "stream",
     "text": [
      "✅ AMTB - CashFlow_Quarter 데이터 삽입 완료\n",
      "✅ AMT - IncomeStatement_Quarter 데이터 삽입 완료\n",
      "✅ AMT - BalanceSheet_Quarter 데이터 삽입 완료\n"
     ]
    },
    {
     "name": "stderr",
     "output_type": "stream",
     "text": [
      "Processing Companies:   5%|▌         | 215/4204 [10:29<3:09:05,  2.84s/it]"
     ]
    },
    {
     "name": "stdout",
     "output_type": "stream",
     "text": [
      "✅ AMT - CashFlow_Quarter 데이터 삽입 완료\n",
      "✅ AMTX - IncomeStatement_Quarter 데이터 삽입 완료\n",
      "✅ AMTX - BalanceSheet_Quarter 데이터 삽입 완료\n"
     ]
    },
    {
     "name": "stderr",
     "output_type": "stream",
     "text": [
      "Processing Companies:   5%|▌         | 216/4204 [10:32<3:08:18,  2.83s/it]"
     ]
    },
    {
     "name": "stdout",
     "output_type": "stream",
     "text": [
      "✅ AMTX - CashFlow_Quarter 데이터 삽입 완료\n",
      "✅ AMWL - IncomeStatement_Quarter 데이터 삽입 완료\n",
      "✅ AMWL - BalanceSheet_Quarter 데이터 삽입 완료\n"
     ]
    },
    {
     "name": "stderr",
     "output_type": "stream",
     "text": [
      "Processing Companies:   5%|▌         | 217/4204 [10:34<3:08:01,  2.83s/it]"
     ]
    },
    {
     "name": "stdout",
     "output_type": "stream",
     "text": [
      "✅ AMWL - CashFlow_Quarter 데이터 삽입 완료\n",
      "✅ AMZE - IncomeStatement_Quarter 데이터 삽입 완료\n",
      "✅ AMZE - BalanceSheet_Quarter 데이터 삽입 완료\n"
     ]
    },
    {
     "name": "stderr",
     "output_type": "stream",
     "text": [
      "Processing Companies:   5%|▌         | 218/4204 [10:37<3:08:13,  2.83s/it]"
     ]
    },
    {
     "name": "stdout",
     "output_type": "stream",
     "text": [
      "✅ AMZE - CashFlow_Quarter 데이터 삽입 완료\n",
      "✅ AMX - IncomeStatement_Quarter 데이터 삽입 완료\n",
      "✅ AMX - BalanceSheet_Quarter 데이터 삽입 완료\n"
     ]
    },
    {
     "name": "stderr",
     "output_type": "stream",
     "text": [
      "Processing Companies:   5%|▌         | 219/4204 [10:40<3:12:19,  2.90s/it]"
     ]
    },
    {
     "name": "stdout",
     "output_type": "stream",
     "text": [
      "✅ AMX - CashFlow_Quarter 데이터 삽입 완료\n",
      "✅ AMZN - IncomeStatement_Quarter 데이터 삽입 완료\n",
      "✅ AMZN - BalanceSheet_Quarter 데이터 삽입 완료\n"
     ]
    },
    {
     "name": "stderr",
     "output_type": "stream",
     "text": [
      "Processing Companies:   5%|▌         | 220/4204 [10:43<3:12:21,  2.90s/it]"
     ]
    },
    {
     "name": "stdout",
     "output_type": "stream",
     "text": [
      "✅ AMZN - CashFlow_Quarter 데이터 삽입 완료\n",
      "✅ ANEB - IncomeStatement_Quarter 데이터 삽입 완료\n",
      "✅ ANEB - BalanceSheet_Quarter 데이터 삽입 완료\n"
     ]
    },
    {
     "name": "stderr",
     "output_type": "stream",
     "text": [
      "Processing Companies:   5%|▌         | 221/4204 [10:46<3:08:20,  2.84s/it]"
     ]
    },
    {
     "name": "stdout",
     "output_type": "stream",
     "text": [
      "✅ ANEB - CashFlow_Quarter 데이터 삽입 완료\n",
      "✅ ANDE - IncomeStatement_Quarter 데이터 삽입 완료\n",
      "✅ ANDE - BalanceSheet_Quarter 데이터 삽입 완료\n"
     ]
    },
    {
     "name": "stderr",
     "output_type": "stream",
     "text": [
      "Processing Companies:   5%|▌         | 222/4204 [10:49<3:09:24,  2.85s/it]"
     ]
    },
    {
     "name": "stdout",
     "output_type": "stream",
     "text": [
      "✅ ANDE - CashFlow_Quarter 데이터 삽입 완료\n",
      "✅ ANAB - IncomeStatement_Quarter 데이터 삽입 완료\n",
      "✅ ANAB - BalanceSheet_Quarter 데이터 삽입 완료\n"
     ]
    },
    {
     "name": "stderr",
     "output_type": "stream",
     "text": [
      "Processing Companies:   5%|▌         | 223/4204 [10:52<3:08:22,  2.84s/it]"
     ]
    },
    {
     "name": "stdout",
     "output_type": "stream",
     "text": [
      "✅ ANAB - CashFlow_Quarter 데이터 삽입 완료\n",
      "✅ AN - IncomeStatement_Quarter 데이터 삽입 완료\n",
      "✅ AN - BalanceSheet_Quarter 데이터 삽입 완료\n"
     ]
    },
    {
     "name": "stderr",
     "output_type": "stream",
     "text": [
      "Processing Companies:   5%|▌         | 224/4204 [10:54<3:07:36,  2.83s/it]"
     ]
    },
    {
     "name": "stdout",
     "output_type": "stream",
     "text": [
      "✅ AN - CashFlow_Quarter 데이터 삽입 완료\n",
      "✅ ANET - IncomeStatement_Quarter 데이터 삽입 완료\n",
      "✅ ANET - BalanceSheet_Quarter 데이터 삽입 완료\n"
     ]
    },
    {
     "name": "stderr",
     "output_type": "stream",
     "text": [
      "Processing Companies:   5%|▌         | 225/4204 [10:57<3:07:11,  2.82s/it]"
     ]
    },
    {
     "name": "stdout",
     "output_type": "stream",
     "text": [
      "✅ ANET - CashFlow_Quarter 데이터 삽입 완료\n",
      "✅ ANGI - IncomeStatement_Quarter 데이터 삽입 완료\n",
      "✅ ANGI - BalanceSheet_Quarter 데이터 삽입 완료\n"
     ]
    },
    {
     "name": "stderr",
     "output_type": "stream",
     "text": [
      "Processing Companies:   5%|▌         | 226/4204 [11:00<3:12:40,  2.91s/it]"
     ]
    },
    {
     "name": "stdout",
     "output_type": "stream",
     "text": [
      "✅ ANGI - CashFlow_Quarter 데이터 삽입 완료\n",
      "✅ ANF - IncomeStatement_Quarter 데이터 삽입 완료\n",
      "✅ ANF - BalanceSheet_Quarter 데이터 삽입 완료\n"
     ]
    },
    {
     "name": "stderr",
     "output_type": "stream",
     "text": [
      "Processing Companies:   5%|▌         | 227/4204 [11:03<3:17:15,  2.98s/it]"
     ]
    },
    {
     "name": "stdout",
     "output_type": "stream",
     "text": [
      "✅ ANF - CashFlow_Quarter 데이터 삽입 완료\n",
      "❌ IncomeStatement_Quarter 데이터 없음\n",
      "✅ ANGH - BalanceSheet_Quarter 데이터 삽입 완료\n"
     ]
    },
    {
     "name": "stderr",
     "output_type": "stream",
     "text": [
      "Processing Companies:   5%|▌         | 228/4204 [11:06<3:12:27,  2.90s/it]"
     ]
    },
    {
     "name": "stdout",
     "output_type": "stream",
     "text": [
      "❌ CashFlow_Quarter 데이터 없음\n",
      "✅ ANIP - IncomeStatement_Quarter 데이터 삽입 완료\n",
      "✅ ANIP - BalanceSheet_Quarter 데이터 삽입 완료\n"
     ]
    },
    {
     "name": "stderr",
     "output_type": "stream",
     "text": [
      "Processing Companies:   5%|▌         | 229/4204 [11:09<3:12:56,  2.91s/it]"
     ]
    },
    {
     "name": "stdout",
     "output_type": "stream",
     "text": [
      "✅ ANIP - CashFlow_Quarter 데이터 삽입 완료\n",
      "✅ ANGO - IncomeStatement_Quarter 데이터 삽입 완료\n",
      "✅ ANGO - BalanceSheet_Quarter 데이터 삽입 완료\n"
     ]
    },
    {
     "name": "stderr",
     "output_type": "stream",
     "text": [
      "Processing Companies:   5%|▌         | 230/4204 [11:12<3:09:46,  2.87s/it]"
     ]
    },
    {
     "name": "stdout",
     "output_type": "stream",
     "text": [
      "✅ ANGO - CashFlow_Quarter 데이터 삽입 완료\n",
      "✅ ANIK - IncomeStatement_Quarter 데이터 삽입 완료\n",
      "✅ ANIK - BalanceSheet_Quarter 데이터 삽입 완료\n"
     ]
    },
    {
     "name": "stderr",
     "output_type": "stream",
     "text": [
      "Processing Companies:   5%|▌         | 231/4204 [11:15<3:10:00,  2.87s/it]"
     ]
    },
    {
     "name": "stdout",
     "output_type": "stream",
     "text": [
      "✅ ANIK - CashFlow_Quarter 데이터 삽입 완료\n",
      "✅ ANNA - IncomeStatement_Quarter 데이터 삽입 완료\n",
      "✅ ANNA - BalanceSheet_Quarter 데이터 삽입 완료\n"
     ]
    },
    {
     "name": "stderr",
     "output_type": "stream",
     "text": [
      "Processing Companies:   6%|▌         | 232/4204 [11:17<3:06:31,  2.82s/it]"
     ]
    },
    {
     "name": "stdout",
     "output_type": "stream",
     "text": [
      "✅ ANNA - CashFlow_Quarter 데이터 삽입 완료\n",
      "✅ ANIX - IncomeStatement_Quarter 데이터 삽입 완료\n",
      "✅ ANIX - BalanceSheet_Quarter 데이터 삽입 완료\n"
     ]
    },
    {
     "name": "stderr",
     "output_type": "stream",
     "text": [
      "Processing Companies:   6%|▌         | 233/4204 [11:20<3:05:25,  2.80s/it]"
     ]
    },
    {
     "name": "stdout",
     "output_type": "stream",
     "text": [
      "✅ ANIX - CashFlow_Quarter 데이터 삽입 완료\n",
      "✅ ANNX - IncomeStatement_Quarter 데이터 삽입 완료\n",
      "✅ ANNX - BalanceSheet_Quarter 데이터 삽입 완료\n"
     ]
    },
    {
     "name": "stderr",
     "output_type": "stream",
     "text": [
      "Processing Companies:   6%|▌         | 234/4204 [11:23<3:05:26,  2.80s/it]"
     ]
    },
    {
     "name": "stdout",
     "output_type": "stream",
     "text": [
      "✅ ANNX - CashFlow_Quarter 데이터 삽입 완료\n",
      "✅ ANVS - IncomeStatement_Quarter 데이터 삽입 완료\n",
      "✅ ANVS - BalanceSheet_Quarter 데이터 삽입 완료\n"
     ]
    },
    {
     "name": "stderr",
     "output_type": "stream",
     "text": [
      "Processing Companies:   6%|▌         | 235/4204 [11:26<3:04:00,  2.78s/it]"
     ]
    },
    {
     "name": "stdout",
     "output_type": "stream",
     "text": [
      "✅ ANVS - CashFlow_Quarter 데이터 삽입 완료\n",
      "✅ ANTX - IncomeStatement_Quarter 데이터 삽입 완료\n",
      "✅ ANTX - BalanceSheet_Quarter 데이터 삽입 완료\n"
     ]
    },
    {
     "name": "stderr",
     "output_type": "stream",
     "text": [
      "Processing Companies:   6%|▌         | 236/4204 [11:28<3:02:27,  2.76s/it]"
     ]
    },
    {
     "name": "stdout",
     "output_type": "stream",
     "text": [
      "✅ ANTX - CashFlow_Quarter 데이터 삽입 완료\n",
      "❌ IncomeStatement_Quarter 데이터 없음\n",
      "✅ ANTE - BalanceSheet_Quarter 데이터 삽입 완료\n"
     ]
    },
    {
     "name": "stderr",
     "output_type": "stream",
     "text": [
      "Processing Companies:   6%|▌         | 237/4204 [11:31<3:01:22,  2.74s/it]"
     ]
    },
    {
     "name": "stdout",
     "output_type": "stream",
     "text": [
      "❌ CashFlow_Quarter 데이터 없음\n",
      "✅ AON - IncomeStatement_Quarter 데이터 삽입 완료\n",
      "✅ AON - BalanceSheet_Quarter 데이터 삽입 완료\n"
     ]
    },
    {
     "name": "stderr",
     "output_type": "stream",
     "text": [
      "Processing Companies:   6%|▌         | 238/4204 [11:34<3:04:10,  2.79s/it]"
     ]
    },
    {
     "name": "stdout",
     "output_type": "stream",
     "text": [
      "✅ AON - CashFlow_Quarter 데이터 삽입 완료\n",
      "✅ AORT - IncomeStatement_Quarter 데이터 삽입 완료\n",
      "✅ AORT - BalanceSheet_Quarter 데이터 삽입 완료\n"
     ]
    },
    {
     "name": "stderr",
     "output_type": "stream",
     "text": [
      "Processing Companies:   6%|▌         | 239/4204 [11:37<3:05:19,  2.80s/it]"
     ]
    },
    {
     "name": "stdout",
     "output_type": "stream",
     "text": [
      "✅ AORT - CashFlow_Quarter 데이터 삽입 완료\n",
      "✅ AOMR - IncomeStatement_Quarter 데이터 삽입 완료\n",
      "✅ AOMR - BalanceSheet_Quarter 데이터 삽입 완료\n"
     ]
    },
    {
     "name": "stderr",
     "output_type": "stream",
     "text": [
      "Processing Companies:   6%|▌         | 240/4204 [11:41<3:28:10,  3.15s/it]"
     ]
    },
    {
     "name": "stdout",
     "output_type": "stream",
     "text": [
      "✅ AOMR - CashFlow_Quarter 데이터 삽입 완료\n",
      "✅ AOS - IncomeStatement_Quarter 데이터 삽입 완료\n",
      "✅ AOS - BalanceSheet_Quarter 데이터 삽입 완료\n"
     ]
    },
    {
     "name": "stderr",
     "output_type": "stream",
     "text": [
      "Processing Companies:   6%|▌         | 241/4204 [11:44<3:24:19,  3.09s/it]"
     ]
    },
    {
     "name": "stdout",
     "output_type": "stream",
     "text": [
      "✅ AOS - CashFlow_Quarter 데이터 삽입 완료\n",
      "✅ AOSL - IncomeStatement_Quarter 데이터 삽입 완료\n",
      "✅ AOSL - BalanceSheet_Quarter 데이터 삽입 완료\n"
     ]
    },
    {
     "name": "stderr",
     "output_type": "stream",
     "text": [
      "Processing Companies:   6%|▌         | 242/4204 [11:47<3:20:10,  3.03s/it]"
     ]
    },
    {
     "name": "stdout",
     "output_type": "stream",
     "text": [
      "✅ AOSL - CashFlow_Quarter 데이터 삽입 완료\n",
      "✅ AOUT - IncomeStatement_Quarter 데이터 삽입 완료\n",
      "✅ AOUT - BalanceSheet_Quarter 데이터 삽입 완료\n"
     ]
    },
    {
     "name": "stderr",
     "output_type": "stream",
     "text": [
      "Processing Companies:   6%|▌         | 243/4204 [11:49<3:15:27,  2.96s/it]"
     ]
    },
    {
     "name": "stdout",
     "output_type": "stream",
     "text": [
      "✅ AOUT - CashFlow_Quarter 데이터 삽입 완료\n",
      "✅ AP - IncomeStatement_Quarter 데이터 삽입 완료\n",
      "✅ AP - BalanceSheet_Quarter 데이터 삽입 완료\n"
     ]
    },
    {
     "name": "stderr",
     "output_type": "stream",
     "text": [
      "Processing Companies:   6%|▌         | 244/4204 [11:52<3:14:15,  2.94s/it]"
     ]
    },
    {
     "name": "stdout",
     "output_type": "stream",
     "text": [
      "✅ AP - CashFlow_Quarter 데이터 삽입 완료\n",
      "✅ APD - IncomeStatement_Quarter 데이터 삽입 완료\n",
      "✅ APD - BalanceSheet_Quarter 데이터 삽입 완료\n"
     ]
    },
    {
     "name": "stderr",
     "output_type": "stream",
     "text": [
      "Processing Companies:   6%|▌         | 245/4204 [11:55<3:16:27,  2.98s/it]"
     ]
    },
    {
     "name": "stdout",
     "output_type": "stream",
     "text": [
      "✅ APD - CashFlow_Quarter 데이터 삽입 완료\n",
      "✅ APDN - IncomeStatement_Quarter 데이터 삽입 완료\n",
      "✅ APDN - BalanceSheet_Quarter 데이터 삽입 완료\n"
     ]
    },
    {
     "name": "stderr",
     "output_type": "stream",
     "text": [
      "Processing Companies:   6%|▌         | 246/4204 [11:58<3:15:01,  2.96s/it]"
     ]
    },
    {
     "name": "stdout",
     "output_type": "stream",
     "text": [
      "✅ APDN - CashFlow_Quarter 데이터 삽입 완료\n",
      "✅ APA - IncomeStatement_Quarter 데이터 삽입 완료\n",
      "✅ APA - BalanceSheet_Quarter 데이터 삽입 완료\n"
     ]
    },
    {
     "name": "stderr",
     "output_type": "stream",
     "text": [
      "Processing Companies:   6%|▌         | 247/4204 [12:01<3:13:49,  2.94s/it]"
     ]
    },
    {
     "name": "stdout",
     "output_type": "stream",
     "text": [
      "✅ APA - CashFlow_Quarter 데이터 삽입 완료\n",
      "✅ APEI - IncomeStatement_Quarter 데이터 삽입 완료\n",
      "✅ APEI - BalanceSheet_Quarter 데이터 삽입 완료\n"
     ]
    },
    {
     "name": "stderr",
     "output_type": "stream",
     "text": [
      "Processing Companies:   6%|▌         | 248/4204 [12:04<3:16:08,  2.97s/it]"
     ]
    },
    {
     "name": "stdout",
     "output_type": "stream",
     "text": [
      "✅ APEI - CashFlow_Quarter 데이터 삽입 완료\n",
      "✅ APG - IncomeStatement_Quarter 데이터 삽입 완료\n",
      "✅ APG - BalanceSheet_Quarter 데이터 삽입 완료\n"
     ]
    },
    {
     "name": "stderr",
     "output_type": "stream",
     "text": [
      "Processing Companies:   6%|▌         | 249/4204 [12:07<3:11:28,  2.90s/it]"
     ]
    },
    {
     "name": "stdout",
     "output_type": "stream",
     "text": [
      "✅ APG - CashFlow_Quarter 데이터 삽입 완료\n",
      "✅ API - IncomeStatement_Quarter 데이터 삽입 완료\n",
      "✅ API - BalanceSheet_Quarter 데이터 삽입 완료\n"
     ]
    },
    {
     "name": "stderr",
     "output_type": "stream",
     "text": [
      "Processing Companies:   6%|▌         | 250/4204 [12:10<3:08:21,  2.86s/it]"
     ]
    },
    {
     "name": "stdout",
     "output_type": "stream",
     "text": [
      "✅ API - CashFlow_Quarter 데이터 삽입 완료\n",
      "✅ APLE - IncomeStatement_Quarter 데이터 삽입 완료\n",
      "✅ APLE - BalanceSheet_Quarter 데이터 삽입 완료\n"
     ]
    },
    {
     "name": "stderr",
     "output_type": "stream",
     "text": [
      "Processing Companies:   6%|▌         | 251/4204 [12:13<3:06:01,  2.82s/it]"
     ]
    },
    {
     "name": "stdout",
     "output_type": "stream",
     "text": [
      "✅ APLE - CashFlow_Quarter 데이터 삽입 완료\n",
      "✅ APLS - IncomeStatement_Quarter 데이터 삽입 완료\n",
      "✅ APLS - BalanceSheet_Quarter 데이터 삽입 완료\n"
     ]
    },
    {
     "name": "stderr",
     "output_type": "stream",
     "text": [
      "Processing Companies:   6%|▌         | 252/4204 [12:15<3:05:25,  2.82s/it]"
     ]
    },
    {
     "name": "stdout",
     "output_type": "stream",
     "text": [
      "✅ APLS - CashFlow_Quarter 데이터 삽입 완료\n",
      "✅ APLT - IncomeStatement_Quarter 데이터 삽입 완료\n",
      "✅ APLT - BalanceSheet_Quarter 데이터 삽입 완료\n"
     ]
    },
    {
     "name": "stderr",
     "output_type": "stream",
     "text": [
      "Processing Companies:   6%|▌         | 253/4204 [12:18<3:07:02,  2.84s/it]"
     ]
    },
    {
     "name": "stdout",
     "output_type": "stream",
     "text": [
      "✅ APLT - CashFlow_Quarter 데이터 삽입 완료\n",
      "❌ IncomeStatement_Quarter 데이터 없음\n",
      "✅ APLM - BalanceSheet_Quarter 데이터 삽입 완료\n"
     ]
    },
    {
     "name": "stderr",
     "output_type": "stream",
     "text": [
      "Processing Companies:   6%|▌         | 254/4204 [12:21<3:02:12,  2.77s/it]"
     ]
    },
    {
     "name": "stdout",
     "output_type": "stream",
     "text": [
      "❌ CashFlow_Quarter 데이터 없음\n",
      "❌ IncomeStatement_Quarter 데이터 없음\n",
      "✅ APM - BalanceSheet_Quarter 데이터 삽입 완료\n"
     ]
    },
    {
     "name": "stderr",
     "output_type": "stream",
     "text": [
      "Processing Companies:   6%|▌         | 255/4204 [12:24<3:02:18,  2.77s/it]"
     ]
    },
    {
     "name": "stdout",
     "output_type": "stream",
     "text": [
      "❌ CashFlow_Quarter 데이터 없음\n",
      "✅ APOG - IncomeStatement_Quarter 데이터 삽입 완료\n",
      "✅ APOG - BalanceSheet_Quarter 데이터 삽입 완료\n"
     ]
    },
    {
     "name": "stderr",
     "output_type": "stream",
     "text": [
      "Processing Companies:   6%|▌         | 256/4204 [12:27<3:10:42,  2.90s/it]"
     ]
    },
    {
     "name": "stdout",
     "output_type": "stream",
     "text": [
      "✅ APOG - CashFlow_Quarter 데이터 삽입 완료\n",
      "✅ APP - IncomeStatement_Quarter 데이터 삽입 완료\n",
      "✅ APP - BalanceSheet_Quarter 데이터 삽입 완료\n"
     ]
    },
    {
     "name": "stderr",
     "output_type": "stream",
     "text": [
      "Processing Companies:   6%|▌         | 257/4204 [12:30<3:08:16,  2.86s/it]"
     ]
    },
    {
     "name": "stdout",
     "output_type": "stream",
     "text": [
      "✅ APP - CashFlow_Quarter 데이터 삽입 완료\n",
      "✅ APPS - IncomeStatement_Quarter 데이터 삽입 완료\n",
      "✅ APPS - BalanceSheet_Quarter 데이터 삽입 완료\n"
     ]
    },
    {
     "name": "stderr",
     "output_type": "stream",
     "text": [
      "Processing Companies:   6%|▌         | 258/4204 [12:32<3:07:53,  2.86s/it]"
     ]
    },
    {
     "name": "stdout",
     "output_type": "stream",
     "text": [
      "✅ APPS - CashFlow_Quarter 데이터 삽입 완료\n",
      "✅ APPF - IncomeStatement_Quarter 데이터 삽입 완료\n",
      "✅ APPF - BalanceSheet_Quarter 데이터 삽입 완료\n"
     ]
    },
    {
     "name": "stderr",
     "output_type": "stream",
     "text": [
      "Processing Companies:   6%|▌         | 259/4204 [12:35<3:07:48,  2.86s/it]"
     ]
    },
    {
     "name": "stdout",
     "output_type": "stream",
     "text": [
      "✅ APPF - CashFlow_Quarter 데이터 삽입 완료\n",
      "✅ APRE - IncomeStatement_Quarter 데이터 삽입 완료\n",
      "✅ APRE - BalanceSheet_Quarter 데이터 삽입 완료\n"
     ]
    },
    {
     "name": "stderr",
     "output_type": "stream",
     "text": [
      "Processing Companies:   6%|▌         | 260/4204 [12:38<3:06:57,  2.84s/it]"
     ]
    },
    {
     "name": "stdout",
     "output_type": "stream",
     "text": [
      "✅ APRE - CashFlow_Quarter 데이터 삽입 완료\n",
      "✅ APT - IncomeStatement_Quarter 데이터 삽입 완료\n",
      "✅ APT - BalanceSheet_Quarter 데이터 삽입 완료\n"
     ]
    },
    {
     "name": "stderr",
     "output_type": "stream",
     "text": [
      "Processing Companies:   6%|▌         | 261/4204 [12:41<3:03:42,  2.80s/it]"
     ]
    },
    {
     "name": "stdout",
     "output_type": "stream",
     "text": [
      "✅ APT - CashFlow_Quarter 데이터 삽입 완료\n",
      "✅ APTV - IncomeStatement_Quarter 데이터 삽입 완료\n",
      "✅ APTV - BalanceSheet_Quarter 데이터 삽입 완료\n"
     ]
    },
    {
     "name": "stderr",
     "output_type": "stream",
     "text": [
      "Processing Companies:   6%|▌         | 262/4204 [12:44<3:09:44,  2.89s/it]"
     ]
    },
    {
     "name": "stdout",
     "output_type": "stream",
     "text": [
      "✅ APTV - CashFlow_Quarter 데이터 삽입 완료\n",
      "✅ APLD - IncomeStatement_Quarter 데이터 삽입 완료\n",
      "✅ APLD - BalanceSheet_Quarter 데이터 삽입 완료\n"
     ]
    },
    {
     "name": "stderr",
     "output_type": "stream",
     "text": [
      "Processing Companies:   6%|▋         | 263/4204 [12:47<3:07:57,  2.86s/it]"
     ]
    },
    {
     "name": "stdout",
     "output_type": "stream",
     "text": [
      "✅ APLD - CashFlow_Quarter 데이터 삽입 완료\n",
      "✅ APWC - IncomeStatement_Quarter 데이터 삽입 완료\n",
      "✅ APWC - BalanceSheet_Quarter 데이터 삽입 완료\n"
     ]
    },
    {
     "name": "stderr",
     "output_type": "stream",
     "text": [
      "Processing Companies:   6%|▋         | 264/4204 [12:49<3:05:47,  2.83s/it]"
     ]
    },
    {
     "name": "stdout",
     "output_type": "stream",
     "text": [
      "✅ APWC - CashFlow_Quarter 데이터 삽입 완료\n",
      "✅ APVO - IncomeStatement_Quarter 데이터 삽입 완료\n",
      "✅ APVO - BalanceSheet_Quarter 데이터 삽입 완료\n"
     ]
    },
    {
     "name": "stderr",
     "output_type": "stream",
     "text": [
      "Processing Companies:   6%|▋         | 265/4204 [12:52<3:04:05,  2.80s/it]"
     ]
    },
    {
     "name": "stdout",
     "output_type": "stream",
     "text": [
      "✅ APVO - CashFlow_Quarter 데이터 삽입 완료\n",
      "✅ APYX - IncomeStatement_Quarter 데이터 삽입 완료\n",
      "✅ APYX - BalanceSheet_Quarter 데이터 삽입 완료\n"
     ]
    },
    {
     "name": "stderr",
     "output_type": "stream",
     "text": [
      "Processing Companies:   6%|▋         | 266/4204 [12:55<3:04:20,  2.81s/it]"
     ]
    },
    {
     "name": "stdout",
     "output_type": "stream",
     "text": [
      "✅ APYX - CashFlow_Quarter 데이터 삽입 완료\n",
      "✅ AQB - IncomeStatement_Quarter 데이터 삽입 완료\n",
      "✅ AQB - BalanceSheet_Quarter 데이터 삽입 완료\n"
     ]
    },
    {
     "name": "stderr",
     "output_type": "stream",
     "text": [
      "Processing Companies:   6%|▋         | 267/4204 [12:58<3:03:48,  2.80s/it]"
     ]
    },
    {
     "name": "stdout",
     "output_type": "stream",
     "text": [
      "✅ AQB - CashFlow_Quarter 데이터 삽입 완료\n",
      "✅ AQN - IncomeStatement_Quarter 데이터 삽입 완료\n",
      "✅ AQN - BalanceSheet_Quarter 데이터 삽입 완료\n"
     ]
    },
    {
     "name": "stderr",
     "output_type": "stream",
     "text": [
      "Processing Companies:   6%|▋         | 268/4204 [13:01<3:03:56,  2.80s/it]"
     ]
    },
    {
     "name": "stdout",
     "output_type": "stream",
     "text": [
      "✅ AQN - CashFlow_Quarter 데이터 삽입 완료\n",
      "✅ AQST - IncomeStatement_Quarter 데이터 삽입 완료\n",
      "✅ AQST - BalanceSheet_Quarter 데이터 삽입 완료\n"
     ]
    },
    {
     "name": "stderr",
     "output_type": "stream",
     "text": [
      "Processing Companies:   6%|▋         | 269/4204 [13:04<3:05:34,  2.83s/it]"
     ]
    },
    {
     "name": "stdout",
     "output_type": "stream",
     "text": [
      "✅ AQST - CashFlow_Quarter 데이터 삽입 완료\n",
      "✅ AR - IncomeStatement_Quarter 데이터 삽입 완료\n",
      "✅ AR - BalanceSheet_Quarter 데이터 삽입 완료\n"
     ]
    },
    {
     "name": "stderr",
     "output_type": "stream",
     "text": [
      "Processing Companies:   6%|▋         | 270/4204 [13:06<3:05:06,  2.82s/it]"
     ]
    },
    {
     "name": "stdout",
     "output_type": "stream",
     "text": [
      "✅ AR - CashFlow_Quarter 데이터 삽입 완료\n",
      "✅ ARCB - IncomeStatement_Quarter 데이터 삽입 완료\n",
      "✅ ARCB - BalanceSheet_Quarter 데이터 삽입 완료\n"
     ]
    },
    {
     "name": "stderr",
     "output_type": "stream",
     "text": [
      "Processing Companies:   6%|▋         | 271/4204 [13:09<3:10:19,  2.90s/it]"
     ]
    },
    {
     "name": "stdout",
     "output_type": "stream",
     "text": [
      "✅ ARCB - CashFlow_Quarter 데이터 삽입 완료\n",
      "✅ ARCO - IncomeStatement_Quarter 데이터 삽입 완료\n",
      "✅ ARCO - BalanceSheet_Quarter 데이터 삽입 완료\n"
     ]
    },
    {
     "name": "stderr",
     "output_type": "stream",
     "text": [
      "Processing Companies:   6%|▋         | 272/4204 [13:13<3:15:30,  2.98s/it]"
     ]
    },
    {
     "name": "stdout",
     "output_type": "stream",
     "text": [
      "✅ ARCO - CashFlow_Quarter 데이터 삽입 완료\n",
      "✅ ARCT - IncomeStatement_Quarter 데이터 삽입 완료\n",
      "✅ ARCT - BalanceSheet_Quarter 데이터 삽입 완료\n"
     ]
    },
    {
     "name": "stderr",
     "output_type": "stream",
     "text": [
      "Processing Companies:   6%|▋         | 273/4204 [13:16<3:16:14,  3.00s/it]"
     ]
    },
    {
     "name": "stdout",
     "output_type": "stream",
     "text": [
      "✅ ARCT - CashFlow_Quarter 데이터 삽입 완료\n",
      "✅ ARDX - IncomeStatement_Quarter 데이터 삽입 완료\n",
      "✅ ARDX - BalanceSheet_Quarter 데이터 삽입 완료\n"
     ]
    },
    {
     "name": "stderr",
     "output_type": "stream",
     "text": [
      "Processing Companies:   7%|▋         | 274/4204 [13:18<3:11:28,  2.92s/it]"
     ]
    },
    {
     "name": "stdout",
     "output_type": "stream",
     "text": [
      "✅ ARDX - CashFlow_Quarter 데이터 삽입 완료\n",
      "✅ ARE - IncomeStatement_Quarter 데이터 삽입 완료\n",
      "✅ ARE - BalanceSheet_Quarter 데이터 삽입 완료\n"
     ]
    },
    {
     "name": "stderr",
     "output_type": "stream",
     "text": [
      "Processing Companies:   7%|▋         | 275/4204 [13:21<3:11:02,  2.92s/it]"
     ]
    },
    {
     "name": "stdout",
     "output_type": "stream",
     "text": [
      "✅ ARE - CashFlow_Quarter 데이터 삽입 완료\n",
      "✅ AREB - IncomeStatement_Quarter 데이터 삽입 완료\n",
      "✅ AREB - BalanceSheet_Quarter 데이터 삽입 완료\n"
     ]
    },
    {
     "name": "stderr",
     "output_type": "stream",
     "text": [
      "Processing Companies:   7%|▋         | 276/4204 [13:24<3:09:58,  2.90s/it]"
     ]
    },
    {
     "name": "stdout",
     "output_type": "stream",
     "text": [
      "✅ AREB - CashFlow_Quarter 데이터 삽입 완료\n",
      "✅ AREC - IncomeStatement_Quarter 데이터 삽입 완료\n",
      "✅ AREC - BalanceSheet_Quarter 데이터 삽입 완료\n"
     ]
    },
    {
     "name": "stderr",
     "output_type": "stream",
     "text": [
      "Processing Companies:   7%|▋         | 277/4204 [13:27<3:08:41,  2.88s/it]"
     ]
    },
    {
     "name": "stdout",
     "output_type": "stream",
     "text": [
      "✅ AREC - CashFlow_Quarter 데이터 삽입 완료\n",
      "✅ ARGX - IncomeStatement_Quarter 데이터 삽입 완료\n",
      "✅ ARGX - BalanceSheet_Quarter 데이터 삽입 완료\n"
     ]
    },
    {
     "name": "stderr",
     "output_type": "stream",
     "text": [
      "Processing Companies:   7%|▋         | 278/4204 [13:30<3:05:44,  2.84s/it]"
     ]
    },
    {
     "name": "stdout",
     "output_type": "stream",
     "text": [
      "❌ CashFlow_Quarter 데이터 없음\n",
      "✅ ARIS - IncomeStatement_Quarter 데이터 삽입 완료\n",
      "✅ ARIS - BalanceSheet_Quarter 데이터 삽입 완료\n"
     ]
    },
    {
     "name": "stderr",
     "output_type": "stream",
     "text": [
      "Processing Companies:   7%|▋         | 279/4204 [13:33<3:09:02,  2.89s/it]"
     ]
    },
    {
     "name": "stdout",
     "output_type": "stream",
     "text": [
      "✅ ARIS - CashFlow_Quarter 데이터 삽입 완료\n",
      "✅ ARI - IncomeStatement_Quarter 데이터 삽입 완료\n",
      "✅ ARI - BalanceSheet_Quarter 데이터 삽입 완료\n"
     ]
    },
    {
     "name": "stderr",
     "output_type": "stream",
     "text": [
      "Processing Companies:   7%|▋         | 280/4204 [13:36<3:10:11,  2.91s/it]"
     ]
    },
    {
     "name": "stdout",
     "output_type": "stream",
     "text": [
      "✅ ARI - CashFlow_Quarter 데이터 삽입 완료\n",
      "✅ ARHS - IncomeStatement_Quarter 데이터 삽입 완료\n",
      "✅ ARHS - BalanceSheet_Quarter 데이터 삽입 완료\n"
     ]
    },
    {
     "name": "stderr",
     "output_type": "stream",
     "text": [
      "Processing Companies:   7%|▋         | 281/4204 [13:38<3:07:57,  2.87s/it]"
     ]
    },
    {
     "name": "stdout",
     "output_type": "stream",
     "text": [
      "✅ ARHS - CashFlow_Quarter 데이터 삽입 완료\n",
      "✅ ARKR - IncomeStatement_Quarter 데이터 삽입 완료\n",
      "✅ ARKR - BalanceSheet_Quarter 데이터 삽입 완료\n"
     ]
    },
    {
     "name": "stderr",
     "output_type": "stream",
     "text": [
      "Processing Companies:   7%|▋         | 282/4204 [13:41<3:10:21,  2.91s/it]"
     ]
    },
    {
     "name": "stdout",
     "output_type": "stream",
     "text": [
      "✅ ARKR - CashFlow_Quarter 데이터 삽입 완료\n",
      "✅ ARKO - IncomeStatement_Quarter 데이터 삽입 완료\n",
      "✅ ARKO - BalanceSheet_Quarter 데이터 삽입 완료\n"
     ]
    },
    {
     "name": "stderr",
     "output_type": "stream",
     "text": [
      "Processing Companies:   7%|▋         | 283/4204 [13:45<3:17:21,  3.02s/it]"
     ]
    },
    {
     "name": "stdout",
     "output_type": "stream",
     "text": [
      "✅ ARKO - CashFlow_Quarter 데이터 삽입 완료\n",
      "✅ ARLP - IncomeStatement_Quarter 데이터 삽입 완료\n",
      "✅ ARLP - BalanceSheet_Quarter 데이터 삽입 완료\n"
     ]
    },
    {
     "name": "stderr",
     "output_type": "stream",
     "text": [
      "Processing Companies:   7%|▋         | 284/4204 [13:47<3:12:34,  2.95s/it]"
     ]
    },
    {
     "name": "stdout",
     "output_type": "stream",
     "text": [
      "✅ ARLP - CashFlow_Quarter 데이터 삽입 완료\n",
      "✅ ARLO - IncomeStatement_Quarter 데이터 삽입 완료\n",
      "✅ ARLO - BalanceSheet_Quarter 데이터 삽입 완료\n"
     ]
    },
    {
     "name": "stderr",
     "output_type": "stream",
     "text": [
      "Processing Companies:   7%|▋         | 285/4204 [13:50<3:09:39,  2.90s/it]"
     ]
    },
    {
     "name": "stdout",
     "output_type": "stream",
     "text": [
      "✅ ARLO - CashFlow_Quarter 데이터 삽입 완료\n",
      "✅ ARMK - IncomeStatement_Quarter 데이터 삽입 완료\n",
      "✅ ARMK - BalanceSheet_Quarter 데이터 삽입 완료\n"
     ]
    },
    {
     "name": "stderr",
     "output_type": "stream",
     "text": [
      "Processing Companies:   7%|▋         | 286/4204 [13:53<3:08:58,  2.89s/it]"
     ]
    },
    {
     "name": "stdout",
     "output_type": "stream",
     "text": [
      "✅ ARMK - CashFlow_Quarter 데이터 삽입 완료\n",
      "✅ AROW - IncomeStatement_Quarter 데이터 삽입 완료\n",
      "✅ AROW - BalanceSheet_Quarter 데이터 삽입 완료\n"
     ]
    },
    {
     "name": "stderr",
     "output_type": "stream",
     "text": [
      "Processing Companies:   7%|▋         | 287/4204 [13:56<3:07:58,  2.88s/it]"
     ]
    },
    {
     "name": "stdout",
     "output_type": "stream",
     "text": [
      "✅ AROW - CashFlow_Quarter 데이터 삽입 완료\n",
      "✅ ARMP - IncomeStatement_Quarter 데이터 삽입 완료\n",
      "✅ ARMP - BalanceSheet_Quarter 데이터 삽입 완료\n"
     ]
    },
    {
     "name": "stderr",
     "output_type": "stream",
     "text": [
      "Processing Companies:   7%|▋         | 288/4204 [13:59<3:06:07,  2.85s/it]"
     ]
    },
    {
     "name": "stdout",
     "output_type": "stream",
     "text": [
      "✅ ARMP - CashFlow_Quarter 데이터 삽입 완료\n",
      "✅ ARMN - IncomeStatement_Quarter 데이터 삽입 완료\n",
      "✅ ARMN - BalanceSheet_Quarter 데이터 삽입 완료\n"
     ]
    },
    {
     "name": "stderr",
     "output_type": "stream",
     "text": [
      "Processing Companies:   7%|▋         | 289/4204 [14:02<3:06:12,  2.85s/it]"
     ]
    },
    {
     "name": "stdout",
     "output_type": "stream",
     "text": [
      "✅ ARMN - CashFlow_Quarter 데이터 삽입 완료\n",
      "✅ AROC - IncomeStatement_Quarter 데이터 삽입 완료\n",
      "✅ AROC - BalanceSheet_Quarter 데이터 삽입 완료\n"
     ]
    },
    {
     "name": "stderr",
     "output_type": "stream",
     "text": [
      "Processing Companies:   7%|▋         | 290/4204 [14:05<3:07:07,  2.87s/it]"
     ]
    },
    {
     "name": "stdout",
     "output_type": "stream",
     "text": [
      "✅ AROC - CashFlow_Quarter 데이터 삽입 완료\n",
      "✅ ARQ - IncomeStatement_Quarter 데이터 삽입 완료\n",
      "✅ ARQ - BalanceSheet_Quarter 데이터 삽입 완료\n"
     ]
    },
    {
     "name": "stderr",
     "output_type": "stream",
     "text": [
      "Processing Companies:   7%|▋         | 291/4204 [14:08<3:08:29,  2.89s/it]"
     ]
    },
    {
     "name": "stdout",
     "output_type": "stream",
     "text": [
      "✅ ARQ - CashFlow_Quarter 데이터 삽입 완료\n",
      "❌ IncomeStatement_Quarter 데이터 없음\n",
      "✅ ARQQ - BalanceSheet_Quarter 데이터 삽입 완료\n"
     ]
    },
    {
     "name": "stderr",
     "output_type": "stream",
     "text": [
      "Processing Companies:   7%|▋         | 292/4204 [14:10<3:03:22,  2.81s/it]"
     ]
    },
    {
     "name": "stdout",
     "output_type": "stream",
     "text": [
      "❌ CashFlow_Quarter 데이터 없음\n",
      "✅ ARQT - IncomeStatement_Quarter 데이터 삽입 완료\n",
      "✅ ARQT - BalanceSheet_Quarter 데이터 삽입 완료\n"
     ]
    },
    {
     "name": "stderr",
     "output_type": "stream",
     "text": [
      "Processing Companies:   7%|▋         | 293/4204 [14:13<3:04:34,  2.83s/it]"
     ]
    },
    {
     "name": "stdout",
     "output_type": "stream",
     "text": [
      "✅ ARQT - CashFlow_Quarter 데이터 삽입 완료\n",
      "✅ ARR - IncomeStatement_Quarter 데이터 삽입 완료\n",
      "✅ ARR - BalanceSheet_Quarter 데이터 삽입 완료\n"
     ]
    },
    {
     "name": "stderr",
     "output_type": "stream",
     "text": [
      "Processing Companies:   7%|▋         | 294/4204 [14:16<3:04:06,  2.83s/it]"
     ]
    },
    {
     "name": "stdout",
     "output_type": "stream",
     "text": [
      "✅ ARR - CashFlow_Quarter 데이터 삽입 완료\n",
      "✅ ARRY - IncomeStatement_Quarter 데이터 삽입 완료\n",
      "✅ ARRY - BalanceSheet_Quarter 데이터 삽입 완료\n"
     ]
    },
    {
     "name": "stderr",
     "output_type": "stream",
     "text": [
      "Processing Companies:   7%|▋         | 295/4204 [14:19<3:07:04,  2.87s/it]"
     ]
    },
    {
     "name": "stdout",
     "output_type": "stream",
     "text": [
      "✅ ARRY - CashFlow_Quarter 데이터 삽입 완료\n",
      "✅ ARTNA - IncomeStatement_Quarter 데이터 삽입 완료\n",
      "✅ ARTNA - BalanceSheet_Quarter 데이터 삽입 완료\n"
     ]
    },
    {
     "name": "stderr",
     "output_type": "stream",
     "text": [
      "Processing Companies:   7%|▋         | 296/4204 [14:22<3:07:50,  2.88s/it]"
     ]
    },
    {
     "name": "stdout",
     "output_type": "stream",
     "text": [
      "✅ ARTNA - CashFlow_Quarter 데이터 삽입 완료\n",
      "✅ ARTL - IncomeStatement_Quarter 데이터 삽입 완료\n",
      "✅ ARTL - BalanceSheet_Quarter 데이터 삽입 완료\n"
     ]
    },
    {
     "name": "stderr",
     "output_type": "stream",
     "text": [
      "Processing Companies:   7%|▋         | 297/4204 [14:25<3:06:48,  2.87s/it]"
     ]
    },
    {
     "name": "stdout",
     "output_type": "stream",
     "text": [
      "✅ ARTL - CashFlow_Quarter 데이터 삽입 완료\n",
      "✅ ARTW - IncomeStatement_Quarter 데이터 삽입 완료\n",
      "✅ ARTW - BalanceSheet_Quarter 데이터 삽입 완료\n"
     ]
    },
    {
     "name": "stderr",
     "output_type": "stream",
     "text": [
      "Processing Companies:   7%|▋         | 298/4204 [14:27<3:06:28,  2.86s/it]"
     ]
    },
    {
     "name": "stdout",
     "output_type": "stream",
     "text": [
      "✅ ARTW - CashFlow_Quarter 데이터 삽입 완료\n",
      "✅ ARVN - IncomeStatement_Quarter 데이터 삽입 완료\n",
      "✅ ARVN - BalanceSheet_Quarter 데이터 삽입 완료\n"
     ]
    },
    {
     "name": "stderr",
     "output_type": "stream",
     "text": [
      "Processing Companies:   7%|▋         | 299/4204 [14:30<3:08:03,  2.89s/it]"
     ]
    },
    {
     "name": "stdout",
     "output_type": "stream",
     "text": [
      "✅ ARVN - CashFlow_Quarter 데이터 삽입 완료\n",
      "✅ ARW - IncomeStatement_Quarter 데이터 삽입 완료\n",
      "✅ ARW - BalanceSheet_Quarter 데이터 삽입 완료\n"
     ]
    },
    {
     "name": "stderr",
     "output_type": "stream",
     "text": [
      "Processing Companies:   7%|▋         | 300/4204 [14:33<3:07:16,  2.88s/it]"
     ]
    },
    {
     "name": "stdout",
     "output_type": "stream",
     "text": [
      "✅ ARW - CashFlow_Quarter 데이터 삽입 완료\n",
      "✅ ASAN - IncomeStatement_Quarter 데이터 삽입 완료\n",
      "✅ ASAN - BalanceSheet_Quarter 데이터 삽입 완료\n"
     ]
    },
    {
     "name": "stderr",
     "output_type": "stream",
     "text": [
      "Processing Companies:   7%|▋         | 301/4204 [14:36<3:05:08,  2.85s/it]"
     ]
    },
    {
     "name": "stdout",
     "output_type": "stream",
     "text": [
      "✅ ASAN - CashFlow_Quarter 데이터 삽입 완료\n",
      "✅ ASBP - IncomeStatement_Quarter 데이터 삽입 완료\n",
      "✅ ASBP - BalanceSheet_Quarter 데이터 삽입 완료\n"
     ]
    },
    {
     "name": "stderr",
     "output_type": "stream",
     "text": [
      "Processing Companies:   7%|▋         | 302/4204 [14:39<3:02:56,  2.81s/it]"
     ]
    },
    {
     "name": "stdout",
     "output_type": "stream",
     "text": [
      "✅ ASBP - CashFlow_Quarter 데이터 삽입 완료\n",
      "✅ ASB - IncomeStatement_Quarter 데이터 삽입 완료\n",
      "✅ ASB - BalanceSheet_Quarter 데이터 삽입 완료\n"
     ]
    },
    {
     "name": "stderr",
     "output_type": "stream",
     "text": [
      "Processing Companies:   7%|▋         | 303/4204 [14:42<3:04:45,  2.84s/it]"
     ]
    },
    {
     "name": "stdout",
     "output_type": "stream",
     "text": [
      "✅ ASB - CashFlow_Quarter 데이터 삽입 완료\n",
      "✅ ASC - IncomeStatement_Quarter 데이터 삽입 완료\n",
      "✅ ASC - BalanceSheet_Quarter 데이터 삽입 완료\n"
     ]
    },
    {
     "name": "stderr",
     "output_type": "stream",
     "text": [
      "Processing Companies:   7%|▋         | 304/4204 [14:45<3:06:20,  2.87s/it]"
     ]
    },
    {
     "name": "stdout",
     "output_type": "stream",
     "text": [
      "✅ ASC - CashFlow_Quarter 데이터 삽입 완료\n",
      "✅ ASGN - IncomeStatement_Quarter 데이터 삽입 완료\n",
      "✅ ASGN - BalanceSheet_Quarter 데이터 삽입 완료\n"
     ]
    },
    {
     "name": "stderr",
     "output_type": "stream",
     "text": [
      "Processing Companies:   7%|▋         | 305/4204 [14:47<3:05:57,  2.86s/it]"
     ]
    },
    {
     "name": "stdout",
     "output_type": "stream",
     "text": [
      "✅ ASGN - CashFlow_Quarter 데이터 삽입 완료\n",
      "✅ ASLE - IncomeStatement_Quarter 데이터 삽입 완료\n",
      "✅ ASLE - BalanceSheet_Quarter 데이터 삽입 완료\n"
     ]
    },
    {
     "name": "stderr",
     "output_type": "stream",
     "text": [
      "Processing Companies:   7%|▋         | 306/4204 [14:50<3:08:49,  2.91s/it]"
     ]
    },
    {
     "name": "stdout",
     "output_type": "stream",
     "text": [
      "✅ ASLE - CashFlow_Quarter 데이터 삽입 완료\n",
      "✅ ASIX - IncomeStatement_Quarter 데이터 삽입 완료\n",
      "✅ ASIX - BalanceSheet_Quarter 데이터 삽입 완료\n"
     ]
    },
    {
     "name": "stderr",
     "output_type": "stream",
     "text": [
      "Processing Companies:   7%|▋         | 307/4204 [14:53<3:06:40,  2.87s/it]"
     ]
    },
    {
     "name": "stdout",
     "output_type": "stream",
     "text": [
      "✅ ASIX - CashFlow_Quarter 데이터 삽입 완료\n",
      "✅ ASH - IncomeStatement_Quarter 데이터 삽입 완료\n",
      "✅ ASH - BalanceSheet_Quarter 데이터 삽입 완료\n"
     ]
    },
    {
     "name": "stderr",
     "output_type": "stream",
     "text": [
      "Processing Companies:   7%|▋         | 308/4204 [14:56<3:07:07,  2.88s/it]"
     ]
    },
    {
     "name": "stdout",
     "output_type": "stream",
     "text": [
      "✅ ASH - CashFlow_Quarter 데이터 삽입 완료\n",
      "✅ ASM - IncomeStatement_Quarter 데이터 삽입 완료\n",
      "✅ ASM - BalanceSheet_Quarter 데이터 삽입 완료\n"
     ]
    },
    {
     "name": "stderr",
     "output_type": "stream",
     "text": [
      "Processing Companies:   7%|▋         | 309/4204 [14:59<3:05:37,  2.86s/it]"
     ]
    },
    {
     "name": "stdout",
     "output_type": "stream",
     "text": [
      "✅ ASM - CashFlow_Quarter 데이터 삽입 완료\n",
      "✅ ASML - IncomeStatement_Quarter 데이터 삽입 완료\n",
      "✅ ASML - BalanceSheet_Quarter 데이터 삽입 완료\n"
     ]
    },
    {
     "name": "stderr",
     "output_type": "stream",
     "text": [
      "Processing Companies:   7%|▋         | 310/4204 [15:02<3:07:33,  2.89s/it]"
     ]
    },
    {
     "name": "stdout",
     "output_type": "stream",
     "text": [
      "✅ ASML - CashFlow_Quarter 데이터 삽입 완료\n",
      "✅ ASND - IncomeStatement_Quarter 데이터 삽입 완료\n",
      "✅ ASND - BalanceSheet_Quarter 데이터 삽입 완료\n"
     ]
    },
    {
     "name": "stderr",
     "output_type": "stream",
     "text": [
      "Processing Companies:   7%|▋         | 311/4204 [15:05<3:06:33,  2.88s/it]"
     ]
    },
    {
     "name": "stdout",
     "output_type": "stream",
     "text": [
      "✅ ASND - CashFlow_Quarter 데이터 삽입 완료\n",
      "✅ ASMB - IncomeStatement_Quarter 데이터 삽입 완료\n",
      "✅ ASMB - BalanceSheet_Quarter 데이터 삽입 완료\n"
     ]
    },
    {
     "name": "stderr",
     "output_type": "stream",
     "text": [
      "Processing Companies:   7%|▋         | 312/4204 [15:08<3:04:54,  2.85s/it]"
     ]
    },
    {
     "name": "stdout",
     "output_type": "stream",
     "text": [
      "✅ ASMB - CashFlow_Quarter 데이터 삽입 완료\n",
      "✅ ASO - IncomeStatement_Quarter 데이터 삽입 완료\n",
      "✅ ASO - BalanceSheet_Quarter 데이터 삽입 완료\n"
     ]
    },
    {
     "name": "stderr",
     "output_type": "stream",
     "text": [
      "Processing Companies:   7%|▋         | 313/4204 [15:11<3:12:24,  2.97s/it]"
     ]
    },
    {
     "name": "stdout",
     "output_type": "stream",
     "text": [
      "✅ ASO - CashFlow_Quarter 데이터 삽입 완료\n",
      "✅ ASNS - IncomeStatement_Quarter 데이터 삽입 완료\n",
      "✅ ASNS - BalanceSheet_Quarter 데이터 삽입 완료\n"
     ]
    },
    {
     "name": "stderr",
     "output_type": "stream",
     "text": [
      "Processing Companies:   7%|▋         | 314/4204 [15:14<3:13:34,  2.99s/it]"
     ]
    },
    {
     "name": "stdout",
     "output_type": "stream",
     "text": [
      "✅ ASNS - CashFlow_Quarter 데이터 삽입 완료\n",
      "✅ ASPS - IncomeStatement_Quarter 데이터 삽입 완료\n",
      "✅ ASPS - BalanceSheet_Quarter 데이터 삽입 완료\n"
     ]
    },
    {
     "name": "stderr",
     "output_type": "stream",
     "text": [
      "Processing Companies:   7%|▋         | 315/4204 [15:17<3:15:26,  3.02s/it]"
     ]
    },
    {
     "name": "stdout",
     "output_type": "stream",
     "text": [
      "✅ ASPS - CashFlow_Quarter 데이터 삽입 완료\n",
      "✅ ASRT - IncomeStatement_Quarter 데이터 삽입 완료\n",
      "✅ ASRT - BalanceSheet_Quarter 데이터 삽입 완료\n"
     ]
    },
    {
     "name": "stderr",
     "output_type": "stream",
     "text": [
      "Processing Companies:   8%|▊         | 316/4204 [15:20<3:11:13,  2.95s/it]"
     ]
    },
    {
     "name": "stdout",
     "output_type": "stream",
     "text": [
      "✅ ASRT - CashFlow_Quarter 데이터 삽입 완료\n",
      "✅ ASRV - IncomeStatement_Quarter 데이터 삽입 완료\n",
      "✅ ASRV - BalanceSheet_Quarter 데이터 삽입 완료\n"
     ]
    },
    {
     "name": "stderr",
     "output_type": "stream",
     "text": [
      "Processing Companies:   8%|▊         | 317/4204 [15:23<3:12:10,  2.97s/it]"
     ]
    },
    {
     "name": "stdout",
     "output_type": "stream",
     "text": [
      "✅ ASRV - CashFlow_Quarter 데이터 삽입 완료\n",
      "✅ ASTE - IncomeStatement_Quarter 데이터 삽입 완료\n",
      "✅ ASTE - BalanceSheet_Quarter 데이터 삽입 완료\n"
     ]
    },
    {
     "name": "stderr",
     "output_type": "stream",
     "text": [
      "Processing Companies:   8%|▊         | 318/4204 [15:26<3:09:43,  2.93s/it]"
     ]
    },
    {
     "name": "stdout",
     "output_type": "stream",
     "text": [
      "✅ ASTE - CashFlow_Quarter 데이터 삽입 완료\n",
      "✅ ASTH - IncomeStatement_Quarter 데이터 삽입 완료\n",
      "✅ ASTH - BalanceSheet_Quarter 데이터 삽입 완료\n"
     ]
    },
    {
     "name": "stderr",
     "output_type": "stream",
     "text": [
      "Processing Companies:   8%|▊         | 319/4204 [15:28<3:09:54,  2.93s/it]"
     ]
    },
    {
     "name": "stdout",
     "output_type": "stream",
     "text": [
      "✅ ASTH - CashFlow_Quarter 데이터 삽입 완료\n",
      "✅ ASTL - IncomeStatement_Quarter 데이터 삽입 완료\n",
      "✅ ASTL - BalanceSheet_Quarter 데이터 삽입 완료\n"
     ]
    },
    {
     "name": "stderr",
     "output_type": "stream",
     "text": [
      "Processing Companies:   8%|▊         | 320/4204 [15:31<3:07:26,  2.90s/it]"
     ]
    },
    {
     "name": "stdout",
     "output_type": "stream",
     "text": [
      "✅ ASTL - CashFlow_Quarter 데이터 삽입 완료\n",
      "✅ ASUR - IncomeStatement_Quarter 데이터 삽입 완료\n",
      "✅ ASUR - BalanceSheet_Quarter 데이터 삽입 완료\n"
     ]
    },
    {
     "name": "stderr",
     "output_type": "stream",
     "text": [
      "Processing Companies:   8%|▊         | 321/4204 [15:34<3:05:45,  2.87s/it]"
     ]
    },
    {
     "name": "stdout",
     "output_type": "stream",
     "text": [
      "✅ ASUR - CashFlow_Quarter 데이터 삽입 완료\n",
      "✅ ATAI - IncomeStatement_Quarter 데이터 삽입 완료\n",
      "✅ ATAI - BalanceSheet_Quarter 데이터 삽입 완료\n"
     ]
    },
    {
     "name": "stderr",
     "output_type": "stream",
     "text": [
      "Processing Companies:   8%|▊         | 322/4204 [15:37<3:06:07,  2.88s/it]"
     ]
    },
    {
     "name": "stdout",
     "output_type": "stream",
     "text": [
      "✅ ATAI - CashFlow_Quarter 데이터 삽입 완료\n",
      "✅ ATCH - IncomeStatement_Quarter 데이터 삽입 완료\n",
      "✅ ATCH - BalanceSheet_Quarter 데이터 삽입 완료\n"
     ]
    },
    {
     "name": "stderr",
     "output_type": "stream",
     "text": [
      "Processing Companies:   8%|▊         | 323/4204 [15:40<3:05:20,  2.87s/it]"
     ]
    },
    {
     "name": "stdout",
     "output_type": "stream",
     "text": [
      "✅ ATCH - CashFlow_Quarter 데이터 삽입 완료\n",
      "✅ ASYS - IncomeStatement_Quarter 데이터 삽입 완료\n",
      "✅ ASYS - BalanceSheet_Quarter 데이터 삽입 완료\n"
     ]
    },
    {
     "name": "stderr",
     "output_type": "stream",
     "text": [
      "Processing Companies:   8%|▊         | 324/4204 [15:43<3:05:07,  2.86s/it]"
     ]
    },
    {
     "name": "stdout",
     "output_type": "stream",
     "text": [
      "✅ ASYS - CashFlow_Quarter 데이터 삽입 완료\n",
      "✅ ATEC - IncomeStatement_Quarter 데이터 삽입 완료\n",
      "✅ ATEC - BalanceSheet_Quarter 데이터 삽입 완료\n"
     ]
    },
    {
     "name": "stderr",
     "output_type": "stream",
     "text": [
      "Processing Companies:   8%|▊         | 325/4204 [15:46<3:05:05,  2.86s/it]"
     ]
    },
    {
     "name": "stdout",
     "output_type": "stream",
     "text": [
      "✅ ATEC - CashFlow_Quarter 데이터 삽입 완료\n"
     ]
    },
    {
     "name": "stderr",
     "output_type": "stream",
     "text": [
      "$ATCOL: possibly delisted; no price data found  (period=5d)\n"
     ]
    },
    {
     "name": "stdout",
     "output_type": "stream",
     "text": [
      "❌ IncomeStatement_Quarter 데이터 없음\n",
      "❌ BalanceSheet_Quarter 데이터 없음\n"
     ]
    },
    {
     "name": "stderr",
     "output_type": "stream",
     "text": [
      "Processing Companies:   8%|▊         | 326/4204 [15:48<3:03:57,  2.85s/it]"
     ]
    },
    {
     "name": "stdout",
     "output_type": "stream",
     "text": [
      "❌ CashFlow_Quarter 데이터 없음\n",
      "✅ ATGE - IncomeStatement_Quarter 데이터 삽입 완료\n",
      "✅ ATGE - BalanceSheet_Quarter 데이터 삽입 완료\n"
     ]
    },
    {
     "name": "stderr",
     "output_type": "stream",
     "text": [
      "Processing Companies:   8%|▊         | 327/4204 [15:51<3:07:37,  2.90s/it]"
     ]
    },
    {
     "name": "stdout",
     "output_type": "stream",
     "text": [
      "✅ ATGE - CashFlow_Quarter 데이터 삽입 완료\n",
      "✅ ATEN - IncomeStatement_Quarter 데이터 삽입 완료\n",
      "✅ ATEN - BalanceSheet_Quarter 데이터 삽입 완료\n"
     ]
    },
    {
     "name": "stderr",
     "output_type": "stream",
     "text": [
      "Processing Companies:   8%|▊         | 328/4204 [15:55<3:12:12,  2.98s/it]"
     ]
    },
    {
     "name": "stdout",
     "output_type": "stream",
     "text": [
      "✅ ATEN - CashFlow_Quarter 데이터 삽입 완료\n",
      "✅ ATER - IncomeStatement_Quarter 데이터 삽입 완료\n",
      "✅ ATER - BalanceSheet_Quarter 데이터 삽입 완료\n"
     ]
    },
    {
     "name": "stderr",
     "output_type": "stream",
     "text": [
      "Processing Companies:   8%|▊         | 329/4204 [15:57<3:10:34,  2.95s/it]"
     ]
    },
    {
     "name": "stdout",
     "output_type": "stream",
     "text": [
      "✅ ATER - CashFlow_Quarter 데이터 삽입 완료\n",
      "✅ ATHA - IncomeStatement_Quarter 데이터 삽입 완료\n",
      "✅ ATHA - BalanceSheet_Quarter 데이터 삽입 완료\n"
     ]
    },
    {
     "name": "stderr",
     "output_type": "stream",
     "text": [
      "Processing Companies:   8%|▊         | 330/4204 [16:00<3:08:41,  2.92s/it]"
     ]
    },
    {
     "name": "stdout",
     "output_type": "stream",
     "text": [
      "✅ ATHA - CashFlow_Quarter 데이터 삽입 완료\n",
      "❌ IncomeStatement_Quarter 데이터 없음\n",
      "✅ ATHE - BalanceSheet_Quarter 데이터 삽입 완료\n"
     ]
    },
    {
     "name": "stderr",
     "output_type": "stream",
     "text": [
      "Processing Companies:   8%|▊         | 331/4204 [16:03<3:04:14,  2.85s/it]"
     ]
    },
    {
     "name": "stdout",
     "output_type": "stream",
     "text": [
      "✅ ATHE - CashFlow_Quarter 데이터 삽입 완료\n",
      "✅ ATHM - IncomeStatement_Quarter 데이터 삽입 완료\n",
      "✅ ATHM - BalanceSheet_Quarter 데이터 삽입 완료\n"
     ]
    },
    {
     "name": "stderr",
     "output_type": "stream",
     "text": [
      "Processing Companies:   8%|▊         | 332/4204 [16:06<3:06:06,  2.88s/it]"
     ]
    },
    {
     "name": "stdout",
     "output_type": "stream",
     "text": [
      "❌ CashFlow_Quarter 데이터 없음\n",
      "✅ ATKR - IncomeStatement_Quarter 데이터 삽입 완료\n",
      "✅ ATKR - BalanceSheet_Quarter 데이터 삽입 완료\n"
     ]
    },
    {
     "name": "stderr",
     "output_type": "stream",
     "text": [
      "Processing Companies:   8%|▊         | 333/4204 [16:09<3:05:28,  2.87s/it]"
     ]
    },
    {
     "name": "stdout",
     "output_type": "stream",
     "text": [
      "✅ ATKR - CashFlow_Quarter 데이터 삽입 완료\n",
      "✅ ATLO - IncomeStatement_Quarter 데이터 삽입 완료\n",
      "✅ ATLO - BalanceSheet_Quarter 데이터 삽입 완료\n"
     ]
    },
    {
     "name": "stderr",
     "output_type": "stream",
     "text": [
      "Processing Companies:   8%|▊         | 334/4204 [16:12<3:04:04,  2.85s/it]"
     ]
    },
    {
     "name": "stdout",
     "output_type": "stream",
     "text": [
      "✅ ATLO - CashFlow_Quarter 데이터 삽입 완료\n",
      "✅ ATLN - IncomeStatement_Quarter 데이터 삽입 완료\n",
      "✅ ATLN - BalanceSheet_Quarter 데이터 삽입 완료\n"
     ]
    },
    {
     "name": "stderr",
     "output_type": "stream",
     "text": [
      "Processing Companies:   8%|▊         | 335/4204 [16:14<3:02:58,  2.84s/it]"
     ]
    },
    {
     "name": "stdout",
     "output_type": "stream",
     "text": [
      "✅ ATLN - CashFlow_Quarter 데이터 삽입 완료\n",
      "✅ ATEX - IncomeStatement_Quarter 데이터 삽입 완료\n",
      "✅ ATEX - BalanceSheet_Quarter 데이터 삽입 완료\n"
     ]
    },
    {
     "name": "stderr",
     "output_type": "stream",
     "text": [
      "Processing Companies:   8%|▊         | 336/4204 [16:17<3:06:01,  2.89s/it]"
     ]
    },
    {
     "name": "stdout",
     "output_type": "stream",
     "text": [
      "✅ ATEX - CashFlow_Quarter 데이터 삽입 완료\n",
      "✅ ATNF - IncomeStatement_Quarter 데이터 삽입 완료\n",
      "✅ ATNF - BalanceSheet_Quarter 데이터 삽입 완료\n"
     ]
    },
    {
     "name": "stderr",
     "output_type": "stream",
     "text": [
      "Processing Companies:   8%|▊         | 337/4204 [16:20<3:04:23,  2.86s/it]"
     ]
    },
    {
     "name": "stdout",
     "output_type": "stream",
     "text": [
      "✅ ATNF - CashFlow_Quarter 데이터 삽입 완료\n",
      "✅ ATNI - IncomeStatement_Quarter 데이터 삽입 완료\n",
      "✅ ATNI - BalanceSheet_Quarter 데이터 삽입 완료\n"
     ]
    },
    {
     "name": "stderr",
     "output_type": "stream",
     "text": [
      "Processing Companies:   8%|▊         | 338/4204 [16:24<3:13:50,  3.01s/it]"
     ]
    },
    {
     "name": "stdout",
     "output_type": "stream",
     "text": [
      "✅ ATNI - CashFlow_Quarter 데이터 삽입 완료\n",
      "✅ ATOM - IncomeStatement_Quarter 데이터 삽입 완료\n",
      "✅ ATOM - BalanceSheet_Quarter 데이터 삽입 완료\n"
     ]
    },
    {
     "name": "stderr",
     "output_type": "stream",
     "text": [
      "Processing Companies:   8%|▊         | 339/4204 [16:26<3:08:42,  2.93s/it]"
     ]
    },
    {
     "name": "stdout",
     "output_type": "stream",
     "text": [
      "✅ ATOM - CashFlow_Quarter 데이터 삽입 완료\n",
      "✅ ATNM - IncomeStatement_Quarter 데이터 삽입 완료\n",
      "✅ ATNM - BalanceSheet_Quarter 데이터 삽입 완료\n"
     ]
    },
    {
     "name": "stderr",
     "output_type": "stream",
     "text": [
      "Processing Companies:   8%|▊         | 340/4204 [16:29<3:04:26,  2.86s/it]"
     ]
    },
    {
     "name": "stdout",
     "output_type": "stream",
     "text": [
      "✅ ATNM - CashFlow_Quarter 데이터 삽입 완료\n",
      "✅ ATO - IncomeStatement_Quarter 데이터 삽입 완료\n",
      "✅ ATO - BalanceSheet_Quarter 데이터 삽입 완료\n"
     ]
    },
    {
     "name": "stderr",
     "output_type": "stream",
     "text": [
      "Processing Companies:   8%|▊         | 341/4204 [16:32<3:02:54,  2.84s/it]"
     ]
    },
    {
     "name": "stdout",
     "output_type": "stream",
     "text": [
      "✅ ATO - CashFlow_Quarter 데이터 삽입 완료\n",
      "✅ ATOS - IncomeStatement_Quarter 데이터 삽입 완료\n",
      "✅ ATOS - BalanceSheet_Quarter 데이터 삽입 완료\n"
     ]
    },
    {
     "name": "stderr",
     "output_type": "stream",
     "text": [
      "Processing Companies:   8%|▊         | 342/4204 [16:35<3:01:12,  2.82s/it]"
     ]
    },
    {
     "name": "stdout",
     "output_type": "stream",
     "text": [
      "✅ ATOS - CashFlow_Quarter 데이터 삽입 완료\n",
      "✅ ATR - IncomeStatement_Quarter 데이터 삽입 완료\n",
      "✅ ATR - BalanceSheet_Quarter 데이터 삽입 완료\n"
     ]
    },
    {
     "name": "stderr",
     "output_type": "stream",
     "text": [
      "Processing Companies:   8%|▊         | 343/4204 [16:38<3:05:38,  2.88s/it]"
     ]
    },
    {
     "name": "stdout",
     "output_type": "stream",
     "text": [
      "✅ ATR - CashFlow_Quarter 데이터 삽입 완료\n",
      "✅ ATRA - IncomeStatement_Quarter 데이터 삽입 완료\n",
      "✅ ATRA - BalanceSheet_Quarter 데이터 삽입 완료\n"
     ]
    },
    {
     "name": "stderr",
     "output_type": "stream",
     "text": [
      "Processing Companies:   8%|▊         | 344/4204 [16:41<3:06:50,  2.90s/it]"
     ]
    },
    {
     "name": "stdout",
     "output_type": "stream",
     "text": [
      "✅ ATRA - CashFlow_Quarter 데이터 삽입 완료\n",
      "✅ ATS - IncomeStatement_Quarter 데이터 삽입 완료\n",
      "✅ ATS - BalanceSheet_Quarter 데이터 삽입 완료\n"
     ]
    },
    {
     "name": "stderr",
     "output_type": "stream",
     "text": [
      "Processing Companies:   8%|▊         | 345/4204 [16:43<3:05:49,  2.89s/it]"
     ]
    },
    {
     "name": "stdout",
     "output_type": "stream",
     "text": [
      "✅ ATS - CashFlow_Quarter 데이터 삽입 완료\n",
      "✅ ATRC - IncomeStatement_Quarter 데이터 삽입 완료\n",
      "✅ ATRC - BalanceSheet_Quarter 데이터 삽입 완료\n"
     ]
    },
    {
     "name": "stderr",
     "output_type": "stream",
     "text": [
      "Processing Companies:   8%|▊         | 346/4204 [16:46<3:06:04,  2.89s/it]"
     ]
    },
    {
     "name": "stdout",
     "output_type": "stream",
     "text": [
      "✅ ATRC - CashFlow_Quarter 데이터 삽입 완료\n",
      "✅ ATUS - IncomeStatement_Quarter 데이터 삽입 완료\n",
      "✅ ATUS - BalanceSheet_Quarter 데이터 삽입 완료\n"
     ]
    },
    {
     "name": "stderr",
     "output_type": "stream",
     "text": [
      "Processing Companies:   8%|▊         | 347/4204 [16:49<3:04:11,  2.87s/it]"
     ]
    },
    {
     "name": "stdout",
     "output_type": "stream",
     "text": [
      "✅ ATUS - CashFlow_Quarter 데이터 삽입 완료\n",
      "✅ ATXG - IncomeStatement_Quarter 데이터 삽입 완료\n",
      "✅ ATXG - BalanceSheet_Quarter 데이터 삽입 완료\n"
     ]
    },
    {
     "name": "stderr",
     "output_type": "stream",
     "text": [
      "Processing Companies:   8%|▊         | 348/4204 [16:52<3:06:42,  2.91s/it]"
     ]
    },
    {
     "name": "stdout",
     "output_type": "stream",
     "text": [
      "✅ ATXG - CashFlow_Quarter 데이터 삽입 완료\n",
      "✅ ATXS - IncomeStatement_Quarter 데이터 삽입 완료\n",
      "✅ ATXS - BalanceSheet_Quarter 데이터 삽입 완료\n"
     ]
    },
    {
     "name": "stderr",
     "output_type": "stream",
     "text": [
      "Processing Companies:   8%|▊         | 349/4204 [16:55<3:04:25,  2.87s/it]"
     ]
    },
    {
     "name": "stdout",
     "output_type": "stream",
     "text": [
      "✅ ATXS - CashFlow_Quarter 데이터 삽입 완료\n",
      "✅ AUB - IncomeStatement_Quarter 데이터 삽입 완료\n",
      "✅ AUB - BalanceSheet_Quarter 데이터 삽입 완료\n"
     ]
    },
    {
     "name": "stderr",
     "output_type": "stream",
     "text": [
      "Processing Companies:   8%|▊         | 350/4204 [16:58<3:04:09,  2.87s/it]"
     ]
    },
    {
     "name": "stdout",
     "output_type": "stream",
     "text": [
      "✅ AUB - CashFlow_Quarter 데이터 삽입 완료\n",
      "✅ AU - IncomeStatement_Quarter 데이터 삽입 완료\n",
      "✅ AU - BalanceSheet_Quarter 데이터 삽입 완료\n"
     ]
    },
    {
     "name": "stderr",
     "output_type": "stream",
     "text": [
      "Processing Companies:   8%|▊         | 351/4204 [17:01<3:06:05,  2.90s/it]"
     ]
    },
    {
     "name": "stdout",
     "output_type": "stream",
     "text": [
      "✅ AU - CashFlow_Quarter 데이터 삽입 완료\n",
      "✅ AUBN - IncomeStatement_Quarter 데이터 삽입 완료\n",
      "✅ AUBN - BalanceSheet_Quarter 데이터 삽입 완료\n"
     ]
    },
    {
     "name": "stderr",
     "output_type": "stream",
     "text": [
      "Processing Companies:   8%|▊         | 352/4204 [17:04<3:04:47,  2.88s/it]"
     ]
    },
    {
     "name": "stdout",
     "output_type": "stream",
     "text": [
      "✅ AUBN - CashFlow_Quarter 데이터 삽입 완료\n",
      "✅ AUDC - IncomeStatement_Quarter 데이터 삽입 완료\n",
      "✅ AUDC - BalanceSheet_Quarter 데이터 삽입 완료\n"
     ]
    },
    {
     "name": "stderr",
     "output_type": "stream",
     "text": [
      "Processing Companies:   8%|▊         | 353/4204 [17:07<3:07:01,  2.91s/it]"
     ]
    },
    {
     "name": "stdout",
     "output_type": "stream",
     "text": [
      "✅ AUDC - CashFlow_Quarter 데이터 삽입 완료\n",
      "✅ AUPH - IncomeStatement_Quarter 데이터 삽입 완료\n",
      "✅ AUPH - BalanceSheet_Quarter 데이터 삽입 완료\n"
     ]
    },
    {
     "name": "stderr",
     "output_type": "stream",
     "text": [
      "Processing Companies:   8%|▊         | 354/4204 [17:09<3:06:39,  2.91s/it]"
     ]
    },
    {
     "name": "stdout",
     "output_type": "stream",
     "text": [
      "✅ AUPH - CashFlow_Quarter 데이터 삽입 완료\n",
      "✅ AURA - IncomeStatement_Quarter 데이터 삽입 완료\n",
      "✅ AURA - BalanceSheet_Quarter 데이터 삽입 완료\n"
     ]
    },
    {
     "name": "stderr",
     "output_type": "stream",
     "text": [
      "Processing Companies:   8%|▊         | 355/4204 [17:12<3:03:56,  2.87s/it]"
     ]
    },
    {
     "name": "stdout",
     "output_type": "stream",
     "text": [
      "✅ AURA - CashFlow_Quarter 데이터 삽입 완료\n",
      "✅ AUID - IncomeStatement_Quarter 데이터 삽입 완료\n",
      "✅ AUID - BalanceSheet_Quarter 데이터 삽입 완료\n"
     ]
    },
    {
     "name": "stderr",
     "output_type": "stream",
     "text": [
      "Processing Companies:   8%|▊         | 356/4204 [17:15<3:02:12,  2.84s/it]"
     ]
    },
    {
     "name": "stdout",
     "output_type": "stream",
     "text": [
      "✅ AUID - CashFlow_Quarter 데이터 삽입 완료\n",
      "✅ AUR - IncomeStatement_Quarter 데이터 삽입 완료\n",
      "✅ AUR - BalanceSheet_Quarter 데이터 삽입 완료\n"
     ]
    },
    {
     "name": "stderr",
     "output_type": "stream",
     "text": [
      "Processing Companies:   8%|▊         | 357/4204 [17:18<3:00:21,  2.81s/it]"
     ]
    },
    {
     "name": "stdout",
     "output_type": "stream",
     "text": [
      "✅ AUR - CashFlow_Quarter 데이터 삽입 완료\n",
      "✅ AUST - IncomeStatement_Quarter 데이터 삽입 완료\n",
      "✅ AUST - BalanceSheet_Quarter 데이터 삽입 완료\n"
     ]
    },
    {
     "name": "stderr",
     "output_type": "stream",
     "text": [
      "Processing Companies:   9%|▊         | 358/4204 [17:21<3:02:19,  2.84s/it]"
     ]
    },
    {
     "name": "stdout",
     "output_type": "stream",
     "text": [
      "✅ AUST - CashFlow_Quarter 데이터 삽입 완료\n",
      "✅ AUTL - IncomeStatement_Quarter 데이터 삽입 완료\n",
      "✅ AUTL - BalanceSheet_Quarter 데이터 삽입 완료\n"
     ]
    },
    {
     "name": "stderr",
     "output_type": "stream",
     "text": [
      "Processing Companies:   9%|▊         | 359/4204 [17:23<3:00:09,  2.81s/it]"
     ]
    },
    {
     "name": "stdout",
     "output_type": "stream",
     "text": [
      "✅ AUTL - CashFlow_Quarter 데이터 삽입 완료\n",
      "✅ AUUD - IncomeStatement_Quarter 데이터 삽입 완료\n",
      "✅ AUUD - BalanceSheet_Quarter 데이터 삽입 완료\n"
     ]
    },
    {
     "name": "stderr",
     "output_type": "stream",
     "text": [
      "Processing Companies:   9%|▊         | 360/4204 [17:26<3:00:19,  2.81s/it]"
     ]
    },
    {
     "name": "stdout",
     "output_type": "stream",
     "text": [
      "✅ AUUD - CashFlow_Quarter 데이터 삽입 완료\n",
      "✅ AVA - IncomeStatement_Quarter 데이터 삽입 완료\n",
      "✅ AVA - BalanceSheet_Quarter 데이터 삽입 완료\n"
     ]
    },
    {
     "name": "stderr",
     "output_type": "stream",
     "text": [
      "Processing Companies:   9%|▊         | 361/4204 [17:29<3:06:19,  2.91s/it]"
     ]
    },
    {
     "name": "stdout",
     "output_type": "stream",
     "text": [
      "✅ AVA - CashFlow_Quarter 데이터 삽입 완료\n",
      "✅ AVAL - IncomeStatement_Quarter 데이터 삽입 완료\n",
      "✅ AVAL - BalanceSheet_Quarter 데이터 삽입 완료\n"
     ]
    },
    {
     "name": "stderr",
     "output_type": "stream",
     "text": [
      "Processing Companies:   9%|▊         | 362/4204 [17:32<3:03:05,  2.86s/it]"
     ]
    },
    {
     "name": "stdout",
     "output_type": "stream",
     "text": [
      "❌ CashFlow_Quarter 데이터 없음\n",
      "✅ AVB - IncomeStatement_Quarter 데이터 삽입 완료\n",
      "✅ AVB - BalanceSheet_Quarter 데이터 삽입 완료\n"
     ]
    },
    {
     "name": "stderr",
     "output_type": "stream",
     "text": [
      "Processing Companies:   9%|▊         | 363/4204 [17:35<3:04:05,  2.88s/it]"
     ]
    },
    {
     "name": "stdout",
     "output_type": "stream",
     "text": [
      "✅ AVB - CashFlow_Quarter 데이터 삽입 완료\n",
      "✅ AVAH - IncomeStatement_Quarter 데이터 삽입 완료\n",
      "✅ AVAH - BalanceSheet_Quarter 데이터 삽입 완료\n"
     ]
    },
    {
     "name": "stderr",
     "output_type": "stream",
     "text": [
      "Processing Companies:   9%|▊         | 364/4204 [17:38<3:01:29,  2.84s/it]"
     ]
    },
    {
     "name": "stdout",
     "output_type": "stream",
     "text": [
      "✅ AVAH - CashFlow_Quarter 데이터 삽입 완료\n",
      "✅ AVD - IncomeStatement_Quarter 데이터 삽입 완료\n",
      "✅ AVD - BalanceSheet_Quarter 데이터 삽입 완료\n"
     ]
    },
    {
     "name": "stderr",
     "output_type": "stream",
     "text": [
      "Processing Companies:   9%|▊         | 365/4204 [17:41<3:02:41,  2.86s/it]"
     ]
    },
    {
     "name": "stdout",
     "output_type": "stream",
     "text": [
      "✅ AVD - CashFlow_Quarter 데이터 삽입 완료\n",
      "✅ AVDL - IncomeStatement_Quarter 데이터 삽입 완료\n",
      "✅ AVDL - BalanceSheet_Quarter 데이터 삽입 완료\n"
     ]
    },
    {
     "name": "stderr",
     "output_type": "stream",
     "text": [
      "Processing Companies:   9%|▊         | 366/4204 [17:43<3:00:38,  2.82s/it]"
     ]
    },
    {
     "name": "stdout",
     "output_type": "stream",
     "text": [
      "✅ AVDL - CashFlow_Quarter 데이터 삽입 완료\n",
      "✅ AVGO - IncomeStatement_Quarter 데이터 삽입 완료\n",
      "✅ AVGO - BalanceSheet_Quarter 데이터 삽입 완료\n"
     ]
    },
    {
     "name": "stderr",
     "output_type": "stream",
     "text": [
      "Processing Companies:   9%|▊         | 367/4204 [17:46<3:01:54,  2.84s/it]"
     ]
    },
    {
     "name": "stdout",
     "output_type": "stream",
     "text": [
      "✅ AVGO - CashFlow_Quarter 데이터 삽입 완료\n",
      "✅ AVIR - IncomeStatement_Quarter 데이터 삽입 완료\n",
      "✅ AVIR - BalanceSheet_Quarter 데이터 삽입 완료\n"
     ]
    },
    {
     "name": "stderr",
     "output_type": "stream",
     "text": [
      "Processing Companies:   9%|▉         | 368/4204 [17:49<2:59:13,  2.80s/it]"
     ]
    },
    {
     "name": "stdout",
     "output_type": "stream",
     "text": [
      "✅ AVIR - CashFlow_Quarter 데이터 삽입 완료\n",
      "✅ AVNS - IncomeStatement_Quarter 데이터 삽입 완료\n",
      "✅ AVNS - BalanceSheet_Quarter 데이터 삽입 완료\n"
     ]
    },
    {
     "name": "stderr",
     "output_type": "stream",
     "text": [
      "Processing Companies:   9%|▉         | 369/4204 [17:52<3:03:54,  2.88s/it]"
     ]
    },
    {
     "name": "stdout",
     "output_type": "stream",
     "text": [
      "✅ AVNS - CashFlow_Quarter 데이터 삽입 완료\n",
      "✅ AVNW - IncomeStatement_Quarter 데이터 삽입 완료\n",
      "✅ AVNW - BalanceSheet_Quarter 데이터 삽입 완료\n"
     ]
    },
    {
     "name": "stderr",
     "output_type": "stream",
     "text": [
      "Processing Companies:   9%|▉         | 370/4204 [17:55<3:03:20,  2.87s/it]"
     ]
    },
    {
     "name": "stdout",
     "output_type": "stream",
     "text": [
      "✅ AVNW - CashFlow_Quarter 데이터 삽입 완료\n",
      "✅ AVNT - IncomeStatement_Quarter 데이터 삽입 완료\n",
      "✅ AVNT - BalanceSheet_Quarter 데이터 삽입 완료\n"
     ]
    },
    {
     "name": "stderr",
     "output_type": "stream",
     "text": [
      "Processing Companies:   9%|▉         | 371/4204 [17:58<3:03:02,  2.87s/it]"
     ]
    },
    {
     "name": "stdout",
     "output_type": "stream",
     "text": [
      "✅ AVNT - CashFlow_Quarter 데이터 삽입 완료\n",
      "✅ AVPT - IncomeStatement_Quarter 데이터 삽입 완료\n",
      "✅ AVPT - BalanceSheet_Quarter 데이터 삽입 완료\n"
     ]
    },
    {
     "name": "stderr",
     "output_type": "stream",
     "text": [
      "Processing Companies:   9%|▉         | 372/4204 [18:00<3:00:46,  2.83s/it]"
     ]
    },
    {
     "name": "stdout",
     "output_type": "stream",
     "text": [
      "✅ AVPT - CashFlow_Quarter 데이터 삽입 완료\n",
      "✅ AVO - IncomeStatement_Quarter 데이터 삽입 완료\n",
      "✅ AVO - BalanceSheet_Quarter 데이터 삽입 완료\n"
     ]
    },
    {
     "name": "stderr",
     "output_type": "stream",
     "text": [
      "Processing Companies:   9%|▉         | 373/4204 [18:03<3:03:44,  2.88s/it]"
     ]
    },
    {
     "name": "stdout",
     "output_type": "stream",
     "text": [
      "✅ AVO - CashFlow_Quarter 데이터 삽입 완료\n",
      "✅ AVTR - IncomeStatement_Quarter 데이터 삽입 완료\n",
      "✅ AVTR - BalanceSheet_Quarter 데이터 삽입 완료\n"
     ]
    },
    {
     "name": "stderr",
     "output_type": "stream",
     "text": [
      "Processing Companies:   9%|▉         | 374/4204 [18:06<3:05:11,  2.90s/it]"
     ]
    },
    {
     "name": "stdout",
     "output_type": "stream",
     "text": [
      "✅ AVTR - CashFlow_Quarter 데이터 삽입 완료\n",
      "✅ AVTX - IncomeStatement_Quarter 데이터 삽입 완료\n",
      "✅ AVTX - BalanceSheet_Quarter 데이터 삽입 완료\n"
     ]
    },
    {
     "name": "stderr",
     "output_type": "stream",
     "text": [
      "Processing Companies:   9%|▉         | 375/4204 [18:09<3:02:36,  2.86s/it]"
     ]
    },
    {
     "name": "stdout",
     "output_type": "stream",
     "text": [
      "✅ AVTX - CashFlow_Quarter 데이터 삽입 완료\n",
      "✅ AVXL - IncomeStatement_Quarter 데이터 삽입 완료\n",
      "✅ AVXL - BalanceSheet_Quarter 데이터 삽입 완료\n"
     ]
    },
    {
     "name": "stderr",
     "output_type": "stream",
     "text": [
      "Processing Companies:   9%|▉         | 376/4204 [18:12<3:01:00,  2.84s/it]"
     ]
    },
    {
     "name": "stdout",
     "output_type": "stream",
     "text": [
      "✅ AVXL - CashFlow_Quarter 데이터 삽입 완료\n",
      "✅ AVY - IncomeStatement_Quarter 데이터 삽입 완료\n",
      "✅ AVY - BalanceSheet_Quarter 데이터 삽입 완료\n"
     ]
    },
    {
     "name": "stderr",
     "output_type": "stream",
     "text": [
      "Processing Companies:   9%|▉         | 377/4204 [18:15<3:04:07,  2.89s/it]"
     ]
    },
    {
     "name": "stdout",
     "output_type": "stream",
     "text": [
      "✅ AVY - CashFlow_Quarter 데이터 삽입 완료\n",
      "✅ AWI - IncomeStatement_Quarter 데이터 삽입 완료\n",
      "✅ AWI - BalanceSheet_Quarter 데이터 삽입 완료\n"
     ]
    },
    {
     "name": "stderr",
     "output_type": "stream",
     "text": [
      "Processing Companies:   9%|▉         | 378/4204 [18:18<3:02:38,  2.86s/it]"
     ]
    },
    {
     "name": "stdout",
     "output_type": "stream",
     "text": [
      "✅ AWI - CashFlow_Quarter 데이터 삽입 완료\n",
      "✅ AWK - IncomeStatement_Quarter 데이터 삽입 완료\n",
      "✅ AWK - BalanceSheet_Quarter 데이터 삽입 완료\n"
     ]
    },
    {
     "name": "stderr",
     "output_type": "stream",
     "text": [
      "Processing Companies:   9%|▉         | 379/4204 [18:21<3:03:06,  2.87s/it]"
     ]
    },
    {
     "name": "stdout",
     "output_type": "stream",
     "text": [
      "✅ AWK - CashFlow_Quarter 데이터 삽입 완료\n",
      "✅ AWR - IncomeStatement_Quarter 데이터 삽입 완료\n",
      "✅ AWR - BalanceSheet_Quarter 데이터 삽입 완료\n"
     ]
    },
    {
     "name": "stderr",
     "output_type": "stream",
     "text": [
      "Processing Companies:   9%|▉         | 380/4204 [18:24<3:06:22,  2.92s/it]"
     ]
    },
    {
     "name": "stdout",
     "output_type": "stream",
     "text": [
      "✅ AWR - CashFlow_Quarter 데이터 삽입 완료\n",
      "✅ AWRE - IncomeStatement_Quarter 데이터 삽입 완료\n",
      "✅ AWRE - BalanceSheet_Quarter 데이터 삽입 완료\n"
     ]
    },
    {
     "name": "stderr",
     "output_type": "stream",
     "text": [
      "Processing Companies:   9%|▉         | 381/4204 [18:27<3:05:01,  2.90s/it]"
     ]
    },
    {
     "name": "stdout",
     "output_type": "stream",
     "text": [
      "✅ AWRE - CashFlow_Quarter 데이터 삽입 완료\n",
      "✅ AWX - IncomeStatement_Quarter 데이터 삽입 완료\n",
      "✅ AWX - BalanceSheet_Quarter 데이터 삽입 완료\n"
     ]
    },
    {
     "name": "stderr",
     "output_type": "stream",
     "text": [
      "Processing Companies:   9%|▉         | 382/4204 [18:29<3:03:11,  2.88s/it]"
     ]
    },
    {
     "name": "stdout",
     "output_type": "stream",
     "text": [
      "✅ AWX - CashFlow_Quarter 데이터 삽입 완료\n",
      "✅ AXGN - IncomeStatement_Quarter 데이터 삽입 완료\n",
      "✅ AXGN - BalanceSheet_Quarter 데이터 삽입 완료\n"
     ]
    },
    {
     "name": "stderr",
     "output_type": "stream",
     "text": [
      "Processing Companies:   9%|▉         | 383/4204 [18:32<3:02:31,  2.87s/it]"
     ]
    },
    {
     "name": "stdout",
     "output_type": "stream",
     "text": [
      "✅ AXGN - CashFlow_Quarter 데이터 삽입 완료\n",
      "✅ AXP - IncomeStatement_Quarter 데이터 삽입 완료\n",
      "✅ AXP - BalanceSheet_Quarter 데이터 삽입 완료\n"
     ]
    },
    {
     "name": "stderr",
     "output_type": "stream",
     "text": [
      "Processing Companies:   9%|▉         | 384/4204 [18:35<3:02:12,  2.86s/it]"
     ]
    },
    {
     "name": "stdout",
     "output_type": "stream",
     "text": [
      "✅ AXP - CashFlow_Quarter 데이터 삽입 완료\n",
      "✅ AXL - IncomeStatement_Quarter 데이터 삽입 완료\n",
      "✅ AXL - BalanceSheet_Quarter 데이터 삽입 완료\n"
     ]
    },
    {
     "name": "stderr",
     "output_type": "stream",
     "text": [
      "Processing Companies:   9%|▉         | 385/4204 [18:38<3:02:09,  2.86s/it]"
     ]
    },
    {
     "name": "stdout",
     "output_type": "stream",
     "text": [
      "✅ AXL - CashFlow_Quarter 데이터 삽입 완료\n",
      "✅ AXS - IncomeStatement_Quarter 데이터 삽입 완료\n",
      "✅ AXS - BalanceSheet_Quarter 데이터 삽입 완료\n"
     ]
    },
    {
     "name": "stderr",
     "output_type": "stream",
     "text": [
      "Processing Companies:   9%|▉         | 386/4204 [18:41<3:00:30,  2.84s/it]"
     ]
    },
    {
     "name": "stdout",
     "output_type": "stream",
     "text": [
      "✅ AXS - CashFlow_Quarter 데이터 삽입 완료\n",
      "✅ AXR - IncomeStatement_Quarter 데이터 삽입 완료\n",
      "✅ AXR - BalanceSheet_Quarter 데이터 삽입 완료\n"
     ]
    },
    {
     "name": "stderr",
     "output_type": "stream",
     "text": [
      "Processing Companies:   9%|▉         | 387/4204 [18:43<2:58:06,  2.80s/it]"
     ]
    },
    {
     "name": "stdout",
     "output_type": "stream",
     "text": [
      "✅ AXR - CashFlow_Quarter 데이터 삽입 완료\n",
      "✅ AXSM - IncomeStatement_Quarter 데이터 삽입 완료\n",
      "✅ AXSM - BalanceSheet_Quarter 데이터 삽입 완료\n"
     ]
    },
    {
     "name": "stderr",
     "output_type": "stream",
     "text": [
      "Processing Companies:   9%|▉         | 388/4204 [18:46<2:58:07,  2.80s/it]"
     ]
    },
    {
     "name": "stdout",
     "output_type": "stream",
     "text": [
      "✅ AXSM - CashFlow_Quarter 데이터 삽입 완료\n",
      "✅ AXTA - IncomeStatement_Quarter 데이터 삽입 완료\n",
      "✅ AXTA - BalanceSheet_Quarter 데이터 삽입 완료\n"
     ]
    },
    {
     "name": "stderr",
     "output_type": "stream",
     "text": [
      "Processing Companies:   9%|▉         | 389/4204 [18:49<2:57:55,  2.80s/it]"
     ]
    },
    {
     "name": "stdout",
     "output_type": "stream",
     "text": [
      "✅ AXTA - CashFlow_Quarter 데이터 삽입 완료\n",
      "✅ AYTU - IncomeStatement_Quarter 데이터 삽입 완료\n",
      "✅ AYTU - BalanceSheet_Quarter 데이터 삽입 완료\n"
     ]
    },
    {
     "name": "stderr",
     "output_type": "stream",
     "text": [
      "Processing Companies:   9%|▉         | 390/4204 [18:52<2:58:44,  2.81s/it]"
     ]
    },
    {
     "name": "stdout",
     "output_type": "stream",
     "text": [
      "✅ AYTU - CashFlow_Quarter 데이터 삽입 완료\n",
      "✅ AXTI - IncomeStatement_Quarter 데이터 삽입 완료\n",
      "✅ AXTI - BalanceSheet_Quarter 데이터 삽입 완료\n"
     ]
    },
    {
     "name": "stderr",
     "output_type": "stream",
     "text": [
      "Processing Companies:   9%|▉         | 391/4204 [18:55<3:02:17,  2.87s/it]"
     ]
    },
    {
     "name": "stdout",
     "output_type": "stream",
     "text": [
      "✅ AXTI - CashFlow_Quarter 데이터 삽입 완료\n",
      "✅ AYRO - IncomeStatement_Quarter 데이터 삽입 완료\n",
      "✅ AYRO - BalanceSheet_Quarter 데이터 삽입 완료\n"
     ]
    },
    {
     "name": "stderr",
     "output_type": "stream",
     "text": [
      "Processing Companies:   9%|▉         | 392/4204 [18:58<2:59:46,  2.83s/it]"
     ]
    },
    {
     "name": "stdout",
     "output_type": "stream",
     "text": [
      "✅ AYRO - CashFlow_Quarter 데이터 삽입 완료\n"
     ]
    },
    {
     "name": "stderr",
     "output_type": "stream",
     "text": [
      "$AZEK: possibly delisted; no price data found  (period=5d)\n"
     ]
    },
    {
     "name": "stdout",
     "output_type": "stream",
     "text": [
      "✅ AZEK - IncomeStatement_Quarter 데이터 삽입 완료\n",
      "✅ AZEK - BalanceSheet_Quarter 데이터 삽입 완료\n"
     ]
    },
    {
     "name": "stderr",
     "output_type": "stream",
     "text": [
      "Processing Companies:   9%|▉         | 393/4204 [19:00<3:00:32,  2.84s/it]"
     ]
    },
    {
     "name": "stdout",
     "output_type": "stream",
     "text": [
      "✅ AZEK - CashFlow_Quarter 데이터 삽입 완료\n",
      "✅ AZ - IncomeStatement_Quarter 데이터 삽입 완료\n",
      "✅ AZ - BalanceSheet_Quarter 데이터 삽입 완료\n"
     ]
    },
    {
     "name": "stderr",
     "output_type": "stream",
     "text": [
      "Processing Companies:   9%|▉         | 394/4204 [19:03<3:01:08,  2.85s/it]"
     ]
    },
    {
     "name": "stdout",
     "output_type": "stream",
     "text": [
      "✅ AZ - CashFlow_Quarter 데이터 삽입 완료\n",
      "✅ AZN - IncomeStatement_Quarter 데이터 삽입 완료\n",
      "✅ AZN - BalanceSheet_Quarter 데이터 삽입 완료\n"
     ]
    },
    {
     "name": "stderr",
     "output_type": "stream",
     "text": [
      "Processing Companies:   9%|▉         | 395/4204 [19:06<3:01:12,  2.85s/it]"
     ]
    },
    {
     "name": "stdout",
     "output_type": "stream",
     "text": [
      "✅ AZN - CashFlow_Quarter 데이터 삽입 완료\n",
      "✅ AZO - IncomeStatement_Quarter 데이터 삽입 완료\n",
      "✅ AZO - BalanceSheet_Quarter 데이터 삽입 완료\n"
     ]
    },
    {
     "name": "stderr",
     "output_type": "stream",
     "text": [
      "Processing Companies:   9%|▉         | 396/4204 [19:09<2:59:20,  2.83s/it]"
     ]
    },
    {
     "name": "stdout",
     "output_type": "stream",
     "text": [
      "✅ AZO - CashFlow_Quarter 데이터 삽입 완료\n",
      "✅ AZZ - IncomeStatement_Quarter 데이터 삽입 완료\n",
      "✅ AZZ - BalanceSheet_Quarter 데이터 삽입 완료\n"
     ]
    },
    {
     "name": "stderr",
     "output_type": "stream",
     "text": [
      "Processing Companies:   9%|▉         | 397/4204 [19:12<3:05:12,  2.92s/it]"
     ]
    },
    {
     "name": "stdout",
     "output_type": "stream",
     "text": [
      "✅ AZZ - CashFlow_Quarter 데이터 삽입 완료\n"
     ]
    },
    {
     "name": "stderr",
     "output_type": "stream",
     "text": [
      "$AZUL: possibly delisted; no price data found  (period=5d)\n"
     ]
    },
    {
     "name": "stdout",
     "output_type": "stream",
     "text": [
      "✅ AZUL - IncomeStatement_Quarter 데이터 삽입 완료\n",
      "✅ AZUL - BalanceSheet_Quarter 데이터 삽입 완료\n"
     ]
    },
    {
     "name": "stderr",
     "output_type": "stream",
     "text": [
      "Processing Companies:   9%|▉         | 398/4204 [19:15<3:06:12,  2.94s/it]"
     ]
    },
    {
     "name": "stdout",
     "output_type": "stream",
     "text": [
      "✅ AZUL - CashFlow_Quarter 데이터 삽입 완료\n",
      "✅ AZTA - IncomeStatement_Quarter 데이터 삽입 완료\n",
      "✅ AZTA - BalanceSheet_Quarter 데이터 삽입 완료\n"
     ]
    },
    {
     "name": "stderr",
     "output_type": "stream",
     "text": [
      "Processing Companies:   9%|▉         | 399/4204 [19:18<3:03:25,  2.89s/it]"
     ]
    },
    {
     "name": "stdout",
     "output_type": "stream",
     "text": [
      "✅ AZTA - CashFlow_Quarter 데이터 삽입 완료\n",
      "✅ B - IncomeStatement_Quarter 데이터 삽입 완료\n",
      "✅ B - BalanceSheet_Quarter 데이터 삽입 완료\n"
     ]
    },
    {
     "name": "stderr",
     "output_type": "stream",
     "text": [
      "Processing Companies:  10%|▉         | 400/4204 [19:21<3:03:26,  2.89s/it]"
     ]
    },
    {
     "name": "stdout",
     "output_type": "stream",
     "text": [
      "✅ B - CashFlow_Quarter 데이터 삽입 완료\n",
      "✅ BAC - IncomeStatement_Quarter 데이터 삽입 완료\n",
      "✅ BAC - BalanceSheet_Quarter 데이터 삽입 완료\n"
     ]
    },
    {
     "name": "stderr",
     "output_type": "stream",
     "text": [
      "Processing Companies:  10%|▉         | 401/4204 [19:24<3:04:45,  2.91s/it]"
     ]
    },
    {
     "name": "stdout",
     "output_type": "stream",
     "text": [
      "✅ BAC - CashFlow_Quarter 데이터 삽입 완료\n",
      "✅ BABA - IncomeStatement_Quarter 데이터 삽입 완료\n",
      "✅ BABA - BalanceSheet_Quarter 데이터 삽입 완료\n"
     ]
    },
    {
     "name": "stderr",
     "output_type": "stream",
     "text": [
      "Processing Companies:  10%|▉         | 402/4204 [19:27<3:03:56,  2.90s/it]"
     ]
    },
    {
     "name": "stdout",
     "output_type": "stream",
     "text": [
      "✅ BABA - CashFlow_Quarter 데이터 삽입 완료\n",
      "✅ BAH - IncomeStatement_Quarter 데이터 삽입 완료\n",
      "✅ BAH - BalanceSheet_Quarter 데이터 삽입 완료\n"
     ]
    },
    {
     "name": "stderr",
     "output_type": "stream",
     "text": [
      "Processing Companies:  10%|▉         | 403/4204 [19:30<3:08:42,  2.98s/it]"
     ]
    },
    {
     "name": "stdout",
     "output_type": "stream",
     "text": [
      "✅ BAH - CashFlow_Quarter 데이터 삽입 완료\n",
      "✅ BAFN - IncomeStatement_Quarter 데이터 삽입 완료\n",
      "✅ BAFN - BalanceSheet_Quarter 데이터 삽입 완료\n"
     ]
    },
    {
     "name": "stderr",
     "output_type": "stream",
     "text": [
      "Processing Companies:  10%|▉         | 404/4204 [19:33<3:05:14,  2.92s/it]"
     ]
    },
    {
     "name": "stdout",
     "output_type": "stream",
     "text": [
      "✅ BAFN - CashFlow_Quarter 데이터 삽입 완료\n",
      "✅ BALL - IncomeStatement_Quarter 데이터 삽입 완료\n",
      "✅ BALL - BalanceSheet_Quarter 데이터 삽입 완료\n"
     ]
    },
    {
     "name": "stderr",
     "output_type": "stream",
     "text": [
      "Processing Companies:  10%|▉         | 405/4204 [19:35<3:03:45,  2.90s/it]"
     ]
    },
    {
     "name": "stdout",
     "output_type": "stream",
     "text": [
      "✅ BALL - CashFlow_Quarter 데이터 삽입 완료\n",
      "✅ BAK - IncomeStatement_Quarter 데이터 삽입 완료\n",
      "✅ BAK - BalanceSheet_Quarter 데이터 삽입 완료\n"
     ]
    },
    {
     "name": "stderr",
     "output_type": "stream",
     "text": [
      "Processing Companies:  10%|▉         | 406/4204 [19:38<3:04:49,  2.92s/it]"
     ]
    },
    {
     "name": "stdout",
     "output_type": "stream",
     "text": [
      "✅ BAK - CashFlow_Quarter 데이터 삽입 완료\n",
      "✅ BANC - IncomeStatement_Quarter 데이터 삽입 완료\n",
      "✅ BANC - BalanceSheet_Quarter 데이터 삽입 완료\n"
     ]
    },
    {
     "name": "stderr",
     "output_type": "stream",
     "text": [
      "Processing Companies:  10%|▉         | 407/4204 [19:41<3:03:33,  2.90s/it]"
     ]
    },
    {
     "name": "stdout",
     "output_type": "stream",
     "text": [
      "✅ BANC - CashFlow_Quarter 데이터 삽입 완료\n",
      "✅ BAND - IncomeStatement_Quarter 데이터 삽입 완료\n",
      "✅ BAND - BalanceSheet_Quarter 데이터 삽입 완료\n"
     ]
    },
    {
     "name": "stderr",
     "output_type": "stream",
     "text": [
      "Processing Companies:  10%|▉         | 408/4204 [19:44<3:07:00,  2.96s/it]"
     ]
    },
    {
     "name": "stdout",
     "output_type": "stream",
     "text": [
      "✅ BAND - CashFlow_Quarter 데이터 삽입 완료\n",
      "✅ BANF - IncomeStatement_Quarter 데이터 삽입 완료\n",
      "✅ BANF - BalanceSheet_Quarter 데이터 삽입 완료\n"
     ]
    },
    {
     "name": "stderr",
     "output_type": "stream",
     "text": [
      "Processing Companies:  10%|▉         | 409/4204 [19:47<3:06:57,  2.96s/it]"
     ]
    },
    {
     "name": "stdout",
     "output_type": "stream",
     "text": [
      "✅ BANF - CashFlow_Quarter 데이터 삽입 완료\n",
      "❌ IncomeStatement_Quarter 데이터 없음\n",
      "✅ BAOS - BalanceSheet_Quarter 데이터 삽입 완료\n"
     ]
    },
    {
     "name": "stderr",
     "output_type": "stream",
     "text": [
      "Processing Companies:  10%|▉         | 410/4204 [19:50<3:02:12,  2.88s/it]"
     ]
    },
    {
     "name": "stdout",
     "output_type": "stream",
     "text": [
      "❌ CashFlow_Quarter 데이터 없음\n",
      "✅ BANR - IncomeStatement_Quarter 데이터 삽입 완료\n",
      "✅ BANR - BalanceSheet_Quarter 데이터 삽입 완료\n"
     ]
    },
    {
     "name": "stderr",
     "output_type": "stream",
     "text": [
      "Processing Companies:  10%|▉         | 411/4204 [19:53<3:04:08,  2.91s/it]"
     ]
    },
    {
     "name": "stdout",
     "output_type": "stream",
     "text": [
      "✅ BANR - CashFlow_Quarter 데이터 삽입 완료\n",
      "✅ BASE - IncomeStatement_Quarter 데이터 삽입 완료\n",
      "✅ BASE - BalanceSheet_Quarter 데이터 삽입 완료\n"
     ]
    },
    {
     "name": "stderr",
     "output_type": "stream",
     "text": [
      "Processing Companies:  10%|▉         | 412/4204 [19:56<3:02:52,  2.89s/it]"
     ]
    },
    {
     "name": "stdout",
     "output_type": "stream",
     "text": [
      "✅ BASE - CashFlow_Quarter 데이터 삽입 완료\n",
      "✅ BAP - IncomeStatement_Quarter 데이터 삽입 완료\n",
      "✅ BAP - BalanceSheet_Quarter 데이터 삽입 완료\n"
     ]
    },
    {
     "name": "stderr",
     "output_type": "stream",
     "text": [
      "Processing Companies:  10%|▉         | 413/4204 [19:59<3:00:43,  2.86s/it]"
     ]
    },
    {
     "name": "stdout",
     "output_type": "stream",
     "text": [
      "❌ CashFlow_Quarter 데이터 없음\n",
      "✅ BARK - IncomeStatement_Quarter 데이터 삽입 완료\n",
      "✅ BARK - BalanceSheet_Quarter 데이터 삽입 완료\n"
     ]
    },
    {
     "name": "stderr",
     "output_type": "stream",
     "text": [
      "Processing Companies:  10%|▉         | 414/4204 [20:01<2:59:06,  2.84s/it]"
     ]
    },
    {
     "name": "stdout",
     "output_type": "stream",
     "text": [
      "✅ BARK - CashFlow_Quarter 데이터 삽입 완료\n",
      "✅ BATL - IncomeStatement_Quarter 데이터 삽입 완료\n",
      "✅ BATL - BalanceSheet_Quarter 데이터 삽입 완료\n"
     ]
    },
    {
     "name": "stderr",
     "output_type": "stream",
     "text": [
      "Processing Companies:  10%|▉         | 415/4204 [20:04<3:01:27,  2.87s/it]"
     ]
    },
    {
     "name": "stdout",
     "output_type": "stream",
     "text": [
      "✅ BATL - CashFlow_Quarter 데이터 삽입 완료\n",
      "✅ BATRA - IncomeStatement_Quarter 데이터 삽입 완료\n",
      "✅ BATRA - BalanceSheet_Quarter 데이터 삽입 완료\n"
     ]
    },
    {
     "name": "stderr",
     "output_type": "stream",
     "text": [
      "Processing Companies:  10%|▉         | 416/4204 [20:07<3:01:28,  2.87s/it]"
     ]
    },
    {
     "name": "stdout",
     "output_type": "stream",
     "text": [
      "✅ BATRA - CashFlow_Quarter 데이터 삽입 완료\n",
      "✅ BATRK - IncomeStatement_Quarter 데이터 삽입 완료\n",
      "✅ BATRK - BalanceSheet_Quarter 데이터 삽입 완료\n"
     ]
    },
    {
     "name": "stderr",
     "output_type": "stream",
     "text": [
      "Processing Companies:  10%|▉         | 417/4204 [20:10<2:59:03,  2.84s/it]"
     ]
    },
    {
     "name": "stdout",
     "output_type": "stream",
     "text": [
      "✅ BATRK - CashFlow_Quarter 데이터 삽입 완료\n",
      "✅ BBAI - IncomeStatement_Quarter 데이터 삽입 완료\n",
      "✅ BBAI - BalanceSheet_Quarter 데이터 삽입 완료\n"
     ]
    },
    {
     "name": "stderr",
     "output_type": "stream",
     "text": [
      "Processing Companies:  10%|▉         | 418/4204 [20:13<2:59:17,  2.84s/it]"
     ]
    },
    {
     "name": "stdout",
     "output_type": "stream",
     "text": [
      "✅ BBAI - CashFlow_Quarter 데이터 삽입 완료\n",
      "✅ BBCP - IncomeStatement_Quarter 데이터 삽입 완료\n",
      "✅ BBCP - BalanceSheet_Quarter 데이터 삽입 완료\n"
     ]
    },
    {
     "name": "stderr",
     "output_type": "stream",
     "text": [
      "Processing Companies:  10%|▉         | 419/4204 [20:16<3:05:31,  2.94s/it]"
     ]
    },
    {
     "name": "stdout",
     "output_type": "stream",
     "text": [
      "✅ BBCP - CashFlow_Quarter 데이터 삽입 완료\n",
      "✅ BBD - IncomeStatement_Quarter 데이터 삽입 완료\n",
      "✅ BBD - BalanceSheet_Quarter 데이터 삽입 완료\n"
     ]
    },
    {
     "name": "stderr",
     "output_type": "stream",
     "text": [
      "Processing Companies:  10%|▉         | 420/4204 [20:19<3:09:59,  3.01s/it]"
     ]
    },
    {
     "name": "stdout",
     "output_type": "stream",
     "text": [
      "✅ BBD - CashFlow_Quarter 데이터 삽입 완료\n",
      "✅ BBAR - IncomeStatement_Quarter 데이터 삽입 완료\n",
      "✅ BBAR - BalanceSheet_Quarter 데이터 삽입 완료\n"
     ]
    },
    {
     "name": "stderr",
     "output_type": "stream",
     "text": [
      "Processing Companies:  10%|█         | 421/4204 [20:22<3:06:40,  2.96s/it]"
     ]
    },
    {
     "name": "stdout",
     "output_type": "stream",
     "text": [
      "✅ BBAR - CashFlow_Quarter 데이터 삽입 완료\n",
      "✅ BBDO - IncomeStatement_Quarter 데이터 삽입 완료\n",
      "✅ BBDO - BalanceSheet_Quarter 데이터 삽입 완료\n"
     ]
    },
    {
     "name": "stderr",
     "output_type": "stream",
     "text": [
      "Processing Companies:  10%|█         | 422/4204 [20:25<3:04:49,  2.93s/it]"
     ]
    },
    {
     "name": "stdout",
     "output_type": "stream",
     "text": [
      "✅ BBDO - CashFlow_Quarter 데이터 삽입 완료\n",
      "✅ BBGI - IncomeStatement_Quarter 데이터 삽입 완료\n",
      "✅ BBGI - BalanceSheet_Quarter 데이터 삽입 완료\n"
     ]
    },
    {
     "name": "stderr",
     "output_type": "stream",
     "text": [
      "Processing Companies:  10%|█         | 423/4204 [20:28<3:04:04,  2.92s/it]"
     ]
    },
    {
     "name": "stdout",
     "output_type": "stream",
     "text": [
      "✅ BBGI - CashFlow_Quarter 데이터 삽입 완료\n",
      "✅ BBLG - IncomeStatement_Quarter 데이터 삽입 완료\n",
      "✅ BBLG - BalanceSheet_Quarter 데이터 삽입 완료\n"
     ]
    },
    {
     "name": "stderr",
     "output_type": "stream",
     "text": [
      "Processing Companies:  10%|█         | 424/4204 [20:31<3:00:44,  2.87s/it]"
     ]
    },
    {
     "name": "stdout",
     "output_type": "stream",
     "text": [
      "✅ BBLG - CashFlow_Quarter 데이터 삽입 완료\n",
      "✅ BBIO - IncomeStatement_Quarter 데이터 삽입 완료\n",
      "✅ BBIO - BalanceSheet_Quarter 데이터 삽입 완료\n"
     ]
    },
    {
     "name": "stderr",
     "output_type": "stream",
     "text": [
      "Processing Companies:  10%|█         | 425/4204 [20:34<3:04:17,  2.93s/it]"
     ]
    },
    {
     "name": "stdout",
     "output_type": "stream",
     "text": [
      "✅ BBIO - CashFlow_Quarter 데이터 삽입 완료\n",
      "✅ BBSI - IncomeStatement_Quarter 데이터 삽입 완료\n",
      "✅ BBSI - BalanceSheet_Quarter 데이터 삽입 완료\n"
     ]
    },
    {
     "name": "stderr",
     "output_type": "stream",
     "text": [
      "Processing Companies:  10%|█         | 426/4204 [20:36<3:02:06,  2.89s/it]"
     ]
    },
    {
     "name": "stdout",
     "output_type": "stream",
     "text": [
      "✅ BBSI - CashFlow_Quarter 데이터 삽입 완료\n",
      "✅ BBU - IncomeStatement_Quarter 데이터 삽입 완료\n",
      "✅ BBU - BalanceSheet_Quarter 데이터 삽입 완료\n"
     ]
    },
    {
     "name": "stderr",
     "output_type": "stream",
     "text": [
      "Processing Companies:  10%|█         | 427/4204 [20:40<3:06:49,  2.97s/it]"
     ]
    },
    {
     "name": "stdout",
     "output_type": "stream",
     "text": [
      "✅ BBU - CashFlow_Quarter 데이터 삽입 완료\n",
      "✅ BBVA - IncomeStatement_Quarter 데이터 삽입 완료\n",
      "✅ BBVA - BalanceSheet_Quarter 데이터 삽입 완료\n"
     ]
    },
    {
     "name": "stderr",
     "output_type": "stream",
     "text": [
      "Processing Companies:  10%|█         | 428/4204 [20:42<3:04:15,  2.93s/it]"
     ]
    },
    {
     "name": "stdout",
     "output_type": "stream",
     "text": [
      "✅ BBVA - CashFlow_Quarter 데이터 삽입 완료\n",
      "✅ BBW - IncomeStatement_Quarter 데이터 삽입 완료\n",
      "✅ BBW - BalanceSheet_Quarter 데이터 삽입 완료\n"
     ]
    },
    {
     "name": "stderr",
     "output_type": "stream",
     "text": [
      "Processing Companies:  10%|█         | 429/4204 [20:45<3:00:50,  2.87s/it]"
     ]
    },
    {
     "name": "stdout",
     "output_type": "stream",
     "text": [
      "✅ BBW - CashFlow_Quarter 데이터 삽입 완료\n",
      "✅ BBY - IncomeStatement_Quarter 데이터 삽입 완료\n",
      "✅ BBY - BalanceSheet_Quarter 데이터 삽입 완료\n"
     ]
    },
    {
     "name": "stderr",
     "output_type": "stream",
     "text": [
      "Processing Companies:  10%|█         | 430/4204 [20:48<3:00:19,  2.87s/it]"
     ]
    },
    {
     "name": "stdout",
     "output_type": "stream",
     "text": [
      "✅ BBY - CashFlow_Quarter 데이터 삽입 완료\n",
      "✅ BBWI - IncomeStatement_Quarter 데이터 삽입 완료\n",
      "✅ BBWI - BalanceSheet_Quarter 데이터 삽입 완료\n"
     ]
    },
    {
     "name": "stderr",
     "output_type": "stream",
     "text": [
      "Processing Companies:  10%|█         | 431/4204 [20:51<3:03:40,  2.92s/it]"
     ]
    },
    {
     "name": "stdout",
     "output_type": "stream",
     "text": [
      "✅ BBWI - CashFlow_Quarter 데이터 삽입 완료\n",
      "✅ BC - IncomeStatement_Quarter 데이터 삽입 완료\n",
      "✅ BC - BalanceSheet_Quarter 데이터 삽입 완료\n"
     ]
    },
    {
     "name": "stderr",
     "output_type": "stream",
     "text": [
      "Processing Companies:  10%|█         | 432/4204 [20:54<3:05:08,  2.94s/it]"
     ]
    },
    {
     "name": "stdout",
     "output_type": "stream",
     "text": [
      "✅ BC - CashFlow_Quarter 데이터 삽입 완료\n",
      "✅ BCAB - IncomeStatement_Quarter 데이터 삽입 완료\n",
      "✅ BCAB - BalanceSheet_Quarter 데이터 삽입 완료\n"
     ]
    },
    {
     "name": "stderr",
     "output_type": "stream",
     "text": [
      "Processing Companies:  10%|█         | 433/4204 [20:57<3:01:38,  2.89s/it]"
     ]
    },
    {
     "name": "stdout",
     "output_type": "stream",
     "text": [
      "✅ BCAB - CashFlow_Quarter 데이터 삽입 완료\n",
      "✅ BCC - IncomeStatement_Quarter 데이터 삽입 완료\n",
      "✅ BCC - BalanceSheet_Quarter 데이터 삽입 완료\n"
     ]
    },
    {
     "name": "stderr",
     "output_type": "stream",
     "text": [
      "Processing Companies:  10%|█         | 434/4204 [21:00<2:59:41,  2.86s/it]"
     ]
    },
    {
     "name": "stdout",
     "output_type": "stream",
     "text": [
      "✅ BCC - CashFlow_Quarter 데이터 삽입 완료\n",
      "✅ BCAL - IncomeStatement_Quarter 데이터 삽입 완료\n",
      "✅ BCAL - BalanceSheet_Quarter 데이터 삽입 완료\n"
     ]
    },
    {
     "name": "stderr",
     "output_type": "stream",
     "text": [
      "Processing Companies:  10%|█         | 435/4204 [21:02<2:57:49,  2.83s/it]"
     ]
    },
    {
     "name": "stdout",
     "output_type": "stream",
     "text": [
      "✅ BCAL - CashFlow_Quarter 데이터 삽입 완료\n",
      "✅ BCBP - IncomeStatement_Quarter 데이터 삽입 완료\n",
      "✅ BCBP - BalanceSheet_Quarter 데이터 삽입 완료\n"
     ]
    },
    {
     "name": "stderr",
     "output_type": "stream",
     "text": [
      "Processing Companies:  10%|█         | 436/4204 [21:05<2:57:56,  2.83s/it]"
     ]
    },
    {
     "name": "stdout",
     "output_type": "stream",
     "text": [
      "✅ BCBP - CashFlow_Quarter 데이터 삽입 완료\n",
      "✅ BCLI - IncomeStatement_Quarter 데이터 삽입 완료\n",
      "✅ BCLI - BalanceSheet_Quarter 데이터 삽입 완료\n"
     ]
    },
    {
     "name": "stderr",
     "output_type": "stream",
     "text": [
      "Processing Companies:  10%|█         | 437/4204 [21:08<2:57:11,  2.82s/it]"
     ]
    },
    {
     "name": "stdout",
     "output_type": "stream",
     "text": [
      "✅ BCLI - CashFlow_Quarter 데이터 삽입 완료\n",
      "✅ BCDA - IncomeStatement_Quarter 데이터 삽입 완료\n",
      "✅ BCDA - BalanceSheet_Quarter 데이터 삽입 완료\n"
     ]
    },
    {
     "name": "stderr",
     "output_type": "stream",
     "text": [
      "Processing Companies:  10%|█         | 438/4204 [21:11<2:59:32,  2.86s/it]"
     ]
    },
    {
     "name": "stdout",
     "output_type": "stream",
     "text": [
      "✅ BCDA - CashFlow_Quarter 데이터 삽입 완료\n",
      "✅ BCE - IncomeStatement_Quarter 데이터 삽입 완료\n",
      "✅ BCE - BalanceSheet_Quarter 데이터 삽입 완료\n"
     ]
    },
    {
     "name": "stderr",
     "output_type": "stream",
     "text": [
      "Processing Companies:  10%|█         | 439/4204 [21:14<3:07:47,  2.99s/it]"
     ]
    },
    {
     "name": "stdout",
     "output_type": "stream",
     "text": [
      "✅ BCE - CashFlow_Quarter 데이터 삽입 완료\n",
      "✅ BCH - IncomeStatement_Quarter 데이터 삽입 완료\n",
      "✅ BCH - BalanceSheet_Quarter 데이터 삽입 완료\n"
     ]
    },
    {
     "name": "stderr",
     "output_type": "stream",
     "text": [
      "Processing Companies:  10%|█         | 440/4204 [21:17<3:07:12,  2.98s/it]"
     ]
    },
    {
     "name": "stdout",
     "output_type": "stream",
     "text": [
      "✅ BCH - CashFlow_Quarter 데이터 삽입 완료\n",
      "✅ BCS - IncomeStatement_Quarter 데이터 삽입 완료\n",
      "✅ BCS - BalanceSheet_Quarter 데이터 삽입 완료\n"
     ]
    },
    {
     "name": "stderr",
     "output_type": "stream",
     "text": [
      "Processing Companies:  10%|█         | 441/4204 [21:20<3:02:51,  2.92s/it]"
     ]
    },
    {
     "name": "stdout",
     "output_type": "stream",
     "text": [
      "❌ CashFlow_Quarter 데이터 없음\n",
      "✅ BCML - IncomeStatement_Quarter 데이터 삽입 완료\n",
      "✅ BCML - BalanceSheet_Quarter 데이터 삽입 완료\n"
     ]
    },
    {
     "name": "stderr",
     "output_type": "stream",
     "text": [
      "Processing Companies:  11%|█         | 442/4204 [21:23<2:59:10,  2.86s/it]"
     ]
    },
    {
     "name": "stdout",
     "output_type": "stream",
     "text": [
      "✅ BCML - CashFlow_Quarter 데이터 삽입 완료\n",
      "✅ BCPC - IncomeStatement_Quarter 데이터 삽입 완료\n",
      "✅ BCPC - BalanceSheet_Quarter 데이터 삽입 완료\n"
     ]
    },
    {
     "name": "stderr",
     "output_type": "stream",
     "text": [
      "Processing Companies:  11%|█         | 443/4204 [21:25<2:57:33,  2.83s/it]"
     ]
    },
    {
     "name": "stdout",
     "output_type": "stream",
     "text": [
      "✅ BCPC - CashFlow_Quarter 데이터 삽입 완료\n",
      "✅ BCO - IncomeStatement_Quarter 데이터 삽입 완료\n",
      "✅ BCO - BalanceSheet_Quarter 데이터 삽입 완료\n"
     ]
    },
    {
     "name": "stderr",
     "output_type": "stream",
     "text": [
      "Processing Companies:  11%|█         | 444/4204 [21:29<3:04:07,  2.94s/it]"
     ]
    },
    {
     "name": "stdout",
     "output_type": "stream",
     "text": [
      "✅ BCO - CashFlow_Quarter 데이터 삽입 완료\n",
      "✅ BCTX - IncomeStatement_Quarter 데이터 삽입 완료\n",
      "✅ BCTX - BalanceSheet_Quarter 데이터 삽입 완료\n"
     ]
    },
    {
     "name": "stderr",
     "output_type": "stream",
     "text": [
      "Processing Companies:  11%|█         | 445/4204 [21:31<3:01:31,  2.90s/it]"
     ]
    },
    {
     "name": "stdout",
     "output_type": "stream",
     "text": [
      "✅ BCTX - CashFlow_Quarter 데이터 삽입 완료\n",
      "✅ BCYC - IncomeStatement_Quarter 데이터 삽입 완료\n",
      "✅ BCYC - BalanceSheet_Quarter 데이터 삽입 완료\n"
     ]
    },
    {
     "name": "stderr",
     "output_type": "stream",
     "text": [
      "Processing Companies:  11%|█         | 446/4204 [21:34<2:58:34,  2.85s/it]"
     ]
    },
    {
     "name": "stdout",
     "output_type": "stream",
     "text": [
      "✅ BCYC - CashFlow_Quarter 데이터 삽입 완료\n",
      "✅ BDC - IncomeStatement_Quarter 데이터 삽입 완료\n",
      "✅ BDC - BalanceSheet_Quarter 데이터 삽입 완료\n"
     ]
    },
    {
     "name": "stderr",
     "output_type": "stream",
     "text": [
      "Processing Companies:  11%|█         | 447/4204 [21:37<3:04:16,  2.94s/it]"
     ]
    },
    {
     "name": "stdout",
     "output_type": "stream",
     "text": [
      "✅ BDC - CashFlow_Quarter 데이터 삽입 완료\n",
      "✅ BDL - IncomeStatement_Quarter 데이터 삽입 완료\n",
      "✅ BDL - BalanceSheet_Quarter 데이터 삽입 완료\n"
     ]
    },
    {
     "name": "stderr",
     "output_type": "stream",
     "text": [
      "Processing Companies:  11%|█         | 448/4204 [21:40<3:07:07,  2.99s/it]"
     ]
    },
    {
     "name": "stdout",
     "output_type": "stream",
     "text": [
      "✅ BDL - CashFlow_Quarter 데이터 삽입 완료\n",
      "❌ IncomeStatement_Quarter 데이터 없음\n",
      "✅ BDRX - BalanceSheet_Quarter 데이터 삽입 완료\n"
     ]
    },
    {
     "name": "stderr",
     "output_type": "stream",
     "text": [
      "Processing Companies:  11%|█         | 449/4204 [21:43<3:04:11,  2.94s/it]"
     ]
    },
    {
     "name": "stdout",
     "output_type": "stream",
     "text": [
      "❌ CashFlow_Quarter 데이터 없음\n",
      "❌ IncomeStatement_Quarter 데이터 없음\n",
      "✅ BDMD - BalanceSheet_Quarter 데이터 삽입 완료\n"
     ]
    },
    {
     "name": "stderr",
     "output_type": "stream",
     "text": [
      "Processing Companies:  11%|█         | 450/4204 [21:46<3:01:50,  2.91s/it]"
     ]
    },
    {
     "name": "stdout",
     "output_type": "stream",
     "text": [
      "❌ CashFlow_Quarter 데이터 없음\n",
      "✅ BDN - IncomeStatement_Quarter 데이터 삽입 완료\n",
      "✅ BDN - BalanceSheet_Quarter 데이터 삽입 완료\n"
     ]
    },
    {
     "name": "stderr",
     "output_type": "stream",
     "text": [
      "Processing Companies:  11%|█         | 451/4204 [21:49<3:00:41,  2.89s/it]"
     ]
    },
    {
     "name": "stdout",
     "output_type": "stream",
     "text": [
      "✅ BDN - CashFlow_Quarter 데이터 삽입 완료\n",
      "✅ BDSX - IncomeStatement_Quarter 데이터 삽입 완료\n",
      "✅ BDSX - BalanceSheet_Quarter 데이터 삽입 완료\n"
     ]
    },
    {
     "name": "stderr",
     "output_type": "stream",
     "text": [
      "Processing Companies:  11%|█         | 452/4204 [21:52<2:57:51,  2.84s/it]"
     ]
    },
    {
     "name": "stdout",
     "output_type": "stream",
     "text": [
      "✅ BDSX - CashFlow_Quarter 데이터 삽입 완료\n",
      "✅ BE - IncomeStatement_Quarter 데이터 삽입 완료\n",
      "✅ BE - BalanceSheet_Quarter 데이터 삽입 완료\n"
     ]
    },
    {
     "name": "stderr",
     "output_type": "stream",
     "text": [
      "Processing Companies:  11%|█         | 453/4204 [21:54<2:56:58,  2.83s/it]"
     ]
    },
    {
     "name": "stdout",
     "output_type": "stream",
     "text": [
      "✅ BE - CashFlow_Quarter 데이터 삽입 완료\n",
      "✅ BDTX - IncomeStatement_Quarter 데이터 삽입 완료\n",
      "✅ BDTX - BalanceSheet_Quarter 데이터 삽입 완료\n"
     ]
    },
    {
     "name": "stderr",
     "output_type": "stream",
     "text": [
      "Processing Companies:  11%|█         | 454/4204 [21:57<2:54:34,  2.79s/it]"
     ]
    },
    {
     "name": "stdout",
     "output_type": "stream",
     "text": [
      "✅ BDTX - CashFlow_Quarter 데이터 삽입 완료\n",
      "✅ BDX - IncomeStatement_Quarter 데이터 삽입 완료\n",
      "✅ BDX - BalanceSheet_Quarter 데이터 삽입 완료\n"
     ]
    },
    {
     "name": "stderr",
     "output_type": "stream",
     "text": [
      "Processing Companies:  11%|█         | 455/4204 [22:00<2:55:49,  2.81s/it]"
     ]
    },
    {
     "name": "stdout",
     "output_type": "stream",
     "text": [
      "✅ BDX - CashFlow_Quarter 데이터 삽입 완료\n",
      "✅ BEAT - IncomeStatement_Quarter 데이터 삽입 완료\n",
      "✅ BEAT - BalanceSheet_Quarter 데이터 삽입 완료\n"
     ]
    },
    {
     "name": "stderr",
     "output_type": "stream",
     "text": [
      "Processing Companies:  11%|█         | 456/4204 [22:03<2:54:21,  2.79s/it]"
     ]
    },
    {
     "name": "stdout",
     "output_type": "stream",
     "text": [
      "✅ BEAT - CashFlow_Quarter 데이터 삽입 완료\n",
      "✅ BEDU - IncomeStatement_Quarter 데이터 삽입 완료\n",
      "✅ BEDU - BalanceSheet_Quarter 데이터 삽입 완료\n"
     ]
    },
    {
     "name": "stderr",
     "output_type": "stream",
     "text": [
      "Processing Companies:  11%|█         | 457/4204 [22:06<2:53:32,  2.78s/it]"
     ]
    },
    {
     "name": "stdout",
     "output_type": "stream",
     "text": [
      "✅ BEDU - CashFlow_Quarter 데이터 삽입 완료\n",
      "✅ BEAM - IncomeStatement_Quarter 데이터 삽입 완료\n",
      "✅ BEAM - BalanceSheet_Quarter 데이터 삽입 완료\n"
     ]
    },
    {
     "name": "stderr",
     "output_type": "stream",
     "text": [
      "Processing Companies:  11%|█         | 458/4204 [22:08<2:56:54,  2.83s/it]"
     ]
    },
    {
     "name": "stdout",
     "output_type": "stream",
     "text": [
      "✅ BEAM - CashFlow_Quarter 데이터 삽입 완료\n",
      "✅ BEEM - IncomeStatement_Quarter 데이터 삽입 완료\n",
      "✅ BEEM - BalanceSheet_Quarter 데이터 삽입 완료\n"
     ]
    },
    {
     "name": "stderr",
     "output_type": "stream",
     "text": [
      "Processing Companies:  11%|█         | 459/4204 [22:11<2:55:10,  2.81s/it]"
     ]
    },
    {
     "name": "stdout",
     "output_type": "stream",
     "text": [
      "✅ BEEM - CashFlow_Quarter 데이터 삽입 완료\n",
      "✅ BEKE - IncomeStatement_Quarter 데이터 삽입 완료\n",
      "✅ BEKE - BalanceSheet_Quarter 데이터 삽입 완료\n"
     ]
    },
    {
     "name": "stderr",
     "output_type": "stream",
     "text": [
      "Processing Companies:  11%|█         | 460/4204 [22:14<2:53:59,  2.79s/it]"
     ]
    },
    {
     "name": "stdout",
     "output_type": "stream",
     "text": [
      "✅ BEKE - CashFlow_Quarter 데이터 삽입 완료\n",
      "✅ BEP - IncomeStatement_Quarter 데이터 삽입 완료\n",
      "✅ BEP - BalanceSheet_Quarter 데이터 삽입 완료\n"
     ]
    },
    {
     "name": "stderr",
     "output_type": "stream",
     "text": [
      "Processing Companies:  11%|█         | 461/4204 [22:17<2:58:09,  2.86s/it]"
     ]
    },
    {
     "name": "stdout",
     "output_type": "stream",
     "text": [
      "✅ BEP - CashFlow_Quarter 데이터 삽입 완료\n",
      "✅ BEPC - IncomeStatement_Quarter 데이터 삽입 완료\n",
      "✅ BEPC - BalanceSheet_Quarter 데이터 삽입 완료\n"
     ]
    },
    {
     "name": "stderr",
     "output_type": "stream",
     "text": [
      "Processing Companies:  11%|█         | 462/4204 [22:20<2:57:46,  2.85s/it]"
     ]
    },
    {
     "name": "stdout",
     "output_type": "stream",
     "text": [
      "✅ BEPC - CashFlow_Quarter 데이터 삽입 완료\n",
      "✅ BETR - IncomeStatement_Quarter 데이터 삽입 완료\n",
      "✅ BETR - BalanceSheet_Quarter 데이터 삽입 완료\n"
     ]
    },
    {
     "name": "stderr",
     "output_type": "stream",
     "text": [
      "Processing Companies:  11%|█         | 463/4204 [22:23<2:58:58,  2.87s/it]"
     ]
    },
    {
     "name": "stdout",
     "output_type": "stream",
     "text": [
      "✅ BETR - CashFlow_Quarter 데이터 삽입 완료\n",
      "✅ BFAM - IncomeStatement_Quarter 데이터 삽입 완료\n",
      "✅ BFAM - BalanceSheet_Quarter 데이터 삽입 완료\n"
     ]
    },
    {
     "name": "stderr",
     "output_type": "stream",
     "text": [
      "Processing Companies:  11%|█         | 464/4204 [22:26<3:00:05,  2.89s/it]"
     ]
    },
    {
     "name": "stdout",
     "output_type": "stream",
     "text": [
      "✅ BFAM - CashFlow_Quarter 데이터 삽입 완료\n",
      "✅ BFC - IncomeStatement_Quarter 데이터 삽입 완료\n",
      "✅ BFC - BalanceSheet_Quarter 데이터 삽입 완료\n"
     ]
    },
    {
     "name": "stderr",
     "output_type": "stream",
     "text": [
      "Processing Companies:  11%|█         | 465/4204 [22:28<2:58:34,  2.87s/it]"
     ]
    },
    {
     "name": "stdout",
     "output_type": "stream",
     "text": [
      "✅ BFC - CashFlow_Quarter 데이터 삽입 완료\n",
      "✅ BFH - IncomeStatement_Quarter 데이터 삽입 완료\n",
      "✅ BFH - BalanceSheet_Quarter 데이터 삽입 완료\n"
     ]
    },
    {
     "name": "stderr",
     "output_type": "stream",
     "text": [
      "Processing Companies:  11%|█         | 466/4204 [22:31<2:58:25,  2.86s/it]"
     ]
    },
    {
     "name": "stdout",
     "output_type": "stream",
     "text": [
      "✅ BFH - CashFlow_Quarter 데이터 삽입 완료\n",
      "✅ BFLY - IncomeStatement_Quarter 데이터 삽입 완료\n",
      "✅ BFLY - BalanceSheet_Quarter 데이터 삽입 완료\n"
     ]
    },
    {
     "name": "stderr",
     "output_type": "stream",
     "text": [
      "Processing Companies:  11%|█         | 467/4204 [22:34<2:57:54,  2.86s/it]"
     ]
    },
    {
     "name": "stdout",
     "output_type": "stream",
     "text": [
      "✅ BFLY - CashFlow_Quarter 데이터 삽입 완료\n",
      "✅ BFIN - IncomeStatement_Quarter 데이터 삽입 완료\n",
      "✅ BFIN - BalanceSheet_Quarter 데이터 삽입 완료\n"
     ]
    },
    {
     "name": "stderr",
     "output_type": "stream",
     "text": [
      "Processing Companies:  11%|█         | 468/4204 [22:37<2:55:42,  2.82s/it]"
     ]
    },
    {
     "name": "stdout",
     "output_type": "stream",
     "text": [
      "✅ BFIN - CashFlow_Quarter 데이터 삽입 완료\n",
      "✅ BFRI - IncomeStatement_Quarter 데이터 삽입 완료\n",
      "✅ BFRI - BalanceSheet_Quarter 데이터 삽입 완료\n"
     ]
    },
    {
     "name": "stderr",
     "output_type": "stream",
     "text": [
      "Processing Companies:  11%|█         | 469/4204 [22:40<3:00:44,  2.90s/it]"
     ]
    },
    {
     "name": "stdout",
     "output_type": "stream",
     "text": [
      "✅ BFRI - CashFlow_Quarter 데이터 삽입 완료\n",
      "✅ BFS - IncomeStatement_Quarter 데이터 삽입 완료\n",
      "✅ BFS - BalanceSheet_Quarter 데이터 삽입 완료\n"
     ]
    },
    {
     "name": "stderr",
     "output_type": "stream",
     "text": [
      "Processing Companies:  11%|█         | 470/4204 [22:43<3:01:58,  2.92s/it]"
     ]
    },
    {
     "name": "stdout",
     "output_type": "stream",
     "text": [
      "✅ BFS - CashFlow_Quarter 데이터 삽입 완료\n",
      "✅ BFST - IncomeStatement_Quarter 데이터 삽입 완료\n",
      "✅ BFST - BalanceSheet_Quarter 데이터 삽입 완료\n"
     ]
    },
    {
     "name": "stderr",
     "output_type": "stream",
     "text": [
      "Processing Companies:  11%|█         | 471/4204 [22:46<3:01:02,  2.91s/it]"
     ]
    },
    {
     "name": "stdout",
     "output_type": "stream",
     "text": [
      "✅ BFST - CashFlow_Quarter 데이터 삽입 완료\n",
      "✅ BG - IncomeStatement_Quarter 데이터 삽입 완료\n",
      "✅ BG - BalanceSheet_Quarter 데이터 삽입 완료\n"
     ]
    },
    {
     "name": "stderr",
     "output_type": "stream",
     "text": [
      "Processing Companies:  11%|█         | 472/4204 [22:49<3:03:44,  2.95s/it]"
     ]
    },
    {
     "name": "stdout",
     "output_type": "stream",
     "text": [
      "✅ BG - CashFlow_Quarter 데이터 삽입 완료\n",
      "✅ BGFV - IncomeStatement_Quarter 데이터 삽입 완료\n",
      "✅ BGFV - BalanceSheet_Quarter 데이터 삽입 완료\n"
     ]
    },
    {
     "name": "stderr",
     "output_type": "stream",
     "text": [
      "Processing Companies:  11%|█▏        | 473/4204 [22:52<3:00:13,  2.90s/it]"
     ]
    },
    {
     "name": "stdout",
     "output_type": "stream",
     "text": [
      "✅ BGFV - CashFlow_Quarter 데이터 삽입 완료\n",
      "❌ IncomeStatement_Quarter 데이터 없음\n",
      "✅ BGI - BalanceSheet_Quarter 데이터 삽입 완료\n"
     ]
    },
    {
     "name": "stderr",
     "output_type": "stream",
     "text": [
      "Processing Companies:  11%|█▏        | 474/4204 [22:54<2:57:08,  2.85s/it]"
     ]
    },
    {
     "name": "stdout",
     "output_type": "stream",
     "text": [
      "❌ CashFlow_Quarter 데이터 없음\n",
      "✅ BGLC - IncomeStatement_Quarter 데이터 삽입 완료\n",
      "✅ BGLC - BalanceSheet_Quarter 데이터 삽입 완료\n"
     ]
    },
    {
     "name": "stderr",
     "output_type": "stream",
     "text": [
      "Processing Companies:  11%|█▏        | 475/4204 [22:57<2:56:06,  2.83s/it]"
     ]
    },
    {
     "name": "stdout",
     "output_type": "stream",
     "text": [
      "✅ BGLC - CashFlow_Quarter 데이터 삽입 완료\n",
      "✅ BGS - IncomeStatement_Quarter 데이터 삽입 완료\n",
      "✅ BGS - BalanceSheet_Quarter 데이터 삽입 완료\n"
     ]
    },
    {
     "name": "stderr",
     "output_type": "stream",
     "text": [
      "Processing Companies:  11%|█▏        | 476/4204 [23:00<3:00:07,  2.90s/it]"
     ]
    },
    {
     "name": "stdout",
     "output_type": "stream",
     "text": [
      "✅ BGS - CashFlow_Quarter 데이터 삽입 완료\n",
      "❌ IncomeStatement_Quarter 데이터 없음\n",
      "✅ BGM - BalanceSheet_Quarter 데이터 삽입 완료\n"
     ]
    },
    {
     "name": "stderr",
     "output_type": "stream",
     "text": [
      "Processing Companies:  11%|█▏        | 477/4204 [23:03<3:01:05,  2.92s/it]"
     ]
    },
    {
     "name": "stdout",
     "output_type": "stream",
     "text": [
      "❌ CashFlow_Quarter 데이터 없음\n",
      "✅ BGSF - IncomeStatement_Quarter 데이터 삽입 완료\n",
      "✅ BGSF - BalanceSheet_Quarter 데이터 삽입 완료\n"
     ]
    },
    {
     "name": "stderr",
     "output_type": "stream",
     "text": [
      "Processing Companies:  11%|█▏        | 478/4204 [23:06<3:00:40,  2.91s/it]"
     ]
    },
    {
     "name": "stdout",
     "output_type": "stream",
     "text": [
      "✅ BGSF - CashFlow_Quarter 데이터 삽입 완료\n",
      "✅ BH - IncomeStatement_Quarter 데이터 삽입 완료\n",
      "✅ BH - BalanceSheet_Quarter 데이터 삽입 완료\n"
     ]
    },
    {
     "name": "stderr",
     "output_type": "stream",
     "text": [
      "Processing Companies:  11%|█▏        | 479/4204 [23:09<2:59:27,  2.89s/it]"
     ]
    },
    {
     "name": "stdout",
     "output_type": "stream",
     "text": [
      "✅ BH - CashFlow_Quarter 데이터 삽입 완료\n",
      "✅ BHB - IncomeStatement_Quarter 데이터 삽입 완료\n",
      "✅ BHB - BalanceSheet_Quarter 데이터 삽입 완료\n"
     ]
    },
    {
     "name": "stderr",
     "output_type": "stream",
     "text": [
      "Processing Companies:  11%|█▏        | 480/4204 [23:12<2:59:39,  2.89s/it]"
     ]
    },
    {
     "name": "stdout",
     "output_type": "stream",
     "text": [
      "✅ BHB - CashFlow_Quarter 데이터 삽입 완료\n",
      "❌ IncomeStatement_Quarter 데이터 없음\n",
      "✅ BHAT - BalanceSheet_Quarter 데이터 삽입 완료\n"
     ]
    },
    {
     "name": "stderr",
     "output_type": "stream",
     "text": [
      "Processing Companies:  11%|█▏        | 481/4204 [23:15<2:55:44,  2.83s/it]"
     ]
    },
    {
     "name": "stdout",
     "output_type": "stream",
     "text": [
      "❌ CashFlow_Quarter 데이터 없음\n",
      "✅ BHF - IncomeStatement_Quarter 데이터 삽입 완료\n",
      "✅ BHF - BalanceSheet_Quarter 데이터 삽입 완료\n"
     ]
    },
    {
     "name": "stderr",
     "output_type": "stream",
     "text": [
      "Processing Companies:  11%|█▏        | 482/4204 [23:17<2:54:35,  2.81s/it]"
     ]
    },
    {
     "name": "stdout",
     "output_type": "stream",
     "text": [
      "✅ BHF - CashFlow_Quarter 데이터 삽입 완료\n",
      "✅ BHC - IncomeStatement_Quarter 데이터 삽입 완료\n",
      "✅ BHC - BalanceSheet_Quarter 데이터 삽입 완료\n"
     ]
    },
    {
     "name": "stderr",
     "output_type": "stream",
     "text": [
      "Processing Companies:  11%|█▏        | 483/4204 [23:20<2:56:57,  2.85s/it]"
     ]
    },
    {
     "name": "stdout",
     "output_type": "stream",
     "text": [
      "✅ BHC - CashFlow_Quarter 데이터 삽입 완료\n",
      "✅ BHFAM - IncomeStatement_Quarter 데이터 삽입 완료\n",
      "✅ BHFAM - BalanceSheet_Quarter 데이터 삽입 완료\n"
     ]
    },
    {
     "name": "stderr",
     "output_type": "stream",
     "text": [
      "Processing Companies:  12%|█▏        | 484/4204 [23:23<2:54:53,  2.82s/it]"
     ]
    },
    {
     "name": "stdout",
     "output_type": "stream",
     "text": [
      "✅ BHFAM - CashFlow_Quarter 데이터 삽입 완료\n",
      "✅ BHFAN - IncomeStatement_Quarter 데이터 삽입 완료\n",
      "✅ BHFAN - BalanceSheet_Quarter 데이터 삽입 완료\n"
     ]
    },
    {
     "name": "stderr",
     "output_type": "stream",
     "text": [
      "Processing Companies:  12%|█▏        | 485/4204 [23:26<2:56:18,  2.84s/it]"
     ]
    },
    {
     "name": "stdout",
     "output_type": "stream",
     "text": [
      "✅ BHFAN - CashFlow_Quarter 데이터 삽입 완료\n",
      "✅ BHFAO - IncomeStatement_Quarter 데이터 삽입 완료\n",
      "✅ BHFAO - BalanceSheet_Quarter 데이터 삽입 완료\n"
     ]
    },
    {
     "name": "stderr",
     "output_type": "stream",
     "text": [
      "Processing Companies:  12%|█▏        | 486/4204 [23:29<2:54:29,  2.82s/it]"
     ]
    },
    {
     "name": "stdout",
     "output_type": "stream",
     "text": [
      "✅ BHFAO - CashFlow_Quarter 데이터 삽입 완료\n",
      "✅ BHFAP - IncomeStatement_Quarter 데이터 삽입 완료\n",
      "✅ BHFAP - BalanceSheet_Quarter 데이터 삽입 완료\n"
     ]
    },
    {
     "name": "stderr",
     "output_type": "stream",
     "text": [
      "Processing Companies:  12%|█▏        | 487/4204 [23:32<2:55:05,  2.83s/it]"
     ]
    },
    {
     "name": "stdout",
     "output_type": "stream",
     "text": [
      "✅ BHFAP - CashFlow_Quarter 데이터 삽입 완료\n",
      "✅ BHLB - IncomeStatement_Quarter 데이터 삽입 완료\n",
      "✅ BHLB - BalanceSheet_Quarter 데이터 삽입 완료\n"
     ]
    },
    {
     "name": "stderr",
     "output_type": "stream",
     "text": [
      "Processing Companies:  12%|█▏        | 488/4204 [23:34<2:53:57,  2.81s/it]"
     ]
    },
    {
     "name": "stdout",
     "output_type": "stream",
     "text": [
      "✅ BHLB - CashFlow_Quarter 데이터 삽입 완료\n",
      "✅ BHR - IncomeStatement_Quarter 데이터 삽입 완료\n",
      "✅ BHR - BalanceSheet_Quarter 데이터 삽입 완료\n"
     ]
    },
    {
     "name": "stderr",
     "output_type": "stream",
     "text": [
      "Processing Companies:  12%|█▏        | 489/4204 [23:37<2:58:11,  2.88s/it]"
     ]
    },
    {
     "name": "stdout",
     "output_type": "stream",
     "text": [
      "✅ BHR - CashFlow_Quarter 데이터 삽입 완료\n",
      "✅ BHRB - IncomeStatement_Quarter 데이터 삽입 완료\n",
      "✅ BHRB - BalanceSheet_Quarter 데이터 삽입 완료\n"
     ]
    },
    {
     "name": "stderr",
     "output_type": "stream",
     "text": [
      "Processing Companies:  12%|█▏        | 490/4204 [23:40<2:56:05,  2.84s/it]"
     ]
    },
    {
     "name": "stdout",
     "output_type": "stream",
     "text": [
      "✅ BHRB - CashFlow_Quarter 데이터 삽입 완료\n",
      "❌ IncomeStatement_Quarter 데이터 없음\n",
      "✅ BHP - BalanceSheet_Quarter 데이터 삽입 완료\n"
     ]
    },
    {
     "name": "stderr",
     "output_type": "stream",
     "text": [
      "Processing Companies:  12%|█▏        | 491/4204 [23:43<2:57:50,  2.87s/it]"
     ]
    },
    {
     "name": "stdout",
     "output_type": "stream",
     "text": [
      "❌ CashFlow_Quarter 데이터 없음\n",
      "✅ BHST - IncomeStatement_Quarter 데이터 삽입 완료\n",
      "✅ BHST - BalanceSheet_Quarter 데이터 삽입 완료\n"
     ]
    },
    {
     "name": "stderr",
     "output_type": "stream",
     "text": [
      "Processing Companies:  12%|█▏        | 492/4204 [23:46<2:56:55,  2.86s/it]"
     ]
    },
    {
     "name": "stdout",
     "output_type": "stream",
     "text": [
      "✅ BHST - CashFlow_Quarter 데이터 삽입 완료\n",
      "✅ BIDU - IncomeStatement_Quarter 데이터 삽입 완료\n",
      "✅ BIDU - BalanceSheet_Quarter 데이터 삽입 완료\n"
     ]
    },
    {
     "name": "stderr",
     "output_type": "stream",
     "text": [
      "Processing Companies:  12%|█▏        | 493/4204 [23:49<2:56:48,  2.86s/it]"
     ]
    },
    {
     "name": "stdout",
     "output_type": "stream",
     "text": [
      "✅ BIDU - CashFlow_Quarter 데이터 삽입 완료\n",
      "✅ BIGC - IncomeStatement_Quarter 데이터 삽입 완료\n",
      "✅ BIGC - BalanceSheet_Quarter 데이터 삽입 완료\n"
     ]
    },
    {
     "name": "stderr",
     "output_type": "stream",
     "text": [
      "Processing Companies:  12%|█▏        | 494/4204 [23:52<3:01:14,  2.93s/it]"
     ]
    },
    {
     "name": "stdout",
     "output_type": "stream",
     "text": [
      "✅ BIGC - CashFlow_Quarter 데이터 삽입 완료\n",
      "✅ BIIB - IncomeStatement_Quarter 데이터 삽입 완료\n",
      "✅ BIIB - BalanceSheet_Quarter 데이터 삽입 완료\n"
     ]
    },
    {
     "name": "stderr",
     "output_type": "stream",
     "text": [
      "Processing Companies:  12%|█▏        | 495/4204 [23:55<3:00:52,  2.93s/it]"
     ]
    },
    {
     "name": "stdout",
     "output_type": "stream",
     "text": [
      "✅ BIIB - CashFlow_Quarter 데이터 삽입 완료\n",
      "✅ BILI - IncomeStatement_Quarter 데이터 삽입 완료\n",
      "✅ BILI - BalanceSheet_Quarter 데이터 삽입 완료\n"
     ]
    },
    {
     "name": "stderr",
     "output_type": "stream",
     "text": [
      "Processing Companies:  12%|█▏        | 496/4204 [23:58<3:03:07,  2.96s/it]"
     ]
    },
    {
     "name": "stdout",
     "output_type": "stream",
     "text": [
      "✅ BILI - CashFlow_Quarter 데이터 삽입 완료\n",
      "✅ BILL - IncomeStatement_Quarter 데이터 삽입 완료\n",
      "✅ BILL - BalanceSheet_Quarter 데이터 삽입 완료\n"
     ]
    },
    {
     "name": "stderr",
     "output_type": "stream",
     "text": [
      "Processing Companies:  12%|█▏        | 497/4204 [24:01<3:00:58,  2.93s/it]"
     ]
    },
    {
     "name": "stdout",
     "output_type": "stream",
     "text": [
      "✅ BILL - CashFlow_Quarter 데이터 삽입 완료\n",
      "✅ BIOX - IncomeStatement_Quarter 데이터 삽입 완료\n",
      "✅ BIOX - BalanceSheet_Quarter 데이터 삽입 완료\n"
     ]
    },
    {
     "name": "stderr",
     "output_type": "stream",
     "text": [
      "Processing Companies:  12%|█▏        | 498/4204 [24:04<3:00:13,  2.92s/it]"
     ]
    },
    {
     "name": "stdout",
     "output_type": "stream",
     "text": [
      "✅ BIOX - CashFlow_Quarter 데이터 삽입 완료\n",
      "✅ BIP - IncomeStatement_Quarter 데이터 삽입 완료\n",
      "✅ BIP - BalanceSheet_Quarter 데이터 삽입 완료\n"
     ]
    },
    {
     "name": "stderr",
     "output_type": "stream",
     "text": [
      "Processing Companies:  12%|█▏        | 499/4204 [24:07<3:02:26,  2.95s/it]"
     ]
    },
    {
     "name": "stdout",
     "output_type": "stream",
     "text": [
      "✅ BIP - CashFlow_Quarter 데이터 삽입 완료\n",
      "✅ BIPC - IncomeStatement_Quarter 데이터 삽입 완료\n",
      "✅ BIPC - BalanceSheet_Quarter 데이터 삽입 완료\n"
     ]
    },
    {
     "name": "stderr",
     "output_type": "stream",
     "text": [
      "Processing Companies:  12%|█▏        | 500/4204 [24:10<3:05:12,  3.00s/it]"
     ]
    },
    {
     "name": "stdout",
     "output_type": "stream",
     "text": [
      "✅ BIPC - CashFlow_Quarter 데이터 삽입 완료\n",
      "✅ BIRD - IncomeStatement_Quarter 데이터 삽입 완료\n",
      "✅ BIRD - BalanceSheet_Quarter 데이터 삽입 완료\n"
     ]
    },
    {
     "name": "stderr",
     "output_type": "stream",
     "text": [
      "Processing Companies:  12%|█▏        | 501/4204 [24:12<3:01:40,  2.94s/it]"
     ]
    },
    {
     "name": "stdout",
     "output_type": "stream",
     "text": [
      "✅ BIRD - CashFlow_Quarter 데이터 삽입 완료\n",
      "✅ BIVI - IncomeStatement_Quarter 데이터 삽입 완료\n",
      "✅ BIVI - BalanceSheet_Quarter 데이터 삽입 완료\n"
     ]
    },
    {
     "name": "stderr",
     "output_type": "stream",
     "text": [
      "Processing Companies:  12%|█▏        | 502/4204 [24:15<2:57:55,  2.88s/it]"
     ]
    },
    {
     "name": "stdout",
     "output_type": "stream",
     "text": [
      "✅ BIVI - CashFlow_Quarter 데이터 삽입 완료\n",
      "✅ BJ - IncomeStatement_Quarter 데이터 삽입 완료\n",
      "✅ BJ - BalanceSheet_Quarter 데이터 삽입 완료\n"
     ]
    },
    {
     "name": "stderr",
     "output_type": "stream",
     "text": [
      "Processing Companies:  12%|█▏        | 503/4204 [24:18<2:58:14,  2.89s/it]"
     ]
    },
    {
     "name": "stdout",
     "output_type": "stream",
     "text": [
      "✅ BJ - CashFlow_Quarter 데이터 삽입 완료\n",
      "✅ BK - IncomeStatement_Quarter 데이터 삽입 완료\n",
      "✅ BK - BalanceSheet_Quarter 데이터 삽입 완료\n"
     ]
    },
    {
     "name": "stderr",
     "output_type": "stream",
     "text": [
      "Processing Companies:  12%|█▏        | 504/4204 [24:21<2:57:27,  2.88s/it]"
     ]
    },
    {
     "name": "stdout",
     "output_type": "stream",
     "text": [
      "✅ BK - CashFlow_Quarter 데이터 삽입 완료\n",
      "✅ BJDX - IncomeStatement_Quarter 데이터 삽입 완료\n",
      "✅ BJDX - BalanceSheet_Quarter 데이터 삽입 완료\n"
     ]
    },
    {
     "name": "stderr",
     "output_type": "stream",
     "text": [
      "Processing Companies:  12%|█▏        | 505/4204 [24:24<2:54:21,  2.83s/it]"
     ]
    },
    {
     "name": "stdout",
     "output_type": "stream",
     "text": [
      "✅ BJDX - CashFlow_Quarter 데이터 삽입 완료\n",
      "✅ BJRI - IncomeStatement_Quarter 데이터 삽입 완료\n",
      "✅ BJRI - BalanceSheet_Quarter 데이터 삽입 완료\n"
     ]
    },
    {
     "name": "stderr",
     "output_type": "stream",
     "text": [
      "Processing Companies:  12%|█▏        | 506/4204 [24:26<2:53:47,  2.82s/it]"
     ]
    },
    {
     "name": "stdout",
     "output_type": "stream",
     "text": [
      "✅ BJRI - CashFlow_Quarter 데이터 삽입 완료\n",
      "✅ BKD - IncomeStatement_Quarter 데이터 삽입 완료\n",
      "✅ BKD - BalanceSheet_Quarter 데이터 삽입 완료\n"
     ]
    },
    {
     "name": "stderr",
     "output_type": "stream",
     "text": [
      "Processing Companies:  12%|█▏        | 507/4204 [24:29<2:57:06,  2.87s/it]"
     ]
    },
    {
     "name": "stdout",
     "output_type": "stream",
     "text": [
      "✅ BKD - CashFlow_Quarter 데이터 삽입 완료\n",
      "✅ BKH - IncomeStatement_Quarter 데이터 삽입 완료\n",
      "✅ BKH - BalanceSheet_Quarter 데이터 삽입 완료\n"
     ]
    },
    {
     "name": "stderr",
     "output_type": "stream",
     "text": [
      "Processing Companies:  12%|█▏        | 508/4204 [24:32<2:58:02,  2.89s/it]"
     ]
    },
    {
     "name": "stdout",
     "output_type": "stream",
     "text": [
      "✅ BKH - CashFlow_Quarter 데이터 삽입 완료\n",
      "✅ BKE - IncomeStatement_Quarter 데이터 삽입 완료\n",
      "✅ BKE - BalanceSheet_Quarter 데이터 삽입 완료\n"
     ]
    },
    {
     "name": "stderr",
     "output_type": "stream",
     "text": [
      "Processing Companies:  12%|█▏        | 509/4204 [24:35<2:56:44,  2.87s/it]"
     ]
    },
    {
     "name": "stdout",
     "output_type": "stream",
     "text": [
      "✅ BKE - CashFlow_Quarter 데이터 삽입 완료\n",
      "✅ BKR - IncomeStatement_Quarter 데이터 삽입 완료\n",
      "✅ BKR - BalanceSheet_Quarter 데이터 삽입 완료\n"
     ]
    },
    {
     "name": "stderr",
     "output_type": "stream",
     "text": [
      "Processing Companies:  12%|█▏        | 510/4204 [24:38<3:00:36,  2.93s/it]"
     ]
    },
    {
     "name": "stdout",
     "output_type": "stream",
     "text": [
      "✅ BKR - CashFlow_Quarter 데이터 삽입 완료\n",
      "✅ BKNG - IncomeStatement_Quarter 데이터 삽입 완료\n",
      "✅ BKNG - BalanceSheet_Quarter 데이터 삽입 완료\n"
     ]
    },
    {
     "name": "stderr",
     "output_type": "stream",
     "text": [
      "Processing Companies:  12%|█▏        | 511/4204 [24:41<3:00:04,  2.93s/it]"
     ]
    },
    {
     "name": "stdout",
     "output_type": "stream",
     "text": [
      "✅ BKNG - CashFlow_Quarter 데이터 삽입 완료\n",
      "✅ BKU - IncomeStatement_Quarter 데이터 삽입 완료\n",
      "✅ BKU - BalanceSheet_Quarter 데이터 삽입 완료\n"
     ]
    },
    {
     "name": "stderr",
     "output_type": "stream",
     "text": [
      "Processing Companies:  12%|█▏        | 512/4204 [24:44<3:01:14,  2.95s/it]"
     ]
    },
    {
     "name": "stdout",
     "output_type": "stream",
     "text": [
      "✅ BKU - CashFlow_Quarter 데이터 삽입 완료\n",
      "✅ BKTI - IncomeStatement_Quarter 데이터 삽입 완료\n",
      "✅ BKTI - BalanceSheet_Quarter 데이터 삽입 완료\n"
     ]
    },
    {
     "name": "stderr",
     "output_type": "stream",
     "text": [
      "Processing Companies:  12%|█▏        | 513/4204 [24:47<2:58:28,  2.90s/it]"
     ]
    },
    {
     "name": "stdout",
     "output_type": "stream",
     "text": [
      "✅ BKTI - CashFlow_Quarter 데이터 삽입 완료\n",
      "✅ BKYI - IncomeStatement_Quarter 데이터 삽입 완료\n",
      "✅ BKYI - BalanceSheet_Quarter 데이터 삽입 완료\n"
     ]
    },
    {
     "name": "stderr",
     "output_type": "stream",
     "text": [
      "Processing Companies:  12%|█▏        | 514/4204 [24:50<2:57:34,  2.89s/it]"
     ]
    },
    {
     "name": "stdout",
     "output_type": "stream",
     "text": [
      "✅ BKYI - CashFlow_Quarter 데이터 삽입 완료\n",
      "✅ BLBD - IncomeStatement_Quarter 데이터 삽입 완료\n",
      "✅ BLBD - BalanceSheet_Quarter 데이터 삽입 완료\n"
     ]
    },
    {
     "name": "stderr",
     "output_type": "stream",
     "text": [
      "Processing Companies:  12%|█▏        | 515/4204 [24:53<2:58:58,  2.91s/it]"
     ]
    },
    {
     "name": "stdout",
     "output_type": "stream",
     "text": [
      "✅ BLBD - CashFlow_Quarter 데이터 삽입 완료\n",
      "✅ BLBX - IncomeStatement_Quarter 데이터 삽입 완료\n",
      "✅ BLBX - BalanceSheet_Quarter 데이터 삽입 완료\n"
     ]
    },
    {
     "name": "stderr",
     "output_type": "stream",
     "text": [
      "Processing Companies:  12%|█▏        | 516/4204 [24:56<2:58:28,  2.90s/it]"
     ]
    },
    {
     "name": "stdout",
     "output_type": "stream",
     "text": [
      "✅ BLBX - CashFlow_Quarter 데이터 삽입 완료\n",
      "✅ BLCO - IncomeStatement_Quarter 데이터 삽입 완료\n",
      "✅ BLCO - BalanceSheet_Quarter 데이터 삽입 완료\n"
     ]
    },
    {
     "name": "stderr",
     "output_type": "stream",
     "text": [
      "Processing Companies:  12%|█▏        | 517/4204 [24:59<2:56:27,  2.87s/it]"
     ]
    },
    {
     "name": "stdout",
     "output_type": "stream",
     "text": [
      "✅ BLCO - CashFlow_Quarter 데이터 삽입 완료\n",
      "✅ BLD - IncomeStatement_Quarter 데이터 삽입 완료\n",
      "✅ BLD - BalanceSheet_Quarter 데이터 삽입 완료\n"
     ]
    },
    {
     "name": "stderr",
     "output_type": "stream",
     "text": [
      "Processing Companies:  12%|█▏        | 518/4204 [25:01<2:55:00,  2.85s/it]"
     ]
    },
    {
     "name": "stdout",
     "output_type": "stream",
     "text": [
      "✅ BLD - CashFlow_Quarter 데이터 삽입 완료\n",
      "✅ BLDP - IncomeStatement_Quarter 데이터 삽입 완료\n",
      "✅ BLDP - BalanceSheet_Quarter 데이터 삽입 완료\n"
     ]
    },
    {
     "name": "stderr",
     "output_type": "stream",
     "text": [
      "Processing Companies:  12%|█▏        | 519/4204 [25:04<3:00:28,  2.94s/it]"
     ]
    },
    {
     "name": "stdout",
     "output_type": "stream",
     "text": [
      "✅ BLDP - CashFlow_Quarter 데이터 삽입 완료\n",
      "✅ BLDE - IncomeStatement_Quarter 데이터 삽입 완료\n",
      "✅ BLDE - BalanceSheet_Quarter 데이터 삽입 완료\n"
     ]
    },
    {
     "name": "stderr",
     "output_type": "stream",
     "text": [
      "Processing Companies:  12%|█▏        | 520/4204 [25:07<2:57:51,  2.90s/it]"
     ]
    },
    {
     "name": "stdout",
     "output_type": "stream",
     "text": [
      "✅ BLDE - CashFlow_Quarter 데이터 삽입 완료\n",
      "✅ BLDR - IncomeStatement_Quarter 데이터 삽입 완료\n",
      "✅ BLDR - BalanceSheet_Quarter 데이터 삽입 완료\n"
     ]
    },
    {
     "name": "stderr",
     "output_type": "stream",
     "text": [
      "Processing Companies:  12%|█▏        | 521/4204 [25:10<2:57:54,  2.90s/it]"
     ]
    },
    {
     "name": "stdout",
     "output_type": "stream",
     "text": [
      "✅ BLDR - CashFlow_Quarter 데이터 삽입 완료\n",
      "✅ BLFS - IncomeStatement_Quarter 데이터 삽입 완료\n",
      "✅ BLFS - BalanceSheet_Quarter 데이터 삽입 완료\n"
     ]
    },
    {
     "name": "stderr",
     "output_type": "stream",
     "text": [
      "Processing Companies:  12%|█▏        | 522/4204 [25:13<2:55:24,  2.86s/it]"
     ]
    },
    {
     "name": "stdout",
     "output_type": "stream",
     "text": [
      "✅ BLFS - CashFlow_Quarter 데이터 삽입 완료\n",
      "✅ BLFY - IncomeStatement_Quarter 데이터 삽입 완료\n",
      "✅ BLFY - BalanceSheet_Quarter 데이터 삽입 완료\n"
     ]
    },
    {
     "name": "stderr",
     "output_type": "stream",
     "text": [
      "Processing Companies:  12%|█▏        | 523/4204 [25:16<2:54:06,  2.84s/it]"
     ]
    },
    {
     "name": "stdout",
     "output_type": "stream",
     "text": [
      "✅ BLFY - CashFlow_Quarter 데이터 삽입 완료\n",
      "✅ BLIN - IncomeStatement_Quarter 데이터 삽입 완료\n",
      "✅ BLIN - BalanceSheet_Quarter 데이터 삽입 완료\n"
     ]
    },
    {
     "name": "stderr",
     "output_type": "stream",
     "text": [
      "Processing Companies:  12%|█▏        | 524/4204 [25:19<2:55:25,  2.86s/it]"
     ]
    },
    {
     "name": "stdout",
     "output_type": "stream",
     "text": [
      "✅ BLIN - CashFlow_Quarter 데이터 삽입 완료\n",
      "✅ BLKB - IncomeStatement_Quarter 데이터 삽입 완료\n",
      "✅ BLKB - BalanceSheet_Quarter 데이터 삽입 완료\n"
     ]
    },
    {
     "name": "stderr",
     "output_type": "stream",
     "text": [
      "Processing Companies:  12%|█▏        | 525/4204 [25:22<3:02:06,  2.97s/it]"
     ]
    },
    {
     "name": "stdout",
     "output_type": "stream",
     "text": [
      "✅ BLKB - CashFlow_Quarter 데이터 삽입 완료\n",
      "✅ BLMN - IncomeStatement_Quarter 데이터 삽입 완료\n",
      "✅ BLMN - BalanceSheet_Quarter 데이터 삽입 완료\n"
     ]
    },
    {
     "name": "stderr",
     "output_type": "stream",
     "text": [
      "Processing Companies:  13%|█▎        | 526/4204 [25:25<3:09:03,  3.08s/it]"
     ]
    },
    {
     "name": "stdout",
     "output_type": "stream",
     "text": [
      "✅ BLMN - CashFlow_Quarter 데이터 삽입 완료\n",
      "✅ BLND - IncomeStatement_Quarter 데이터 삽입 완료\n",
      "✅ BLND - BalanceSheet_Quarter 데이터 삽입 완료\n"
     ]
    },
    {
     "name": "stderr",
     "output_type": "stream",
     "text": [
      "Processing Companies:  13%|█▎        | 527/4204 [25:28<3:03:19,  2.99s/it]"
     ]
    },
    {
     "name": "stdout",
     "output_type": "stream",
     "text": [
      "✅ BLND - CashFlow_Quarter 데이터 삽입 완료\n",
      "✅ BLNE - IncomeStatement_Quarter 데이터 삽입 완료\n",
      "✅ BLNE - BalanceSheet_Quarter 데이터 삽입 완료\n"
     ]
    },
    {
     "name": "stderr",
     "output_type": "stream",
     "text": [
      "Processing Companies:  13%|█▎        | 528/4204 [25:31<3:05:10,  3.02s/it]"
     ]
    },
    {
     "name": "stdout",
     "output_type": "stream",
     "text": [
      "✅ BLNE - CashFlow_Quarter 데이터 삽입 완료\n",
      "✅ BLRX - IncomeStatement_Quarter 데이터 삽입 완료\n",
      "✅ BLRX - BalanceSheet_Quarter 데이터 삽입 완료\n"
     ]
    },
    {
     "name": "stderr",
     "output_type": "stream",
     "text": [
      "Processing Companies:  13%|█▎        | 529/4204 [25:34<3:01:33,  2.96s/it]"
     ]
    },
    {
     "name": "stdout",
     "output_type": "stream",
     "text": [
      "✅ BLRX - CashFlow_Quarter 데이터 삽입 완료\n",
      "✅ BLNK - IncomeStatement_Quarter 데이터 삽입 완료\n",
      "✅ BLNK - BalanceSheet_Quarter 데이터 삽입 완료\n"
     ]
    },
    {
     "name": "stderr",
     "output_type": "stream",
     "text": [
      "Processing Companies:  13%|█▎        | 530/4204 [25:37<2:57:47,  2.90s/it]"
     ]
    },
    {
     "name": "stdout",
     "output_type": "stream",
     "text": [
      "✅ BLNK - CashFlow_Quarter 데이터 삽입 완료\n"
     ]
    },
    {
     "name": "stderr",
     "output_type": "stream",
     "text": [
      "$BLUE: possibly delisted; no price data found  (period=5d)\n"
     ]
    },
    {
     "name": "stdout",
     "output_type": "stream",
     "text": [
      "✅ BLUE - IncomeStatement_Quarter 데이터 삽입 완료\n",
      "✅ BLUE - BalanceSheet_Quarter 데이터 삽입 완료\n"
     ]
    },
    {
     "name": "stderr",
     "output_type": "stream",
     "text": [
      "Processing Companies:  13%|█▎        | 531/4204 [25:39<2:55:45,  2.87s/it]"
     ]
    },
    {
     "name": "stdout",
     "output_type": "stream",
     "text": [
      "✅ BLUE - CashFlow_Quarter 데이터 삽입 완료\n",
      "✅ BLX - IncomeStatement_Quarter 데이터 삽입 완료\n",
      "✅ BLX - BalanceSheet_Quarter 데이터 삽입 완료\n"
     ]
    },
    {
     "name": "stderr",
     "output_type": "stream",
     "text": [
      "Processing Companies:  13%|█▎        | 532/4204 [25:43<2:59:57,  2.94s/it]"
     ]
    },
    {
     "name": "stdout",
     "output_type": "stream",
     "text": [
      "✅ BLX - CashFlow_Quarter 데이터 삽입 완료\n",
      "✅ BLZE - IncomeStatement_Quarter 데이터 삽입 완료\n",
      "✅ BLZE - BalanceSheet_Quarter 데이터 삽입 완료\n"
     ]
    },
    {
     "name": "stderr",
     "output_type": "stream",
     "text": [
      "Processing Companies:  13%|█▎        | 533/4204 [25:45<2:56:15,  2.88s/it]"
     ]
    },
    {
     "name": "stdout",
     "output_type": "stream",
     "text": [
      "✅ BLZE - CashFlow_Quarter 데이터 삽입 완료\n",
      "✅ BMA - IncomeStatement_Quarter 데이터 삽입 완료\n",
      "✅ BMA - BalanceSheet_Quarter 데이터 삽입 완료\n"
     ]
    },
    {
     "name": "stderr",
     "output_type": "stream",
     "text": [
      "Processing Companies:  13%|█▎        | 534/4204 [25:48<2:55:43,  2.87s/it]"
     ]
    },
    {
     "name": "stdout",
     "output_type": "stream",
     "text": [
      "✅ BMA - CashFlow_Quarter 데이터 삽입 완료\n",
      "✅ BMEA - IncomeStatement_Quarter 데이터 삽입 완료\n",
      "✅ BMEA - BalanceSheet_Quarter 데이터 삽입 완료\n"
     ]
    },
    {
     "name": "stderr",
     "output_type": "stream",
     "text": [
      "Processing Companies:  13%|█▎        | 535/4204 [25:51<2:54:22,  2.85s/it]"
     ]
    },
    {
     "name": "stdout",
     "output_type": "stream",
     "text": [
      "✅ BMEA - CashFlow_Quarter 데이터 삽입 완료\n",
      "✅ BMBL - IncomeStatement_Quarter 데이터 삽입 완료\n",
      "✅ BMBL - BalanceSheet_Quarter 데이터 삽입 완료\n"
     ]
    },
    {
     "name": "stderr",
     "output_type": "stream",
     "text": [
      "Processing Companies:  13%|█▎        | 536/4204 [25:54<2:53:47,  2.84s/it]"
     ]
    },
    {
     "name": "stdout",
     "output_type": "stream",
     "text": [
      "✅ BMBL - CashFlow_Quarter 데이터 삽입 완료\n",
      "✅ BMI - IncomeStatement_Quarter 데이터 삽입 완료\n",
      "✅ BMI - BalanceSheet_Quarter 데이터 삽입 완료\n"
     ]
    },
    {
     "name": "stderr",
     "output_type": "stream",
     "text": [
      "Processing Companies:  13%|█▎        | 537/4204 [25:57<2:53:36,  2.84s/it]"
     ]
    },
    {
     "name": "stdout",
     "output_type": "stream",
     "text": [
      "✅ BMI - CashFlow_Quarter 데이터 삽입 완료\n",
      "✅ BMO - IncomeStatement_Quarter 데이터 삽입 완료\n",
      "✅ BMO - BalanceSheet_Quarter 데이터 삽입 완료\n"
     ]
    },
    {
     "name": "stderr",
     "output_type": "stream",
     "text": [
      "Processing Companies:  13%|█▎        | 538/4204 [26:00<2:54:24,  2.85s/it]"
     ]
    },
    {
     "name": "stdout",
     "output_type": "stream",
     "text": [
      "✅ BMO - CashFlow_Quarter 데이터 삽입 완료\n",
      "✅ BMRA - IncomeStatement_Quarter 데이터 삽입 완료\n",
      "✅ BMRA - BalanceSheet_Quarter 데이터 삽입 완료\n"
     ]
    },
    {
     "name": "stderr",
     "output_type": "stream",
     "text": [
      "Processing Companies:  13%|█▎        | 539/4204 [26:02<2:52:29,  2.82s/it]"
     ]
    },
    {
     "name": "stdout",
     "output_type": "stream",
     "text": [
      "✅ BMRA - CashFlow_Quarter 데이터 삽입 완료\n",
      "✅ BMRN - IncomeStatement_Quarter 데이터 삽입 완료\n",
      "✅ BMRN - BalanceSheet_Quarter 데이터 삽입 완료\n"
     ]
    },
    {
     "name": "stderr",
     "output_type": "stream",
     "text": [
      "Processing Companies:  13%|█▎        | 540/4204 [26:05<2:52:58,  2.83s/it]"
     ]
    },
    {
     "name": "stdout",
     "output_type": "stream",
     "text": [
      "✅ BMRN - CashFlow_Quarter 데이터 삽입 완료\n",
      "✅ BMRC - IncomeStatement_Quarter 데이터 삽입 완료\n",
      "✅ BMRC - BalanceSheet_Quarter 데이터 삽입 완료\n"
     ]
    },
    {
     "name": "stderr",
     "output_type": "stream",
     "text": [
      "Processing Companies:  13%|█▎        | 541/4204 [26:08<2:54:03,  2.85s/it]"
     ]
    },
    {
     "name": "stdout",
     "output_type": "stream",
     "text": [
      "✅ BMRC - CashFlow_Quarter 데이터 삽입 완료\n",
      "✅ BMY - IncomeStatement_Quarter 데이터 삽입 완료\n",
      "✅ BMY - BalanceSheet_Quarter 데이터 삽입 완료\n"
     ]
    },
    {
     "name": "stderr",
     "output_type": "stream",
     "text": [
      "Processing Companies:  13%|█▎        | 542/4204 [26:11<2:54:28,  2.86s/it]"
     ]
    },
    {
     "name": "stdout",
     "output_type": "stream",
     "text": [
      "✅ BMY - CashFlow_Quarter 데이터 삽입 완료\n",
      "✅ BNAI - IncomeStatement_Quarter 데이터 삽입 완료\n",
      "✅ BNAI - BalanceSheet_Quarter 데이터 삽입 완료\n"
     ]
    },
    {
     "name": "stderr",
     "output_type": "stream",
     "text": [
      "Processing Companies:  13%|█▎        | 543/4204 [26:14<2:52:49,  2.83s/it]"
     ]
    },
    {
     "name": "stdout",
     "output_type": "stream",
     "text": [
      "✅ BNAI - CashFlow_Quarter 데이터 삽입 완료\n",
      "✅ BNED - IncomeStatement_Quarter 데이터 삽입 완료\n",
      "✅ BNED - BalanceSheet_Quarter 데이터 삽입 완료\n"
     ]
    },
    {
     "name": "stderr",
     "output_type": "stream",
     "text": [
      "Processing Companies:  13%|█▎        | 544/4204 [26:17<2:53:17,  2.84s/it]"
     ]
    },
    {
     "name": "stdout",
     "output_type": "stream",
     "text": [
      "✅ BNED - CashFlow_Quarter 데이터 삽입 완료\n",
      "✅ BNGO - IncomeStatement_Quarter 데이터 삽입 완료\n",
      "✅ BNGO - BalanceSheet_Quarter 데이터 삽입 완료\n"
     ]
    },
    {
     "name": "stderr",
     "output_type": "stream",
     "text": [
      "Processing Companies:  13%|█▎        | 545/4204 [26:19<2:55:14,  2.87s/it]"
     ]
    },
    {
     "name": "stdout",
     "output_type": "stream",
     "text": [
      "✅ BNGO - CashFlow_Quarter 데이터 삽입 완료\n",
      "✅ BNL - IncomeStatement_Quarter 데이터 삽입 완료\n",
      "✅ BNL - BalanceSheet_Quarter 데이터 삽입 완료\n"
     ]
    },
    {
     "name": "stderr",
     "output_type": "stream",
     "text": [
      "Processing Companies:  13%|█▎        | 546/4204 [26:22<2:56:42,  2.90s/it]"
     ]
    },
    {
     "name": "stdout",
     "output_type": "stream",
     "text": [
      "✅ BNL - CashFlow_Quarter 데이터 삽입 완료\n",
      "✅ BNR - IncomeStatement_Quarter 데이터 삽입 완료\n",
      "✅ BNR - BalanceSheet_Quarter 데이터 삽입 완료\n"
     ]
    },
    {
     "name": "stderr",
     "output_type": "stream",
     "text": [
      "Processing Companies:  13%|█▎        | 547/4204 [26:25<2:53:44,  2.85s/it]"
     ]
    },
    {
     "name": "stdout",
     "output_type": "stream",
     "text": [
      "✅ BNR - CashFlow_Quarter 데이터 삽입 완료\n",
      "✅ BNT - IncomeStatement_Quarter 데이터 삽입 완료\n",
      "✅ BNT - BalanceSheet_Quarter 데이터 삽입 완료\n"
     ]
    },
    {
     "name": "stderr",
     "output_type": "stream",
     "text": [
      "Processing Companies:  13%|█▎        | 548/4204 [26:28<2:54:39,  2.87s/it]"
     ]
    },
    {
     "name": "stdout",
     "output_type": "stream",
     "text": [
      "✅ BNT - CashFlow_Quarter 데이터 삽입 완료\n",
      "✅ BNS - IncomeStatement_Quarter 데이터 삽입 완료\n",
      "✅ BNS - BalanceSheet_Quarter 데이터 삽입 완료\n"
     ]
    },
    {
     "name": "stderr",
     "output_type": "stream",
     "text": [
      "Processing Companies:  13%|█▎        | 549/4204 [26:31<2:56:23,  2.90s/it]"
     ]
    },
    {
     "name": "stdout",
     "output_type": "stream",
     "text": [
      "✅ BNS - CashFlow_Quarter 데이터 삽입 완료\n",
      "❌ IncomeStatement_Quarter 데이터 없음\n",
      "✅ BNRG - BalanceSheet_Quarter 데이터 삽입 완료\n"
     ]
    },
    {
     "name": "stderr",
     "output_type": "stream",
     "text": [
      "Processing Companies:  13%|█▎        | 550/4204 [26:34<2:52:15,  2.83s/it]"
     ]
    },
    {
     "name": "stdout",
     "output_type": "stream",
     "text": [
      "❌ CashFlow_Quarter 데이터 없음\n",
      "✅ BNTX - IncomeStatement_Quarter 데이터 삽입 완료\n",
      "✅ BNTX - BalanceSheet_Quarter 데이터 삽입 완료\n"
     ]
    },
    {
     "name": "stderr",
     "output_type": "stream",
     "text": [
      "Processing Companies:  13%|█▎        | 551/4204 [26:36<2:50:16,  2.80s/it]"
     ]
    },
    {
     "name": "stdout",
     "output_type": "stream",
     "text": [
      "✅ BNTX - CashFlow_Quarter 데이터 삽입 완료\n",
      "✅ BNTC - IncomeStatement_Quarter 데이터 삽입 완료\n",
      "✅ BNTC - BalanceSheet_Quarter 데이터 삽입 완료\n"
     ]
    },
    {
     "name": "stderr",
     "output_type": "stream",
     "text": [
      "Processing Companies:  13%|█▎        | 552/4204 [26:39<2:50:20,  2.80s/it]"
     ]
    },
    {
     "name": "stdout",
     "output_type": "stream",
     "text": [
      "✅ BNTC - CashFlow_Quarter 데이터 삽입 완료\n",
      "✅ BNZI - IncomeStatement_Quarter 데이터 삽입 완료\n",
      "✅ BNZI - BalanceSheet_Quarter 데이터 삽입 완료\n"
     ]
    },
    {
     "name": "stderr",
     "output_type": "stream",
     "text": [
      "Processing Companies:  13%|█▎        | 553/4204 [26:42<2:51:51,  2.82s/it]"
     ]
    },
    {
     "name": "stdout",
     "output_type": "stream",
     "text": [
      "✅ BNZI - CashFlow_Quarter 데이터 삽입 완료\n",
      "✅ BOC - IncomeStatement_Quarter 데이터 삽입 완료\n",
      "✅ BOC - BalanceSheet_Quarter 데이터 삽입 완료\n"
     ]
    },
    {
     "name": "stderr",
     "output_type": "stream",
     "text": [
      "Processing Companies:  13%|█▎        | 554/4204 [26:45<2:53:41,  2.86s/it]"
     ]
    },
    {
     "name": "stdout",
     "output_type": "stream",
     "text": [
      "✅ BOC - CashFlow_Quarter 데이터 삽입 완료\n",
      "✅ BODI - IncomeStatement_Quarter 데이터 삽입 완료\n",
      "✅ BODI - BalanceSheet_Quarter 데이터 삽입 완료\n"
     ]
    },
    {
     "name": "stderr",
     "output_type": "stream",
     "text": [
      "Processing Companies:  13%|█▎        | 555/4204 [26:48<2:52:28,  2.84s/it]"
     ]
    },
    {
     "name": "stdout",
     "output_type": "stream",
     "text": [
      "✅ BODI - CashFlow_Quarter 데이터 삽입 완료\n",
      "✅ BOKF - IncomeStatement_Quarter 데이터 삽입 완료\n",
      "✅ BOKF - BalanceSheet_Quarter 데이터 삽입 완료\n"
     ]
    },
    {
     "name": "stderr",
     "output_type": "stream",
     "text": [
      "Processing Companies:  13%|█▎        | 556/4204 [26:51<2:50:47,  2.81s/it]"
     ]
    },
    {
     "name": "stdout",
     "output_type": "stream",
     "text": [
      "✅ BOKF - CashFlow_Quarter 데이터 삽입 완료\n",
      "✅ BOLT - IncomeStatement_Quarter 데이터 삽입 완료\n",
      "✅ BOLT - BalanceSheet_Quarter 데이터 삽입 완료\n"
     ]
    },
    {
     "name": "stderr",
     "output_type": "stream",
     "text": [
      "Processing Companies:  13%|█▎        | 557/4204 [26:53<2:48:54,  2.78s/it]"
     ]
    },
    {
     "name": "stdout",
     "output_type": "stream",
     "text": [
      "✅ BOLT - CashFlow_Quarter 데이터 삽입 완료\n",
      "❌ IncomeStatement_Quarter 데이터 없음\n",
      "✅ BON - BalanceSheet_Quarter 데이터 삽입 완료\n"
     ]
    },
    {
     "name": "stderr",
     "output_type": "stream",
     "text": [
      "Processing Companies:  13%|█▎        | 558/4204 [26:56<2:48:05,  2.77s/it]"
     ]
    },
    {
     "name": "stdout",
     "output_type": "stream",
     "text": [
      "❌ CashFlow_Quarter 데이터 없음\n",
      "✅ BOOT - IncomeStatement_Quarter 데이터 삽입 완료\n",
      "✅ BOOT - BalanceSheet_Quarter 데이터 삽입 완료\n"
     ]
    },
    {
     "name": "stderr",
     "output_type": "stream",
     "text": [
      "Processing Companies:  13%|█▎        | 559/4204 [26:59<2:47:38,  2.76s/it]"
     ]
    },
    {
     "name": "stdout",
     "output_type": "stream",
     "text": [
      "✅ BOOT - CashFlow_Quarter 데이터 삽입 완료\n",
      "✅ BOOM - IncomeStatement_Quarter 데이터 삽입 완료\n",
      "✅ BOOM - BalanceSheet_Quarter 데이터 삽입 완료\n"
     ]
    },
    {
     "name": "stderr",
     "output_type": "stream",
     "text": [
      "Processing Companies:  13%|█▎        | 560/4204 [27:02<2:47:32,  2.76s/it]"
     ]
    },
    {
     "name": "stdout",
     "output_type": "stream",
     "text": [
      "✅ BOOM - CashFlow_Quarter 데이터 삽입 완료\n",
      "✅ BORR - IncomeStatement_Quarter 데이터 삽입 완료\n",
      "✅ BORR - BalanceSheet_Quarter 데이터 삽입 완료\n"
     ]
    },
    {
     "name": "stderr",
     "output_type": "stream",
     "text": [
      "Processing Companies:  13%|█▎        | 561/4204 [27:04<2:48:13,  2.77s/it]"
     ]
    },
    {
     "name": "stdout",
     "output_type": "stream",
     "text": [
      "✅ BORR - CashFlow_Quarter 데이터 삽입 완료\n",
      "✅ BOTJ - IncomeStatement_Quarter 데이터 삽입 완료\n",
      "✅ BOTJ - BalanceSheet_Quarter 데이터 삽입 완료\n"
     ]
    },
    {
     "name": "stderr",
     "output_type": "stream",
     "text": [
      "Processing Companies:  13%|█▎        | 562/4204 [27:07<2:47:06,  2.75s/it]"
     ]
    },
    {
     "name": "stdout",
     "output_type": "stream",
     "text": [
      "✅ BOTJ - CashFlow_Quarter 데이터 삽입 완료\n",
      "✅ BOSC - IncomeStatement_Quarter 데이터 삽입 완료\n",
      "✅ BOSC - BalanceSheet_Quarter 데이터 삽입 완료\n"
     ]
    },
    {
     "name": "stderr",
     "output_type": "stream",
     "text": [
      "Processing Companies:  13%|█▎        | 563/4204 [27:10<2:49:50,  2.80s/it]"
     ]
    },
    {
     "name": "stdout",
     "output_type": "stream",
     "text": [
      "❌ CashFlow_Quarter 데이터 없음\n",
      "✅ BOXL - IncomeStatement_Quarter 데이터 삽입 완료\n",
      "✅ BOXL - BalanceSheet_Quarter 데이터 삽입 완료\n"
     ]
    },
    {
     "name": "stderr",
     "output_type": "stream",
     "text": [
      "Processing Companies:  13%|█▎        | 564/4204 [27:13<2:49:41,  2.80s/it]"
     ]
    },
    {
     "name": "stdout",
     "output_type": "stream",
     "text": [
      "✅ BOXL - CashFlow_Quarter 데이터 삽입 완료\n",
      "✅ BP - IncomeStatement_Quarter 데이터 삽입 완료\n",
      "✅ BP - BalanceSheet_Quarter 데이터 삽입 완료\n"
     ]
    },
    {
     "name": "stderr",
     "output_type": "stream",
     "text": [
      "Processing Companies:  13%|█▎        | 565/4204 [27:16<2:51:34,  2.83s/it]"
     ]
    },
    {
     "name": "stdout",
     "output_type": "stream",
     "text": [
      "✅ BP - CashFlow_Quarter 데이터 삽입 완료\n",
      "✅ BPMC - IncomeStatement_Quarter 데이터 삽입 완료\n",
      "✅ BPMC - BalanceSheet_Quarter 데이터 삽입 완료\n"
     ]
    },
    {
     "name": "stderr",
     "output_type": "stream",
     "text": [
      "Processing Companies:  13%|█▎        | 566/4204 [27:18<2:51:03,  2.82s/it]"
     ]
    },
    {
     "name": "stdout",
     "output_type": "stream",
     "text": [
      "✅ BPMC - CashFlow_Quarter 데이터 삽입 완료\n",
      "✅ BPRN - IncomeStatement_Quarter 데이터 삽입 완료\n",
      "✅ BPRN - BalanceSheet_Quarter 데이터 삽입 완료\n"
     ]
    },
    {
     "name": "stderr",
     "output_type": "stream",
     "text": [
      "Processing Companies:  13%|█▎        | 567/4204 [27:21<2:51:19,  2.83s/it]"
     ]
    },
    {
     "name": "stdout",
     "output_type": "stream",
     "text": [
      "✅ BPRN - CashFlow_Quarter 데이터 삽입 완료\n",
      "✅ BPOP - IncomeStatement_Quarter 데이터 삽입 완료\n",
      "✅ BPOP - BalanceSheet_Quarter 데이터 삽입 완료\n"
     ]
    },
    {
     "name": "stderr",
     "output_type": "stream",
     "text": [
      "Processing Companies:  14%|█▎        | 568/4204 [27:24<2:50:30,  2.81s/it]"
     ]
    },
    {
     "name": "stdout",
     "output_type": "stream",
     "text": [
      "✅ BPOP - CashFlow_Quarter 데이터 삽입 완료\n",
      "✅ BPYPO - IncomeStatement_Quarter 데이터 삽입 완료\n",
      "✅ BPYPO - BalanceSheet_Quarter 데이터 삽입 완료\n"
     ]
    },
    {
     "name": "stderr",
     "output_type": "stream",
     "text": [
      "Processing Companies:  14%|█▎        | 569/4204 [27:27<2:50:22,  2.81s/it]"
     ]
    },
    {
     "name": "stdout",
     "output_type": "stream",
     "text": [
      "✅ BPYPO - CashFlow_Quarter 데이터 삽입 완료\n",
      "✅ BPYPN - IncomeStatement_Quarter 데이터 삽입 완료\n",
      "✅ BPYPN - BalanceSheet_Quarter 데이터 삽입 완료\n"
     ]
    },
    {
     "name": "stderr",
     "output_type": "stream",
     "text": [
      "Processing Companies:  14%|█▎        | 570/4204 [27:30<2:50:21,  2.81s/it]"
     ]
    },
    {
     "name": "stdout",
     "output_type": "stream",
     "text": [
      "✅ BPYPN - CashFlow_Quarter 데이터 삽입 완료\n",
      "✅ BPYPP - IncomeStatement_Quarter 데이터 삽입 완료\n",
      "✅ BPYPP - BalanceSheet_Quarter 데이터 삽입 완료\n"
     ]
    },
    {
     "name": "stderr",
     "output_type": "stream",
     "text": [
      "Processing Companies:  14%|█▎        | 571/4204 [27:33<2:51:44,  2.84s/it]"
     ]
    },
    {
     "name": "stdout",
     "output_type": "stream",
     "text": [
      "✅ BPYPP - CashFlow_Quarter 데이터 삽입 완료\n",
      "❌ IncomeStatement_Quarter 데이터 없음\n",
      "✅ BQ - BalanceSheet_Quarter 데이터 삽입 완료\n"
     ]
    },
    {
     "name": "stderr",
     "output_type": "stream",
     "text": [
      "Processing Companies:  14%|█▎        | 572/4204 [27:35<2:48:39,  2.79s/it]"
     ]
    },
    {
     "name": "stdout",
     "output_type": "stream",
     "text": [
      "❌ CashFlow_Quarter 데이터 없음\n",
      "✅ BR - IncomeStatement_Quarter 데이터 삽입 완료\n",
      "✅ BR - BalanceSheet_Quarter 데이터 삽입 완료\n"
     ]
    },
    {
     "name": "stderr",
     "output_type": "stream",
     "text": [
      "Processing Companies:  14%|█▎        | 573/4204 [27:38<2:56:24,  2.92s/it]"
     ]
    },
    {
     "name": "stdout",
     "output_type": "stream",
     "text": [
      "✅ BR - CashFlow_Quarter 데이터 삽입 완료\n",
      "✅ BRBR - IncomeStatement_Quarter 데이터 삽입 완료\n",
      "✅ BRBR - BalanceSheet_Quarter 데이터 삽입 완료\n"
     ]
    },
    {
     "name": "stderr",
     "output_type": "stream",
     "text": [
      "Processing Companies:  14%|█▎        | 574/4204 [27:41<2:55:21,  2.90s/it]"
     ]
    },
    {
     "name": "stdout",
     "output_type": "stream",
     "text": [
      "✅ BRBR - CashFlow_Quarter 데이터 삽입 완료\n",
      "✅ BRAG - IncomeStatement_Quarter 데이터 삽입 완료\n",
      "✅ BRAG - BalanceSheet_Quarter 데이터 삽입 완료\n"
     ]
    },
    {
     "name": "stderr",
     "output_type": "stream",
     "text": [
      "Processing Companies:  14%|█▎        | 575/4204 [27:44<2:54:47,  2.89s/it]"
     ]
    },
    {
     "name": "stdout",
     "output_type": "stream",
     "text": [
      "✅ BRAG - CashFlow_Quarter 데이터 삽입 완료\n",
      "✅ BRCC - IncomeStatement_Quarter 데이터 삽입 완료\n",
      "✅ BRCC - BalanceSheet_Quarter 데이터 삽입 완료\n"
     ]
    },
    {
     "name": "stderr",
     "output_type": "stream",
     "text": [
      "Processing Companies:  14%|█▎        | 576/4204 [27:47<2:53:35,  2.87s/it]"
     ]
    },
    {
     "name": "stdout",
     "output_type": "stream",
     "text": [
      "✅ BRCC - CashFlow_Quarter 데이터 삽입 완료\n",
      "✅ BRBS - IncomeStatement_Quarter 데이터 삽입 완료\n",
      "✅ BRBS - BalanceSheet_Quarter 데이터 삽입 완료\n"
     ]
    },
    {
     "name": "stderr",
     "output_type": "stream",
     "text": [
      "Processing Companies:  14%|█▎        | 577/4204 [27:50<2:51:38,  2.84s/it]"
     ]
    },
    {
     "name": "stdout",
     "output_type": "stream",
     "text": [
      "✅ BRBS - CashFlow_Quarter 데이터 삽입 완료\n",
      "✅ BRFS - IncomeStatement_Quarter 데이터 삽입 완료\n",
      "✅ BRFS - BalanceSheet_Quarter 데이터 삽입 완료\n"
     ]
    },
    {
     "name": "stderr",
     "output_type": "stream",
     "text": [
      "Processing Companies:  14%|█▎        | 578/4204 [27:53<3:05:09,  3.06s/it]"
     ]
    },
    {
     "name": "stdout",
     "output_type": "stream",
     "text": [
      "✅ BRFS - CashFlow_Quarter 데이터 삽입 완료\n",
      "✅ BRFH - IncomeStatement_Quarter 데이터 삽입 완료\n",
      "✅ BRFH - BalanceSheet_Quarter 데이터 삽입 완료\n"
     ]
    },
    {
     "name": "stderr",
     "output_type": "stream",
     "text": [
      "Processing Companies:  14%|█▍        | 579/4204 [27:56<2:59:41,  2.97s/it]"
     ]
    },
    {
     "name": "stdout",
     "output_type": "stream",
     "text": [
      "✅ BRFH - CashFlow_Quarter 데이터 삽입 완료\n",
      "✅ BRLS - IncomeStatement_Quarter 데이터 삽입 완료\n",
      "✅ BRLS - BalanceSheet_Quarter 데이터 삽입 완료\n"
     ]
    },
    {
     "name": "stderr",
     "output_type": "stream",
     "text": [
      "Processing Companies:  14%|█▍        | 580/4204 [27:59<2:55:14,  2.90s/it]"
     ]
    },
    {
     "name": "stdout",
     "output_type": "stream",
     "text": [
      "✅ BRLS - CashFlow_Quarter 데이터 삽입 완료\n",
      "✅ BRKL - IncomeStatement_Quarter 데이터 삽입 완료\n",
      "✅ BRKL - BalanceSheet_Quarter 데이터 삽입 완료\n"
     ]
    },
    {
     "name": "stderr",
     "output_type": "stream",
     "text": [
      "Processing Companies:  14%|█▍        | 581/4204 [28:02<2:54:25,  2.89s/it]"
     ]
    },
    {
     "name": "stdout",
     "output_type": "stream",
     "text": [
      "✅ BRKL - CashFlow_Quarter 데이터 삽입 완료\n",
      "✅ BRKR - IncomeStatement_Quarter 데이터 삽입 완료\n",
      "✅ BRKR - BalanceSheet_Quarter 데이터 삽입 완료\n"
     ]
    },
    {
     "name": "stderr",
     "output_type": "stream",
     "text": [
      "Processing Companies:  14%|█▍        | 582/4204 [28:05<3:00:11,  2.99s/it]"
     ]
    },
    {
     "name": "stdout",
     "output_type": "stream",
     "text": [
      "✅ BRKR - CashFlow_Quarter 데이터 삽입 완료\n",
      "✅ BRID - IncomeStatement_Quarter 데이터 삽입 완료\n",
      "✅ BRID - BalanceSheet_Quarter 데이터 삽입 완료\n"
     ]
    },
    {
     "name": "stderr",
     "output_type": "stream",
     "text": [
      "Processing Companies:  14%|█▍        | 583/4204 [28:08<2:57:40,  2.94s/it]"
     ]
    },
    {
     "name": "stdout",
     "output_type": "stream",
     "text": [
      "✅ BRID - CashFlow_Quarter 데이터 삽입 완료\n",
      "✅ BRLT - IncomeStatement_Quarter 데이터 삽입 완료\n",
      "✅ BRLT - BalanceSheet_Quarter 데이터 삽입 완료\n"
     ]
    },
    {
     "name": "stderr",
     "output_type": "stream",
     "text": [
      "Processing Companies:  14%|█▍        | 584/4204 [28:11<2:56:33,  2.93s/it]"
     ]
    },
    {
     "name": "stdout",
     "output_type": "stream",
     "text": [
      "✅ BRLT - CashFlow_Quarter 데이터 삽입 완료\n",
      "✅ BRN - IncomeStatement_Quarter 데이터 삽입 완료\n",
      "✅ BRN - BalanceSheet_Quarter 데이터 삽입 완료\n"
     ]
    },
    {
     "name": "stderr",
     "output_type": "stream",
     "text": [
      "Processing Companies:  14%|█▍        | 585/4204 [28:14<2:55:05,  2.90s/it]"
     ]
    },
    {
     "name": "stdout",
     "output_type": "stream",
     "text": [
      "✅ BRN - CashFlow_Quarter 데이터 삽입 완료\n",
      "✅ BRNS - IncomeStatement_Quarter 데이터 삽입 완료\n",
      "✅ BRNS - BalanceSheet_Quarter 데이터 삽입 완료\n"
     ]
    },
    {
     "name": "stderr",
     "output_type": "stream",
     "text": [
      "Processing Companies:  14%|█▍        | 586/4204 [28:16<2:52:26,  2.86s/it]"
     ]
    },
    {
     "name": "stdout",
     "output_type": "stream",
     "text": [
      "✅ BRNS - CashFlow_Quarter 데이터 삽입 완료\n",
      "✅ BRO - IncomeStatement_Quarter 데이터 삽입 완료\n",
      "✅ BRO - BalanceSheet_Quarter 데이터 삽입 완료\n"
     ]
    },
    {
     "name": "stderr",
     "output_type": "stream",
     "text": [
      "Processing Companies:  14%|█▍        | 587/4204 [28:19<2:53:52,  2.88s/it]"
     ]
    },
    {
     "name": "stdout",
     "output_type": "stream",
     "text": [
      "✅ BRO - CashFlow_Quarter 데이터 삽입 완료\n"
     ]
    },
    {
     "name": "stderr",
     "output_type": "stream",
     "text": [
      "$BROG: possibly delisted; no price data found  (period=5d)\n"
     ]
    },
    {
     "name": "stdout",
     "output_type": "stream",
     "text": [
      "❌ IncomeStatement_Quarter 데이터 없음\n",
      "✅ BROG - BalanceSheet_Quarter 데이터 삽입 완료\n"
     ]
    },
    {
     "name": "stderr",
     "output_type": "stream",
     "text": [
      "Processing Companies:  14%|█▍        | 588/4204 [28:22<2:55:30,  2.91s/it]"
     ]
    },
    {
     "name": "stdout",
     "output_type": "stream",
     "text": [
      "❌ CashFlow_Quarter 데이터 없음\n",
      "✅ BROS - IncomeStatement_Quarter 데이터 삽입 완료\n",
      "✅ BROS - BalanceSheet_Quarter 데이터 삽입 완료\n"
     ]
    },
    {
     "name": "stderr",
     "output_type": "stream",
     "text": [
      "Processing Companies:  14%|█▍        | 589/4204 [28:25<2:54:17,  2.89s/it]"
     ]
    },
    {
     "name": "stdout",
     "output_type": "stream",
     "text": [
      "✅ BROS - CashFlow_Quarter 데이터 삽입 완료\n",
      "✅ BRTX - IncomeStatement_Quarter 데이터 삽입 완료\n",
      "✅ BRTX - BalanceSheet_Quarter 데이터 삽입 완료\n"
     ]
    },
    {
     "name": "stderr",
     "output_type": "stream",
     "text": [
      "Processing Companies:  14%|█▍        | 590/4204 [28:28<2:52:55,  2.87s/it]"
     ]
    },
    {
     "name": "stdout",
     "output_type": "stream",
     "text": [
      "✅ BRTX - CashFlow_Quarter 데이터 삽입 완료\n",
      "✅ BRT - IncomeStatement_Quarter 데이터 삽입 완료\n",
      "✅ BRT - BalanceSheet_Quarter 데이터 삽입 완료\n"
     ]
    },
    {
     "name": "stderr",
     "output_type": "stream",
     "text": [
      "Processing Companies:  14%|█▍        | 591/4204 [28:31<2:52:36,  2.87s/it]"
     ]
    },
    {
     "name": "stdout",
     "output_type": "stream",
     "text": [
      "✅ BRT - CashFlow_Quarter 데이터 삽입 완료\n",
      "✅ BRSP - IncomeStatement_Quarter 데이터 삽입 완료\n",
      "✅ BRSP - BalanceSheet_Quarter 데이터 삽입 완료\n"
     ]
    },
    {
     "name": "stderr",
     "output_type": "stream",
     "text": [
      "Processing Companies:  14%|█▍        | 592/4204 [28:34<2:57:41,  2.95s/it]"
     ]
    },
    {
     "name": "stdout",
     "output_type": "stream",
     "text": [
      "✅ BRSP - CashFlow_Quarter 데이터 삽입 완료\n",
      "✅ BRY - IncomeStatement_Quarter 데이터 삽입 완료\n",
      "✅ BRY - BalanceSheet_Quarter 데이터 삽입 완료\n"
     ]
    },
    {
     "name": "stderr",
     "output_type": "stream",
     "text": [
      "Processing Companies:  14%|█▍        | 593/4204 [28:37<2:59:24,  2.98s/it]"
     ]
    },
    {
     "name": "stdout",
     "output_type": "stream",
     "text": [
      "✅ BRY - CashFlow_Quarter 데이터 삽입 완료\n",
      "✅ BSAC - IncomeStatement_Quarter 데이터 삽입 완료\n",
      "✅ BSAC - BalanceSheet_Quarter 데이터 삽입 완료\n"
     ]
    },
    {
     "name": "stderr",
     "output_type": "stream",
     "text": [
      "Processing Companies:  14%|█▍        | 594/4204 [28:40<2:57:19,  2.95s/it]"
     ]
    },
    {
     "name": "stdout",
     "output_type": "stream",
     "text": [
      "✅ BSAC - CashFlow_Quarter 데이터 삽입 완료\n",
      "✅ BRZE - IncomeStatement_Quarter 데이터 삽입 완료\n",
      "✅ BRZE - BalanceSheet_Quarter 데이터 삽입 완료\n"
     ]
    },
    {
     "name": "stderr",
     "output_type": "stream",
     "text": [
      "Processing Companies:  14%|█▍        | 595/4204 [28:43<2:56:12,  2.93s/it]"
     ]
    },
    {
     "name": "stdout",
     "output_type": "stream",
     "text": [
      "✅ BRZE - CashFlow_Quarter 데이터 삽입 완료\n",
      "✅ BSBK - IncomeStatement_Quarter 데이터 삽입 완료\n",
      "✅ BSBK - BalanceSheet_Quarter 데이터 삽입 완료\n"
     ]
    },
    {
     "name": "stderr",
     "output_type": "stream",
     "text": [
      "Processing Companies:  14%|█▍        | 596/4204 [28:45<2:54:03,  2.89s/it]"
     ]
    },
    {
     "name": "stdout",
     "output_type": "stream",
     "text": [
      "✅ BSBK - CashFlow_Quarter 데이터 삽입 완료\n",
      "✅ BSBR - IncomeStatement_Quarter 데이터 삽입 완료\n",
      "✅ BSBR - BalanceSheet_Quarter 데이터 삽입 완료\n"
     ]
    },
    {
     "name": "stderr",
     "output_type": "stream",
     "text": [
      "Processing Companies:  14%|█▍        | 597/4204 [28:48<2:51:19,  2.85s/it]"
     ]
    },
    {
     "name": "stdout",
     "output_type": "stream",
     "text": [
      "✅ BSBR - CashFlow_Quarter 데이터 삽입 완료\n",
      "✅ BSET - IncomeStatement_Quarter 데이터 삽입 완료\n",
      "✅ BSET - BalanceSheet_Quarter 데이터 삽입 완료\n"
     ]
    },
    {
     "name": "stderr",
     "output_type": "stream",
     "text": [
      "Processing Companies:  14%|█▍        | 598/4204 [28:51<2:54:03,  2.90s/it]"
     ]
    },
    {
     "name": "stdout",
     "output_type": "stream",
     "text": [
      "✅ BSET - CashFlow_Quarter 데이터 삽입 완료\n",
      "✅ BSGM - IncomeStatement_Quarter 데이터 삽입 완료\n",
      "✅ BSGM - BalanceSheet_Quarter 데이터 삽입 완료\n"
     ]
    },
    {
     "name": "stderr",
     "output_type": "stream",
     "text": [
      "Processing Companies:  14%|█▍        | 599/4204 [28:54<2:52:51,  2.88s/it]"
     ]
    },
    {
     "name": "stdout",
     "output_type": "stream",
     "text": [
      "✅ BSGM - CashFlow_Quarter 데이터 삽입 완료\n",
      "✅ BSLK - IncomeStatement_Quarter 데이터 삽입 완료\n",
      "✅ BSLK - BalanceSheet_Quarter 데이터 삽입 완료\n"
     ]
    },
    {
     "name": "stderr",
     "output_type": "stream",
     "text": [
      "Processing Companies:  14%|█▍        | 600/4204 [28:57<2:50:36,  2.84s/it]"
     ]
    },
    {
     "name": "stdout",
     "output_type": "stream",
     "text": [
      "✅ BSLK - CashFlow_Quarter 데이터 삽입 완료\n",
      "✅ BSRR - IncomeStatement_Quarter 데이터 삽입 완료\n",
      "✅ BSRR - BalanceSheet_Quarter 데이터 삽입 완료\n"
     ]
    },
    {
     "name": "stderr",
     "output_type": "stream",
     "text": [
      "Processing Companies:  14%|█▍        | 601/4204 [29:00<2:49:05,  2.82s/it]"
     ]
    },
    {
     "name": "stdout",
     "output_type": "stream",
     "text": [
      "✅ BSRR - CashFlow_Quarter 데이터 삽입 완료\n",
      "✅ BSM - IncomeStatement_Quarter 데이터 삽입 완료\n",
      "✅ BSM - BalanceSheet_Quarter 데이터 삽입 완료\n"
     ]
    },
    {
     "name": "stderr",
     "output_type": "stream",
     "text": [
      "Processing Companies:  14%|█▍        | 602/4204 [29:02<2:47:49,  2.80s/it]"
     ]
    },
    {
     "name": "stdout",
     "output_type": "stream",
     "text": [
      "✅ BSM - CashFlow_Quarter 데이터 삽입 완료\n",
      "✅ BSVN - IncomeStatement_Quarter 데이터 삽입 완료\n",
      "✅ BSVN - BalanceSheet_Quarter 데이터 삽입 완료\n"
     ]
    },
    {
     "name": "stderr",
     "output_type": "stream",
     "text": [
      "Processing Companies:  14%|█▍        | 603/4204 [29:05<2:47:48,  2.80s/it]"
     ]
    },
    {
     "name": "stdout",
     "output_type": "stream",
     "text": [
      "✅ BSVN - CashFlow_Quarter 데이터 삽입 완료\n",
      "✅ BSX - IncomeStatement_Quarter 데이터 삽입 완료\n",
      "✅ BSX - BalanceSheet_Quarter 데이터 삽입 완료\n"
     ]
    },
    {
     "name": "stderr",
     "output_type": "stream",
     "text": [
      "Processing Companies:  14%|█▍        | 604/4204 [29:08<2:47:43,  2.80s/it]"
     ]
    },
    {
     "name": "stdout",
     "output_type": "stream",
     "text": [
      "✅ BSX - CashFlow_Quarter 데이터 삽입 완료\n",
      "✅ BSY - IncomeStatement_Quarter 데이터 삽입 완료\n",
      "✅ BSY - BalanceSheet_Quarter 데이터 삽입 완료\n"
     ]
    },
    {
     "name": "stderr",
     "output_type": "stream",
     "text": [
      "Processing Companies:  14%|█▍        | 605/4204 [29:11<2:47:34,  2.79s/it]"
     ]
    },
    {
     "name": "stdout",
     "output_type": "stream",
     "text": [
      "✅ BSY - CashFlow_Quarter 데이터 삽입 완료\n",
      "✅ BTAI - IncomeStatement_Quarter 데이터 삽입 완료\n",
      "✅ BTAI - BalanceSheet_Quarter 데이터 삽입 완료\n"
     ]
    },
    {
     "name": "stderr",
     "output_type": "stream",
     "text": [
      "Processing Companies:  14%|█▍        | 606/4204 [29:14<2:48:54,  2.82s/it]"
     ]
    },
    {
     "name": "stdout",
     "output_type": "stream",
     "text": [
      "✅ BTAI - CashFlow_Quarter 데이터 삽입 완료\n",
      "✅ BTCM - IncomeStatement_Quarter 데이터 삽입 완료\n",
      "✅ BTCM - BalanceSheet_Quarter 데이터 삽입 완료\n"
     ]
    },
    {
     "name": "stderr",
     "output_type": "stream",
     "text": [
      "Processing Companies:  14%|█▍        | 607/4204 [29:16<2:50:04,  2.84s/it]"
     ]
    },
    {
     "name": "stdout",
     "output_type": "stream",
     "text": [
      "❌ CashFlow_Quarter 데이터 없음\n",
      "✅ BTBD - IncomeStatement_Quarter 데이터 삽입 완료\n",
      "✅ BTBD - BalanceSheet_Quarter 데이터 삽입 완료\n"
     ]
    },
    {
     "name": "stderr",
     "output_type": "stream",
     "text": [
      "Processing Companies:  14%|█▍        | 608/4204 [29:19<2:49:34,  2.83s/it]"
     ]
    },
    {
     "name": "stdout",
     "output_type": "stream",
     "text": [
      "✅ BTBD - CashFlow_Quarter 데이터 삽입 완료\n",
      "✅ BTCT - IncomeStatement_Quarter 데이터 삽입 완료\n",
      "✅ BTCT - BalanceSheet_Quarter 데이터 삽입 완료\n"
     ]
    },
    {
     "name": "stderr",
     "output_type": "stream",
     "text": [
      "Processing Companies:  14%|█▍        | 609/4204 [29:22<2:47:16,  2.79s/it]"
     ]
    },
    {
     "name": "stdout",
     "output_type": "stream",
     "text": [
      "✅ BTCT - CashFlow_Quarter 데이터 삽입 완료\n",
      "✅ BTDR - IncomeStatement_Quarter 데이터 삽입 완료\n",
      "✅ BTDR - BalanceSheet_Quarter 데이터 삽입 완료\n"
     ]
    },
    {
     "name": "stderr",
     "output_type": "stream",
     "text": [
      "Processing Companies:  15%|█▍        | 610/4204 [29:25<2:47:06,  2.79s/it]"
     ]
    },
    {
     "name": "stdout",
     "output_type": "stream",
     "text": [
      "✅ BTDR - CashFlow_Quarter 데이터 삽입 완료\n",
      "✅ BTG - IncomeStatement_Quarter 데이터 삽입 완료\n",
      "✅ BTG - BalanceSheet_Quarter 데이터 삽입 완료\n"
     ]
    },
    {
     "name": "stderr",
     "output_type": "stream",
     "text": [
      "Processing Companies:  15%|█▍        | 611/4204 [29:28<2:49:04,  2.82s/it]"
     ]
    },
    {
     "name": "stdout",
     "output_type": "stream",
     "text": [
      "✅ BTG - CashFlow_Quarter 데이터 삽입 완료\n",
      "✅ BTE - IncomeStatement_Quarter 데이터 삽입 완료\n",
      "✅ BTE - BalanceSheet_Quarter 데이터 삽입 완료\n"
     ]
    },
    {
     "name": "stderr",
     "output_type": "stream",
     "text": [
      "Processing Companies:  15%|█▍        | 612/4204 [29:30<2:47:58,  2.81s/it]"
     ]
    },
    {
     "name": "stdout",
     "output_type": "stream",
     "text": [
      "✅ BTE - CashFlow_Quarter 데이터 삽입 완료\n",
      "❌ IncomeStatement_Quarter 데이터 없음\n",
      "✅ BTI - BalanceSheet_Quarter 데이터 삽입 완료\n"
     ]
    },
    {
     "name": "stderr",
     "output_type": "stream",
     "text": [
      "Processing Companies:  15%|█▍        | 613/4204 [29:33<2:48:36,  2.82s/it]"
     ]
    },
    {
     "name": "stdout",
     "output_type": "stream",
     "text": [
      "❌ CashFlow_Quarter 데이터 없음\n",
      "✅ BTU - IncomeStatement_Quarter 데이터 삽입 완료\n",
      "✅ BTU - BalanceSheet_Quarter 데이터 삽입 완료\n"
     ]
    },
    {
     "name": "stderr",
     "output_type": "stream",
     "text": [
      "Processing Companies:  15%|█▍        | 614/4204 [29:36<2:49:04,  2.83s/it]"
     ]
    },
    {
     "name": "stdout",
     "output_type": "stream",
     "text": [
      "✅ BTU - CashFlow_Quarter 데이터 삽입 완료\n",
      "✅ BUD - IncomeStatement_Quarter 데이터 삽입 완료\n",
      "✅ BUD - BalanceSheet_Quarter 데이터 삽입 완료\n"
     ]
    },
    {
     "name": "stderr",
     "output_type": "stream",
     "text": [
      "Processing Companies:  15%|█▍        | 615/4204 [29:39<2:52:13,  2.88s/it]"
     ]
    },
    {
     "name": "stdout",
     "output_type": "stream",
     "text": [
      "❌ CashFlow_Quarter 데이터 없음\n",
      "✅ BURL - IncomeStatement_Quarter 데이터 삽입 완료\n",
      "✅ BURL - BalanceSheet_Quarter 데이터 삽입 완료\n"
     ]
    },
    {
     "name": "stderr",
     "output_type": "stream",
     "text": [
      "Processing Companies:  15%|█▍        | 616/4204 [29:42<2:52:27,  2.88s/it]"
     ]
    },
    {
     "name": "stdout",
     "output_type": "stream",
     "text": [
      "✅ BURL - CashFlow_Quarter 데이터 삽입 완료\n",
      "✅ BURU - IncomeStatement_Quarter 데이터 삽입 완료\n",
      "✅ BURU - BalanceSheet_Quarter 데이터 삽입 완료\n"
     ]
    },
    {
     "name": "stderr",
     "output_type": "stream",
     "text": [
      "Processing Companies:  15%|█▍        | 617/4204 [29:45<2:49:58,  2.84s/it]"
     ]
    },
    {
     "name": "stdout",
     "output_type": "stream",
     "text": [
      "✅ BURU - CashFlow_Quarter 데이터 삽입 완료\n",
      "✅ BVFL - IncomeStatement_Quarter 데이터 삽입 완료\n",
      "✅ BVFL - BalanceSheet_Quarter 데이터 삽입 완료\n"
     ]
    },
    {
     "name": "stderr",
     "output_type": "stream",
     "text": [
      "Processing Companies:  15%|█▍        | 618/4204 [29:48<2:48:39,  2.82s/it]"
     ]
    },
    {
     "name": "stdout",
     "output_type": "stream",
     "text": [
      "✅ BVFL - CashFlow_Quarter 데이터 삽입 완료\n",
      "✅ BUSE - IncomeStatement_Quarter 데이터 삽입 완료\n",
      "✅ BUSE - BalanceSheet_Quarter 데이터 삽입 완료\n"
     ]
    },
    {
     "name": "stderr",
     "output_type": "stream",
     "text": [
      "Processing Companies:  15%|█▍        | 619/4204 [29:51<2:51:49,  2.88s/it]"
     ]
    },
    {
     "name": "stdout",
     "output_type": "stream",
     "text": [
      "✅ BUSE - CashFlow_Quarter 데이터 삽입 완료\n",
      "✅ BV - IncomeStatement_Quarter 데이터 삽입 완료\n",
      "✅ BV - BalanceSheet_Quarter 데이터 삽입 완료\n"
     ]
    },
    {
     "name": "stderr",
     "output_type": "stream",
     "text": [
      "Processing Companies:  15%|█▍        | 620/4204 [29:53<2:52:49,  2.89s/it]"
     ]
    },
    {
     "name": "stdout",
     "output_type": "stream",
     "text": [
      "✅ BV - CashFlow_Quarter 데이터 삽입 완료\n",
      "✅ BVN - IncomeStatement_Quarter 데이터 삽입 완료\n",
      "✅ BVN - BalanceSheet_Quarter 데이터 삽입 완료\n"
     ]
    },
    {
     "name": "stderr",
     "output_type": "stream",
     "text": [
      "Processing Companies:  15%|█▍        | 621/4204 [29:56<2:52:57,  2.90s/it]"
     ]
    },
    {
     "name": "stdout",
     "output_type": "stream",
     "text": [
      "✅ BVN - CashFlow_Quarter 데이터 삽입 완료\n",
      "✅ BVS - IncomeStatement_Quarter 데이터 삽입 완료\n",
      "✅ BVS - BalanceSheet_Quarter 데이터 삽입 완료\n"
     ]
    },
    {
     "name": "stderr",
     "output_type": "stream",
     "text": [
      "Processing Companies:  15%|█▍        | 622/4204 [29:59<2:51:50,  2.88s/it]"
     ]
    },
    {
     "name": "stdout",
     "output_type": "stream",
     "text": [
      "✅ BVS - CashFlow_Quarter 데이터 삽입 완료\n",
      "✅ BW - IncomeStatement_Quarter 데이터 삽입 완료\n",
      "✅ BW - BalanceSheet_Quarter 데이터 삽입 완료\n"
     ]
    },
    {
     "name": "stderr",
     "output_type": "stream",
     "text": [
      "Processing Companies:  15%|█▍        | 623/4204 [30:02<2:50:25,  2.86s/it]"
     ]
    },
    {
     "name": "stdout",
     "output_type": "stream",
     "text": [
      "✅ BW - CashFlow_Quarter 데이터 삽입 완료\n",
      "✅ BWAY - IncomeStatement_Quarter 데이터 삽입 완료\n",
      "✅ BWAY - BalanceSheet_Quarter 데이터 삽입 완료\n"
     ]
    },
    {
     "name": "stderr",
     "output_type": "stream",
     "text": [
      "Processing Companies:  15%|█▍        | 624/4204 [30:05<2:49:32,  2.84s/it]"
     ]
    },
    {
     "name": "stdout",
     "output_type": "stream",
     "text": [
      "✅ BWAY - CashFlow_Quarter 데이터 삽입 완료\n",
      "✅ BWA - IncomeStatement_Quarter 데이터 삽입 완료\n",
      "✅ BWA - BalanceSheet_Quarter 데이터 삽입 완료\n"
     ]
    },
    {
     "name": "stderr",
     "output_type": "stream",
     "text": [
      "Processing Companies:  15%|█▍        | 625/4204 [30:08<2:56:39,  2.96s/it]"
     ]
    },
    {
     "name": "stdout",
     "output_type": "stream",
     "text": [
      "✅ BWA - CashFlow_Quarter 데이터 삽입 완료\n",
      "✅ BWB - IncomeStatement_Quarter 데이터 삽입 완료\n",
      "✅ BWB - BalanceSheet_Quarter 데이터 삽입 완료\n"
     ]
    },
    {
     "name": "stderr",
     "output_type": "stream",
     "text": [
      "Processing Companies:  15%|█▍        | 626/4204 [30:11<2:55:30,  2.94s/it]"
     ]
    },
    {
     "name": "stdout",
     "output_type": "stream",
     "text": [
      "✅ BWB - CashFlow_Quarter 데이터 삽입 완료\n",
      "✅ BWEN - IncomeStatement_Quarter 데이터 삽입 완료\n",
      "✅ BWEN - BalanceSheet_Quarter 데이터 삽입 완료\n"
     ]
    },
    {
     "name": "stderr",
     "output_type": "stream",
     "text": [
      "Processing Companies:  15%|█▍        | 627/4204 [30:14<2:52:53,  2.90s/it]"
     ]
    },
    {
     "name": "stdout",
     "output_type": "stream",
     "text": [
      "✅ BWEN - CashFlow_Quarter 데이터 삽입 완료\n",
      "✅ BWFG - IncomeStatement_Quarter 데이터 삽입 완료\n",
      "✅ BWFG - BalanceSheet_Quarter 데이터 삽입 완료\n"
     ]
    },
    {
     "name": "stderr",
     "output_type": "stream",
     "text": [
      "Processing Companies:  15%|█▍        | 628/4204 [30:17<2:53:00,  2.90s/it]"
     ]
    },
    {
     "name": "stdout",
     "output_type": "stream",
     "text": [
      "✅ BWFG - CashFlow_Quarter 데이터 삽입 완료\n",
      "✅ BWBBP - IncomeStatement_Quarter 데이터 삽입 완료\n",
      "✅ BWBBP - BalanceSheet_Quarter 데이터 삽입 완료\n"
     ]
    },
    {
     "name": "stderr",
     "output_type": "stream",
     "text": [
      "Processing Companies:  15%|█▍        | 629/4204 [30:19<2:51:04,  2.87s/it]"
     ]
    },
    {
     "name": "stdout",
     "output_type": "stream",
     "text": [
      "✅ BWBBP - CashFlow_Quarter 데이터 삽입 완료\n",
      "✅ BWLP - IncomeStatement_Quarter 데이터 삽입 완료\n",
      "✅ BWLP - BalanceSheet_Quarter 데이터 삽입 완료\n"
     ]
    },
    {
     "name": "stderr",
     "output_type": "stream",
     "text": [
      "Processing Companies:  15%|█▍        | 630/4204 [30:23<2:55:01,  2.94s/it]"
     ]
    },
    {
     "name": "stdout",
     "output_type": "stream",
     "text": [
      "✅ BWLP - CashFlow_Quarter 데이터 삽입 완료\n",
      "✅ BWMN - IncomeStatement_Quarter 데이터 삽입 완료\n",
      "✅ BWMN - BalanceSheet_Quarter 데이터 삽입 완료\n"
     ]
    },
    {
     "name": "stderr",
     "output_type": "stream",
     "text": [
      "Processing Companies:  15%|█▌        | 631/4204 [30:26<2:55:19,  2.94s/it]"
     ]
    },
    {
     "name": "stdout",
     "output_type": "stream",
     "text": [
      "✅ BWMN - CashFlow_Quarter 데이터 삽입 완료\n",
      "✅ BWMX - IncomeStatement_Quarter 데이터 삽입 완료\n",
      "✅ BWMX - BalanceSheet_Quarter 데이터 삽입 완료\n"
     ]
    },
    {
     "name": "stderr",
     "output_type": "stream",
     "text": [
      "Processing Companies:  15%|█▌        | 632/4204 [30:28<2:51:57,  2.89s/it]"
     ]
    },
    {
     "name": "stdout",
     "output_type": "stream",
     "text": [
      "✅ BWMX - CashFlow_Quarter 데이터 삽입 완료\n",
      "✅ BWIN - IncomeStatement_Quarter 데이터 삽입 완료\n",
      "✅ BWIN - BalanceSheet_Quarter 데이터 삽입 완료\n"
     ]
    },
    {
     "name": "stderr",
     "output_type": "stream",
     "text": [
      "Processing Companies:  15%|█▌        | 633/4204 [30:31<2:49:58,  2.86s/it]"
     ]
    },
    {
     "name": "stdout",
     "output_type": "stream",
     "text": [
      "✅ BWIN - CashFlow_Quarter 데이터 삽입 완료\n",
      "✅ BXC - IncomeStatement_Quarter 데이터 삽입 완료\n",
      "✅ BXC - BalanceSheet_Quarter 데이터 삽입 완료\n"
     ]
    },
    {
     "name": "stderr",
     "output_type": "stream",
     "text": [
      "Processing Companies:  15%|█▌        | 634/4204 [30:34<2:53:27,  2.92s/it]"
     ]
    },
    {
     "name": "stdout",
     "output_type": "stream",
     "text": [
      "✅ BXC - CashFlow_Quarter 데이터 삽입 완료\n",
      "✅ BXMT - IncomeStatement_Quarter 데이터 삽입 완료\n",
      "✅ BXMT - BalanceSheet_Quarter 데이터 삽입 완료\n"
     ]
    },
    {
     "name": "stderr",
     "output_type": "stream",
     "text": [
      "Processing Companies:  15%|█▌        | 635/4204 [30:37<2:53:52,  2.92s/it]"
     ]
    },
    {
     "name": "stdout",
     "output_type": "stream",
     "text": [
      "✅ BXMT - CashFlow_Quarter 데이터 삽입 완료\n",
      "✅ BXP - IncomeStatement_Quarter 데이터 삽입 완료\n",
      "✅ BXP - BalanceSheet_Quarter 데이터 삽입 완료\n"
     ]
    },
    {
     "name": "stderr",
     "output_type": "stream",
     "text": [
      "Processing Companies:  15%|█▌        | 636/4204 [30:40<2:53:36,  2.92s/it]"
     ]
    },
    {
     "name": "stdout",
     "output_type": "stream",
     "text": [
      "✅ BXP - CashFlow_Quarter 데이터 삽입 완료\n",
      "✅ BY - IncomeStatement_Quarter 데이터 삽입 완료\n",
      "✅ BY - BalanceSheet_Quarter 데이터 삽입 완료\n"
     ]
    },
    {
     "name": "stderr",
     "output_type": "stream",
     "text": [
      "Processing Companies:  15%|█▌        | 637/4204 [30:43<2:53:02,  2.91s/it]"
     ]
    },
    {
     "name": "stdout",
     "output_type": "stream",
     "text": [
      "✅ BY - CashFlow_Quarter 데이터 삽입 완료\n",
      "✅ BYFC - IncomeStatement_Quarter 데이터 삽입 완료\n",
      "✅ BYFC - BalanceSheet_Quarter 데이터 삽입 완료\n"
     ]
    },
    {
     "name": "stderr",
     "output_type": "stream",
     "text": [
      "Processing Companies:  15%|█▌        | 638/4204 [30:46<2:53:17,  2.92s/it]"
     ]
    },
    {
     "name": "stdout",
     "output_type": "stream",
     "text": [
      "✅ BYFC - CashFlow_Quarter 데이터 삽입 완료\n",
      "✅ BYD - IncomeStatement_Quarter 데이터 삽입 완료\n",
      "✅ BYD - BalanceSheet_Quarter 데이터 삽입 완료\n"
     ]
    },
    {
     "name": "stderr",
     "output_type": "stream",
     "text": [
      "Processing Companies:  15%|█▌        | 639/4204 [30:49<2:54:22,  2.93s/it]"
     ]
    },
    {
     "name": "stdout",
     "output_type": "stream",
     "text": [
      "✅ BYD - CashFlow_Quarter 데이터 삽입 완료\n",
      "✅ BYON - IncomeStatement_Quarter 데이터 삽입 완료\n",
      "✅ BYON - BalanceSheet_Quarter 데이터 삽입 완료\n"
     ]
    },
    {
     "name": "stderr",
     "output_type": "stream",
     "text": [
      "Processing Companies:  15%|█▌        | 640/4204 [30:52<2:51:01,  2.88s/it]"
     ]
    },
    {
     "name": "stdout",
     "output_type": "stream",
     "text": [
      "✅ BYON - CashFlow_Quarter 데이터 삽입 완료\n",
      "✅ BYND - IncomeStatement_Quarter 데이터 삽입 완료\n",
      "✅ BYND - BalanceSheet_Quarter 데이터 삽입 완료\n"
     ]
    },
    {
     "name": "stderr",
     "output_type": "stream",
     "text": [
      "Processing Companies:  15%|█▌        | 641/4204 [30:54<2:51:43,  2.89s/it]"
     ]
    },
    {
     "name": "stdout",
     "output_type": "stream",
     "text": [
      "✅ BYND - CashFlow_Quarter 데이터 삽입 완료\n",
      "✅ BZAI - IncomeStatement_Quarter 데이터 삽입 완료\n",
      "✅ BZAI - BalanceSheet_Quarter 데이터 삽입 완료\n"
     ]
    },
    {
     "name": "stderr",
     "output_type": "stream",
     "text": [
      "Processing Companies:  15%|█▌        | 642/4204 [30:57<2:51:51,  2.89s/it]"
     ]
    },
    {
     "name": "stdout",
     "output_type": "stream",
     "text": [
      "✅ BZAI - CashFlow_Quarter 데이터 삽입 완료\n",
      "✅ BYSI - IncomeStatement_Quarter 데이터 삽입 완료\n",
      "✅ BYSI - BalanceSheet_Quarter 데이터 삽입 완료\n"
     ]
    },
    {
     "name": "stderr",
     "output_type": "stream",
     "text": [
      "Processing Companies:  15%|█▌        | 643/4204 [31:00<2:49:11,  2.85s/it]"
     ]
    },
    {
     "name": "stdout",
     "output_type": "stream",
     "text": [
      "✅ BYSI - CashFlow_Quarter 데이터 삽입 완료\n",
      "✅ BZFD - IncomeStatement_Quarter 데이터 삽입 완료\n",
      "✅ BZFD - BalanceSheet_Quarter 데이터 삽입 완료\n"
     ]
    },
    {
     "name": "stderr",
     "output_type": "stream",
     "text": [
      "Processing Companies:  15%|█▌        | 644/4204 [31:03<2:48:48,  2.84s/it]"
     ]
    },
    {
     "name": "stdout",
     "output_type": "stream",
     "text": [
      "✅ BZFD - CashFlow_Quarter 데이터 삽입 완료\n",
      "✅ BZ - IncomeStatement_Quarter 데이터 삽입 완료\n",
      "✅ BZ - BalanceSheet_Quarter 데이터 삽입 완료\n"
     ]
    },
    {
     "name": "stderr",
     "output_type": "stream",
     "text": [
      "Processing Companies:  15%|█▌        | 645/4204 [31:06<2:50:05,  2.87s/it]"
     ]
    },
    {
     "name": "stdout",
     "output_type": "stream",
     "text": [
      "✅ BZ - CashFlow_Quarter 데이터 삽입 완료\n",
      "✅ BZH - IncomeStatement_Quarter 데이터 삽입 완료\n",
      "✅ BZH - BalanceSheet_Quarter 데이터 삽입 완료\n"
     ]
    },
    {
     "name": "stderr",
     "output_type": "stream",
     "text": [
      "Processing Companies:  15%|█▌        | 646/4204 [31:09<2:50:18,  2.87s/it]"
     ]
    },
    {
     "name": "stdout",
     "output_type": "stream",
     "text": [
      "✅ BZH - CashFlow_Quarter 데이터 삽입 완료\n",
      "✅ C - IncomeStatement_Quarter 데이터 삽입 완료\n",
      "✅ C - BalanceSheet_Quarter 데이터 삽입 완료\n"
     ]
    },
    {
     "name": "stderr",
     "output_type": "stream",
     "text": [
      "Processing Companies:  15%|█▌        | 647/4204 [31:12<2:51:35,  2.89s/it]"
     ]
    },
    {
     "name": "stdout",
     "output_type": "stream",
     "text": [
      "✅ C - CashFlow_Quarter 데이터 삽입 완료\n",
      "✅ CAAS - IncomeStatement_Quarter 데이터 삽입 완료\n",
      "✅ CAAS - BalanceSheet_Quarter 데이터 삽입 완료\n"
     ]
    },
    {
     "name": "stderr",
     "output_type": "stream",
     "text": [
      "Processing Companies:  15%|█▌        | 648/4204 [31:15<2:58:42,  3.02s/it]"
     ]
    },
    {
     "name": "stdout",
     "output_type": "stream",
     "text": [
      "✅ CAAS - CashFlow_Quarter 데이터 삽입 완료\n",
      "✅ BZUN - IncomeStatement_Quarter 데이터 삽입 완료\n",
      "✅ BZUN - BalanceSheet_Quarter 데이터 삽입 완료\n"
     ]
    },
    {
     "name": "stderr",
     "output_type": "stream",
     "text": [
      "Processing Companies:  15%|█▌        | 649/4204 [31:18<2:55:58,  2.97s/it]"
     ]
    },
    {
     "name": "stdout",
     "output_type": "stream",
     "text": [
      "❌ CashFlow_Quarter 데이터 없음\n",
      "✅ CAAP - IncomeStatement_Quarter 데이터 삽입 완료\n",
      "✅ CAAP - BalanceSheet_Quarter 데이터 삽입 완료\n"
     ]
    },
    {
     "name": "stderr",
     "output_type": "stream",
     "text": [
      "Processing Companies:  15%|█▌        | 650/4204 [31:21<2:54:33,  2.95s/it]"
     ]
    },
    {
     "name": "stdout",
     "output_type": "stream",
     "text": [
      "✅ CAAP - CashFlow_Quarter 데이터 삽입 완료\n",
      "✅ CABO - IncomeStatement_Quarter 데이터 삽입 완료\n",
      "✅ CABO - BalanceSheet_Quarter 데이터 삽입 완료\n"
     ]
    },
    {
     "name": "stderr",
     "output_type": "stream",
     "text": [
      "Processing Companies:  15%|█▌        | 651/4204 [31:24<2:53:01,  2.92s/it]"
     ]
    },
    {
     "name": "stdout",
     "output_type": "stream",
     "text": [
      "✅ CABO - CashFlow_Quarter 데이터 삽입 완료\n",
      "✅ CABA - IncomeStatement_Quarter 데이터 삽입 완료\n",
      "✅ CABA - BalanceSheet_Quarter 데이터 삽입 완료\n"
     ]
    },
    {
     "name": "stderr",
     "output_type": "stream",
     "text": [
      "Processing Companies:  16%|█▌        | 652/4204 [31:27<2:54:09,  2.94s/it]"
     ]
    },
    {
     "name": "stdout",
     "output_type": "stream",
     "text": [
      "✅ CABA - CashFlow_Quarter 데이터 삽입 완료\n",
      "✅ CAC - IncomeStatement_Quarter 데이터 삽입 완료\n",
      "✅ CAC - BalanceSheet_Quarter 데이터 삽입 완료\n"
     ]
    },
    {
     "name": "stderr",
     "output_type": "stream",
     "text": [
      "Processing Companies:  16%|█▌        | 653/4204 [31:30<2:54:17,  2.95s/it]"
     ]
    },
    {
     "name": "stdout",
     "output_type": "stream",
     "text": [
      "✅ CAC - CashFlow_Quarter 데이터 삽입 완료\n",
      "✅ CACC - IncomeStatement_Quarter 데이터 삽입 완료\n",
      "✅ CACC - BalanceSheet_Quarter 데이터 삽입 완료\n"
     ]
    },
    {
     "name": "stderr",
     "output_type": "stream",
     "text": [
      "Processing Companies:  16%|█▌        | 654/4204 [31:32<2:52:32,  2.92s/it]"
     ]
    },
    {
     "name": "stdout",
     "output_type": "stream",
     "text": [
      "✅ CACC - CashFlow_Quarter 데이터 삽입 완료\n",
      "✅ CADE - IncomeStatement_Quarter 데이터 삽입 완료\n",
      "✅ CADE - BalanceSheet_Quarter 데이터 삽입 완료\n"
     ]
    },
    {
     "name": "stderr",
     "output_type": "stream",
     "text": [
      "Processing Companies:  16%|█▌        | 655/4204 [31:35<2:51:30,  2.90s/it]"
     ]
    },
    {
     "name": "stdout",
     "output_type": "stream",
     "text": [
      "✅ CADE - CashFlow_Quarter 데이터 삽입 완료\n",
      "✅ CADL - IncomeStatement_Quarter 데이터 삽입 완료\n",
      "✅ CADL - BalanceSheet_Quarter 데이터 삽입 완료\n"
     ]
    },
    {
     "name": "stderr",
     "output_type": "stream",
     "text": [
      "Processing Companies:  16%|█▌        | 656/4204 [31:38<2:49:54,  2.87s/it]"
     ]
    },
    {
     "name": "stdout",
     "output_type": "stream",
     "text": [
      "✅ CADL - CashFlow_Quarter 데이터 삽입 완료\n",
      "✅ CAG - IncomeStatement_Quarter 데이터 삽입 완료\n",
      "✅ CAG - BalanceSheet_Quarter 데이터 삽입 완료\n"
     ]
    },
    {
     "name": "stderr",
     "output_type": "stream",
     "text": [
      "Processing Companies:  16%|█▌        | 657/4204 [31:41<2:50:03,  2.88s/it]"
     ]
    },
    {
     "name": "stdout",
     "output_type": "stream",
     "text": [
      "✅ CAG - CashFlow_Quarter 데이터 삽입 완료\n",
      "✅ CAH - IncomeStatement_Quarter 데이터 삽입 완료\n",
      "✅ CAH - BalanceSheet_Quarter 데이터 삽입 완료\n"
     ]
    },
    {
     "name": "stderr",
     "output_type": "stream",
     "text": [
      "Processing Companies:  16%|█▌        | 658/4204 [31:44<2:49:33,  2.87s/it]"
     ]
    },
    {
     "name": "stdout",
     "output_type": "stream",
     "text": [
      "✅ CAH - CashFlow_Quarter 데이터 삽입 완료\n",
      "✅ CAKE - IncomeStatement_Quarter 데이터 삽입 완료\n",
      "✅ CAKE - BalanceSheet_Quarter 데이터 삽입 완료\n"
     ]
    },
    {
     "name": "stderr",
     "output_type": "stream",
     "text": [
      "Processing Companies:  16%|█▌        | 659/4204 [31:47<2:50:01,  2.88s/it]"
     ]
    },
    {
     "name": "stdout",
     "output_type": "stream",
     "text": [
      "✅ CAKE - CashFlow_Quarter 데이터 삽입 완료\n",
      "✅ CALX - IncomeStatement_Quarter 데이터 삽입 완료\n",
      "✅ CALX - BalanceSheet_Quarter 데이터 삽입 완료\n"
     ]
    },
    {
     "name": "stderr",
     "output_type": "stream",
     "text": [
      "Processing Companies:  16%|█▌        | 660/4204 [31:50<2:49:28,  2.87s/it]"
     ]
    },
    {
     "name": "stdout",
     "output_type": "stream",
     "text": [
      "✅ CALX - CashFlow_Quarter 데이터 삽입 완료\n",
      "✅ CAL - IncomeStatement_Quarter 데이터 삽입 완료\n",
      "✅ CAL - BalanceSheet_Quarter 데이터 삽입 완료\n"
     ]
    },
    {
     "name": "stderr",
     "output_type": "stream",
     "text": [
      "Processing Companies:  16%|█▌        | 661/4204 [31:52<2:50:06,  2.88s/it]"
     ]
    },
    {
     "name": "stdout",
     "output_type": "stream",
     "text": [
      "✅ CAL - CashFlow_Quarter 데이터 삽입 완료\n",
      "✅ CALM - IncomeStatement_Quarter 데이터 삽입 완료\n",
      "✅ CALM - BalanceSheet_Quarter 데이터 삽입 완료\n"
     ]
    },
    {
     "name": "stderr",
     "output_type": "stream",
     "text": [
      "Processing Companies:  16%|█▌        | 662/4204 [31:55<2:50:35,  2.89s/it]"
     ]
    },
    {
     "name": "stdout",
     "output_type": "stream",
     "text": [
      "✅ CALM - CashFlow_Quarter 데이터 삽입 완료\n",
      "✅ CAMT - IncomeStatement_Quarter 데이터 삽입 완료\n",
      "✅ CAMT - BalanceSheet_Quarter 데이터 삽입 완료\n"
     ]
    },
    {
     "name": "stderr",
     "output_type": "stream",
     "text": [
      "Processing Companies:  16%|█▌        | 663/4204 [31:58<2:50:20,  2.89s/it]"
     ]
    },
    {
     "name": "stdout",
     "output_type": "stream",
     "text": [
      "❌ CashFlow_Quarter 데이터 없음\n",
      "✅ CAN - IncomeStatement_Quarter 데이터 삽입 완료\n",
      "✅ CAN - BalanceSheet_Quarter 데이터 삽입 완료\n"
     ]
    },
    {
     "name": "stderr",
     "output_type": "stream",
     "text": [
      "Processing Companies:  16%|█▌        | 664/4204 [32:01<2:49:42,  2.88s/it]"
     ]
    },
    {
     "name": "stdout",
     "output_type": "stream",
     "text": [
      "✅ CAN - CashFlow_Quarter 데이터 삽입 완료\n",
      "✅ CANG - IncomeStatement_Quarter 데이터 삽입 완료\n",
      "✅ CANG - BalanceSheet_Quarter 데이터 삽입 완료\n"
     ]
    },
    {
     "name": "stderr",
     "output_type": "stream",
     "text": [
      "Processing Companies:  16%|█▌        | 665/4204 [32:04<2:52:48,  2.93s/it]"
     ]
    },
    {
     "name": "stdout",
     "output_type": "stream",
     "text": [
      "❌ CashFlow_Quarter 데이터 없음\n",
      "✅ CAPL - IncomeStatement_Quarter 데이터 삽입 완료\n",
      "✅ CAPL - BalanceSheet_Quarter 데이터 삽입 완료\n"
     ]
    },
    {
     "name": "stderr",
     "output_type": "stream",
     "text": [
      "Processing Companies:  16%|█▌        | 666/4204 [32:07<2:49:32,  2.88s/it]"
     ]
    },
    {
     "name": "stdout",
     "output_type": "stream",
     "text": [
      "✅ CAPL - CashFlow_Quarter 데이터 삽입 완료\n",
      "✅ CAPR - IncomeStatement_Quarter 데이터 삽입 완료\n",
      "✅ CAPR - BalanceSheet_Quarter 데이터 삽입 완료\n"
     ]
    },
    {
     "name": "stderr",
     "output_type": "stream",
     "text": [
      "Processing Companies:  16%|█▌        | 667/4204 [32:10<2:55:13,  2.97s/it]"
     ]
    },
    {
     "name": "stdout",
     "output_type": "stream",
     "text": [
      "✅ CAPR - CashFlow_Quarter 데이터 삽입 완료\n",
      "✅ CAPS - IncomeStatement_Quarter 데이터 삽입 완료\n",
      "✅ CAPS - BalanceSheet_Quarter 데이터 삽입 완료\n"
     ]
    },
    {
     "name": "stderr",
     "output_type": "stream",
     "text": [
      "Processing Companies:  16%|█▌        | 668/4204 [32:13<2:54:06,  2.95s/it]"
     ]
    },
    {
     "name": "stdout",
     "output_type": "stream",
     "text": [
      "✅ CAPS - CashFlow_Quarter 데이터 삽입 완료\n",
      "❌ IncomeStatement_Quarter 데이터 없음\n",
      "✅ CAPT - BalanceSheet_Quarter 데이터 삽입 완료\n"
     ]
    },
    {
     "name": "stderr",
     "output_type": "stream",
     "text": [
      "Processing Companies:  16%|█▌        | 669/4204 [32:16<2:49:24,  2.88s/it]"
     ]
    },
    {
     "name": "stdout",
     "output_type": "stream",
     "text": [
      "❌ CashFlow_Quarter 데이터 없음\n",
      "✅ CAR - IncomeStatement_Quarter 데이터 삽입 완료\n",
      "✅ CAR - BalanceSheet_Quarter 데이터 삽입 완료\n"
     ]
    },
    {
     "name": "stderr",
     "output_type": "stream",
     "text": [
      "Processing Companies:  16%|█▌        | 670/4204 [32:19<2:53:38,  2.95s/it]"
     ]
    },
    {
     "name": "stdout",
     "output_type": "stream",
     "text": [
      "✅ CAR - CashFlow_Quarter 데이터 삽입 완료\n",
      "✅ CARG - IncomeStatement_Quarter 데이터 삽입 완료\n",
      "✅ CARG - BalanceSheet_Quarter 데이터 삽입 완료\n"
     ]
    },
    {
     "name": "stderr",
     "output_type": "stream",
     "text": [
      "Processing Companies:  16%|█▌        | 671/4204 [32:22<2:53:10,  2.94s/it]"
     ]
    },
    {
     "name": "stdout",
     "output_type": "stream",
     "text": [
      "✅ CARG - CashFlow_Quarter 데이터 삽입 완료\n",
      "✅ CARE - IncomeStatement_Quarter 데이터 삽입 완료\n",
      "✅ CARE - BalanceSheet_Quarter 데이터 삽입 완료\n"
     ]
    },
    {
     "name": "stderr",
     "output_type": "stream",
     "text": [
      "Processing Companies:  16%|█▌        | 672/4204 [32:25<2:50:43,  2.90s/it]"
     ]
    },
    {
     "name": "stdout",
     "output_type": "stream",
     "text": [
      "✅ CARE - CashFlow_Quarter 데이터 삽입 완료\n",
      "✅ CARS - IncomeStatement_Quarter 데이터 삽입 완료\n",
      "✅ CARS - BalanceSheet_Quarter 데이터 삽입 완료\n"
     ]
    },
    {
     "name": "stderr",
     "output_type": "stream",
     "text": [
      "Processing Companies:  16%|█▌        | 673/4204 [32:27<2:48:49,  2.87s/it]"
     ]
    },
    {
     "name": "stdout",
     "output_type": "stream",
     "text": [
      "✅ CARS - CashFlow_Quarter 데이터 삽입 완료\n",
      "✅ CARR - IncomeStatement_Quarter 데이터 삽입 완료\n",
      "✅ CARR - BalanceSheet_Quarter 데이터 삽입 완료\n"
     ]
    },
    {
     "name": "stderr",
     "output_type": "stream",
     "text": [
      "Processing Companies:  16%|█▌        | 674/4204 [32:30<2:47:53,  2.85s/it]"
     ]
    },
    {
     "name": "stdout",
     "output_type": "stream",
     "text": [
      "✅ CARR - CashFlow_Quarter 데이터 삽입 완료\n",
      "✅ CARM - IncomeStatement_Quarter 데이터 삽입 완료\n",
      "✅ CARM - BalanceSheet_Quarter 데이터 삽입 완료\n"
     ]
    },
    {
     "name": "stderr",
     "output_type": "stream",
     "text": [
      "Processing Companies:  16%|█▌        | 675/4204 [32:33<2:51:09,  2.91s/it]"
     ]
    },
    {
     "name": "stdout",
     "output_type": "stream",
     "text": [
      "✅ CARM - CashFlow_Quarter 데이터 삽입 완료\n",
      "✅ CARV - IncomeStatement_Quarter 데이터 삽입 완료\n",
      "✅ CARV - BalanceSheet_Quarter 데이터 삽입 완료\n"
     ]
    },
    {
     "name": "stderr",
     "output_type": "stream",
     "text": [
      "Processing Companies:  16%|█▌        | 676/4204 [32:36<2:57:54,  3.03s/it]"
     ]
    },
    {
     "name": "stdout",
     "output_type": "stream",
     "text": [
      "✅ CARV - CashFlow_Quarter 데이터 삽입 완료\n",
      "✅ CASH - IncomeStatement_Quarter 데이터 삽입 완료\n",
      "✅ CASH - BalanceSheet_Quarter 데이터 삽입 완료\n"
     ]
    },
    {
     "name": "stderr",
     "output_type": "stream",
     "text": [
      "Processing Companies:  16%|█▌        | 677/4204 [32:39<2:54:48,  2.97s/it]"
     ]
    },
    {
     "name": "stdout",
     "output_type": "stream",
     "text": [
      "✅ CASH - CashFlow_Quarter 데이터 삽입 완료\n",
      "✅ CASI - IncomeStatement_Quarter 데이터 삽입 완료\n",
      "✅ CASI - BalanceSheet_Quarter 데이터 삽입 완료\n"
     ]
    },
    {
     "name": "stderr",
     "output_type": "stream",
     "text": [
      "Processing Companies:  16%|█▌        | 678/4204 [32:42<2:51:14,  2.91s/it]"
     ]
    },
    {
     "name": "stdout",
     "output_type": "stream",
     "text": [
      "❌ CashFlow_Quarter 데이터 없음\n",
      "✅ CASS - IncomeStatement_Quarter 데이터 삽입 완료\n",
      "✅ CASS - BalanceSheet_Quarter 데이터 삽입 완료\n"
     ]
    },
    {
     "name": "stderr",
     "output_type": "stream",
     "text": [
      "Processing Companies:  16%|█▌        | 679/4204 [32:45<2:48:36,  2.87s/it]"
     ]
    },
    {
     "name": "stdout",
     "output_type": "stream",
     "text": [
      "✅ CASS - CashFlow_Quarter 데이터 삽입 완료\n",
      "✅ CAT - IncomeStatement_Quarter 데이터 삽입 완료\n",
      "✅ CAT - BalanceSheet_Quarter 데이터 삽입 완료\n"
     ]
    },
    {
     "name": "stderr",
     "output_type": "stream",
     "text": [
      "Processing Companies:  16%|█▌        | 680/4204 [32:48<2:52:55,  2.94s/it]"
     ]
    },
    {
     "name": "stdout",
     "output_type": "stream",
     "text": [
      "✅ CAT - CashFlow_Quarter 데이터 삽입 완료\n",
      "✅ CASY - IncomeStatement_Quarter 데이터 삽입 완료\n",
      "✅ CASY - BalanceSheet_Quarter 데이터 삽입 완료\n"
     ]
    },
    {
     "name": "stderr",
     "output_type": "stream",
     "text": [
      "Processing Companies:  16%|█▌        | 681/4204 [32:51<2:53:51,  2.96s/it]"
     ]
    },
    {
     "name": "stdout",
     "output_type": "stream",
     "text": [
      "✅ CASY - CashFlow_Quarter 데이터 삽입 완료\n",
      "✅ CATO - IncomeStatement_Quarter 데이터 삽입 완료\n",
      "✅ CATO - BalanceSheet_Quarter 데이터 삽입 완료\n"
     ]
    },
    {
     "name": "stderr",
     "output_type": "stream",
     "text": [
      "Processing Companies:  16%|█▌        | 682/4204 [32:54<2:52:32,  2.94s/it]"
     ]
    },
    {
     "name": "stdout",
     "output_type": "stream",
     "text": [
      "✅ CATO - CashFlow_Quarter 데이터 삽입 완료\n",
      "✅ CATX - IncomeStatement_Quarter 데이터 삽입 완료\n",
      "✅ CATX - BalanceSheet_Quarter 데이터 삽입 완료\n"
     ]
    },
    {
     "name": "stderr",
     "output_type": "stream",
     "text": [
      "Processing Companies:  16%|█▌        | 683/4204 [32:57<2:49:16,  2.88s/it]"
     ]
    },
    {
     "name": "stdout",
     "output_type": "stream",
     "text": [
      "✅ CATX - CashFlow_Quarter 데이터 삽입 완료\n",
      "✅ CATY - IncomeStatement_Quarter 데이터 삽입 완료\n",
      "✅ CATY - BalanceSheet_Quarter 데이터 삽입 완료\n"
     ]
    },
    {
     "name": "stderr",
     "output_type": "stream",
     "text": [
      "Processing Companies:  16%|█▋        | 684/4204 [33:00<2:55:44,  3.00s/it]"
     ]
    },
    {
     "name": "stdout",
     "output_type": "stream",
     "text": [
      "✅ CATY - CashFlow_Quarter 데이터 삽입 완료\n",
      "✅ CB - IncomeStatement_Quarter 데이터 삽입 완료\n",
      "✅ CB - BalanceSheet_Quarter 데이터 삽입 완료\n"
     ]
    },
    {
     "name": "stderr",
     "output_type": "stream",
     "text": [
      "Processing Companies:  16%|█▋        | 685/4204 [33:03<2:59:57,  3.07s/it]"
     ]
    },
    {
     "name": "stdout",
     "output_type": "stream",
     "text": [
      "✅ CB - CashFlow_Quarter 데이터 삽입 완료\n",
      "✅ CBAN - IncomeStatement_Quarter 데이터 삽입 완료\n",
      "✅ CBAN - BalanceSheet_Quarter 데이터 삽입 완료\n"
     ]
    },
    {
     "name": "stderr",
     "output_type": "stream",
     "text": [
      "Processing Companies:  16%|█▋        | 686/4204 [33:06<2:58:06,  3.04s/it]"
     ]
    },
    {
     "name": "stdout",
     "output_type": "stream",
     "text": [
      "✅ CBAN - CashFlow_Quarter 데이터 삽입 완료\n",
      "✅ CBL - IncomeStatement_Quarter 데이터 삽입 완료\n",
      "✅ CBL - BalanceSheet_Quarter 데이터 삽입 완료\n"
     ]
    },
    {
     "name": "stderr",
     "output_type": "stream",
     "text": [
      "Processing Companies:  16%|█▋        | 687/4204 [33:09<2:54:32,  2.98s/it]"
     ]
    },
    {
     "name": "stdout",
     "output_type": "stream",
     "text": [
      "✅ CBL - CashFlow_Quarter 데이터 삽입 완료\n",
      "✅ CBFV - IncomeStatement_Quarter 데이터 삽입 완료\n",
      "✅ CBFV - BalanceSheet_Quarter 데이터 삽입 완료\n"
     ]
    },
    {
     "name": "stderr",
     "output_type": "stream",
     "text": [
      "Processing Companies:  16%|█▋        | 688/4204 [33:12<2:49:48,  2.90s/it]"
     ]
    },
    {
     "name": "stdout",
     "output_type": "stream",
     "text": [
      "✅ CBFV - CashFlow_Quarter 데이터 삽입 완료\n",
      "✅ CBNK - IncomeStatement_Quarter 데이터 삽입 완료\n",
      "✅ CBNK - BalanceSheet_Quarter 데이터 삽입 완료\n"
     ]
    },
    {
     "name": "stderr",
     "output_type": "stream",
     "text": [
      "Processing Companies:  16%|█▋        | 689/4204 [33:14<2:46:18,  2.84s/it]"
     ]
    },
    {
     "name": "stdout",
     "output_type": "stream",
     "text": [
      "✅ CBNK - CashFlow_Quarter 데이터 삽입 완료\n",
      "✅ CBRL - IncomeStatement_Quarter 데이터 삽입 완료\n",
      "✅ CBRL - BalanceSheet_Quarter 데이터 삽입 완료\n"
     ]
    },
    {
     "name": "stderr",
     "output_type": "stream",
     "text": [
      "Processing Companies:  16%|█▋        | 690/4204 [33:17<2:45:21,  2.82s/it]"
     ]
    },
    {
     "name": "stdout",
     "output_type": "stream",
     "text": [
      "✅ CBRL - CashFlow_Quarter 데이터 삽입 완료\n",
      "✅ CBSH - IncomeStatement_Quarter 데이터 삽입 완료\n",
      "✅ CBSH - BalanceSheet_Quarter 데이터 삽입 완료\n"
     ]
    },
    {
     "name": "stderr",
     "output_type": "stream",
     "text": [
      "Processing Companies:  16%|█▋        | 691/4204 [33:20<2:45:59,  2.84s/it]"
     ]
    },
    {
     "name": "stdout",
     "output_type": "stream",
     "text": [
      "✅ CBSH - CashFlow_Quarter 데이터 삽입 완료\n",
      "✅ CBT - IncomeStatement_Quarter 데이터 삽입 완료\n",
      "✅ CBT - BalanceSheet_Quarter 데이터 삽입 완료\n"
     ]
    },
    {
     "name": "stderr",
     "output_type": "stream",
     "text": [
      "Processing Companies:  16%|█▋        | 692/4204 [33:23<2:47:44,  2.87s/it]"
     ]
    },
    {
     "name": "stdout",
     "output_type": "stream",
     "text": [
      "✅ CBT - CashFlow_Quarter 데이터 삽입 완료\n",
      "✅ CBUS - IncomeStatement_Quarter 데이터 삽입 완료\n",
      "✅ CBUS - BalanceSheet_Quarter 데이터 삽입 완료\n"
     ]
    },
    {
     "name": "stderr",
     "output_type": "stream",
     "text": [
      "Processing Companies:  16%|█▋        | 693/4204 [33:26<2:47:33,  2.86s/it]"
     ]
    },
    {
     "name": "stdout",
     "output_type": "stream",
     "text": [
      "✅ CBUS - CashFlow_Quarter 데이터 삽입 완료\n",
      "✅ CBU - IncomeStatement_Quarter 데이터 삽입 완료\n",
      "✅ CBU - BalanceSheet_Quarter 데이터 삽입 완료\n"
     ]
    },
    {
     "name": "stderr",
     "output_type": "stream",
     "text": [
      "Processing Companies:  17%|█▋        | 694/4204 [33:29<2:51:30,  2.93s/it]"
     ]
    },
    {
     "name": "stdout",
     "output_type": "stream",
     "text": [
      "✅ CBU - CashFlow_Quarter 데이터 삽입 완료\n",
      "✅ CBZ - IncomeStatement_Quarter 데이터 삽입 완료\n",
      "✅ CBZ - BalanceSheet_Quarter 데이터 삽입 완료\n"
     ]
    },
    {
     "name": "stderr",
     "output_type": "stream",
     "text": [
      "Processing Companies:  17%|█▋        | 695/4204 [33:32<2:50:14,  2.91s/it]"
     ]
    },
    {
     "name": "stdout",
     "output_type": "stream",
     "text": [
      "✅ CBZ - CashFlow_Quarter 데이터 삽입 완료\n",
      "✅ CC - IncomeStatement_Quarter 데이터 삽입 완료\n",
      "✅ CC - BalanceSheet_Quarter 데이터 삽입 완료\n"
     ]
    },
    {
     "name": "stderr",
     "output_type": "stream",
     "text": [
      "Processing Companies:  17%|█▋        | 696/4204 [33:35<2:48:46,  2.89s/it]"
     ]
    },
    {
     "name": "stdout",
     "output_type": "stream",
     "text": [
      "✅ CC - CashFlow_Quarter 데이터 삽입 완료\n",
      "✅ CCB - IncomeStatement_Quarter 데이터 삽입 완료\n",
      "✅ CCB - BalanceSheet_Quarter 데이터 삽입 완료\n"
     ]
    },
    {
     "name": "stderr",
     "output_type": "stream",
     "text": [
      "Processing Companies:  17%|█▋        | 697/4204 [33:37<2:45:57,  2.84s/it]"
     ]
    },
    {
     "name": "stdout",
     "output_type": "stream",
     "text": [
      "✅ CCB - CashFlow_Quarter 데이터 삽입 완료\n",
      "✅ CCCC - IncomeStatement_Quarter 데이터 삽입 완료\n",
      "✅ CCCC - BalanceSheet_Quarter 데이터 삽입 완료\n"
     ]
    },
    {
     "name": "stderr",
     "output_type": "stream",
     "text": [
      "Processing Companies:  17%|█▋        | 698/4204 [33:40<2:45:43,  2.84s/it]"
     ]
    },
    {
     "name": "stdout",
     "output_type": "stream",
     "text": [
      "✅ CCCC - CashFlow_Quarter 데이터 삽입 완료\n",
      "✅ CCBG - IncomeStatement_Quarter 데이터 삽입 완료\n",
      "✅ CCBG - BalanceSheet_Quarter 데이터 삽입 완료\n"
     ]
    },
    {
     "name": "stderr",
     "output_type": "stream",
     "text": [
      "Processing Companies:  17%|█▋        | 699/4204 [33:43<2:49:32,  2.90s/it]"
     ]
    },
    {
     "name": "stdout",
     "output_type": "stream",
     "text": [
      "✅ CCBG - CashFlow_Quarter 데이터 삽입 완료\n",
      "✅ CCCS - IncomeStatement_Quarter 데이터 삽입 완료\n",
      "✅ CCCS - BalanceSheet_Quarter 데이터 삽입 완료\n"
     ]
    },
    {
     "name": "stderr",
     "output_type": "stream",
     "text": [
      "Processing Companies:  17%|█▋        | 700/4204 [33:46<2:51:12,  2.93s/it]"
     ]
    },
    {
     "name": "stdout",
     "output_type": "stream",
     "text": [
      "✅ CCCS - CashFlow_Quarter 데이터 삽입 완료\n",
      "❌ IncomeStatement_Quarter 데이터 없음\n",
      "✅ CCEP - BalanceSheet_Quarter 데이터 삽입 완료\n"
     ]
    },
    {
     "name": "stderr",
     "output_type": "stream",
     "text": [
      "Processing Companies:  17%|█▋        | 701/4204 [33:49<2:48:32,  2.89s/it]"
     ]
    },
    {
     "name": "stdout",
     "output_type": "stream",
     "text": [
      "❌ CashFlow_Quarter 데이터 없음\n",
      "✅ CCEL - IncomeStatement_Quarter 데이터 삽입 완료\n",
      "✅ CCEL - BalanceSheet_Quarter 데이터 삽입 완료\n"
     ]
    },
    {
     "name": "stderr",
     "output_type": "stream",
     "text": [
      "Processing Companies:  17%|█▋        | 702/4204 [33:52<2:48:57,  2.89s/it]"
     ]
    },
    {
     "name": "stdout",
     "output_type": "stream",
     "text": [
      "✅ CCEL - CashFlow_Quarter 데이터 삽입 완료\n",
      "✅ CCI - IncomeStatement_Quarter 데이터 삽입 완료\n",
      "✅ CCI - BalanceSheet_Quarter 데이터 삽입 완료\n"
     ]
    },
    {
     "name": "stderr",
     "output_type": "stream",
     "text": [
      "Processing Companies:  17%|█▋        | 703/4204 [33:55<2:50:05,  2.92s/it]"
     ]
    },
    {
     "name": "stdout",
     "output_type": "stream",
     "text": [
      "✅ CCI - CashFlow_Quarter 데이터 삽입 완료\n",
      "✅ CCJ - IncomeStatement_Quarter 데이터 삽입 완료\n",
      "✅ CCJ - BalanceSheet_Quarter 데이터 삽입 완료\n"
     ]
    },
    {
     "name": "stderr",
     "output_type": "stream",
     "text": [
      "Processing Companies:  17%|█▋        | 704/4204 [33:58<2:48:52,  2.89s/it]"
     ]
    },
    {
     "name": "stdout",
     "output_type": "stream",
     "text": [
      "✅ CCJ - CashFlow_Quarter 데이터 삽입 완료\n",
      "✅ CCL - IncomeStatement_Quarter 데이터 삽입 완료\n",
      "✅ CCL - BalanceSheet_Quarter 데이터 삽입 완료\n"
     ]
    },
    {
     "name": "stderr",
     "output_type": "stream",
     "text": [
      "Processing Companies:  17%|█▋        | 705/4204 [34:01<2:49:40,  2.91s/it]"
     ]
    },
    {
     "name": "stdout",
     "output_type": "stream",
     "text": [
      "✅ CCL - CashFlow_Quarter 데이터 삽입 완료\n",
      "✅ CCK - IncomeStatement_Quarter 데이터 삽입 완료\n",
      "✅ CCK - BalanceSheet_Quarter 데이터 삽입 완료\n"
     ]
    },
    {
     "name": "stderr",
     "output_type": "stream",
     "text": [
      "Processing Companies:  17%|█▋        | 706/4204 [34:04<2:48:36,  2.89s/it]"
     ]
    },
    {
     "name": "stdout",
     "output_type": "stream",
     "text": [
      "✅ CCK - CashFlow_Quarter 데이터 삽입 완료\n",
      "✅ CCLD - IncomeStatement_Quarter 데이터 삽입 완료\n",
      "✅ CCLD - BalanceSheet_Quarter 데이터 삽입 완료\n"
     ]
    },
    {
     "name": "stderr",
     "output_type": "stream",
     "text": [
      "Processing Companies:  17%|█▋        | 707/4204 [34:06<2:46:53,  2.86s/it]"
     ]
    },
    {
     "name": "stdout",
     "output_type": "stream",
     "text": [
      "✅ CCLD - CashFlow_Quarter 데이터 삽입 완료\n",
      "❌ IncomeStatement_Quarter 데이터 없음\n",
      "✅ CCM - BalanceSheet_Quarter 데이터 삽입 완료\n"
     ]
    },
    {
     "name": "stderr",
     "output_type": "stream",
     "text": [
      "Processing Companies:  17%|█▋        | 708/4204 [34:09<2:43:15,  2.80s/it]"
     ]
    },
    {
     "name": "stdout",
     "output_type": "stream",
     "text": [
      "❌ CashFlow_Quarter 데이터 없음\n",
      "✅ CCNEP - IncomeStatement_Quarter 데이터 삽입 완료\n",
      "✅ CCNEP - BalanceSheet_Quarter 데이터 삽입 완료\n"
     ]
    },
    {
     "name": "stderr",
     "output_type": "stream",
     "text": [
      "Processing Companies:  17%|█▋        | 709/4204 [34:12<2:42:55,  2.80s/it]"
     ]
    },
    {
     "name": "stdout",
     "output_type": "stream",
     "text": [
      "✅ CCNEP - CashFlow_Quarter 데이터 삽입 완료\n",
      "✅ CCLDO - IncomeStatement_Quarter 데이터 삽입 완료\n",
      "✅ CCLDO - BalanceSheet_Quarter 데이터 삽입 완료\n"
     ]
    },
    {
     "name": "stderr",
     "output_type": "stream",
     "text": [
      "Processing Companies:  17%|█▋        | 710/4204 [34:15<2:44:09,  2.82s/it]"
     ]
    },
    {
     "name": "stdout",
     "output_type": "stream",
     "text": [
      "✅ CCLDO - CashFlow_Quarter 데이터 삽입 완료\n",
      "✅ CCNE - IncomeStatement_Quarter 데이터 삽입 완료\n",
      "✅ CCNE - BalanceSheet_Quarter 데이터 삽입 완료\n"
     ]
    },
    {
     "name": "stderr",
     "output_type": "stream",
     "text": [
      "Processing Companies:  17%|█▋        | 711/4204 [34:17<2:43:30,  2.81s/it]"
     ]
    },
    {
     "name": "stdout",
     "output_type": "stream",
     "text": [
      "✅ CCNE - CashFlow_Quarter 데이터 삽입 완료\n",
      "✅ CCO - IncomeStatement_Quarter 데이터 삽입 완료\n",
      "✅ CCO - BalanceSheet_Quarter 데이터 삽입 완료\n"
     ]
    },
    {
     "name": "stderr",
     "output_type": "stream",
     "text": [
      "Processing Companies:  17%|█▋        | 712/4204 [34:20<2:45:54,  2.85s/it]"
     ]
    },
    {
     "name": "stdout",
     "output_type": "stream",
     "text": [
      "✅ CCO - CashFlow_Quarter 데이터 삽입 완료\n",
      "✅ CCS - IncomeStatement_Quarter 데이터 삽입 완료\n",
      "✅ CCS - BalanceSheet_Quarter 데이터 삽입 완료\n"
     ]
    },
    {
     "name": "stderr",
     "output_type": "stream",
     "text": [
      "Processing Companies:  17%|█▋        | 713/4204 [34:23<2:44:56,  2.83s/it]"
     ]
    },
    {
     "name": "stdout",
     "output_type": "stream",
     "text": [
      "✅ CCS - CashFlow_Quarter 데이터 삽입 완료\n",
      "✅ CCRD - IncomeStatement_Quarter 데이터 삽입 완료\n",
      "✅ CCRD - BalanceSheet_Quarter 데이터 삽입 완료\n"
     ]
    },
    {
     "name": "stderr",
     "output_type": "stream",
     "text": [
      "Processing Companies:  17%|█▋        | 714/4204 [34:26<2:44:15,  2.82s/it]"
     ]
    },
    {
     "name": "stdout",
     "output_type": "stream",
     "text": [
      "✅ CCRD - CashFlow_Quarter 데이터 삽입 완료\n",
      "✅ CCRN - IncomeStatement_Quarter 데이터 삽입 완료\n",
      "✅ CCRN - BalanceSheet_Quarter 데이터 삽입 완료\n"
     ]
    },
    {
     "name": "stderr",
     "output_type": "stream",
     "text": [
      "Processing Companies:  17%|█▋        | 715/4204 [34:29<2:43:16,  2.81s/it]"
     ]
    },
    {
     "name": "stdout",
     "output_type": "stream",
     "text": [
      "✅ CCRN - CashFlow_Quarter 데이터 삽입 완료\n",
      "✅ CCSI - IncomeStatement_Quarter 데이터 삽입 완료\n",
      "✅ CCSI - BalanceSheet_Quarter 데이터 삽입 완료\n"
     ]
    },
    {
     "name": "stderr",
     "output_type": "stream",
     "text": [
      "Processing Companies:  17%|█▋        | 716/4204 [34:31<2:42:45,  2.80s/it]"
     ]
    },
    {
     "name": "stdout",
     "output_type": "stream",
     "text": [
      "✅ CCSI - CashFlow_Quarter 데이터 삽입 완료\n",
      "✅ CCU - IncomeStatement_Quarter 데이터 삽입 완료\n",
      "✅ CCU - BalanceSheet_Quarter 데이터 삽입 완료\n"
     ]
    },
    {
     "name": "stderr",
     "output_type": "stream",
     "text": [
      "Processing Companies:  17%|█▋        | 717/4204 [34:35<2:50:34,  2.93s/it]"
     ]
    },
    {
     "name": "stdout",
     "output_type": "stream",
     "text": [
      "✅ CCU - CashFlow_Quarter 데이터 삽입 완료\n",
      "✅ CDE - IncomeStatement_Quarter 데이터 삽입 완료\n",
      "✅ CDE - BalanceSheet_Quarter 데이터 삽입 완료\n"
     ]
    },
    {
     "name": "stderr",
     "output_type": "stream",
     "text": [
      "Processing Companies:  17%|█▋        | 718/4204 [34:38<2:48:28,  2.90s/it]"
     ]
    },
    {
     "name": "stdout",
     "output_type": "stream",
     "text": [
      "✅ CDE - CashFlow_Quarter 데이터 삽입 완료\n",
      "✅ CDIO - IncomeStatement_Quarter 데이터 삽입 완료\n",
      "✅ CDIO - BalanceSheet_Quarter 데이터 삽입 완료\n"
     ]
    },
    {
     "name": "stderr",
     "output_type": "stream",
     "text": [
      "Processing Companies:  17%|█▋        | 719/4204 [34:40<2:45:45,  2.85s/it]"
     ]
    },
    {
     "name": "stdout",
     "output_type": "stream",
     "text": [
      "✅ CDIO - CashFlow_Quarter 데이터 삽입 완료\n",
      "✅ CDNA - IncomeStatement_Quarter 데이터 삽입 완료\n",
      "✅ CDNA - BalanceSheet_Quarter 데이터 삽입 완료\n"
     ]
    },
    {
     "name": "stderr",
     "output_type": "stream",
     "text": [
      "Processing Companies:  17%|█▋        | 720/4204 [34:43<2:48:06,  2.90s/it]"
     ]
    },
    {
     "name": "stdout",
     "output_type": "stream",
     "text": [
      "✅ CDNA - CashFlow_Quarter 데이터 삽입 완료\n",
      "✅ CDLX - IncomeStatement_Quarter 데이터 삽입 완료\n",
      "✅ CDLX - BalanceSheet_Quarter 데이터 삽입 완료\n"
     ]
    },
    {
     "name": "stderr",
     "output_type": "stream",
     "text": [
      "Processing Companies:  17%|█▋        | 721/4204 [34:46<2:47:22,  2.88s/it]"
     ]
    },
    {
     "name": "stdout",
     "output_type": "stream",
     "text": [
      "✅ CDLX - CashFlow_Quarter 데이터 삽입 완료\n",
      "✅ CDP - IncomeStatement_Quarter 데이터 삽입 완료\n",
      "✅ CDP - BalanceSheet_Quarter 데이터 삽입 완료\n"
     ]
    },
    {
     "name": "stderr",
     "output_type": "stream",
     "text": [
      "Processing Companies:  17%|█▋        | 722/4204 [34:49<2:46:46,  2.87s/it]"
     ]
    },
    {
     "name": "stdout",
     "output_type": "stream",
     "text": [
      "✅ CDP - CashFlow_Quarter 데이터 삽입 완료\n",
      "✅ CDT - IncomeStatement_Quarter 데이터 삽입 완료\n",
      "✅ CDT - BalanceSheet_Quarter 데이터 삽입 완료\n"
     ]
    },
    {
     "name": "stderr",
     "output_type": "stream",
     "text": [
      "Processing Companies:  17%|█▋        | 723/4204 [34:52<2:46:58,  2.88s/it]"
     ]
    },
    {
     "name": "stdout",
     "output_type": "stream",
     "text": [
      "✅ CDT - CashFlow_Quarter 데이터 삽입 완료\n",
      "✅ CDW - IncomeStatement_Quarter 데이터 삽입 완료\n",
      "✅ CDW - BalanceSheet_Quarter 데이터 삽입 완료\n"
     ]
    },
    {
     "name": "stderr",
     "output_type": "stream",
     "text": [
      "Processing Companies:  17%|█▋        | 724/4204 [34:55<2:44:57,  2.84s/it]"
     ]
    },
    {
     "name": "stdout",
     "output_type": "stream",
     "text": [
      "✅ CDW - CashFlow_Quarter 데이터 삽입 완료\n",
      "✅ CDZIP - IncomeStatement_Quarter 데이터 삽입 완료\n",
      "✅ CDZIP - BalanceSheet_Quarter 데이터 삽입 완료\n"
     ]
    },
    {
     "name": "stderr",
     "output_type": "stream",
     "text": [
      "Processing Companies:  17%|█▋        | 725/4204 [34:57<2:43:18,  2.82s/it]"
     ]
    },
    {
     "name": "stdout",
     "output_type": "stream",
     "text": [
      "✅ CDZIP - CashFlow_Quarter 데이터 삽입 완료\n",
      "✅ CDZI - IncomeStatement_Quarter 데이터 삽입 완료\n",
      "✅ CDZI - BalanceSheet_Quarter 데이터 삽입 완료\n"
     ]
    },
    {
     "name": "stderr",
     "output_type": "stream",
     "text": [
      "Processing Companies:  17%|█▋        | 726/4204 [35:00<2:42:40,  2.81s/it]"
     ]
    },
    {
     "name": "stdout",
     "output_type": "stream",
     "text": [
      "✅ CDZI - CashFlow_Quarter 데이터 삽입 완료\n",
      "✅ CDXS - IncomeStatement_Quarter 데이터 삽입 완료\n",
      "✅ CDXS - BalanceSheet_Quarter 데이터 삽입 완료\n"
     ]
    },
    {
     "name": "stderr",
     "output_type": "stream",
     "text": [
      "Processing Companies:  17%|█▋        | 727/4204 [35:03<2:41:58,  2.80s/it]"
     ]
    },
    {
     "name": "stdout",
     "output_type": "stream",
     "text": [
      "✅ CDXS - CashFlow_Quarter 데이터 삽입 완료\n"
     ]
    },
    {
     "name": "stderr",
     "output_type": "stream",
     "text": [
      "$CEAD: possibly delisted; no price data found  (period=5d)\n"
     ]
    },
    {
     "name": "stdout",
     "output_type": "stream",
     "text": [
      "✅ CEAD - IncomeStatement_Quarter 데이터 삽입 완료\n",
      "✅ CEAD - BalanceSheet_Quarter 데이터 삽입 완료\n"
     ]
    },
    {
     "name": "stderr",
     "output_type": "stream",
     "text": [
      "Processing Companies:  17%|█▋        | 728/4204 [35:06<2:42:34,  2.81s/it]"
     ]
    },
    {
     "name": "stdout",
     "output_type": "stream",
     "text": [
      "✅ CEAD - CashFlow_Quarter 데이터 삽입 완료\n",
      "✅ CE - IncomeStatement_Quarter 데이터 삽입 완료\n",
      "✅ CE - BalanceSheet_Quarter 데이터 삽입 완료\n"
     ]
    },
    {
     "name": "stderr",
     "output_type": "stream",
     "text": [
      "Processing Companies:  17%|█▋        | 729/4204 [35:09<2:41:44,  2.79s/it]"
     ]
    },
    {
     "name": "stdout",
     "output_type": "stream",
     "text": [
      "✅ CE - CashFlow_Quarter 데이터 삽입 완료\n",
      "✅ CECO - IncomeStatement_Quarter 데이터 삽입 완료\n",
      "✅ CECO - BalanceSheet_Quarter 데이터 삽입 완료\n"
     ]
    },
    {
     "name": "stderr",
     "output_type": "stream",
     "text": [
      "Processing Companies:  17%|█▋        | 730/4204 [35:12<2:46:02,  2.87s/it]"
     ]
    },
    {
     "name": "stdout",
     "output_type": "stream",
     "text": [
      "✅ CECO - CashFlow_Quarter 데이터 삽입 완료\n",
      "✅ CEG - IncomeStatement_Quarter 데이터 삽입 완료\n",
      "✅ CEG - BalanceSheet_Quarter 데이터 삽입 완료\n"
     ]
    },
    {
     "name": "stderr",
     "output_type": "stream",
     "text": [
      "Processing Companies:  17%|█▋        | 731/4204 [35:15<2:49:06,  2.92s/it]"
     ]
    },
    {
     "name": "stdout",
     "output_type": "stream",
     "text": [
      "✅ CEG - CashFlow_Quarter 데이터 삽입 완료\n",
      "✅ CELH - IncomeStatement_Quarter 데이터 삽입 완료\n",
      "✅ CELH - BalanceSheet_Quarter 데이터 삽입 완료\n"
     ]
    },
    {
     "name": "stderr",
     "output_type": "stream",
     "text": [
      "Processing Companies:  17%|█▋        | 732/4204 [35:18<2:51:28,  2.96s/it]"
     ]
    },
    {
     "name": "stdout",
     "output_type": "stream",
     "text": [
      "✅ CELH - CashFlow_Quarter 데이터 삽입 완료\n",
      "✅ CELC - IncomeStatement_Quarter 데이터 삽입 완료\n",
      "✅ CELC - BalanceSheet_Quarter 데이터 삽입 완료\n"
     ]
    },
    {
     "name": "stderr",
     "output_type": "stream",
     "text": [
      "Processing Companies:  17%|█▋        | 733/4204 [35:20<2:48:24,  2.91s/it]"
     ]
    },
    {
     "name": "stdout",
     "output_type": "stream",
     "text": [
      "✅ CELC - CashFlow_Quarter 데이터 삽입 완료\n",
      "✅ CELU - IncomeStatement_Quarter 데이터 삽입 완료\n",
      "✅ CELU - BalanceSheet_Quarter 데이터 삽입 완료\n"
     ]
    },
    {
     "name": "stderr",
     "output_type": "stream",
     "text": [
      "Processing Companies:  17%|█▋        | 734/4204 [35:23<2:46:24,  2.88s/it]"
     ]
    },
    {
     "name": "stdout",
     "output_type": "stream",
     "text": [
      "✅ CELU - CashFlow_Quarter 데이터 삽입 완료\n",
      "✅ CENN - IncomeStatement_Quarter 데이터 삽입 완료\n",
      "✅ CENN - BalanceSheet_Quarter 데이터 삽입 완료\n"
     ]
    },
    {
     "name": "stderr",
     "output_type": "stream",
     "text": [
      "Processing Companies:  17%|█▋        | 735/4204 [35:26<2:49:20,  2.93s/it]"
     ]
    },
    {
     "name": "stdout",
     "output_type": "stream",
     "text": [
      "✅ CENN - CashFlow_Quarter 데이터 삽입 완료\n",
      "✅ CELZ - IncomeStatement_Quarter 데이터 삽입 완료\n",
      "✅ CELZ - BalanceSheet_Quarter 데이터 삽입 완료\n"
     ]
    },
    {
     "name": "stderr",
     "output_type": "stream",
     "text": [
      "Processing Companies:  18%|█▊        | 736/4204 [35:29<2:45:33,  2.86s/it]"
     ]
    },
    {
     "name": "stdout",
     "output_type": "stream",
     "text": [
      "✅ CELZ - CashFlow_Quarter 데이터 삽입 완료\n",
      "✅ CENT - IncomeStatement_Quarter 데이터 삽입 완료\n",
      "✅ CENT - BalanceSheet_Quarter 데이터 삽입 완료\n"
     ]
    },
    {
     "name": "stderr",
     "output_type": "stream",
     "text": [
      "Processing Companies:  18%|█▊        | 737/4204 [35:32<2:42:31,  2.81s/it]"
     ]
    },
    {
     "name": "stdout",
     "output_type": "stream",
     "text": [
      "✅ CENT - CashFlow_Quarter 데이터 삽입 완료\n",
      "✅ CENTA - IncomeStatement_Quarter 데이터 삽입 완료\n",
      "✅ CENTA - BalanceSheet_Quarter 데이터 삽입 완료\n"
     ]
    },
    {
     "name": "stderr",
     "output_type": "stream",
     "text": [
      "Processing Companies:  18%|█▊        | 738/4204 [35:35<2:41:42,  2.80s/it]"
     ]
    },
    {
     "name": "stdout",
     "output_type": "stream",
     "text": [
      "✅ CENTA - CashFlow_Quarter 데이터 삽입 완료\n",
      "✅ CERO - IncomeStatement_Quarter 데이터 삽입 완료\n",
      "✅ CERO - BalanceSheet_Quarter 데이터 삽입 완료\n"
     ]
    },
    {
     "name": "stderr",
     "output_type": "stream",
     "text": [
      "Processing Companies:  18%|█▊        | 739/4204 [35:37<2:41:39,  2.80s/it]"
     ]
    },
    {
     "name": "stdout",
     "output_type": "stream",
     "text": [
      "✅ CERO - CashFlow_Quarter 데이터 삽입 완료\n",
      "✅ CERS - IncomeStatement_Quarter 데이터 삽입 완료\n",
      "✅ CERS - BalanceSheet_Quarter 데이터 삽입 완료\n"
     ]
    },
    {
     "name": "stderr",
     "output_type": "stream",
     "text": [
      "Processing Companies:  18%|█▊        | 740/4204 [35:40<2:42:09,  2.81s/it]"
     ]
    },
    {
     "name": "stdout",
     "output_type": "stream",
     "text": [
      "✅ CERS - CashFlow_Quarter 데이터 삽입 완료\n",
      "✅ CETX - IncomeStatement_Quarter 데이터 삽입 완료\n",
      "✅ CETX - BalanceSheet_Quarter 데이터 삽입 완료\n"
     ]
    },
    {
     "name": "stderr",
     "output_type": "stream",
     "text": [
      "Processing Companies:  18%|█▊        | 741/4204 [35:43<2:41:59,  2.81s/it]"
     ]
    },
    {
     "name": "stdout",
     "output_type": "stream",
     "text": [
      "✅ CETX - CashFlow_Quarter 데이터 삽입 완료\n",
      "✅ CF - IncomeStatement_Quarter 데이터 삽입 완료\n",
      "✅ CF - BalanceSheet_Quarter 데이터 삽입 완료\n"
     ]
    },
    {
     "name": "stderr",
     "output_type": "stream",
     "text": [
      "Processing Companies:  18%|█▊        | 742/4204 [35:46<2:42:43,  2.82s/it]"
     ]
    },
    {
     "name": "stdout",
     "output_type": "stream",
     "text": [
      "✅ CF - CashFlow_Quarter 데이터 삽입 완료\n",
      "✅ CFBK - IncomeStatement_Quarter 데이터 삽입 완료\n",
      "✅ CFBK - BalanceSheet_Quarter 데이터 삽입 완료\n"
     ]
    },
    {
     "name": "stderr",
     "output_type": "stream",
     "text": [
      "Processing Companies:  18%|█▊        | 743/4204 [35:49<2:45:47,  2.87s/it]"
     ]
    },
    {
     "name": "stdout",
     "output_type": "stream",
     "text": [
      "✅ CFBK - CashFlow_Quarter 데이터 삽입 완료\n",
      "✅ CFFN - IncomeStatement_Quarter 데이터 삽입 완료\n",
      "✅ CFFN - BalanceSheet_Quarter 데이터 삽입 완료\n"
     ]
    },
    {
     "name": "stderr",
     "output_type": "stream",
     "text": [
      "Processing Companies:  18%|█▊        | 744/4204 [35:52<2:44:12,  2.85s/it]"
     ]
    },
    {
     "name": "stdout",
     "output_type": "stream",
     "text": [
      "✅ CFFN - CashFlow_Quarter 데이터 삽입 완료\n",
      "✅ CFG - IncomeStatement_Quarter 데이터 삽입 완료\n",
      "✅ CFG - BalanceSheet_Quarter 데이터 삽입 완료\n"
     ]
    },
    {
     "name": "stderr",
     "output_type": "stream",
     "text": [
      "Processing Companies:  18%|█▊        | 745/4204 [35:54<2:43:45,  2.84s/it]"
     ]
    },
    {
     "name": "stdout",
     "output_type": "stream",
     "text": [
      "✅ CFG - CashFlow_Quarter 데이터 삽입 완료\n",
      "✅ CFFI - IncomeStatement_Quarter 데이터 삽입 완료\n",
      "✅ CFFI - BalanceSheet_Quarter 데이터 삽입 완료\n"
     ]
    },
    {
     "name": "stderr",
     "output_type": "stream",
     "text": [
      "Processing Companies:  18%|█▊        | 746/4204 [35:57<2:44:47,  2.86s/it]"
     ]
    },
    {
     "name": "stdout",
     "output_type": "stream",
     "text": [
      "✅ CFFI - CashFlow_Quarter 데이터 삽입 완료\n",
      "✅ CFR - IncomeStatement_Quarter 데이터 삽입 완료\n",
      "✅ CFR - BalanceSheet_Quarter 데이터 삽입 완료\n"
     ]
    },
    {
     "name": "stderr",
     "output_type": "stream",
     "text": [
      "Processing Companies:  18%|█▊        | 747/4204 [36:00<2:42:44,  2.82s/it]"
     ]
    },
    {
     "name": "stdout",
     "output_type": "stream",
     "text": [
      "✅ CFR - CashFlow_Quarter 데이터 삽입 완료\n",
      "✅ CFLT - IncomeStatement_Quarter 데이터 삽입 완료\n",
      "✅ CFLT - BalanceSheet_Quarter 데이터 삽입 완료\n"
     ]
    },
    {
     "name": "stderr",
     "output_type": "stream",
     "text": [
      "Processing Companies:  18%|█▊        | 748/4204 [36:03<2:47:24,  2.91s/it]"
     ]
    },
    {
     "name": "stdout",
     "output_type": "stream",
     "text": [
      "✅ CFLT - CashFlow_Quarter 데이터 삽입 완료\n",
      "✅ CGAU - IncomeStatement_Quarter 데이터 삽입 완료\n",
      "✅ CGAU - BalanceSheet_Quarter 데이터 삽입 완료\n"
     ]
    },
    {
     "name": "stderr",
     "output_type": "stream",
     "text": [
      "Processing Companies:  18%|█▊        | 749/4204 [36:06<2:46:16,  2.89s/it]"
     ]
    },
    {
     "name": "stdout",
     "output_type": "stream",
     "text": [
      "✅ CGAU - CashFlow_Quarter 데이터 삽입 완료\n",
      "✅ CGEN - IncomeStatement_Quarter 데이터 삽입 완료\n",
      "✅ CGEN - BalanceSheet_Quarter 데이터 삽입 완료\n"
     ]
    },
    {
     "name": "stderr",
     "output_type": "stream",
     "text": [
      "Processing Companies:  18%|█▊        | 750/4204 [36:09<2:44:06,  2.85s/it]"
     ]
    },
    {
     "name": "stdout",
     "output_type": "stream",
     "text": [
      "❌ CashFlow_Quarter 데이터 없음\n",
      "✅ CGEM - IncomeStatement_Quarter 데이터 삽입 완료\n",
      "✅ CGEM - BalanceSheet_Quarter 데이터 삽입 완료\n"
     ]
    },
    {
     "name": "stderr",
     "output_type": "stream",
     "text": [
      "Processing Companies:  18%|█▊        | 751/4204 [36:12<2:42:56,  2.83s/it]"
     ]
    },
    {
     "name": "stdout",
     "output_type": "stream",
     "text": [
      "✅ CGEM - CashFlow_Quarter 데이터 삽입 완료\n",
      "✅ CGNT - IncomeStatement_Quarter 데이터 삽입 완료\n",
      "✅ CGNT - BalanceSheet_Quarter 데이터 삽입 완료\n"
     ]
    },
    {
     "name": "stderr",
     "output_type": "stream",
     "text": [
      "Processing Companies:  18%|█▊        | 752/4204 [36:15<2:49:56,  2.95s/it]"
     ]
    },
    {
     "name": "stdout",
     "output_type": "stream",
     "text": [
      "✅ CGNT - CashFlow_Quarter 데이터 삽입 완료\n",
      "✅ CGNX - IncomeStatement_Quarter 데이터 삽입 완료\n",
      "✅ CGNX - BalanceSheet_Quarter 데이터 삽입 완료\n"
     ]
    },
    {
     "name": "stderr",
     "output_type": "stream",
     "text": [
      "Processing Companies:  18%|█▊        | 753/4204 [36:18<2:48:17,  2.93s/it]"
     ]
    },
    {
     "name": "stdout",
     "output_type": "stream",
     "text": [
      "✅ CGNX - CashFlow_Quarter 데이터 삽입 완료\n",
      "✅ CGTX - IncomeStatement_Quarter 데이터 삽입 완료\n",
      "✅ CGTX - BalanceSheet_Quarter 데이터 삽입 완료\n"
     ]
    },
    {
     "name": "stderr",
     "output_type": "stream",
     "text": [
      "Processing Companies:  18%|█▊        | 754/4204 [36:21<2:47:01,  2.90s/it]"
     ]
    },
    {
     "name": "stdout",
     "output_type": "stream",
     "text": [
      "✅ CGTX - CashFlow_Quarter 데이터 삽입 완료\n",
      "✅ CHCI - IncomeStatement_Quarter 데이터 삽입 완료\n",
      "✅ CHCI - BalanceSheet_Quarter 데이터 삽입 완료\n"
     ]
    },
    {
     "name": "stderr",
     "output_type": "stream",
     "text": [
      "Processing Companies:  18%|█▊        | 755/4204 [36:23<2:45:13,  2.87s/it]"
     ]
    },
    {
     "name": "stdout",
     "output_type": "stream",
     "text": [
      "✅ CHCI - CashFlow_Quarter 데이터 삽입 완료\n",
      "✅ CHCT - IncomeStatement_Quarter 데이터 삽입 완료\n",
      "✅ CHCT - BalanceSheet_Quarter 데이터 삽입 완료\n"
     ]
    },
    {
     "name": "stderr",
     "output_type": "stream",
     "text": [
      "Processing Companies:  18%|█▊        | 756/4204 [36:26<2:46:16,  2.89s/it]"
     ]
    },
    {
     "name": "stdout",
     "output_type": "stream",
     "text": [
      "✅ CHCT - CashFlow_Quarter 데이터 삽입 완료\n",
      "✅ CHCO - IncomeStatement_Quarter 데이터 삽입 완료\n",
      "✅ CHCO - BalanceSheet_Quarter 데이터 삽입 완료\n"
     ]
    },
    {
     "name": "stderr",
     "output_type": "stream",
     "text": [
      "Processing Companies:  18%|█▊        | 757/4204 [36:29<2:44:01,  2.85s/it]"
     ]
    },
    {
     "name": "stdout",
     "output_type": "stream",
     "text": [
      "✅ CHCO - CashFlow_Quarter 데이터 삽입 완료\n",
      "✅ CHD - IncomeStatement_Quarter 데이터 삽입 완료\n",
      "✅ CHD - BalanceSheet_Quarter 데이터 삽입 완료\n"
     ]
    },
    {
     "name": "stderr",
     "output_type": "stream",
     "text": [
      "Processing Companies:  18%|█▊        | 758/4204 [36:32<2:43:02,  2.84s/it]"
     ]
    },
    {
     "name": "stdout",
     "output_type": "stream",
     "text": [
      "✅ CHD - CashFlow_Quarter 데이터 삽입 완료\n",
      "✅ CHDN - IncomeStatement_Quarter 데이터 삽입 완료\n",
      "✅ CHDN - BalanceSheet_Quarter 데이터 삽입 완료\n"
     ]
    },
    {
     "name": "stderr",
     "output_type": "stream",
     "text": [
      "Processing Companies:  18%|█▊        | 759/4204 [36:35<2:45:29,  2.88s/it]"
     ]
    },
    {
     "name": "stdout",
     "output_type": "stream",
     "text": [
      "✅ CHDN - CashFlow_Quarter 데이터 삽입 완료\n",
      "✅ CHE - IncomeStatement_Quarter 데이터 삽입 완료\n",
      "✅ CHE - BalanceSheet_Quarter 데이터 삽입 완료\n"
     ]
    },
    {
     "name": "stderr",
     "output_type": "stream",
     "text": [
      "Processing Companies:  18%|█▊        | 760/4204 [36:38<2:46:39,  2.90s/it]"
     ]
    },
    {
     "name": "stdout",
     "output_type": "stream",
     "text": [
      "✅ CHE - CashFlow_Quarter 데이터 삽입 완료\n",
      "✅ CHGG - IncomeStatement_Quarter 데이터 삽입 완료\n",
      "✅ CHGG - BalanceSheet_Quarter 데이터 삽입 완료\n"
     ]
    },
    {
     "name": "stderr",
     "output_type": "stream",
     "text": [
      "Processing Companies:  18%|█▊        | 761/4204 [36:41<2:51:10,  2.98s/it]"
     ]
    },
    {
     "name": "stdout",
     "output_type": "stream",
     "text": [
      "✅ CHGG - CashFlow_Quarter 데이터 삽입 완료\n",
      "✅ CHEF - IncomeStatement_Quarter 데이터 삽입 완료\n",
      "✅ CHEF - BalanceSheet_Quarter 데이터 삽입 완료\n"
     ]
    },
    {
     "name": "stderr",
     "output_type": "stream",
     "text": [
      "Processing Companies:  18%|█▊        | 762/4204 [36:44<2:47:48,  2.93s/it]"
     ]
    },
    {
     "name": "stdout",
     "output_type": "stream",
     "text": [
      "✅ CHEF - CashFlow_Quarter 데이터 삽입 완료\n",
      "✅ CHEK - IncomeStatement_Quarter 데이터 삽입 완료\n",
      "✅ CHEK - BalanceSheet_Quarter 데이터 삽입 완료\n"
     ]
    },
    {
     "name": "stderr",
     "output_type": "stream",
     "text": [
      "Processing Companies:  18%|█▊        | 763/4204 [36:46<2:44:50,  2.87s/it]"
     ]
    },
    {
     "name": "stdout",
     "output_type": "stream",
     "text": [
      "✅ CHEK - CashFlow_Quarter 데이터 삽입 완료\n",
      "✅ CHH - IncomeStatement_Quarter 데이터 삽입 완료\n",
      "✅ CHH - BalanceSheet_Quarter 데이터 삽입 완료\n"
     ]
    },
    {
     "name": "stderr",
     "output_type": "stream",
     "text": [
      "Processing Companies:  18%|█▊        | 764/4204 [36:50<2:48:22,  2.94s/it]"
     ]
    },
    {
     "name": "stdout",
     "output_type": "stream",
     "text": [
      "✅ CHH - CashFlow_Quarter 데이터 삽입 완료\n",
      "✅ CHMI - IncomeStatement_Quarter 데이터 삽입 완료\n",
      "✅ CHMI - BalanceSheet_Quarter 데이터 삽입 완료\n"
     ]
    },
    {
     "name": "stderr",
     "output_type": "stream",
     "text": [
      "Processing Companies:  18%|█▊        | 765/4204 [36:52<2:46:01,  2.90s/it]"
     ]
    },
    {
     "name": "stdout",
     "output_type": "stream",
     "text": [
      "✅ CHMI - CashFlow_Quarter 데이터 삽입 완료\n",
      "✅ CHMG - IncomeStatement_Quarter 데이터 삽입 완료\n",
      "✅ CHMG - BalanceSheet_Quarter 데이터 삽입 완료\n"
     ]
    },
    {
     "name": "stderr",
     "output_type": "stream",
     "text": [
      "Processing Companies:  18%|█▊        | 766/4204 [36:55<2:48:37,  2.94s/it]"
     ]
    },
    {
     "name": "stdout",
     "output_type": "stream",
     "text": [
      "✅ CHMG - CashFlow_Quarter 데이터 삽입 완료\n",
      "❌ IncomeStatement_Quarter 데이터 없음\n",
      "✅ CHNR - BalanceSheet_Quarter 데이터 삽입 완료\n"
     ]
    },
    {
     "name": "stderr",
     "output_type": "stream",
     "text": [
      "Processing Companies:  18%|█▊        | 767/4204 [36:58<2:45:46,  2.89s/it]"
     ]
    },
    {
     "name": "stdout",
     "output_type": "stream",
     "text": [
      "❌ CashFlow_Quarter 데이터 없음\n",
      "❌ IncomeStatement_Quarter 데이터 없음\n",
      "✅ CHR - BalanceSheet_Quarter 데이터 삽입 완료\n"
     ]
    },
    {
     "name": "stderr",
     "output_type": "stream",
     "text": [
      "Processing Companies:  18%|█▊        | 768/4204 [37:01<2:43:59,  2.86s/it]"
     ]
    },
    {
     "name": "stdout",
     "output_type": "stream",
     "text": [
      "❌ CashFlow_Quarter 데이터 없음\n",
      "✅ CHPT - IncomeStatement_Quarter 데이터 삽입 완료\n",
      "✅ CHPT - BalanceSheet_Quarter 데이터 삽입 완료\n"
     ]
    },
    {
     "name": "stderr",
     "output_type": "stream",
     "text": [
      "Processing Companies:  18%|█▊        | 769/4204 [37:04<2:44:17,  2.87s/it]"
     ]
    },
    {
     "name": "stdout",
     "output_type": "stream",
     "text": [
      "✅ CHPT - CashFlow_Quarter 데이터 삽입 완료\n",
      "✅ CHRD - IncomeStatement_Quarter 데이터 삽입 완료\n",
      "✅ CHRD - BalanceSheet_Quarter 데이터 삽입 완료\n"
     ]
    },
    {
     "name": "stderr",
     "output_type": "stream",
     "text": [
      "Processing Companies:  18%|█▊        | 770/4204 [37:07<2:42:54,  2.85s/it]"
     ]
    },
    {
     "name": "stdout",
     "output_type": "stream",
     "text": [
      "✅ CHRD - CashFlow_Quarter 데이터 삽입 완료\n",
      "✅ CHRW - IncomeStatement_Quarter 데이터 삽입 완료\n",
      "✅ CHRW - BalanceSheet_Quarter 데이터 삽입 완료\n"
     ]
    },
    {
     "name": "stderr",
     "output_type": "stream",
     "text": [
      "Processing Companies:  18%|█▊        | 771/4204 [37:10<2:44:37,  2.88s/it]"
     ]
    },
    {
     "name": "stdout",
     "output_type": "stream",
     "text": [
      "✅ CHRW - CashFlow_Quarter 데이터 삽입 완료\n",
      "✅ CHRS - IncomeStatement_Quarter 데이터 삽입 완료\n",
      "✅ CHRS - BalanceSheet_Quarter 데이터 삽입 완료\n"
     ]
    },
    {
     "name": "stderr",
     "output_type": "stream",
     "text": [
      "Processing Companies:  18%|█▊        | 772/4204 [37:12<2:43:13,  2.85s/it]"
     ]
    },
    {
     "name": "stdout",
     "output_type": "stream",
     "text": [
      "✅ CHRS - CashFlow_Quarter 데이터 삽입 완료\n",
      "❌ IncomeStatement_Quarter 데이터 없음\n",
      "❌ BalanceSheet_Quarter 데이터 없음\n"
     ]
    },
    {
     "name": "stderr",
     "output_type": "stream",
     "text": [
      "Processing Companies:  18%|█▊        | 773/4204 [37:15<2:41:01,  2.82s/it]"
     ]
    },
    {
     "name": "stdout",
     "output_type": "stream",
     "text": [
      "❌ CashFlow_Quarter 데이터 없음\n",
      "❌ IncomeStatement_Quarter 데이터 없음\n",
      "❌ BalanceSheet_Quarter 데이터 없음\n"
     ]
    },
    {
     "name": "stderr",
     "output_type": "stream",
     "text": [
      "Processing Companies:  18%|█▊        | 774/4204 [37:18<2:38:51,  2.78s/it]"
     ]
    },
    {
     "name": "stdout",
     "output_type": "stream",
     "text": [
      "❌ CashFlow_Quarter 데이터 없음\n",
      "❌ IncomeStatement_Quarter 데이터 없음\n",
      "❌ BalanceSheet_Quarter 데이터 없음\n"
     ]
    },
    {
     "name": "stderr",
     "output_type": "stream",
     "text": [
      "Processing Companies:  18%|█▊        | 775/4204 [37:21<2:38:59,  2.78s/it]"
     ]
    },
    {
     "name": "stdout",
     "output_type": "stream",
     "text": [
      "❌ CashFlow_Quarter 데이터 없음\n",
      "❌ IncomeStatement_Quarter 데이터 없음\n",
      "❌ BalanceSheet_Quarter 데이터 없음\n"
     ]
    },
    {
     "name": "stderr",
     "output_type": "stream",
     "text": [
      "Processing Companies:  18%|█▊        | 776/4204 [37:23<2:37:15,  2.75s/it]"
     ]
    },
    {
     "name": "stdout",
     "output_type": "stream",
     "text": [
      "❌ CashFlow_Quarter 데이터 없음\n",
      "❌ IncomeStatement_Quarter 데이터 없음\n",
      "❌ BalanceSheet_Quarter 데이터 없음\n"
     ]
    },
    {
     "name": "stderr",
     "output_type": "stream",
     "text": [
      "Processing Companies:  18%|█▊        | 777/4204 [37:26<2:37:03,  2.75s/it]"
     ]
    },
    {
     "name": "stdout",
     "output_type": "stream",
     "text": [
      "❌ CashFlow_Quarter 데이터 없음\n",
      "✅ CHTR - IncomeStatement_Quarter 데이터 삽입 완료\n",
      "✅ CHTR - BalanceSheet_Quarter 데이터 삽입 완료\n"
     ]
    },
    {
     "name": "stderr",
     "output_type": "stream",
     "text": [
      "Processing Companies:  19%|█▊        | 778/4204 [37:29<2:40:35,  2.81s/it]"
     ]
    },
    {
     "name": "stdout",
     "output_type": "stream",
     "text": [
      "✅ CHTR - CashFlow_Quarter 데이터 삽입 완료\n",
      "✅ CHT - IncomeStatement_Quarter 데이터 삽입 완료\n",
      "✅ CHT - BalanceSheet_Quarter 데이터 삽입 완료\n"
     ]
    },
    {
     "name": "stderr",
     "output_type": "stream",
     "text": [
      "Processing Companies:  19%|█▊        | 779/4204 [37:32<2:41:25,  2.83s/it]"
     ]
    },
    {
     "name": "stdout",
     "output_type": "stream",
     "text": [
      "✅ CHT - CashFlow_Quarter 데이터 삽입 완료\n",
      "✅ CHWY - IncomeStatement_Quarter 데이터 삽입 완료\n",
      "✅ CHWY - BalanceSheet_Quarter 데이터 삽입 완료\n"
     ]
    },
    {
     "name": "stderr",
     "output_type": "stream",
     "text": [
      "Processing Companies:  19%|█▊        | 780/4204 [37:35<2:40:03,  2.80s/it]"
     ]
    },
    {
     "name": "stdout",
     "output_type": "stream",
     "text": [
      "✅ CHWY - CashFlow_Quarter 데이터 삽입 완료\n",
      "✅ CHX - IncomeStatement_Quarter 데이터 삽입 완료\n",
      "✅ CHX - BalanceSheet_Quarter 데이터 삽입 완료\n"
     ]
    },
    {
     "name": "stderr",
     "output_type": "stream",
     "text": [
      "Processing Companies:  19%|█▊        | 781/4204 [37:37<2:38:55,  2.79s/it]"
     ]
    },
    {
     "name": "stdout",
     "output_type": "stream",
     "text": [
      "✅ CHX - CashFlow_Quarter 데이터 삽입 완료\n",
      "✅ CIA - IncomeStatement_Quarter 데이터 삽입 완료\n",
      "✅ CIA - BalanceSheet_Quarter 데이터 삽입 완료\n"
     ]
    },
    {
     "name": "stderr",
     "output_type": "stream",
     "text": [
      "Processing Companies:  19%|█▊        | 782/4204 [37:40<2:38:19,  2.78s/it]"
     ]
    },
    {
     "name": "stdout",
     "output_type": "stream",
     "text": [
      "✅ CIA - CashFlow_Quarter 데이터 삽입 완료\n",
      "✅ CI - IncomeStatement_Quarter 데이터 삽입 완료\n",
      "✅ CI - BalanceSheet_Quarter 데이터 삽입 완료\n"
     ]
    },
    {
     "name": "stderr",
     "output_type": "stream",
     "text": [
      "Processing Companies:  19%|█▊        | 783/4204 [37:43<2:39:50,  2.80s/it]"
     ]
    },
    {
     "name": "stdout",
     "output_type": "stream",
     "text": [
      "✅ CI - CashFlow_Quarter 데이터 삽입 완료\n",
      "✅ CIEN - IncomeStatement_Quarter 데이터 삽입 완료\n",
      "✅ CIEN - BalanceSheet_Quarter 데이터 삽입 완료\n"
     ]
    },
    {
     "name": "stderr",
     "output_type": "stream",
     "text": [
      "Processing Companies:  19%|█▊        | 784/4204 [37:46<2:42:00,  2.84s/it]"
     ]
    },
    {
     "name": "stdout",
     "output_type": "stream",
     "text": [
      "✅ CIEN - CashFlow_Quarter 데이터 삽입 완료\n",
      "✅ CIB - IncomeStatement_Quarter 데이터 삽입 완료\n",
      "✅ CIB - BalanceSheet_Quarter 데이터 삽입 완료\n"
     ]
    },
    {
     "name": "stderr",
     "output_type": "stream",
     "text": [
      "Processing Companies:  19%|█▊        | 785/4204 [37:49<2:41:34,  2.84s/it]"
     ]
    },
    {
     "name": "stdout",
     "output_type": "stream",
     "text": [
      "✅ CIB - CashFlow_Quarter 데이터 삽입 완료\n",
      "✅ CIGI - IncomeStatement_Quarter 데이터 삽입 완료\n",
      "✅ CIGI - BalanceSheet_Quarter 데이터 삽입 완료\n"
     ]
    },
    {
     "name": "stderr",
     "output_type": "stream",
     "text": [
      "Processing Companies:  19%|█▊        | 786/4204 [37:52<2:45:59,  2.91s/it]"
     ]
    },
    {
     "name": "stdout",
     "output_type": "stream",
     "text": [
      "✅ CIGI - CashFlow_Quarter 데이터 삽입 완료\n",
      "✅ CIG - IncomeStatement_Quarter 데이터 삽입 완료\n",
      "✅ CIG - BalanceSheet_Quarter 데이터 삽입 완료\n"
     ]
    },
    {
     "name": "stderr",
     "output_type": "stream",
     "text": [
      "Processing Companies:  19%|█▊        | 787/4204 [37:55<2:44:48,  2.89s/it]"
     ]
    },
    {
     "name": "stdout",
     "output_type": "stream",
     "text": [
      "✅ CIG - CashFlow_Quarter 데이터 삽입 완료\n",
      "✅ CIIT - IncomeStatement_Quarter 데이터 삽입 완료\n",
      "✅ CIIT - BalanceSheet_Quarter 데이터 삽입 완료\n"
     ]
    },
    {
     "name": "stderr",
     "output_type": "stream",
     "text": [
      "Processing Companies:  19%|█▊        | 788/4204 [37:58<2:43:44,  2.88s/it]"
     ]
    },
    {
     "name": "stdout",
     "output_type": "stream",
     "text": [
      "✅ CIIT - CashFlow_Quarter 데이터 삽입 완료\n",
      "✅ CIM - IncomeStatement_Quarter 데이터 삽입 완료\n",
      "✅ CIM - BalanceSheet_Quarter 데이터 삽입 완료\n"
     ]
    },
    {
     "name": "stderr",
     "output_type": "stream",
     "text": [
      "Processing Companies:  19%|█▉        | 789/4204 [38:01<2:49:22,  2.98s/it]"
     ]
    },
    {
     "name": "stdout",
     "output_type": "stream",
     "text": [
      "✅ CIM - CashFlow_Quarter 데이터 삽입 완료\n",
      "✅ CINF - IncomeStatement_Quarter 데이터 삽입 완료\n",
      "✅ CINF - BalanceSheet_Quarter 데이터 삽입 완료\n"
     ]
    },
    {
     "name": "stderr",
     "output_type": "stream",
     "text": [
      "Processing Companies:  19%|█▉        | 790/4204 [38:04<2:46:11,  2.92s/it]"
     ]
    },
    {
     "name": "stdout",
     "output_type": "stream",
     "text": [
      "✅ CINF - CashFlow_Quarter 데이터 삽입 완료\n",
      "✅ CINT - IncomeStatement_Quarter 데이터 삽입 완료\n",
      "✅ CINT - BalanceSheet_Quarter 데이터 삽입 완료\n"
     ]
    },
    {
     "name": "stderr",
     "output_type": "stream",
     "text": [
      "Processing Companies:  19%|█▉        | 791/4204 [38:06<2:46:37,  2.93s/it]"
     ]
    },
    {
     "name": "stdout",
     "output_type": "stream",
     "text": [
      "✅ CINT - CashFlow_Quarter 데이터 삽입 완료\n",
      "✅ CING - IncomeStatement_Quarter 데이터 삽입 완료\n",
      "✅ CING - BalanceSheet_Quarter 데이터 삽입 완료\n"
     ]
    },
    {
     "name": "stderr",
     "output_type": "stream",
     "text": [
      "Processing Companies:  19%|█▉        | 792/4204 [38:09<2:43:37,  2.88s/it]"
     ]
    },
    {
     "name": "stdout",
     "output_type": "stream",
     "text": [
      "✅ CING - CashFlow_Quarter 데이터 삽입 완료\n",
      "✅ CIO - IncomeStatement_Quarter 데이터 삽입 완료\n",
      "✅ CIO - BalanceSheet_Quarter 데이터 삽입 완료\n"
     ]
    },
    {
     "name": "stderr",
     "output_type": "stream",
     "text": [
      "Processing Companies:  19%|█▉        | 793/4204 [38:12<2:42:08,  2.85s/it]"
     ]
    },
    {
     "name": "stdout",
     "output_type": "stream",
     "text": [
      "✅ CIO - CashFlow_Quarter 데이터 삽입 완료\n",
      "✅ CIVB - IncomeStatement_Quarter 데이터 삽입 완료\n",
      "✅ CIVB - BalanceSheet_Quarter 데이터 삽입 완료\n"
     ]
    },
    {
     "name": "stderr",
     "output_type": "stream",
     "text": [
      "Processing Companies:  19%|█▉        | 794/4204 [38:15<2:42:05,  2.85s/it]"
     ]
    },
    {
     "name": "stdout",
     "output_type": "stream",
     "text": [
      "✅ CIVB - CashFlow_Quarter 데이터 삽입 완료\n",
      "✅ CIVI - IncomeStatement_Quarter 데이터 삽입 완료\n",
      "✅ CIVI - BalanceSheet_Quarter 데이터 삽입 완료\n"
     ]
    },
    {
     "name": "stderr",
     "output_type": "stream",
     "text": [
      "Processing Companies:  19%|█▉        | 795/4204 [38:18<2:41:02,  2.83s/it]"
     ]
    },
    {
     "name": "stdout",
     "output_type": "stream",
     "text": [
      "✅ CIVI - CashFlow_Quarter 데이터 삽입 완료\n",
      "✅ CISO - IncomeStatement_Quarter 데이터 삽입 완료\n",
      "✅ CISO - BalanceSheet_Quarter 데이터 삽입 완료\n"
     ]
    },
    {
     "name": "stderr",
     "output_type": "stream",
     "text": [
      "Processing Companies:  19%|█▉        | 796/4204 [38:21<2:42:57,  2.87s/it]"
     ]
    },
    {
     "name": "stdout",
     "output_type": "stream",
     "text": [
      "✅ CISO - CashFlow_Quarter 데이터 삽입 완료\n",
      "✅ CIX - IncomeStatement_Quarter 데이터 삽입 완료\n",
      "✅ CIX - BalanceSheet_Quarter 데이터 삽입 완료\n"
     ]
    },
    {
     "name": "stderr",
     "output_type": "stream",
     "text": [
      "Processing Companies:  19%|█▉        | 797/4204 [38:24<2:43:40,  2.88s/it]"
     ]
    },
    {
     "name": "stdout",
     "output_type": "stream",
     "text": [
      "✅ CIX - CashFlow_Quarter 데이터 삽입 완료\n",
      "❌ IncomeStatement_Quarter 데이터 없음\n",
      "✅ CJET - BalanceSheet_Quarter 데이터 삽입 완료\n"
     ]
    },
    {
     "name": "stderr",
     "output_type": "stream",
     "text": [
      "Processing Companies:  19%|█▉        | 798/4204 [38:26<2:42:03,  2.85s/it]"
     ]
    },
    {
     "name": "stdout",
     "output_type": "stream",
     "text": [
      "❌ CashFlow_Quarter 데이터 없음\n"
     ]
    },
    {
     "name": "stderr",
     "output_type": "stream",
     "text": [
      "$CKPT: possibly delisted; no price data found  (period=5d)\n"
     ]
    },
    {
     "name": "stdout",
     "output_type": "stream",
     "text": [
      "✅ CKPT - IncomeStatement_Quarter 데이터 삽입 완료\n",
      "✅ CKPT - BalanceSheet_Quarter 데이터 삽입 완료\n"
     ]
    },
    {
     "name": "stderr",
     "output_type": "stream",
     "text": [
      "Processing Companies:  19%|█▉        | 799/4204 [38:29<2:41:56,  2.85s/it]"
     ]
    },
    {
     "name": "stdout",
     "output_type": "stream",
     "text": [
      "✅ CKPT - CashFlow_Quarter 데이터 삽입 완료\n",
      "✅ CKX - IncomeStatement_Quarter 데이터 삽입 완료\n",
      "✅ CKX - BalanceSheet_Quarter 데이터 삽입 완료\n"
     ]
    },
    {
     "name": "stderr",
     "output_type": "stream",
     "text": [
      "Processing Companies:  19%|█▉        | 800/4204 [38:32<2:44:23,  2.90s/it]"
     ]
    },
    {
     "name": "stdout",
     "output_type": "stream",
     "text": [
      "✅ CKX - CashFlow_Quarter 데이터 삽입 완료\n",
      "✅ CLAR - IncomeStatement_Quarter 데이터 삽입 완료\n",
      "✅ CLAR - BalanceSheet_Quarter 데이터 삽입 완료\n"
     ]
    },
    {
     "name": "stderr",
     "output_type": "stream",
     "text": [
      "Processing Companies:  19%|█▉        | 801/4204 [38:35<2:46:06,  2.93s/it]"
     ]
    },
    {
     "name": "stdout",
     "output_type": "stream",
     "text": [
      "✅ CLAR - CashFlow_Quarter 데이터 삽입 완료\n",
      "✅ CL - IncomeStatement_Quarter 데이터 삽입 완료\n",
      "✅ CL - BalanceSheet_Quarter 데이터 삽입 완료\n"
     ]
    },
    {
     "name": "stderr",
     "output_type": "stream",
     "text": [
      "Processing Companies:  19%|█▉        | 802/4204 [38:38<2:46:19,  2.93s/it]"
     ]
    },
    {
     "name": "stdout",
     "output_type": "stream",
     "text": [
      "✅ CL - CashFlow_Quarter 데이터 삽입 완료\n",
      "✅ CLB - IncomeStatement_Quarter 데이터 삽입 완료\n",
      "✅ CLB - BalanceSheet_Quarter 데이터 삽입 완료\n"
     ]
    },
    {
     "name": "stderr",
     "output_type": "stream",
     "text": [
      "Processing Companies:  19%|█▉        | 803/4204 [38:41<2:48:22,  2.97s/it]"
     ]
    },
    {
     "name": "stdout",
     "output_type": "stream",
     "text": [
      "✅ CLB - CashFlow_Quarter 데이터 삽입 완료\n",
      "✅ CLBK - IncomeStatement_Quarter 데이터 삽입 완료\n",
      "✅ CLBK - BalanceSheet_Quarter 데이터 삽입 완료\n"
     ]
    },
    {
     "name": "stderr",
     "output_type": "stream",
     "text": [
      "Processing Companies:  19%|█▉        | 804/4204 [38:44<2:45:26,  2.92s/it]"
     ]
    },
    {
     "name": "stdout",
     "output_type": "stream",
     "text": [
      "✅ CLBK - CashFlow_Quarter 데이터 삽입 완료\n",
      "✅ CLBT - IncomeStatement_Quarter 데이터 삽입 완료\n",
      "✅ CLBT - BalanceSheet_Quarter 데이터 삽입 완료\n"
     ]
    },
    {
     "name": "stderr",
     "output_type": "stream",
     "text": [
      "Processing Companies:  19%|█▉        | 805/4204 [38:47<2:42:33,  2.87s/it]"
     ]
    },
    {
     "name": "stdout",
     "output_type": "stream",
     "text": [
      "✅ CLBT - CashFlow_Quarter 데이터 삽입 완료\n",
      "✅ CLDX - IncomeStatement_Quarter 데이터 삽입 완료\n",
      "✅ CLDX - BalanceSheet_Quarter 데이터 삽입 완료\n"
     ]
    },
    {
     "name": "stderr",
     "output_type": "stream",
     "text": [
      "Processing Companies:  19%|█▉        | 806/4204 [38:50<2:42:56,  2.88s/it]"
     ]
    },
    {
     "name": "stdout",
     "output_type": "stream",
     "text": [
      "✅ CLDX - CashFlow_Quarter 데이터 삽입 완료\n",
      "✅ CLDI - IncomeStatement_Quarter 데이터 삽입 완료\n",
      "✅ CLDI - BalanceSheet_Quarter 데이터 삽입 완료\n"
     ]
    },
    {
     "name": "stderr",
     "output_type": "stream",
     "text": [
      "Processing Companies:  19%|█▉        | 807/4204 [38:52<2:41:29,  2.85s/it]"
     ]
    },
    {
     "name": "stdout",
     "output_type": "stream",
     "text": [
      "✅ CLDI - CashFlow_Quarter 데이터 삽입 완료\n",
      "✅ CLDT - IncomeStatement_Quarter 데이터 삽입 완료\n",
      "✅ CLDT - BalanceSheet_Quarter 데이터 삽입 완료\n"
     ]
    },
    {
     "name": "stderr",
     "output_type": "stream",
     "text": [
      "Processing Companies:  19%|█▉        | 808/4204 [38:55<2:41:48,  2.86s/it]"
     ]
    },
    {
     "name": "stdout",
     "output_type": "stream",
     "text": [
      "✅ CLDT - CashFlow_Quarter 데이터 삽입 완료\n",
      "✅ CLF - IncomeStatement_Quarter 데이터 삽입 완료\n",
      "✅ CLF - BalanceSheet_Quarter 데이터 삽입 완료\n"
     ]
    },
    {
     "name": "stderr",
     "output_type": "stream",
     "text": [
      "Processing Companies:  19%|█▉        | 809/4204 [38:58<2:43:00,  2.88s/it]"
     ]
    },
    {
     "name": "stdout",
     "output_type": "stream",
     "text": [
      "✅ CLF - CashFlow_Quarter 데이터 삽입 완료\n",
      "✅ CLFD - IncomeStatement_Quarter 데이터 삽입 완료\n",
      "✅ CLFD - BalanceSheet_Quarter 데이터 삽입 완료\n"
     ]
    },
    {
     "name": "stderr",
     "output_type": "stream",
     "text": [
      "Processing Companies:  19%|█▉        | 810/4204 [39:01<2:46:51,  2.95s/it]"
     ]
    },
    {
     "name": "stdout",
     "output_type": "stream",
     "text": [
      "✅ CLFD - CashFlow_Quarter 데이터 삽입 완료\n",
      "✅ CLGN - IncomeStatement_Quarter 데이터 삽입 완료\n",
      "✅ CLGN - BalanceSheet_Quarter 데이터 삽입 완료\n"
     ]
    },
    {
     "name": "stderr",
     "output_type": "stream",
     "text": [
      "Processing Companies:  19%|█▉        | 811/4204 [39:04<2:45:45,  2.93s/it]"
     ]
    },
    {
     "name": "stdout",
     "output_type": "stream",
     "text": [
      "✅ CLGN - CashFlow_Quarter 데이터 삽입 완료\n",
      "✅ CLIR - IncomeStatement_Quarter 데이터 삽입 완료\n",
      "✅ CLIR - BalanceSheet_Quarter 데이터 삽입 완료\n"
     ]
    },
    {
     "name": "stderr",
     "output_type": "stream",
     "text": [
      "Processing Companies:  19%|█▉        | 812/4204 [39:07<2:42:56,  2.88s/it]"
     ]
    },
    {
     "name": "stdout",
     "output_type": "stream",
     "text": [
      "✅ CLIR - CashFlow_Quarter 데이터 삽입 완료\n",
      "✅ CLH - IncomeStatement_Quarter 데이터 삽입 완료\n",
      "✅ CLH - BalanceSheet_Quarter 데이터 삽입 완료\n"
     ]
    },
    {
     "name": "stderr",
     "output_type": "stream",
     "text": [
      "Processing Companies:  19%|█▉        | 813/4204 [39:10<2:44:39,  2.91s/it]"
     ]
    },
    {
     "name": "stdout",
     "output_type": "stream",
     "text": [
      "✅ CLH - CashFlow_Quarter 데이터 삽입 완료\n",
      "✅ CLLS - IncomeStatement_Quarter 데이터 삽입 완료\n",
      "✅ CLLS - BalanceSheet_Quarter 데이터 삽입 완료\n"
     ]
    },
    {
     "name": "stderr",
     "output_type": "stream",
     "text": [
      "Processing Companies:  19%|█▉        | 814/4204 [39:13<2:42:52,  2.88s/it]"
     ]
    },
    {
     "name": "stdout",
     "output_type": "stream",
     "text": [
      "✅ CLLS - CashFlow_Quarter 데이터 삽입 완료\n",
      "✅ CLMB - IncomeStatement_Quarter 데이터 삽입 완료\n",
      "✅ CLMB - BalanceSheet_Quarter 데이터 삽입 완료\n"
     ]
    },
    {
     "name": "stderr",
     "output_type": "stream",
     "text": [
      "Processing Companies:  19%|█▉        | 815/4204 [39:16<2:43:15,  2.89s/it]"
     ]
    },
    {
     "name": "stdout",
     "output_type": "stream",
     "text": [
      "✅ CLMB - CashFlow_Quarter 데이터 삽입 완료\n",
      "✅ CLNN - IncomeStatement_Quarter 데이터 삽입 완료\n",
      "✅ CLNN - BalanceSheet_Quarter 데이터 삽입 완료\n"
     ]
    },
    {
     "name": "stderr",
     "output_type": "stream",
     "text": [
      "Processing Companies:  19%|█▉        | 816/4204 [39:19<2:46:27,  2.95s/it]"
     ]
    },
    {
     "name": "stdout",
     "output_type": "stream",
     "text": [
      "✅ CLNN - CashFlow_Quarter 데이터 삽입 완료\n",
      "✅ CLNE - IncomeStatement_Quarter 데이터 삽입 완료\n",
      "✅ CLNE - BalanceSheet_Quarter 데이터 삽입 완료\n"
     ]
    },
    {
     "name": "stderr",
     "output_type": "stream",
     "text": [
      "Processing Companies:  19%|█▉        | 817/4204 [39:22<2:45:31,  2.93s/it]"
     ]
    },
    {
     "name": "stdout",
     "output_type": "stream",
     "text": [
      "✅ CLNE - CashFlow_Quarter 데이터 삽입 완료\n",
      "✅ CLMT - IncomeStatement_Quarter 데이터 삽입 완료\n",
      "✅ CLMT - BalanceSheet_Quarter 데이터 삽입 완료\n"
     ]
    },
    {
     "name": "stderr",
     "output_type": "stream",
     "text": [
      "Processing Companies:  19%|█▉        | 818/4204 [39:25<2:44:57,  2.92s/it]"
     ]
    },
    {
     "name": "stdout",
     "output_type": "stream",
     "text": [
      "✅ CLMT - CashFlow_Quarter 데이터 삽입 완료\n",
      "✅ CLOV - IncomeStatement_Quarter 데이터 삽입 완료\n",
      "✅ CLOV - BalanceSheet_Quarter 데이터 삽입 완료\n"
     ]
    },
    {
     "name": "stderr",
     "output_type": "stream",
     "text": [
      "Processing Companies:  19%|█▉        | 819/4204 [39:27<2:44:37,  2.92s/it]"
     ]
    },
    {
     "name": "stdout",
     "output_type": "stream",
     "text": [
      "✅ CLOV - CashFlow_Quarter 데이터 삽입 완료\n",
      "✅ CLPR - IncomeStatement_Quarter 데이터 삽입 완료\n",
      "✅ CLPR - BalanceSheet_Quarter 데이터 삽입 완료\n"
     ]
    },
    {
     "name": "stderr",
     "output_type": "stream",
     "text": [
      "Processing Companies:  20%|█▉        | 820/4204 [39:30<2:42:30,  2.88s/it]"
     ]
    },
    {
     "name": "stdout",
     "output_type": "stream",
     "text": [
      "✅ CLPR - CashFlow_Quarter 데이터 삽입 완료\n",
      "❌ IncomeStatement_Quarter 데이터 없음\n",
      "✅ CLPS - BalanceSheet_Quarter 데이터 삽입 완료\n"
     ]
    },
    {
     "name": "stderr",
     "output_type": "stream",
     "text": [
      "Processing Companies:  20%|█▉        | 821/4204 [39:33<2:41:07,  2.86s/it]"
     ]
    },
    {
     "name": "stdout",
     "output_type": "stream",
     "text": [
      "❌ CashFlow_Quarter 데이터 없음\n",
      "✅ CLPT - IncomeStatement_Quarter 데이터 삽입 완료\n",
      "✅ CLPT - BalanceSheet_Quarter 데이터 삽입 완료\n"
     ]
    },
    {
     "name": "stderr",
     "output_type": "stream",
     "text": [
      "Processing Companies:  20%|█▉        | 822/4204 [39:36<2:40:00,  2.84s/it]"
     ]
    },
    {
     "name": "stdout",
     "output_type": "stream",
     "text": [
      "✅ CLPT - CashFlow_Quarter 데이터 삽입 완료\n",
      "✅ CLRB - IncomeStatement_Quarter 데이터 삽입 완료\n",
      "✅ CLRB - BalanceSheet_Quarter 데이터 삽입 완료\n"
     ]
    },
    {
     "name": "stderr",
     "output_type": "stream",
     "text": [
      "Processing Companies:  20%|█▉        | 823/4204 [39:39<2:40:07,  2.84s/it]"
     ]
    },
    {
     "name": "stdout",
     "output_type": "stream",
     "text": [
      "✅ CLRB - CashFlow_Quarter 데이터 삽입 완료\n",
      "✅ CLRO - IncomeStatement_Quarter 데이터 삽입 완료\n",
      "✅ CLRO - BalanceSheet_Quarter 데이터 삽입 완료\n"
     ]
    },
    {
     "name": "stderr",
     "output_type": "stream",
     "text": [
      "Processing Companies:  20%|█▉        | 824/4204 [39:42<2:39:46,  2.84s/it]"
     ]
    },
    {
     "name": "stdout",
     "output_type": "stream",
     "text": [
      "✅ CLRO - CashFlow_Quarter 데이터 삽입 완료\n",
      "✅ CLST - IncomeStatement_Quarter 데이터 삽입 완료\n",
      "✅ CLST - BalanceSheet_Quarter 데이터 삽입 완료\n"
     ]
    },
    {
     "name": "stderr",
     "output_type": "stream",
     "text": [
      "Processing Companies:  20%|█▉        | 825/4204 [39:44<2:38:44,  2.82s/it]"
     ]
    },
    {
     "name": "stdout",
     "output_type": "stream",
     "text": [
      "✅ CLST - CashFlow_Quarter 데이터 삽입 완료\n",
      "✅ CLVT - IncomeStatement_Quarter 데이터 삽입 완료\n",
      "✅ CLVT - BalanceSheet_Quarter 데이터 삽입 완료\n"
     ]
    },
    {
     "name": "stderr",
     "output_type": "stream",
     "text": [
      "Processing Companies:  20%|█▉        | 826/4204 [39:47<2:38:47,  2.82s/it]"
     ]
    },
    {
     "name": "stdout",
     "output_type": "stream",
     "text": [
      "✅ CLVT - CashFlow_Quarter 데이터 삽입 완료\n",
      "✅ CLW - IncomeStatement_Quarter 데이터 삽입 완료\n",
      "✅ CLW - BalanceSheet_Quarter 데이터 삽입 완료\n"
     ]
    },
    {
     "name": "stderr",
     "output_type": "stream",
     "text": [
      "Processing Companies:  20%|█▉        | 827/4204 [39:50<2:37:22,  2.80s/it]"
     ]
    },
    {
     "name": "stdout",
     "output_type": "stream",
     "text": [
      "✅ CLW - CashFlow_Quarter 데이터 삽입 완료\n",
      "✅ CLYM - IncomeStatement_Quarter 데이터 삽입 완료\n",
      "✅ CLYM - BalanceSheet_Quarter 데이터 삽입 완료\n"
     ]
    },
    {
     "name": "stderr",
     "output_type": "stream",
     "text": [
      "Processing Companies:  20%|█▉        | 828/4204 [39:53<2:36:26,  2.78s/it]"
     ]
    },
    {
     "name": "stdout",
     "output_type": "stream",
     "text": [
      "✅ CLYM - CashFlow_Quarter 데이터 삽입 완료\n",
      "✅ CM - IncomeStatement_Quarter 데이터 삽입 완료\n",
      "✅ CM - BalanceSheet_Quarter 데이터 삽입 완료\n"
     ]
    },
    {
     "name": "stderr",
     "output_type": "stream",
     "text": [
      "Processing Companies:  20%|█▉        | 829/4204 [39:55<2:36:37,  2.78s/it]"
     ]
    },
    {
     "name": "stdout",
     "output_type": "stream",
     "text": [
      "✅ CM - CashFlow_Quarter 데이터 삽입 완료\n",
      "✅ CLX - IncomeStatement_Quarter 데이터 삽입 완료\n",
      "✅ CLX - BalanceSheet_Quarter 데이터 삽입 완료\n"
     ]
    },
    {
     "name": "stderr",
     "output_type": "stream",
     "text": [
      "Processing Companies:  20%|█▉        | 830/4204 [39:58<2:39:36,  2.84s/it]"
     ]
    },
    {
     "name": "stdout",
     "output_type": "stream",
     "text": [
      "✅ CLX - CashFlow_Quarter 데이터 삽입 완료\n",
      "✅ CMA - IncomeStatement_Quarter 데이터 삽입 완료\n",
      "✅ CMA - BalanceSheet_Quarter 데이터 삽입 완료\n"
     ]
    },
    {
     "name": "stderr",
     "output_type": "stream",
     "text": [
      "Processing Companies:  20%|█▉        | 831/4204 [40:01<2:42:05,  2.88s/it]"
     ]
    },
    {
     "name": "stdout",
     "output_type": "stream",
     "text": [
      "✅ CMA - CashFlow_Quarter 데이터 삽입 완료\n",
      "✅ CMBM - IncomeStatement_Quarter 데이터 삽입 완료\n",
      "✅ CMBM - BalanceSheet_Quarter 데이터 삽입 완료\n"
     ]
    },
    {
     "name": "stderr",
     "output_type": "stream",
     "text": [
      "Processing Companies:  20%|█▉        | 832/4204 [40:04<2:40:02,  2.85s/it]"
     ]
    },
    {
     "name": "stdout",
     "output_type": "stream",
     "text": [
      "✅ CMBM - CashFlow_Quarter 데이터 삽입 완료\n",
      "✅ CMBT - IncomeStatement_Quarter 데이터 삽입 완료\n",
      "✅ CMBT - BalanceSheet_Quarter 데이터 삽입 완료\n"
     ]
    },
    {
     "name": "stderr",
     "output_type": "stream",
     "text": [
      "Processing Companies:  20%|█▉        | 833/4204 [40:07<2:38:56,  2.83s/it]"
     ]
    },
    {
     "name": "stdout",
     "output_type": "stream",
     "text": [
      "✅ CMBT - CashFlow_Quarter 데이터 삽입 완료\n",
      "✅ CMC - IncomeStatement_Quarter 데이터 삽입 완료\n",
      "✅ CMC - BalanceSheet_Quarter 데이터 삽입 완료\n"
     ]
    },
    {
     "name": "stderr",
     "output_type": "stream",
     "text": [
      "Processing Companies:  20%|█▉        | 834/4204 [40:10<2:39:13,  2.83s/it]"
     ]
    },
    {
     "name": "stdout",
     "output_type": "stream",
     "text": [
      "✅ CMC - CashFlow_Quarter 데이터 삽입 완료\n",
      "✅ CMCL - IncomeStatement_Quarter 데이터 삽입 완료\n",
      "✅ CMCL - BalanceSheet_Quarter 데이터 삽입 완료\n"
     ]
    },
    {
     "name": "stderr",
     "output_type": "stream",
     "text": [
      "Processing Companies:  20%|█▉        | 835/4204 [40:13<2:39:24,  2.84s/it]"
     ]
    },
    {
     "name": "stdout",
     "output_type": "stream",
     "text": [
      "✅ CMCL - CashFlow_Quarter 데이터 삽입 완료\n",
      "✅ CMCM - IncomeStatement_Quarter 데이터 삽입 완료\n",
      "✅ CMCM - BalanceSheet_Quarter 데이터 삽입 완료\n"
     ]
    },
    {
     "name": "stderr",
     "output_type": "stream",
     "text": [
      "Processing Companies:  20%|█▉        | 836/4204 [40:15<2:38:27,  2.82s/it]"
     ]
    },
    {
     "name": "stdout",
     "output_type": "stream",
     "text": [
      "❌ CashFlow_Quarter 데이터 없음\n",
      "✅ CMCSA - IncomeStatement_Quarter 데이터 삽입 완료\n",
      "✅ CMCSA - BalanceSheet_Quarter 데이터 삽입 완료\n"
     ]
    },
    {
     "name": "stderr",
     "output_type": "stream",
     "text": [
      "Processing Companies:  20%|█▉        | 837/4204 [40:18<2:40:48,  2.87s/it]"
     ]
    },
    {
     "name": "stdout",
     "output_type": "stream",
     "text": [
      "✅ CMCSA - CashFlow_Quarter 데이터 삽입 완료\n",
      "✅ CMCT - IncomeStatement_Quarter 데이터 삽입 완료\n",
      "✅ CMCT - BalanceSheet_Quarter 데이터 삽입 완료\n"
     ]
    },
    {
     "name": "stderr",
     "output_type": "stream",
     "text": [
      "Processing Companies:  20%|█▉        | 838/4204 [40:21<2:41:32,  2.88s/it]"
     ]
    },
    {
     "name": "stdout",
     "output_type": "stream",
     "text": [
      "✅ CMCT - CashFlow_Quarter 데이터 삽입 완료\n",
      "✅ CME - IncomeStatement_Quarter 데이터 삽입 완료\n",
      "✅ CME - BalanceSheet_Quarter 데이터 삽입 완료\n"
     ]
    },
    {
     "name": "stderr",
     "output_type": "stream",
     "text": [
      "Processing Companies:  20%|█▉        | 839/4204 [40:24<2:40:11,  2.86s/it]"
     ]
    },
    {
     "name": "stdout",
     "output_type": "stream",
     "text": [
      "✅ CME - CashFlow_Quarter 데이터 삽입 완료\n",
      "✅ CMG - IncomeStatement_Quarter 데이터 삽입 완료\n",
      "✅ CMG - BalanceSheet_Quarter 데이터 삽입 완료\n"
     ]
    },
    {
     "name": "stderr",
     "output_type": "stream",
     "text": [
      "Processing Companies:  20%|█▉        | 840/4204 [40:27<2:41:22,  2.88s/it]"
     ]
    },
    {
     "name": "stdout",
     "output_type": "stream",
     "text": [
      "✅ CMG - CashFlow_Quarter 데이터 삽입 완료\n",
      "✅ CMMB - IncomeStatement_Quarter 데이터 삽입 완료\n",
      "✅ CMMB - BalanceSheet_Quarter 데이터 삽입 완료\n"
     ]
    },
    {
     "name": "stderr",
     "output_type": "stream",
     "text": [
      "Processing Companies:  20%|██        | 841/4204 [40:30<2:40:42,  2.87s/it]"
     ]
    },
    {
     "name": "stdout",
     "output_type": "stream",
     "text": [
      "❌ CashFlow_Quarter 데이터 없음\n",
      "✅ CMI - IncomeStatement_Quarter 데이터 삽입 완료\n",
      "✅ CMI - BalanceSheet_Quarter 데이터 삽입 완료\n"
     ]
    },
    {
     "name": "stderr",
     "output_type": "stream",
     "text": [
      "Processing Companies:  20%|██        | 842/4204 [40:33<2:44:20,  2.93s/it]"
     ]
    },
    {
     "name": "stdout",
     "output_type": "stream",
     "text": [
      "✅ CMI - CashFlow_Quarter 데이터 삽입 완료\n",
      "✅ CMP - IncomeStatement_Quarter 데이터 삽입 완료\n",
      "✅ CMP - BalanceSheet_Quarter 데이터 삽입 완료\n"
     ]
    },
    {
     "name": "stderr",
     "output_type": "stream",
     "text": [
      "Processing Companies:  20%|██        | 843/4204 [40:36<2:43:17,  2.91s/it]"
     ]
    },
    {
     "name": "stdout",
     "output_type": "stream",
     "text": [
      "✅ CMP - CashFlow_Quarter 데이터 삽입 완료\n",
      "✅ CMPS - IncomeStatement_Quarter 데이터 삽입 완료\n",
      "✅ CMPS - BalanceSheet_Quarter 데이터 삽입 완료\n"
     ]
    },
    {
     "name": "stderr",
     "output_type": "stream",
     "text": [
      "Processing Companies:  20%|██        | 844/4204 [40:39<2:41:44,  2.89s/it]"
     ]
    },
    {
     "name": "stdout",
     "output_type": "stream",
     "text": [
      "✅ CMPS - CashFlow_Quarter 데이터 삽입 완료\n",
      "✅ CMPO - IncomeStatement_Quarter 데이터 삽입 완료\n",
      "✅ CMPO - BalanceSheet_Quarter 데이터 삽입 완료\n"
     ]
    },
    {
     "name": "stderr",
     "output_type": "stream",
     "text": [
      "Processing Companies:  20%|██        | 845/4204 [40:41<2:40:47,  2.87s/it]"
     ]
    },
    {
     "name": "stdout",
     "output_type": "stream",
     "text": [
      "✅ CMPO - CashFlow_Quarter 데이터 삽입 완료\n",
      "✅ CMPR - IncomeStatement_Quarter 데이터 삽입 완료\n",
      "✅ CMPR - BalanceSheet_Quarter 데이터 삽입 완료\n"
     ]
    },
    {
     "name": "stderr",
     "output_type": "stream",
     "text": [
      "Processing Companies:  20%|██        | 846/4204 [40:45<2:46:17,  2.97s/it]"
     ]
    },
    {
     "name": "stdout",
     "output_type": "stream",
     "text": [
      "✅ CMPR - CashFlow_Quarter 데이터 삽입 완료\n",
      "✅ CMPX - IncomeStatement_Quarter 데이터 삽입 완료\n",
      "✅ CMPX - BalanceSheet_Quarter 데이터 삽입 완료\n"
     ]
    },
    {
     "name": "stderr",
     "output_type": "stream",
     "text": [
      "Processing Companies:  20%|██        | 847/4204 [40:47<2:42:16,  2.90s/it]"
     ]
    },
    {
     "name": "stdout",
     "output_type": "stream",
     "text": [
      "✅ CMPX - CashFlow_Quarter 데이터 삽입 완료\n",
      "✅ CMS - IncomeStatement_Quarter 데이터 삽입 완료\n",
      "✅ CMS - BalanceSheet_Quarter 데이터 삽입 완료\n"
     ]
    },
    {
     "name": "stderr",
     "output_type": "stream",
     "text": [
      "Processing Companies:  20%|██        | 848/4204 [40:50<2:42:29,  2.91s/it]"
     ]
    },
    {
     "name": "stdout",
     "output_type": "stream",
     "text": [
      "✅ CMS - CashFlow_Quarter 데이터 삽입 완료\n",
      "✅ CMRE - IncomeStatement_Quarter 데이터 삽입 완료\n",
      "✅ CMRE - BalanceSheet_Quarter 데이터 삽입 완료\n"
     ]
    },
    {
     "name": "stderr",
     "output_type": "stream",
     "text": [
      "Processing Companies:  20%|██        | 849/4204 [40:54<2:47:19,  2.99s/it]"
     ]
    },
    {
     "name": "stdout",
     "output_type": "stream",
     "text": [
      "✅ CMRE - CashFlow_Quarter 데이터 삽입 완료\n",
      "✅ CMT - IncomeStatement_Quarter 데이터 삽입 완료\n",
      "✅ CMT - BalanceSheet_Quarter 데이터 삽입 완료\n"
     ]
    },
    {
     "name": "stderr",
     "output_type": "stream",
     "text": [
      "Processing Companies:  20%|██        | 850/4204 [40:56<2:45:52,  2.97s/it]"
     ]
    },
    {
     "name": "stdout",
     "output_type": "stream",
     "text": [
      "✅ CMT - CashFlow_Quarter 데이터 삽입 완료\n",
      "✅ CMTG - IncomeStatement_Quarter 데이터 삽입 완료\n",
      "✅ CMTG - BalanceSheet_Quarter 데이터 삽입 완료\n"
     ]
    },
    {
     "name": "stderr",
     "output_type": "stream",
     "text": [
      "Processing Companies:  20%|██        | 851/4204 [40:59<2:41:58,  2.90s/it]"
     ]
    },
    {
     "name": "stdout",
     "output_type": "stream",
     "text": [
      "✅ CMTG - CashFlow_Quarter 데이터 삽입 완료\n",
      "✅ CNC - IncomeStatement_Quarter 데이터 삽입 완료\n",
      "✅ CNC - BalanceSheet_Quarter 데이터 삽입 완료\n"
     ]
    },
    {
     "name": "stderr",
     "output_type": "stream",
     "text": [
      "Processing Companies:  20%|██        | 852/4204 [41:02<2:40:12,  2.87s/it]"
     ]
    },
    {
     "name": "stdout",
     "output_type": "stream",
     "text": [
      "✅ CNC - CashFlow_Quarter 데이터 삽입 완료\n",
      "✅ CNA - IncomeStatement_Quarter 데이터 삽입 완료\n",
      "✅ CNA - BalanceSheet_Quarter 데이터 삽입 완료\n"
     ]
    },
    {
     "name": "stderr",
     "output_type": "stream",
     "text": [
      "Processing Companies:  20%|██        | 853/4204 [41:05<2:38:28,  2.84s/it]"
     ]
    },
    {
     "name": "stdout",
     "output_type": "stream",
     "text": [
      "✅ CNA - CashFlow_Quarter 데이터 삽입 완료\n",
      "✅ CNDT - IncomeStatement_Quarter 데이터 삽입 완료\n",
      "✅ CNDT - BalanceSheet_Quarter 데이터 삽입 완료\n"
     ]
    },
    {
     "name": "stderr",
     "output_type": "stream",
     "text": [
      "Processing Companies:  20%|██        | 854/4204 [41:08<2:41:01,  2.88s/it]"
     ]
    },
    {
     "name": "stdout",
     "output_type": "stream",
     "text": [
      "✅ CNDT - CashFlow_Quarter 데이터 삽입 완료\n",
      "✅ CNFR - IncomeStatement_Quarter 데이터 삽입 완료\n",
      "✅ CNFR - BalanceSheet_Quarter 데이터 삽입 완료\n"
     ]
    },
    {
     "name": "stderr",
     "output_type": "stream",
     "text": [
      "Processing Companies:  20%|██        | 855/4204 [41:11<2:40:32,  2.88s/it]"
     ]
    },
    {
     "name": "stdout",
     "output_type": "stream",
     "text": [
      "✅ CNFR - CashFlow_Quarter 데이터 삽입 완료\n",
      "❌ IncomeStatement_Quarter 데이터 없음\n",
      "✅ CNEY - BalanceSheet_Quarter 데이터 삽입 완료\n"
     ]
    },
    {
     "name": "stderr",
     "output_type": "stream",
     "text": [
      "Processing Companies:  20%|██        | 856/4204 [41:14<2:42:48,  2.92s/it]"
     ]
    },
    {
     "name": "stdout",
     "output_type": "stream",
     "text": [
      "❌ CashFlow_Quarter 데이터 없음\n",
      "✅ CNF - IncomeStatement_Quarter 데이터 삽입 완료\n",
      "✅ CNF - BalanceSheet_Quarter 데이터 삽입 완료\n"
     ]
    },
    {
     "name": "stderr",
     "output_type": "stream",
     "text": [
      "Processing Companies:  20%|██        | 857/4204 [41:16<2:41:04,  2.89s/it]"
     ]
    },
    {
     "name": "stdout",
     "output_type": "stream",
     "text": [
      "❌ CashFlow_Quarter 데이터 없음\n",
      "✅ CNET - IncomeStatement_Quarter 데이터 삽입 완료\n",
      "✅ CNET - BalanceSheet_Quarter 데이터 삽입 완료\n"
     ]
    },
    {
     "name": "stderr",
     "output_type": "stream",
     "text": [
      "Processing Companies:  20%|██        | 858/4204 [41:19<2:42:28,  2.91s/it]"
     ]
    },
    {
     "name": "stdout",
     "output_type": "stream",
     "text": [
      "✅ CNET - CashFlow_Quarter 데이터 삽입 완료\n",
      "✅ CNI - IncomeStatement_Quarter 데이터 삽입 완료\n",
      "✅ CNI - BalanceSheet_Quarter 데이터 삽입 완료\n"
     ]
    },
    {
     "name": "stderr",
     "output_type": "stream",
     "text": [
      "Processing Companies:  20%|██        | 859/4204 [41:22<2:42:46,  2.92s/it]"
     ]
    },
    {
     "name": "stdout",
     "output_type": "stream",
     "text": [
      "✅ CNI - CashFlow_Quarter 데이터 삽입 완료\n",
      "✅ CNH - IncomeStatement_Quarter 데이터 삽입 완료\n",
      "✅ CNH - BalanceSheet_Quarter 데이터 삽입 완료\n"
     ]
    },
    {
     "name": "stderr",
     "output_type": "stream",
     "text": [
      "Processing Companies:  20%|██        | 860/4204 [41:25<2:41:00,  2.89s/it]"
     ]
    },
    {
     "name": "stdout",
     "output_type": "stream",
     "text": [
      "✅ CNH - CashFlow_Quarter 데이터 삽입 완료\n",
      "✅ CNK - IncomeStatement_Quarter 데이터 삽입 완료\n",
      "✅ CNK - BalanceSheet_Quarter 데이터 삽입 완료\n"
     ]
    },
    {
     "name": "stderr",
     "output_type": "stream",
     "text": [
      "Processing Companies:  20%|██        | 861/4204 [41:28<2:42:32,  2.92s/it]"
     ]
    },
    {
     "name": "stdout",
     "output_type": "stream",
     "text": [
      "✅ CNK - CashFlow_Quarter 데이터 삽입 완료\n",
      "✅ CNM - IncomeStatement_Quarter 데이터 삽입 완료\n",
      "✅ CNM - BalanceSheet_Quarter 데이터 삽입 완료\n"
     ]
    },
    {
     "name": "stderr",
     "output_type": "stream",
     "text": [
      "Processing Companies:  21%|██        | 862/4204 [41:31<2:39:49,  2.87s/it]"
     ]
    },
    {
     "name": "stdout",
     "output_type": "stream",
     "text": [
      "✅ CNM - CashFlow_Quarter 데이터 삽입 완료\n",
      "✅ CNMD - IncomeStatement_Quarter 데이터 삽입 완료\n",
      "✅ CNMD - BalanceSheet_Quarter 데이터 삽입 완료\n"
     ]
    },
    {
     "name": "stderr",
     "output_type": "stream",
     "text": [
      "Processing Companies:  21%|██        | 863/4204 [41:34<2:44:09,  2.95s/it]"
     ]
    },
    {
     "name": "stdout",
     "output_type": "stream",
     "text": [
      "✅ CNMD - CashFlow_Quarter 데이터 삽입 완료\n",
      "✅ CNNE - IncomeStatement_Quarter 데이터 삽입 완료\n",
      "✅ CNNE - BalanceSheet_Quarter 데이터 삽입 완료\n"
     ]
    },
    {
     "name": "stderr",
     "output_type": "stream",
     "text": [
      "Processing Companies:  21%|██        | 864/4204 [41:37<2:41:03,  2.89s/it]"
     ]
    },
    {
     "name": "stdout",
     "output_type": "stream",
     "text": [
      "✅ CNNE - CashFlow_Quarter 데이터 삽입 완료\n",
      "✅ CNO - IncomeStatement_Quarter 데이터 삽입 완료\n",
      "✅ CNO - BalanceSheet_Quarter 데이터 삽입 완료\n"
     ]
    },
    {
     "name": "stderr",
     "output_type": "stream",
     "text": [
      "Processing Companies:  21%|██        | 865/4204 [41:40<2:38:36,  2.85s/it]"
     ]
    },
    {
     "name": "stdout",
     "output_type": "stream",
     "text": [
      "✅ CNO - CashFlow_Quarter 데이터 삽입 완료\n",
      "✅ CNOBP - IncomeStatement_Quarter 데이터 삽입 완료\n",
      "✅ CNOBP - BalanceSheet_Quarter 데이터 삽입 완료\n"
     ]
    },
    {
     "name": "stderr",
     "output_type": "stream",
     "text": [
      "Processing Companies:  21%|██        | 866/4204 [41:42<2:37:51,  2.84s/it]"
     ]
    },
    {
     "name": "stdout",
     "output_type": "stream",
     "text": [
      "✅ CNOBP - CashFlow_Quarter 데이터 삽입 완료\n",
      "✅ CNOB - IncomeStatement_Quarter 데이터 삽입 완료\n",
      "✅ CNOB - BalanceSheet_Quarter 데이터 삽입 완료\n"
     ]
    },
    {
     "name": "stderr",
     "output_type": "stream",
     "text": [
      "Processing Companies:  21%|██        | 867/4204 [41:45<2:38:35,  2.85s/it]"
     ]
    },
    {
     "name": "stdout",
     "output_type": "stream",
     "text": [
      "✅ CNOB - CashFlow_Quarter 데이터 삽입 완료\n",
      "✅ CNP - IncomeStatement_Quarter 데이터 삽입 완료\n",
      "✅ CNP - BalanceSheet_Quarter 데이터 삽입 완료\n"
     ]
    },
    {
     "name": "stderr",
     "output_type": "stream",
     "text": [
      "Processing Companies:  21%|██        | 868/4204 [41:48<2:41:51,  2.91s/it]"
     ]
    },
    {
     "name": "stdout",
     "output_type": "stream",
     "text": [
      "✅ CNP - CashFlow_Quarter 데이터 삽입 완료\n",
      "✅ CNR - IncomeStatement_Quarter 데이터 삽입 완료\n",
      "✅ CNR - BalanceSheet_Quarter 데이터 삽입 완료\n"
     ]
    },
    {
     "name": "stderr",
     "output_type": "stream",
     "text": [
      "Processing Companies:  21%|██        | 869/4204 [41:51<2:44:30,  2.96s/it]"
     ]
    },
    {
     "name": "stdout",
     "output_type": "stream",
     "text": [
      "✅ CNR - CashFlow_Quarter 데이터 삽입 완료\n",
      "✅ CNQ - IncomeStatement_Quarter 데이터 삽입 완료\n",
      "✅ CNQ - BalanceSheet_Quarter 데이터 삽입 완료\n"
     ]
    },
    {
     "name": "stderr",
     "output_type": "stream",
     "text": [
      "Processing Companies:  21%|██        | 870/4204 [41:54<2:42:19,  2.92s/it]"
     ]
    },
    {
     "name": "stdout",
     "output_type": "stream",
     "text": [
      "✅ CNQ - CashFlow_Quarter 데이터 삽입 완료\n",
      "✅ CNSP - IncomeStatement_Quarter 데이터 삽입 완료\n",
      "✅ CNSP - BalanceSheet_Quarter 데이터 삽입 완료\n"
     ]
    },
    {
     "name": "stderr",
     "output_type": "stream",
     "text": [
      "Processing Companies:  21%|██        | 871/4204 [41:57<2:40:21,  2.89s/it]"
     ]
    },
    {
     "name": "stdout",
     "output_type": "stream",
     "text": [
      "✅ CNSP - CashFlow_Quarter 데이터 삽입 완료\n",
      "✅ CNTA - IncomeStatement_Quarter 데이터 삽입 완료\n",
      "✅ CNTA - BalanceSheet_Quarter 데이터 삽입 완료\n"
     ]
    },
    {
     "name": "stderr",
     "output_type": "stream",
     "text": [
      "Processing Companies:  21%|██        | 872/4204 [42:00<2:40:14,  2.89s/it]"
     ]
    },
    {
     "name": "stdout",
     "output_type": "stream",
     "text": [
      "✅ CNTA - CashFlow_Quarter 데이터 삽입 완료\n",
      "✅ CNTX - IncomeStatement_Quarter 데이터 삽입 완료\n",
      "✅ CNTX - BalanceSheet_Quarter 데이터 삽입 완료\n"
     ]
    },
    {
     "name": "stderr",
     "output_type": "stream",
     "text": [
      "Processing Companies:  21%|██        | 873/4204 [42:03<2:38:01,  2.85s/it]"
     ]
    },
    {
     "name": "stdout",
     "output_type": "stream",
     "text": [
      "✅ CNTX - CashFlow_Quarter 데이터 삽입 완료\n",
      "✅ CNTB - IncomeStatement_Quarter 데이터 삽입 완료\n",
      "✅ CNTB - BalanceSheet_Quarter 데이터 삽입 완료\n"
     ]
    },
    {
     "name": "stderr",
     "output_type": "stream",
     "text": [
      "Processing Companies:  21%|██        | 874/4204 [42:05<2:36:22,  2.82s/it]"
     ]
    },
    {
     "name": "stdout",
     "output_type": "stream",
     "text": [
      "✅ CNTB - CashFlow_Quarter 데이터 삽입 완료\n",
      "✅ CNTY - IncomeStatement_Quarter 데이터 삽입 완료\n",
      "✅ CNTY - BalanceSheet_Quarter 데이터 삽입 완료\n"
     ]
    },
    {
     "name": "stderr",
     "output_type": "stream",
     "text": [
      "Processing Companies:  21%|██        | 875/4204 [42:08<2:36:48,  2.83s/it]"
     ]
    },
    {
     "name": "stdout",
     "output_type": "stream",
     "text": [
      "✅ CNTY - CashFlow_Quarter 데이터 삽입 완료\n",
      "✅ CNXC - IncomeStatement_Quarter 데이터 삽입 완료\n",
      "✅ CNXC - BalanceSheet_Quarter 데이터 삽입 완료\n"
     ]
    },
    {
     "name": "stderr",
     "output_type": "stream",
     "text": [
      "Processing Companies:  21%|██        | 876/4204 [42:11<2:36:25,  2.82s/it]"
     ]
    },
    {
     "name": "stdout",
     "output_type": "stream",
     "text": [
      "✅ CNXC - CashFlow_Quarter 데이터 삽입 완료\n",
      "✅ CNX - IncomeStatement_Quarter 데이터 삽입 완료\n",
      "✅ CNX - BalanceSheet_Quarter 데이터 삽입 완료\n"
     ]
    },
    {
     "name": "stderr",
     "output_type": "stream",
     "text": [
      "Processing Companies:  21%|██        | 877/4204 [42:14<2:40:11,  2.89s/it]"
     ]
    },
    {
     "name": "stdout",
     "output_type": "stream",
     "text": [
      "✅ CNX - CashFlow_Quarter 데이터 삽입 완료\n",
      "✅ CNXN - IncomeStatement_Quarter 데이터 삽입 완료\n",
      "✅ CNXN - BalanceSheet_Quarter 데이터 삽입 완료\n"
     ]
    },
    {
     "name": "stderr",
     "output_type": "stream",
     "text": [
      "Processing Companies:  21%|██        | 878/4204 [42:17<2:38:02,  2.85s/it]"
     ]
    },
    {
     "name": "stdout",
     "output_type": "stream",
     "text": [
      "✅ CNXN - CashFlow_Quarter 데이터 삽입 완료\n",
      "✅ COCH - IncomeStatement_Quarter 데이터 삽입 완료\n",
      "✅ COCH - BalanceSheet_Quarter 데이터 삽입 완료\n"
     ]
    },
    {
     "name": "stderr",
     "output_type": "stream",
     "text": [
      "Processing Companies:  21%|██        | 879/4204 [42:20<2:36:19,  2.82s/it]"
     ]
    },
    {
     "name": "stdout",
     "output_type": "stream",
     "text": [
      "✅ COCH - CashFlow_Quarter 데이터 삽입 완료\n",
      "✅ COCO - IncomeStatement_Quarter 데이터 삽입 완료\n",
      "✅ COCO - BalanceSheet_Quarter 데이터 삽입 완료\n"
     ]
    },
    {
     "name": "stderr",
     "output_type": "stream",
     "text": [
      "Processing Companies:  21%|██        | 880/4204 [42:23<2:39:21,  2.88s/it]"
     ]
    },
    {
     "name": "stdout",
     "output_type": "stream",
     "text": [
      "✅ COCO - CashFlow_Quarter 데이터 삽입 완료\n",
      "✅ COCP - IncomeStatement_Quarter 데이터 삽입 완료\n",
      "✅ COCP - BalanceSheet_Quarter 데이터 삽입 완료\n"
     ]
    },
    {
     "name": "stderr",
     "output_type": "stream",
     "text": [
      "Processing Companies:  21%|██        | 881/4204 [42:25<2:36:08,  2.82s/it]"
     ]
    },
    {
     "name": "stdout",
     "output_type": "stream",
     "text": [
      "✅ COCP - CashFlow_Quarter 데이터 삽입 완료\n",
      "✅ CODI - IncomeStatement_Quarter 데이터 삽입 완료\n",
      "✅ CODI - BalanceSheet_Quarter 데이터 삽입 완료\n"
     ]
    },
    {
     "name": "stderr",
     "output_type": "stream",
     "text": [
      "Processing Companies:  21%|██        | 882/4204 [42:28<2:42:24,  2.93s/it]"
     ]
    },
    {
     "name": "stdout",
     "output_type": "stream",
     "text": [
      "✅ CODI - CashFlow_Quarter 데이터 삽입 완료\n",
      "✅ COE - IncomeStatement_Quarter 데이터 삽입 완료\n",
      "✅ COE - BalanceSheet_Quarter 데이터 삽입 완료\n"
     ]
    },
    {
     "name": "stderr",
     "output_type": "stream",
     "text": [
      "Processing Companies:  21%|██        | 883/4204 [42:31<2:39:58,  2.89s/it]"
     ]
    },
    {
     "name": "stdout",
     "output_type": "stream",
     "text": [
      "❌ CashFlow_Quarter 데이터 없음\n",
      "✅ COEP - IncomeStatement_Quarter 데이터 삽입 완료\n",
      "✅ COEP - BalanceSheet_Quarter 데이터 삽입 완료\n"
     ]
    },
    {
     "name": "stderr",
     "output_type": "stream",
     "text": [
      "Processing Companies:  21%|██        | 884/4204 [42:34<2:38:00,  2.86s/it]"
     ]
    },
    {
     "name": "stdout",
     "output_type": "stream",
     "text": [
      "✅ COEP - CashFlow_Quarter 데이터 삽입 완료\n",
      "✅ CODX - IncomeStatement_Quarter 데이터 삽입 완료\n",
      "✅ CODX - BalanceSheet_Quarter 데이터 삽입 완료\n"
     ]
    },
    {
     "name": "stderr",
     "output_type": "stream",
     "text": [
      "Processing Companies:  21%|██        | 885/4204 [42:37<2:37:33,  2.85s/it]"
     ]
    },
    {
     "name": "stdout",
     "output_type": "stream",
     "text": [
      "✅ CODX - CashFlow_Quarter 데이터 삽입 완료\n",
      "✅ COF - IncomeStatement_Quarter 데이터 삽입 완료\n",
      "✅ COF - BalanceSheet_Quarter 데이터 삽입 완료\n"
     ]
    },
    {
     "name": "stderr",
     "output_type": "stream",
     "text": [
      "Processing Companies:  21%|██        | 886/4204 [42:40<2:38:22,  2.86s/it]"
     ]
    },
    {
     "name": "stdout",
     "output_type": "stream",
     "text": [
      "✅ COF - CashFlow_Quarter 데이터 삽입 완료\n",
      "✅ COGT - IncomeStatement_Quarter 데이터 삽입 완료\n",
      "✅ COGT - BalanceSheet_Quarter 데이터 삽입 완료\n"
     ]
    },
    {
     "name": "stderr",
     "output_type": "stream",
     "text": [
      "Processing Companies:  21%|██        | 887/4204 [42:43<2:36:38,  2.83s/it]"
     ]
    },
    {
     "name": "stdout",
     "output_type": "stream",
     "text": [
      "✅ COGT - CashFlow_Quarter 데이터 삽입 완료\n",
      "✅ COHR - IncomeStatement_Quarter 데이터 삽입 완료\n",
      "✅ COHR - BalanceSheet_Quarter 데이터 삽입 완료\n"
     ]
    },
    {
     "name": "stderr",
     "output_type": "stream",
     "text": [
      "Processing Companies:  21%|██        | 888/4204 [42:45<2:35:57,  2.82s/it]"
     ]
    },
    {
     "name": "stdout",
     "output_type": "stream",
     "text": [
      "✅ COHR - CashFlow_Quarter 데이터 삽입 완료\n",
      "✅ COFS - IncomeStatement_Quarter 데이터 삽입 완료\n",
      "✅ COFS - BalanceSheet_Quarter 데이터 삽입 완료\n"
     ]
    },
    {
     "name": "stderr",
     "output_type": "stream",
     "text": [
      "Processing Companies:  21%|██        | 889/4204 [42:48<2:35:31,  2.82s/it]"
     ]
    },
    {
     "name": "stdout",
     "output_type": "stream",
     "text": [
      "✅ COFS - CashFlow_Quarter 데이터 삽입 완료\n",
      "✅ COHU - IncomeStatement_Quarter 데이터 삽입 완료\n",
      "✅ COHU - BalanceSheet_Quarter 데이터 삽입 완료\n"
     ]
    },
    {
     "name": "stderr",
     "output_type": "stream",
     "text": [
      "Processing Companies:  21%|██        | 890/4204 [42:51<2:34:29,  2.80s/it]"
     ]
    },
    {
     "name": "stdout",
     "output_type": "stream",
     "text": [
      "✅ COHU - CashFlow_Quarter 데이터 삽입 완료\n",
      "✅ COIN - IncomeStatement_Quarter 데이터 삽입 완료\n",
      "✅ COIN - BalanceSheet_Quarter 데이터 삽입 완료\n"
     ]
    },
    {
     "name": "stderr",
     "output_type": "stream",
     "text": [
      "Processing Companies:  21%|██        | 891/4204 [42:54<2:41:56,  2.93s/it]"
     ]
    },
    {
     "name": "stdout",
     "output_type": "stream",
     "text": [
      "✅ COIN - CashFlow_Quarter 데이터 삽입 완료\n",
      "✅ COKE - IncomeStatement_Quarter 데이터 삽입 완료\n",
      "✅ COKE - BalanceSheet_Quarter 데이터 삽입 완료\n"
     ]
    },
    {
     "name": "stderr",
     "output_type": "stream",
     "text": [
      "Processing Companies:  21%|██        | 892/4204 [42:57<2:40:41,  2.91s/it]"
     ]
    },
    {
     "name": "stdout",
     "output_type": "stream",
     "text": [
      "✅ COKE - CashFlow_Quarter 데이터 삽입 완료\n",
      "✅ COLD - IncomeStatement_Quarter 데이터 삽입 완료\n",
      "✅ COLD - BalanceSheet_Quarter 데이터 삽입 완료\n"
     ]
    },
    {
     "name": "stderr",
     "output_type": "stream",
     "text": [
      "Processing Companies:  21%|██        | 893/4204 [43:00<2:38:23,  2.87s/it]"
     ]
    },
    {
     "name": "stdout",
     "output_type": "stream",
     "text": [
      "✅ COLD - CashFlow_Quarter 데이터 삽입 완료\n",
      "✅ COLB - IncomeStatement_Quarter 데이터 삽입 완료\n",
      "✅ COLB - BalanceSheet_Quarter 데이터 삽입 완료\n"
     ]
    },
    {
     "name": "stderr",
     "output_type": "stream",
     "text": [
      "Processing Companies:  21%|██▏       | 894/4204 [43:03<2:38:55,  2.88s/it]"
     ]
    },
    {
     "name": "stdout",
     "output_type": "stream",
     "text": [
      "✅ COLB - CashFlow_Quarter 데이터 삽입 완료\n",
      "✅ COLL - IncomeStatement_Quarter 데이터 삽입 완료\n",
      "✅ COLL - BalanceSheet_Quarter 데이터 삽입 완료\n"
     ]
    },
    {
     "name": "stderr",
     "output_type": "stream",
     "text": [
      "Processing Companies:  21%|██▏       | 895/4204 [43:05<2:36:46,  2.84s/it]"
     ]
    },
    {
     "name": "stdout",
     "output_type": "stream",
     "text": [
      "✅ COLL - CashFlow_Quarter 데이터 삽입 완료\n",
      "✅ COLM - IncomeStatement_Quarter 데이터 삽입 완료\n",
      "✅ COLM - BalanceSheet_Quarter 데이터 삽입 완료\n"
     ]
    },
    {
     "name": "stderr",
     "output_type": "stream",
     "text": [
      "Processing Companies:  21%|██▏       | 896/4204 [43:08<2:36:03,  2.83s/it]"
     ]
    },
    {
     "name": "stdout",
     "output_type": "stream",
     "text": [
      "✅ COLM - CashFlow_Quarter 데이터 삽입 완료\n",
      "✅ COMM - IncomeStatement_Quarter 데이터 삽입 완료\n",
      "✅ COMM - BalanceSheet_Quarter 데이터 삽입 완료\n"
     ]
    },
    {
     "name": "stderr",
     "output_type": "stream",
     "text": [
      "Processing Companies:  21%|██▏       | 897/4204 [43:11<2:35:40,  2.82s/it]"
     ]
    },
    {
     "name": "stdout",
     "output_type": "stream",
     "text": [
      "✅ COMM - CashFlow_Quarter 데이터 삽입 완료\n",
      "✅ COMP - IncomeStatement_Quarter 데이터 삽입 완료\n",
      "✅ COMP - BalanceSheet_Quarter 데이터 삽입 완료\n"
     ]
    },
    {
     "name": "stderr",
     "output_type": "stream",
     "text": [
      "Processing Companies:  21%|██▏       | 898/4204 [43:14<2:35:59,  2.83s/it]"
     ]
    },
    {
     "name": "stdout",
     "output_type": "stream",
     "text": [
      "✅ COMP - CashFlow_Quarter 데이터 삽입 완료\n",
      "✅ COOP - IncomeStatement_Quarter 데이터 삽입 완료\n",
      "✅ COOP - BalanceSheet_Quarter 데이터 삽입 완료\n"
     ]
    },
    {
     "name": "stderr",
     "output_type": "stream",
     "text": [
      "Processing Companies:  21%|██▏       | 899/4204 [43:17<2:36:45,  2.85s/it]"
     ]
    },
    {
     "name": "stdout",
     "output_type": "stream",
     "text": [
      "✅ COOP - CashFlow_Quarter 데이터 삽입 완료\n",
      "✅ COOK - IncomeStatement_Quarter 데이터 삽입 완료\n",
      "✅ COOK - BalanceSheet_Quarter 데이터 삽입 완료\n"
     ]
    },
    {
     "name": "stderr",
     "output_type": "stream",
     "text": [
      "Processing Companies:  21%|██▏       | 900/4204 [43:20<2:35:22,  2.82s/it]"
     ]
    },
    {
     "name": "stdout",
     "output_type": "stream",
     "text": [
      "✅ COOK - CashFlow_Quarter 데이터 삽입 완료\n",
      "✅ COP - IncomeStatement_Quarter 데이터 삽입 완료\n",
      "✅ COP - BalanceSheet_Quarter 데이터 삽입 완료\n"
     ]
    },
    {
     "name": "stderr",
     "output_type": "stream",
     "text": [
      "Processing Companies:  21%|██▏       | 901/4204 [43:22<2:36:44,  2.85s/it]"
     ]
    },
    {
     "name": "stdout",
     "output_type": "stream",
     "text": [
      "✅ COP - CashFlow_Quarter 데이터 삽입 완료\n",
      "✅ COOT - IncomeStatement_Quarter 데이터 삽입 완료\n",
      "✅ COOT - BalanceSheet_Quarter 데이터 삽입 완료\n"
     ]
    },
    {
     "name": "stderr",
     "output_type": "stream",
     "text": [
      "Processing Companies:  21%|██▏       | 902/4204 [43:25<2:37:12,  2.86s/it]"
     ]
    },
    {
     "name": "stdout",
     "output_type": "stream",
     "text": [
      "✅ COOT - CashFlow_Quarter 데이터 삽입 완료\n",
      "✅ COR - IncomeStatement_Quarter 데이터 삽입 완료\n",
      "✅ COR - BalanceSheet_Quarter 데이터 삽입 완료\n"
     ]
    },
    {
     "name": "stderr",
     "output_type": "stream",
     "text": [
      "Processing Companies:  21%|██▏       | 903/4204 [43:28<2:35:51,  2.83s/it]"
     ]
    },
    {
     "name": "stdout",
     "output_type": "stream",
     "text": [
      "✅ COR - CashFlow_Quarter 데이터 삽입 완료\n",
      "✅ CORT - IncomeStatement_Quarter 데이터 삽입 완료\n",
      "✅ CORT - BalanceSheet_Quarter 데이터 삽입 완료\n"
     ]
    },
    {
     "name": "stderr",
     "output_type": "stream",
     "text": [
      "Processing Companies:  22%|██▏       | 904/4204 [43:31<2:34:57,  2.82s/it]"
     ]
    },
    {
     "name": "stdout",
     "output_type": "stream",
     "text": [
      "✅ CORT - CashFlow_Quarter 데이터 삽입 완료\n",
      "✅ COSM - IncomeStatement_Quarter 데이터 삽입 완료\n",
      "✅ COSM - BalanceSheet_Quarter 데이터 삽입 완료\n"
     ]
    },
    {
     "name": "stderr",
     "output_type": "stream",
     "text": [
      "Processing Companies:  22%|██▏       | 905/4204 [43:34<2:35:46,  2.83s/it]"
     ]
    },
    {
     "name": "stdout",
     "output_type": "stream",
     "text": [
      "✅ COSM - CashFlow_Quarter 데이터 삽입 완료\n",
      "✅ COST - IncomeStatement_Quarter 데이터 삽입 완료\n",
      "✅ COST - BalanceSheet_Quarter 데이터 삽입 완료\n"
     ]
    },
    {
     "name": "stderr",
     "output_type": "stream",
     "text": [
      "Processing Companies:  22%|██▏       | 906/4204 [43:37<2:35:40,  2.83s/it]"
     ]
    },
    {
     "name": "stdout",
     "output_type": "stream",
     "text": [
      "✅ COST - CashFlow_Quarter 데이터 삽입 완료\n",
      "✅ COTY - IncomeStatement_Quarter 데이터 삽입 완료\n",
      "✅ COTY - BalanceSheet_Quarter 데이터 삽입 완료\n"
     ]
    },
    {
     "name": "stderr",
     "output_type": "stream",
     "text": [
      "Processing Companies:  22%|██▏       | 907/4204 [43:39<2:35:07,  2.82s/it]"
     ]
    },
    {
     "name": "stdout",
     "output_type": "stream",
     "text": [
      "✅ COTY - CashFlow_Quarter 데이터 삽입 완료\n",
      "✅ CP - IncomeStatement_Quarter 데이터 삽입 완료\n",
      "✅ CP - BalanceSheet_Quarter 데이터 삽입 완료\n"
     ]
    },
    {
     "name": "stderr",
     "output_type": "stream",
     "text": [
      "Processing Companies:  22%|██▏       | 908/4204 [43:43<2:42:54,  2.97s/it]"
     ]
    },
    {
     "name": "stdout",
     "output_type": "stream",
     "text": [
      "✅ CP - CashFlow_Quarter 데이터 삽입 완료\n",
      "✅ COUR - IncomeStatement_Quarter 데이터 삽입 완료\n",
      "✅ COUR - BalanceSheet_Quarter 데이터 삽입 완료\n"
     ]
    },
    {
     "name": "stderr",
     "output_type": "stream",
     "text": [
      "Processing Companies:  22%|██▏       | 909/4204 [43:45<2:38:25,  2.88s/it]"
     ]
    },
    {
     "name": "stdout",
     "output_type": "stream",
     "text": [
      "✅ COUR - CashFlow_Quarter 데이터 삽입 완료\n",
      "✅ CPA - IncomeStatement_Quarter 데이터 삽입 완료\n",
      "✅ CPA - BalanceSheet_Quarter 데이터 삽입 완료\n"
     ]
    },
    {
     "name": "stderr",
     "output_type": "stream",
     "text": [
      "Processing Companies:  22%|██▏       | 910/4204 [43:48<2:36:34,  2.85s/it]"
     ]
    },
    {
     "name": "stdout",
     "output_type": "stream",
     "text": [
      "✅ CPA - CashFlow_Quarter 데이터 삽입 완료\n",
      "✅ CPAC - IncomeStatement_Quarter 데이터 삽입 완료\n",
      "✅ CPAC - BalanceSheet_Quarter 데이터 삽입 완료\n"
     ]
    },
    {
     "name": "stderr",
     "output_type": "stream",
     "text": [
      "Processing Companies:  22%|██▏       | 911/4204 [43:51<2:41:25,  2.94s/it]"
     ]
    },
    {
     "name": "stdout",
     "output_type": "stream",
     "text": [
      "✅ CPAC - CashFlow_Quarter 데이터 삽입 완료\n",
      "✅ CPB - IncomeStatement_Quarter 데이터 삽입 완료\n",
      "✅ CPB - BalanceSheet_Quarter 데이터 삽입 완료\n"
     ]
    },
    {
     "name": "stderr",
     "output_type": "stream",
     "text": [
      "Processing Companies:  22%|██▏       | 912/4204 [43:54<2:44:26,  3.00s/it]"
     ]
    },
    {
     "name": "stdout",
     "output_type": "stream",
     "text": [
      "✅ CPB - CashFlow_Quarter 데이터 삽입 완료\n",
      "✅ CPF - IncomeStatement_Quarter 데이터 삽입 완료\n",
      "✅ CPF - BalanceSheet_Quarter 데이터 삽입 완료\n"
     ]
    },
    {
     "name": "stderr",
     "output_type": "stream",
     "text": [
      "Processing Companies:  22%|██▏       | 913/4204 [43:57<2:43:39,  2.98s/it]"
     ]
    },
    {
     "name": "stdout",
     "output_type": "stream",
     "text": [
      "✅ CPF - CashFlow_Quarter 데이터 삽입 완료\n",
      "✅ CPAY - IncomeStatement_Quarter 데이터 삽입 완료\n",
      "✅ CPAY - BalanceSheet_Quarter 데이터 삽입 완료\n"
     ]
    },
    {
     "name": "stderr",
     "output_type": "stream",
     "text": [
      "Processing Companies:  22%|██▏       | 914/4204 [44:00<2:43:52,  2.99s/it]"
     ]
    },
    {
     "name": "stdout",
     "output_type": "stream",
     "text": [
      "✅ CPAY - CashFlow_Quarter 데이터 삽입 완료\n",
      "✅ CPHC - IncomeStatement_Quarter 데이터 삽입 완료\n",
      "✅ CPHC - BalanceSheet_Quarter 데이터 삽입 완료\n"
     ]
    },
    {
     "name": "stderr",
     "output_type": "stream",
     "text": [
      "Processing Companies:  22%|██▏       | 915/4204 [44:03<2:41:54,  2.95s/it]"
     ]
    },
    {
     "name": "stdout",
     "output_type": "stream",
     "text": [
      "✅ CPHC - CashFlow_Quarter 데이터 삽입 완료\n",
      "✅ CPHI - IncomeStatement_Quarter 데이터 삽입 완료\n",
      "✅ CPHI - BalanceSheet_Quarter 데이터 삽입 완료\n"
     ]
    },
    {
     "name": "stderr",
     "output_type": "stream",
     "text": [
      "Processing Companies:  22%|██▏       | 916/4204 [44:06<2:44:03,  2.99s/it]"
     ]
    },
    {
     "name": "stdout",
     "output_type": "stream",
     "text": [
      "✅ CPHI - CashFlow_Quarter 데이터 삽입 완료\n",
      "✅ CPIX - IncomeStatement_Quarter 데이터 삽입 완료\n",
      "✅ CPIX - BalanceSheet_Quarter 데이터 삽입 완료\n"
     ]
    },
    {
     "name": "stderr",
     "output_type": "stream",
     "text": [
      "Processing Companies:  22%|██▏       | 917/4204 [44:09<2:43:07,  2.98s/it]"
     ]
    },
    {
     "name": "stdout",
     "output_type": "stream",
     "text": [
      "✅ CPIX - CashFlow_Quarter 데이터 삽입 완료\n",
      "✅ CPK - IncomeStatement_Quarter 데이터 삽입 완료\n",
      "✅ CPK - BalanceSheet_Quarter 데이터 삽입 완료\n"
     ]
    },
    {
     "name": "stderr",
     "output_type": "stream",
     "text": [
      "Processing Companies:  22%|██▏       | 918/4204 [44:12<2:41:54,  2.96s/it]"
     ]
    },
    {
     "name": "stdout",
     "output_type": "stream",
     "text": [
      "✅ CPK - CashFlow_Quarter 데이터 삽입 완료\n",
      "✅ CPNG - IncomeStatement_Quarter 데이터 삽입 완료\n",
      "✅ CPNG - BalanceSheet_Quarter 데이터 삽입 완료\n"
     ]
    },
    {
     "name": "stderr",
     "output_type": "stream",
     "text": [
      "Processing Companies:  22%|██▏       | 919/4204 [44:15<2:45:51,  3.03s/it]"
     ]
    },
    {
     "name": "stdout",
     "output_type": "stream",
     "text": [
      "✅ CPNG - CashFlow_Quarter 데이터 삽입 완료\n",
      "✅ CPRI - IncomeStatement_Quarter 데이터 삽입 완료\n",
      "✅ CPRI - BalanceSheet_Quarter 데이터 삽입 완료\n"
     ]
    },
    {
     "name": "stderr",
     "output_type": "stream",
     "text": [
      "Processing Companies:  22%|██▏       | 920/4204 [44:18<2:43:42,  2.99s/it]"
     ]
    },
    {
     "name": "stdout",
     "output_type": "stream",
     "text": [
      "✅ CPRI - CashFlow_Quarter 데이터 삽입 완료\n",
      "✅ CPRT - IncomeStatement_Quarter 데이터 삽입 완료\n",
      "✅ CPRT - BalanceSheet_Quarter 데이터 삽입 완료\n"
     ]
    },
    {
     "name": "stderr",
     "output_type": "stream",
     "text": [
      "Processing Companies:  22%|██▏       | 921/4204 [44:21<2:45:20,  3.02s/it]"
     ]
    },
    {
     "name": "stdout",
     "output_type": "stream",
     "text": [
      "✅ CPRT - CashFlow_Quarter 데이터 삽입 완료\n",
      "❌ IncomeStatement_Quarter 데이터 없음\n",
      "✅ CPOP - BalanceSheet_Quarter 데이터 삽입 완료\n"
     ]
    },
    {
     "name": "stderr",
     "output_type": "stream",
     "text": [
      "Processing Companies:  22%|██▏       | 922/4204 [44:24<2:40:04,  2.93s/it]"
     ]
    },
    {
     "name": "stdout",
     "output_type": "stream",
     "text": [
      "❌ CashFlow_Quarter 데이터 없음\n",
      "✅ CPRX - IncomeStatement_Quarter 데이터 삽입 완료\n",
      "✅ CPRX - BalanceSheet_Quarter 데이터 삽입 완료\n"
     ]
    },
    {
     "name": "stderr",
     "output_type": "stream",
     "text": [
      "Processing Companies:  22%|██▏       | 923/4204 [44:27<2:38:40,  2.90s/it]"
     ]
    },
    {
     "name": "stdout",
     "output_type": "stream",
     "text": [
      "✅ CPRX - CashFlow_Quarter 데이터 삽입 완료\n",
      "✅ CPT - IncomeStatement_Quarter 데이터 삽입 완료\n",
      "✅ CPT - BalanceSheet_Quarter 데이터 삽입 완료\n"
     ]
    },
    {
     "name": "stderr",
     "output_type": "stream",
     "text": [
      "Processing Companies:  22%|██▏       | 924/4204 [44:30<2:38:36,  2.90s/it]"
     ]
    },
    {
     "name": "stdout",
     "output_type": "stream",
     "text": [
      "✅ CPT - CashFlow_Quarter 데이터 삽입 완료\n",
      "✅ CPS - IncomeStatement_Quarter 데이터 삽입 완료\n",
      "✅ CPS - BalanceSheet_Quarter 데이터 삽입 완료\n"
     ]
    },
    {
     "name": "stderr",
     "output_type": "stream",
     "text": [
      "Processing Companies:  22%|██▏       | 925/4204 [44:33<2:37:40,  2.89s/it]"
     ]
    },
    {
     "name": "stdout",
     "output_type": "stream",
     "text": [
      "✅ CPS - CashFlow_Quarter 데이터 삽입 완료\n",
      "✅ CPSS - IncomeStatement_Quarter 데이터 삽입 완료\n",
      "✅ CPSS - BalanceSheet_Quarter 데이터 삽입 완료\n"
     ]
    },
    {
     "name": "stderr",
     "output_type": "stream",
     "text": [
      "Processing Companies:  22%|██▏       | 926/4204 [44:36<2:38:40,  2.90s/it]"
     ]
    },
    {
     "name": "stdout",
     "output_type": "stream",
     "text": [
      "✅ CPSS - CashFlow_Quarter 데이터 삽입 완료\n",
      "✅ CQP - IncomeStatement_Quarter 데이터 삽입 완료\n",
      "✅ CQP - BalanceSheet_Quarter 데이터 삽입 완료\n"
     ]
    },
    {
     "name": "stderr",
     "output_type": "stream",
     "text": [
      "Processing Companies:  22%|██▏       | 927/4204 [44:39<2:38:41,  2.91s/it]"
     ]
    },
    {
     "name": "stdout",
     "output_type": "stream",
     "text": [
      "✅ CQP - CashFlow_Quarter 데이터 삽입 완료\n",
      "✅ CRAI - IncomeStatement_Quarter 데이터 삽입 완료\n",
      "✅ CRAI - BalanceSheet_Quarter 데이터 삽입 완료\n"
     ]
    },
    {
     "name": "stderr",
     "output_type": "stream",
     "text": [
      "Processing Companies:  22%|██▏       | 928/4204 [44:41<2:36:50,  2.87s/it]"
     ]
    },
    {
     "name": "stdout",
     "output_type": "stream",
     "text": [
      "✅ CRAI - CashFlow_Quarter 데이터 삽입 완료\n",
      "✅ CRBU - IncomeStatement_Quarter 데이터 삽입 완료\n",
      "✅ CRBU - BalanceSheet_Quarter 데이터 삽입 완료\n"
     ]
    },
    {
     "name": "stderr",
     "output_type": "stream",
     "text": [
      "Processing Companies:  22%|██▏       | 929/4204 [44:44<2:35:48,  2.85s/it]"
     ]
    },
    {
     "name": "stdout",
     "output_type": "stream",
     "text": [
      "✅ CRBU - CashFlow_Quarter 데이터 삽입 완료\n",
      "✅ CRBP - IncomeStatement_Quarter 데이터 삽입 완료\n",
      "✅ CRBP - BalanceSheet_Quarter 데이터 삽입 완료\n"
     ]
    },
    {
     "name": "stderr",
     "output_type": "stream",
     "text": [
      "Processing Companies:  22%|██▏       | 930/4204 [44:47<2:34:55,  2.84s/it]"
     ]
    },
    {
     "name": "stdout",
     "output_type": "stream",
     "text": [
      "✅ CRBP - CashFlow_Quarter 데이터 삽입 완료\n",
      "✅ CRC - IncomeStatement_Quarter 데이터 삽입 완료\n",
      "✅ CRC - BalanceSheet_Quarter 데이터 삽입 완료\n"
     ]
    },
    {
     "name": "stderr",
     "output_type": "stream",
     "text": [
      "Processing Companies:  22%|██▏       | 931/4204 [44:50<2:34:13,  2.83s/it]"
     ]
    },
    {
     "name": "stdout",
     "output_type": "stream",
     "text": [
      "✅ CRC - CashFlow_Quarter 데이터 삽입 완료\n",
      "✅ CRDL - IncomeStatement_Quarter 데이터 삽입 완료\n",
      "✅ CRDL - BalanceSheet_Quarter 데이터 삽입 완료\n"
     ]
    },
    {
     "name": "stderr",
     "output_type": "stream",
     "text": [
      "Processing Companies:  22%|██▏       | 932/4204 [44:52<2:32:53,  2.80s/it]"
     ]
    },
    {
     "name": "stdout",
     "output_type": "stream",
     "text": [
      "✅ CRDL - CashFlow_Quarter 데이터 삽입 완료\n",
      "✅ CRDF - IncomeStatement_Quarter 데이터 삽입 완료\n",
      "✅ CRDF - BalanceSheet_Quarter 데이터 삽입 완료\n"
     ]
    },
    {
     "name": "stderr",
     "output_type": "stream",
     "text": [
      "Processing Companies:  22%|██▏       | 933/4204 [44:55<2:31:43,  2.78s/it]"
     ]
    },
    {
     "name": "stdout",
     "output_type": "stream",
     "text": [
      "✅ CRDF - CashFlow_Quarter 데이터 삽입 완료\n",
      "✅ CRDO - IncomeStatement_Quarter 데이터 삽입 완료\n",
      "✅ CRDO - BalanceSheet_Quarter 데이터 삽입 완료\n"
     ]
    },
    {
     "name": "stderr",
     "output_type": "stream",
     "text": [
      "Processing Companies:  22%|██▏       | 934/4204 [44:58<2:32:03,  2.79s/it]"
     ]
    },
    {
     "name": "stdout",
     "output_type": "stream",
     "text": [
      "✅ CRDO - CashFlow_Quarter 데이터 삽입 완료\n",
      "✅ CREG - IncomeStatement_Quarter 데이터 삽입 완료\n",
      "✅ CREG - BalanceSheet_Quarter 데이터 삽입 완료\n"
     ]
    },
    {
     "name": "stderr",
     "output_type": "stream",
     "text": [
      "Processing Companies:  22%|██▏       | 935/4204 [45:01<2:31:57,  2.79s/it]"
     ]
    },
    {
     "name": "stdout",
     "output_type": "stream",
     "text": [
      "✅ CREG - CashFlow_Quarter 데이터 삽입 완료\n",
      "✅ CRESY - IncomeStatement_Quarter 데이터 삽입 완료\n",
      "✅ CRESY - BalanceSheet_Quarter 데이터 삽입 완료\n"
     ]
    },
    {
     "name": "stderr",
     "output_type": "stream",
     "text": [
      "Processing Companies:  22%|██▏       | 936/4204 [45:04<2:42:06,  2.98s/it]"
     ]
    },
    {
     "name": "stdout",
     "output_type": "stream",
     "text": [
      "✅ CRESY - CashFlow_Quarter 데이터 삽입 완료\n",
      "✅ CREX - IncomeStatement_Quarter 데이터 삽입 완료\n",
      "✅ CREX - BalanceSheet_Quarter 데이터 삽입 완료\n"
     ]
    },
    {
     "name": "stderr",
     "output_type": "stream",
     "text": [
      "Processing Companies:  22%|██▏       | 937/4204 [45:07<2:45:46,  3.04s/it]"
     ]
    },
    {
     "name": "stdout",
     "output_type": "stream",
     "text": [
      "✅ CREX - CashFlow_Quarter 데이터 삽입 완료\n",
      "✅ CRGY - IncomeStatement_Quarter 데이터 삽입 완료\n",
      "✅ CRGY - BalanceSheet_Quarter 데이터 삽입 완료\n"
     ]
    },
    {
     "name": "stderr",
     "output_type": "stream",
     "text": [
      "Processing Companies:  22%|██▏       | 938/4204 [45:10<2:43:34,  3.01s/it]"
     ]
    },
    {
     "name": "stdout",
     "output_type": "stream",
     "text": [
      "✅ CRGY - CashFlow_Quarter 데이터 삽입 완료\n",
      "✅ CRI - IncomeStatement_Quarter 데이터 삽입 완료\n",
      "✅ CRI - BalanceSheet_Quarter 데이터 삽입 완료\n"
     ]
    },
    {
     "name": "stderr",
     "output_type": "stream",
     "text": [
      "Processing Companies:  22%|██▏       | 939/4204 [45:14<2:48:49,  3.10s/it]"
     ]
    },
    {
     "name": "stdout",
     "output_type": "stream",
     "text": [
      "✅ CRI - CashFlow_Quarter 데이터 삽입 완료\n",
      "✅ CRIS - IncomeStatement_Quarter 데이터 삽입 완료\n",
      "✅ CRIS - BalanceSheet_Quarter 데이터 삽입 완료\n"
     ]
    },
    {
     "name": "stderr",
     "output_type": "stream",
     "text": [
      "Processing Companies:  22%|██▏       | 940/4204 [45:17<2:44:44,  3.03s/it]"
     ]
    },
    {
     "name": "stdout",
     "output_type": "stream",
     "text": [
      "✅ CRIS - CashFlow_Quarter 데이터 삽입 완료\n",
      "✅ CRK - IncomeStatement_Quarter 데이터 삽입 완료\n",
      "✅ CRK - BalanceSheet_Quarter 데이터 삽입 완료\n"
     ]
    },
    {
     "name": "stderr",
     "output_type": "stream",
     "text": [
      "Processing Companies:  22%|██▏       | 941/4204 [45:19<2:41:32,  2.97s/it]"
     ]
    },
    {
     "name": "stdout",
     "output_type": "stream",
     "text": [
      "✅ CRK - CashFlow_Quarter 데이터 삽입 완료\n",
      "❌ IncomeStatement_Quarter 데이터 없음\n",
      "✅ CRML - BalanceSheet_Quarter 데이터 삽입 완료\n"
     ]
    },
    {
     "name": "stderr",
     "output_type": "stream",
     "text": [
      "Processing Companies:  22%|██▏       | 942/4204 [45:22<2:38:10,  2.91s/it]"
     ]
    },
    {
     "name": "stdout",
     "output_type": "stream",
     "text": [
      "❌ CashFlow_Quarter 데이터 없음\n",
      "✅ CRMD - IncomeStatement_Quarter 데이터 삽입 완료\n",
      "✅ CRMD - BalanceSheet_Quarter 데이터 삽입 완료\n"
     ]
    },
    {
     "name": "stderr",
     "output_type": "stream",
     "text": [
      "Processing Companies:  22%|██▏       | 943/4204 [45:25<2:37:01,  2.89s/it]"
     ]
    },
    {
     "name": "stdout",
     "output_type": "stream",
     "text": [
      "✅ CRMD - CashFlow_Quarter 데이터 삽입 완료\n",
      "✅ CRM - IncomeStatement_Quarter 데이터 삽입 완료\n",
      "✅ CRM - BalanceSheet_Quarter 데이터 삽입 완료\n"
     ]
    },
    {
     "name": "stderr",
     "output_type": "stream",
     "text": [
      "Processing Companies:  22%|██▏       | 944/4204 [45:28<2:36:21,  2.88s/it]"
     ]
    },
    {
     "name": "stdout",
     "output_type": "stream",
     "text": [
      "✅ CRM - CashFlow_Quarter 데이터 삽입 완료\n",
      "✅ CRMT - IncomeStatement_Quarter 데이터 삽입 완료\n",
      "✅ CRMT - BalanceSheet_Quarter 데이터 삽입 완료\n"
     ]
    },
    {
     "name": "stderr",
     "output_type": "stream",
     "text": [
      "Processing Companies:  22%|██▏       | 945/4204 [45:31<2:35:51,  2.87s/it]"
     ]
    },
    {
     "name": "stdout",
     "output_type": "stream",
     "text": [
      "✅ CRMT - CashFlow_Quarter 데이터 삽입 완료\n",
      "✅ CRNT - IncomeStatement_Quarter 데이터 삽입 완료\n",
      "✅ CRNT - BalanceSheet_Quarter 데이터 삽입 완료\n"
     ]
    },
    {
     "name": "stderr",
     "output_type": "stream",
     "text": [
      "Processing Companies:  23%|██▎       | 946/4204 [45:34<2:35:29,  2.86s/it]"
     ]
    },
    {
     "name": "stdout",
     "output_type": "stream",
     "text": [
      "✅ CRNT - CashFlow_Quarter 데이터 삽입 완료\n",
      "✅ CRNC - IncomeStatement_Quarter 데이터 삽입 완료\n",
      "✅ CRNC - BalanceSheet_Quarter 데이터 삽입 완료\n"
     ]
    },
    {
     "name": "stderr",
     "output_type": "stream",
     "text": [
      "Processing Companies:  23%|██▎       | 947/4204 [45:36<2:36:12,  2.88s/it]"
     ]
    },
    {
     "name": "stdout",
     "output_type": "stream",
     "text": [
      "✅ CRNC - CashFlow_Quarter 데이터 삽입 완료\n",
      "✅ CRNX - IncomeStatement_Quarter 데이터 삽입 완료\n",
      "✅ CRNX - BalanceSheet_Quarter 데이터 삽입 완료\n"
     ]
    },
    {
     "name": "stderr",
     "output_type": "stream",
     "text": [
      "Processing Companies:  23%|██▎       | 948/4204 [45:39<2:37:08,  2.90s/it]"
     ]
    },
    {
     "name": "stdout",
     "output_type": "stream",
     "text": [
      "✅ CRNX - CashFlow_Quarter 데이터 삽입 완료\n",
      "✅ CROX - IncomeStatement_Quarter 데이터 삽입 완료\n",
      "✅ CROX - BalanceSheet_Quarter 데이터 삽입 완료\n"
     ]
    },
    {
     "name": "stderr",
     "output_type": "stream",
     "text": [
      "Processing Companies:  23%|██▎       | 949/4204 [45:42<2:34:44,  2.85s/it]"
     ]
    },
    {
     "name": "stdout",
     "output_type": "stream",
     "text": [
      "✅ CROX - CashFlow_Quarter 데이터 삽입 완료\n",
      "✅ CRON - IncomeStatement_Quarter 데이터 삽입 완료\n",
      "✅ CRON - BalanceSheet_Quarter 데이터 삽입 완료\n"
     ]
    },
    {
     "name": "stderr",
     "output_type": "stream",
     "text": [
      "Processing Companies:  23%|██▎       | 950/4204 [45:45<2:36:13,  2.88s/it]"
     ]
    },
    {
     "name": "stdout",
     "output_type": "stream",
     "text": [
      "✅ CRON - CashFlow_Quarter 데이터 삽입 완료\n",
      "✅ CRSR - IncomeStatement_Quarter 데이터 삽입 완료\n",
      "✅ CRSR - BalanceSheet_Quarter 데이터 삽입 완료\n"
     ]
    },
    {
     "name": "stderr",
     "output_type": "stream",
     "text": [
      "Processing Companies:  23%|██▎       | 951/4204 [45:48<2:35:45,  2.87s/it]"
     ]
    },
    {
     "name": "stdout",
     "output_type": "stream",
     "text": [
      "✅ CRSR - CashFlow_Quarter 데이터 삽입 완료\n",
      "✅ CRT - IncomeStatement_Quarter 데이터 삽입 완료\n",
      "✅ CRT - BalanceSheet_Quarter 데이터 삽입 완료\n"
     ]
    },
    {
     "name": "stderr",
     "output_type": "stream",
     "text": [
      "Processing Companies:  23%|██▎       | 952/4204 [45:51<2:34:28,  2.85s/it]"
     ]
    },
    {
     "name": "stdout",
     "output_type": "stream",
     "text": [
      "❌ CashFlow_Quarter 데이터 없음\n",
      "✅ CRTO - IncomeStatement_Quarter 데이터 삽입 완료\n",
      "✅ CRTO - BalanceSheet_Quarter 데이터 삽입 완료\n"
     ]
    },
    {
     "name": "stderr",
     "output_type": "stream",
     "text": [
      "Processing Companies:  23%|██▎       | 953/4204 [45:54<2:35:16,  2.87s/it]"
     ]
    },
    {
     "name": "stdout",
     "output_type": "stream",
     "text": [
      "✅ CRTO - CashFlow_Quarter 데이터 삽입 완료\n",
      "✅ CRUS - IncomeStatement_Quarter 데이터 삽입 완료\n",
      "✅ CRUS - BalanceSheet_Quarter 데이터 삽입 완료\n"
     ]
    },
    {
     "name": "stderr",
     "output_type": "stream",
     "text": [
      "Processing Companies:  23%|██▎       | 954/4204 [45:57<2:37:24,  2.91s/it]"
     ]
    },
    {
     "name": "stdout",
     "output_type": "stream",
     "text": [
      "✅ CRUS - CashFlow_Quarter 데이터 삽입 완료\n",
      "✅ CRVO - IncomeStatement_Quarter 데이터 삽입 완료\n",
      "✅ CRVO - BalanceSheet_Quarter 데이터 삽입 완료\n"
     ]
    },
    {
     "name": "stderr",
     "output_type": "stream",
     "text": [
      "Processing Companies:  23%|██▎       | 955/4204 [45:59<2:35:34,  2.87s/it]"
     ]
    },
    {
     "name": "stdout",
     "output_type": "stream",
     "text": [
      "✅ CRVO - CashFlow_Quarter 데이터 삽입 완료\n",
      "✅ CRVL - IncomeStatement_Quarter 데이터 삽입 완료\n",
      "✅ CRVL - BalanceSheet_Quarter 데이터 삽입 완료\n"
     ]
    },
    {
     "name": "stderr",
     "output_type": "stream",
     "text": [
      "Processing Companies:  23%|██▎       | 956/4204 [46:02<2:33:42,  2.84s/it]"
     ]
    },
    {
     "name": "stdout",
     "output_type": "stream",
     "text": [
      "✅ CRVL - CashFlow_Quarter 데이터 삽입 완료\n",
      "✅ CRVS - IncomeStatement_Quarter 데이터 삽입 완료\n",
      "✅ CRVS - BalanceSheet_Quarter 데이터 삽입 완료\n"
     ]
    },
    {
     "name": "stderr",
     "output_type": "stream",
     "text": [
      "Processing Companies:  23%|██▎       | 957/4204 [46:05<2:33:34,  2.84s/it]"
     ]
    },
    {
     "name": "stdout",
     "output_type": "stream",
     "text": [
      "✅ CRVS - CashFlow_Quarter 데이터 삽입 완료\n",
      "✅ CRWD - IncomeStatement_Quarter 데이터 삽입 완료\n",
      "✅ CRWD - BalanceSheet_Quarter 데이터 삽입 완료\n"
     ]
    },
    {
     "name": "stderr",
     "output_type": "stream",
     "text": [
      "Processing Companies:  23%|██▎       | 958/4204 [46:08<2:33:44,  2.84s/it]"
     ]
    },
    {
     "name": "stdout",
     "output_type": "stream",
     "text": [
      "✅ CRWD - CashFlow_Quarter 데이터 삽입 완료\n",
      "✅ CRWS - IncomeStatement_Quarter 데이터 삽입 완료\n",
      "✅ CRWS - BalanceSheet_Quarter 데이터 삽입 완료\n"
     ]
    },
    {
     "name": "stderr",
     "output_type": "stream",
     "text": [
      "Processing Companies:  23%|██▎       | 959/4204 [46:11<2:34:46,  2.86s/it]"
     ]
    },
    {
     "name": "stdout",
     "output_type": "stream",
     "text": [
      "✅ CRWS - CashFlow_Quarter 데이터 삽입 완료\n",
      "✅ CSAN - IncomeStatement_Quarter 데이터 삽입 완료\n",
      "✅ CSAN - BalanceSheet_Quarter 데이터 삽입 완료\n"
     ]
    },
    {
     "name": "stderr",
     "output_type": "stream",
     "text": [
      "Processing Companies:  23%|██▎       | 960/4204 [46:14<2:40:12,  2.96s/it]"
     ]
    },
    {
     "name": "stdout",
     "output_type": "stream",
     "text": [
      "✅ CSAN - CashFlow_Quarter 데이터 삽입 완료\n",
      "✅ CSBR - IncomeStatement_Quarter 데이터 삽입 완료\n",
      "✅ CSBR - BalanceSheet_Quarter 데이터 삽입 완료\n"
     ]
    },
    {
     "name": "stderr",
     "output_type": "stream",
     "text": [
      "Processing Companies:  23%|██▎       | 961/4204 [46:17<2:36:47,  2.90s/it]"
     ]
    },
    {
     "name": "stdout",
     "output_type": "stream",
     "text": [
      "✅ CSBR - CashFlow_Quarter 데이터 삽입 완료\n",
      "✅ CSGP - IncomeStatement_Quarter 데이터 삽입 완료\n",
      "✅ CSGP - BalanceSheet_Quarter 데이터 삽입 완료\n"
     ]
    },
    {
     "name": "stderr",
     "output_type": "stream",
     "text": [
      "Processing Companies:  23%|██▎       | 962/4204 [46:20<2:35:04,  2.87s/it]"
     ]
    },
    {
     "name": "stdout",
     "output_type": "stream",
     "text": [
      "✅ CSGP - CashFlow_Quarter 데이터 삽입 완료\n",
      "✅ CSCI - IncomeStatement_Quarter 데이터 삽입 완료\n",
      "✅ CSCI - BalanceSheet_Quarter 데이터 삽입 완료\n"
     ]
    },
    {
     "name": "stderr",
     "output_type": "stream",
     "text": [
      "Processing Companies:  23%|██▎       | 963/4204 [46:22<2:32:29,  2.82s/it]"
     ]
    },
    {
     "name": "stdout",
     "output_type": "stream",
     "text": [
      "✅ CSCI - CashFlow_Quarter 데이터 삽입 완료\n",
      "✅ CSCO - IncomeStatement_Quarter 데이터 삽입 완료\n",
      "✅ CSCO - BalanceSheet_Quarter 데이터 삽입 완료\n"
     ]
    },
    {
     "name": "stderr",
     "output_type": "stream",
     "text": [
      "Processing Companies:  23%|██▎       | 964/4204 [46:25<2:32:01,  2.82s/it]"
     ]
    },
    {
     "name": "stdout",
     "output_type": "stream",
     "text": [
      "✅ CSCO - CashFlow_Quarter 데이터 삽입 완료\n",
      "✅ CSGS - IncomeStatement_Quarter 데이터 삽입 완료\n",
      "✅ CSGS - BalanceSheet_Quarter 데이터 삽입 완료\n"
     ]
    },
    {
     "name": "stderr",
     "output_type": "stream",
     "text": [
      "Processing Companies:  23%|██▎       | 965/4204 [46:28<2:31:27,  2.81s/it]"
     ]
    },
    {
     "name": "stdout",
     "output_type": "stream",
     "text": [
      "✅ CSGS - CashFlow_Quarter 데이터 삽입 완료\n",
      "✅ CSL - IncomeStatement_Quarter 데이터 삽입 완료\n",
      "✅ CSL - BalanceSheet_Quarter 데이터 삽입 완료\n"
     ]
    },
    {
     "name": "stderr",
     "output_type": "stream",
     "text": [
      "Processing Companies:  23%|██▎       | 966/4204 [46:31<2:39:00,  2.95s/it]"
     ]
    },
    {
     "name": "stdout",
     "output_type": "stream",
     "text": [
      "✅ CSL - CashFlow_Quarter 데이터 삽입 완료\n",
      "✅ CSPI - IncomeStatement_Quarter 데이터 삽입 완료\n",
      "✅ CSPI - BalanceSheet_Quarter 데이터 삽입 완료\n"
     ]
    },
    {
     "name": "stderr",
     "output_type": "stream",
     "text": [
      "Processing Companies:  23%|██▎       | 967/4204 [46:34<2:37:02,  2.91s/it]"
     ]
    },
    {
     "name": "stdout",
     "output_type": "stream",
     "text": [
      "✅ CSPI - CashFlow_Quarter 데이터 삽입 완료\n",
      "✅ CSIQ - IncomeStatement_Quarter 데이터 삽입 완료\n",
      "✅ CSIQ - BalanceSheet_Quarter 데이터 삽입 완료\n"
     ]
    },
    {
     "name": "stderr",
     "output_type": "stream",
     "text": [
      "Processing Companies:  23%|██▎       | 968/4204 [46:37<2:38:21,  2.94s/it]"
     ]
    },
    {
     "name": "stdout",
     "output_type": "stream",
     "text": [
      "✅ CSIQ - CashFlow_Quarter 데이터 삽입 완료\n",
      "✅ CSTL - IncomeStatement_Quarter 데이터 삽입 완료\n",
      "✅ CSTL - BalanceSheet_Quarter 데이터 삽입 완료\n"
     ]
    },
    {
     "name": "stderr",
     "output_type": "stream",
     "text": [
      "Processing Companies:  23%|██▎       | 969/4204 [46:40<2:34:42,  2.87s/it]"
     ]
    },
    {
     "name": "stdout",
     "output_type": "stream",
     "text": [
      "✅ CSTL - CashFlow_Quarter 데이터 삽입 완료\n",
      "✅ CSTE - IncomeStatement_Quarter 데이터 삽입 완료\n",
      "✅ CSTE - BalanceSheet_Quarter 데이터 삽입 완료\n"
     ]
    },
    {
     "name": "stderr",
     "output_type": "stream",
     "text": [
      "Processing Companies:  23%|██▎       | 970/4204 [46:43<2:34:59,  2.88s/it]"
     ]
    },
    {
     "name": "stdout",
     "output_type": "stream",
     "text": [
      "✅ CSTE - CashFlow_Quarter 데이터 삽입 완료\n"
     ]
    },
    {
     "name": "stderr",
     "output_type": "stream",
     "text": [
      "$CSWI: possibly delisted; no price data found  (period=5d)\n"
     ]
    },
    {
     "name": "stdout",
     "output_type": "stream",
     "text": [
      "✅ CSWI - IncomeStatement_Quarter 데이터 삽입 완료\n",
      "✅ CSWI - BalanceSheet_Quarter 데이터 삽입 완료\n"
     ]
    },
    {
     "name": "stderr",
     "output_type": "stream",
     "text": [
      "Processing Companies:  23%|██▎       | 971/4204 [46:45<2:33:46,  2.85s/it]"
     ]
    },
    {
     "name": "stdout",
     "output_type": "stream",
     "text": [
      "✅ CSWI - CashFlow_Quarter 데이터 삽입 완료\n",
      "✅ CTAS - IncomeStatement_Quarter 데이터 삽입 완료\n",
      "✅ CTAS - BalanceSheet_Quarter 데이터 삽입 완료\n"
     ]
    },
    {
     "name": "stderr",
     "output_type": "stream",
     "text": [
      "Processing Companies:  23%|██▎       | 972/4204 [46:48<2:34:29,  2.87s/it]"
     ]
    },
    {
     "name": "stdout",
     "output_type": "stream",
     "text": [
      "✅ CTAS - CashFlow_Quarter 데이터 삽입 완료\n",
      "✅ CSX - IncomeStatement_Quarter 데이터 삽입 완료\n",
      "✅ CSX - BalanceSheet_Quarter 데이터 삽입 완료\n"
     ]
    },
    {
     "name": "stderr",
     "output_type": "stream",
     "text": [
      "Processing Companies:  23%|██▎       | 973/4204 [46:51<2:34:51,  2.88s/it]"
     ]
    },
    {
     "name": "stdout",
     "output_type": "stream",
     "text": [
      "✅ CSX - CashFlow_Quarter 데이터 삽입 완료\n",
      "✅ CTBI - IncomeStatement_Quarter 데이터 삽입 완료\n",
      "✅ CTBI - BalanceSheet_Quarter 데이터 삽입 완료\n"
     ]
    },
    {
     "name": "stderr",
     "output_type": "stream",
     "text": [
      "Processing Companies:  23%|██▎       | 974/4204 [46:54<2:34:23,  2.87s/it]"
     ]
    },
    {
     "name": "stdout",
     "output_type": "stream",
     "text": [
      "✅ CTBI - CashFlow_Quarter 데이터 삽입 완료\n",
      "✅ CTEV - IncomeStatement_Quarter 데이터 삽입 완료\n",
      "✅ CTEV - BalanceSheet_Quarter 데이터 삽입 완료\n"
     ]
    },
    {
     "name": "stderr",
     "output_type": "stream",
     "text": [
      "Processing Companies:  23%|██▎       | 975/4204 [46:57<2:34:57,  2.88s/it]"
     ]
    },
    {
     "name": "stdout",
     "output_type": "stream",
     "text": [
      "✅ CTEV - CashFlow_Quarter 데이터 삽입 완료\n",
      "✅ CTKB - IncomeStatement_Quarter 데이터 삽입 완료\n",
      "✅ CTKB - BalanceSheet_Quarter 데이터 삽입 완료\n"
     ]
    },
    {
     "name": "stderr",
     "output_type": "stream",
     "text": [
      "Processing Companies:  23%|██▎       | 976/4204 [47:00<2:35:10,  2.88s/it]"
     ]
    },
    {
     "name": "stdout",
     "output_type": "stream",
     "text": [
      "✅ CTKB - CashFlow_Quarter 데이터 삽입 완료\n",
      "✅ CTGO - IncomeStatement_Quarter 데이터 삽입 완료\n",
      "✅ CTGO - BalanceSheet_Quarter 데이터 삽입 완료\n"
     ]
    },
    {
     "name": "stderr",
     "output_type": "stream",
     "text": [
      "Processing Companies:  23%|██▎       | 977/4204 [47:03<2:38:44,  2.95s/it]"
     ]
    },
    {
     "name": "stdout",
     "output_type": "stream",
     "text": [
      "✅ CTGO - CashFlow_Quarter 데이터 삽입 완료\n",
      "✅ CTMX - IncomeStatement_Quarter 데이터 삽입 완료\n",
      "✅ CTMX - BalanceSheet_Quarter 데이터 삽입 완료\n"
     ]
    },
    {
     "name": "stderr",
     "output_type": "stream",
     "text": [
      "Processing Companies:  23%|██▎       | 978/4204 [47:06<2:37:13,  2.92s/it]"
     ]
    },
    {
     "name": "stdout",
     "output_type": "stream",
     "text": [
      "✅ CTMX - CashFlow_Quarter 데이터 삽입 완료\n",
      "✅ CTLP - IncomeStatement_Quarter 데이터 삽입 완료\n",
      "✅ CTLP - BalanceSheet_Quarter 데이터 삽입 완료\n"
     ]
    },
    {
     "name": "stderr",
     "output_type": "stream",
     "text": [
      "Processing Companies:  23%|██▎       | 979/4204 [47:09<2:35:46,  2.90s/it]"
     ]
    },
    {
     "name": "stdout",
     "output_type": "stream",
     "text": [
      "✅ CTLP - CashFlow_Quarter 데이터 삽입 완료\n",
      "✅ CTRE - IncomeStatement_Quarter 데이터 삽입 완료\n",
      "✅ CTRE - BalanceSheet_Quarter 데이터 삽입 완료\n"
     ]
    },
    {
     "name": "stderr",
     "output_type": "stream",
     "text": [
      "Processing Companies:  23%|██▎       | 980/4204 [47:11<2:35:41,  2.90s/it]"
     ]
    },
    {
     "name": "stdout",
     "output_type": "stream",
     "text": [
      "✅ CTRE - CashFlow_Quarter 데이터 삽입 완료\n",
      "✅ CTRA - IncomeStatement_Quarter 데이터 삽입 완료\n",
      "✅ CTRA - BalanceSheet_Quarter 데이터 삽입 완료\n"
     ]
    },
    {
     "name": "stderr",
     "output_type": "stream",
     "text": [
      "Processing Companies:  23%|██▎       | 981/4204 [47:14<2:36:28,  2.91s/it]"
     ]
    },
    {
     "name": "stdout",
     "output_type": "stream",
     "text": [
      "✅ CTRA - CashFlow_Quarter 데이터 삽입 완료\n",
      "✅ CTO - IncomeStatement_Quarter 데이터 삽입 완료\n",
      "✅ CTO - BalanceSheet_Quarter 데이터 삽입 완료\n"
     ]
    },
    {
     "name": "stderr",
     "output_type": "stream",
     "text": [
      "Processing Companies:  23%|██▎       | 982/4204 [47:17<2:38:42,  2.96s/it]"
     ]
    },
    {
     "name": "stdout",
     "output_type": "stream",
     "text": [
      "✅ CTO - CashFlow_Quarter 데이터 삽입 완료\n",
      "✅ CTRN - IncomeStatement_Quarter 데이터 삽입 완료\n",
      "✅ CTRN - BalanceSheet_Quarter 데이터 삽입 완료\n"
     ]
    },
    {
     "name": "stderr",
     "output_type": "stream",
     "text": [
      "Processing Companies:  23%|██▎       | 983/4204 [47:20<2:34:49,  2.88s/it]"
     ]
    },
    {
     "name": "stdout",
     "output_type": "stream",
     "text": [
      "✅ CTRN - CashFlow_Quarter 데이터 삽입 완료\n",
      "✅ CTSH - IncomeStatement_Quarter 데이터 삽입 완료\n",
      "✅ CTSH - BalanceSheet_Quarter 데이터 삽입 완료\n"
     ]
    },
    {
     "name": "stderr",
     "output_type": "stream",
     "text": [
      "Processing Companies:  23%|██▎       | 984/4204 [47:23<2:36:26,  2.92s/it]"
     ]
    },
    {
     "name": "stdout",
     "output_type": "stream",
     "text": [
      "✅ CTSH - CashFlow_Quarter 데이터 삽입 완료\n",
      "✅ CTSO - IncomeStatement_Quarter 데이터 삽입 완료\n",
      "✅ CTSO - BalanceSheet_Quarter 데이터 삽입 완료\n"
     ]
    },
    {
     "name": "stderr",
     "output_type": "stream",
     "text": [
      "Processing Companies:  23%|██▎       | 985/4204 [47:26<2:37:45,  2.94s/it]"
     ]
    },
    {
     "name": "stdout",
     "output_type": "stream",
     "text": [
      "✅ CTSO - CashFlow_Quarter 데이터 삽입 완료\n",
      "✅ CTVA - IncomeStatement_Quarter 데이터 삽입 완료\n",
      "✅ CTVA - BalanceSheet_Quarter 데이터 삽입 완료\n"
     ]
    },
    {
     "name": "stderr",
     "output_type": "stream",
     "text": [
      "Processing Companies:  23%|██▎       | 986/4204 [47:29<2:37:35,  2.94s/it]"
     ]
    },
    {
     "name": "stdout",
     "output_type": "stream",
     "text": [
      "✅ CTVA - CashFlow_Quarter 데이터 삽입 완료\n",
      "✅ CTXR - IncomeStatement_Quarter 데이터 삽입 완료\n",
      "✅ CTXR - BalanceSheet_Quarter 데이터 삽입 완료\n"
     ]
    },
    {
     "name": "stderr",
     "output_type": "stream",
     "text": [
      "Processing Companies:  23%|██▎       | 987/4204 [47:32<2:36:33,  2.92s/it]"
     ]
    },
    {
     "name": "stdout",
     "output_type": "stream",
     "text": [
      "✅ CTXR - CashFlow_Quarter 데이터 삽입 완료\n",
      "✅ CUBI - IncomeStatement_Quarter 데이터 삽입 완료\n",
      "✅ CUBI - BalanceSheet_Quarter 데이터 삽입 완료\n"
     ]
    },
    {
     "name": "stderr",
     "output_type": "stream",
     "text": [
      "Processing Companies:  24%|██▎       | 988/4204 [47:35<2:35:08,  2.89s/it]"
     ]
    },
    {
     "name": "stdout",
     "output_type": "stream",
     "text": [
      "✅ CUBI - CashFlow_Quarter 데이터 삽입 완료\n",
      "✅ CUK - IncomeStatement_Quarter 데이터 삽입 완료\n",
      "✅ CUK - BalanceSheet_Quarter 데이터 삽입 완료\n"
     ]
    },
    {
     "name": "stderr",
     "output_type": "stream",
     "text": [
      "Processing Companies:  24%|██▎       | 989/4204 [47:38<2:35:04,  2.89s/it]"
     ]
    },
    {
     "name": "stdout",
     "output_type": "stream",
     "text": [
      "✅ CUK - CashFlow_Quarter 데이터 삽입 완료\n",
      "✅ CUE - IncomeStatement_Quarter 데이터 삽입 완료\n",
      "✅ CUE - BalanceSheet_Quarter 데이터 삽입 완료\n"
     ]
    },
    {
     "name": "stderr",
     "output_type": "stream",
     "text": [
      "Processing Companies:  24%|██▎       | 990/4204 [47:41<2:35:11,  2.90s/it]"
     ]
    },
    {
     "name": "stdout",
     "output_type": "stream",
     "text": [
      "✅ CUE - CashFlow_Quarter 데이터 삽입 완료\n",
      "✅ CULP - IncomeStatement_Quarter 데이터 삽입 완료\n",
      "✅ CULP - BalanceSheet_Quarter 데이터 삽입 완료\n"
     ]
    },
    {
     "name": "stderr",
     "output_type": "stream",
     "text": [
      "Processing Companies:  24%|██▎       | 991/4204 [47:44<2:36:38,  2.93s/it]"
     ]
    },
    {
     "name": "stdout",
     "output_type": "stream",
     "text": [
      "✅ CULP - CashFlow_Quarter 데이터 삽입 완료\n",
      "✅ CURI - IncomeStatement_Quarter 데이터 삽입 완료\n",
      "✅ CURI - BalanceSheet_Quarter 데이터 삽입 완료\n"
     ]
    },
    {
     "name": "stderr",
     "output_type": "stream",
     "text": [
      "Processing Companies:  24%|██▎       | 992/4204 [47:47<2:36:16,  2.92s/it]"
     ]
    },
    {
     "name": "stdout",
     "output_type": "stream",
     "text": [
      "✅ CURI - CashFlow_Quarter 데이터 삽입 완료\n",
      "✅ CUZ - IncomeStatement_Quarter 데이터 삽입 완료\n",
      "✅ CUZ - BalanceSheet_Quarter 데이터 삽입 완료\n"
     ]
    },
    {
     "name": "stderr",
     "output_type": "stream",
     "text": [
      "Processing Companies:  24%|██▎       | 993/4204 [47:49<2:35:02,  2.90s/it]"
     ]
    },
    {
     "name": "stdout",
     "output_type": "stream",
     "text": [
      "✅ CUZ - CashFlow_Quarter 데이터 삽입 완료\n",
      "✅ CURV - IncomeStatement_Quarter 데이터 삽입 완료\n",
      "✅ CURV - BalanceSheet_Quarter 데이터 삽입 완료\n"
     ]
    },
    {
     "name": "stderr",
     "output_type": "stream",
     "text": [
      "Processing Companies:  24%|██▎       | 994/4204 [47:52<2:34:15,  2.88s/it]"
     ]
    },
    {
     "name": "stdout",
     "output_type": "stream",
     "text": [
      "✅ CURV - CashFlow_Quarter 데이터 삽입 완료\n",
      "✅ CVAC - IncomeStatement_Quarter 데이터 삽입 완료\n",
      "✅ CVAC - BalanceSheet_Quarter 데이터 삽입 완료\n"
     ]
    },
    {
     "name": "stderr",
     "output_type": "stream",
     "text": [
      "Processing Companies:  24%|██▎       | 995/4204 [47:55<2:33:46,  2.88s/it]"
     ]
    },
    {
     "name": "stdout",
     "output_type": "stream",
     "text": [
      "✅ CVAC - CashFlow_Quarter 데이터 삽입 완료\n",
      "✅ CVBF - IncomeStatement_Quarter 데이터 삽입 완료\n",
      "✅ CVBF - BalanceSheet_Quarter 데이터 삽입 완료\n"
     ]
    },
    {
     "name": "stderr",
     "output_type": "stream",
     "text": [
      "Processing Companies:  24%|██▎       | 996/4204 [47:58<2:33:15,  2.87s/it]"
     ]
    },
    {
     "name": "stdout",
     "output_type": "stream",
     "text": [
      "✅ CVBF - CashFlow_Quarter 데이터 삽입 완료\n",
      "✅ CVCO - IncomeStatement_Quarter 데이터 삽입 완료\n",
      "✅ CVCO - BalanceSheet_Quarter 데이터 삽입 완료\n"
     ]
    },
    {
     "name": "stderr",
     "output_type": "stream",
     "text": [
      "Processing Companies:  24%|██▎       | 997/4204 [48:01<2:32:13,  2.85s/it]"
     ]
    },
    {
     "name": "stdout",
     "output_type": "stream",
     "text": [
      "✅ CVCO - CashFlow_Quarter 데이터 삽입 완료\n",
      "✅ CVEO - IncomeStatement_Quarter 데이터 삽입 완료\n",
      "✅ CVEO - BalanceSheet_Quarter 데이터 삽입 완료\n"
     ]
    },
    {
     "name": "stderr",
     "output_type": "stream",
     "text": [
      "Processing Companies:  24%|██▎       | 998/4204 [48:04<2:37:08,  2.94s/it]"
     ]
    },
    {
     "name": "stdout",
     "output_type": "stream",
     "text": [
      "✅ CVEO - CashFlow_Quarter 데이터 삽입 완료\n",
      "✅ CVE - IncomeStatement_Quarter 데이터 삽입 완료\n",
      "✅ CVE - BalanceSheet_Quarter 데이터 삽입 완료\n"
     ]
    },
    {
     "name": "stderr",
     "output_type": "stream",
     "text": [
      "Processing Companies:  24%|██▍       | 999/4204 [48:07<2:36:40,  2.93s/it]"
     ]
    },
    {
     "name": "stdout",
     "output_type": "stream",
     "text": [
      "✅ CVE - CashFlow_Quarter 데이터 삽입 완료\n",
      "✅ CVI - IncomeStatement_Quarter 데이터 삽입 완료\n",
      "✅ CVI - BalanceSheet_Quarter 데이터 삽입 완료\n"
     ]
    },
    {
     "name": "stderr",
     "output_type": "stream",
     "text": [
      "Processing Companies:  24%|██▍       | 1000/4204 [48:10<2:35:36,  2.91s/it]"
     ]
    },
    {
     "name": "stdout",
     "output_type": "stream",
     "text": [
      "✅ CVI - CashFlow_Quarter 데이터 삽입 완료\n",
      "✅ CVGI - IncomeStatement_Quarter 데이터 삽입 완료\n",
      "✅ CVGI - BalanceSheet_Quarter 데이터 삽입 완료\n"
     ]
    },
    {
     "name": "stderr",
     "output_type": "stream",
     "text": [
      "Processing Companies:  24%|██▍       | 1001/4204 [48:13<2:34:44,  2.90s/it]"
     ]
    },
    {
     "name": "stdout",
     "output_type": "stream",
     "text": [
      "✅ CVGI - CashFlow_Quarter 데이터 삽입 완료\n",
      "✅ CVLT - IncomeStatement_Quarter 데이터 삽입 완료\n",
      "✅ CVLT - BalanceSheet_Quarter 데이터 삽입 완료\n"
     ]
    },
    {
     "name": "stderr",
     "output_type": "stream",
     "text": [
      "Processing Companies:  24%|██▍       | 1002/4204 [48:16<2:36:59,  2.94s/it]"
     ]
    },
    {
     "name": "stdout",
     "output_type": "stream",
     "text": [
      "✅ CVLT - CashFlow_Quarter 데이터 삽입 완료\n",
      "✅ CVLG - IncomeStatement_Quarter 데이터 삽입 완료\n",
      "✅ CVLG - BalanceSheet_Quarter 데이터 삽입 완료\n"
     ]
    },
    {
     "name": "stderr",
     "output_type": "stream",
     "text": [
      "Processing Companies:  24%|██▍       | 1003/4204 [48:18<2:35:45,  2.92s/it]"
     ]
    },
    {
     "name": "stdout",
     "output_type": "stream",
     "text": [
      "✅ CVLG - CashFlow_Quarter 데이터 삽입 완료\n",
      "✅ CTRM - IncomeStatement_Quarter 데이터 삽입 완료\n",
      "✅ CTRM - BalanceSheet_Quarter 데이터 삽입 완료\n"
     ]
    },
    {
     "name": "stderr",
     "output_type": "stream",
     "text": [
      "Processing Companies:  24%|██▍       | 1004/4204 [48:21<2:37:34,  2.95s/it]"
     ]
    },
    {
     "name": "stdout",
     "output_type": "stream",
     "text": [
      "✅ CTRM - CashFlow_Quarter 데이터 삽입 완료\n",
      "✅ CVM - IncomeStatement_Quarter 데이터 삽입 완료\n",
      "✅ CVM - BalanceSheet_Quarter 데이터 삽입 완료\n"
     ]
    },
    {
     "name": "stderr",
     "output_type": "stream",
     "text": [
      "Processing Companies:  24%|██▍       | 1005/4204 [48:24<2:36:11,  2.93s/it]"
     ]
    },
    {
     "name": "stdout",
     "output_type": "stream",
     "text": [
      "✅ CVM - CashFlow_Quarter 데이터 삽입 완료\n",
      "✅ CVNA - IncomeStatement_Quarter 데이터 삽입 완료\n",
      "✅ CVNA - BalanceSheet_Quarter 데이터 삽입 완료\n"
     ]
    },
    {
     "name": "stderr",
     "output_type": "stream",
     "text": [
      "Processing Companies:  24%|██▍       | 1006/4204 [48:27<2:39:18,  2.99s/it]"
     ]
    },
    {
     "name": "stdout",
     "output_type": "stream",
     "text": [
      "✅ CVNA - CashFlow_Quarter 데이터 삽입 완료\n",
      "✅ CVRX - IncomeStatement_Quarter 데이터 삽입 완료\n",
      "✅ CVRX - BalanceSheet_Quarter 데이터 삽입 완료\n"
     ]
    },
    {
     "name": "stderr",
     "output_type": "stream",
     "text": [
      "Processing Companies:  24%|██▍       | 1007/4204 [48:30<2:35:17,  2.91s/it]"
     ]
    },
    {
     "name": "stdout",
     "output_type": "stream",
     "text": [
      "✅ CVRX - CashFlow_Quarter 데이터 삽입 완료\n",
      "✅ CVS - IncomeStatement_Quarter 데이터 삽입 완료\n",
      "✅ CVS - BalanceSheet_Quarter 데이터 삽입 완료\n"
     ]
    },
    {
     "name": "stderr",
     "output_type": "stream",
     "text": [
      "Processing Companies:  24%|██▍       | 1008/4204 [48:33<2:34:20,  2.90s/it]"
     ]
    },
    {
     "name": "stdout",
     "output_type": "stream",
     "text": [
      "✅ CVS - CashFlow_Quarter 데이터 삽입 완료\n",
      "✅ CVX - IncomeStatement_Quarter 데이터 삽입 완료\n",
      "✅ CVX - BalanceSheet_Quarter 데이터 삽입 완료\n"
     ]
    },
    {
     "name": "stderr",
     "output_type": "stream",
     "text": [
      "Processing Companies:  24%|██▍       | 1009/4204 [48:36<2:36:13,  2.93s/it]"
     ]
    },
    {
     "name": "stdout",
     "output_type": "stream",
     "text": [
      "✅ CVX - CashFlow_Quarter 데이터 삽입 완료\n",
      "✅ CWAN - IncomeStatement_Quarter 데이터 삽입 완료\n",
      "✅ CWAN - BalanceSheet_Quarter 데이터 삽입 완료\n"
     ]
    },
    {
     "name": "stderr",
     "output_type": "stream",
     "text": [
      "Processing Companies:  24%|██▍       | 1010/4204 [48:39<2:39:20,  2.99s/it]"
     ]
    },
    {
     "name": "stdout",
     "output_type": "stream",
     "text": [
      "✅ CWAN - CashFlow_Quarter 데이터 삽입 완료\n",
      "✅ CWCO - IncomeStatement_Quarter 데이터 삽입 완료\n",
      "✅ CWCO - BalanceSheet_Quarter 데이터 삽입 완료\n"
     ]
    },
    {
     "name": "stderr",
     "output_type": "stream",
     "text": [
      "Processing Companies:  24%|██▍       | 1011/4204 [48:42<2:42:38,  3.06s/it]"
     ]
    },
    {
     "name": "stdout",
     "output_type": "stream",
     "text": [
      "✅ CWCO - CashFlow_Quarter 데이터 삽입 완료\n",
      "✅ CWEN - IncomeStatement_Quarter 데이터 삽입 완료\n",
      "✅ CWEN - BalanceSheet_Quarter 데이터 삽입 완료\n"
     ]
    },
    {
     "name": "stderr",
     "output_type": "stream",
     "text": [
      "Processing Companies:  24%|██▍       | 1012/4204 [48:45<2:40:52,  3.02s/it]"
     ]
    },
    {
     "name": "stdout",
     "output_type": "stream",
     "text": [
      "✅ CWEN - CashFlow_Quarter 데이터 삽입 완료\n",
      "✅ CWBC - IncomeStatement_Quarter 데이터 삽입 완료\n",
      "✅ CWBC - BalanceSheet_Quarter 데이터 삽입 완료\n"
     ]
    },
    {
     "name": "stderr",
     "output_type": "stream",
     "text": [
      "Processing Companies:  24%|██▍       | 1013/4204 [48:48<2:38:52,  2.99s/it]"
     ]
    },
    {
     "name": "stdout",
     "output_type": "stream",
     "text": [
      "✅ CWBC - CashFlow_Quarter 데이터 삽입 완료\n",
      "✅ CWH - IncomeStatement_Quarter 데이터 삽입 완료\n",
      "✅ CWH - BalanceSheet_Quarter 데이터 삽입 완료\n"
     ]
    },
    {
     "name": "stderr",
     "output_type": "stream",
     "text": [
      "Processing Companies:  24%|██▍       | 1014/4204 [48:51<2:40:39,  3.02s/it]"
     ]
    },
    {
     "name": "stdout",
     "output_type": "stream",
     "text": [
      "✅ CWH - CashFlow_Quarter 데이터 삽입 완료\n",
      "✅ CWST - IncomeStatement_Quarter 데이터 삽입 완료\n",
      "✅ CWST - BalanceSheet_Quarter 데이터 삽입 완료\n"
     ]
    },
    {
     "name": "stderr",
     "output_type": "stream",
     "text": [
      "Processing Companies:  24%|██▍       | 1015/4204 [48:56<3:00:16,  3.39s/it]"
     ]
    },
    {
     "name": "stdout",
     "output_type": "stream",
     "text": [
      "✅ CWST - CashFlow_Quarter 데이터 삽입 완료\n",
      "✅ CWK - IncomeStatement_Quarter 데이터 삽입 완료\n",
      "✅ CWK - BalanceSheet_Quarter 데이터 삽입 완료\n"
     ]
    },
    {
     "name": "stderr",
     "output_type": "stream",
     "text": [
      "Processing Companies:  24%|██▍       | 1016/4204 [48:59<2:52:34,  3.25s/it]"
     ]
    },
    {
     "name": "stdout",
     "output_type": "stream",
     "text": [
      "✅ CWK - CashFlow_Quarter 데이터 삽입 완료\n",
      "✅ CX - IncomeStatement_Quarter 데이터 삽입 완료\n",
      "✅ CX - BalanceSheet_Quarter 데이터 삽입 완료\n"
     ]
    },
    {
     "name": "stderr",
     "output_type": "stream",
     "text": [
      "Processing Companies:  24%|██▍       | 1017/4204 [49:01<2:45:49,  3.12s/it]"
     ]
    },
    {
     "name": "stdout",
     "output_type": "stream",
     "text": [
      "❌ CashFlow_Quarter 데이터 없음\n",
      "✅ CXAI - IncomeStatement_Quarter 데이터 삽입 완료\n",
      "✅ CXAI - BalanceSheet_Quarter 데이터 삽입 완료\n"
     ]
    },
    {
     "name": "stderr",
     "output_type": "stream",
     "text": [
      "Processing Companies:  24%|██▍       | 1018/4204 [49:04<2:40:42,  3.03s/it]"
     ]
    },
    {
     "name": "stdout",
     "output_type": "stream",
     "text": [
      "✅ CXAI - CashFlow_Quarter 데이터 삽입 완료\n",
      "✅ CWT - IncomeStatement_Quarter 데이터 삽입 완료\n",
      "✅ CWT - BalanceSheet_Quarter 데이터 삽입 완료\n"
     ]
    },
    {
     "name": "stderr",
     "output_type": "stream",
     "text": [
      "Processing Companies:  24%|██▍       | 1019/4204 [49:07<2:39:30,  3.00s/it]"
     ]
    },
    {
     "name": "stdout",
     "output_type": "stream",
     "text": [
      "✅ CWT - CashFlow_Quarter 데이터 삽입 완료\n",
      "✅ CXDO - IncomeStatement_Quarter 데이터 삽입 완료\n",
      "✅ CXDO - BalanceSheet_Quarter 데이터 삽입 완료\n"
     ]
    },
    {
     "name": "stderr",
     "output_type": "stream",
     "text": [
      "Processing Companies:  24%|██▍       | 1020/4204 [49:10<2:38:29,  2.99s/it]"
     ]
    },
    {
     "name": "stdout",
     "output_type": "stream",
     "text": [
      "✅ CXDO - CashFlow_Quarter 데이터 삽입 완료\n",
      "✅ CXM - IncomeStatement_Quarter 데이터 삽입 완료\n",
      "✅ CXM - BalanceSheet_Quarter 데이터 삽입 완료\n"
     ]
    },
    {
     "name": "stderr",
     "output_type": "stream",
     "text": [
      "Processing Companies:  24%|██▍       | 1021/4204 [49:13<2:35:28,  2.93s/it]"
     ]
    },
    {
     "name": "stdout",
     "output_type": "stream",
     "text": [
      "✅ CXM - CashFlow_Quarter 데이터 삽입 완료\n",
      "✅ CXT - IncomeStatement_Quarter 데이터 삽입 완료\n",
      "✅ CXT - BalanceSheet_Quarter 데이터 삽입 완료\n"
     ]
    },
    {
     "name": "stderr",
     "output_type": "stream",
     "text": [
      "Processing Companies:  24%|██▍       | 1022/4204 [49:16<2:38:57,  3.00s/it]"
     ]
    },
    {
     "name": "stdout",
     "output_type": "stream",
     "text": [
      "✅ CXT - CashFlow_Quarter 데이터 삽입 완료\n",
      "✅ CXW - IncomeStatement_Quarter 데이터 삽입 완료\n",
      "✅ CXW - BalanceSheet_Quarter 데이터 삽입 완료\n"
     ]
    },
    {
     "name": "stderr",
     "output_type": "stream",
     "text": [
      "Processing Companies:  24%|██▍       | 1023/4204 [49:19<2:35:42,  2.94s/it]"
     ]
    },
    {
     "name": "stdout",
     "output_type": "stream",
     "text": [
      "✅ CXW - CashFlow_Quarter 데이터 삽입 완료\n",
      "✅ CYBR - IncomeStatement_Quarter 데이터 삽입 완료\n",
      "✅ CYBR - BalanceSheet_Quarter 데이터 삽입 완료\n"
     ]
    },
    {
     "name": "stderr",
     "output_type": "stream",
     "text": [
      "Processing Companies:  24%|██▍       | 1024/4204 [49:22<2:38:17,  2.99s/it]"
     ]
    },
    {
     "name": "stdout",
     "output_type": "stream",
     "text": [
      "✅ CYBR - CashFlow_Quarter 데이터 삽입 완료\n",
      "✅ CYCC - IncomeStatement_Quarter 데이터 삽입 완료\n",
      "✅ CYCC - BalanceSheet_Quarter 데이터 삽입 완료\n"
     ]
    },
    {
     "name": "stderr",
     "output_type": "stream",
     "text": [
      "Processing Companies:  24%|██▍       | 1025/4204 [49:25<2:35:06,  2.93s/it]"
     ]
    },
    {
     "name": "stdout",
     "output_type": "stream",
     "text": [
      "✅ CYCC - CashFlow_Quarter 데이터 삽입 완료\n",
      "✅ CYBN - IncomeStatement_Quarter 데이터 삽입 완료\n",
      "✅ CYBN - BalanceSheet_Quarter 데이터 삽입 완료\n"
     ]
    },
    {
     "name": "stderr",
     "output_type": "stream",
     "text": [
      "Processing Companies:  24%|██▍       | 1026/4204 [49:28<2:34:42,  2.92s/it]"
     ]
    },
    {
     "name": "stdout",
     "output_type": "stream",
     "text": [
      "✅ CYBN - CashFlow_Quarter 데이터 삽입 완료\n",
      "✅ CYCCP - IncomeStatement_Quarter 데이터 삽입 완료\n",
      "✅ CYCCP - BalanceSheet_Quarter 데이터 삽입 완료\n"
     ]
    },
    {
     "name": "stderr",
     "output_type": "stream",
     "text": [
      "Processing Companies:  24%|██▍       | 1027/4204 [49:30<2:31:58,  2.87s/it]"
     ]
    },
    {
     "name": "stdout",
     "output_type": "stream",
     "text": [
      "✅ CYCCP - CashFlow_Quarter 데이터 삽입 완료\n",
      "❌ IncomeStatement_Quarter 데이터 없음\n",
      "✅ CYD - BalanceSheet_Quarter 데이터 삽입 완료\n"
     ]
    },
    {
     "name": "stderr",
     "output_type": "stream",
     "text": [
      "Processing Companies:  24%|██▍       | 1028/4204 [49:33<2:30:42,  2.85s/it]"
     ]
    },
    {
     "name": "stdout",
     "output_type": "stream",
     "text": [
      "❌ CashFlow_Quarter 데이터 없음\n",
      "✅ CYH - IncomeStatement_Quarter 데이터 삽입 완료\n",
      "✅ CYH - BalanceSheet_Quarter 데이터 삽입 완료\n"
     ]
    },
    {
     "name": "stderr",
     "output_type": "stream",
     "text": [
      "Processing Companies:  24%|██▍       | 1029/4204 [49:36<2:30:04,  2.84s/it]"
     ]
    },
    {
     "name": "stdout",
     "output_type": "stream",
     "text": [
      "✅ CYH - CashFlow_Quarter 데이터 삽입 완료\n",
      "✅ CYCN - IncomeStatement_Quarter 데이터 삽입 완료\n",
      "✅ CYCN - BalanceSheet_Quarter 데이터 삽입 완료\n"
     ]
    },
    {
     "name": "stderr",
     "output_type": "stream",
     "text": [
      "Processing Companies:  25%|██▍       | 1030/4204 [49:39<2:29:24,  2.82s/it]"
     ]
    },
    {
     "name": "stdout",
     "output_type": "stream",
     "text": [
      "✅ CYCN - CashFlow_Quarter 데이터 삽입 완료\n",
      "✅ CYN - IncomeStatement_Quarter 데이터 삽입 완료\n",
      "✅ CYN - BalanceSheet_Quarter 데이터 삽입 완료\n"
     ]
    },
    {
     "name": "stderr",
     "output_type": "stream",
     "text": [
      "Processing Companies:  25%|██▍       | 1031/4204 [49:42<2:30:04,  2.84s/it]"
     ]
    },
    {
     "name": "stdout",
     "output_type": "stream",
     "text": [
      "✅ CYN - CashFlow_Quarter 데이터 삽입 완료\n",
      "✅ CYRX - IncomeStatement_Quarter 데이터 삽입 완료\n",
      "✅ CYRX - BalanceSheet_Quarter 데이터 삽입 완료\n"
     ]
    },
    {
     "name": "stderr",
     "output_type": "stream",
     "text": [
      "Processing Companies:  25%|██▍       | 1032/4204 [49:44<2:28:36,  2.81s/it]"
     ]
    },
    {
     "name": "stdout",
     "output_type": "stream",
     "text": [
      "✅ CYRX - CashFlow_Quarter 데이터 삽입 완료\n",
      "✅ CZFS - IncomeStatement_Quarter 데이터 삽입 완료\n",
      "✅ CZFS - BalanceSheet_Quarter 데이터 삽입 완료\n"
     ]
    },
    {
     "name": "stderr",
     "output_type": "stream",
     "text": [
      "Processing Companies:  25%|██▍       | 1033/4204 [49:47<2:28:47,  2.82s/it]"
     ]
    },
    {
     "name": "stdout",
     "output_type": "stream",
     "text": [
      "✅ CZFS - CashFlow_Quarter 데이터 삽입 완료\n",
      "✅ CYTK - IncomeStatement_Quarter 데이터 삽입 완료\n",
      "✅ CYTK - BalanceSheet_Quarter 데이터 삽입 완료\n"
     ]
    },
    {
     "name": "stderr",
     "output_type": "stream",
     "text": [
      "Processing Companies:  25%|██▍       | 1034/4204 [49:50<2:30:52,  2.86s/it]"
     ]
    },
    {
     "name": "stdout",
     "output_type": "stream",
     "text": [
      "✅ CYTK - CashFlow_Quarter 데이터 삽입 완료\n",
      "✅ CZNC - IncomeStatement_Quarter 데이터 삽입 완료\n",
      "✅ CZNC - BalanceSheet_Quarter 데이터 삽입 완료\n"
     ]
    },
    {
     "name": "stderr",
     "output_type": "stream",
     "text": [
      "Processing Companies:  25%|██▍       | 1035/4204 [49:53<2:30:55,  2.86s/it]"
     ]
    },
    {
     "name": "stdout",
     "output_type": "stream",
     "text": [
      "✅ CZNC - CashFlow_Quarter 데이터 삽입 완료\n",
      "✅ CZR - IncomeStatement_Quarter 데이터 삽입 완료\n",
      "✅ CZR - BalanceSheet_Quarter 데이터 삽입 완료\n"
     ]
    },
    {
     "name": "stderr",
     "output_type": "stream",
     "text": [
      "Processing Companies:  25%|██▍       | 1036/4204 [49:56<2:30:04,  2.84s/it]"
     ]
    },
    {
     "name": "stdout",
     "output_type": "stream",
     "text": [
      "✅ CZR - CashFlow_Quarter 데이터 삽입 완료\n",
      "✅ CZWI - IncomeStatement_Quarter 데이터 삽입 완료\n",
      "✅ CZWI - BalanceSheet_Quarter 데이터 삽입 완료\n"
     ]
    },
    {
     "name": "stderr",
     "output_type": "stream",
     "text": [
      "Processing Companies:  25%|██▍       | 1037/4204 [49:59<2:30:04,  2.84s/it]"
     ]
    },
    {
     "name": "stdout",
     "output_type": "stream",
     "text": [
      "✅ CZWI - CashFlow_Quarter 데이터 삽입 완료\n",
      "✅ D - IncomeStatement_Quarter 데이터 삽입 완료\n",
      "✅ D - BalanceSheet_Quarter 데이터 삽입 완료\n"
     ]
    },
    {
     "name": "stderr",
     "output_type": "stream",
     "text": [
      "Processing Companies:  25%|██▍       | 1038/4204 [50:02<2:30:03,  2.84s/it]"
     ]
    },
    {
     "name": "stdout",
     "output_type": "stream",
     "text": [
      "✅ D - CashFlow_Quarter 데이터 삽입 완료\n"
     ]
    },
    {
     "name": "stderr",
     "output_type": "stream",
     "text": [
      "$DADA: possibly delisted; no price data found  (period=5d)\n"
     ]
    },
    {
     "name": "stdout",
     "output_type": "stream",
     "text": [
      "✅ DADA - IncomeStatement_Quarter 데이터 삽입 완료\n",
      "✅ DADA - BalanceSheet_Quarter 데이터 삽입 완료\n"
     ]
    },
    {
     "name": "stderr",
     "output_type": "stream",
     "text": [
      "Processing Companies:  25%|██▍       | 1039/4204 [50:04<2:28:18,  2.81s/it]"
     ]
    },
    {
     "name": "stdout",
     "output_type": "stream",
     "text": [
      "❌ CashFlow_Quarter 데이터 없음\n",
      "✅ DAC - IncomeStatement_Quarter 데이터 삽입 완료\n",
      "✅ DAC - BalanceSheet_Quarter 데이터 삽입 완료\n"
     ]
    },
    {
     "name": "stderr",
     "output_type": "stream",
     "text": [
      "Processing Companies:  25%|██▍       | 1040/4204 [50:07<2:31:24,  2.87s/it]"
     ]
    },
    {
     "name": "stdout",
     "output_type": "stream",
     "text": [
      "✅ DAC - CashFlow_Quarter 데이터 삽입 완료\n",
      "✅ DAIO - IncomeStatement_Quarter 데이터 삽입 완료\n",
      "✅ DAIO - BalanceSheet_Quarter 데이터 삽입 완료\n"
     ]
    },
    {
     "name": "stderr",
     "output_type": "stream",
     "text": [
      "Processing Companies:  25%|██▍       | 1041/4204 [50:10<2:31:03,  2.87s/it]"
     ]
    },
    {
     "name": "stdout",
     "output_type": "stream",
     "text": [
      "✅ DAIO - CashFlow_Quarter 데이터 삽입 완료\n",
      "✅ DAN - IncomeStatement_Quarter 데이터 삽입 완료\n",
      "✅ DAN - BalanceSheet_Quarter 데이터 삽입 완료\n"
     ]
    },
    {
     "name": "stderr",
     "output_type": "stream",
     "text": [
      "Processing Companies:  25%|██▍       | 1042/4204 [50:13<2:30:49,  2.86s/it]"
     ]
    },
    {
     "name": "stdout",
     "output_type": "stream",
     "text": [
      "✅ DAN - CashFlow_Quarter 데이터 삽입 완료\n",
      "✅ DALN - IncomeStatement_Quarter 데이터 삽입 완료\n",
      "✅ DALN - BalanceSheet_Quarter 데이터 삽입 완료\n"
     ]
    },
    {
     "name": "stderr",
     "output_type": "stream",
     "text": [
      "Processing Companies:  25%|██▍       | 1043/4204 [50:16<2:31:08,  2.87s/it]"
     ]
    },
    {
     "name": "stdout",
     "output_type": "stream",
     "text": [
      "✅ DALN - CashFlow_Quarter 데이터 삽입 완료\n",
      "✅ DAKT - IncomeStatement_Quarter 데이터 삽입 완료\n",
      "✅ DAKT - BalanceSheet_Quarter 데이터 삽입 완료\n"
     ]
    },
    {
     "name": "stderr",
     "output_type": "stream",
     "text": [
      "Processing Companies:  25%|██▍       | 1044/4204 [50:19<2:32:26,  2.89s/it]"
     ]
    },
    {
     "name": "stdout",
     "output_type": "stream",
     "text": [
      "✅ DAKT - CashFlow_Quarter 데이터 삽입 완료\n",
      "✅ DAL - IncomeStatement_Quarter 데이터 삽입 완료\n",
      "✅ DAL - BalanceSheet_Quarter 데이터 삽입 완료\n"
     ]
    },
    {
     "name": "stderr",
     "output_type": "stream",
     "text": [
      "Processing Companies:  25%|██▍       | 1045/4204 [50:22<2:35:04,  2.95s/it]"
     ]
    },
    {
     "name": "stdout",
     "output_type": "stream",
     "text": [
      "✅ DAL - CashFlow_Quarter 데이터 삽입 완료\n",
      "✅ DAO - IncomeStatement_Quarter 데이터 삽입 완료\n",
      "✅ DAO - BalanceSheet_Quarter 데이터 삽입 완료\n"
     ]
    },
    {
     "name": "stderr",
     "output_type": "stream",
     "text": [
      "Processing Companies:  25%|██▍       | 1046/4204 [50:25<2:31:18,  2.87s/it]"
     ]
    },
    {
     "name": "stdout",
     "output_type": "stream",
     "text": [
      "❌ CashFlow_Quarter 데이터 없음\n",
      "✅ DAR - IncomeStatement_Quarter 데이터 삽입 완료\n",
      "✅ DAR - BalanceSheet_Quarter 데이터 삽입 완료\n"
     ]
    },
    {
     "name": "stderr",
     "output_type": "stream",
     "text": [
      "Processing Companies:  25%|██▍       | 1047/4204 [50:28<2:37:08,  2.99s/it]"
     ]
    },
    {
     "name": "stdout",
     "output_type": "stream",
     "text": [
      "✅ DAR - CashFlow_Quarter 데이터 삽입 완료\n",
      "✅ DARE - IncomeStatement_Quarter 데이터 삽입 완료\n",
      "✅ DARE - BalanceSheet_Quarter 데이터 삽입 완료\n"
     ]
    },
    {
     "name": "stderr",
     "output_type": "stream",
     "text": [
      "Processing Companies:  25%|██▍       | 1048/4204 [50:31<2:34:00,  2.93s/it]"
     ]
    },
    {
     "name": "stdout",
     "output_type": "stream",
     "text": [
      "✅ DARE - CashFlow_Quarter 데이터 삽입 완료\n",
      "✅ DAVA - IncomeStatement_Quarter 데이터 삽입 완료\n",
      "✅ DAVA - BalanceSheet_Quarter 데이터 삽입 완료\n"
     ]
    },
    {
     "name": "stderr",
     "output_type": "stream",
     "text": [
      "Processing Companies:  25%|██▍       | 1049/4204 [50:34<2:33:36,  2.92s/it]"
     ]
    },
    {
     "name": "stdout",
     "output_type": "stream",
     "text": [
      "✅ DAVA - CashFlow_Quarter 데이터 삽입 완료\n",
      "✅ DATS - IncomeStatement_Quarter 데이터 삽입 완료\n",
      "✅ DATS - BalanceSheet_Quarter 데이터 삽입 완료\n"
     ]
    },
    {
     "name": "stderr",
     "output_type": "stream",
     "text": [
      "Processing Companies:  25%|██▍       | 1050/4204 [50:37<2:37:00,  2.99s/it]"
     ]
    },
    {
     "name": "stdout",
     "output_type": "stream",
     "text": [
      "✅ DATS - CashFlow_Quarter 데이터 삽입 완료\n",
      "✅ DASH - IncomeStatement_Quarter 데이터 삽입 완료\n",
      "✅ DASH - BalanceSheet_Quarter 데이터 삽입 완료\n"
     ]
    },
    {
     "name": "stderr",
     "output_type": "stream",
     "text": [
      "Processing Companies:  25%|██▌       | 1051/4204 [50:40<2:40:11,  3.05s/it]"
     ]
    },
    {
     "name": "stdout",
     "output_type": "stream",
     "text": [
      "✅ DASH - CashFlow_Quarter 데이터 삽입 완료\n",
      "✅ DAWN - IncomeStatement_Quarter 데이터 삽입 완료\n",
      "✅ DAWN - BalanceSheet_Quarter 데이터 삽입 완료\n"
     ]
    },
    {
     "name": "stderr",
     "output_type": "stream",
     "text": [
      "Processing Companies:  25%|██▌       | 1052/4204 [50:43<2:35:24,  2.96s/it]"
     ]
    },
    {
     "name": "stdout",
     "output_type": "stream",
     "text": [
      "✅ DAWN - CashFlow_Quarter 데이터 삽입 완료\n",
      "✅ DAVE - IncomeStatement_Quarter 데이터 삽입 완료\n",
      "✅ DAVE - BalanceSheet_Quarter 데이터 삽입 완료\n"
     ]
    },
    {
     "name": "stderr",
     "output_type": "stream",
     "text": [
      "Processing Companies:  25%|██▌       | 1053/4204 [50:45<2:33:48,  2.93s/it]"
     ]
    },
    {
     "name": "stdout",
     "output_type": "stream",
     "text": [
      "✅ DAVE - CashFlow_Quarter 데이터 삽입 완료\n",
      "✅ DAY - IncomeStatement_Quarter 데이터 삽입 완료\n",
      "✅ DAY - BalanceSheet_Quarter 데이터 삽입 완료\n"
     ]
    },
    {
     "name": "stderr",
     "output_type": "stream",
     "text": [
      "Processing Companies:  25%|██▌       | 1054/4204 [50:48<2:32:30,  2.90s/it]"
     ]
    },
    {
     "name": "stdout",
     "output_type": "stream",
     "text": [
      "✅ DAY - CashFlow_Quarter 데이터 삽입 완료\n",
      "✅ DB - IncomeStatement_Quarter 데이터 삽입 완료\n",
      "✅ DB - BalanceSheet_Quarter 데이터 삽입 완료\n"
     ]
    },
    {
     "name": "stderr",
     "output_type": "stream",
     "text": [
      "Processing Companies:  25%|██▌       | 1055/4204 [50:51<2:30:42,  2.87s/it]"
     ]
    },
    {
     "name": "stdout",
     "output_type": "stream",
     "text": [
      "❌ CashFlow_Quarter 데이터 없음\n",
      "✅ DBI - IncomeStatement_Quarter 데이터 삽입 완료\n",
      "✅ DBI - BalanceSheet_Quarter 데이터 삽입 완료\n"
     ]
    },
    {
     "name": "stderr",
     "output_type": "stream",
     "text": [
      "Processing Companies:  25%|██▌       | 1056/4204 [50:54<2:31:59,  2.90s/it]"
     ]
    },
    {
     "name": "stdout",
     "output_type": "stream",
     "text": [
      "✅ DBI - CashFlow_Quarter 데이터 삽입 완료\n",
      "✅ DBVT - IncomeStatement_Quarter 데이터 삽입 완료\n",
      "✅ DBVT - BalanceSheet_Quarter 데이터 삽입 완료\n"
     ]
    },
    {
     "name": "stderr",
     "output_type": "stream",
     "text": [
      "Processing Companies:  25%|██▌       | 1057/4204 [50:57<2:29:44,  2.86s/it]"
     ]
    },
    {
     "name": "stdout",
     "output_type": "stream",
     "text": [
      "✅ DBVT - CashFlow_Quarter 데이터 삽입 완료\n",
      "✅ DCBO - IncomeStatement_Quarter 데이터 삽입 완료\n",
      "✅ DCBO - BalanceSheet_Quarter 데이터 삽입 완료\n"
     ]
    },
    {
     "name": "stderr",
     "output_type": "stream",
     "text": [
      "Processing Companies:  25%|██▌       | 1058/4204 [51:00<2:33:40,  2.93s/it]"
     ]
    },
    {
     "name": "stdout",
     "output_type": "stream",
     "text": [
      "✅ DCBO - CashFlow_Quarter 데이터 삽입 완료\n",
      "✅ DBX - IncomeStatement_Quarter 데이터 삽입 완료\n",
      "✅ DBX - BalanceSheet_Quarter 데이터 삽입 완료\n"
     ]
    },
    {
     "name": "stderr",
     "output_type": "stream",
     "text": [
      "Processing Companies:  25%|██▌       | 1059/4204 [51:03<2:32:08,  2.90s/it]"
     ]
    },
    {
     "name": "stdout",
     "output_type": "stream",
     "text": [
      "✅ DBX - CashFlow_Quarter 데이터 삽입 완료\n",
      "✅ DCGO - IncomeStatement_Quarter 데이터 삽입 완료\n",
      "✅ DCGO - BalanceSheet_Quarter 데이터 삽입 완료\n"
     ]
    },
    {
     "name": "stderr",
     "output_type": "stream",
     "text": [
      "Processing Companies:  25%|██▌       | 1060/4204 [51:06<2:32:51,  2.92s/it]"
     ]
    },
    {
     "name": "stdout",
     "output_type": "stream",
     "text": [
      "✅ DCGO - CashFlow_Quarter 데이터 삽입 완료\n",
      "✅ DC - IncomeStatement_Quarter 데이터 삽입 완료\n",
      "✅ DC - BalanceSheet_Quarter 데이터 삽입 완료\n"
     ]
    },
    {
     "name": "stderr",
     "output_type": "stream",
     "text": [
      "Processing Companies:  25%|██▌       | 1061/4204 [51:08<2:29:21,  2.85s/it]"
     ]
    },
    {
     "name": "stdout",
     "output_type": "stream",
     "text": [
      "✅ DC - CashFlow_Quarter 데이터 삽입 완료\n",
      "✅ DCOM - IncomeStatement_Quarter 데이터 삽입 완료\n",
      "✅ DCOM - BalanceSheet_Quarter 데이터 삽입 완료\n"
     ]
    },
    {
     "name": "stderr",
     "output_type": "stream",
     "text": [
      "Processing Companies:  25%|██▌       | 1062/4204 [51:11<2:28:29,  2.84s/it]"
     ]
    },
    {
     "name": "stdout",
     "output_type": "stream",
     "text": [
      "✅ DCOM - CashFlow_Quarter 데이터 삽입 완료\n",
      "✅ DCI - IncomeStatement_Quarter 데이터 삽입 완료\n",
      "✅ DCI - BalanceSheet_Quarter 데이터 삽입 완료\n"
     ]
    },
    {
     "name": "stderr",
     "output_type": "stream",
     "text": [
      "Processing Companies:  25%|██▌       | 1063/4204 [51:14<2:32:36,  2.92s/it]"
     ]
    },
    {
     "name": "stdout",
     "output_type": "stream",
     "text": [
      "✅ DCI - CashFlow_Quarter 데이터 삽입 완료\n",
      "✅ DCOMP - IncomeStatement_Quarter 데이터 삽입 완료\n",
      "✅ DCOMP - BalanceSheet_Quarter 데이터 삽입 완료\n"
     ]
    },
    {
     "name": "stderr",
     "output_type": "stream",
     "text": [
      "Processing Companies:  25%|██▌       | 1064/4204 [51:17<2:32:29,  2.91s/it]"
     ]
    },
    {
     "name": "stdout",
     "output_type": "stream",
     "text": [
      "✅ DCOMP - CashFlow_Quarter 데이터 삽입 완료\n",
      "✅ DCTH - IncomeStatement_Quarter 데이터 삽입 완료\n",
      "✅ DCTH - BalanceSheet_Quarter 데이터 삽입 완료\n"
     ]
    },
    {
     "name": "stderr",
     "output_type": "stream",
     "text": [
      "Processing Companies:  25%|██▌       | 1065/4204 [51:20<2:34:21,  2.95s/it]"
     ]
    },
    {
     "name": "stdout",
     "output_type": "stream",
     "text": [
      "✅ DCTH - CashFlow_Quarter 데이터 삽입 완료\n",
      "✅ DDI - IncomeStatement_Quarter 데이터 삽입 완료\n",
      "✅ DDI - BalanceSheet_Quarter 데이터 삽입 완료\n"
     ]
    },
    {
     "name": "stderr",
     "output_type": "stream",
     "text": [
      "Processing Companies:  25%|██▌       | 1066/4204 [51:23<2:31:15,  2.89s/it]"
     ]
    },
    {
     "name": "stdout",
     "output_type": "stream",
     "text": [
      "✅ DDI - CashFlow_Quarter 데이터 삽입 완료\n",
      "✅ DDL - IncomeStatement_Quarter 데이터 삽입 완료\n",
      "✅ DDL - BalanceSheet_Quarter 데이터 삽입 완료\n"
     ]
    },
    {
     "name": "stderr",
     "output_type": "stream",
     "text": [
      "Processing Companies:  25%|██▌       | 1067/4204 [51:26<2:29:49,  2.87s/it]"
     ]
    },
    {
     "name": "stdout",
     "output_type": "stream",
     "text": [
      "✅ DDL - CashFlow_Quarter 데이터 삽입 완료\n",
      "✅ DDOG - IncomeStatement_Quarter 데이터 삽입 완료\n",
      "✅ DDOG - BalanceSheet_Quarter 데이터 삽입 완료\n"
     ]
    },
    {
     "name": "stderr",
     "output_type": "stream",
     "text": [
      "Processing Companies:  25%|██▌       | 1068/4204 [51:29<2:28:37,  2.84s/it]"
     ]
    },
    {
     "name": "stdout",
     "output_type": "stream",
     "text": [
      "✅ DDOG - CashFlow_Quarter 데이터 삽입 완료\n",
      "✅ DDS - IncomeStatement_Quarter 데이터 삽입 완료\n",
      "✅ DDS - BalanceSheet_Quarter 데이터 삽입 완료\n"
     ]
    },
    {
     "name": "stderr",
     "output_type": "stream",
     "text": [
      "Processing Companies:  25%|██▌       | 1069/4204 [51:32<2:29:29,  2.86s/it]"
     ]
    },
    {
     "name": "stdout",
     "output_type": "stream",
     "text": [
      "✅ DDS - CashFlow_Quarter 데이터 삽입 완료\n",
      "✅ DE - IncomeStatement_Quarter 데이터 삽입 완료\n",
      "✅ DE - BalanceSheet_Quarter 데이터 삽입 완료\n"
     ]
    },
    {
     "name": "stderr",
     "output_type": "stream",
     "text": [
      "Processing Companies:  25%|██▌       | 1070/4204 [51:34<2:30:42,  2.89s/it]"
     ]
    },
    {
     "name": "stdout",
     "output_type": "stream",
     "text": [
      "✅ DE - CashFlow_Quarter 데이터 삽입 완료\n",
      "✅ DEA - IncomeStatement_Quarter 데이터 삽입 완료\n",
      "✅ DEA - BalanceSheet_Quarter 데이터 삽입 완료\n"
     ]
    },
    {
     "name": "stderr",
     "output_type": "stream",
     "text": [
      "Processing Companies:  25%|██▌       | 1071/4204 [51:37<2:29:26,  2.86s/it]"
     ]
    },
    {
     "name": "stdout",
     "output_type": "stream",
     "text": [
      "✅ DEA - CashFlow_Quarter 데이터 삽입 완료\n",
      "✅ DECK - IncomeStatement_Quarter 데이터 삽입 완료\n",
      "✅ DECK - BalanceSheet_Quarter 데이터 삽입 완료\n"
     ]
    },
    {
     "name": "stderr",
     "output_type": "stream",
     "text": [
      "Processing Companies:  25%|██▌       | 1072/4204 [51:40<2:27:48,  2.83s/it]"
     ]
    },
    {
     "name": "stdout",
     "output_type": "stream",
     "text": [
      "✅ DECK - CashFlow_Quarter 데이터 삽입 완료\n",
      "✅ DEI - IncomeStatement_Quarter 데이터 삽입 완료\n",
      "✅ DEI - BalanceSheet_Quarter 데이터 삽입 완료\n"
     ]
    },
    {
     "name": "stderr",
     "output_type": "stream",
     "text": [
      "Processing Companies:  26%|██▌       | 1073/4204 [51:43<2:27:08,  2.82s/it]"
     ]
    },
    {
     "name": "stdout",
     "output_type": "stream",
     "text": [
      "✅ DEI - CashFlow_Quarter 데이터 삽입 완료\n",
      "✅ DENN - IncomeStatement_Quarter 데이터 삽입 완료\n",
      "✅ DENN - BalanceSheet_Quarter 데이터 삽입 완료\n"
     ]
    },
    {
     "name": "stderr",
     "output_type": "stream",
     "text": [
      "Processing Companies:  26%|██▌       | 1074/4204 [51:46<2:27:31,  2.83s/it]"
     ]
    },
    {
     "name": "stdout",
     "output_type": "stream",
     "text": [
      "✅ DENN - CashFlow_Quarter 데이터 삽입 완료\n",
      "✅ DELL - IncomeStatement_Quarter 데이터 삽입 완료\n",
      "✅ DELL - BalanceSheet_Quarter 데이터 삽입 완료\n"
     ]
    },
    {
     "name": "stderr",
     "output_type": "stream",
     "text": [
      "Processing Companies:  26%|██▌       | 1075/4204 [51:49<2:28:44,  2.85s/it]"
     ]
    },
    {
     "name": "stdout",
     "output_type": "stream",
     "text": [
      "✅ DELL - CashFlow_Quarter 데이터 삽입 완료\n",
      "❌ IncomeStatement_Quarter 데이터 없음\n",
      "✅ DEO - BalanceSheet_Quarter 데이터 삽입 완료\n"
     ]
    },
    {
     "name": "stderr",
     "output_type": "stream",
     "text": [
      "Processing Companies:  26%|██▌       | 1076/4204 [51:51<2:27:18,  2.83s/it]"
     ]
    },
    {
     "name": "stdout",
     "output_type": "stream",
     "text": [
      "❌ CashFlow_Quarter 데이터 없음\n",
      "✅ DERM - IncomeStatement_Quarter 데이터 삽입 완료\n",
      "✅ DERM - BalanceSheet_Quarter 데이터 삽입 완료\n"
     ]
    },
    {
     "name": "stderr",
     "output_type": "stream",
     "text": [
      "Processing Companies:  26%|██▌       | 1077/4204 [51:54<2:30:27,  2.89s/it]"
     ]
    },
    {
     "name": "stdout",
     "output_type": "stream",
     "text": [
      "✅ DERM - CashFlow_Quarter 데이터 삽입 완료\n",
      "✅ DFIN - IncomeStatement_Quarter 데이터 삽입 완료\n",
      "✅ DFIN - BalanceSheet_Quarter 데이터 삽입 완료\n"
     ]
    },
    {
     "name": "stderr",
     "output_type": "stream",
     "text": [
      "Processing Companies:  26%|██▌       | 1078/4204 [51:57<2:31:44,  2.91s/it]"
     ]
    },
    {
     "name": "stdout",
     "output_type": "stream",
     "text": [
      "✅ DFIN - CashFlow_Quarter 데이터 삽입 완료\n",
      "✅ DFH - IncomeStatement_Quarter 데이터 삽입 완료\n",
      "✅ DFH - BalanceSheet_Quarter 데이터 삽입 완료\n"
     ]
    },
    {
     "name": "stderr",
     "output_type": "stream",
     "text": [
      "Processing Companies:  26%|██▌       | 1079/4204 [52:00<2:29:36,  2.87s/it]"
     ]
    },
    {
     "name": "stdout",
     "output_type": "stream",
     "text": [
      "✅ DFH - CashFlow_Quarter 데이터 삽입 완료\n",
      "✅ DGICA - IncomeStatement_Quarter 데이터 삽입 완료\n",
      "✅ DGICA - BalanceSheet_Quarter 데이터 삽입 완료\n"
     ]
    },
    {
     "name": "stderr",
     "output_type": "stream",
     "text": [
      "Processing Companies:  26%|██▌       | 1080/4204 [52:03<2:30:37,  2.89s/it]"
     ]
    },
    {
     "name": "stdout",
     "output_type": "stream",
     "text": [
      "✅ DGICA - CashFlow_Quarter 데이터 삽입 완료\n",
      "✅ DG - IncomeStatement_Quarter 데이터 삽입 완료\n",
      "✅ DG - BalanceSheet_Quarter 데이터 삽입 완료\n"
     ]
    },
    {
     "name": "stderr",
     "output_type": "stream",
     "text": [
      "Processing Companies:  26%|██▌       | 1081/4204 [52:06<2:31:41,  2.91s/it]"
     ]
    },
    {
     "name": "stdout",
     "output_type": "stream",
     "text": [
      "✅ DG - CashFlow_Quarter 데이터 삽입 완료\n",
      "✅ DGICB - IncomeStatement_Quarter 데이터 삽입 완료\n",
      "✅ DGICB - BalanceSheet_Quarter 데이터 삽입 완료\n"
     ]
    },
    {
     "name": "stderr",
     "output_type": "stream",
     "text": [
      "Processing Companies:  26%|██▌       | 1082/4204 [52:09<2:30:36,  2.89s/it]"
     ]
    },
    {
     "name": "stdout",
     "output_type": "stream",
     "text": [
      "✅ DGICB - CashFlow_Quarter 데이터 삽입 완료\n",
      "✅ DGII - IncomeStatement_Quarter 데이터 삽입 완료\n",
      "✅ DGII - BalanceSheet_Quarter 데이터 삽입 완료\n"
     ]
    },
    {
     "name": "stderr",
     "output_type": "stream",
     "text": [
      "Processing Companies:  26%|██▌       | 1083/4204 [52:12<2:29:44,  2.88s/it]"
     ]
    },
    {
     "name": "stdout",
     "output_type": "stream",
     "text": [
      "✅ DGII - CashFlow_Quarter 데이터 삽입 완료\n",
      "✅ DGLY - IncomeStatement_Quarter 데이터 삽입 완료\n",
      "✅ DGLY - BalanceSheet_Quarter 데이터 삽입 완료\n"
     ]
    },
    {
     "name": "stderr",
     "output_type": "stream",
     "text": [
      "Processing Companies:  26%|██▌       | 1084/4204 [52:15<2:31:11,  2.91s/it]"
     ]
    },
    {
     "name": "stdout",
     "output_type": "stream",
     "text": [
      "✅ DGLY - CashFlow_Quarter 데이터 삽입 완료\n",
      "✅ DGX - IncomeStatement_Quarter 데이터 삽입 완료\n",
      "✅ DGX - BalanceSheet_Quarter 데이터 삽입 완료\n"
     ]
    },
    {
     "name": "stderr",
     "output_type": "stream",
     "text": [
      "Processing Companies:  26%|██▌       | 1085/4204 [52:18<2:29:56,  2.88s/it]"
     ]
    },
    {
     "name": "stdout",
     "output_type": "stream",
     "text": [
      "✅ DGX - CashFlow_Quarter 데이터 삽입 완료\n",
      "✅ DH - IncomeStatement_Quarter 데이터 삽입 완료\n",
      "✅ DH - BalanceSheet_Quarter 데이터 삽입 완료\n"
     ]
    },
    {
     "name": "stderr",
     "output_type": "stream",
     "text": [
      "Processing Companies:  26%|██▌       | 1086/4204 [52:20<2:28:31,  2.86s/it]"
     ]
    },
    {
     "name": "stdout",
     "output_type": "stream",
     "text": [
      "✅ DH - CashFlow_Quarter 데이터 삽입 완료\n",
      "✅ DHC - IncomeStatement_Quarter 데이터 삽입 완료\n",
      "✅ DHC - BalanceSheet_Quarter 데이터 삽입 완료\n"
     ]
    },
    {
     "name": "stderr",
     "output_type": "stream",
     "text": [
      "Processing Companies:  26%|██▌       | 1087/4204 [52:23<2:28:23,  2.86s/it]"
     ]
    },
    {
     "name": "stdout",
     "output_type": "stream",
     "text": [
      "✅ DHC - CashFlow_Quarter 데이터 삽입 완료\n",
      "✅ DHI - IncomeStatement_Quarter 데이터 삽입 완료\n",
      "✅ DHI - BalanceSheet_Quarter 데이터 삽입 완료\n"
     ]
    },
    {
     "name": "stderr",
     "output_type": "stream",
     "text": [
      "Processing Companies:  26%|██▌       | 1088/4204 [52:26<2:28:15,  2.85s/it]"
     ]
    },
    {
     "name": "stdout",
     "output_type": "stream",
     "text": [
      "✅ DHI - CashFlow_Quarter 데이터 삽입 완료\n",
      "✅ DHR - IncomeStatement_Quarter 데이터 삽입 완료\n",
      "✅ DHR - BalanceSheet_Quarter 데이터 삽입 완료\n"
     ]
    },
    {
     "name": "stderr",
     "output_type": "stream",
     "text": [
      "Processing Companies:  26%|██▌       | 1089/4204 [52:29<2:28:56,  2.87s/it]"
     ]
    },
    {
     "name": "stdout",
     "output_type": "stream",
     "text": [
      "✅ DHR - CashFlow_Quarter 데이터 삽입 완료\n",
      "✅ DHX - IncomeStatement_Quarter 데이터 삽입 완료\n",
      "✅ DHX - BalanceSheet_Quarter 데이터 삽입 완료\n"
     ]
    },
    {
     "name": "stderr",
     "output_type": "stream",
     "text": [
      "Processing Companies:  26%|██▌       | 1090/4204 [52:32<2:28:01,  2.85s/it]"
     ]
    },
    {
     "name": "stdout",
     "output_type": "stream",
     "text": [
      "✅ DHX - CashFlow_Quarter 데이터 삽입 완료\n",
      "✅ DHT - IncomeStatement_Quarter 데이터 삽입 완료\n",
      "✅ DHT - BalanceSheet_Quarter 데이터 삽입 완료\n"
     ]
    },
    {
     "name": "stderr",
     "output_type": "stream",
     "text": [
      "Processing Companies:  26%|██▌       | 1091/4204 [52:35<2:27:42,  2.85s/it]"
     ]
    },
    {
     "name": "stdout",
     "output_type": "stream",
     "text": [
      "✅ DHT - CashFlow_Quarter 데이터 삽입 완료\n",
      "✅ DIBS - IncomeStatement_Quarter 데이터 삽입 완료\n",
      "✅ DIBS - BalanceSheet_Quarter 데이터 삽입 완료\n"
     ]
    },
    {
     "name": "stderr",
     "output_type": "stream",
     "text": [
      "Processing Companies:  26%|██▌       | 1092/4204 [52:37<2:28:19,  2.86s/it]"
     ]
    },
    {
     "name": "stdout",
     "output_type": "stream",
     "text": [
      "✅ DIBS - CashFlow_Quarter 데이터 삽입 완료\n",
      "✅ DIN - IncomeStatement_Quarter 데이터 삽입 완료\n",
      "✅ DIN - BalanceSheet_Quarter 데이터 삽입 완료\n"
     ]
    },
    {
     "name": "stderr",
     "output_type": "stream",
     "text": [
      "Processing Companies:  26%|██▌       | 1093/4204 [52:40<2:29:43,  2.89s/it]"
     ]
    },
    {
     "name": "stdout",
     "output_type": "stream",
     "text": [
      "✅ DIN - CashFlow_Quarter 데이터 삽입 완료\n",
      "✅ DIS - IncomeStatement_Quarter 데이터 삽입 완료\n",
      "✅ DIS - BalanceSheet_Quarter 데이터 삽입 완료\n"
     ]
    },
    {
     "name": "stderr",
     "output_type": "stream",
     "text": [
      "Processing Companies:  26%|██▌       | 1094/4204 [52:43<2:30:10,  2.90s/it]"
     ]
    },
    {
     "name": "stdout",
     "output_type": "stream",
     "text": [
      "✅ DIS - CashFlow_Quarter 데이터 삽입 완료\n",
      "✅ DIOD - IncomeStatement_Quarter 데이터 삽입 완료\n",
      "✅ DIOD - BalanceSheet_Quarter 데이터 삽입 완료\n"
     ]
    },
    {
     "name": "stderr",
     "output_type": "stream",
     "text": [
      "Processing Companies:  26%|██▌       | 1095/4204 [52:47<2:35:45,  3.01s/it]"
     ]
    },
    {
     "name": "stdout",
     "output_type": "stream",
     "text": [
      "✅ DIOD - CashFlow_Quarter 데이터 삽입 완료\n",
      "✅ DINO - IncomeStatement_Quarter 데이터 삽입 완료\n",
      "✅ DINO - BalanceSheet_Quarter 데이터 삽입 완료\n"
     ]
    },
    {
     "name": "stderr",
     "output_type": "stream",
     "text": [
      "Processing Companies:  26%|██▌       | 1096/4204 [52:50<2:41:30,  3.12s/it]"
     ]
    },
    {
     "name": "stdout",
     "output_type": "stream",
     "text": [
      "✅ DINO - CashFlow_Quarter 데이터 삽입 완료\n",
      "✅ DIT - IncomeStatement_Quarter 데이터 삽입 완료\n",
      "✅ DIT - BalanceSheet_Quarter 데이터 삽입 완료\n"
     ]
    },
    {
     "name": "stderr",
     "output_type": "stream",
     "text": [
      "Processing Companies:  26%|██▌       | 1097/4204 [52:53<2:38:51,  3.07s/it]"
     ]
    },
    {
     "name": "stdout",
     "output_type": "stream",
     "text": [
      "✅ DIT - CashFlow_Quarter 데이터 삽입 완료\n",
      "✅ DJCO - IncomeStatement_Quarter 데이터 삽입 완료\n",
      "✅ DJCO - BalanceSheet_Quarter 데이터 삽입 완료\n"
     ]
    },
    {
     "name": "stderr",
     "output_type": "stream",
     "text": [
      "Processing Companies:  26%|██▌       | 1098/4204 [52:56<2:37:44,  3.05s/it]"
     ]
    },
    {
     "name": "stdout",
     "output_type": "stream",
     "text": [
      "✅ DJCO - CashFlow_Quarter 데이터 삽입 완료\n",
      "✅ DKL - IncomeStatement_Quarter 데이터 삽입 완료\n",
      "✅ DKL - BalanceSheet_Quarter 데이터 삽입 완료\n"
     ]
    },
    {
     "name": "stderr",
     "output_type": "stream",
     "text": [
      "Processing Companies:  26%|██▌       | 1099/4204 [52:59<2:36:09,  3.02s/it]"
     ]
    },
    {
     "name": "stdout",
     "output_type": "stream",
     "text": [
      "✅ DKL - CashFlow_Quarter 데이터 삽입 완료\n",
      "✅ DJT - IncomeStatement_Quarter 데이터 삽입 완료\n",
      "✅ DJT - BalanceSheet_Quarter 데이터 삽입 완료\n"
     ]
    },
    {
     "name": "stderr",
     "output_type": "stream",
     "text": [
      "Processing Companies:  26%|██▌       | 1100/4204 [53:02<2:36:37,  3.03s/it]"
     ]
    },
    {
     "name": "stdout",
     "output_type": "stream",
     "text": [
      "✅ DJT - CashFlow_Quarter 데이터 삽입 완료\n",
      "✅ DK - IncomeStatement_Quarter 데이터 삽입 완료\n",
      "✅ DK - BalanceSheet_Quarter 데이터 삽입 완료\n"
     ]
    },
    {
     "name": "stderr",
     "output_type": "stream",
     "text": [
      "Processing Companies:  26%|██▌       | 1101/4204 [53:05<2:37:40,  3.05s/it]"
     ]
    },
    {
     "name": "stdout",
     "output_type": "stream",
     "text": [
      "✅ DK - CashFlow_Quarter 데이터 삽입 완료\n",
      "✅ DKNG - IncomeStatement_Quarter 데이터 삽입 완료\n",
      "✅ DKNG - BalanceSheet_Quarter 데이터 삽입 완료\n"
     ]
    },
    {
     "name": "stderr",
     "output_type": "stream",
     "text": [
      "Processing Companies:  26%|██▌       | 1102/4204 [53:08<2:33:07,  2.96s/it]"
     ]
    },
    {
     "name": "stdout",
     "output_type": "stream",
     "text": [
      "✅ DKNG - CashFlow_Quarter 데이터 삽입 완료\n",
      "✅ DLB - IncomeStatement_Quarter 데이터 삽입 완료\n",
      "✅ DLB - BalanceSheet_Quarter 데이터 삽입 완료\n"
     ]
    },
    {
     "name": "stderr",
     "output_type": "stream",
     "text": [
      "Processing Companies:  26%|██▌       | 1103/4204 [53:11<2:31:26,  2.93s/it]"
     ]
    },
    {
     "name": "stdout",
     "output_type": "stream",
     "text": [
      "✅ DLB - CashFlow_Quarter 데이터 삽입 완료\n",
      "✅ DKS - IncomeStatement_Quarter 데이터 삽입 완료\n",
      "✅ DKS - BalanceSheet_Quarter 데이터 삽입 완료\n"
     ]
    },
    {
     "name": "stderr",
     "output_type": "stream",
     "text": [
      "Processing Companies:  26%|██▋       | 1104/4204 [53:14<2:31:01,  2.92s/it]"
     ]
    },
    {
     "name": "stdout",
     "output_type": "stream",
     "text": [
      "✅ DKS - CashFlow_Quarter 데이터 삽입 완료\n",
      "✅ DLHC - IncomeStatement_Quarter 데이터 삽입 완료\n",
      "✅ DLHC - BalanceSheet_Quarter 데이터 삽입 완료\n"
     ]
    },
    {
     "name": "stderr",
     "output_type": "stream",
     "text": [
      "Processing Companies:  26%|██▋       | 1105/4204 [53:16<2:28:53,  2.88s/it]"
     ]
    },
    {
     "name": "stdout",
     "output_type": "stream",
     "text": [
      "✅ DLHC - CashFlow_Quarter 데이터 삽입 완료\n",
      "✅ DLNG - IncomeStatement_Quarter 데이터 삽입 완료\n",
      "✅ DLNG - BalanceSheet_Quarter 데이터 삽입 완료\n"
     ]
    },
    {
     "name": "stderr",
     "output_type": "stream",
     "text": [
      "Processing Companies:  26%|██▋       | 1106/4204 [53:19<2:29:45,  2.90s/it]"
     ]
    },
    {
     "name": "stdout",
     "output_type": "stream",
     "text": [
      "✅ DLNG - CashFlow_Quarter 데이터 삽입 완료\n",
      "✅ DLPN - IncomeStatement_Quarter 데이터 삽입 완료\n",
      "✅ DLPN - BalanceSheet_Quarter 데이터 삽입 완료\n"
     ]
    },
    {
     "name": "stderr",
     "output_type": "stream",
     "text": [
      "Processing Companies:  26%|██▋       | 1107/4204 [53:22<2:27:35,  2.86s/it]"
     ]
    },
    {
     "name": "stdout",
     "output_type": "stream",
     "text": [
      "✅ DLPN - CashFlow_Quarter 데이터 삽입 완료\n",
      "✅ DLO - IncomeStatement_Quarter 데이터 삽입 완료\n",
      "✅ DLO - BalanceSheet_Quarter 데이터 삽입 완료\n"
     ]
    },
    {
     "name": "stderr",
     "output_type": "stream",
     "text": [
      "Processing Companies:  26%|██▋       | 1108/4204 [53:25<2:27:19,  2.86s/it]"
     ]
    },
    {
     "name": "stdout",
     "output_type": "stream",
     "text": [
      "✅ DLO - CashFlow_Quarter 데이터 삽입 완료\n",
      "✅ DLTR - IncomeStatement_Quarter 데이터 삽입 완료\n",
      "✅ DLTR - BalanceSheet_Quarter 데이터 삽입 완료\n"
     ]
    },
    {
     "name": "stderr",
     "output_type": "stream",
     "text": [
      "Processing Companies:  26%|██▋       | 1109/4204 [53:28<2:26:35,  2.84s/it]"
     ]
    },
    {
     "name": "stdout",
     "output_type": "stream",
     "text": [
      "✅ DLTR - CashFlow_Quarter 데이터 삽입 완료\n",
      "✅ DLTH - IncomeStatement_Quarter 데이터 삽입 완료\n",
      "✅ DLTH - BalanceSheet_Quarter 데이터 삽입 완료\n"
     ]
    },
    {
     "name": "stderr",
     "output_type": "stream",
     "text": [
      "Processing Companies:  26%|██▋       | 1110/4204 [53:31<2:30:35,  2.92s/it]"
     ]
    },
    {
     "name": "stdout",
     "output_type": "stream",
     "text": [
      "✅ DLTH - CashFlow_Quarter 데이터 삽입 완료\n",
      "✅ DLX - IncomeStatement_Quarter 데이터 삽입 완료\n",
      "✅ DLX - BalanceSheet_Quarter 데이터 삽입 완료\n"
     ]
    },
    {
     "name": "stderr",
     "output_type": "stream",
     "text": [
      "Processing Companies:  26%|██▋       | 1111/4204 [53:34<2:29:13,  2.89s/it]"
     ]
    },
    {
     "name": "stdout",
     "output_type": "stream",
     "text": [
      "✅ DLX - CashFlow_Quarter 데이터 삽입 완료\n",
      "✅ DMAC - IncomeStatement_Quarter 데이터 삽입 완료\n",
      "✅ DMAC - BalanceSheet_Quarter 데이터 삽입 완료\n"
     ]
    },
    {
     "name": "stderr",
     "output_type": "stream",
     "text": [
      "Processing Companies:  26%|██▋       | 1112/4204 [53:36<2:28:26,  2.88s/it]"
     ]
    },
    {
     "name": "stdout",
     "output_type": "stream",
     "text": [
      "✅ DMAC - CashFlow_Quarter 데이터 삽입 완료\n",
      "✅ DMRC - IncomeStatement_Quarter 데이터 삽입 완료\n",
      "✅ DMRC - BalanceSheet_Quarter 데이터 삽입 완료\n"
     ]
    },
    {
     "name": "stderr",
     "output_type": "stream",
     "text": [
      "Processing Companies:  26%|██▋       | 1113/4204 [53:39<2:27:48,  2.87s/it]"
     ]
    },
    {
     "name": "stdout",
     "output_type": "stream",
     "text": [
      "✅ DMRC - CashFlow_Quarter 데이터 삽입 완료\n",
      "✅ DMLP - IncomeStatement_Quarter 데이터 삽입 완료\n",
      "✅ DMLP - BalanceSheet_Quarter 데이터 삽입 완료\n"
     ]
    },
    {
     "name": "stderr",
     "output_type": "stream",
     "text": [
      "Processing Companies:  26%|██▋       | 1114/4204 [53:42<2:30:31,  2.92s/it]"
     ]
    },
    {
     "name": "stdout",
     "output_type": "stream",
     "text": [
      "✅ DMLP - CashFlow_Quarter 데이터 삽입 완료\n",
      "✅ DNA - IncomeStatement_Quarter 데이터 삽입 완료\n",
      "✅ DNA - BalanceSheet_Quarter 데이터 삽입 완료\n"
     ]
    },
    {
     "name": "stderr",
     "output_type": "stream",
     "text": [
      "Processing Companies:  27%|██▋       | 1115/4204 [53:45<2:30:57,  2.93s/it]"
     ]
    },
    {
     "name": "stdout",
     "output_type": "stream",
     "text": [
      "✅ DNA - CashFlow_Quarter 데이터 삽입 완료\n",
      "✅ DNLI - IncomeStatement_Quarter 데이터 삽입 완료\n",
      "✅ DNLI - BalanceSheet_Quarter 데이터 삽입 완료\n"
     ]
    },
    {
     "name": "stderr",
     "output_type": "stream",
     "text": [
      "Processing Companies:  27%|██▋       | 1116/4204 [53:48<2:28:52,  2.89s/it]"
     ]
    },
    {
     "name": "stdout",
     "output_type": "stream",
     "text": [
      "✅ DNLI - CashFlow_Quarter 데이터 삽입 완료\n",
      "✅ DNN - IncomeStatement_Quarter 데이터 삽입 완료\n",
      "✅ DNN - BalanceSheet_Quarter 데이터 삽입 완료\n"
     ]
    },
    {
     "name": "stderr",
     "output_type": "stream",
     "text": [
      "Processing Companies:  27%|██▋       | 1117/4204 [53:51<2:27:23,  2.86s/it]"
     ]
    },
    {
     "name": "stdout",
     "output_type": "stream",
     "text": [
      "✅ DNN - CashFlow_Quarter 데이터 삽입 완료\n",
      "✅ DNB - IncomeStatement_Quarter 데이터 삽입 완료\n",
      "✅ DNB - BalanceSheet_Quarter 데이터 삽입 완료\n"
     ]
    },
    {
     "name": "stderr",
     "output_type": "stream",
     "text": [
      "Processing Companies:  27%|██▋       | 1118/4204 [53:54<2:26:37,  2.85s/it]"
     ]
    },
    {
     "name": "stdout",
     "output_type": "stream",
     "text": [
      "✅ DNB - CashFlow_Quarter 데이터 삽입 완료\n",
      "✅ DNOW - IncomeStatement_Quarter 데이터 삽입 완료\n",
      "✅ DNOW - BalanceSheet_Quarter 데이터 삽입 완료\n"
     ]
    },
    {
     "name": "stderr",
     "output_type": "stream",
     "text": [
      "Processing Companies:  27%|██▋       | 1119/4204 [53:57<2:26:32,  2.85s/it]"
     ]
    },
    {
     "name": "stdout",
     "output_type": "stream",
     "text": [
      "✅ DNOW - CashFlow_Quarter 데이터 삽입 완료\n",
      "✅ DNTH - IncomeStatement_Quarter 데이터 삽입 완료\n",
      "✅ DNTH - BalanceSheet_Quarter 데이터 삽입 완료\n"
     ]
    },
    {
     "name": "stderr",
     "output_type": "stream",
     "text": [
      "Processing Companies:  27%|██▋       | 1120/4204 [53:59<2:25:36,  2.83s/it]"
     ]
    },
    {
     "name": "stdout",
     "output_type": "stream",
     "text": [
      "✅ DNTH - CashFlow_Quarter 데이터 삽입 완료\n",
      "✅ DNUT - IncomeStatement_Quarter 데이터 삽입 완료\n",
      "✅ DNUT - BalanceSheet_Quarter 데이터 삽입 완료\n"
     ]
    },
    {
     "name": "stderr",
     "output_type": "stream",
     "text": [
      "Processing Companies:  27%|██▋       | 1121/4204 [54:02<2:26:20,  2.85s/it]"
     ]
    },
    {
     "name": "stdout",
     "output_type": "stream",
     "text": [
      "✅ DNUT - CashFlow_Quarter 데이터 삽입 완료\n",
      "✅ DOCS - IncomeStatement_Quarter 데이터 삽입 완료\n",
      "✅ DOCS - BalanceSheet_Quarter 데이터 삽입 완료\n"
     ]
    },
    {
     "name": "stderr",
     "output_type": "stream",
     "text": [
      "Processing Companies:  27%|██▋       | 1122/4204 [54:05<2:24:51,  2.82s/it]"
     ]
    },
    {
     "name": "stdout",
     "output_type": "stream",
     "text": [
      "✅ DOCS - CashFlow_Quarter 데이터 삽입 완료\n",
      "✅ DOC - IncomeStatement_Quarter 데이터 삽입 완료\n",
      "✅ DOC - BalanceSheet_Quarter 데이터 삽입 완료\n"
     ]
    },
    {
     "name": "stderr",
     "output_type": "stream",
     "text": [
      "Processing Companies:  27%|██▋       | 1123/4204 [54:08<2:25:36,  2.84s/it]"
     ]
    },
    {
     "name": "stdout",
     "output_type": "stream",
     "text": [
      "✅ DOC - CashFlow_Quarter 데이터 삽입 완료\n",
      "✅ DOCU - IncomeStatement_Quarter 데이터 삽입 완료\n",
      "✅ DOCU - BalanceSheet_Quarter 데이터 삽입 완료\n"
     ]
    },
    {
     "name": "stderr",
     "output_type": "stream",
     "text": [
      "Processing Companies:  27%|██▋       | 1124/4204 [54:11<2:24:02,  2.81s/it]"
     ]
    },
    {
     "name": "stdout",
     "output_type": "stream",
     "text": [
      "✅ DOCU - CashFlow_Quarter 데이터 삽입 완료\n",
      "❌ IncomeStatement_Quarter 데이터 없음\n",
      "✅ DOGZ - BalanceSheet_Quarter 데이터 삽입 완료\n"
     ]
    },
    {
     "name": "stderr",
     "output_type": "stream",
     "text": [
      "Processing Companies:  27%|██▋       | 1125/4204 [54:13<2:22:18,  2.77s/it]"
     ]
    },
    {
     "name": "stdout",
     "output_type": "stream",
     "text": [
      "❌ CashFlow_Quarter 데이터 없음\n",
      "✅ DOMO - IncomeStatement_Quarter 데이터 삽입 완료\n",
      "✅ DOMO - BalanceSheet_Quarter 데이터 삽입 완료\n"
     ]
    },
    {
     "name": "stderr",
     "output_type": "stream",
     "text": [
      "Processing Companies:  27%|██▋       | 1126/4204 [54:16<2:22:44,  2.78s/it]"
     ]
    },
    {
     "name": "stdout",
     "output_type": "stream",
     "text": [
      "✅ DOMO - CashFlow_Quarter 데이터 삽입 완료\n",
      "✅ DOLE - IncomeStatement_Quarter 데이터 삽입 완료\n",
      "✅ DOLE - BalanceSheet_Quarter 데이터 삽입 완료\n"
     ]
    },
    {
     "name": "stderr",
     "output_type": "stream",
     "text": [
      "Processing Companies:  27%|██▋       | 1127/4204 [54:19<2:27:21,  2.87s/it]"
     ]
    },
    {
     "name": "stdout",
     "output_type": "stream",
     "text": [
      "✅ DOLE - CashFlow_Quarter 데이터 삽입 완료\n",
      "✅ DOOO - IncomeStatement_Quarter 데이터 삽입 완료\n",
      "✅ DOOO - BalanceSheet_Quarter 데이터 삽입 완료\n"
     ]
    },
    {
     "name": "stderr",
     "output_type": "stream",
     "text": [
      "Processing Companies:  27%|██▋       | 1128/4204 [54:22<2:28:39,  2.90s/it]"
     ]
    },
    {
     "name": "stdout",
     "output_type": "stream",
     "text": [
      "✅ DOOO - CashFlow_Quarter 데이터 삽입 완료\n",
      "✅ DORM - IncomeStatement_Quarter 데이터 삽입 완료\n",
      "✅ DORM - BalanceSheet_Quarter 데이터 삽입 완료\n"
     ]
    },
    {
     "name": "stderr",
     "output_type": "stream",
     "text": [
      "Processing Companies:  27%|██▋       | 1129/4204 [54:25<2:28:37,  2.90s/it]"
     ]
    },
    {
     "name": "stdout",
     "output_type": "stream",
     "text": [
      "✅ DORM - CashFlow_Quarter 데이터 삽입 완료\n",
      "✅ DOUG - IncomeStatement_Quarter 데이터 삽입 완료\n",
      "✅ DOUG - BalanceSheet_Quarter 데이터 삽입 완료\n"
     ]
    },
    {
     "name": "stderr",
     "output_type": "stream",
     "text": [
      "Processing Companies:  27%|██▋       | 1130/4204 [54:28<2:28:32,  2.90s/it]"
     ]
    },
    {
     "name": "stdout",
     "output_type": "stream",
     "text": [
      "✅ DOUG - CashFlow_Quarter 데이터 삽입 완료\n",
      "✅ DOX - IncomeStatement_Quarter 데이터 삽입 완료\n",
      "✅ DOX - BalanceSheet_Quarter 데이터 삽입 완료\n"
     ]
    },
    {
     "name": "stderr",
     "output_type": "stream",
     "text": [
      "Processing Companies:  27%|██▋       | 1131/4204 [54:31<2:30:52,  2.95s/it]"
     ]
    },
    {
     "name": "stdout",
     "output_type": "stream",
     "text": [
      "✅ DOX - CashFlow_Quarter 데이터 삽입 완료\n",
      "✅ DOW - IncomeStatement_Quarter 데이터 삽입 완료\n",
      "✅ DOW - BalanceSheet_Quarter 데이터 삽입 완료\n"
     ]
    },
    {
     "name": "stderr",
     "output_type": "stream",
     "text": [
      "Processing Companies:  27%|██▋       | 1132/4204 [54:34<2:28:22,  2.90s/it]"
     ]
    },
    {
     "name": "stdout",
     "output_type": "stream",
     "text": [
      "✅ DOW - CashFlow_Quarter 데이터 삽입 완료\n",
      "✅ DOYU - IncomeStatement_Quarter 데이터 삽입 완료\n",
      "✅ DOYU - BalanceSheet_Quarter 데이터 삽입 완료\n"
     ]
    },
    {
     "name": "stderr",
     "output_type": "stream",
     "text": [
      "Processing Companies:  27%|██▋       | 1133/4204 [54:37<2:26:48,  2.87s/it]"
     ]
    },
    {
     "name": "stdout",
     "output_type": "stream",
     "text": [
      "❌ CashFlow_Quarter 데이터 없음\n",
      "✅ DQ - IncomeStatement_Quarter 데이터 삽입 완료\n",
      "✅ DQ - BalanceSheet_Quarter 데이터 삽입 완료\n"
     ]
    },
    {
     "name": "stderr",
     "output_type": "stream",
     "text": [
      "Processing Companies:  27%|██▋       | 1134/4204 [54:39<2:25:48,  2.85s/it]"
     ]
    },
    {
     "name": "stdout",
     "output_type": "stream",
     "text": [
      "✅ DQ - CashFlow_Quarter 데이터 삽입 완료\n",
      "✅ DPZ - IncomeStatement_Quarter 데이터 삽입 완료\n",
      "✅ DPZ - BalanceSheet_Quarter 데이터 삽입 완료\n"
     ]
    },
    {
     "name": "stderr",
     "output_type": "stream",
     "text": [
      "Processing Companies:  27%|██▋       | 1135/4204 [54:42<2:24:34,  2.83s/it]"
     ]
    },
    {
     "name": "stdout",
     "output_type": "stream",
     "text": [
      "✅ DPZ - CashFlow_Quarter 데이터 삽입 완료\n",
      "✅ DRCT - IncomeStatement_Quarter 데이터 삽입 완료\n",
      "✅ DRCT - BalanceSheet_Quarter 데이터 삽입 완료\n"
     ]
    },
    {
     "name": "stderr",
     "output_type": "stream",
     "text": [
      "Processing Companies:  27%|██▋       | 1136/4204 [54:45<2:23:47,  2.81s/it]"
     ]
    },
    {
     "name": "stdout",
     "output_type": "stream",
     "text": [
      "✅ DRCT - CashFlow_Quarter 데이터 삽입 완료\n",
      "❌ IncomeStatement_Quarter 데이터 없음\n",
      "❌ BalanceSheet_Quarter 데이터 없음\n"
     ]
    },
    {
     "name": "stderr",
     "output_type": "stream",
     "text": [
      "Processing Companies:  27%|██▋       | 1137/4204 [54:48<2:22:49,  2.79s/it]"
     ]
    },
    {
     "name": "stdout",
     "output_type": "stream",
     "text": [
      "❌ CashFlow_Quarter 데이터 없음\n",
      "✅ DRH - IncomeStatement_Quarter 데이터 삽입 완료\n",
      "✅ DRH - BalanceSheet_Quarter 데이터 삽입 완료\n"
     ]
    },
    {
     "name": "stderr",
     "output_type": "stream",
     "text": [
      "Processing Companies:  27%|██▋       | 1138/4204 [54:51<2:25:27,  2.85s/it]"
     ]
    },
    {
     "name": "stdout",
     "output_type": "stream",
     "text": [
      "✅ DRH - CashFlow_Quarter 데이터 삽입 완료\n",
      "✅ DRRX - IncomeStatement_Quarter 데이터 삽입 완료\n",
      "✅ DRRX - BalanceSheet_Quarter 데이터 삽입 완료\n"
     ]
    },
    {
     "name": "stderr",
     "output_type": "stream",
     "text": [
      "Processing Companies:  27%|██▋       | 1139/4204 [54:54<2:26:14,  2.86s/it]"
     ]
    },
    {
     "name": "stdout",
     "output_type": "stream",
     "text": [
      "✅ DRRX - CashFlow_Quarter 데이터 삽입 완료\n",
      "✅ DRIO - IncomeStatement_Quarter 데이터 삽입 완료\n",
      "✅ DRIO - BalanceSheet_Quarter 데이터 삽입 완료\n"
     ]
    },
    {
     "name": "stderr",
     "output_type": "stream",
     "text": [
      "Processing Companies:  27%|██▋       | 1140/4204 [54:56<2:25:35,  2.85s/it]"
     ]
    },
    {
     "name": "stdout",
     "output_type": "stream",
     "text": [
      "✅ DRIO - CashFlow_Quarter 데이터 삽입 완료\n",
      "✅ DRI - IncomeStatement_Quarter 데이터 삽입 완료\n",
      "✅ DRI - BalanceSheet_Quarter 데이터 삽입 완료\n"
     ]
    },
    {
     "name": "stderr",
     "output_type": "stream",
     "text": [
      "Processing Companies:  27%|██▋       | 1141/4204 [54:59<2:26:23,  2.87s/it]"
     ]
    },
    {
     "name": "stdout",
     "output_type": "stream",
     "text": [
      "✅ DRI - CashFlow_Quarter 데이터 삽입 완료\n",
      "✅ DRUG - IncomeStatement_Quarter 데이터 삽입 완료\n",
      "✅ DRUG - BalanceSheet_Quarter 데이터 삽입 완료\n"
     ]
    },
    {
     "name": "stderr",
     "output_type": "stream",
     "text": [
      "Processing Companies:  27%|██▋       | 1142/4204 [55:02<2:25:34,  2.85s/it]"
     ]
    },
    {
     "name": "stdout",
     "output_type": "stream",
     "text": [
      "✅ DRUG - CashFlow_Quarter 데이터 삽입 완료\n",
      "✅ DRTS - IncomeStatement_Quarter 데이터 삽입 완료\n",
      "✅ DRTS - BalanceSheet_Quarter 데이터 삽입 완료\n"
     ]
    },
    {
     "name": "stderr",
     "output_type": "stream",
     "text": [
      "Processing Companies:  27%|██▋       | 1143/4204 [55:05<2:25:38,  2.85s/it]"
     ]
    },
    {
     "name": "stdout",
     "output_type": "stream",
     "text": [
      "❌ CashFlow_Quarter 데이터 없음\n",
      "✅ DSGN - IncomeStatement_Quarter 데이터 삽입 완료\n",
      "✅ DSGN - BalanceSheet_Quarter 데이터 삽입 완료\n"
     ]
    },
    {
     "name": "stderr",
     "output_type": "stream",
     "text": [
      "Processing Companies:  27%|██▋       | 1144/4204 [55:08<2:24:26,  2.83s/it]"
     ]
    },
    {
     "name": "stdout",
     "output_type": "stream",
     "text": [
      "✅ DSGN - CashFlow_Quarter 데이터 삽입 완료\n",
      "✅ DRVN - IncomeStatement_Quarter 데이터 삽입 완료\n",
      "✅ DRVN - BalanceSheet_Quarter 데이터 삽입 완료\n"
     ]
    },
    {
     "name": "stderr",
     "output_type": "stream",
     "text": [
      "Processing Companies:  27%|██▋       | 1145/4204 [55:11<2:25:39,  2.86s/it]"
     ]
    },
    {
     "name": "stdout",
     "output_type": "stream",
     "text": [
      "✅ DRVN - CashFlow_Quarter 데이터 삽입 완료\n",
      "✅ DSGX - IncomeStatement_Quarter 데이터 삽입 완료\n",
      "✅ DSGX - BalanceSheet_Quarter 데이터 삽입 완료\n"
     ]
    },
    {
     "name": "stderr",
     "output_type": "stream",
     "text": [
      "Processing Companies:  27%|██▋       | 1146/4204 [55:13<2:24:18,  2.83s/it]"
     ]
    },
    {
     "name": "stdout",
     "output_type": "stream",
     "text": [
      "✅ DSGX - CashFlow_Quarter 데이터 삽입 완료\n",
      "✅ DSP - IncomeStatement_Quarter 데이터 삽입 완료\n",
      "✅ DSP - BalanceSheet_Quarter 데이터 삽입 완료\n"
     ]
    },
    {
     "name": "stderr",
     "output_type": "stream",
     "text": [
      "Processing Companies:  27%|██▋       | 1147/4204 [55:16<2:23:47,  2.82s/it]"
     ]
    },
    {
     "name": "stdout",
     "output_type": "stream",
     "text": [
      "✅ DSP - CashFlow_Quarter 데이터 삽입 완료\n",
      "❌ IncomeStatement_Quarter 데이터 없음\n",
      "✅ DSWL - BalanceSheet_Quarter 데이터 삽입 완료\n"
     ]
    },
    {
     "name": "stderr",
     "output_type": "stream",
     "text": [
      "Processing Companies:  27%|██▋       | 1148/4204 [55:19<2:22:45,  2.80s/it]"
     ]
    },
    {
     "name": "stdout",
     "output_type": "stream",
     "text": [
      "❌ CashFlow_Quarter 데이터 없음\n",
      "✅ DT - IncomeStatement_Quarter 데이터 삽입 완료\n",
      "✅ DT - BalanceSheet_Quarter 데이터 삽입 완료\n"
     ]
    },
    {
     "name": "stderr",
     "output_type": "stream",
     "text": [
      "Processing Companies:  27%|██▋       | 1149/4204 [55:22<2:25:44,  2.86s/it]"
     ]
    },
    {
     "name": "stdout",
     "output_type": "stream",
     "text": [
      "✅ DT - CashFlow_Quarter 데이터 삽입 완료\n",
      "✅ DSX - IncomeStatement_Quarter 데이터 삽입 완료\n",
      "✅ DSX - BalanceSheet_Quarter 데이터 삽입 완료\n"
     ]
    },
    {
     "name": "stderr",
     "output_type": "stream",
     "text": [
      "Processing Companies:  27%|██▋       | 1150/4204 [55:25<2:25:25,  2.86s/it]"
     ]
    },
    {
     "name": "stdout",
     "output_type": "stream",
     "text": [
      "✅ DSX - CashFlow_Quarter 데이터 삽입 완료\n",
      "✅ DTE - IncomeStatement_Quarter 데이터 삽입 완료\n",
      "✅ DTE - BalanceSheet_Quarter 데이터 삽입 완료\n"
     ]
    },
    {
     "name": "stderr",
     "output_type": "stream",
     "text": [
      "Processing Companies:  27%|██▋       | 1151/4204 [55:28<2:30:44,  2.96s/it]"
     ]
    },
    {
     "name": "stdout",
     "output_type": "stream",
     "text": [
      "✅ DTE - CashFlow_Quarter 데이터 삽입 완료\n",
      "✅ DTM - IncomeStatement_Quarter 데이터 삽입 완료\n",
      "✅ DTM - BalanceSheet_Quarter 데이터 삽입 완료\n"
     ]
    },
    {
     "name": "stderr",
     "output_type": "stream",
     "text": [
      "Processing Companies:  27%|██▋       | 1152/4204 [55:31<2:28:54,  2.93s/it]"
     ]
    },
    {
     "name": "stdout",
     "output_type": "stream",
     "text": [
      "✅ DTM - CashFlow_Quarter 데이터 삽입 완료\n",
      "✅ DTI - IncomeStatement_Quarter 데이터 삽입 완료\n",
      "✅ DTI - BalanceSheet_Quarter 데이터 삽입 완료\n"
     ]
    },
    {
     "name": "stderr",
     "output_type": "stream",
     "text": [
      "Processing Companies:  27%|██▋       | 1153/4204 [55:34<2:28:28,  2.92s/it]"
     ]
    },
    {
     "name": "stdout",
     "output_type": "stream",
     "text": [
      "✅ DTI - CashFlow_Quarter 데이터 삽입 완료\n",
      "✅ DTIL - IncomeStatement_Quarter 데이터 삽입 완료\n",
      "✅ DTIL - BalanceSheet_Quarter 데이터 삽입 완료\n"
     ]
    },
    {
     "name": "stderr",
     "output_type": "stream",
     "text": [
      "Processing Companies:  27%|██▋       | 1154/4204 [55:37<2:29:36,  2.94s/it]"
     ]
    },
    {
     "name": "stdout",
     "output_type": "stream",
     "text": [
      "✅ DTIL - CashFlow_Quarter 데이터 삽입 완료\n",
      "✅ DTSS - IncomeStatement_Quarter 데이터 삽입 완료\n",
      "✅ DTSS - BalanceSheet_Quarter 데이터 삽입 완료\n"
     ]
    },
    {
     "name": "stderr",
     "output_type": "stream",
     "text": [
      "Processing Companies:  27%|██▋       | 1155/4204 [55:40<2:28:55,  2.93s/it]"
     ]
    },
    {
     "name": "stdout",
     "output_type": "stream",
     "text": [
      "✅ DTSS - CashFlow_Quarter 데이터 삽입 완료\n",
      "✅ DTST - IncomeStatement_Quarter 데이터 삽입 완료\n",
      "✅ DTST - BalanceSheet_Quarter 데이터 삽입 완료\n"
     ]
    },
    {
     "name": "stderr",
     "output_type": "stream",
     "text": [
      "Processing Companies:  27%|██▋       | 1156/4204 [55:43<2:28:16,  2.92s/it]"
     ]
    },
    {
     "name": "stdout",
     "output_type": "stream",
     "text": [
      "✅ DTST - CashFlow_Quarter 데이터 삽입 완료\n",
      "✅ DUOL - IncomeStatement_Quarter 데이터 삽입 완료\n",
      "✅ DUOL - BalanceSheet_Quarter 데이터 삽입 완료\n"
     ]
    },
    {
     "name": "stderr",
     "output_type": "stream",
     "text": [
      "Processing Companies:  28%|██▊       | 1157/4204 [55:45<2:25:47,  2.87s/it]"
     ]
    },
    {
     "name": "stdout",
     "output_type": "stream",
     "text": [
      "✅ DUOL - CashFlow_Quarter 데이터 삽입 완료\n",
      "❌ IncomeStatement_Quarter 데이터 없음\n",
      "✅ DUO - BalanceSheet_Quarter 데이터 삽입 완료\n"
     ]
    },
    {
     "name": "stderr",
     "output_type": "stream",
     "text": [
      "Processing Companies:  28%|██▊       | 1158/4204 [55:48<2:22:43,  2.81s/it]"
     ]
    },
    {
     "name": "stdout",
     "output_type": "stream",
     "text": [
      "❌ CashFlow_Quarter 데이터 없음\n",
      "✅ DUK - IncomeStatement_Quarter 데이터 삽입 완료\n",
      "✅ DUK - BalanceSheet_Quarter 데이터 삽입 완료\n"
     ]
    },
    {
     "name": "stderr",
     "output_type": "stream",
     "text": [
      "Processing Companies:  28%|██▊       | 1159/4204 [55:51<2:23:40,  2.83s/it]"
     ]
    },
    {
     "name": "stdout",
     "output_type": "stream",
     "text": [
      "✅ DUK - CashFlow_Quarter 데이터 삽입 완료\n",
      "✅ DUOT - IncomeStatement_Quarter 데이터 삽입 완료\n",
      "✅ DUOT - BalanceSheet_Quarter 데이터 삽입 완료\n"
     ]
    },
    {
     "name": "stderr",
     "output_type": "stream",
     "text": [
      "Processing Companies:  28%|██▊       | 1160/4204 [55:54<2:25:37,  2.87s/it]"
     ]
    },
    {
     "name": "stdout",
     "output_type": "stream",
     "text": [
      "✅ DUOT - CashFlow_Quarter 데이터 삽입 완료\n",
      "✅ DV - IncomeStatement_Quarter 데이터 삽입 완료\n",
      "✅ DV - BalanceSheet_Quarter 데이터 삽입 완료\n"
     ]
    },
    {
     "name": "stderr",
     "output_type": "stream",
     "text": [
      "Processing Companies:  28%|██▊       | 1161/4204 [55:57<2:24:22,  2.85s/it]"
     ]
    },
    {
     "name": "stdout",
     "output_type": "stream",
     "text": [
      "✅ DV - CashFlow_Quarter 데이터 삽입 완료\n",
      "✅ DVAX - IncomeStatement_Quarter 데이터 삽입 완료\n",
      "✅ DVAX - BalanceSheet_Quarter 데이터 삽입 완료\n"
     ]
    },
    {
     "name": "stderr",
     "output_type": "stream",
     "text": [
      "Processing Companies:  28%|██▊       | 1162/4204 [56:00<2:24:11,  2.84s/it]"
     ]
    },
    {
     "name": "stdout",
     "output_type": "stream",
     "text": [
      "✅ DVAX - CashFlow_Quarter 데이터 삽입 완료\n",
      "✅ DVLT - IncomeStatement_Quarter 데이터 삽입 완료\n",
      "✅ DVLT - BalanceSheet_Quarter 데이터 삽입 완료\n"
     ]
    },
    {
     "name": "stderr",
     "output_type": "stream",
     "text": [
      "Processing Companies:  28%|██▊       | 1163/4204 [56:02<2:22:51,  2.82s/it]"
     ]
    },
    {
     "name": "stdout",
     "output_type": "stream",
     "text": [
      "✅ DVLT - CashFlow_Quarter 데이터 삽입 완료\n",
      "✅ DVA - IncomeStatement_Quarter 데이터 삽입 완료\n",
      "✅ DVA - BalanceSheet_Quarter 데이터 삽입 완료\n"
     ]
    },
    {
     "name": "stderr",
     "output_type": "stream",
     "text": [
      "Processing Companies:  28%|██▊       | 1164/4204 [56:05<2:26:57,  2.90s/it]"
     ]
    },
    {
     "name": "stdout",
     "output_type": "stream",
     "text": [
      "✅ DVA - CashFlow_Quarter 데이터 삽입 완료\n",
      "✅ DVN - IncomeStatement_Quarter 데이터 삽입 완료\n",
      "✅ DVN - BalanceSheet_Quarter 데이터 삽입 완료\n"
     ]
    },
    {
     "name": "stderr",
     "output_type": "stream",
     "text": [
      "Processing Companies:  28%|██▊       | 1165/4204 [56:08<2:27:47,  2.92s/it]"
     ]
    },
    {
     "name": "stdout",
     "output_type": "stream",
     "text": [
      "✅ DVN - CashFlow_Quarter 데이터 삽입 완료\n",
      "✅ DVS - IncomeStatement_Quarter 데이터 삽입 완료\n",
      "✅ DVS - BalanceSheet_Quarter 데이터 삽입 완료\n"
     ]
    },
    {
     "name": "stderr",
     "output_type": "stream",
     "text": [
      "Processing Companies:  28%|██▊       | 1166/4204 [56:11<2:26:59,  2.90s/it]"
     ]
    },
    {
     "name": "stdout",
     "output_type": "stream",
     "text": [
      "✅ DVS - CashFlow_Quarter 데이터 삽입 완료\n",
      "✅ DWSN - IncomeStatement_Quarter 데이터 삽입 완료\n",
      "✅ DWSN - BalanceSheet_Quarter 데이터 삽입 완료\n"
     ]
    },
    {
     "name": "stderr",
     "output_type": "stream",
     "text": [
      "Processing Companies:  28%|██▊       | 1167/4204 [56:14<2:32:06,  3.01s/it]"
     ]
    },
    {
     "name": "stdout",
     "output_type": "stream",
     "text": [
      "✅ DWSN - CashFlow_Quarter 데이터 삽입 완료\n",
      "✅ DWTX - IncomeStatement_Quarter 데이터 삽입 완료\n",
      "✅ DWTX - BalanceSheet_Quarter 데이터 삽입 완료\n"
     ]
    },
    {
     "name": "stderr",
     "output_type": "stream",
     "text": [
      "Processing Companies:  28%|██▊       | 1168/4204 [56:17<2:28:20,  2.93s/it]"
     ]
    },
    {
     "name": "stdout",
     "output_type": "stream",
     "text": [
      "✅ DWTX - CashFlow_Quarter 데이터 삽입 완료\n",
      "✅ DX - IncomeStatement_Quarter 데이터 삽입 완료\n",
      "✅ DX - BalanceSheet_Quarter 데이터 삽입 완료\n"
     ]
    },
    {
     "name": "stderr",
     "output_type": "stream",
     "text": [
      "Processing Companies:  28%|██▊       | 1169/4204 [56:20<2:25:21,  2.87s/it]"
     ]
    },
    {
     "name": "stdout",
     "output_type": "stream",
     "text": [
      "✅ DX - CashFlow_Quarter 데이터 삽입 완료\n",
      "✅ DXCM - IncomeStatement_Quarter 데이터 삽입 완료\n",
      "✅ DXCM - BalanceSheet_Quarter 데이터 삽입 완료\n"
     ]
    },
    {
     "name": "stderr",
     "output_type": "stream",
     "text": [
      "Processing Companies:  28%|██▊       | 1170/4204 [56:23<2:24:20,  2.85s/it]"
     ]
    },
    {
     "name": "stdout",
     "output_type": "stream",
     "text": [
      "✅ DXCM - CashFlow_Quarter 데이터 삽입 완료\n",
      "✅ DXC - IncomeStatement_Quarter 데이터 삽입 완료\n",
      "✅ DXC - BalanceSheet_Quarter 데이터 삽입 완료\n"
     ]
    },
    {
     "name": "stderr",
     "output_type": "stream",
     "text": [
      "Processing Companies:  28%|██▊       | 1171/4204 [56:26<2:23:22,  2.84s/it]"
     ]
    },
    {
     "name": "stdout",
     "output_type": "stream",
     "text": [
      "✅ DXC - CashFlow_Quarter 데이터 삽입 완료\n",
      "❌ IncomeStatement_Quarter 데이터 없음\n",
      "✅ DXR - BalanceSheet_Quarter 데이터 삽입 완료\n"
     ]
    },
    {
     "name": "stderr",
     "output_type": "stream",
     "text": [
      "Processing Companies:  28%|██▊       | 1172/4204 [56:28<2:21:56,  2.81s/it]"
     ]
    },
    {
     "name": "stdout",
     "output_type": "stream",
     "text": [
      "❌ CashFlow_Quarter 데이터 없음\n",
      "✅ DXPE - IncomeStatement_Quarter 데이터 삽입 완료\n",
      "✅ DXPE - BalanceSheet_Quarter 데이터 삽입 완료\n"
     ]
    },
    {
     "name": "stderr",
     "output_type": "stream",
     "text": [
      "Processing Companies:  28%|██▊       | 1173/4204 [56:31<2:21:46,  2.81s/it]"
     ]
    },
    {
     "name": "stdout",
     "output_type": "stream",
     "text": [
      "✅ DXPE - CashFlow_Quarter 데이터 삽입 완료\n",
      "✅ DXLG - IncomeStatement_Quarter 데이터 삽입 완료\n",
      "✅ DXLG - BalanceSheet_Quarter 데이터 삽입 완료\n"
     ]
    },
    {
     "name": "stderr",
     "output_type": "stream",
     "text": [
      "Processing Companies:  28%|██▊       | 1174/4204 [56:34<2:23:03,  2.83s/it]"
     ]
    },
    {
     "name": "stdout",
     "output_type": "stream",
     "text": [
      "✅ DXLG - CashFlow_Quarter 데이터 삽입 완료\n",
      "✅ DY - IncomeStatement_Quarter 데이터 삽입 완료\n",
      "✅ DY - BalanceSheet_Quarter 데이터 삽입 완료\n"
     ]
    },
    {
     "name": "stderr",
     "output_type": "stream",
     "text": [
      "Processing Companies:  28%|██▊       | 1175/4204 [56:37<2:22:26,  2.82s/it]"
     ]
    },
    {
     "name": "stdout",
     "output_type": "stream",
     "text": [
      "✅ DY - CashFlow_Quarter 데이터 삽입 완료\n",
      "✅ DYAI - IncomeStatement_Quarter 데이터 삽입 완료\n",
      "✅ DYAI - BalanceSheet_Quarter 데이터 삽입 완료\n"
     ]
    },
    {
     "name": "stderr",
     "output_type": "stream",
     "text": [
      "Processing Companies:  28%|██▊       | 1176/4204 [56:40<2:21:15,  2.80s/it]"
     ]
    },
    {
     "name": "stdout",
     "output_type": "stream",
     "text": [
      "✅ DYAI - CashFlow_Quarter 데이터 삽입 완료\n",
      "✅ DYN - IncomeStatement_Quarter 데이터 삽입 완료\n",
      "✅ DYN - BalanceSheet_Quarter 데이터 삽입 완료\n"
     ]
    },
    {
     "name": "stderr",
     "output_type": "stream",
     "text": [
      "Processing Companies:  28%|██▊       | 1177/4204 [56:42<2:19:50,  2.77s/it]"
     ]
    },
    {
     "name": "stdout",
     "output_type": "stream",
     "text": [
      "✅ DYN - CashFlow_Quarter 데이터 삽입 완료\n",
      "✅ E - IncomeStatement_Quarter 데이터 삽입 완료\n",
      "✅ E - BalanceSheet_Quarter 데이터 삽입 완료\n"
     ]
    },
    {
     "name": "stderr",
     "output_type": "stream",
     "text": [
      "Processing Companies:  28%|██▊       | 1178/4204 [56:45<2:27:04,  2.92s/it]"
     ]
    },
    {
     "name": "stdout",
     "output_type": "stream",
     "text": [
      "✅ E - CashFlow_Quarter 데이터 삽입 완료\n",
      "✅ EA - IncomeStatement_Quarter 데이터 삽입 완료\n",
      "✅ EA - BalanceSheet_Quarter 데이터 삽입 완료\n"
     ]
    },
    {
     "name": "stderr",
     "output_type": "stream",
     "text": [
      "Processing Companies:  28%|██▊       | 1179/4204 [56:48<2:26:39,  2.91s/it]"
     ]
    },
    {
     "name": "stdout",
     "output_type": "stream",
     "text": [
      "✅ EA - CashFlow_Quarter 데이터 삽입 완료\n",
      "✅ EAF - IncomeStatement_Quarter 데이터 삽입 완료\n",
      "✅ EAF - BalanceSheet_Quarter 데이터 삽입 완료\n"
     ]
    },
    {
     "name": "stderr",
     "output_type": "stream",
     "text": [
      "Processing Companies:  28%|██▊       | 1180/4204 [56:51<2:27:14,  2.92s/it]"
     ]
    },
    {
     "name": "stdout",
     "output_type": "stream",
     "text": [
      "✅ EAF - CashFlow_Quarter 데이터 삽입 완료\n",
      "✅ EAT - IncomeStatement_Quarter 데이터 삽입 완료\n",
      "✅ EAT - BalanceSheet_Quarter 데이터 삽입 완료\n"
     ]
    },
    {
     "name": "stderr",
     "output_type": "stream",
     "text": [
      "Processing Companies:  28%|██▊       | 1181/4204 [56:54<2:26:54,  2.92s/it]"
     ]
    },
    {
     "name": "stdout",
     "output_type": "stream",
     "text": [
      "✅ EAT - CashFlow_Quarter 데이터 삽입 완료\n",
      "✅ EBAY - IncomeStatement_Quarter 데이터 삽입 완료\n",
      "✅ EBAY - BalanceSheet_Quarter 데이터 삽입 완료\n"
     ]
    },
    {
     "name": "stderr",
     "output_type": "stream",
     "text": [
      "Processing Companies:  28%|██▊       | 1182/4204 [56:57<2:26:05,  2.90s/it]"
     ]
    },
    {
     "name": "stdout",
     "output_type": "stream",
     "text": [
      "✅ EBAY - CashFlow_Quarter 데이터 삽입 완료\n",
      "✅ EB - IncomeStatement_Quarter 데이터 삽입 완료\n",
      "✅ EB - BalanceSheet_Quarter 데이터 삽입 완료\n"
     ]
    },
    {
     "name": "stderr",
     "output_type": "stream",
     "text": [
      "Processing Companies:  28%|██▊       | 1183/4204 [57:00<2:25:16,  2.89s/it]"
     ]
    },
    {
     "name": "stdout",
     "output_type": "stream",
     "text": [
      "✅ EB - CashFlow_Quarter 데이터 삽입 완료\n",
      "❌ IncomeStatement_Quarter 데이터 없음\n",
      "✅ EBON - BalanceSheet_Quarter 데이터 삽입 완료\n"
     ]
    },
    {
     "name": "stderr",
     "output_type": "stream",
     "text": [
      "Processing Companies:  28%|██▊       | 1184/4204 [57:03<2:23:58,  2.86s/it]"
     ]
    },
    {
     "name": "stdout",
     "output_type": "stream",
     "text": [
      "❌ CashFlow_Quarter 데이터 없음\n",
      "✅ EBMT - IncomeStatement_Quarter 데이터 삽입 완료\n",
      "✅ EBMT - BalanceSheet_Quarter 데이터 삽입 완료\n"
     ]
    },
    {
     "name": "stderr",
     "output_type": "stream",
     "text": [
      "Processing Companies:  28%|██▊       | 1185/4204 [57:06<2:23:22,  2.85s/it]"
     ]
    },
    {
     "name": "stdout",
     "output_type": "stream",
     "text": [
      "✅ EBMT - CashFlow_Quarter 데이터 삽입 완료\n",
      "✅ EBR - IncomeStatement_Quarter 데이터 삽입 완료\n",
      "✅ EBR - BalanceSheet_Quarter 데이터 삽입 완료\n"
     ]
    },
    {
     "name": "stderr",
     "output_type": "stream",
     "text": [
      "Processing Companies:  28%|██▊       | 1186/4204 [57:08<2:24:04,  2.86s/it]"
     ]
    },
    {
     "name": "stdout",
     "output_type": "stream",
     "text": [
      "✅ EBR - CashFlow_Quarter 데이터 삽입 완료\n",
      "✅ EBC - IncomeStatement_Quarter 데이터 삽입 완료\n",
      "✅ EBC - BalanceSheet_Quarter 데이터 삽입 완료\n"
     ]
    },
    {
     "name": "stderr",
     "output_type": "stream",
     "text": [
      "Processing Companies:  28%|██▊       | 1187/4204 [57:11<2:22:26,  2.83s/it]"
     ]
    },
    {
     "name": "stdout",
     "output_type": "stream",
     "text": [
      "✅ EBC - CashFlow_Quarter 데이터 삽입 완료\n",
      "✅ EBF - IncomeStatement_Quarter 데이터 삽입 완료\n",
      "✅ EBF - BalanceSheet_Quarter 데이터 삽입 완료\n"
     ]
    },
    {
     "name": "stderr",
     "output_type": "stream",
     "text": [
      "Processing Companies:  28%|██▊       | 1188/4204 [57:14<2:21:54,  2.82s/it]"
     ]
    },
    {
     "name": "stdout",
     "output_type": "stream",
     "text": [
      "✅ EBF - CashFlow_Quarter 데이터 삽입 완료\n",
      "✅ EC - IncomeStatement_Quarter 데이터 삽입 완료\n",
      "✅ EC - BalanceSheet_Quarter 데이터 삽입 완료\n"
     ]
    },
    {
     "name": "stderr",
     "output_type": "stream",
     "text": [
      "Processing Companies:  28%|██▊       | 1189/4204 [57:17<2:20:34,  2.80s/it]"
     ]
    },
    {
     "name": "stdout",
     "output_type": "stream",
     "text": [
      "❌ CashFlow_Quarter 데이터 없음\n",
      "✅ EBS - IncomeStatement_Quarter 데이터 삽입 완료\n",
      "✅ EBS - BalanceSheet_Quarter 데이터 삽입 완료\n"
     ]
    },
    {
     "name": "stderr",
     "output_type": "stream",
     "text": [
      "Processing Companies:  28%|██▊       | 1190/4204 [57:20<2:20:55,  2.81s/it]"
     ]
    },
    {
     "name": "stdout",
     "output_type": "stream",
     "text": [
      "✅ EBS - CashFlow_Quarter 데이터 삽입 완료\n"
     ]
    },
    {
     "name": "stderr",
     "output_type": "stream",
     "text": [
      "$EBTC: possibly delisted; no price data found  (period=5d)\n"
     ]
    },
    {
     "name": "stdout",
     "output_type": "stream",
     "text": [
      "✅ EBTC - IncomeStatement_Quarter 데이터 삽입 완료\n",
      "✅ EBTC - BalanceSheet_Quarter 데이터 삽입 완료\n"
     ]
    },
    {
     "name": "stderr",
     "output_type": "stream",
     "text": [
      "Processing Companies:  28%|██▊       | 1191/4204 [57:22<2:21:11,  2.81s/it]"
     ]
    },
    {
     "name": "stdout",
     "output_type": "stream",
     "text": [
      "✅ EBTC - CashFlow_Quarter 데이터 삽입 완료\n",
      "✅ ECL - IncomeStatement_Quarter 데이터 삽입 완료\n",
      "✅ ECL - BalanceSheet_Quarter 데이터 삽입 완료\n"
     ]
    },
    {
     "name": "stderr",
     "output_type": "stream",
     "text": [
      "Processing Companies:  28%|██▊       | 1192/4204 [57:25<2:21:21,  2.82s/it]"
     ]
    },
    {
     "name": "stdout",
     "output_type": "stream",
     "text": [
      "✅ ECL - CashFlow_Quarter 데이터 삽입 완료\n",
      "✅ ECPG - IncomeStatement_Quarter 데이터 삽입 완료\n",
      "✅ ECPG - BalanceSheet_Quarter 데이터 삽입 완료\n"
     ]
    },
    {
     "name": "stderr",
     "output_type": "stream",
     "text": [
      "Processing Companies:  28%|██▊       | 1193/4204 [57:28<2:21:39,  2.82s/it]"
     ]
    },
    {
     "name": "stdout",
     "output_type": "stream",
     "text": [
      "✅ ECPG - CashFlow_Quarter 데이터 삽입 완료\n",
      "✅ ECOR - IncomeStatement_Quarter 데이터 삽입 완료\n",
      "✅ ECOR - BalanceSheet_Quarter 데이터 삽입 완료\n"
     ]
    },
    {
     "name": "stderr",
     "output_type": "stream",
     "text": [
      "Processing Companies:  28%|██▊       | 1194/4204 [57:31<2:21:58,  2.83s/it]"
     ]
    },
    {
     "name": "stdout",
     "output_type": "stream",
     "text": [
      "✅ ECOR - CashFlow_Quarter 데이터 삽입 완료\n",
      "✅ ED - IncomeStatement_Quarter 데이터 삽입 완료\n",
      "✅ ED - BalanceSheet_Quarter 데이터 삽입 완료\n"
     ]
    },
    {
     "name": "stderr",
     "output_type": "stream",
     "text": [
      "Processing Companies:  28%|██▊       | 1195/4204 [57:34<2:25:56,  2.91s/it]"
     ]
    },
    {
     "name": "stdout",
     "output_type": "stream",
     "text": [
      "✅ ED - CashFlow_Quarter 데이터 삽입 완료\n",
      "✅ EDBL - IncomeStatement_Quarter 데이터 삽입 완료\n",
      "✅ EDBL - BalanceSheet_Quarter 데이터 삽입 완료\n"
     ]
    },
    {
     "name": "stderr",
     "output_type": "stream",
     "text": [
      "Processing Companies:  28%|██▊       | 1196/4204 [57:37<2:22:47,  2.85s/it]"
     ]
    },
    {
     "name": "stdout",
     "output_type": "stream",
     "text": [
      "✅ EDBL - CashFlow_Quarter 데이터 삽입 완료\n",
      "✅ EDAP - IncomeStatement_Quarter 데이터 삽입 완료\n",
      "✅ EDAP - BalanceSheet_Quarter 데이터 삽입 완료\n"
     ]
    },
    {
     "name": "stderr",
     "output_type": "stream",
     "text": [
      "Processing Companies:  28%|██▊       | 1197/4204 [57:40<2:24:57,  2.89s/it]"
     ]
    },
    {
     "name": "stdout",
     "output_type": "stream",
     "text": [
      "✅ EDAP - CashFlow_Quarter 데이터 삽입 완료\n",
      "✅ EDRY - IncomeStatement_Quarter 데이터 삽입 완료\n",
      "✅ EDRY - BalanceSheet_Quarter 데이터 삽입 완료\n"
     ]
    },
    {
     "name": "stderr",
     "output_type": "stream",
     "text": [
      "Processing Companies:  28%|██▊       | 1198/4204 [57:43<2:24:27,  2.88s/it]"
     ]
    },
    {
     "name": "stdout",
     "output_type": "stream",
     "text": [
      "✅ EDRY - CashFlow_Quarter 데이터 삽입 완료\n",
      "✅ EDN - IncomeStatement_Quarter 데이터 삽입 완료\n",
      "✅ EDN - BalanceSheet_Quarter 데이터 삽입 완료\n"
     ]
    },
    {
     "name": "stderr",
     "output_type": "stream",
     "text": [
      "Processing Companies:  29%|██▊       | 1199/4204 [57:45<2:23:44,  2.87s/it]"
     ]
    },
    {
     "name": "stdout",
     "output_type": "stream",
     "text": [
      "✅ EDN - CashFlow_Quarter 데이터 삽입 완료\n",
      "✅ EDIT - IncomeStatement_Quarter 데이터 삽입 완료\n",
      "✅ EDIT - BalanceSheet_Quarter 데이터 삽입 완료\n"
     ]
    },
    {
     "name": "stderr",
     "output_type": "stream",
     "text": [
      "Processing Companies:  29%|██▊       | 1200/4204 [57:48<2:24:46,  2.89s/it]"
     ]
    },
    {
     "name": "stdout",
     "output_type": "stream",
     "text": [
      "✅ EDIT - CashFlow_Quarter 데이터 삽입 완료\n",
      "✅ EDUC - IncomeStatement_Quarter 데이터 삽입 완료\n",
      "✅ EDUC - BalanceSheet_Quarter 데이터 삽입 완료\n"
     ]
    },
    {
     "name": "stderr",
     "output_type": "stream",
     "text": [
      "Processing Companies:  29%|██▊       | 1201/4204 [57:51<2:25:39,  2.91s/it]"
     ]
    },
    {
     "name": "stdout",
     "output_type": "stream",
     "text": [
      "✅ EDUC - CashFlow_Quarter 데이터 삽입 완료\n",
      "✅ EDSA - IncomeStatement_Quarter 데이터 삽입 완료\n",
      "✅ EDSA - BalanceSheet_Quarter 데이터 삽입 완료\n"
     ]
    },
    {
     "name": "stderr",
     "output_type": "stream",
     "text": [
      "Processing Companies:  29%|██▊       | 1202/4204 [57:54<2:23:55,  2.88s/it]"
     ]
    },
    {
     "name": "stdout",
     "output_type": "stream",
     "text": [
      "✅ EDSA - CashFlow_Quarter 데이터 삽입 완료\n",
      "✅ EE - IncomeStatement_Quarter 데이터 삽입 완료\n",
      "✅ EE - BalanceSheet_Quarter 데이터 삽입 완료\n"
     ]
    },
    {
     "name": "stderr",
     "output_type": "stream",
     "text": [
      "Processing Companies:  29%|██▊       | 1203/4204 [57:58<2:31:57,  3.04s/it]"
     ]
    },
    {
     "name": "stdout",
     "output_type": "stream",
     "text": [
      "✅ EE - CashFlow_Quarter 데이터 삽입 완료\n",
      "✅ EDU - IncomeStatement_Quarter 데이터 삽입 완료\n",
      "✅ EDU - BalanceSheet_Quarter 데이터 삽입 완료\n"
     ]
    },
    {
     "name": "stderr",
     "output_type": "stream",
     "text": [
      "Processing Companies:  29%|██▊       | 1204/4204 [58:00<2:28:51,  2.98s/it]"
     ]
    },
    {
     "name": "stdout",
     "output_type": "stream",
     "text": [
      "✅ EDU - CashFlow_Quarter 데이터 삽입 완료\n",
      "❌ IncomeStatement_Quarter 데이터 없음\n",
      "✅ EDTK - BalanceSheet_Quarter 데이터 삽입 완료\n"
     ]
    },
    {
     "name": "stderr",
     "output_type": "stream",
     "text": [
      "Processing Companies:  29%|██▊       | 1205/4204 [58:03<2:26:18,  2.93s/it]"
     ]
    },
    {
     "name": "stdout",
     "output_type": "stream",
     "text": [
      "❌ CashFlow_Quarter 데이터 없음\n",
      "✅ EEFT - IncomeStatement_Quarter 데이터 삽입 완료\n",
      "✅ EEFT - BalanceSheet_Quarter 데이터 삽입 완료\n"
     ]
    },
    {
     "name": "stderr",
     "output_type": "stream",
     "text": [
      "Processing Companies:  29%|██▊       | 1206/4204 [58:06<2:24:21,  2.89s/it]"
     ]
    },
    {
     "name": "stdout",
     "output_type": "stream",
     "text": [
      "✅ EEFT - CashFlow_Quarter 데이터 삽입 완료\n",
      "❌ IncomeStatement_Quarter 데이터 없음\n",
      "✅ EEIQ - BalanceSheet_Quarter 데이터 삽입 완료\n"
     ]
    },
    {
     "name": "stderr",
     "output_type": "stream",
     "text": [
      "Processing Companies:  29%|██▊       | 1207/4204 [58:09<2:20:49,  2.82s/it]"
     ]
    },
    {
     "name": "stdout",
     "output_type": "stream",
     "text": [
      "❌ CashFlow_Quarter 데이터 없음\n",
      "✅ EEX - IncomeStatement_Quarter 데이터 삽입 완료\n",
      "✅ EEX - BalanceSheet_Quarter 데이터 삽입 완료\n"
     ]
    },
    {
     "name": "stderr",
     "output_type": "stream",
     "text": [
      "Processing Companies:  29%|██▊       | 1208/4204 [58:12<2:21:52,  2.84s/it]"
     ]
    },
    {
     "name": "stdout",
     "output_type": "stream",
     "text": [
      "✅ EEX - CashFlow_Quarter 데이터 삽입 완료\n",
      "✅ EFC - IncomeStatement_Quarter 데이터 삽입 완료\n",
      "✅ EFC - BalanceSheet_Quarter 데이터 삽입 완료\n"
     ]
    },
    {
     "name": "stderr",
     "output_type": "stream",
     "text": [
      "Processing Companies:  29%|██▉       | 1209/4204 [58:14<2:22:56,  2.86s/it]"
     ]
    },
    {
     "name": "stdout",
     "output_type": "stream",
     "text": [
      "✅ EFC - CashFlow_Quarter 데이터 삽입 완료\n",
      "✅ EFOI - IncomeStatement_Quarter 데이터 삽입 완료\n",
      "✅ EFOI - BalanceSheet_Quarter 데이터 삽입 완료\n"
     ]
    },
    {
     "name": "stderr",
     "output_type": "stream",
     "text": [
      "Processing Companies:  29%|██▉       | 1210/4204 [58:17<2:21:57,  2.85s/it]"
     ]
    },
    {
     "name": "stdout",
     "output_type": "stream",
     "text": [
      "✅ EFOI - CashFlow_Quarter 데이터 삽입 완료\n",
      "✅ EFSC - IncomeStatement_Quarter 데이터 삽입 완료\n",
      "✅ EFSC - BalanceSheet_Quarter 데이터 삽입 완료\n"
     ]
    },
    {
     "name": "stderr",
     "output_type": "stream",
     "text": [
      "Processing Companies:  29%|██▉       | 1211/4204 [58:20<2:20:32,  2.82s/it]"
     ]
    },
    {
     "name": "stdout",
     "output_type": "stream",
     "text": [
      "✅ EFSC - CashFlow_Quarter 데이터 삽입 완료\n",
      "✅ EFSCP - IncomeStatement_Quarter 데이터 삽입 완료\n",
      "✅ EFSCP - BalanceSheet_Quarter 데이터 삽입 완료\n"
     ]
    },
    {
     "name": "stderr",
     "output_type": "stream",
     "text": [
      "Processing Companies:  29%|██▉       | 1212/4204 [58:23<2:19:14,  2.79s/it]"
     ]
    },
    {
     "name": "stdout",
     "output_type": "stream",
     "text": [
      "✅ EFSCP - CashFlow_Quarter 데이터 삽입 완료\n",
      "✅ EFXT - IncomeStatement_Quarter 데이터 삽입 완료\n",
      "✅ EFXT - BalanceSheet_Quarter 데이터 삽입 완료\n"
     ]
    },
    {
     "name": "stderr",
     "output_type": "stream",
     "text": [
      "Processing Companies:  29%|██▉       | 1213/4204 [58:26<2:22:28,  2.86s/it]"
     ]
    },
    {
     "name": "stdout",
     "output_type": "stream",
     "text": [
      "✅ EFXT - CashFlow_Quarter 데이터 삽입 완료\n",
      "✅ EFSI - IncomeStatement_Quarter 데이터 삽입 완료\n",
      "✅ EFSI - BalanceSheet_Quarter 데이터 삽입 완료\n"
     ]
    },
    {
     "name": "stderr",
     "output_type": "stream",
     "text": [
      "Processing Companies:  29%|██▉       | 1214/4204 [58:29<2:22:57,  2.87s/it]"
     ]
    },
    {
     "name": "stdout",
     "output_type": "stream",
     "text": [
      "✅ EFSI - CashFlow_Quarter 데이터 삽입 완료\n",
      "✅ EFX - IncomeStatement_Quarter 데이터 삽입 완료\n",
      "✅ EFX - BalanceSheet_Quarter 데이터 삽입 완료\n"
     ]
    },
    {
     "name": "stderr",
     "output_type": "stream",
     "text": [
      "Processing Companies:  29%|██▉       | 1215/4204 [58:31<2:21:42,  2.84s/it]"
     ]
    },
    {
     "name": "stdout",
     "output_type": "stream",
     "text": [
      "✅ EFX - CashFlow_Quarter 데이터 삽입 완료\n",
      "✅ EG - IncomeStatement_Quarter 데이터 삽입 완료\n",
      "✅ EG - BalanceSheet_Quarter 데이터 삽입 완료\n"
     ]
    },
    {
     "name": "stderr",
     "output_type": "stream",
     "text": [
      "Processing Companies:  29%|██▉       | 1216/4204 [58:34<2:20:17,  2.82s/it]"
     ]
    },
    {
     "name": "stdout",
     "output_type": "stream",
     "text": [
      "✅ EG - CashFlow_Quarter 데이터 삽입 완료\n",
      "✅ EGAN - IncomeStatement_Quarter 데이터 삽입 완료\n",
      "✅ EGAN - BalanceSheet_Quarter 데이터 삽입 완료\n"
     ]
    },
    {
     "name": "stderr",
     "output_type": "stream",
     "text": [
      "Processing Companies:  29%|██▉       | 1217/4204 [58:37<2:22:06,  2.85s/it]"
     ]
    },
    {
     "name": "stdout",
     "output_type": "stream",
     "text": [
      "✅ EGAN - CashFlow_Quarter 데이터 삽입 완료\n",
      "✅ EGBN - IncomeStatement_Quarter 데이터 삽입 완료\n",
      "✅ EGBN - BalanceSheet_Quarter 데이터 삽입 완료\n"
     ]
    },
    {
     "name": "stderr",
     "output_type": "stream",
     "text": [
      "Processing Companies:  29%|██▉       | 1218/4204 [58:40<2:20:50,  2.83s/it]"
     ]
    },
    {
     "name": "stdout",
     "output_type": "stream",
     "text": [
      "✅ EGBN - CashFlow_Quarter 데이터 삽입 완료\n",
      "✅ EGHT - IncomeStatement_Quarter 데이터 삽입 완료\n",
      "✅ EGHT - BalanceSheet_Quarter 데이터 삽입 완료\n"
     ]
    },
    {
     "name": "stderr",
     "output_type": "stream",
     "text": [
      "Processing Companies:  29%|██▉       | 1219/4204 [58:43<2:23:20,  2.88s/it]"
     ]
    },
    {
     "name": "stdout",
     "output_type": "stream",
     "text": [
      "✅ EGHT - CashFlow_Quarter 데이터 삽입 완료\n",
      "✅ EGO - IncomeStatement_Quarter 데이터 삽입 완료\n",
      "✅ EGO - BalanceSheet_Quarter 데이터 삽입 완료\n"
     ]
    },
    {
     "name": "stderr",
     "output_type": "stream",
     "text": [
      "Processing Companies:  29%|██▉       | 1220/4204 [58:46<2:23:21,  2.88s/it]"
     ]
    },
    {
     "name": "stdout",
     "output_type": "stream",
     "text": [
      "✅ EGO - CashFlow_Quarter 데이터 삽입 완료\n",
      "✅ EGY - IncomeStatement_Quarter 데이터 삽입 완료\n",
      "✅ EGY - BalanceSheet_Quarter 데이터 삽입 완료\n"
     ]
    },
    {
     "name": "stderr",
     "output_type": "stream",
     "text": [
      "Processing Companies:  29%|██▉       | 1221/4204 [58:49<2:26:06,  2.94s/it]"
     ]
    },
    {
     "name": "stdout",
     "output_type": "stream",
     "text": [
      "✅ EGY - CashFlow_Quarter 데이터 삽입 완료\n",
      "✅ EHAB - IncomeStatement_Quarter 데이터 삽입 완료\n",
      "✅ EHAB - BalanceSheet_Quarter 데이터 삽입 완료\n"
     ]
    },
    {
     "name": "stderr",
     "output_type": "stream",
     "text": [
      "Processing Companies:  29%|██▉       | 1222/4204 [58:52<2:24:42,  2.91s/it]"
     ]
    },
    {
     "name": "stdout",
     "output_type": "stream",
     "text": [
      "✅ EHAB - CashFlow_Quarter 데이터 삽입 완료\n",
      "✅ EHC - IncomeStatement_Quarter 데이터 삽입 완료\n",
      "✅ EHC - BalanceSheet_Quarter 데이터 삽입 완료\n"
     ]
    },
    {
     "name": "stderr",
     "output_type": "stream",
     "text": [
      "Processing Companies:  29%|██▉       | 1223/4204 [58:55<2:25:00,  2.92s/it]"
     ]
    },
    {
     "name": "stdout",
     "output_type": "stream",
     "text": [
      "✅ EHC - CashFlow_Quarter 데이터 삽입 완료\n",
      "✅ EHTH - IncomeStatement_Quarter 데이터 삽입 완료\n",
      "✅ EHTH - BalanceSheet_Quarter 데이터 삽입 완료\n"
     ]
    },
    {
     "name": "stderr",
     "output_type": "stream",
     "text": [
      "Processing Companies:  29%|██▉       | 1224/4204 [58:58<2:26:12,  2.94s/it]"
     ]
    },
    {
     "name": "stdout",
     "output_type": "stream",
     "text": [
      "✅ EHTH - CashFlow_Quarter 데이터 삽입 완료\n",
      "✅ EIG - IncomeStatement_Quarter 데이터 삽입 완료\n",
      "✅ EIG - BalanceSheet_Quarter 데이터 삽입 완료\n"
     ]
    },
    {
     "name": "stderr",
     "output_type": "stream",
     "text": [
      "Processing Companies:  29%|██▉       | 1225/4204 [59:00<2:24:37,  2.91s/it]"
     ]
    },
    {
     "name": "stdout",
     "output_type": "stream",
     "text": [
      "✅ EIG - CashFlow_Quarter 데이터 삽입 완료\n",
      "✅ EIX - IncomeStatement_Quarter 데이터 삽입 완료\n",
      "✅ EIX - BalanceSheet_Quarter 데이터 삽입 완료\n"
     ]
    },
    {
     "name": "stderr",
     "output_type": "stream",
     "text": [
      "Processing Companies:  29%|██▉       | 1226/4204 [59:03<2:25:11,  2.93s/it]"
     ]
    },
    {
     "name": "stdout",
     "output_type": "stream",
     "text": [
      "✅ EIX - CashFlow_Quarter 데이터 삽입 완료\n",
      "❌ IncomeStatement_Quarter 데이터 없음\n",
      "✅ EJH - BalanceSheet_Quarter 데이터 삽입 완료\n"
     ]
    },
    {
     "name": "stderr",
     "output_type": "stream",
     "text": [
      "Processing Companies:  29%|██▉       | 1227/4204 [59:06<2:21:27,  2.85s/it]"
     ]
    },
    {
     "name": "stdout",
     "output_type": "stream",
     "text": [
      "❌ CashFlow_Quarter 데이터 없음\n",
      "✅ EKSO - IncomeStatement_Quarter 데이터 삽입 완료\n",
      "✅ EKSO - BalanceSheet_Quarter 데이터 삽입 완료\n"
     ]
    },
    {
     "name": "stderr",
     "output_type": "stream",
     "text": [
      "Processing Companies:  29%|██▉       | 1228/4204 [59:09<2:21:41,  2.86s/it]"
     ]
    },
    {
     "name": "stdout",
     "output_type": "stream",
     "text": [
      "✅ EKSO - CashFlow_Quarter 데이터 삽입 완료\n",
      "✅ EL - IncomeStatement_Quarter 데이터 삽입 완료\n",
      "✅ EL - BalanceSheet_Quarter 데이터 삽입 완료\n"
     ]
    },
    {
     "name": "stderr",
     "output_type": "stream",
     "text": [
      "Processing Companies:  29%|██▉       | 1229/4204 [59:12<2:22:08,  2.87s/it]"
     ]
    },
    {
     "name": "stdout",
     "output_type": "stream",
     "text": [
      "✅ EL - CashFlow_Quarter 데이터 삽입 완료\n",
      "✅ ELA - IncomeStatement_Quarter 데이터 삽입 완료\n",
      "✅ ELA - BalanceSheet_Quarter 데이터 삽입 완료\n"
     ]
    },
    {
     "name": "stderr",
     "output_type": "stream",
     "text": [
      "Processing Companies:  29%|██▉       | 1230/4204 [59:15<2:21:20,  2.85s/it]"
     ]
    },
    {
     "name": "stdout",
     "output_type": "stream",
     "text": [
      "✅ ELA - CashFlow_Quarter 데이터 삽입 완료\n",
      "✅ ELAN - IncomeStatement_Quarter 데이터 삽입 완료\n",
      "✅ ELAN - BalanceSheet_Quarter 데이터 삽입 완료\n"
     ]
    },
    {
     "name": "stderr",
     "output_type": "stream",
     "text": [
      "Processing Companies:  29%|██▉       | 1231/4204 [59:17<2:20:01,  2.83s/it]"
     ]
    },
    {
     "name": "stdout",
     "output_type": "stream",
     "text": [
      "✅ ELAN - CashFlow_Quarter 데이터 삽입 완료\n",
      "✅ ELBM - IncomeStatement_Quarter 데이터 삽입 완료\n",
      "✅ ELBM - BalanceSheet_Quarter 데이터 삽입 완료\n"
     ]
    },
    {
     "name": "stderr",
     "output_type": "stream",
     "text": [
      "Processing Companies:  29%|██▉       | 1232/4204 [59:20<2:21:27,  2.86s/it]"
     ]
    },
    {
     "name": "stdout",
     "output_type": "stream",
     "text": [
      "✅ ELBM - CashFlow_Quarter 데이터 삽입 완료\n",
      "✅ ELDN - IncomeStatement_Quarter 데이터 삽입 완료\n",
      "✅ ELDN - BalanceSheet_Quarter 데이터 삽입 완료\n"
     ]
    },
    {
     "name": "stderr",
     "output_type": "stream",
     "text": [
      "Processing Companies:  29%|██▉       | 1233/4204 [59:23<2:19:50,  2.82s/it]"
     ]
    },
    {
     "name": "stdout",
     "output_type": "stream",
     "text": [
      "✅ ELDN - CashFlow_Quarter 데이터 삽입 완료\n",
      "✅ ELF - IncomeStatement_Quarter 데이터 삽입 완료\n",
      "✅ ELF - BalanceSheet_Quarter 데이터 삽입 완료\n"
     ]
    },
    {
     "name": "stderr",
     "output_type": "stream",
     "text": [
      "Processing Companies:  29%|██▉       | 1234/4204 [59:26<2:19:48,  2.82s/it]"
     ]
    },
    {
     "name": "stdout",
     "output_type": "stream",
     "text": [
      "✅ ELF - CashFlow_Quarter 데이터 삽입 완료\n",
      "✅ ELEV - IncomeStatement_Quarter 데이터 삽입 완료\n",
      "✅ ELEV - BalanceSheet_Quarter 데이터 삽입 완료\n"
     ]
    },
    {
     "name": "stderr",
     "output_type": "stream",
     "text": [
      "Processing Companies:  29%|██▉       | 1235/4204 [59:29<2:19:04,  2.81s/it]"
     ]
    },
    {
     "name": "stdout",
     "output_type": "stream",
     "text": [
      "✅ ELEV - CashFlow_Quarter 데이터 삽입 완료\n",
      "✅ ELMD - IncomeStatement_Quarter 데이터 삽입 완료\n",
      "✅ ELMD - BalanceSheet_Quarter 데이터 삽입 완료\n"
     ]
    },
    {
     "name": "stderr",
     "output_type": "stream",
     "text": [
      "Processing Companies:  29%|██▉       | 1236/4204 [59:31<2:16:41,  2.76s/it]"
     ]
    },
    {
     "name": "stdout",
     "output_type": "stream",
     "text": [
      "✅ ELMD - CashFlow_Quarter 데이터 삽입 완료\n",
      "✅ ELLO - IncomeStatement_Quarter 데이터 삽입 완료\n",
      "✅ ELLO - BalanceSheet_Quarter 데이터 삽입 완료\n"
     ]
    },
    {
     "name": "stderr",
     "output_type": "stream",
     "text": [
      "Processing Companies:  29%|██▉       | 1237/4204 [59:34<2:17:13,  2.77s/it]"
     ]
    },
    {
     "name": "stdout",
     "output_type": "stream",
     "text": [
      "✅ ELLO - CashFlow_Quarter 데이터 삽입 완료\n",
      "✅ ELME - IncomeStatement_Quarter 데이터 삽입 완료\n",
      "✅ ELME - BalanceSheet_Quarter 데이터 삽입 완료\n"
     ]
    },
    {
     "name": "stderr",
     "output_type": "stream",
     "text": [
      "Processing Companies:  29%|██▉       | 1238/4204 [59:37<2:19:02,  2.81s/it]"
     ]
    },
    {
     "name": "stdout",
     "output_type": "stream",
     "text": [
      "✅ ELME - CashFlow_Quarter 데이터 삽입 완료\n",
      "✅ ELP - IncomeStatement_Quarter 데이터 삽입 완료\n",
      "✅ ELP - BalanceSheet_Quarter 데이터 삽입 완료\n"
     ]
    },
    {
     "name": "stderr",
     "output_type": "stream",
     "text": [
      "Processing Companies:  29%|██▉       | 1239/4204 [59:40<2:19:25,  2.82s/it]"
     ]
    },
    {
     "name": "stdout",
     "output_type": "stream",
     "text": [
      "✅ ELP - CashFlow_Quarter 데이터 삽입 완료\n",
      "✅ ELS - IncomeStatement_Quarter 데이터 삽입 완료\n",
      "✅ ELS - BalanceSheet_Quarter 데이터 삽입 완료\n"
     ]
    },
    {
     "name": "stderr",
     "output_type": "stream",
     "text": [
      "Processing Companies:  29%|██▉       | 1240/4204 [59:43<2:20:00,  2.83s/it]"
     ]
    },
    {
     "name": "stdout",
     "output_type": "stream",
     "text": [
      "✅ ELS - CashFlow_Quarter 데이터 삽입 완료\n",
      "✅ ELSE - IncomeStatement_Quarter 데이터 삽입 완료\n",
      "✅ ELSE - BalanceSheet_Quarter 데이터 삽입 완료\n"
     ]
    },
    {
     "name": "stderr",
     "output_type": "stream",
     "text": [
      "Processing Companies:  30%|██▉       | 1241/4204 [59:46<2:19:58,  2.83s/it]"
     ]
    },
    {
     "name": "stdout",
     "output_type": "stream",
     "text": [
      "✅ ELSE - CashFlow_Quarter 데이터 삽입 완료\n",
      "✅ ELTX - IncomeStatement_Quarter 데이터 삽입 완료\n",
      "✅ ELTX - BalanceSheet_Quarter 데이터 삽입 완료\n"
     ]
    },
    {
     "name": "stderr",
     "output_type": "stream",
     "text": [
      "Processing Companies:  30%|██▉       | 1242/4204 [59:48<2:18:18,  2.80s/it]"
     ]
    },
    {
     "name": "stdout",
     "output_type": "stream",
     "text": [
      "✅ ELTX - CashFlow_Quarter 데이터 삽입 완료\n",
      "✅ ELUT - IncomeStatement_Quarter 데이터 삽입 완료\n",
      "✅ ELUT - BalanceSheet_Quarter 데이터 삽입 완료\n"
     ]
    },
    {
     "name": "stderr",
     "output_type": "stream",
     "text": [
      "Processing Companies:  30%|██▉       | 1243/4204 [59:51<2:20:51,  2.85s/it]"
     ]
    },
    {
     "name": "stdout",
     "output_type": "stream",
     "text": [
      "✅ ELUT - CashFlow_Quarter 데이터 삽입 완료\n",
      "✅ ELV - IncomeStatement_Quarter 데이터 삽입 완료\n",
      "✅ ELV - BalanceSheet_Quarter 데이터 삽입 완료\n"
     ]
    },
    {
     "name": "stderr",
     "output_type": "stream",
     "text": [
      "Processing Companies:  30%|██▉       | 1244/4204 [59:54<2:23:14,  2.90s/it]"
     ]
    },
    {
     "name": "stdout",
     "output_type": "stream",
     "text": [
      "✅ ELV - CashFlow_Quarter 데이터 삽입 완료\n",
      "✅ ELVN - IncomeStatement_Quarter 데이터 삽입 완료\n",
      "✅ ELVN - BalanceSheet_Quarter 데이터 삽입 완료\n"
     ]
    },
    {
     "name": "stderr",
     "output_type": "stream",
     "text": [
      "Processing Companies:  30%|██▉       | 1245/4204 [59:57<2:22:50,  2.90s/it]"
     ]
    },
    {
     "name": "stdout",
     "output_type": "stream",
     "text": [
      "✅ ELVN - CashFlow_Quarter 데이터 삽입 완료\n",
      "✅ EMBC - IncomeStatement_Quarter 데이터 삽입 완료\n",
      "✅ EMBC - BalanceSheet_Quarter 데이터 삽입 완료\n"
     ]
    },
    {
     "name": "stderr",
     "output_type": "stream",
     "text": [
      "Processing Companies:  30%|██▉       | 1246/4204 [1:00:00<2:26:27,  2.97s/it]"
     ]
    },
    {
     "name": "stdout",
     "output_type": "stream",
     "text": [
      "✅ EMBC - CashFlow_Quarter 데이터 삽입 완료\n",
      "✅ EME - IncomeStatement_Quarter 데이터 삽입 완료\n",
      "✅ EME - BalanceSheet_Quarter 데이터 삽입 완료\n"
     ]
    },
    {
     "name": "stderr",
     "output_type": "stream",
     "text": [
      "Processing Companies:  30%|██▉       | 1247/4204 [1:00:03<2:26:13,  2.97s/it]"
     ]
    },
    {
     "name": "stdout",
     "output_type": "stream",
     "text": [
      "✅ EME - CashFlow_Quarter 데이터 삽입 완료\n",
      "✅ EML - IncomeStatement_Quarter 데이터 삽입 완료\n",
      "✅ EML - BalanceSheet_Quarter 데이터 삽입 완료\n"
     ]
    },
    {
     "name": "stderr",
     "output_type": "stream",
     "text": [
      "Processing Companies:  30%|██▉       | 1248/4204 [1:00:06<2:25:17,  2.95s/it]"
     ]
    },
    {
     "name": "stdout",
     "output_type": "stream",
     "text": [
      "✅ EML - CashFlow_Quarter 데이터 삽입 완료\n",
      "✅ EMR - IncomeStatement_Quarter 데이터 삽입 완료\n",
      "✅ EMR - BalanceSheet_Quarter 데이터 삽입 완료\n"
     ]
    },
    {
     "name": "stderr",
     "output_type": "stream",
     "text": [
      "Processing Companies:  30%|██▉       | 1249/4204 [1:00:09<2:29:00,  3.03s/it]"
     ]
    },
    {
     "name": "stdout",
     "output_type": "stream",
     "text": [
      "✅ EMR - CashFlow_Quarter 데이터 삽입 완료\n",
      "✅ ENFY - IncomeStatement_Quarter 데이터 삽입 완료\n",
      "✅ ENFY - BalanceSheet_Quarter 데이터 삽입 완료\n"
     ]
    },
    {
     "name": "stderr",
     "output_type": "stream",
     "text": [
      "Processing Companies:  30%|██▉       | 1250/4204 [1:00:12<2:26:29,  2.98s/it]"
     ]
    },
    {
     "name": "stdout",
     "output_type": "stream",
     "text": [
      "✅ ENFY - CashFlow_Quarter 데이터 삽입 완료\n",
      "✅ ENB - IncomeStatement_Quarter 데이터 삽입 완료\n",
      "✅ ENB - BalanceSheet_Quarter 데이터 삽입 완료\n"
     ]
    },
    {
     "name": "stderr",
     "output_type": "stream",
     "text": [
      "Processing Companies:  30%|██▉       | 1251/4204 [1:00:15<2:28:00,  3.01s/it]"
     ]
    },
    {
     "name": "stdout",
     "output_type": "stream",
     "text": [
      "✅ ENB - CashFlow_Quarter 데이터 삽입 완료\n",
      "✅ ENGN - IncomeStatement_Quarter 데이터 삽입 완료\n",
      "✅ ENGN - BalanceSheet_Quarter 데이터 삽입 완료\n"
     ]
    },
    {
     "name": "stderr",
     "output_type": "stream",
     "text": [
      "Processing Companies:  30%|██▉       | 1252/4204 [1:00:18<2:25:35,  2.96s/it]"
     ]
    },
    {
     "name": "stdout",
     "output_type": "stream",
     "text": [
      "✅ ENGN - CashFlow_Quarter 데이터 삽입 완료\n",
      "✅ ENIC - IncomeStatement_Quarter 데이터 삽입 완료\n",
      "✅ ENIC - BalanceSheet_Quarter 데이터 삽입 완료\n"
     ]
    },
    {
     "name": "stderr",
     "output_type": "stream",
     "text": [
      "Processing Companies:  30%|██▉       | 1253/4204 [1:00:21<2:26:13,  2.97s/it]"
     ]
    },
    {
     "name": "stdout",
     "output_type": "stream",
     "text": [
      "✅ ENIC - CashFlow_Quarter 데이터 삽입 완료\n",
      "✅ ENOV - IncomeStatement_Quarter 데이터 삽입 완료\n",
      "✅ ENOV - BalanceSheet_Quarter 데이터 삽입 완료\n"
     ]
    },
    {
     "name": "stderr",
     "output_type": "stream",
     "text": [
      "Processing Companies:  30%|██▉       | 1254/4204 [1:00:24<2:23:46,  2.92s/it]"
     ]
    },
    {
     "name": "stdout",
     "output_type": "stream",
     "text": [
      "✅ ENOV - CashFlow_Quarter 데이터 삽입 완료\n",
      "✅ ENPH - IncomeStatement_Quarter 데이터 삽입 완료\n",
      "✅ ENPH - BalanceSheet_Quarter 데이터 삽입 완료\n"
     ]
    },
    {
     "name": "stderr",
     "output_type": "stream",
     "text": [
      "Processing Companies:  30%|██▉       | 1255/4204 [1:00:27<2:22:32,  2.90s/it]"
     ]
    },
    {
     "name": "stdout",
     "output_type": "stream",
     "text": [
      "✅ ENPH - CashFlow_Quarter 데이터 삽입 완료\n",
      "✅ ENSG - IncomeStatement_Quarter 데이터 삽입 완료\n",
      "✅ ENSG - BalanceSheet_Quarter 데이터 삽입 완료\n"
     ]
    },
    {
     "name": "stderr",
     "output_type": "stream",
     "text": [
      "Processing Companies:  30%|██▉       | 1256/4204 [1:00:30<2:23:18,  2.92s/it]"
     ]
    },
    {
     "name": "stdout",
     "output_type": "stream",
     "text": [
      "✅ ENSG - CashFlow_Quarter 데이터 삽입 완료\n",
      "✅ ENSC - IncomeStatement_Quarter 데이터 삽입 완료\n",
      "✅ ENSC - BalanceSheet_Quarter 데이터 삽입 완료\n"
     ]
    },
    {
     "name": "stderr",
     "output_type": "stream",
     "text": [
      "Processing Companies:  30%|██▉       | 1257/4204 [1:00:33<2:23:50,  2.93s/it]"
     ]
    },
    {
     "name": "stdout",
     "output_type": "stream",
     "text": [
      "✅ ENSC - CashFlow_Quarter 데이터 삽입 완료\n",
      "✅ ENR - IncomeStatement_Quarter 데이터 삽입 완료\n",
      "✅ ENR - BalanceSheet_Quarter 데이터 삽입 완료\n"
     ]
    },
    {
     "name": "stderr",
     "output_type": "stream",
     "text": [
      "Processing Companies:  30%|██▉       | 1258/4204 [1:00:36<2:24:31,  2.94s/it]"
     ]
    },
    {
     "name": "stdout",
     "output_type": "stream",
     "text": [
      "✅ ENR - CashFlow_Quarter 데이터 삽입 완료\n",
      "✅ ENTA - IncomeStatement_Quarter 데이터 삽입 완료\n",
      "✅ ENTA - BalanceSheet_Quarter 데이터 삽입 완료\n"
     ]
    },
    {
     "name": "stderr",
     "output_type": "stream",
     "text": [
      "Processing Companies:  30%|██▉       | 1259/4204 [1:00:39<2:23:01,  2.91s/it]"
     ]
    },
    {
     "name": "stdout",
     "output_type": "stream",
     "text": [
      "✅ ENTA - CashFlow_Quarter 데이터 삽입 완료\n",
      "✅ ENVA - IncomeStatement_Quarter 데이터 삽입 완료\n",
      "✅ ENVA - BalanceSheet_Quarter 데이터 삽입 완료\n"
     ]
    },
    {
     "name": "stderr",
     "output_type": "stream",
     "text": [
      "Processing Companies:  30%|██▉       | 1260/4204 [1:00:41<2:21:31,  2.88s/it]"
     ]
    },
    {
     "name": "stdout",
     "output_type": "stream",
     "text": [
      "✅ ENVA - CashFlow_Quarter 데이터 삽입 완료\n",
      "✅ ENVB - IncomeStatement_Quarter 데이터 삽입 완료\n",
      "✅ ENVB - BalanceSheet_Quarter 데이터 삽입 완료\n"
     ]
    },
    {
     "name": "stderr",
     "output_type": "stream",
     "text": [
      "Processing Companies:  30%|██▉       | 1261/4204 [1:00:44<2:19:27,  2.84s/it]"
     ]
    },
    {
     "name": "stdout",
     "output_type": "stream",
     "text": [
      "✅ ENVB - CashFlow_Quarter 데이터 삽입 완료\n",
      "✅ ENTO - IncomeStatement_Quarter 데이터 삽입 완료\n",
      "✅ ENTO - BalanceSheet_Quarter 데이터 삽입 완료\n"
     ]
    },
    {
     "name": "stderr",
     "output_type": "stream",
     "text": [
      "Processing Companies:  30%|███       | 1262/4204 [1:00:47<2:18:36,  2.83s/it]"
     ]
    },
    {
     "name": "stdout",
     "output_type": "stream",
     "text": [
      "✅ ENTO - CashFlow_Quarter 데이터 삽입 완료\n",
      "✅ ENTX - IncomeStatement_Quarter 데이터 삽입 완료\n",
      "✅ ENTX - BalanceSheet_Quarter 데이터 삽입 완료\n"
     ]
    },
    {
     "name": "stderr",
     "output_type": "stream",
     "text": [
      "Processing Companies:  30%|███       | 1263/4204 [1:00:50<2:19:44,  2.85s/it]"
     ]
    },
    {
     "name": "stdout",
     "output_type": "stream",
     "text": [
      "✅ ENTX - CashFlow_Quarter 데이터 삽입 완료\n",
      "✅ ENVX - IncomeStatement_Quarter 데이터 삽입 완료\n",
      "✅ ENVX - BalanceSheet_Quarter 데이터 삽입 완료\n"
     ]
    },
    {
     "name": "stderr",
     "output_type": "stream",
     "text": [
      "Processing Companies:  30%|███       | 1264/4204 [1:00:53<2:19:38,  2.85s/it]"
     ]
    },
    {
     "name": "stdout",
     "output_type": "stream",
     "text": [
      "✅ ENVX - CashFlow_Quarter 데이터 삽입 완료\n",
      "✅ EOG - IncomeStatement_Quarter 데이터 삽입 완료\n",
      "✅ EOG - BalanceSheet_Quarter 데이터 삽입 완료\n"
     ]
    },
    {
     "name": "stderr",
     "output_type": "stream",
     "text": [
      "Processing Companies:  30%|███       | 1265/4204 [1:00:56<2:20:35,  2.87s/it]"
     ]
    },
    {
     "name": "stdout",
     "output_type": "stream",
     "text": [
      "✅ EOG - CashFlow_Quarter 데이터 삽입 완료\n",
      "✅ EOLS - IncomeStatement_Quarter 데이터 삽입 완료\n",
      "✅ EOLS - BalanceSheet_Quarter 데이터 삽입 완료\n"
     ]
    },
    {
     "name": "stderr",
     "output_type": "stream",
     "text": [
      "Processing Companies:  30%|███       | 1266/4204 [1:00:58<2:19:17,  2.84s/it]"
     ]
    },
    {
     "name": "stdout",
     "output_type": "stream",
     "text": [
      "✅ EOLS - CashFlow_Quarter 데이터 삽입 완료\n",
      "✅ EONR - IncomeStatement_Quarter 데이터 삽입 완료\n",
      "✅ EONR - BalanceSheet_Quarter 데이터 삽입 완료\n"
     ]
    },
    {
     "name": "stderr",
     "output_type": "stream",
     "text": [
      "Processing Companies:  30%|███       | 1267/4204 [1:01:01<2:17:56,  2.82s/it]"
     ]
    },
    {
     "name": "stdout",
     "output_type": "stream",
     "text": [
      "✅ EONR - CashFlow_Quarter 데이터 삽입 완료\n",
      "✅ EOSE - IncomeStatement_Quarter 데이터 삽입 완료\n",
      "✅ EOSE - BalanceSheet_Quarter 데이터 삽입 완료\n"
     ]
    },
    {
     "name": "stderr",
     "output_type": "stream",
     "text": [
      "Processing Companies:  30%|███       | 1268/4204 [1:01:04<2:21:28,  2.89s/it]"
     ]
    },
    {
     "name": "stdout",
     "output_type": "stream",
     "text": [
      "✅ EOSE - CashFlow_Quarter 데이터 삽입 완료\n",
      "✅ EPAC - IncomeStatement_Quarter 데이터 삽입 완료\n",
      "✅ EPAC - BalanceSheet_Quarter 데이터 삽입 완료\n"
     ]
    },
    {
     "name": "stderr",
     "output_type": "stream",
     "text": [
      "Processing Companies:  30%|███       | 1269/4204 [1:01:07<2:22:10,  2.91s/it]"
     ]
    },
    {
     "name": "stdout",
     "output_type": "stream",
     "text": [
      "✅ EPAC - CashFlow_Quarter 데이터 삽입 완료\n",
      "✅ EPAM - IncomeStatement_Quarter 데이터 삽입 완료\n",
      "✅ EPAM - BalanceSheet_Quarter 데이터 삽입 완료\n"
     ]
    },
    {
     "name": "stderr",
     "output_type": "stream",
     "text": [
      "Processing Companies:  30%|███       | 1270/4204 [1:01:10<2:27:03,  3.01s/it]"
     ]
    },
    {
     "name": "stdout",
     "output_type": "stream",
     "text": [
      "✅ EPAM - CashFlow_Quarter 데이터 삽입 완료\n",
      "✅ EP - IncomeStatement_Quarter 데이터 삽입 완료\n",
      "✅ EP - BalanceSheet_Quarter 데이터 삽입 완료\n"
     ]
    },
    {
     "name": "stderr",
     "output_type": "stream",
     "text": [
      "Processing Companies:  30%|███       | 1271/4204 [1:01:13<2:23:09,  2.93s/it]"
     ]
    },
    {
     "name": "stdout",
     "output_type": "stream",
     "text": [
      "✅ EP - CashFlow_Quarter 데이터 삽입 완료\n",
      "✅ EPC - IncomeStatement_Quarter 데이터 삽입 완료\n",
      "✅ EPC - BalanceSheet_Quarter 데이터 삽입 완료\n"
     ]
    },
    {
     "name": "stderr",
     "output_type": "stream",
     "text": [
      "Processing Companies:  30%|███       | 1272/4204 [1:01:16<2:21:59,  2.91s/it]"
     ]
    },
    {
     "name": "stdout",
     "output_type": "stream",
     "text": [
      "✅ EPC - CashFlow_Quarter 데이터 삽입 완료\n",
      "✅ EPIX - IncomeStatement_Quarter 데이터 삽입 완료\n",
      "✅ EPIX - BalanceSheet_Quarter 데이터 삽입 완료\n"
     ]
    },
    {
     "name": "stderr",
     "output_type": "stream",
     "text": [
      "Processing Companies:  30%|███       | 1273/4204 [1:01:19<2:19:11,  2.85s/it]"
     ]
    },
    {
     "name": "stdout",
     "output_type": "stream",
     "text": [
      "✅ EPIX - CashFlow_Quarter 데이터 삽입 완료\n",
      "✅ EPD - IncomeStatement_Quarter 데이터 삽입 완료\n",
      "✅ EPD - BalanceSheet_Quarter 데이터 삽입 완료\n"
     ]
    },
    {
     "name": "stderr",
     "output_type": "stream",
     "text": [
      "Processing Companies:  30%|███       | 1274/4204 [1:01:22<2:19:04,  2.85s/it]"
     ]
    },
    {
     "name": "stdout",
     "output_type": "stream",
     "text": [
      "✅ EPD - CashFlow_Quarter 데이터 삽입 완료\n",
      "✅ EPM - IncomeStatement_Quarter 데이터 삽입 완료\n",
      "✅ EPM - BalanceSheet_Quarter 데이터 삽입 완료\n"
     ]
    },
    {
     "name": "stderr",
     "output_type": "stream",
     "text": [
      "Processing Companies:  30%|███       | 1275/4204 [1:01:24<2:18:25,  2.84s/it]"
     ]
    },
    {
     "name": "stdout",
     "output_type": "stream",
     "text": [
      "✅ EPM - CashFlow_Quarter 데이터 삽입 완료\n",
      "❌ IncomeStatement_Quarter 데이터 없음\n",
      "✅ EPOW - BalanceSheet_Quarter 데이터 삽입 완료\n"
     ]
    },
    {
     "name": "stderr",
     "output_type": "stream",
     "text": [
      "Processing Companies:  30%|███       | 1276/4204 [1:01:27<2:16:57,  2.81s/it]"
     ]
    },
    {
     "name": "stdout",
     "output_type": "stream",
     "text": [
      "❌ CashFlow_Quarter 데이터 없음\n",
      "✅ EPR - IncomeStatement_Quarter 데이터 삽입 완료\n",
      "✅ EPR - BalanceSheet_Quarter 데이터 삽입 완료\n"
     ]
    },
    {
     "name": "stderr",
     "output_type": "stream",
     "text": [
      "Processing Companies:  30%|███       | 1277/4204 [1:01:30<2:18:56,  2.85s/it]"
     ]
    },
    {
     "name": "stdout",
     "output_type": "stream",
     "text": [
      "✅ EPR - CashFlow_Quarter 데이터 삽입 완료\n",
      "✅ EPRT - IncomeStatement_Quarter 데이터 삽입 완료\n",
      "✅ EPRT - BalanceSheet_Quarter 데이터 삽입 완료\n"
     ]
    },
    {
     "name": "stderr",
     "output_type": "stream",
     "text": [
      "Processing Companies:  30%|███       | 1278/4204 [1:01:33<2:18:08,  2.83s/it]"
     ]
    },
    {
     "name": "stdout",
     "output_type": "stream",
     "text": [
      "✅ EPRT - CashFlow_Quarter 데이터 삽입 완료\n",
      "✅ EPSN - IncomeStatement_Quarter 데이터 삽입 완료\n",
      "✅ EPSN - BalanceSheet_Quarter 데이터 삽입 완료\n"
     ]
    },
    {
     "name": "stderr",
     "output_type": "stream",
     "text": [
      "Processing Companies:  30%|███       | 1279/4204 [1:01:36<2:22:04,  2.91s/it]"
     ]
    },
    {
     "name": "stdout",
     "output_type": "stream",
     "text": [
      "✅ EPSN - CashFlow_Quarter 데이터 삽입 완료\n",
      "✅ EQ - IncomeStatement_Quarter 데이터 삽입 완료\n",
      "✅ EQ - BalanceSheet_Quarter 데이터 삽입 완료\n"
     ]
    },
    {
     "name": "stderr",
     "output_type": "stream",
     "text": [
      "Processing Companies:  30%|███       | 1280/4204 [1:01:39<2:18:46,  2.85s/it]"
     ]
    },
    {
     "name": "stdout",
     "output_type": "stream",
     "text": [
      "✅ EQ - CashFlow_Quarter 데이터 삽입 완료\n",
      "✅ EQIX - IncomeStatement_Quarter 데이터 삽입 완료\n",
      "✅ EQIX - BalanceSheet_Quarter 데이터 삽입 완료\n"
     ]
    },
    {
     "name": "stderr",
     "output_type": "stream",
     "text": [
      "Processing Companies:  30%|███       | 1281/4204 [1:01:42<2:20:16,  2.88s/it]"
     ]
    },
    {
     "name": "stdout",
     "output_type": "stream",
     "text": [
      "✅ EQIX - CashFlow_Quarter 데이터 삽입 완료\n",
      "✅ EQBK - IncomeStatement_Quarter 데이터 삽입 완료\n",
      "✅ EQBK - BalanceSheet_Quarter 데이터 삽입 완료\n"
     ]
    },
    {
     "name": "stderr",
     "output_type": "stream",
     "text": [
      "Processing Companies:  30%|███       | 1282/4204 [1:01:44<2:18:24,  2.84s/it]"
     ]
    },
    {
     "name": "stdout",
     "output_type": "stream",
     "text": [
      "✅ EQBK - CashFlow_Quarter 데이터 삽입 완료\n",
      "✅ EQR - IncomeStatement_Quarter 데이터 삽입 완료\n",
      "✅ EQR - BalanceSheet_Quarter 데이터 삽입 완료\n"
     ]
    },
    {
     "name": "stderr",
     "output_type": "stream",
     "text": [
      "Processing Companies:  31%|███       | 1283/4204 [1:01:48<2:23:31,  2.95s/it]"
     ]
    },
    {
     "name": "stdout",
     "output_type": "stream",
     "text": [
      "✅ EQR - CashFlow_Quarter 데이터 삽입 완료\n",
      "✅ EQNR - IncomeStatement_Quarter 데이터 삽입 완료\n",
      "✅ EQNR - BalanceSheet_Quarter 데이터 삽입 완료\n"
     ]
    },
    {
     "name": "stderr",
     "output_type": "stream",
     "text": [
      "Processing Companies:  31%|███       | 1284/4204 [1:01:51<2:24:11,  2.96s/it]"
     ]
    },
    {
     "name": "stdout",
     "output_type": "stream",
     "text": [
      "✅ EQNR - CashFlow_Quarter 데이터 삽입 완료\n",
      "✅ EQT - IncomeStatement_Quarter 데이터 삽입 완료\n",
      "✅ EQT - BalanceSheet_Quarter 데이터 삽입 완료\n"
     ]
    },
    {
     "name": "stderr",
     "output_type": "stream",
     "text": [
      "Processing Companies:  31%|███       | 1285/4204 [1:01:53<2:21:11,  2.90s/it]"
     ]
    },
    {
     "name": "stdout",
     "output_type": "stream",
     "text": [
      "✅ EQT - CashFlow_Quarter 데이터 삽입 완료\n",
      "✅ EQX - IncomeStatement_Quarter 데이터 삽입 완료\n",
      "✅ EQX - BalanceSheet_Quarter 데이터 삽입 완료\n"
     ]
    },
    {
     "name": "stderr",
     "output_type": "stream",
     "text": [
      "Processing Companies:  31%|███       | 1286/4204 [1:01:56<2:19:49,  2.88s/it]"
     ]
    },
    {
     "name": "stdout",
     "output_type": "stream",
     "text": [
      "✅ EQX - CashFlow_Quarter 데이터 삽입 완료\n",
      "✅ ERAS - IncomeStatement_Quarter 데이터 삽입 완료\n",
      "✅ ERAS - BalanceSheet_Quarter 데이터 삽입 완료\n"
     ]
    },
    {
     "name": "stderr",
     "output_type": "stream",
     "text": [
      "Processing Companies:  31%|███       | 1287/4204 [1:01:59<2:17:39,  2.83s/it]"
     ]
    },
    {
     "name": "stdout",
     "output_type": "stream",
     "text": [
      "✅ ERAS - CashFlow_Quarter 데이터 삽입 완료\n",
      "✅ ERIC - IncomeStatement_Quarter 데이터 삽입 완료\n",
      "✅ ERIC - BalanceSheet_Quarter 데이터 삽입 완료\n"
     ]
    },
    {
     "name": "stderr",
     "output_type": "stream",
     "text": [
      "Processing Companies:  31%|███       | 1288/4204 [1:02:02<2:17:18,  2.83s/it]"
     ]
    },
    {
     "name": "stdout",
     "output_type": "stream",
     "text": [
      "✅ ERIC - CashFlow_Quarter 데이터 삽입 완료\n",
      "✅ ERII - IncomeStatement_Quarter 데이터 삽입 완료\n",
      "✅ ERII - BalanceSheet_Quarter 데이터 삽입 완료\n"
     ]
    },
    {
     "name": "stderr",
     "output_type": "stream",
     "text": [
      "Processing Companies:  31%|███       | 1289/4204 [1:02:05<2:17:22,  2.83s/it]"
     ]
    },
    {
     "name": "stdout",
     "output_type": "stream",
     "text": [
      "✅ ERII - CashFlow_Quarter 데이터 삽입 완료\n",
      "✅ ERIE - IncomeStatement_Quarter 데이터 삽입 완료\n",
      "✅ ERIE - BalanceSheet_Quarter 데이터 삽입 완료\n"
     ]
    },
    {
     "name": "stderr",
     "output_type": "stream",
     "text": [
      "Processing Companies:  31%|███       | 1290/4204 [1:02:07<2:17:10,  2.82s/it]"
     ]
    },
    {
     "name": "stdout",
     "output_type": "stream",
     "text": [
      "✅ ERIE - CashFlow_Quarter 데이터 삽입 완료\n",
      "✅ ERO - IncomeStatement_Quarter 데이터 삽입 완료\n",
      "✅ ERO - BalanceSheet_Quarter 데이터 삽입 완료\n"
     ]
    },
    {
     "name": "stderr",
     "output_type": "stream",
     "text": [
      "Processing Companies:  31%|███       | 1291/4204 [1:02:10<2:15:52,  2.80s/it]"
     ]
    },
    {
     "name": "stdout",
     "output_type": "stream",
     "text": [
      "✅ ERO - CashFlow_Quarter 데이터 삽입 완료\n",
      "✅ ES - IncomeStatement_Quarter 데이터 삽입 완료\n",
      "✅ ES - BalanceSheet_Quarter 데이터 삽입 완료\n"
     ]
    },
    {
     "name": "stderr",
     "output_type": "stream",
     "text": [
      "Processing Companies:  31%|███       | 1292/4204 [1:02:13<2:18:50,  2.86s/it]"
     ]
    },
    {
     "name": "stdout",
     "output_type": "stream",
     "text": [
      "✅ ES - CashFlow_Quarter 데이터 삽입 완료\n",
      "✅ ERNA - IncomeStatement_Quarter 데이터 삽입 완료\n",
      "✅ ERNA - BalanceSheet_Quarter 데이터 삽입 완료\n"
     ]
    },
    {
     "name": "stderr",
     "output_type": "stream",
     "text": [
      "Processing Companies:  31%|███       | 1293/4204 [1:02:16<2:18:52,  2.86s/it]"
     ]
    },
    {
     "name": "stdout",
     "output_type": "stream",
     "text": [
      "✅ ERNA - CashFlow_Quarter 데이터 삽입 완료\n",
      "✅ ESAB - IncomeStatement_Quarter 데이터 삽입 완료\n",
      "✅ ESAB - BalanceSheet_Quarter 데이터 삽입 완료\n"
     ]
    },
    {
     "name": "stderr",
     "output_type": "stream",
     "text": [
      "Processing Companies:  31%|███       | 1294/4204 [1:02:19<2:18:22,  2.85s/it]"
     ]
    },
    {
     "name": "stdout",
     "output_type": "stream",
     "text": [
      "✅ ESAB - CashFlow_Quarter 데이터 삽입 완료\n",
      "✅ ESBA - IncomeStatement_Quarter 데이터 삽입 완료\n",
      "✅ ESBA - BalanceSheet_Quarter 데이터 삽입 완료\n"
     ]
    },
    {
     "name": "stderr",
     "output_type": "stream",
     "text": [
      "Processing Companies:  31%|███       | 1295/4204 [1:02:22<2:17:04,  2.83s/it]"
     ]
    },
    {
     "name": "stdout",
     "output_type": "stream",
     "text": [
      "✅ ESBA - CashFlow_Quarter 데이터 삽입 완료\n",
      "✅ ESCA - IncomeStatement_Quarter 데이터 삽입 완료\n",
      "✅ ESCA - BalanceSheet_Quarter 데이터 삽입 완료\n"
     ]
    },
    {
     "name": "stderr",
     "output_type": "stream",
     "text": [
      "Processing Companies:  31%|███       | 1296/4204 [1:02:25<2:20:01,  2.89s/it]"
     ]
    },
    {
     "name": "stdout",
     "output_type": "stream",
     "text": [
      "✅ ESCA - CashFlow_Quarter 데이터 삽입 완료\n",
      "✅ ESEA - IncomeStatement_Quarter 데이터 삽입 완료\n",
      "✅ ESEA - BalanceSheet_Quarter 데이터 삽입 완료\n"
     ]
    },
    {
     "name": "stderr",
     "output_type": "stream",
     "text": [
      "Processing Companies:  31%|███       | 1297/4204 [1:02:27<2:19:24,  2.88s/it]"
     ]
    },
    {
     "name": "stdout",
     "output_type": "stream",
     "text": [
      "✅ ESEA - CashFlow_Quarter 데이터 삽입 완료\n"
     ]
    },
    {
     "name": "stderr",
     "output_type": "stream",
     "text": [
      "$ESGR: possibly delisted; no price data found  (period=5d)\n"
     ]
    },
    {
     "name": "stdout",
     "output_type": "stream",
     "text": [
      "✅ ESGR - IncomeStatement_Quarter 데이터 삽입 완료\n",
      "✅ ESGR - BalanceSheet_Quarter 데이터 삽입 완료\n"
     ]
    },
    {
     "name": "stderr",
     "output_type": "stream",
     "text": [
      "Processing Companies:  31%|███       | 1298/4204 [1:02:30<2:16:58,  2.83s/it]"
     ]
    },
    {
     "name": "stdout",
     "output_type": "stream",
     "text": [
      "✅ ESGR - CashFlow_Quarter 데이터 삽입 완료\n",
      "❌ IncomeStatement_Quarter 데이터 없음\n",
      "✅ ESGL - BalanceSheet_Quarter 데이터 삽입 완료\n"
     ]
    },
    {
     "name": "stderr",
     "output_type": "stream",
     "text": [
      "Processing Companies:  31%|███       | 1299/4204 [1:02:33<2:14:17,  2.77s/it]"
     ]
    },
    {
     "name": "stdout",
     "output_type": "stream",
     "text": [
      "❌ CashFlow_Quarter 데이터 없음\n",
      "✅ ESGRO - IncomeStatement_Quarter 데이터 삽입 완료\n",
      "✅ ESGRO - BalanceSheet_Quarter 데이터 삽입 완료\n"
     ]
    },
    {
     "name": "stderr",
     "output_type": "stream",
     "text": [
      "Processing Companies:  31%|███       | 1300/4204 [1:02:36<2:14:22,  2.78s/it]"
     ]
    },
    {
     "name": "stdout",
     "output_type": "stream",
     "text": [
      "✅ ESGRO - CashFlow_Quarter 데이터 삽입 완료\n",
      "✅ ESGRP - IncomeStatement_Quarter 데이터 삽입 완료\n",
      "✅ ESGRP - BalanceSheet_Quarter 데이터 삽입 완료\n"
     ]
    },
    {
     "name": "stderr",
     "output_type": "stream",
     "text": [
      "Processing Companies:  31%|███       | 1301/4204 [1:02:38<2:16:23,  2.82s/it]"
     ]
    },
    {
     "name": "stdout",
     "output_type": "stream",
     "text": [
      "✅ ESGRP - CashFlow_Quarter 데이터 삽입 완료\n",
      "✅ ESLA - IncomeStatement_Quarter 데이터 삽입 완료\n",
      "✅ ESLA - BalanceSheet_Quarter 데이터 삽입 완료\n"
     ]
    },
    {
     "name": "stderr",
     "output_type": "stream",
     "text": [
      "Processing Companies:  31%|███       | 1302/4204 [1:02:41<2:17:19,  2.84s/it]"
     ]
    },
    {
     "name": "stdout",
     "output_type": "stream",
     "text": [
      "✅ ESLA - CashFlow_Quarter 데이터 삽입 완료\n",
      "✅ ESNT - IncomeStatement_Quarter 데이터 삽입 완료\n",
      "✅ ESNT - BalanceSheet_Quarter 데이터 삽입 완료\n"
     ]
    },
    {
     "name": "stderr",
     "output_type": "stream",
     "text": [
      "Processing Companies:  31%|███       | 1303/4204 [1:02:44<2:16:52,  2.83s/it]"
     ]
    },
    {
     "name": "stdout",
     "output_type": "stream",
     "text": [
      "✅ ESNT - CashFlow_Quarter 데이터 삽입 완료\n",
      "✅ ESOA - IncomeStatement_Quarter 데이터 삽입 완료\n",
      "✅ ESOA - BalanceSheet_Quarter 데이터 삽입 완료\n"
     ]
    },
    {
     "name": "stderr",
     "output_type": "stream",
     "text": [
      "Processing Companies:  31%|███       | 1304/4204 [1:02:47<2:22:01,  2.94s/it]"
     ]
    },
    {
     "name": "stdout",
     "output_type": "stream",
     "text": [
      "✅ ESOA - CashFlow_Quarter 데이터 삽입 완료\n",
      "✅ ESP - IncomeStatement_Quarter 데이터 삽입 완료\n",
      "✅ ESP - BalanceSheet_Quarter 데이터 삽입 완료\n"
     ]
    },
    {
     "name": "stderr",
     "output_type": "stream",
     "text": [
      "Processing Companies:  31%|███       | 1305/4204 [1:02:50<2:20:03,  2.90s/it]"
     ]
    },
    {
     "name": "stdout",
     "output_type": "stream",
     "text": [
      "✅ ESP - CashFlow_Quarter 데이터 삽입 완료\n",
      "✅ ESPR - IncomeStatement_Quarter 데이터 삽입 완료\n",
      "✅ ESPR - BalanceSheet_Quarter 데이터 삽입 완료\n"
     ]
    },
    {
     "name": "stderr",
     "output_type": "stream",
     "text": [
      "Processing Companies:  31%|███       | 1306/4204 [1:02:53<2:19:14,  2.88s/it]"
     ]
    },
    {
     "name": "stdout",
     "output_type": "stream",
     "text": [
      "✅ ESPR - CashFlow_Quarter 데이터 삽입 완료\n",
      "✅ ESQ - IncomeStatement_Quarter 데이터 삽입 완료\n",
      "✅ ESQ - BalanceSheet_Quarter 데이터 삽입 완료\n"
     ]
    },
    {
     "name": "stderr",
     "output_type": "stream",
     "text": [
      "Processing Companies:  31%|███       | 1307/4204 [1:02:56<2:18:03,  2.86s/it]"
     ]
    },
    {
     "name": "stdout",
     "output_type": "stream",
     "text": [
      "✅ ESQ - CashFlow_Quarter 데이터 삽입 완료\n",
      "✅ ESS - IncomeStatement_Quarter 데이터 삽입 완료\n",
      "✅ ESS - BalanceSheet_Quarter 데이터 삽입 완료\n"
     ]
    },
    {
     "name": "stderr",
     "output_type": "stream",
     "text": [
      "Processing Companies:  31%|███       | 1308/4204 [1:02:59<2:17:39,  2.85s/it]"
     ]
    },
    {
     "name": "stdout",
     "output_type": "stream",
     "text": [
      "✅ ESS - CashFlow_Quarter 데이터 삽입 완료\n",
      "✅ ESSA - IncomeStatement_Quarter 데이터 삽입 완료\n",
      "✅ ESSA - BalanceSheet_Quarter 데이터 삽입 완료\n"
     ]
    },
    {
     "name": "stderr",
     "output_type": "stream",
     "text": [
      "Processing Companies:  31%|███       | 1309/4204 [1:03:02<2:18:45,  2.88s/it]"
     ]
    },
    {
     "name": "stdout",
     "output_type": "stream",
     "text": [
      "✅ ESSA - CashFlow_Quarter 데이터 삽입 완료\n",
      "✅ ESTC - IncomeStatement_Quarter 데이터 삽입 완료\n",
      "✅ ESTC - BalanceSheet_Quarter 데이터 삽입 완료\n"
     ]
    },
    {
     "name": "stderr",
     "output_type": "stream",
     "text": [
      "Processing Companies:  31%|███       | 1310/4204 [1:03:04<2:17:17,  2.85s/it]"
     ]
    },
    {
     "name": "stdout",
     "output_type": "stream",
     "text": [
      "✅ ESTC - CashFlow_Quarter 데이터 삽입 완료\n",
      "✅ ET - IncomeStatement_Quarter 데이터 삽입 완료\n",
      "✅ ET - BalanceSheet_Quarter 데이터 삽입 완료\n"
     ]
    },
    {
     "name": "stderr",
     "output_type": "stream",
     "text": [
      "Processing Companies:  31%|███       | 1311/4204 [1:03:07<2:18:02,  2.86s/it]"
     ]
    },
    {
     "name": "stdout",
     "output_type": "stream",
     "text": [
      "✅ ET - CashFlow_Quarter 데이터 삽입 완료\n",
      "✅ ESTA - IncomeStatement_Quarter 데이터 삽입 완료\n",
      "✅ ESTA - BalanceSheet_Quarter 데이터 삽입 완료\n"
     ]
    },
    {
     "name": "stderr",
     "output_type": "stream",
     "text": [
      "Processing Companies:  31%|███       | 1312/4204 [1:03:10<2:19:33,  2.90s/it]"
     ]
    },
    {
     "name": "stdout",
     "output_type": "stream",
     "text": [
      "✅ ESTA - CashFlow_Quarter 데이터 삽입 완료\n",
      "✅ ETD - IncomeStatement_Quarter 데이터 삽입 완료\n",
      "✅ ETD - BalanceSheet_Quarter 데이터 삽입 완료\n"
     ]
    },
    {
     "name": "stderr",
     "output_type": "stream",
     "text": [
      "Processing Companies:  31%|███       | 1313/4204 [1:03:13<2:20:50,  2.92s/it]"
     ]
    },
    {
     "name": "stdout",
     "output_type": "stream",
     "text": [
      "✅ ETD - CashFlow_Quarter 데이터 삽입 완료\n",
      "✅ ETNB - IncomeStatement_Quarter 데이터 삽입 완료\n",
      "✅ ETNB - BalanceSheet_Quarter 데이터 삽입 완료\n"
     ]
    },
    {
     "name": "stderr",
     "output_type": "stream",
     "text": [
      "Processing Companies:  31%|███▏      | 1314/4204 [1:03:16<2:18:45,  2.88s/it]"
     ]
    },
    {
     "name": "stdout",
     "output_type": "stream",
     "text": [
      "✅ ETNB - CashFlow_Quarter 데이터 삽입 완료\n",
      "✅ ETR - IncomeStatement_Quarter 데이터 삽입 완료\n",
      "✅ ETR - BalanceSheet_Quarter 데이터 삽입 완료\n"
     ]
    },
    {
     "name": "stderr",
     "output_type": "stream",
     "text": [
      "Processing Companies:  31%|███▏      | 1315/4204 [1:03:19<2:24:08,  2.99s/it]"
     ]
    },
    {
     "name": "stdout",
     "output_type": "stream",
     "text": [
      "✅ ETR - CashFlow_Quarter 데이터 삽입 완료\n",
      "✅ ETON - IncomeStatement_Quarter 데이터 삽입 완료\n",
      "✅ ETON - BalanceSheet_Quarter 데이터 삽입 완료\n"
     ]
    },
    {
     "name": "stderr",
     "output_type": "stream",
     "text": [
      "Processing Companies:  31%|███▏      | 1316/4204 [1:03:22<2:20:32,  2.92s/it]"
     ]
    },
    {
     "name": "stdout",
     "output_type": "stream",
     "text": [
      "✅ ETON - CashFlow_Quarter 데이터 삽입 완료\n",
      "✅ ETSY - IncomeStatement_Quarter 데이터 삽입 완료\n",
      "✅ ETSY - BalanceSheet_Quarter 데이터 삽입 완료\n"
     ]
    },
    {
     "name": "stderr",
     "output_type": "stream",
     "text": [
      "Processing Companies:  31%|███▏      | 1317/4204 [1:03:25<2:18:13,  2.87s/it]"
     ]
    },
    {
     "name": "stdout",
     "output_type": "stream",
     "text": [
      "✅ ETSY - CashFlow_Quarter 데이터 삽입 완료\n",
      "✅ EU - IncomeStatement_Quarter 데이터 삽입 완료\n",
      "✅ EU - BalanceSheet_Quarter 데이터 삽입 완료\n"
     ]
    },
    {
     "name": "stderr",
     "output_type": "stream",
     "text": [
      "Processing Companies:  31%|███▏      | 1318/4204 [1:03:28<2:18:01,  2.87s/it]"
     ]
    },
    {
     "name": "stdout",
     "output_type": "stream",
     "text": [
      "✅ EU - CashFlow_Quarter 데이터 삽입 완료\n",
      "❌ IncomeStatement_Quarter 데이터 없음\n",
      "✅ EUDA - BalanceSheet_Quarter 데이터 삽입 완료\n"
     ]
    },
    {
     "name": "stderr",
     "output_type": "stream",
     "text": [
      "Processing Companies:  31%|███▏      | 1319/4204 [1:03:30<2:15:17,  2.81s/it]"
     ]
    },
    {
     "name": "stdout",
     "output_type": "stream",
     "text": [
      "❌ CashFlow_Quarter 데이터 없음\n",
      "✅ EVAX - IncomeStatement_Quarter 데이터 삽입 완료\n",
      "✅ EVAX - BalanceSheet_Quarter 데이터 삽입 완료\n"
     ]
    },
    {
     "name": "stderr",
     "output_type": "stream",
     "text": [
      "Processing Companies:  31%|███▏      | 1320/4204 [1:03:33<2:14:37,  2.80s/it]"
     ]
    },
    {
     "name": "stdout",
     "output_type": "stream",
     "text": [
      "❌ CashFlow_Quarter 데이터 없음\n",
      "✅ EVC - IncomeStatement_Quarter 데이터 삽입 완료\n",
      "✅ EVC - BalanceSheet_Quarter 데이터 삽입 완료\n"
     ]
    },
    {
     "name": "stderr",
     "output_type": "stream",
     "text": [
      "Processing Companies:  31%|███▏      | 1321/4204 [1:03:36<2:16:22,  2.84s/it]"
     ]
    },
    {
     "name": "stdout",
     "output_type": "stream",
     "text": [
      "✅ EVC - CashFlow_Quarter 데이터 삽입 완료\n",
      "✅ EVCM - IncomeStatement_Quarter 데이터 삽입 완료\n",
      "✅ EVCM - BalanceSheet_Quarter 데이터 삽입 완료\n"
     ]
    },
    {
     "name": "stderr",
     "output_type": "stream",
     "text": [
      "Processing Companies:  31%|███▏      | 1322/4204 [1:03:39<2:16:32,  2.84s/it]"
     ]
    },
    {
     "name": "stdout",
     "output_type": "stream",
     "text": [
      "✅ EVCM - CashFlow_Quarter 데이터 삽입 완료\n",
      "✅ EVER - IncomeStatement_Quarter 데이터 삽입 완료\n",
      "✅ EVER - BalanceSheet_Quarter 데이터 삽입 완료\n"
     ]
    },
    {
     "name": "stderr",
     "output_type": "stream",
     "text": [
      "Processing Companies:  31%|███▏      | 1323/4204 [1:03:42<2:17:31,  2.86s/it]"
     ]
    },
    {
     "name": "stdout",
     "output_type": "stream",
     "text": [
      "✅ EVER - CashFlow_Quarter 데이터 삽입 완료\n",
      "✅ EVGO - IncomeStatement_Quarter 데이터 삽입 완료\n",
      "✅ EVGO - BalanceSheet_Quarter 데이터 삽입 완료\n"
     ]
    },
    {
     "name": "stderr",
     "output_type": "stream",
     "text": [
      "Processing Companies:  31%|███▏      | 1324/4204 [1:03:45<2:18:20,  2.88s/it]"
     ]
    },
    {
     "name": "stdout",
     "output_type": "stream",
     "text": [
      "✅ EVGO - CashFlow_Quarter 데이터 삽입 완료\n",
      "✅ EVGN - IncomeStatement_Quarter 데이터 삽입 완료\n",
      "✅ EVGN - BalanceSheet_Quarter 데이터 삽입 완료\n"
     ]
    },
    {
     "name": "stderr",
     "output_type": "stream",
     "text": [
      "Processing Companies:  32%|███▏      | 1325/4204 [1:03:47<2:16:29,  2.84s/it]"
     ]
    },
    {
     "name": "stdout",
     "output_type": "stream",
     "text": [
      "✅ EVGN - CashFlow_Quarter 데이터 삽입 완료\n",
      "✅ EVI - IncomeStatement_Quarter 데이터 삽입 완료\n",
      "✅ EVI - BalanceSheet_Quarter 데이터 삽입 완료\n"
     ]
    },
    {
     "name": "stderr",
     "output_type": "stream",
     "text": [
      "Processing Companies:  32%|███▏      | 1326/4204 [1:03:50<2:15:06,  2.82s/it]"
     ]
    },
    {
     "name": "stdout",
     "output_type": "stream",
     "text": [
      "✅ EVI - CashFlow_Quarter 데이터 삽입 완료\n",
      "✅ EVH - IncomeStatement_Quarter 데이터 삽입 완료\n",
      "✅ EVH - BalanceSheet_Quarter 데이터 삽입 완료\n"
     ]
    },
    {
     "name": "stderr",
     "output_type": "stream",
     "text": [
      "Processing Companies:  32%|███▏      | 1327/4204 [1:03:53<2:13:59,  2.79s/it]"
     ]
    },
    {
     "name": "stdout",
     "output_type": "stream",
     "text": [
      "✅ EVH - CashFlow_Quarter 데이터 삽입 완료\n",
      "✅ EVLV - IncomeStatement_Quarter 데이터 삽입 완료\n",
      "✅ EVLV - BalanceSheet_Quarter 데이터 삽입 완료\n"
     ]
    },
    {
     "name": "stderr",
     "output_type": "stream",
     "text": [
      "Processing Companies:  32%|███▏      | 1328/4204 [1:03:56<2:17:02,  2.86s/it]"
     ]
    },
    {
     "name": "stdout",
     "output_type": "stream",
     "text": [
      "✅ EVLV - CashFlow_Quarter 데이터 삽입 완료\n",
      "✅ EVOK - IncomeStatement_Quarter 데이터 삽입 완료\n",
      "✅ EVOK - BalanceSheet_Quarter 데이터 삽입 완료\n"
     ]
    },
    {
     "name": "stderr",
     "output_type": "stream",
     "text": [
      "Processing Companies:  32%|███▏      | 1329/4204 [1:03:59<2:16:48,  2.86s/it]"
     ]
    },
    {
     "name": "stdout",
     "output_type": "stream",
     "text": [
      "✅ EVOK - CashFlow_Quarter 데이터 삽입 완료\n",
      "✅ EVO - IncomeStatement_Quarter 데이터 삽입 완료\n",
      "✅ EVO - BalanceSheet_Quarter 데이터 삽입 완료\n"
     ]
    },
    {
     "name": "stderr",
     "output_type": "stream",
     "text": [
      "Processing Companies:  32%|███▏      | 1330/4204 [1:04:02<2:17:25,  2.87s/it]"
     ]
    },
    {
     "name": "stdout",
     "output_type": "stream",
     "text": [
      "✅ EVO - CashFlow_Quarter 데이터 삽입 완료\n",
      "✅ EVRG - IncomeStatement_Quarter 데이터 삽입 완료\n",
      "✅ EVRG - BalanceSheet_Quarter 데이터 삽입 완료\n"
     ]
    },
    {
     "name": "stderr",
     "output_type": "stream",
     "text": [
      "Processing Companies:  32%|███▏      | 1331/4204 [1:04:05<2:17:06,  2.86s/it]"
     ]
    },
    {
     "name": "stdout",
     "output_type": "stream",
     "text": [
      "✅ EVRG - CashFlow_Quarter 데이터 삽입 완료\n"
     ]
    },
    {
     "name": "stderr",
     "output_type": "stream",
     "text": [
      "$EVRI: possibly delisted; no price data found  (period=5d)\n"
     ]
    },
    {
     "name": "stdout",
     "output_type": "stream",
     "text": [
      "✅ EVRI - IncomeStatement_Quarter 데이터 삽입 완료\n",
      "✅ EVRI - BalanceSheet_Quarter 데이터 삽입 완료\n"
     ]
    },
    {
     "name": "stderr",
     "output_type": "stream",
     "text": [
      "Processing Companies:  32%|███▏      | 1332/4204 [1:04:07<2:16:21,  2.85s/it]"
     ]
    },
    {
     "name": "stdout",
     "output_type": "stream",
     "text": [
      "✅ EVRI - CashFlow_Quarter 데이터 삽입 완료\n",
      "✅ EVTC - IncomeStatement_Quarter 데이터 삽입 완료\n",
      "✅ EVTC - BalanceSheet_Quarter 데이터 삽입 완료\n"
     ]
    },
    {
     "name": "stderr",
     "output_type": "stream",
     "text": [
      "Processing Companies:  32%|███▏      | 1333/4204 [1:04:10<2:17:27,  2.87s/it]"
     ]
    },
    {
     "name": "stdout",
     "output_type": "stream",
     "text": [
      "✅ EVTC - CashFlow_Quarter 데이터 삽입 완료\n",
      "✅ EW - IncomeStatement_Quarter 데이터 삽입 완료\n",
      "✅ EW - BalanceSheet_Quarter 데이터 삽입 완료\n"
     ]
    },
    {
     "name": "stderr",
     "output_type": "stream",
     "text": [
      "Processing Companies:  32%|███▏      | 1334/4204 [1:04:13<2:21:28,  2.96s/it]"
     ]
    },
    {
     "name": "stdout",
     "output_type": "stream",
     "text": [
      "✅ EW - CashFlow_Quarter 데이터 삽입 완료\n",
      "✅ EVTV - IncomeStatement_Quarter 데이터 삽입 완료\n",
      "✅ EVTV - BalanceSheet_Quarter 데이터 삽입 완료\n"
     ]
    },
    {
     "name": "stderr",
     "output_type": "stream",
     "text": [
      "Processing Companies:  32%|███▏      | 1335/4204 [1:04:16<2:18:36,  2.90s/it]"
     ]
    },
    {
     "name": "stdout",
     "output_type": "stream",
     "text": [
      "✅ EVTV - CashFlow_Quarter 데이터 삽입 완료\n",
      "✅ EWBC - IncomeStatement_Quarter 데이터 삽입 완료\n",
      "✅ EWBC - BalanceSheet_Quarter 데이터 삽입 완료\n"
     ]
    },
    {
     "name": "stderr",
     "output_type": "stream",
     "text": [
      "Processing Companies:  32%|███▏      | 1336/4204 [1:04:19<2:15:51,  2.84s/it]"
     ]
    },
    {
     "name": "stdout",
     "output_type": "stream",
     "text": [
      "✅ EWBC - CashFlow_Quarter 데이터 삽입 완료\n",
      "✅ EWTX - IncomeStatement_Quarter 데이터 삽입 완료\n",
      "✅ EWTX - BalanceSheet_Quarter 데이터 삽입 완료\n"
     ]
    },
    {
     "name": "stderr",
     "output_type": "stream",
     "text": [
      "Processing Companies:  32%|███▏      | 1337/4204 [1:04:22<2:15:35,  2.84s/it]"
     ]
    },
    {
     "name": "stdout",
     "output_type": "stream",
     "text": [
      "✅ EWTX - CashFlow_Quarter 데이터 삽입 완료\n",
      "✅ EXAS - IncomeStatement_Quarter 데이터 삽입 완료\n",
      "✅ EXAS - BalanceSheet_Quarter 데이터 삽입 완료\n"
     ]
    },
    {
     "name": "stderr",
     "output_type": "stream",
     "text": [
      "Processing Companies:  32%|███▏      | 1338/4204 [1:04:25<2:14:32,  2.82s/it]"
     ]
    },
    {
     "name": "stdout",
     "output_type": "stream",
     "text": [
      "✅ EXAS - CashFlow_Quarter 데이터 삽입 완료\n",
      "✅ EWCZ - IncomeStatement_Quarter 데이터 삽입 완료\n",
      "✅ EWCZ - BalanceSheet_Quarter 데이터 삽입 완료\n"
     ]
    },
    {
     "name": "stderr",
     "output_type": "stream",
     "text": [
      "Processing Companies:  32%|███▏      | 1339/4204 [1:04:27<2:13:27,  2.79s/it]"
     ]
    },
    {
     "name": "stdout",
     "output_type": "stream",
     "text": [
      "✅ EWCZ - CashFlow_Quarter 데이터 삽입 완료\n",
      "✅ EXC - IncomeStatement_Quarter 데이터 삽입 완료\n",
      "✅ EXC - BalanceSheet_Quarter 데이터 삽입 완료\n"
     ]
    },
    {
     "name": "stderr",
     "output_type": "stream",
     "text": [
      "Processing Companies:  32%|███▏      | 1340/4204 [1:04:30<2:14:47,  2.82s/it]"
     ]
    },
    {
     "name": "stdout",
     "output_type": "stream",
     "text": [
      "✅ EXC - CashFlow_Quarter 데이터 삽입 완료\n",
      "✅ EXE - IncomeStatement_Quarter 데이터 삽입 완료\n",
      "✅ EXE - BalanceSheet_Quarter 데이터 삽입 완료\n"
     ]
    },
    {
     "name": "stderr",
     "output_type": "stream",
     "text": [
      "Processing Companies:  32%|███▏      | 1341/4204 [1:04:33<2:13:55,  2.81s/it]"
     ]
    },
    {
     "name": "stdout",
     "output_type": "stream",
     "text": [
      "✅ EXE - CashFlow_Quarter 데이터 삽입 완료\n",
      "✅ EXEL - IncomeStatement_Quarter 데이터 삽입 완료\n",
      "✅ EXEL - BalanceSheet_Quarter 데이터 삽입 완료\n"
     ]
    },
    {
     "name": "stderr",
     "output_type": "stream",
     "text": [
      "Processing Companies:  32%|███▏      | 1342/4204 [1:04:36<2:12:56,  2.79s/it]"
     ]
    },
    {
     "name": "stdout",
     "output_type": "stream",
     "text": [
      "✅ EXEL - CashFlow_Quarter 데이터 삽입 완료\n",
      "✅ EXFY - IncomeStatement_Quarter 데이터 삽입 완료\n",
      "✅ EXFY - BalanceSheet_Quarter 데이터 삽입 완료\n"
     ]
    },
    {
     "name": "stderr",
     "output_type": "stream",
     "text": [
      "Processing Companies:  32%|███▏      | 1343/4204 [1:04:39<2:14:22,  2.82s/it]"
     ]
    },
    {
     "name": "stdout",
     "output_type": "stream",
     "text": [
      "✅ EXFY - CashFlow_Quarter 데이터 삽입 완료\n",
      "✅ EXK - IncomeStatement_Quarter 데이터 삽입 완료\n",
      "✅ EXK - BalanceSheet_Quarter 데이터 삽입 완료\n"
     ]
    },
    {
     "name": "stderr",
     "output_type": "stream",
     "text": [
      "Processing Companies:  32%|███▏      | 1344/4204 [1:04:41<2:13:40,  2.80s/it]"
     ]
    },
    {
     "name": "stdout",
     "output_type": "stream",
     "text": [
      "✅ EXK - CashFlow_Quarter 데이터 삽입 완료\n",
      "✅ EXLS - IncomeStatement_Quarter 데이터 삽입 완료\n",
      "✅ EXLS - BalanceSheet_Quarter 데이터 삽입 완료\n"
     ]
    },
    {
     "name": "stderr",
     "output_type": "stream",
     "text": [
      "Processing Companies:  32%|███▏      | 1345/4204 [1:04:45<2:18:53,  2.91s/it]"
     ]
    },
    {
     "name": "stdout",
     "output_type": "stream",
     "text": [
      "✅ EXLS - CashFlow_Quarter 데이터 삽입 완료\n",
      "✅ EXP - IncomeStatement_Quarter 데이터 삽입 완료\n",
      "✅ EXP - BalanceSheet_Quarter 데이터 삽입 완료\n"
     ]
    },
    {
     "name": "stderr",
     "output_type": "stream",
     "text": [
      "Processing Companies:  32%|███▏      | 1346/4204 [1:04:47<2:17:54,  2.90s/it]"
     ]
    },
    {
     "name": "stdout",
     "output_type": "stream",
     "text": [
      "✅ EXP - CashFlow_Quarter 데이터 삽입 완료\n",
      "✅ EXOD - IncomeStatement_Quarter 데이터 삽입 완료\n",
      "✅ EXOD - BalanceSheet_Quarter 데이터 삽입 완료\n"
     ]
    },
    {
     "name": "stderr",
     "output_type": "stream",
     "text": [
      "Processing Companies:  32%|███▏      | 1347/4204 [1:04:50<2:15:53,  2.85s/it]"
     ]
    },
    {
     "name": "stdout",
     "output_type": "stream",
     "text": [
      "✅ EXOD - CashFlow_Quarter 데이터 삽입 완료\n",
      "✅ EXPE - IncomeStatement_Quarter 데이터 삽입 완료\n",
      "✅ EXPE - BalanceSheet_Quarter 데이터 삽입 완료\n"
     ]
    },
    {
     "name": "stderr",
     "output_type": "stream",
     "text": [
      "Processing Companies:  32%|███▏      | 1348/4204 [1:04:53<2:14:34,  2.83s/it]"
     ]
    },
    {
     "name": "stdout",
     "output_type": "stream",
     "text": [
      "✅ EXPE - CashFlow_Quarter 데이터 삽입 완료\n",
      "✅ EXPD - IncomeStatement_Quarter 데이터 삽입 완료\n",
      "✅ EXPD - BalanceSheet_Quarter 데이터 삽입 완료\n"
     ]
    },
    {
     "name": "stderr",
     "output_type": "stream",
     "text": [
      "Processing Companies:  32%|███▏      | 1349/4204 [1:04:56<2:13:55,  2.81s/it]"
     ]
    },
    {
     "name": "stdout",
     "output_type": "stream",
     "text": [
      "✅ EXPD - CashFlow_Quarter 데이터 삽입 완료\n",
      "✅ EXPO - IncomeStatement_Quarter 데이터 삽입 완료\n",
      "✅ EXPO - BalanceSheet_Quarter 데이터 삽입 완료\n"
     ]
    },
    {
     "name": "stderr",
     "output_type": "stream",
     "text": [
      "Processing Companies:  32%|███▏      | 1350/4204 [1:04:59<2:15:49,  2.86s/it]"
     ]
    },
    {
     "name": "stdout",
     "output_type": "stream",
     "text": [
      "✅ EXPO - CashFlow_Quarter 데이터 삽입 완료\n",
      "✅ EYE - IncomeStatement_Quarter 데이터 삽입 완료\n",
      "✅ EYE - BalanceSheet_Quarter 데이터 삽입 완료\n"
     ]
    },
    {
     "name": "stderr",
     "output_type": "stream",
     "text": [
      "Processing Companies:  32%|███▏      | 1351/4204 [1:05:01<2:14:58,  2.84s/it]"
     ]
    },
    {
     "name": "stdout",
     "output_type": "stream",
     "text": [
      "✅ EYE - CashFlow_Quarter 데이터 삽입 완료\n",
      "✅ EXTR - IncomeStatement_Quarter 데이터 삽입 완료\n",
      "✅ EXTR - BalanceSheet_Quarter 데이터 삽입 완료\n"
     ]
    },
    {
     "name": "stderr",
     "output_type": "stream",
     "text": [
      "Processing Companies:  32%|███▏      | 1352/4204 [1:05:04<2:13:39,  2.81s/it]"
     ]
    },
    {
     "name": "stdout",
     "output_type": "stream",
     "text": [
      "✅ EXTR - CashFlow_Quarter 데이터 삽입 완료\n"
     ]
    },
    {
     "name": "stderr",
     "output_type": "stream",
     "text": [
      "$EYEN: possibly delisted; no price data found  (period=5d)\n"
     ]
    },
    {
     "name": "stdout",
     "output_type": "stream",
     "text": [
      "✅ EYEN - IncomeStatement_Quarter 데이터 삽입 완료\n",
      "✅ EYEN - BalanceSheet_Quarter 데이터 삽입 완료\n"
     ]
    },
    {
     "name": "stderr",
     "output_type": "stream",
     "text": [
      "Processing Companies:  32%|███▏      | 1353/4204 [1:05:07<2:16:17,  2.87s/it]"
     ]
    },
    {
     "name": "stdout",
     "output_type": "stream",
     "text": [
      "✅ EYEN - CashFlow_Quarter 데이터 삽입 완료\n",
      "✅ EYPT - IncomeStatement_Quarter 데이터 삽입 완료\n",
      "✅ EYPT - BalanceSheet_Quarter 데이터 삽입 완료\n"
     ]
    },
    {
     "name": "stderr",
     "output_type": "stream",
     "text": [
      "Processing Companies:  32%|███▏      | 1354/4204 [1:05:10<2:15:36,  2.85s/it]"
     ]
    },
    {
     "name": "stdout",
     "output_type": "stream",
     "text": [
      "✅ EYPT - CashFlow_Quarter 데이터 삽입 완료\n",
      "❌ IncomeStatement_Quarter 데이터 없음\n",
      "✅ EZGO - BalanceSheet_Quarter 데이터 삽입 완료\n"
     ]
    },
    {
     "name": "stderr",
     "output_type": "stream",
     "text": [
      "Processing Companies:  32%|███▏      | 1355/4204 [1:05:13<2:15:07,  2.85s/it]"
     ]
    },
    {
     "name": "stdout",
     "output_type": "stream",
     "text": [
      "❌ CashFlow_Quarter 데이터 없음\n",
      "✅ EZPW - IncomeStatement_Quarter 데이터 삽입 완료\n",
      "✅ EZPW - BalanceSheet_Quarter 데이터 삽입 완료\n"
     ]
    },
    {
     "name": "stderr",
     "output_type": "stream",
     "text": [
      "Processing Companies:  32%|███▏      | 1356/4204 [1:05:16<2:15:47,  2.86s/it]"
     ]
    },
    {
     "name": "stdout",
     "output_type": "stream",
     "text": [
      "✅ EZPW - CashFlow_Quarter 데이터 삽입 완료\n",
      "✅ F - IncomeStatement_Quarter 데이터 삽입 완료\n",
      "✅ F - BalanceSheet_Quarter 데이터 삽입 완료\n"
     ]
    },
    {
     "name": "stderr",
     "output_type": "stream",
     "text": [
      "Processing Companies:  32%|███▏      | 1357/4204 [1:05:19<2:16:00,  2.87s/it]"
     ]
    },
    {
     "name": "stdout",
     "output_type": "stream",
     "text": [
      "✅ F - CashFlow_Quarter 데이터 삽입 완료\n",
      "✅ FA - IncomeStatement_Quarter 데이터 삽입 완료\n",
      "✅ FA - BalanceSheet_Quarter 데이터 삽입 완료\n"
     ]
    },
    {
     "name": "stderr",
     "output_type": "stream",
     "text": [
      "Processing Companies:  32%|███▏      | 1358/4204 [1:05:21<2:15:25,  2.85s/it]"
     ]
    },
    {
     "name": "stdout",
     "output_type": "stream",
     "text": [
      "✅ FA - CashFlow_Quarter 데이터 삽입 완료\n",
      "❌ IncomeStatement_Quarter 데이터 없음\n",
      "❌ BalanceSheet_Quarter 데이터 없음\n"
     ]
    },
    {
     "name": "stderr",
     "output_type": "stream",
     "text": [
      "Processing Companies:  32%|███▏      | 1359/4204 [1:05:24<2:13:22,  2.81s/it]"
     ]
    },
    {
     "name": "stdout",
     "output_type": "stream",
     "text": [
      "❌ CashFlow_Quarter 데이터 없음\n",
      "✅ FAF - IncomeStatement_Quarter 데이터 삽입 완료\n",
      "✅ FAF - BalanceSheet_Quarter 데이터 삽입 완료\n"
     ]
    },
    {
     "name": "stderr",
     "output_type": "stream",
     "text": [
      "Processing Companies:  32%|███▏      | 1360/4204 [1:05:27<2:13:46,  2.82s/it]"
     ]
    },
    {
     "name": "stdout",
     "output_type": "stream",
     "text": [
      "✅ FAF - CashFlow_Quarter 데이터 삽입 완료\n",
      "✅ FANG - IncomeStatement_Quarter 데이터 삽입 완료\n",
      "✅ FANG - BalanceSheet_Quarter 데이터 삽입 완료\n"
     ]
    },
    {
     "name": "stderr",
     "output_type": "stream",
     "text": [
      "Processing Companies:  32%|███▏      | 1361/4204 [1:05:30<2:21:48,  2.99s/it]"
     ]
    },
    {
     "name": "stdout",
     "output_type": "stream",
     "text": [
      "✅ FANG - CashFlow_Quarter 데이터 삽입 완료\n",
      "✅ FARM - IncomeStatement_Quarter 데이터 삽입 완료\n",
      "✅ FARM - BalanceSheet_Quarter 데이터 삽입 완료\n"
     ]
    },
    {
     "name": "stderr",
     "output_type": "stream",
     "text": [
      "Processing Companies:  32%|███▏      | 1362/4204 [1:05:33<2:19:08,  2.94s/it]"
     ]
    },
    {
     "name": "stdout",
     "output_type": "stream",
     "text": [
      "✅ FARM - CashFlow_Quarter 데이터 삽입 완료\n",
      "❌ IncomeStatement_Quarter 데이터 없음\n",
      "✅ FAMI - BalanceSheet_Quarter 데이터 삽입 완료\n"
     ]
    },
    {
     "name": "stderr",
     "output_type": "stream",
     "text": [
      "Processing Companies:  32%|███▏      | 1363/4204 [1:05:36<2:16:49,  2.89s/it]"
     ]
    },
    {
     "name": "stdout",
     "output_type": "stream",
     "text": [
      "❌ CashFlow_Quarter 데이터 없음\n",
      "✅ FAT - IncomeStatement_Quarter 데이터 삽입 완료\n",
      "✅ FAT - BalanceSheet_Quarter 데이터 삽입 완료\n"
     ]
    },
    {
     "name": "stderr",
     "output_type": "stream",
     "text": [
      "Processing Companies:  32%|███▏      | 1364/4204 [1:05:39<2:15:43,  2.87s/it]"
     ]
    },
    {
     "name": "stdout",
     "output_type": "stream",
     "text": [
      "✅ FAT - CashFlow_Quarter 데이터 삽입 완료\n",
      "✅ FAST - IncomeStatement_Quarter 데이터 삽입 완료\n",
      "✅ FAST - BalanceSheet_Quarter 데이터 삽입 완료\n"
     ]
    },
    {
     "name": "stderr",
     "output_type": "stream",
     "text": [
      "Processing Companies:  32%|███▏      | 1365/4204 [1:05:42<2:15:25,  2.86s/it]"
     ]
    },
    {
     "name": "stdout",
     "output_type": "stream",
     "text": [
      "✅ FAST - CashFlow_Quarter 데이터 삽입 완료\n",
      "✅ FATBP - IncomeStatement_Quarter 데이터 삽입 완료\n",
      "✅ FATBP - BalanceSheet_Quarter 데이터 삽입 완료\n"
     ]
    },
    {
     "name": "stderr",
     "output_type": "stream",
     "text": [
      "Processing Companies:  32%|███▏      | 1366/4204 [1:05:44<2:14:30,  2.84s/it]"
     ]
    },
    {
     "name": "stdout",
     "output_type": "stream",
     "text": [
      "✅ FATBP - CashFlow_Quarter 데이터 삽입 완료\n",
      "✅ FATBB - IncomeStatement_Quarter 데이터 삽입 완료\n",
      "✅ FATBB - BalanceSheet_Quarter 데이터 삽입 완료\n"
     ]
    },
    {
     "name": "stderr",
     "output_type": "stream",
     "text": [
      "Processing Companies:  33%|███▎      | 1367/4204 [1:05:47<2:14:50,  2.85s/it]"
     ]
    },
    {
     "name": "stdout",
     "output_type": "stream",
     "text": [
      "✅ FATBB - CashFlow_Quarter 데이터 삽입 완료\n",
      "✅ FATE - IncomeStatement_Quarter 데이터 삽입 완료\n",
      "✅ FATE - BalanceSheet_Quarter 데이터 삽입 완료\n"
     ]
    },
    {
     "name": "stderr",
     "output_type": "stream",
     "text": [
      "Processing Companies:  33%|███▎      | 1368/4204 [1:05:50<2:13:57,  2.83s/it]"
     ]
    },
    {
     "name": "stdout",
     "output_type": "stream",
     "text": [
      "✅ FATE - CashFlow_Quarter 데이터 삽입 완료\n",
      "✅ FBIN - IncomeStatement_Quarter 데이터 삽입 완료\n",
      "✅ FBIN - BalanceSheet_Quarter 데이터 삽입 완료\n"
     ]
    },
    {
     "name": "stderr",
     "output_type": "stream",
     "text": [
      "Processing Companies:  33%|███▎      | 1369/4204 [1:05:53<2:14:39,  2.85s/it]"
     ]
    },
    {
     "name": "stdout",
     "output_type": "stream",
     "text": [
      "✅ FBIN - CashFlow_Quarter 데이터 삽입 완료\n",
      "✅ FBIOP - IncomeStatement_Quarter 데이터 삽입 완료\n",
      "✅ FBIOP - BalanceSheet_Quarter 데이터 삽입 완료\n"
     ]
    },
    {
     "name": "stderr",
     "output_type": "stream",
     "text": [
      "Processing Companies:  33%|███▎      | 1370/4204 [1:05:56<2:15:20,  2.87s/it]"
     ]
    },
    {
     "name": "stdout",
     "output_type": "stream",
     "text": [
      "✅ FBIOP - CashFlow_Quarter 데이터 삽입 완료\n",
      "✅ FBK - IncomeStatement_Quarter 데이터 삽입 완료\n",
      "✅ FBK - BalanceSheet_Quarter 데이터 삽입 완료\n"
     ]
    },
    {
     "name": "stderr",
     "output_type": "stream",
     "text": [
      "Processing Companies:  33%|███▎      | 1371/4204 [1:05:59<2:15:14,  2.86s/it]"
     ]
    },
    {
     "name": "stdout",
     "output_type": "stream",
     "text": [
      "✅ FBK - CashFlow_Quarter 데이터 삽입 완료\n",
      "✅ FBIZ - IncomeStatement_Quarter 데이터 삽입 완료\n",
      "✅ FBIZ - BalanceSheet_Quarter 데이터 삽입 완료\n"
     ]
    },
    {
     "name": "stderr",
     "output_type": "stream",
     "text": [
      "Processing Companies:  33%|███▎      | 1372/4204 [1:06:02<2:14:04,  2.84s/it]"
     ]
    },
    {
     "name": "stdout",
     "output_type": "stream",
     "text": [
      "✅ FBIZ - CashFlow_Quarter 데이터 삽입 완료\n",
      "✅ FBIO - IncomeStatement_Quarter 데이터 삽입 완료\n",
      "✅ FBIO - BalanceSheet_Quarter 데이터 삽입 완료\n"
     ]
    },
    {
     "name": "stderr",
     "output_type": "stream",
     "text": [
      "Processing Companies:  33%|███▎      | 1373/4204 [1:06:04<2:13:31,  2.83s/it]"
     ]
    },
    {
     "name": "stdout",
     "output_type": "stream",
     "text": [
      "✅ FBIO - CashFlow_Quarter 데이터 삽입 완료\n",
      "✅ FBNC - IncomeStatement_Quarter 데이터 삽입 완료\n",
      "✅ FBNC - BalanceSheet_Quarter 데이터 삽입 완료\n"
     ]
    },
    {
     "name": "stderr",
     "output_type": "stream",
     "text": [
      "Processing Companies:  33%|███▎      | 1374/4204 [1:06:07<2:13:00,  2.82s/it]"
     ]
    },
    {
     "name": "stdout",
     "output_type": "stream",
     "text": [
      "✅ FBNC - CashFlow_Quarter 데이터 삽입 완료\n",
      "✅ FBRT - IncomeStatement_Quarter 데이터 삽입 완료\n",
      "✅ FBRT - BalanceSheet_Quarter 데이터 삽입 완료\n"
     ]
    },
    {
     "name": "stderr",
     "output_type": "stream",
     "text": [
      "Processing Companies:  33%|███▎      | 1375/4204 [1:06:10<2:12:41,  2.81s/it]"
     ]
    },
    {
     "name": "stdout",
     "output_type": "stream",
     "text": [
      "✅ FBRT - CashFlow_Quarter 데이터 삽입 완료\n",
      "✅ FBRX - IncomeStatement_Quarter 데이터 삽입 완료\n",
      "✅ FBRX - BalanceSheet_Quarter 데이터 삽입 완료\n"
     ]
    },
    {
     "name": "stderr",
     "output_type": "stream",
     "text": [
      "Processing Companies:  33%|███▎      | 1376/4204 [1:06:13<2:12:24,  2.81s/it]"
     ]
    },
    {
     "name": "stdout",
     "output_type": "stream",
     "text": [
      "✅ FBRX - CashFlow_Quarter 데이터 삽입 완료\n",
      "✅ FBP - IncomeStatement_Quarter 데이터 삽입 완료\n",
      "✅ FBP - BalanceSheet_Quarter 데이터 삽입 완료\n"
     ]
    },
    {
     "name": "stderr",
     "output_type": "stream",
     "text": [
      "Processing Companies:  33%|███▎      | 1377/4204 [1:06:16<2:15:56,  2.89s/it]"
     ]
    },
    {
     "name": "stdout",
     "output_type": "stream",
     "text": [
      "✅ FBP - CashFlow_Quarter 데이터 삽입 완료\n",
      "✅ FCBC - IncomeStatement_Quarter 데이터 삽입 완료\n",
      "✅ FCBC - BalanceSheet_Quarter 데이터 삽입 완료\n"
     ]
    },
    {
     "name": "stderr",
     "output_type": "stream",
     "text": [
      "Processing Companies:  33%|███▎      | 1378/4204 [1:06:19<2:16:35,  2.90s/it]"
     ]
    },
    {
     "name": "stdout",
     "output_type": "stream",
     "text": [
      "✅ FCBC - CashFlow_Quarter 데이터 삽입 완료\n",
      "✅ FC - IncomeStatement_Quarter 데이터 삽입 완료\n",
      "✅ FC - BalanceSheet_Quarter 데이터 삽입 완료\n"
     ]
    },
    {
     "name": "stderr",
     "output_type": "stream",
     "text": [
      "Processing Companies:  33%|███▎      | 1379/4204 [1:06:22<2:15:10,  2.87s/it]"
     ]
    },
    {
     "name": "stdout",
     "output_type": "stream",
     "text": [
      "✅ FC - CashFlow_Quarter 데이터 삽입 완료\n",
      "✅ FCAP - IncomeStatement_Quarter 데이터 삽입 완료\n",
      "✅ FCAP - BalanceSheet_Quarter 데이터 삽입 완료\n"
     ]
    },
    {
     "name": "stderr",
     "output_type": "stream",
     "text": [
      "Processing Companies:  33%|███▎      | 1380/4204 [1:06:25<2:17:32,  2.92s/it]"
     ]
    },
    {
     "name": "stdout",
     "output_type": "stream",
     "text": [
      "✅ FCAP - CashFlow_Quarter 데이터 삽입 완료\n",
      "✅ FCEL - IncomeStatement_Quarter 데이터 삽입 완료\n",
      "✅ FCEL - BalanceSheet_Quarter 데이터 삽입 완료\n"
     ]
    },
    {
     "name": "stderr",
     "output_type": "stream",
     "text": [
      "Processing Companies:  33%|███▎      | 1381/4204 [1:06:27<2:17:10,  2.92s/it]"
     ]
    },
    {
     "name": "stdout",
     "output_type": "stream",
     "text": [
      "✅ FCEL - CashFlow_Quarter 데이터 삽입 완료\n",
      "✅ FCCO - IncomeStatement_Quarter 데이터 삽입 완료\n",
      "✅ FCCO - BalanceSheet_Quarter 데이터 삽입 완료\n"
     ]
    },
    {
     "name": "stderr",
     "output_type": "stream",
     "text": [
      "Processing Companies:  33%|███▎      | 1382/4204 [1:06:30<2:17:11,  2.92s/it]"
     ]
    },
    {
     "name": "stdout",
     "output_type": "stream",
     "text": [
      "✅ FCCO - CashFlow_Quarter 데이터 삽입 완료\n",
      "✅ FCNCA - IncomeStatement_Quarter 데이터 삽입 완료\n",
      "✅ FCNCA - BalanceSheet_Quarter 데이터 삽입 완료\n"
     ]
    },
    {
     "name": "stderr",
     "output_type": "stream",
     "text": [
      "Processing Companies:  33%|███▎      | 1383/4204 [1:06:33<2:17:44,  2.93s/it]"
     ]
    },
    {
     "name": "stdout",
     "output_type": "stream",
     "text": [
      "✅ FCNCA - CashFlow_Quarter 데이터 삽입 완료\n",
      "✅ FCNCO - IncomeStatement_Quarter 데이터 삽입 완료\n",
      "✅ FCNCO - BalanceSheet_Quarter 데이터 삽입 완료\n"
     ]
    },
    {
     "name": "stderr",
     "output_type": "stream",
     "text": [
      "Processing Companies:  33%|███▎      | 1384/4204 [1:06:36<2:17:53,  2.93s/it]"
     ]
    },
    {
     "name": "stdout",
     "output_type": "stream",
     "text": [
      "✅ FCNCO - CashFlow_Quarter 데이터 삽입 완료\n",
      "✅ FCF - IncomeStatement_Quarter 데이터 삽입 완료\n",
      "✅ FCF - BalanceSheet_Quarter 데이터 삽입 완료\n"
     ]
    },
    {
     "name": "stderr",
     "output_type": "stream",
     "text": [
      "Processing Companies:  33%|███▎      | 1385/4204 [1:06:39<2:16:20,  2.90s/it]"
     ]
    },
    {
     "name": "stdout",
     "output_type": "stream",
     "text": [
      "✅ FCF - CashFlow_Quarter 데이터 삽입 완료\n",
      "✅ FCNCP - IncomeStatement_Quarter 데이터 삽입 완료\n",
      "✅ FCNCP - BalanceSheet_Quarter 데이터 삽입 완료\n"
     ]
    },
    {
     "name": "stderr",
     "output_type": "stream",
     "text": [
      "Processing Companies:  33%|███▎      | 1386/4204 [1:06:42<2:15:38,  2.89s/it]"
     ]
    },
    {
     "name": "stdout",
     "output_type": "stream",
     "text": [
      "✅ FCNCP - CashFlow_Quarter 데이터 삽입 완료\n",
      "❌ IncomeStatement_Quarter 데이터 없음\n",
      "❌ BalanceSheet_Quarter 데이터 없음\n"
     ]
    },
    {
     "name": "stderr",
     "output_type": "stream",
     "text": [
      "Processing Companies:  33%|███▎      | 1387/4204 [1:06:45<2:10:41,  2.78s/it]"
     ]
    },
    {
     "name": "stdout",
     "output_type": "stream",
     "text": [
      "❌ CashFlow_Quarter 데이터 없음\n",
      "✅ FCPT - IncomeStatement_Quarter 데이터 삽입 완료\n",
      "✅ FCPT - BalanceSheet_Quarter 데이터 삽입 완료\n"
     ]
    },
    {
     "name": "stderr",
     "output_type": "stream",
     "text": [
      "Processing Companies:  33%|███▎      | 1388/4204 [1:06:47<2:10:22,  2.78s/it]"
     ]
    },
    {
     "name": "stdout",
     "output_type": "stream",
     "text": [
      "✅ FCPT - CashFlow_Quarter 데이터 삽입 완료\n",
      "✅ FCX - IncomeStatement_Quarter 데이터 삽입 완료\n",
      "✅ FCX - BalanceSheet_Quarter 데이터 삽입 완료\n"
     ]
    },
    {
     "name": "stderr",
     "output_type": "stream",
     "text": [
      "Processing Companies:  33%|███▎      | 1389/4204 [1:06:50<2:10:38,  2.78s/it]"
     ]
    },
    {
     "name": "stdout",
     "output_type": "stream",
     "text": [
      "✅ FCX - CashFlow_Quarter 데이터 삽입 완료\n",
      "✅ FDBC - IncomeStatement_Quarter 데이터 삽입 완료\n",
      "✅ FDBC - BalanceSheet_Quarter 데이터 삽입 완료\n"
     ]
    },
    {
     "name": "stderr",
     "output_type": "stream",
     "text": [
      "Processing Companies:  33%|███▎      | 1390/4204 [1:06:53<2:10:54,  2.79s/it]"
     ]
    },
    {
     "name": "stdout",
     "output_type": "stream",
     "text": [
      "✅ FDBC - CashFlow_Quarter 데이터 삽입 완료\n",
      "✅ FDP - IncomeStatement_Quarter 데이터 삽입 완료\n",
      "✅ FDP - BalanceSheet_Quarter 데이터 삽입 완료\n"
     ]
    },
    {
     "name": "stderr",
     "output_type": "stream",
     "text": [
      "Processing Companies:  33%|███▎      | 1391/4204 [1:06:56<2:12:22,  2.82s/it]"
     ]
    },
    {
     "name": "stdout",
     "output_type": "stream",
     "text": [
      "✅ FDP - CashFlow_Quarter 데이터 삽입 완료\n",
      "✅ FDMT - IncomeStatement_Quarter 데이터 삽입 완료\n",
      "✅ FDMT - BalanceSheet_Quarter 데이터 삽입 완료\n"
     ]
    },
    {
     "name": "stderr",
     "output_type": "stream",
     "text": [
      "Processing Companies:  33%|███▎      | 1392/4204 [1:06:58<2:10:29,  2.78s/it]"
     ]
    },
    {
     "name": "stdout",
     "output_type": "stream",
     "text": [
      "✅ FDMT - CashFlow_Quarter 데이터 삽입 완료\n",
      "✅ FDS - IncomeStatement_Quarter 데이터 삽입 완료\n",
      "✅ FDS - BalanceSheet_Quarter 데이터 삽입 완료\n"
     ]
    },
    {
     "name": "stderr",
     "output_type": "stream",
     "text": [
      "Processing Companies:  33%|███▎      | 1393/4204 [1:07:01<2:12:06,  2.82s/it]"
     ]
    },
    {
     "name": "stdout",
     "output_type": "stream",
     "text": [
      "✅ FDS - CashFlow_Quarter 데이터 삽입 완료\n",
      "✅ FDX - IncomeStatement_Quarter 데이터 삽입 완료\n",
      "✅ FDX - BalanceSheet_Quarter 데이터 삽입 완료\n"
     ]
    },
    {
     "name": "stderr",
     "output_type": "stream",
     "text": [
      "Processing Companies:  33%|███▎      | 1394/4204 [1:07:04<2:11:45,  2.81s/it]"
     ]
    },
    {
     "name": "stdout",
     "output_type": "stream",
     "text": [
      "✅ FDX - CashFlow_Quarter 데이터 삽입 완료\n",
      "✅ FEAM - IncomeStatement_Quarter 데이터 삽입 완료\n",
      "✅ FEAM - BalanceSheet_Quarter 데이터 삽입 완료\n"
     ]
    },
    {
     "name": "stderr",
     "output_type": "stream",
     "text": [
      "Processing Companies:  33%|███▎      | 1395/4204 [1:07:07<2:11:01,  2.80s/it]"
     ]
    },
    {
     "name": "stdout",
     "output_type": "stream",
     "text": [
      "✅ FEAM - CashFlow_Quarter 데이터 삽입 완료\n",
      "❌ IncomeStatement_Quarter 데이터 없음\n",
      "✅ FEDU - BalanceSheet_Quarter 데이터 삽입 완료\n"
     ]
    },
    {
     "name": "stderr",
     "output_type": "stream",
     "text": [
      "Processing Companies:  33%|███▎      | 1396/4204 [1:07:10<2:08:57,  2.76s/it]"
     ]
    },
    {
     "name": "stdout",
     "output_type": "stream",
     "text": [
      "❌ CashFlow_Quarter 데이터 없음\n",
      "✅ FE - IncomeStatement_Quarter 데이터 삽입 완료\n",
      "✅ FE - BalanceSheet_Quarter 데이터 삽입 완료\n"
     ]
    },
    {
     "name": "stderr",
     "output_type": "stream",
     "text": [
      "Processing Companies:  33%|███▎      | 1397/4204 [1:07:12<2:09:56,  2.78s/it]"
     ]
    },
    {
     "name": "stdout",
     "output_type": "stream",
     "text": [
      "✅ FE - CashFlow_Quarter 데이터 삽입 완료\n",
      "✅ FELE - IncomeStatement_Quarter 데이터 삽입 완료\n",
      "✅ FELE - BalanceSheet_Quarter 데이터 삽입 완료\n"
     ]
    },
    {
     "name": "stderr",
     "output_type": "stream",
     "text": [
      "Processing Companies:  33%|███▎      | 1398/4204 [1:07:15<2:11:51,  2.82s/it]"
     ]
    },
    {
     "name": "stdout",
     "output_type": "stream",
     "text": [
      "✅ FELE - CashFlow_Quarter 데이터 삽입 완료\n",
      "✅ FENC - IncomeStatement_Quarter 데이터 삽입 완료\n",
      "✅ FENC - BalanceSheet_Quarter 데이터 삽입 완료\n"
     ]
    },
    {
     "name": "stderr",
     "output_type": "stream",
     "text": [
      "Processing Companies:  33%|███▎      | 1399/4204 [1:07:18<2:11:17,  2.81s/it]"
     ]
    },
    {
     "name": "stdout",
     "output_type": "stream",
     "text": [
      "✅ FENC - CashFlow_Quarter 데이터 삽입 완료\n",
      "✅ FEIM - IncomeStatement_Quarter 데이터 삽입 완료\n",
      "✅ FEIM - BalanceSheet_Quarter 데이터 삽입 완료\n"
     ]
    },
    {
     "name": "stderr",
     "output_type": "stream",
     "text": [
      "Processing Companies:  33%|███▎      | 1400/4204 [1:07:21<2:12:49,  2.84s/it]"
     ]
    },
    {
     "name": "stdout",
     "output_type": "stream",
     "text": [
      "✅ FEIM - CashFlow_Quarter 데이터 삽입 완료\n",
      "✅ FEMY - IncomeStatement_Quarter 데이터 삽입 완료\n",
      "✅ FEMY - BalanceSheet_Quarter 데이터 삽입 완료\n"
     ]
    },
    {
     "name": "stderr",
     "output_type": "stream",
     "text": [
      "Processing Companies:  33%|███▎      | 1401/4204 [1:07:24<2:11:13,  2.81s/it]"
     ]
    },
    {
     "name": "stdout",
     "output_type": "stream",
     "text": [
      "✅ FEMY - CashFlow_Quarter 데이터 삽입 완료\n",
      "✅ FER - IncomeStatement_Quarter 데이터 삽입 완료\n",
      "✅ FER - BalanceSheet_Quarter 데이터 삽입 완료\n"
     ]
    },
    {
     "name": "stderr",
     "output_type": "stream",
     "text": [
      "Processing Companies:  33%|███▎      | 1402/4204 [1:07:27<2:11:33,  2.82s/it]"
     ]
    },
    {
     "name": "stdout",
     "output_type": "stream",
     "text": [
      "❌ CashFlow_Quarter 데이터 없음\n",
      "✅ FENG - IncomeStatement_Quarter 데이터 삽입 완료\n",
      "✅ FENG - BalanceSheet_Quarter 데이터 삽입 완료\n"
     ]
    },
    {
     "name": "stderr",
     "output_type": "stream",
     "text": [
      "Processing Companies:  33%|███▎      | 1403/4204 [1:07:29<2:10:28,  2.80s/it]"
     ]
    },
    {
     "name": "stdout",
     "output_type": "stream",
     "text": [
      "❌ CashFlow_Quarter 데이터 없음\n",
      "✅ FET - IncomeStatement_Quarter 데이터 삽입 완료\n",
      "✅ FET - BalanceSheet_Quarter 데이터 삽입 완료\n"
     ]
    },
    {
     "name": "stderr",
     "output_type": "stream",
     "text": [
      "Processing Companies:  33%|███▎      | 1404/4204 [1:07:32<2:11:26,  2.82s/it]"
     ]
    },
    {
     "name": "stdout",
     "output_type": "stream",
     "text": [
      "✅ FET - CashFlow_Quarter 데이터 삽입 완료\n",
      "✅ FERG - IncomeStatement_Quarter 데이터 삽입 완료\n",
      "✅ FERG - BalanceSheet_Quarter 데이터 삽입 완료\n"
     ]
    },
    {
     "name": "stderr",
     "output_type": "stream",
     "text": [
      "Processing Companies:  33%|███▎      | 1405/4204 [1:07:35<2:10:30,  2.80s/it]"
     ]
    },
    {
     "name": "stdout",
     "output_type": "stream",
     "text": [
      "✅ FERG - CashFlow_Quarter 데이터 삽입 완료\n",
      "✅ FF - IncomeStatement_Quarter 데이터 삽입 완료\n",
      "✅ FF - BalanceSheet_Quarter 데이터 삽입 완료\n"
     ]
    },
    {
     "name": "stderr",
     "output_type": "stream",
     "text": [
      "Processing Companies:  33%|███▎      | 1406/4204 [1:07:38<2:09:52,  2.78s/it]"
     ]
    },
    {
     "name": "stdout",
     "output_type": "stream",
     "text": [
      "✅ FF - CashFlow_Quarter 데이터 삽입 완료\n",
      "✅ FFAI - IncomeStatement_Quarter 데이터 삽입 완료\n",
      "✅ FFAI - BalanceSheet_Quarter 데이터 삽입 완료\n"
     ]
    },
    {
     "name": "stderr",
     "output_type": "stream",
     "text": [
      "Processing Companies:  33%|███▎      | 1407/4204 [1:07:41<2:10:37,  2.80s/it]"
     ]
    },
    {
     "name": "stdout",
     "output_type": "stream",
     "text": [
      "✅ FFAI - CashFlow_Quarter 데이터 삽입 완료\n",
      "✅ FFBC - IncomeStatement_Quarter 데이터 삽입 완료\n",
      "✅ FFBC - BalanceSheet_Quarter 데이터 삽입 완료\n"
     ]
    },
    {
     "name": "stderr",
     "output_type": "stream",
     "text": [
      "Processing Companies:  33%|███▎      | 1408/4204 [1:07:43<2:10:06,  2.79s/it]"
     ]
    },
    {
     "name": "stdout",
     "output_type": "stream",
     "text": [
      "✅ FFBC - CashFlow_Quarter 데이터 삽입 완료\n",
      "✅ FFIC - IncomeStatement_Quarter 데이터 삽입 완료\n",
      "✅ FFIC - BalanceSheet_Quarter 데이터 삽입 완료\n"
     ]
    },
    {
     "name": "stderr",
     "output_type": "stream",
     "text": [
      "Processing Companies:  34%|███▎      | 1409/4204 [1:07:46<2:12:06,  2.84s/it]"
     ]
    },
    {
     "name": "stdout",
     "output_type": "stream",
     "text": [
      "✅ FFIC - CashFlow_Quarter 데이터 삽입 완료\n",
      "✅ FFIN - IncomeStatement_Quarter 데이터 삽입 완료\n",
      "✅ FFIN - BalanceSheet_Quarter 데이터 삽입 완료\n"
     ]
    },
    {
     "name": "stderr",
     "output_type": "stream",
     "text": [
      "Processing Companies:  34%|███▎      | 1410/4204 [1:07:49<2:14:16,  2.88s/it]"
     ]
    },
    {
     "name": "stdout",
     "output_type": "stream",
     "text": [
      "✅ FFIN - CashFlow_Quarter 데이터 삽입 완료\n",
      "✅ FFWM - IncomeStatement_Quarter 데이터 삽입 완료\n",
      "✅ FFWM - BalanceSheet_Quarter 데이터 삽입 완료\n"
     ]
    },
    {
     "name": "stderr",
     "output_type": "stream",
     "text": [
      "Processing Companies:  34%|███▎      | 1411/4204 [1:07:52<2:13:38,  2.87s/it]"
     ]
    },
    {
     "name": "stdout",
     "output_type": "stream",
     "text": [
      "✅ FFWM - CashFlow_Quarter 데이터 삽입 완료\n",
      "✅ FFIV - IncomeStatement_Quarter 데이터 삽입 완료\n",
      "✅ FFIV - BalanceSheet_Quarter 데이터 삽입 완료\n"
     ]
    },
    {
     "name": "stderr",
     "output_type": "stream",
     "text": [
      "Processing Companies:  34%|███▎      | 1412/4204 [1:07:55<2:12:40,  2.85s/it]"
     ]
    },
    {
     "name": "stdout",
     "output_type": "stream",
     "text": [
      "✅ FFIV - CashFlow_Quarter 데이터 삽입 완료\n",
      "✅ FGEN - IncomeStatement_Quarter 데이터 삽입 완료\n",
      "✅ FGEN - BalanceSheet_Quarter 데이터 삽입 완료\n"
     ]
    },
    {
     "name": "stderr",
     "output_type": "stream",
     "text": [
      "Processing Companies:  34%|███▎      | 1413/4204 [1:07:58<2:12:12,  2.84s/it]"
     ]
    },
    {
     "name": "stdout",
     "output_type": "stream",
     "text": [
      "✅ FGEN - CashFlow_Quarter 데이터 삽입 완료\n",
      "✅ FGBIP - IncomeStatement_Quarter 데이터 삽입 완료\n",
      "✅ FGBIP - BalanceSheet_Quarter 데이터 삽입 완료\n"
     ]
    },
    {
     "name": "stderr",
     "output_type": "stream",
     "text": [
      "Processing Companies:  34%|███▎      | 1414/4204 [1:08:01<2:11:56,  2.84s/it]"
     ]
    },
    {
     "name": "stdout",
     "output_type": "stream",
     "text": [
      "✅ FGBIP - CashFlow_Quarter 데이터 삽입 완료\n",
      "✅ FGF - IncomeStatement_Quarter 데이터 삽입 완료\n",
      "✅ FGF - BalanceSheet_Quarter 데이터 삽입 완료\n"
     ]
    },
    {
     "name": "stderr",
     "output_type": "stream",
     "text": [
      "Processing Companies:  34%|███▎      | 1415/4204 [1:08:03<2:12:54,  2.86s/it]"
     ]
    },
    {
     "name": "stdout",
     "output_type": "stream",
     "text": [
      "✅ FGF - CashFlow_Quarter 데이터 삽입 완료\n",
      "✅ FGFPP - IncomeStatement_Quarter 데이터 삽입 완료\n",
      "✅ FGFPP - BalanceSheet_Quarter 데이터 삽입 완료\n"
     ]
    },
    {
     "name": "stderr",
     "output_type": "stream",
     "text": [
      "Processing Companies:  34%|███▎      | 1416/4204 [1:08:07<2:14:56,  2.90s/it]"
     ]
    },
    {
     "name": "stdout",
     "output_type": "stream",
     "text": [
      "✅ FGFPP - CashFlow_Quarter 데이터 삽입 완료\n",
      "✅ FGI - IncomeStatement_Quarter 데이터 삽입 완료\n",
      "✅ FGI - BalanceSheet_Quarter 데이터 삽입 완료\n"
     ]
    },
    {
     "name": "stderr",
     "output_type": "stream",
     "text": [
      "Processing Companies:  34%|███▎      | 1417/4204 [1:08:09<2:13:32,  2.88s/it]"
     ]
    },
    {
     "name": "stdout",
     "output_type": "stream",
     "text": [
      "✅ FGI - CashFlow_Quarter 데이터 삽입 완료\n",
      "✅ FHB - IncomeStatement_Quarter 데이터 삽입 완료\n",
      "✅ FHB - BalanceSheet_Quarter 데이터 삽입 완료\n"
     ]
    },
    {
     "name": "stderr",
     "output_type": "stream",
     "text": [
      "Processing Companies:  34%|███▎      | 1418/4204 [1:08:12<2:12:09,  2.85s/it]"
     ]
    },
    {
     "name": "stdout",
     "output_type": "stream",
     "text": [
      "✅ FHB - CashFlow_Quarter 데이터 삽입 완료\n",
      "✅ FHN - IncomeStatement_Quarter 데이터 삽입 완료\n",
      "✅ FHN - BalanceSheet_Quarter 데이터 삽입 완료\n"
     ]
    },
    {
     "name": "stderr",
     "output_type": "stream",
     "text": [
      "Processing Companies:  34%|███▍      | 1419/4204 [1:08:15<2:13:00,  2.87s/it]"
     ]
    },
    {
     "name": "stdout",
     "output_type": "stream",
     "text": [
      "✅ FHN - CashFlow_Quarter 데이터 삽입 완료\n",
      "✅ FHTX - IncomeStatement_Quarter 데이터 삽입 완료\n",
      "✅ FHTX - BalanceSheet_Quarter 데이터 삽입 완료\n"
     ]
    },
    {
     "name": "stderr",
     "output_type": "stream",
     "text": [
      "Processing Companies:  34%|███▍      | 1420/4204 [1:08:18<2:11:30,  2.83s/it]"
     ]
    },
    {
     "name": "stdout",
     "output_type": "stream",
     "text": [
      "✅ FHTX - CashFlow_Quarter 데이터 삽입 완료\n",
      "✅ FI - IncomeStatement_Quarter 데이터 삽입 완료\n",
      "✅ FI - BalanceSheet_Quarter 데이터 삽입 완료\n"
     ]
    },
    {
     "name": "stderr",
     "output_type": "stream",
     "text": [
      "Processing Companies:  34%|███▍      | 1421/4204 [1:08:21<2:11:46,  2.84s/it]"
     ]
    },
    {
     "name": "stdout",
     "output_type": "stream",
     "text": [
      "✅ FI - CashFlow_Quarter 데이터 삽입 완료\n",
      "✅ FIBK - IncomeStatement_Quarter 데이터 삽입 완료\n",
      "✅ FIBK - BalanceSheet_Quarter 데이터 삽입 완료\n"
     ]
    },
    {
     "name": "stderr",
     "output_type": "stream",
     "text": [
      "Processing Companies:  34%|███▍      | 1422/4204 [1:08:23<2:11:04,  2.83s/it]"
     ]
    },
    {
     "name": "stdout",
     "output_type": "stream",
     "text": [
      "✅ FIBK - CashFlow_Quarter 데이터 삽입 완료\n",
      "✅ FICO - IncomeStatement_Quarter 데이터 삽입 완료\n",
      "✅ FICO - BalanceSheet_Quarter 데이터 삽입 완료\n"
     ]
    },
    {
     "name": "stderr",
     "output_type": "stream",
     "text": [
      "Processing Companies:  34%|███▍      | 1423/4204 [1:08:26<2:12:33,  2.86s/it]"
     ]
    },
    {
     "name": "stdout",
     "output_type": "stream",
     "text": [
      "✅ FICO - CashFlow_Quarter 데이터 삽입 완료\n",
      "✅ FIGS - IncomeStatement_Quarter 데이터 삽입 완료\n",
      "✅ FIGS - BalanceSheet_Quarter 데이터 삽입 완료\n"
     ]
    },
    {
     "name": "stderr",
     "output_type": "stream",
     "text": [
      "Processing Companies:  34%|███▍      | 1424/4204 [1:08:29<2:13:14,  2.88s/it]"
     ]
    },
    {
     "name": "stdout",
     "output_type": "stream",
     "text": [
      "✅ FIGS - CashFlow_Quarter 데이터 삽입 완료\n",
      "✅ FINV - IncomeStatement_Quarter 데이터 삽입 완료\n",
      "✅ FINV - BalanceSheet_Quarter 데이터 삽입 완료\n"
     ]
    },
    {
     "name": "stderr",
     "output_type": "stream",
     "text": [
      "Processing Companies:  34%|███▍      | 1425/4204 [1:08:32<2:11:25,  2.84s/it]"
     ]
    },
    {
     "name": "stdout",
     "output_type": "stream",
     "text": [
      "✅ FINV - CashFlow_Quarter 데이터 삽입 완료\n",
      "✅ FINW - IncomeStatement_Quarter 데이터 삽입 완료\n",
      "✅ FINW - BalanceSheet_Quarter 데이터 삽입 완료\n"
     ]
    },
    {
     "name": "stderr",
     "output_type": "stream",
     "text": [
      "Processing Companies:  34%|███▍      | 1426/4204 [1:08:35<2:12:09,  2.85s/it]"
     ]
    },
    {
     "name": "stdout",
     "output_type": "stream",
     "text": [
      "✅ FINW - CashFlow_Quarter 데이터 삽입 완료\n",
      "✅ FIS - IncomeStatement_Quarter 데이터 삽입 완료\n",
      "✅ FIS - BalanceSheet_Quarter 데이터 삽입 완료\n"
     ]
    },
    {
     "name": "stderr",
     "output_type": "stream",
     "text": [
      "Processing Companies:  34%|███▍      | 1427/4204 [1:08:38<2:13:17,  2.88s/it]"
     ]
    },
    {
     "name": "stdout",
     "output_type": "stream",
     "text": [
      "✅ FIS - CashFlow_Quarter 데이터 삽입 완료\n",
      "✅ FITB - IncomeStatement_Quarter 데이터 삽입 완료\n",
      "✅ FITB - BalanceSheet_Quarter 데이터 삽입 완료\n"
     ]
    },
    {
     "name": "stderr",
     "output_type": "stream",
     "text": [
      "Processing Companies:  34%|███▍      | 1428/4204 [1:08:41<2:12:09,  2.86s/it]"
     ]
    },
    {
     "name": "stdout",
     "output_type": "stream",
     "text": [
      "✅ FITB - CashFlow_Quarter 데이터 삽입 완료\n",
      "✅ FISK - IncomeStatement_Quarter 데이터 삽입 완료\n",
      "✅ FISK - BalanceSheet_Quarter 데이터 삽입 완료\n"
     ]
    },
    {
     "name": "stderr",
     "output_type": "stream",
     "text": [
      "Processing Companies:  34%|███▍      | 1429/4204 [1:08:43<2:11:19,  2.84s/it]"
     ]
    },
    {
     "name": "stdout",
     "output_type": "stream",
     "text": [
      "✅ FISK - CashFlow_Quarter 데이터 삽입 완료\n",
      "✅ FISI - IncomeStatement_Quarter 데이터 삽입 완료\n",
      "✅ FISI - BalanceSheet_Quarter 데이터 삽입 완료\n"
     ]
    },
    {
     "name": "stderr",
     "output_type": "stream",
     "text": [
      "Processing Companies:  34%|███▍      | 1430/4204 [1:08:46<2:11:30,  2.84s/it]"
     ]
    },
    {
     "name": "stdout",
     "output_type": "stream",
     "text": [
      "✅ FISI - CashFlow_Quarter 데이터 삽입 완료\n",
      "✅ FITBI - IncomeStatement_Quarter 데이터 삽입 완료\n",
      "✅ FITBI - BalanceSheet_Quarter 데이터 삽입 완료\n"
     ]
    },
    {
     "name": "stderr",
     "output_type": "stream",
     "text": [
      "Processing Companies:  34%|███▍      | 1431/4204 [1:08:49<2:10:52,  2.83s/it]"
     ]
    },
    {
     "name": "stdout",
     "output_type": "stream",
     "text": [
      "✅ FITBI - CashFlow_Quarter 데이터 삽입 완료\n",
      "✅ FITBP - IncomeStatement_Quarter 데이터 삽입 완료\n",
      "✅ FITBP - BalanceSheet_Quarter 데이터 삽입 완료\n"
     ]
    },
    {
     "name": "stderr",
     "output_type": "stream",
     "text": [
      "Processing Companies:  34%|███▍      | 1432/4204 [1:08:52<2:10:28,  2.82s/it]"
     ]
    },
    {
     "name": "stdout",
     "output_type": "stream",
     "text": [
      "✅ FITBP - CashFlow_Quarter 데이터 삽입 완료\n",
      "✅ FGBI - IncomeStatement_Quarter 데이터 삽입 완료\n",
      "✅ FGBI - BalanceSheet_Quarter 데이터 삽입 완료\n"
     ]
    },
    {
     "name": "stderr",
     "output_type": "stream",
     "text": [
      "Processing Companies:  34%|███▍      | 1433/4204 [1:08:55<2:10:00,  2.82s/it]"
     ]
    },
    {
     "name": "stdout",
     "output_type": "stream",
     "text": [
      "✅ FGBI - CashFlow_Quarter 데이터 삽입 완료\n",
      "✅ FITBO - IncomeStatement_Quarter 데이터 삽입 완료\n",
      "✅ FITBO - BalanceSheet_Quarter 데이터 삽입 완료\n"
     ]
    },
    {
     "name": "stderr",
     "output_type": "stream",
     "text": [
      "Processing Companies:  34%|███▍      | 1434/4204 [1:08:58<2:11:52,  2.86s/it]"
     ]
    },
    {
     "name": "stdout",
     "output_type": "stream",
     "text": [
      "✅ FITBO - CashFlow_Quarter 데이터 삽입 완료\n",
      "✅ FIVN - IncomeStatement_Quarter 데이터 삽입 완료\n",
      "✅ FIVN - BalanceSheet_Quarter 데이터 삽입 완료\n"
     ]
    },
    {
     "name": "stderr",
     "output_type": "stream",
     "text": [
      "Processing Companies:  34%|███▍      | 1435/4204 [1:09:00<2:10:16,  2.82s/it]"
     ]
    },
    {
     "name": "stdout",
     "output_type": "stream",
     "text": [
      "✅ FIVN - CashFlow_Quarter 데이터 삽입 완료\n",
      "✅ FIX - IncomeStatement_Quarter 데이터 삽입 완료\n",
      "✅ FIX - BalanceSheet_Quarter 데이터 삽입 완료\n"
     ]
    },
    {
     "name": "stderr",
     "output_type": "stream",
     "text": [
      "Processing Companies:  34%|███▍      | 1436/4204 [1:09:03<2:09:13,  2.80s/it]"
     ]
    },
    {
     "name": "stdout",
     "output_type": "stream",
     "text": [
      "✅ FIX - CashFlow_Quarter 데이터 삽입 완료\n",
      "✅ FIZZ - IncomeStatement_Quarter 데이터 삽입 완료\n",
      "✅ FIZZ - BalanceSheet_Quarter 데이터 삽입 완료\n"
     ]
    },
    {
     "name": "stderr",
     "output_type": "stream",
     "text": [
      "Processing Companies:  34%|███▍      | 1437/4204 [1:09:06<2:08:30,  2.79s/it]"
     ]
    },
    {
     "name": "stdout",
     "output_type": "stream",
     "text": [
      "✅ FIZZ - CashFlow_Quarter 데이터 삽입 완료\n",
      "✅ FKWL - IncomeStatement_Quarter 데이터 삽입 완료\n",
      "✅ FKWL - BalanceSheet_Quarter 데이터 삽입 완료\n"
     ]
    },
    {
     "name": "stderr",
     "output_type": "stream",
     "text": [
      "Processing Companies:  34%|███▍      | 1438/4204 [1:09:09<2:10:11,  2.82s/it]"
     ]
    },
    {
     "name": "stdout",
     "output_type": "stream",
     "text": [
      "✅ FKWL - CashFlow_Quarter 데이터 삽입 완료\n",
      "✅ FL - IncomeStatement_Quarter 데이터 삽입 완료\n",
      "✅ FL - BalanceSheet_Quarter 데이터 삽입 완료\n"
     ]
    },
    {
     "name": "stderr",
     "output_type": "stream",
     "text": [
      "Processing Companies:  34%|███▍      | 1439/4204 [1:09:12<2:12:25,  2.87s/it]"
     ]
    },
    {
     "name": "stdout",
     "output_type": "stream",
     "text": [
      "✅ FL - CashFlow_Quarter 데이터 삽입 완료\n",
      "✅ FLEX - IncomeStatement_Quarter 데이터 삽입 완료\n",
      "✅ FLEX - BalanceSheet_Quarter 데이터 삽입 완료\n"
     ]
    },
    {
     "name": "stderr",
     "output_type": "stream",
     "text": [
      "Processing Companies:  34%|███▍      | 1440/4204 [1:09:15<2:12:02,  2.87s/it]"
     ]
    },
    {
     "name": "stdout",
     "output_type": "stream",
     "text": [
      "✅ FLEX - CashFlow_Quarter 데이터 삽입 완료\n",
      "✅ FLG - IncomeStatement_Quarter 데이터 삽입 완료\n",
      "✅ FLG - BalanceSheet_Quarter 데이터 삽입 완료\n"
     ]
    },
    {
     "name": "stderr",
     "output_type": "stream",
     "text": [
      "Processing Companies:  34%|███▍      | 1441/4204 [1:09:18<2:12:32,  2.88s/it]"
     ]
    },
    {
     "name": "stdout",
     "output_type": "stream",
     "text": [
      "✅ FLG - CashFlow_Quarter 데이터 삽입 완료\n",
      "✅ FLGT - IncomeStatement_Quarter 데이터 삽입 완료\n",
      "✅ FLGT - BalanceSheet_Quarter 데이터 삽입 완료\n"
     ]
    },
    {
     "name": "stderr",
     "output_type": "stream",
     "text": [
      "Processing Companies:  34%|███▍      | 1442/4204 [1:09:20<2:12:36,  2.88s/it]"
     ]
    },
    {
     "name": "stdout",
     "output_type": "stream",
     "text": [
      "✅ FLGT - CashFlow_Quarter 데이터 삽입 완료\n"
     ]
    },
    {
     "name": "stderr",
     "output_type": "stream",
     "text": [
      "$FLIC: possibly delisted; no price data found  (period=5d)\n"
     ]
    },
    {
     "name": "stdout",
     "output_type": "stream",
     "text": [
      "✅ FLIC - IncomeStatement_Quarter 데이터 삽입 완료\n",
      "✅ FLIC - BalanceSheet_Quarter 데이터 삽입 완료\n"
     ]
    },
    {
     "name": "stderr",
     "output_type": "stream",
     "text": [
      "Processing Companies:  34%|███▍      | 1443/4204 [1:09:23<2:14:20,  2.92s/it]"
     ]
    },
    {
     "name": "stdout",
     "output_type": "stream",
     "text": [
      "✅ FLIC - CashFlow_Quarter 데이터 삽입 완료\n",
      "✅ FLGC - IncomeStatement_Quarter 데이터 삽입 완료\n",
      "✅ FLGC - BalanceSheet_Quarter 데이터 삽입 완료\n"
     ]
    },
    {
     "name": "stderr",
     "output_type": "stream",
     "text": [
      "Processing Companies:  34%|███▍      | 1444/4204 [1:09:27<2:16:05,  2.96s/it]"
     ]
    },
    {
     "name": "stdout",
     "output_type": "stream",
     "text": [
      "✅ FLGC - CashFlow_Quarter 데이터 삽입 완료\n",
      "✅ FLL - IncomeStatement_Quarter 데이터 삽입 완료\n",
      "✅ FLL - BalanceSheet_Quarter 데이터 삽입 완료\n"
     ]
    },
    {
     "name": "stderr",
     "output_type": "stream",
     "text": [
      "Processing Companies:  34%|███▍      | 1445/4204 [1:09:29<2:13:52,  2.91s/it]"
     ]
    },
    {
     "name": "stdout",
     "output_type": "stream",
     "text": [
      "✅ FLL - CashFlow_Quarter 데이터 삽입 완료\n",
      "✅ FLNT - IncomeStatement_Quarter 데이터 삽입 완료\n",
      "✅ FLNT - BalanceSheet_Quarter 데이터 삽입 완료\n"
     ]
    },
    {
     "name": "stderr",
     "output_type": "stream",
     "text": [
      "Processing Companies:  34%|███▍      | 1446/4204 [1:09:32<2:12:19,  2.88s/it]"
     ]
    },
    {
     "name": "stdout",
     "output_type": "stream",
     "text": [
      "✅ FLNT - CashFlow_Quarter 데이터 삽입 완료\n",
      "✅ FLNC - IncomeStatement_Quarter 데이터 삽입 완료\n",
      "✅ FLNC - BalanceSheet_Quarter 데이터 삽입 완료\n"
     ]
    },
    {
     "name": "stderr",
     "output_type": "stream",
     "text": [
      "Processing Companies:  34%|███▍      | 1447/4204 [1:09:35<2:13:11,  2.90s/it]"
     ]
    },
    {
     "name": "stdout",
     "output_type": "stream",
     "text": [
      "✅ FLNC - CashFlow_Quarter 데이터 삽입 완료\n",
      "✅ FLNG - IncomeStatement_Quarter 데이터 삽입 완료\n",
      "✅ FLNG - BalanceSheet_Quarter 데이터 삽입 완료\n"
     ]
    },
    {
     "name": "stderr",
     "output_type": "stream",
     "text": [
      "Processing Companies:  34%|███▍      | 1448/4204 [1:09:38<2:11:46,  2.87s/it]"
     ]
    },
    {
     "name": "stdout",
     "output_type": "stream",
     "text": [
      "✅ FLNG - CashFlow_Quarter 데이터 삽입 완료\n",
      "✅ FLO - IncomeStatement_Quarter 데이터 삽입 완료\n",
      "✅ FLO - BalanceSheet_Quarter 데이터 삽입 완료\n"
     ]
    },
    {
     "name": "stderr",
     "output_type": "stream",
     "text": [
      "Processing Companies:  34%|███▍      | 1449/4204 [1:09:41<2:11:34,  2.87s/it]"
     ]
    },
    {
     "name": "stdout",
     "output_type": "stream",
     "text": [
      "✅ FLO - CashFlow_Quarter 데이터 삽입 완료\n",
      "✅ FLR - IncomeStatement_Quarter 데이터 삽입 완료\n",
      "✅ FLR - BalanceSheet_Quarter 데이터 삽입 완료\n"
     ]
    },
    {
     "name": "stderr",
     "output_type": "stream",
     "text": [
      "Processing Companies:  34%|███▍      | 1450/4204 [1:09:44<2:10:37,  2.85s/it]"
     ]
    },
    {
     "name": "stdout",
     "output_type": "stream",
     "text": [
      "✅ FLR - CashFlow_Quarter 데이터 삽입 완료\n",
      "✅ FLUT - IncomeStatement_Quarter 데이터 삽입 완료\n",
      "✅ FLUT - BalanceSheet_Quarter 데이터 삽입 완료\n"
     ]
    },
    {
     "name": "stderr",
     "output_type": "stream",
     "text": [
      "Processing Companies:  35%|███▍      | 1451/4204 [1:09:46<2:09:44,  2.83s/it]"
     ]
    },
    {
     "name": "stdout",
     "output_type": "stream",
     "text": [
      "✅ FLUT - CashFlow_Quarter 데이터 삽입 완료\n",
      "✅ FLWS - IncomeStatement_Quarter 데이터 삽입 완료\n",
      "✅ FLWS - BalanceSheet_Quarter 데이터 삽입 완료\n"
     ]
    },
    {
     "name": "stderr",
     "output_type": "stream",
     "text": [
      "Processing Companies:  35%|███▍      | 1452/4204 [1:09:49<2:09:24,  2.82s/it]"
     ]
    },
    {
     "name": "stdout",
     "output_type": "stream",
     "text": [
      "✅ FLWS - CashFlow_Quarter 데이터 삽입 완료\n",
      "✅ FLUX - IncomeStatement_Quarter 데이터 삽입 완료\n",
      "✅ FLUX - BalanceSheet_Quarter 데이터 삽입 완료\n"
     ]
    },
    {
     "name": "stderr",
     "output_type": "stream",
     "text": [
      "Processing Companies:  35%|███▍      | 1453/4204 [1:09:52<2:09:07,  2.82s/it]"
     ]
    },
    {
     "name": "stdout",
     "output_type": "stream",
     "text": [
      "✅ FLUX - CashFlow_Quarter 데이터 삽입 완료\n",
      "✅ FLXS - IncomeStatement_Quarter 데이터 삽입 완료\n",
      "✅ FLXS - BalanceSheet_Quarter 데이터 삽입 완료\n"
     ]
    },
    {
     "name": "stderr",
     "output_type": "stream",
     "text": [
      "Processing Companies:  35%|███▍      | 1454/4204 [1:09:55<2:10:11,  2.84s/it]"
     ]
    },
    {
     "name": "stdout",
     "output_type": "stream",
     "text": [
      "✅ FLXS - CashFlow_Quarter 데이터 삽입 완료\n",
      "✅ FLYW - IncomeStatement_Quarter 데이터 삽입 완료\n",
      "✅ FLYW - BalanceSheet_Quarter 데이터 삽입 완료\n"
     ]
    },
    {
     "name": "stderr",
     "output_type": "stream",
     "text": [
      "Processing Companies:  35%|███▍      | 1455/4204 [1:09:58<2:08:52,  2.81s/it]"
     ]
    },
    {
     "name": "stdout",
     "output_type": "stream",
     "text": [
      "✅ FLYW - CashFlow_Quarter 데이터 삽입 완료\n",
      "✅ FMBH - IncomeStatement_Quarter 데이터 삽입 완료\n",
      "✅ FMBH - BalanceSheet_Quarter 데이터 삽입 완료\n"
     ]
    },
    {
     "name": "stderr",
     "output_type": "stream",
     "text": [
      "Processing Companies:  35%|███▍      | 1456/4204 [1:10:00<2:08:52,  2.81s/it]"
     ]
    },
    {
     "name": "stdout",
     "output_type": "stream",
     "text": [
      "✅ FMBH - CashFlow_Quarter 데이터 삽입 완료\n",
      "✅ FMAO - IncomeStatement_Quarter 데이터 삽입 완료\n",
      "✅ FMAO - BalanceSheet_Quarter 데이터 삽입 완료\n"
     ]
    },
    {
     "name": "stderr",
     "output_type": "stream",
     "text": [
      "Processing Companies:  35%|███▍      | 1457/4204 [1:10:03<2:09:48,  2.84s/it]"
     ]
    },
    {
     "name": "stdout",
     "output_type": "stream",
     "text": [
      "✅ FMAO - CashFlow_Quarter 데이터 삽입 완료\n",
      "✅ FMC - IncomeStatement_Quarter 데이터 삽입 완료\n",
      "✅ FMC - BalanceSheet_Quarter 데이터 삽입 완료\n"
     ]
    },
    {
     "name": "stderr",
     "output_type": "stream",
     "text": [
      "Processing Companies:  35%|███▍      | 1458/4204 [1:10:06<2:11:24,  2.87s/it]"
     ]
    },
    {
     "name": "stdout",
     "output_type": "stream",
     "text": [
      "✅ FMC - CashFlow_Quarter 데이터 삽입 완료\n",
      "✅ FMNB - IncomeStatement_Quarter 데이터 삽입 완료\n",
      "✅ FMNB - BalanceSheet_Quarter 데이터 삽입 완료\n"
     ]
    },
    {
     "name": "stderr",
     "output_type": "stream",
     "text": [
      "Processing Companies:  35%|███▍      | 1459/4204 [1:10:09<2:10:32,  2.85s/it]"
     ]
    },
    {
     "name": "stdout",
     "output_type": "stream",
     "text": [
      "✅ FMNB - CashFlow_Quarter 데이터 삽입 완료\n"
     ]
    },
    {
     "name": "stderr",
     "output_type": "stream",
     "text": [
      "$FMTO: possibly delisted; no price data found  (period=5d)\n"
     ]
    },
    {
     "name": "stdout",
     "output_type": "stream",
     "text": [
      "✅ FMTO - IncomeStatement_Quarter 데이터 삽입 완료\n",
      "✅ FMTO - BalanceSheet_Quarter 데이터 삽입 완료\n"
     ]
    },
    {
     "name": "stderr",
     "output_type": "stream",
     "text": [
      "Processing Companies:  35%|███▍      | 1460/4204 [1:10:12<2:10:05,  2.84s/it]"
     ]
    },
    {
     "name": "stdout",
     "output_type": "stream",
     "text": [
      "✅ FMTO - CashFlow_Quarter 데이터 삽입 완료\n",
      "✅ FMS - IncomeStatement_Quarter 데이터 삽입 완료\n",
      "✅ FMS - BalanceSheet_Quarter 데이터 삽입 완료\n"
     ]
    },
    {
     "name": "stderr",
     "output_type": "stream",
     "text": [
      "Processing Companies:  35%|███▍      | 1461/4204 [1:10:15<2:18:04,  3.02s/it]"
     ]
    },
    {
     "name": "stdout",
     "output_type": "stream",
     "text": [
      "✅ FMS - CashFlow_Quarter 데이터 삽입 완료\n",
      "✅ FMX - IncomeStatement_Quarter 데이터 삽입 완료\n",
      "✅ FMX - BalanceSheet_Quarter 데이터 삽입 완료\n"
     ]
    },
    {
     "name": "stderr",
     "output_type": "stream",
     "text": [
      "Processing Companies:  35%|███▍      | 1462/4204 [1:10:19<2:20:57,  3.08s/it]"
     ]
    },
    {
     "name": "stdout",
     "output_type": "stream",
     "text": [
      "❌ CashFlow_Quarter 데이터 없음\n",
      "✅ FNB - IncomeStatement_Quarter 데이터 삽입 완료\n",
      "✅ FNB - BalanceSheet_Quarter 데이터 삽입 완료\n"
     ]
    },
    {
     "name": "stderr",
     "output_type": "stream",
     "text": [
      "Processing Companies:  35%|███▍      | 1463/4204 [1:10:21<2:18:27,  3.03s/it]"
     ]
    },
    {
     "name": "stdout",
     "output_type": "stream",
     "text": [
      "✅ FNB - CashFlow_Quarter 데이터 삽입 완료\n",
      "✅ FNF - IncomeStatement_Quarter 데이터 삽입 완료\n",
      "✅ FNF - BalanceSheet_Quarter 데이터 삽입 완료\n"
     ]
    },
    {
     "name": "stderr",
     "output_type": "stream",
     "text": [
      "Processing Companies:  35%|███▍      | 1464/4204 [1:10:24<2:16:27,  2.99s/it]"
     ]
    },
    {
     "name": "stdout",
     "output_type": "stream",
     "text": [
      "✅ FNF - CashFlow_Quarter 데이터 삽입 완료\n",
      "✅ FN - IncomeStatement_Quarter 데이터 삽입 완료\n",
      "✅ FN - BalanceSheet_Quarter 데이터 삽입 완료\n"
     ]
    },
    {
     "name": "stderr",
     "output_type": "stream",
     "text": [
      "Processing Companies:  35%|███▍      | 1465/4204 [1:10:27<2:13:48,  2.93s/it]"
     ]
    },
    {
     "name": "stdout",
     "output_type": "stream",
     "text": [
      "✅ FN - CashFlow_Quarter 데이터 삽입 완료\n",
      "✅ FND - IncomeStatement_Quarter 데이터 삽입 완료\n",
      "✅ FND - BalanceSheet_Quarter 데이터 삽입 완료\n"
     ]
    },
    {
     "name": "stderr",
     "output_type": "stream",
     "text": [
      "Processing Companies:  35%|███▍      | 1466/4204 [1:10:30<2:12:38,  2.91s/it]"
     ]
    },
    {
     "name": "stdout",
     "output_type": "stream",
     "text": [
      "✅ FND - CashFlow_Quarter 데이터 삽입 완료\n",
      "✅ FNGR - IncomeStatement_Quarter 데이터 삽입 완료\n",
      "✅ FNGR - BalanceSheet_Quarter 데이터 삽입 완료\n"
     ]
    },
    {
     "name": "stderr",
     "output_type": "stream",
     "text": [
      "Processing Companies:  35%|███▍      | 1467/4204 [1:10:33<2:13:24,  2.92s/it]"
     ]
    },
    {
     "name": "stdout",
     "output_type": "stream",
     "text": [
      "✅ FNGR - CashFlow_Quarter 데이터 삽입 완료\n",
      "✅ FNKO - IncomeStatement_Quarter 데이터 삽입 완료\n",
      "✅ FNKO - BalanceSheet_Quarter 데이터 삽입 완료\n"
     ]
    },
    {
     "name": "stderr",
     "output_type": "stream",
     "text": [
      "Processing Companies:  35%|███▍      | 1468/4204 [1:10:36<2:12:10,  2.90s/it]"
     ]
    },
    {
     "name": "stdout",
     "output_type": "stream",
     "text": [
      "✅ FNKO - CashFlow_Quarter 데이터 삽입 완료\n",
      "✅ FNV - IncomeStatement_Quarter 데이터 삽입 완료\n",
      "✅ FNV - BalanceSheet_Quarter 데이터 삽입 완료\n"
     ]
    },
    {
     "name": "stderr",
     "output_type": "stream",
     "text": [
      "Processing Companies:  35%|███▍      | 1469/4204 [1:10:39<2:13:41,  2.93s/it]"
     ]
    },
    {
     "name": "stdout",
     "output_type": "stream",
     "text": [
      "✅ FNV - CashFlow_Quarter 데이터 삽입 완료\n",
      "✅ FNWB - IncomeStatement_Quarter 데이터 삽입 완료\n",
      "✅ FNWB - BalanceSheet_Quarter 데이터 삽입 완료\n"
     ]
    },
    {
     "name": "stderr",
     "output_type": "stream",
     "text": [
      "Processing Companies:  35%|███▍      | 1470/4204 [1:10:42<2:11:50,  2.89s/it]"
     ]
    },
    {
     "name": "stdout",
     "output_type": "stream",
     "text": [
      "✅ FNWB - CashFlow_Quarter 데이터 삽입 완료\n",
      "✅ FNWD - IncomeStatement_Quarter 데이터 삽입 완료\n",
      "✅ FNWD - BalanceSheet_Quarter 데이터 삽입 완료\n"
     ]
    },
    {
     "name": "stderr",
     "output_type": "stream",
     "text": [
      "Processing Companies:  35%|███▍      | 1471/4204 [1:10:44<2:10:19,  2.86s/it]"
     ]
    },
    {
     "name": "stdout",
     "output_type": "stream",
     "text": [
      "✅ FNWD - CashFlow_Quarter 데이터 삽입 완료\n",
      "✅ FOA - IncomeStatement_Quarter 데이터 삽입 완료\n",
      "✅ FOA - BalanceSheet_Quarter 데이터 삽입 완료\n"
     ]
    },
    {
     "name": "stderr",
     "output_type": "stream",
     "text": [
      "Processing Companies:  35%|███▌      | 1472/4204 [1:10:47<2:08:15,  2.82s/it]"
     ]
    },
    {
     "name": "stdout",
     "output_type": "stream",
     "text": [
      "✅ FOA - CashFlow_Quarter 데이터 삽입 완료\n",
      "✅ FOLD - IncomeStatement_Quarter 데이터 삽입 완료\n",
      "✅ FOLD - BalanceSheet_Quarter 데이터 삽입 완료\n"
     ]
    },
    {
     "name": "stderr",
     "output_type": "stream",
     "text": [
      "Processing Companies:  35%|███▌      | 1473/4204 [1:10:50<2:09:09,  2.84s/it]"
     ]
    },
    {
     "name": "stdout",
     "output_type": "stream",
     "text": [
      "✅ FOLD - CashFlow_Quarter 데이터 삽입 완료\n",
      "✅ FOR - IncomeStatement_Quarter 데이터 삽입 완료\n",
      "✅ FOR - BalanceSheet_Quarter 데이터 삽입 완료\n"
     ]
    },
    {
     "name": "stderr",
     "output_type": "stream",
     "text": [
      "Processing Companies:  35%|███▌      | 1474/4204 [1:10:53<2:09:57,  2.86s/it]"
     ]
    },
    {
     "name": "stdout",
     "output_type": "stream",
     "text": [
      "✅ FOR - CashFlow_Quarter 데이터 삽입 완료\n",
      "✅ FORA - IncomeStatement_Quarter 데이터 삽입 완료\n",
      "✅ FORA - BalanceSheet_Quarter 데이터 삽입 완료\n"
     ]
    },
    {
     "name": "stderr",
     "output_type": "stream",
     "text": [
      "Processing Companies:  35%|███▌      | 1475/4204 [1:10:56<2:08:28,  2.82s/it]"
     ]
    },
    {
     "name": "stdout",
     "output_type": "stream",
     "text": [
      "✅ FORA - CashFlow_Quarter 데이터 삽입 완료\n",
      "✅ FORD - IncomeStatement_Quarter 데이터 삽입 완료\n",
      "✅ FORD - BalanceSheet_Quarter 데이터 삽입 완료\n"
     ]
    },
    {
     "name": "stderr",
     "output_type": "stream",
     "text": [
      "Processing Companies:  35%|███▌      | 1476/4204 [1:10:58<2:08:03,  2.82s/it]"
     ]
    },
    {
     "name": "stdout",
     "output_type": "stream",
     "text": [
      "✅ FORD - CashFlow_Quarter 데이터 삽입 완료\n",
      "✅ FORM - IncomeStatement_Quarter 데이터 삽입 완료\n",
      "✅ FORM - BalanceSheet_Quarter 데이터 삽입 완료\n"
     ]
    },
    {
     "name": "stderr",
     "output_type": "stream",
     "text": [
      "Processing Companies:  35%|███▌      | 1477/4204 [1:11:01<2:07:21,  2.80s/it]"
     ]
    },
    {
     "name": "stdout",
     "output_type": "stream",
     "text": [
      "✅ FORM - CashFlow_Quarter 데이터 삽입 완료\n",
      "✅ FORR - IncomeStatement_Quarter 데이터 삽입 완료\n",
      "✅ FORR - BalanceSheet_Quarter 데이터 삽입 완료\n"
     ]
    },
    {
     "name": "stderr",
     "output_type": "stream",
     "text": [
      "Processing Companies:  35%|███▌      | 1478/4204 [1:11:04<2:09:08,  2.84s/it]"
     ]
    },
    {
     "name": "stdout",
     "output_type": "stream",
     "text": [
      "✅ FORR - CashFlow_Quarter 데이터 삽입 완료\n",
      "✅ FOSL - IncomeStatement_Quarter 데이터 삽입 완료\n",
      "✅ FOSL - BalanceSheet_Quarter 데이터 삽입 완료\n"
     ]
    },
    {
     "name": "stderr",
     "output_type": "stream",
     "text": [
      "Processing Companies:  35%|███▌      | 1479/4204 [1:11:07<2:08:06,  2.82s/it]"
     ]
    },
    {
     "name": "stdout",
     "output_type": "stream",
     "text": [
      "✅ FOSL - CashFlow_Quarter 데이터 삽입 완료\n",
      "✅ FORTY - IncomeStatement_Quarter 데이터 삽입 완료\n",
      "✅ FORTY - BalanceSheet_Quarter 데이터 삽입 완료\n"
     ]
    },
    {
     "name": "stderr",
     "output_type": "stream",
     "text": [
      "Processing Companies:  35%|███▌      | 1480/4204 [1:11:10<2:08:09,  2.82s/it]"
     ]
    },
    {
     "name": "stdout",
     "output_type": "stream",
     "text": [
      "❌ CashFlow_Quarter 데이터 없음\n",
      "✅ FOUR - IncomeStatement_Quarter 데이터 삽입 완료\n",
      "✅ FOUR - BalanceSheet_Quarter 데이터 삽입 완료\n"
     ]
    },
    {
     "name": "stderr",
     "output_type": "stream",
     "text": [
      "Processing Companies:  35%|███▌      | 1481/4204 [1:11:13<2:07:50,  2.82s/it]"
     ]
    },
    {
     "name": "stdout",
     "output_type": "stream",
     "text": [
      "✅ FOUR - CashFlow_Quarter 데이터 삽입 완료\n",
      "✅ FOXF - IncomeStatement_Quarter 데이터 삽입 완료\n",
      "✅ FOXF - BalanceSheet_Quarter 데이터 삽입 완료\n"
     ]
    },
    {
     "name": "stderr",
     "output_type": "stream",
     "text": [
      "Processing Companies:  35%|███▌      | 1482/4204 [1:11:16<2:10:25,  2.87s/it]"
     ]
    },
    {
     "name": "stdout",
     "output_type": "stream",
     "text": [
      "✅ FOXF - CashFlow_Quarter 데이터 삽입 완료\n",
      "✅ FPH - IncomeStatement_Quarter 데이터 삽입 완료\n",
      "✅ FPH - BalanceSheet_Quarter 데이터 삽입 완료\n"
     ]
    },
    {
     "name": "stderr",
     "output_type": "stream",
     "text": [
      "Processing Companies:  35%|███▌      | 1483/4204 [1:11:18<2:07:45,  2.82s/it]"
     ]
    },
    {
     "name": "stdout",
     "output_type": "stream",
     "text": [
      "✅ FPH - CashFlow_Quarter 데이터 삽입 완료\n",
      "✅ FPI - IncomeStatement_Quarter 데이터 삽입 완료\n",
      "✅ FPI - BalanceSheet_Quarter 데이터 삽입 완료\n"
     ]
    },
    {
     "name": "stderr",
     "output_type": "stream",
     "text": [
      "Processing Companies:  35%|███▌      | 1484/4204 [1:11:21<2:08:12,  2.83s/it]"
     ]
    },
    {
     "name": "stdout",
     "output_type": "stream",
     "text": [
      "✅ FPI - CashFlow_Quarter 데이터 삽입 완료\n",
      "✅ FRGT - IncomeStatement_Quarter 데이터 삽입 완료\n",
      "✅ FRGT - BalanceSheet_Quarter 데이터 삽입 완료\n"
     ]
    },
    {
     "name": "stderr",
     "output_type": "stream",
     "text": [
      "Processing Companies:  35%|███▌      | 1485/4204 [1:11:24<2:07:15,  2.81s/it]"
     ]
    },
    {
     "name": "stdout",
     "output_type": "stream",
     "text": [
      "✅ FRGT - CashFlow_Quarter 데이터 삽입 완료\n",
      "✅ FRBA - IncomeStatement_Quarter 데이터 삽입 완료\n",
      "✅ FRBA - BalanceSheet_Quarter 데이터 삽입 완료\n"
     ]
    },
    {
     "name": "stderr",
     "output_type": "stream",
     "text": [
      "Processing Companies:  35%|███▌      | 1486/4204 [1:11:27<2:08:16,  2.83s/it]"
     ]
    },
    {
     "name": "stdout",
     "output_type": "stream",
     "text": [
      "✅ FRBA - CashFlow_Quarter 데이터 삽입 완료\n",
      "✅ FRAF - IncomeStatement_Quarter 데이터 삽입 완료\n",
      "✅ FRAF - BalanceSheet_Quarter 데이터 삽입 완료\n"
     ]
    },
    {
     "name": "stderr",
     "output_type": "stream",
     "text": [
      "Processing Companies:  35%|███▌      | 1487/4204 [1:11:30<2:07:47,  2.82s/it]"
     ]
    },
    {
     "name": "stdout",
     "output_type": "stream",
     "text": [
      "✅ FRAF - CashFlow_Quarter 데이터 삽입 완료\n",
      "✅ FRD - IncomeStatement_Quarter 데이터 삽입 완료\n",
      "✅ FRD - BalanceSheet_Quarter 데이터 삽입 완료\n"
     ]
    },
    {
     "name": "stderr",
     "output_type": "stream",
     "text": [
      "Processing Companies:  35%|███▌      | 1488/4204 [1:11:32<2:08:16,  2.83s/it]"
     ]
    },
    {
     "name": "stdout",
     "output_type": "stream",
     "text": [
      "✅ FRD - CashFlow_Quarter 데이터 삽입 완료\n",
      "✅ FRME - IncomeStatement_Quarter 데이터 삽입 완료\n",
      "✅ FRME - BalanceSheet_Quarter 데이터 삽입 완료\n"
     ]
    },
    {
     "name": "stderr",
     "output_type": "stream",
     "text": [
      "Processing Companies:  35%|███▌      | 1489/4204 [1:11:35<2:10:29,  2.88s/it]"
     ]
    },
    {
     "name": "stdout",
     "output_type": "stream",
     "text": [
      "✅ FRME - CashFlow_Quarter 데이터 삽입 완료\n",
      "✅ FRHC - IncomeStatement_Quarter 데이터 삽입 완료\n",
      "✅ FRHC - BalanceSheet_Quarter 데이터 삽입 완료\n"
     ]
    },
    {
     "name": "stderr",
     "output_type": "stream",
     "text": [
      "Processing Companies:  35%|███▌      | 1490/4204 [1:11:38<2:09:04,  2.85s/it]"
     ]
    },
    {
     "name": "stdout",
     "output_type": "stream",
     "text": [
      "✅ FRHC - CashFlow_Quarter 데이터 삽입 완료\n",
      "✅ FRMEP - IncomeStatement_Quarter 데이터 삽입 완료\n",
      "✅ FRMEP - BalanceSheet_Quarter 데이터 삽입 완료\n"
     ]
    },
    {
     "name": "stderr",
     "output_type": "stream",
     "text": [
      "Processing Companies:  35%|███▌      | 1491/4204 [1:11:41<2:09:06,  2.86s/it]"
     ]
    },
    {
     "name": "stdout",
     "output_type": "stream",
     "text": [
      "✅ FRMEP - CashFlow_Quarter 데이터 삽입 완료\n",
      "✅ FROG - IncomeStatement_Quarter 데이터 삽입 완료\n",
      "✅ FROG - BalanceSheet_Quarter 데이터 삽입 완료\n"
     ]
    },
    {
     "name": "stderr",
     "output_type": "stream",
     "text": [
      "Processing Companies:  35%|███▌      | 1492/4204 [1:11:44<2:09:38,  2.87s/it]"
     ]
    },
    {
     "name": "stdout",
     "output_type": "stream",
     "text": [
      "✅ FROG - CashFlow_Quarter 데이터 삽입 완료\n",
      "✅ FRPH - IncomeStatement_Quarter 데이터 삽입 완료\n",
      "✅ FRPH - BalanceSheet_Quarter 데이터 삽입 완료\n"
     ]
    },
    {
     "name": "stderr",
     "output_type": "stream",
     "text": [
      "Processing Companies:  36%|███▌      | 1493/4204 [1:11:47<2:08:52,  2.85s/it]"
     ]
    },
    {
     "name": "stdout",
     "output_type": "stream",
     "text": [
      "✅ FRPH - CashFlow_Quarter 데이터 삽입 완료\n",
      "✅ FRO - IncomeStatement_Quarter 데이터 삽입 완료\n",
      "✅ FRO - BalanceSheet_Quarter 데이터 삽입 완료\n"
     ]
    },
    {
     "name": "stderr",
     "output_type": "stream",
     "text": [
      "Processing Companies:  36%|███▌      | 1494/4204 [1:11:50<2:09:59,  2.88s/it]"
     ]
    },
    {
     "name": "stdout",
     "output_type": "stream",
     "text": [
      "✅ FRO - CashFlow_Quarter 데이터 삽입 완료\n",
      "✅ FRPT - IncomeStatement_Quarter 데이터 삽입 완료\n",
      "✅ FRPT - BalanceSheet_Quarter 데이터 삽입 완료\n"
     ]
    },
    {
     "name": "stderr",
     "output_type": "stream",
     "text": [
      "Processing Companies:  36%|███▌      | 1495/4204 [1:11:53<2:09:30,  2.87s/it]"
     ]
    },
    {
     "name": "stdout",
     "output_type": "stream",
     "text": [
      "✅ FRPT - CashFlow_Quarter 데이터 삽입 완료\n",
      "✅ FRSH - IncomeStatement_Quarter 데이터 삽입 완료\n",
      "✅ FRSH - BalanceSheet_Quarter 데이터 삽입 완료\n"
     ]
    },
    {
     "name": "stderr",
     "output_type": "stream",
     "text": [
      "Processing Companies:  36%|███▌      | 1496/4204 [1:11:55<2:09:12,  2.86s/it]"
     ]
    },
    {
     "name": "stdout",
     "output_type": "stream",
     "text": [
      "✅ FRSH - CashFlow_Quarter 데이터 삽입 완료\n",
      "✅ FRST - IncomeStatement_Quarter 데이터 삽입 완료\n",
      "✅ FRST - BalanceSheet_Quarter 데이터 삽입 완료\n"
     ]
    },
    {
     "name": "stderr",
     "output_type": "stream",
     "text": [
      "Processing Companies:  36%|███▌      | 1497/4204 [1:11:58<2:09:08,  2.86s/it]"
     ]
    },
    {
     "name": "stdout",
     "output_type": "stream",
     "text": [
      "✅ FRST - CashFlow_Quarter 데이터 삽입 완료\n",
      "✅ FRSX - IncomeStatement_Quarter 데이터 삽입 완료\n",
      "✅ FRSX - BalanceSheet_Quarter 데이터 삽입 완료\n"
     ]
    },
    {
     "name": "stderr",
     "output_type": "stream",
     "text": [
      "Processing Companies:  36%|███▌      | 1498/4204 [1:12:01<2:06:39,  2.81s/it]"
     ]
    },
    {
     "name": "stdout",
     "output_type": "stream",
     "text": [
      "✅ FRSX - CashFlow_Quarter 데이터 삽입 완료\n",
      "✅ FRT - IncomeStatement_Quarter 데이터 삽입 완료\n",
      "✅ FRT - BalanceSheet_Quarter 데이터 삽입 완료\n"
     ]
    },
    {
     "name": "stderr",
     "output_type": "stream",
     "text": [
      "Processing Companies:  36%|███▌      | 1499/4204 [1:12:04<2:08:30,  2.85s/it]"
     ]
    },
    {
     "name": "stdout",
     "output_type": "stream",
     "text": [
      "✅ FRT - CashFlow_Quarter 데이터 삽입 완료\n",
      "✅ FSBC - IncomeStatement_Quarter 데이터 삽입 완료\n",
      "✅ FSBC - BalanceSheet_Quarter 데이터 삽입 완료\n"
     ]
    },
    {
     "name": "stderr",
     "output_type": "stream",
     "text": [
      "Processing Companies:  36%|███▌      | 1500/4204 [1:12:07<2:06:25,  2.81s/it]"
     ]
    },
    {
     "name": "stdout",
     "output_type": "stream",
     "text": [
      "✅ FSBC - CashFlow_Quarter 데이터 삽입 완료\n",
      "✅ FSBW - IncomeStatement_Quarter 데이터 삽입 완료\n",
      "✅ FSBW - BalanceSheet_Quarter 데이터 삽입 완료\n"
     ]
    },
    {
     "name": "stderr",
     "output_type": "stream",
     "text": [
      "Processing Companies:  36%|███▌      | 1501/4204 [1:12:09<2:06:36,  2.81s/it]"
     ]
    },
    {
     "name": "stdout",
     "output_type": "stream",
     "text": [
      "✅ FSBW - CashFlow_Quarter 데이터 삽입 완료\n",
      "✅ FSEA - IncomeStatement_Quarter 데이터 삽입 완료\n",
      "✅ FSEA - BalanceSheet_Quarter 데이터 삽입 완료\n"
     ]
    },
    {
     "name": "stderr",
     "output_type": "stream",
     "text": [
      "Processing Companies:  36%|███▌      | 1502/4204 [1:12:12<2:07:01,  2.82s/it]"
     ]
    },
    {
     "name": "stdout",
     "output_type": "stream",
     "text": [
      "✅ FSEA - CashFlow_Quarter 데이터 삽입 완료\n",
      "✅ FSI - IncomeStatement_Quarter 데이터 삽입 완료\n",
      "✅ FSI - BalanceSheet_Quarter 데이터 삽입 완료\n"
     ]
    },
    {
     "name": "stderr",
     "output_type": "stream",
     "text": [
      "Processing Companies:  36%|███▌      | 1503/4204 [1:12:15<2:08:31,  2.86s/it]"
     ]
    },
    {
     "name": "stdout",
     "output_type": "stream",
     "text": [
      "✅ FSI - CashFlow_Quarter 데이터 삽입 완료\n",
      "✅ FSFG - IncomeStatement_Quarter 데이터 삽입 완료\n",
      "✅ FSFG - BalanceSheet_Quarter 데이터 삽입 완료\n"
     ]
    },
    {
     "name": "stderr",
     "output_type": "stream",
     "text": [
      "Processing Companies:  36%|███▌      | 1504/4204 [1:12:18<2:07:49,  2.84s/it]"
     ]
    },
    {
     "name": "stdout",
     "output_type": "stream",
     "text": [
      "✅ FSFG - CashFlow_Quarter 데이터 삽입 완료\n",
      "✅ FSM - IncomeStatement_Quarter 데이터 삽입 완료\n",
      "✅ FSM - BalanceSheet_Quarter 데이터 삽입 완료\n"
     ]
    },
    {
     "name": "stderr",
     "output_type": "stream",
     "text": [
      "Processing Companies:  36%|███▌      | 1505/4204 [1:12:21<2:07:30,  2.83s/it]"
     ]
    },
    {
     "name": "stdout",
     "output_type": "stream",
     "text": [
      "✅ FSM - CashFlow_Quarter 데이터 삽입 완료\n",
      "✅ FSLY - IncomeStatement_Quarter 데이터 삽입 완료\n",
      "✅ FSLY - BalanceSheet_Quarter 데이터 삽입 완료\n"
     ]
    },
    {
     "name": "stderr",
     "output_type": "stream",
     "text": [
      "Processing Companies:  36%|███▌      | 1506/4204 [1:12:24<2:08:15,  2.85s/it]"
     ]
    },
    {
     "name": "stdout",
     "output_type": "stream",
     "text": [
      "✅ FSLY - CashFlow_Quarter 데이터 삽입 완료\n",
      "✅ FSLR - IncomeStatement_Quarter 데이터 삽입 완료\n",
      "✅ FSLR - BalanceSheet_Quarter 데이터 삽입 완료\n"
     ]
    },
    {
     "name": "stderr",
     "output_type": "stream",
     "text": [
      "Processing Companies:  36%|███▌      | 1507/4204 [1:12:27<2:08:39,  2.86s/it]"
     ]
    },
    {
     "name": "stdout",
     "output_type": "stream",
     "text": [
      "✅ FSLR - CashFlow_Quarter 데이터 삽입 완료\n",
      "✅ FSP - IncomeStatement_Quarter 데이터 삽입 완료\n",
      "✅ FSP - BalanceSheet_Quarter 데이터 삽입 완료\n"
     ]
    },
    {
     "name": "stderr",
     "output_type": "stream",
     "text": [
      "Processing Companies:  36%|███▌      | 1508/4204 [1:12:29<2:08:34,  2.86s/it]"
     ]
    },
    {
     "name": "stdout",
     "output_type": "stream",
     "text": [
      "✅ FSP - CashFlow_Quarter 데이터 삽입 완료\n",
      "✅ FSS - IncomeStatement_Quarter 데이터 삽입 완료\n",
      "✅ FSS - BalanceSheet_Quarter 데이터 삽입 완료\n"
     ]
    },
    {
     "name": "stderr",
     "output_type": "stream",
     "text": [
      "Processing Companies:  36%|███▌      | 1509/4204 [1:12:32<2:09:29,  2.88s/it]"
     ]
    },
    {
     "name": "stdout",
     "output_type": "stream",
     "text": [
      "✅ FSS - CashFlow_Quarter 데이터 삽입 완료\n",
      "✅ FSV - IncomeStatement_Quarter 데이터 삽입 완료\n",
      "✅ FSV - BalanceSheet_Quarter 데이터 삽입 완료\n"
     ]
    },
    {
     "name": "stderr",
     "output_type": "stream",
     "text": [
      "Processing Companies:  36%|███▌      | 1510/4204 [1:12:35<2:08:25,  2.86s/it]"
     ]
    },
    {
     "name": "stdout",
     "output_type": "stream",
     "text": [
      "✅ FSV - CashFlow_Quarter 데이터 삽입 완료\n",
      "✅ FSTR - IncomeStatement_Quarter 데이터 삽입 완료\n",
      "✅ FSTR - BalanceSheet_Quarter 데이터 삽입 완료\n"
     ]
    },
    {
     "name": "stderr",
     "output_type": "stream",
     "text": [
      "Processing Companies:  36%|███▌      | 1511/4204 [1:12:38<2:07:00,  2.83s/it]"
     ]
    },
    {
     "name": "stdout",
     "output_type": "stream",
     "text": [
      "✅ FSTR - CashFlow_Quarter 데이터 삽입 완료\n",
      "✅ FTDR - IncomeStatement_Quarter 데이터 삽입 완료\n",
      "✅ FTDR - BalanceSheet_Quarter 데이터 삽입 완료\n"
     ]
    },
    {
     "name": "stderr",
     "output_type": "stream",
     "text": [
      "Processing Companies:  36%|███▌      | 1512/4204 [1:12:41<2:05:53,  2.81s/it]"
     ]
    },
    {
     "name": "stdout",
     "output_type": "stream",
     "text": [
      "✅ FTDR - CashFlow_Quarter 데이터 삽입 완료\n",
      "✅ FTEK - IncomeStatement_Quarter 데이터 삽입 완료\n",
      "✅ FTEK - BalanceSheet_Quarter 데이터 삽입 완료\n"
     ]
    },
    {
     "name": "stderr",
     "output_type": "stream",
     "text": [
      "Processing Companies:  36%|███▌      | 1513/4204 [1:12:44<2:09:59,  2.90s/it]"
     ]
    },
    {
     "name": "stdout",
     "output_type": "stream",
     "text": [
      "✅ FTEK - CashFlow_Quarter 데이터 삽입 완료\n",
      "✅ FTFT - IncomeStatement_Quarter 데이터 삽입 완료\n",
      "✅ FTFT - BalanceSheet_Quarter 데이터 삽입 완료\n"
     ]
    },
    {
     "name": "stderr",
     "output_type": "stream",
     "text": [
      "Processing Companies:  36%|███▌      | 1514/4204 [1:12:47<2:12:23,  2.95s/it]"
     ]
    },
    {
     "name": "stdout",
     "output_type": "stream",
     "text": [
      "✅ FTFT - CashFlow_Quarter 데이터 삽입 완료\n",
      "✅ FTHM - IncomeStatement_Quarter 데이터 삽입 완료\n",
      "✅ FTHM - BalanceSheet_Quarter 데이터 삽입 완료\n"
     ]
    },
    {
     "name": "stderr",
     "output_type": "stream",
     "text": [
      "Processing Companies:  36%|███▌      | 1515/4204 [1:12:50<2:10:57,  2.92s/it]"
     ]
    },
    {
     "name": "stdout",
     "output_type": "stream",
     "text": [
      "✅ FTHM - CashFlow_Quarter 데이터 삽입 완료\n",
      "✅ FTK - IncomeStatement_Quarter 데이터 삽입 완료\n",
      "✅ FTK - BalanceSheet_Quarter 데이터 삽입 완료\n"
     ]
    },
    {
     "name": "stderr",
     "output_type": "stream",
     "text": [
      "Processing Companies:  36%|███▌      | 1516/4204 [1:12:53<2:13:10,  2.97s/it]"
     ]
    },
    {
     "name": "stdout",
     "output_type": "stream",
     "text": [
      "✅ FTK - CashFlow_Quarter 데이터 삽입 완료\n",
      "✅ FTI - IncomeStatement_Quarter 데이터 삽입 완료\n",
      "✅ FTI - BalanceSheet_Quarter 데이터 삽입 완료\n"
     ]
    },
    {
     "name": "stderr",
     "output_type": "stream",
     "text": [
      "Processing Companies:  36%|███▌      | 1517/4204 [1:12:56<2:14:57,  3.01s/it]"
     ]
    },
    {
     "name": "stdout",
     "output_type": "stream",
     "text": [
      "✅ FTI - CashFlow_Quarter 데이터 삽입 완료\n",
      "✅ FTNT - IncomeStatement_Quarter 데이터 삽입 완료\n",
      "✅ FTNT - BalanceSheet_Quarter 데이터 삽입 완료\n"
     ]
    },
    {
     "name": "stderr",
     "output_type": "stream",
     "text": [
      "Processing Companies:  36%|███▌      | 1518/4204 [1:12:59<2:12:59,  2.97s/it]"
     ]
    },
    {
     "name": "stdout",
     "output_type": "stream",
     "text": [
      "✅ FTNT - CashFlow_Quarter 데이터 삽입 완료\n",
      "✅ FTLF - IncomeStatement_Quarter 데이터 삽입 완료\n",
      "✅ FTLF - BalanceSheet_Quarter 데이터 삽입 완료\n"
     ]
    },
    {
     "name": "stderr",
     "output_type": "stream",
     "text": [
      "Processing Companies:  36%|███▌      | 1519/4204 [1:13:02<2:10:55,  2.93s/it]"
     ]
    },
    {
     "name": "stdout",
     "output_type": "stream",
     "text": [
      "✅ FTLF - CashFlow_Quarter 데이터 삽입 완료\n",
      "✅ FTS - IncomeStatement_Quarter 데이터 삽입 완료\n",
      "✅ FTS - BalanceSheet_Quarter 데이터 삽입 완료\n"
     ]
    },
    {
     "name": "stderr",
     "output_type": "stream",
     "text": [
      "Processing Companies:  36%|███▌      | 1520/4204 [1:13:05<2:14:40,  3.01s/it]"
     ]
    },
    {
     "name": "stdout",
     "output_type": "stream",
     "text": [
      "✅ FTS - CashFlow_Quarter 데이터 삽입 완료\n",
      "✅ FUBO - IncomeStatement_Quarter 데이터 삽입 완료\n",
      "✅ FUBO - BalanceSheet_Quarter 데이터 삽입 완료\n"
     ]
    },
    {
     "name": "stderr",
     "output_type": "stream",
     "text": [
      "Processing Companies:  36%|███▌      | 1521/4204 [1:13:08<2:12:21,  2.96s/it]"
     ]
    },
    {
     "name": "stdout",
     "output_type": "stream",
     "text": [
      "✅ FUBO - CashFlow_Quarter 데이터 삽입 완료\n",
      "✅ FULC - IncomeStatement_Quarter 데이터 삽입 완료\n",
      "✅ FULC - BalanceSheet_Quarter 데이터 삽입 완료\n"
     ]
    },
    {
     "name": "stderr",
     "output_type": "stream",
     "text": [
      "Processing Companies:  36%|███▌      | 1522/4204 [1:13:10<2:10:33,  2.92s/it]"
     ]
    },
    {
     "name": "stdout",
     "output_type": "stream",
     "text": [
      "✅ FULC - CashFlow_Quarter 데이터 삽입 완료\n",
      "✅ FULT - IncomeStatement_Quarter 데이터 삽입 완료\n",
      "✅ FULT - BalanceSheet_Quarter 데이터 삽입 완료\n"
     ]
    },
    {
     "name": "stderr",
     "output_type": "stream",
     "text": [
      "Processing Companies:  36%|███▌      | 1523/4204 [1:13:13<2:09:13,  2.89s/it]"
     ]
    },
    {
     "name": "stdout",
     "output_type": "stream",
     "text": [
      "✅ FULT - CashFlow_Quarter 데이터 삽입 완료\n",
      "✅ FUN - IncomeStatement_Quarter 데이터 삽입 완료\n",
      "✅ FUN - BalanceSheet_Quarter 데이터 삽입 완료\n"
     ]
    },
    {
     "name": "stderr",
     "output_type": "stream",
     "text": [
      "Processing Companies:  36%|███▋      | 1524/4204 [1:13:16<2:08:38,  2.88s/it]"
     ]
    },
    {
     "name": "stdout",
     "output_type": "stream",
     "text": [
      "✅ FUN - CashFlow_Quarter 데이터 삽입 완료\n",
      "✅ FULTP - IncomeStatement_Quarter 데이터 삽입 완료\n",
      "✅ FULTP - BalanceSheet_Quarter 데이터 삽입 완료\n"
     ]
    },
    {
     "name": "stderr",
     "output_type": "stream",
     "text": [
      "Processing Companies:  36%|███▋      | 1525/4204 [1:13:19<2:09:26,  2.90s/it]"
     ]
    },
    {
     "name": "stdout",
     "output_type": "stream",
     "text": [
      "✅ FULTP - CashFlow_Quarter 데이터 삽입 완료\n",
      "✅ FUNC - IncomeStatement_Quarter 데이터 삽입 완료\n",
      "✅ FUNC - BalanceSheet_Quarter 데이터 삽입 완료\n"
     ]
    },
    {
     "name": "stderr",
     "output_type": "stream",
     "text": [
      "Processing Companies:  36%|███▋      | 1526/4204 [1:13:22<2:08:11,  2.87s/it]"
     ]
    },
    {
     "name": "stdout",
     "output_type": "stream",
     "text": [
      "✅ FUNC - CashFlow_Quarter 데이터 삽입 완료\n",
      "✅ FURY - IncomeStatement_Quarter 데이터 삽입 완료\n",
      "✅ FURY - BalanceSheet_Quarter 데이터 삽입 완료\n"
     ]
    },
    {
     "name": "stderr",
     "output_type": "stream",
     "text": [
      "Processing Companies:  36%|███▋      | 1527/4204 [1:13:25<2:08:32,  2.88s/it]"
     ]
    },
    {
     "name": "stdout",
     "output_type": "stream",
     "text": [
      "✅ FURY - CashFlow_Quarter 데이터 삽입 완료\n",
      "✅ FUSB - IncomeStatement_Quarter 데이터 삽입 완료\n",
      "✅ FUSB - BalanceSheet_Quarter 데이터 삽입 완료\n"
     ]
    },
    {
     "name": "stderr",
     "output_type": "stream",
     "text": [
      "Processing Companies:  36%|███▋      | 1528/4204 [1:13:28<2:08:03,  2.87s/it]"
     ]
    },
    {
     "name": "stdout",
     "output_type": "stream",
     "text": [
      "✅ FUSB - CashFlow_Quarter 데이터 삽입 완료\n",
      "✅ FVCB - IncomeStatement_Quarter 데이터 삽입 완료\n",
      "✅ FVCB - BalanceSheet_Quarter 데이터 삽입 완료\n"
     ]
    },
    {
     "name": "stderr",
     "output_type": "stream",
     "text": [
      "Processing Companies:  36%|███▋      | 1529/4204 [1:13:31<2:07:42,  2.86s/it]"
     ]
    },
    {
     "name": "stdout",
     "output_type": "stream",
     "text": [
      "✅ FVCB - CashFlow_Quarter 데이터 삽입 완료\n",
      "✅ FVRR - IncomeStatement_Quarter 데이터 삽입 완료\n",
      "✅ FVRR - BalanceSheet_Quarter 데이터 삽입 완료\n"
     ]
    },
    {
     "name": "stderr",
     "output_type": "stream",
     "text": [
      "Processing Companies:  36%|███▋      | 1530/4204 [1:13:33<2:07:00,  2.85s/it]"
     ]
    },
    {
     "name": "stdout",
     "output_type": "stream",
     "text": [
      "✅ FVRR - CashFlow_Quarter 데이터 삽입 완료\n",
      "✅ FWONA - IncomeStatement_Quarter 데이터 삽입 완료\n",
      "✅ FWONA - BalanceSheet_Quarter 데이터 삽입 완료\n"
     ]
    },
    {
     "name": "stderr",
     "output_type": "stream",
     "text": [
      "Processing Companies:  36%|███▋      | 1531/4204 [1:13:36<2:05:33,  2.82s/it]"
     ]
    },
    {
     "name": "stdout",
     "output_type": "stream",
     "text": [
      "✅ FWONA - CashFlow_Quarter 데이터 삽입 완료\n",
      "✅ FWONK - IncomeStatement_Quarter 데이터 삽입 완료\n",
      "✅ FWONK - BalanceSheet_Quarter 데이터 삽입 완료\n"
     ]
    },
    {
     "name": "stderr",
     "output_type": "stream",
     "text": [
      "Processing Companies:  36%|███▋      | 1532/4204 [1:13:39<2:06:02,  2.83s/it]"
     ]
    },
    {
     "name": "stdout",
     "output_type": "stream",
     "text": [
      "✅ FWONK - CashFlow_Quarter 데이터 삽입 완료\n",
      "✅ FWRD - IncomeStatement_Quarter 데이터 삽입 완료\n",
      "✅ FWRD - BalanceSheet_Quarter 데이터 삽입 완료\n"
     ]
    },
    {
     "name": "stderr",
     "output_type": "stream",
     "text": [
      "Processing Companies:  36%|███▋      | 1533/4204 [1:13:42<2:09:18,  2.90s/it]"
     ]
    },
    {
     "name": "stdout",
     "output_type": "stream",
     "text": [
      "✅ FWRD - CashFlow_Quarter 데이터 삽입 완료\n",
      "✅ FWRG - IncomeStatement_Quarter 데이터 삽입 완료\n",
      "✅ FWRG - BalanceSheet_Quarter 데이터 삽입 완료\n"
     ]
    },
    {
     "name": "stderr",
     "output_type": "stream",
     "text": [
      "Processing Companies:  36%|███▋      | 1534/4204 [1:13:45<2:07:54,  2.87s/it]"
     ]
    },
    {
     "name": "stdout",
     "output_type": "stream",
     "text": [
      "✅ FWRG - CashFlow_Quarter 데이터 삽입 완료\n",
      "✅ FXNC - IncomeStatement_Quarter 데이터 삽입 완료\n",
      "✅ FXNC - BalanceSheet_Quarter 데이터 삽입 완료\n"
     ]
    },
    {
     "name": "stderr",
     "output_type": "stream",
     "text": [
      "Processing Companies:  37%|███▋      | 1535/4204 [1:13:48<2:07:32,  2.87s/it]"
     ]
    },
    {
     "name": "stdout",
     "output_type": "stream",
     "text": [
      "✅ FXNC - CashFlow_Quarter 데이터 삽입 완료\n",
      "✅ FYBR - IncomeStatement_Quarter 데이터 삽입 완료\n",
      "✅ FYBR - BalanceSheet_Quarter 데이터 삽입 완료\n"
     ]
    },
    {
     "name": "stderr",
     "output_type": "stream",
     "text": [
      "Processing Companies:  37%|███▋      | 1536/4204 [1:13:50<2:06:12,  2.84s/it]"
     ]
    },
    {
     "name": "stdout",
     "output_type": "stream",
     "text": [
      "✅ FYBR - CashFlow_Quarter 데이터 삽입 완료\n",
      "✅ G - IncomeStatement_Quarter 데이터 삽입 완료\n",
      "✅ G - BalanceSheet_Quarter 데이터 삽입 완료\n"
     ]
    },
    {
     "name": "stderr",
     "output_type": "stream",
     "text": [
      "Processing Companies:  37%|███▋      | 1537/4204 [1:13:53<2:07:22,  2.87s/it]"
     ]
    },
    {
     "name": "stdout",
     "output_type": "stream",
     "text": [
      "✅ G - CashFlow_Quarter 데이터 삽입 완료\n",
      "✅ GABC - IncomeStatement_Quarter 데이터 삽입 완료\n",
      "✅ GABC - BalanceSheet_Quarter 데이터 삽입 완료\n"
     ]
    },
    {
     "name": "stderr",
     "output_type": "stream",
     "text": [
      "Processing Companies:  37%|███▋      | 1538/4204 [1:13:56<2:05:48,  2.83s/it]"
     ]
    },
    {
     "name": "stdout",
     "output_type": "stream",
     "text": [
      "✅ GABC - CashFlow_Quarter 데이터 삽입 완료\n",
      "✅ GAIA - IncomeStatement_Quarter 데이터 삽입 완료\n",
      "✅ GAIA - BalanceSheet_Quarter 데이터 삽입 완료\n"
     ]
    },
    {
     "name": "stderr",
     "output_type": "stream",
     "text": [
      "Processing Companies:  37%|███▋      | 1539/4204 [1:13:59<2:06:07,  2.84s/it]"
     ]
    },
    {
     "name": "stdout",
     "output_type": "stream",
     "text": [
      "✅ GAIA - CashFlow_Quarter 데이터 삽입 완료\n",
      "✅ GALT - IncomeStatement_Quarter 데이터 삽입 완료\n",
      "✅ GALT - BalanceSheet_Quarter 데이터 삽입 완료\n"
     ]
    },
    {
     "name": "stderr",
     "output_type": "stream",
     "text": [
      "Processing Companies:  37%|███▋      | 1540/4204 [1:14:02<2:07:57,  2.88s/it]"
     ]
    },
    {
     "name": "stdout",
     "output_type": "stream",
     "text": [
      "✅ GALT - CashFlow_Quarter 데이터 삽입 완료\n",
      "✅ GAMB - IncomeStatement_Quarter 데이터 삽입 완료\n",
      "✅ GAMB - BalanceSheet_Quarter 데이터 삽입 완료\n"
     ]
    },
    {
     "name": "stderr",
     "output_type": "stream",
     "text": [
      "Processing Companies:  37%|███▋      | 1541/4204 [1:14:05<2:07:34,  2.87s/it]"
     ]
    },
    {
     "name": "stdout",
     "output_type": "stream",
     "text": [
      "✅ GAMB - CashFlow_Quarter 데이터 삽입 완료\n",
      "✅ GAME - IncomeStatement_Quarter 데이터 삽입 완료\n",
      "✅ GAME - BalanceSheet_Quarter 데이터 삽입 완료\n"
     ]
    },
    {
     "name": "stderr",
     "output_type": "stream",
     "text": [
      "Processing Companies:  37%|███▋      | 1542/4204 [1:14:08<2:07:15,  2.87s/it]"
     ]
    },
    {
     "name": "stdout",
     "output_type": "stream",
     "text": [
      "✅ GAME - CashFlow_Quarter 데이터 삽입 완료\n"
     ]
    },
    {
     "name": "stderr",
     "output_type": "stream",
     "text": [
      "$GAN: possibly delisted; no price data found  (period=5d)\n"
     ]
    },
    {
     "name": "stdout",
     "output_type": "stream",
     "text": [
      "✅ GAN - IncomeStatement_Quarter 데이터 삽입 완료\n",
      "✅ GAN - BalanceSheet_Quarter 데이터 삽입 완료\n"
     ]
    },
    {
     "name": "stderr",
     "output_type": "stream",
     "text": [
      "Processing Companies:  37%|███▋      | 1543/4204 [1:14:11<2:07:37,  2.88s/it]"
     ]
    },
    {
     "name": "stdout",
     "output_type": "stream",
     "text": [
      "✅ GAN - CashFlow_Quarter 데이터 삽입 완료\n",
      "✅ GASS - IncomeStatement_Quarter 데이터 삽입 완료\n",
      "✅ GASS - BalanceSheet_Quarter 데이터 삽입 완료\n"
     ]
    },
    {
     "name": "stderr",
     "output_type": "stream",
     "text": [
      "Processing Companies:  37%|███▋      | 1544/4204 [1:14:13<2:06:39,  2.86s/it]"
     ]
    },
    {
     "name": "stdout",
     "output_type": "stream",
     "text": [
      "✅ GASS - CashFlow_Quarter 데이터 삽입 완료\n",
      "✅ GAP - IncomeStatement_Quarter 데이터 삽입 완료\n",
      "✅ GAP - BalanceSheet_Quarter 데이터 삽입 완료\n"
     ]
    },
    {
     "name": "stderr",
     "output_type": "stream",
     "text": [
      "Processing Companies:  37%|███▋      | 1545/4204 [1:14:16<2:07:44,  2.88s/it]"
     ]
    },
    {
     "name": "stdout",
     "output_type": "stream",
     "text": [
      "✅ GAP - CashFlow_Quarter 데이터 삽입 완료\n",
      "✅ GANX - IncomeStatement_Quarter 데이터 삽입 완료\n",
      "✅ GANX - BalanceSheet_Quarter 데이터 삽입 완료\n"
     ]
    },
    {
     "name": "stderr",
     "output_type": "stream",
     "text": [
      "Processing Companies:  37%|███▋      | 1546/4204 [1:14:19<2:06:12,  2.85s/it]"
     ]
    },
    {
     "name": "stdout",
     "output_type": "stream",
     "text": [
      "✅ GANX - CashFlow_Quarter 데이터 삽입 완료\n",
      "✅ GATX - IncomeStatement_Quarter 데이터 삽입 완료\n",
      "✅ GATX - BalanceSheet_Quarter 데이터 삽입 완료\n"
     ]
    },
    {
     "name": "stderr",
     "output_type": "stream",
     "text": [
      "Processing Companies:  37%|███▋      | 1547/4204 [1:14:22<2:06:29,  2.86s/it]"
     ]
    },
    {
     "name": "stdout",
     "output_type": "stream",
     "text": [
      "✅ GATX - CashFlow_Quarter 데이터 삽입 완료\n",
      "✅ GB - IncomeStatement_Quarter 데이터 삽입 완료\n",
      "✅ GB - BalanceSheet_Quarter 데이터 삽입 완료\n"
     ]
    },
    {
     "name": "stderr",
     "output_type": "stream",
     "text": [
      "Processing Companies:  37%|███▋      | 1548/4204 [1:14:25<2:07:44,  2.89s/it]"
     ]
    },
    {
     "name": "stdout",
     "output_type": "stream",
     "text": [
      "✅ GB - CashFlow_Quarter 데이터 삽입 완료\n",
      "✅ GAU - IncomeStatement_Quarter 데이터 삽입 완료\n",
      "✅ GAU - BalanceSheet_Quarter 데이터 삽입 완료\n"
     ]
    },
    {
     "name": "stderr",
     "output_type": "stream",
     "text": [
      "Processing Companies:  37%|███▋      | 1549/4204 [1:14:28<2:07:18,  2.88s/it]"
     ]
    },
    {
     "name": "stdout",
     "output_type": "stream",
     "text": [
      "✅ GAU - CashFlow_Quarter 데이터 삽입 완료\n",
      "✅ GBCI - IncomeStatement_Quarter 데이터 삽입 완료\n",
      "✅ GBCI - BalanceSheet_Quarter 데이터 삽입 완료\n"
     ]
    },
    {
     "name": "stderr",
     "output_type": "stream",
     "text": [
      "Processing Companies:  37%|███▋      | 1550/4204 [1:14:31<2:08:06,  2.90s/it]"
     ]
    },
    {
     "name": "stdout",
     "output_type": "stream",
     "text": [
      "✅ GBCI - CashFlow_Quarter 데이터 삽입 완료\n",
      "✅ GBIO - IncomeStatement_Quarter 데이터 삽입 완료\n",
      "✅ GBIO - BalanceSheet_Quarter 데이터 삽입 완료\n"
     ]
    },
    {
     "name": "stderr",
     "output_type": "stream",
     "text": [
      "Processing Companies:  37%|███▋      | 1551/4204 [1:14:34<2:10:01,  2.94s/it]"
     ]
    },
    {
     "name": "stdout",
     "output_type": "stream",
     "text": [
      "✅ GBIO - CashFlow_Quarter 데이터 삽입 완료\n",
      "✅ GBLI - IncomeStatement_Quarter 데이터 삽입 완료\n",
      "✅ GBLI - BalanceSheet_Quarter 데이터 삽입 완료\n"
     ]
    },
    {
     "name": "stderr",
     "output_type": "stream",
     "text": [
      "Processing Companies:  37%|███▋      | 1552/4204 [1:14:37<2:08:59,  2.92s/it]"
     ]
    },
    {
     "name": "stdout",
     "output_type": "stream",
     "text": [
      "✅ GBLI - CashFlow_Quarter 데이터 삽입 완료\n",
      "✅ GBR - IncomeStatement_Quarter 데이터 삽입 완료\n",
      "✅ GBR - BalanceSheet_Quarter 데이터 삽입 완료\n"
     ]
    },
    {
     "name": "stderr",
     "output_type": "stream",
     "text": [
      "Processing Companies:  37%|███▋      | 1553/4204 [1:14:39<2:05:53,  2.85s/it]"
     ]
    },
    {
     "name": "stdout",
     "output_type": "stream",
     "text": [
      "✅ GBR - CashFlow_Quarter 데이터 삽입 완료\n",
      "✅ GBX - IncomeStatement_Quarter 데이터 삽입 완료\n",
      "✅ GBX - BalanceSheet_Quarter 데이터 삽입 완료\n"
     ]
    },
    {
     "name": "stderr",
     "output_type": "stream",
     "text": [
      "Processing Companies:  37%|███▋      | 1554/4204 [1:14:42<2:06:33,  2.87s/it]"
     ]
    },
    {
     "name": "stdout",
     "output_type": "stream",
     "text": [
      "✅ GBX - CashFlow_Quarter 데이터 삽입 완료\n",
      "✅ GCBC - IncomeStatement_Quarter 데이터 삽입 완료\n",
      "✅ GCBC - BalanceSheet_Quarter 데이터 삽입 완료\n"
     ]
    },
    {
     "name": "stderr",
     "output_type": "stream",
     "text": [
      "Processing Companies:  37%|███▋      | 1555/4204 [1:14:45<2:06:18,  2.86s/it]"
     ]
    },
    {
     "name": "stdout",
     "output_type": "stream",
     "text": [
      "✅ GCBC - CashFlow_Quarter 데이터 삽입 완료\n",
      "✅ GCI - IncomeStatement_Quarter 데이터 삽입 완료\n",
      "✅ GCI - BalanceSheet_Quarter 데이터 삽입 완료\n"
     ]
    },
    {
     "name": "stderr",
     "output_type": "stream",
     "text": [
      "Processing Companies:  37%|███▋      | 1556/4204 [1:14:48<2:06:46,  2.87s/it]"
     ]
    },
    {
     "name": "stdout",
     "output_type": "stream",
     "text": [
      "✅ GCI - CashFlow_Quarter 데이터 삽입 완료\n",
      "❌ IncomeStatement_Quarter 데이터 없음\n",
      "✅ GCL - BalanceSheet_Quarter 데이터 삽입 완료\n"
     ]
    },
    {
     "name": "stderr",
     "output_type": "stream",
     "text": [
      "Processing Companies:  37%|███▋      | 1557/4204 [1:14:51<2:05:27,  2.84s/it]"
     ]
    },
    {
     "name": "stdout",
     "output_type": "stream",
     "text": [
      "❌ CashFlow_Quarter 데이터 없음\n",
      "✅ GCO - IncomeStatement_Quarter 데이터 삽입 완료\n",
      "✅ GCO - BalanceSheet_Quarter 데이터 삽입 완료\n"
     ]
    },
    {
     "name": "stderr",
     "output_type": "stream",
     "text": [
      "Processing Companies:  37%|███▋      | 1558/4204 [1:14:54<2:07:52,  2.90s/it]"
     ]
    },
    {
     "name": "stdout",
     "output_type": "stream",
     "text": [
      "✅ GCO - CashFlow_Quarter 데이터 삽입 완료\n",
      "✅ GCTK - IncomeStatement_Quarter 데이터 삽입 완료\n",
      "✅ GCTK - BalanceSheet_Quarter 데이터 삽입 완료\n"
     ]
    },
    {
     "name": "stderr",
     "output_type": "stream",
     "text": [
      "Processing Companies:  37%|███▋      | 1559/4204 [1:14:57<2:06:58,  2.88s/it]"
     ]
    },
    {
     "name": "stdout",
     "output_type": "stream",
     "text": [
      "✅ GCTK - CashFlow_Quarter 데이터 삽입 완료\n",
      "✅ GCTS - IncomeStatement_Quarter 데이터 삽입 완료\n",
      "✅ GCTS - BalanceSheet_Quarter 데이터 삽입 완료\n"
     ]
    },
    {
     "name": "stderr",
     "output_type": "stream",
     "text": [
      "Processing Companies:  37%|███▋      | 1560/4204 [1:14:59<2:06:00,  2.86s/it]"
     ]
    },
    {
     "name": "stdout",
     "output_type": "stream",
     "text": [
      "✅ GCTS - CashFlow_Quarter 데이터 삽입 완료\n",
      "✅ GDC - IncomeStatement_Quarter 데이터 삽입 완료\n",
      "✅ GDC - BalanceSheet_Quarter 데이터 삽입 완료\n"
     ]
    },
    {
     "name": "stderr",
     "output_type": "stream",
     "text": [
      "Processing Companies:  37%|███▋      | 1561/4204 [1:15:02<2:04:21,  2.82s/it]"
     ]
    },
    {
     "name": "stdout",
     "output_type": "stream",
     "text": [
      "✅ GDC - CashFlow_Quarter 데이터 삽입 완료\n",
      "✅ GDDY - IncomeStatement_Quarter 데이터 삽입 완료\n",
      "✅ GDDY - BalanceSheet_Quarter 데이터 삽입 완료\n"
     ]
    },
    {
     "name": "stderr",
     "output_type": "stream",
     "text": [
      "Processing Companies:  37%|███▋      | 1562/4204 [1:15:06<2:12:42,  3.01s/it]"
     ]
    },
    {
     "name": "stdout",
     "output_type": "stream",
     "text": [
      "✅ GDDY - CashFlow_Quarter 데이터 삽입 완료\n",
      "✅ GDEN - IncomeStatement_Quarter 데이터 삽입 완료\n",
      "✅ GDEN - BalanceSheet_Quarter 데이터 삽입 완료\n"
     ]
    },
    {
     "name": "stderr",
     "output_type": "stream",
     "text": [
      "Processing Companies:  37%|███▋      | 1563/4204 [1:15:09<2:11:50,  3.00s/it]"
     ]
    },
    {
     "name": "stdout",
     "output_type": "stream",
     "text": [
      "✅ GDEN - CashFlow_Quarter 데이터 삽입 완료\n",
      "✅ GDEV - IncomeStatement_Quarter 데이터 삽입 완료\n",
      "✅ GDEV - BalanceSheet_Quarter 데이터 삽입 완료\n"
     ]
    },
    {
     "name": "stderr",
     "output_type": "stream",
     "text": [
      "Processing Companies:  37%|███▋      | 1564/4204 [1:15:11<2:09:09,  2.94s/it]"
     ]
    },
    {
     "name": "stdout",
     "output_type": "stream",
     "text": [
      "✅ GDEV - CashFlow_Quarter 데이터 삽입 완료\n",
      "✅ GDOT - IncomeStatement_Quarter 데이터 삽입 완료\n",
      "✅ GDOT - BalanceSheet_Quarter 데이터 삽입 완료\n"
     ]
    },
    {
     "name": "stderr",
     "output_type": "stream",
     "text": [
      "Processing Companies:  37%|███▋      | 1565/4204 [1:15:14<2:09:14,  2.94s/it]"
     ]
    },
    {
     "name": "stdout",
     "output_type": "stream",
     "text": [
      "✅ GDOT - CashFlow_Quarter 데이터 삽입 완료\n",
      "✅ GDRX - IncomeStatement_Quarter 데이터 삽입 완료\n",
      "✅ GDRX - BalanceSheet_Quarter 데이터 삽입 완료\n"
     ]
    },
    {
     "name": "stderr",
     "output_type": "stream",
     "text": [
      "Processing Companies:  37%|███▋      | 1566/4204 [1:15:17<2:06:21,  2.87s/it]"
     ]
    },
    {
     "name": "stdout",
     "output_type": "stream",
     "text": [
      "✅ GDRX - CashFlow_Quarter 데이터 삽입 완료\n",
      "✅ GDYN - IncomeStatement_Quarter 데이터 삽입 완료\n",
      "✅ GDYN - BalanceSheet_Quarter 데이터 삽입 완료\n"
     ]
    },
    {
     "name": "stderr",
     "output_type": "stream",
     "text": [
      "Processing Companies:  37%|███▋      | 1567/4204 [1:15:20<2:11:53,  3.00s/it]"
     ]
    },
    {
     "name": "stdout",
     "output_type": "stream",
     "text": [
      "✅ GDYN - CashFlow_Quarter 데이터 삽입 완료\n",
      "✅ GEF - IncomeStatement_Quarter 데이터 삽입 완료\n",
      "✅ GEF - BalanceSheet_Quarter 데이터 삽입 완료\n"
     ]
    },
    {
     "name": "stderr",
     "output_type": "stream",
     "text": [
      "Processing Companies:  37%|███▋      | 1568/4204 [1:15:23<2:13:06,  3.03s/it]"
     ]
    },
    {
     "name": "stdout",
     "output_type": "stream",
     "text": [
      "✅ GEF - CashFlow_Quarter 데이터 삽입 완료\n",
      "✅ GEL - IncomeStatement_Quarter 데이터 삽입 완료\n",
      "✅ GEL - BalanceSheet_Quarter 데이터 삽입 완료\n"
     ]
    },
    {
     "name": "stderr",
     "output_type": "stream",
     "text": [
      "Processing Companies:  37%|███▋      | 1569/4204 [1:15:26<2:12:01,  3.01s/it]"
     ]
    },
    {
     "name": "stdout",
     "output_type": "stream",
     "text": [
      "✅ GEL - CashFlow_Quarter 데이터 삽입 완료\n",
      "✅ GEN - IncomeStatement_Quarter 데이터 삽입 완료\n",
      "✅ GEN - BalanceSheet_Quarter 데이터 삽입 완료\n"
     ]
    },
    {
     "name": "stderr",
     "output_type": "stream",
     "text": [
      "Processing Companies:  37%|███▋      | 1570/4204 [1:15:30<2:15:01,  3.08s/it]"
     ]
    },
    {
     "name": "stdout",
     "output_type": "stream",
     "text": [
      "✅ GEN - CashFlow_Quarter 데이터 삽입 완료\n",
      "✅ GENI - IncomeStatement_Quarter 데이터 삽입 완료\n",
      "✅ GENI - BalanceSheet_Quarter 데이터 삽입 완료\n"
     ]
    },
    {
     "name": "stderr",
     "output_type": "stream",
     "text": [
      "Processing Companies:  37%|███▋      | 1571/4204 [1:15:32<2:10:53,  2.98s/it]"
     ]
    },
    {
     "name": "stdout",
     "output_type": "stream",
     "text": [
      "✅ GENI - CashFlow_Quarter 데이터 삽입 완료\n",
      "✅ GENC - IncomeStatement_Quarter 데이터 삽입 완료\n",
      "✅ GENC - BalanceSheet_Quarter 데이터 삽입 완료\n"
     ]
    },
    {
     "name": "stderr",
     "output_type": "stream",
     "text": [
      "Processing Companies:  37%|███▋      | 1572/4204 [1:15:35<2:09:27,  2.95s/it]"
     ]
    },
    {
     "name": "stdout",
     "output_type": "stream",
     "text": [
      "✅ GENC - CashFlow_Quarter 데이터 삽입 완료\n",
      "✅ GEO - IncomeStatement_Quarter 데이터 삽입 완료\n",
      "✅ GEO - BalanceSheet_Quarter 데이터 삽입 완료\n"
     ]
    },
    {
     "name": "stderr",
     "output_type": "stream",
     "text": [
      "Processing Companies:  37%|███▋      | 1573/4204 [1:15:38<2:10:49,  2.98s/it]"
     ]
    },
    {
     "name": "stdout",
     "output_type": "stream",
     "text": [
      "✅ GEO - CashFlow_Quarter 데이터 삽입 완료\n",
      "✅ GETY - IncomeStatement_Quarter 데이터 삽입 완료\n",
      "✅ GETY - BalanceSheet_Quarter 데이터 삽입 완료\n"
     ]
    },
    {
     "name": "stderr",
     "output_type": "stream",
     "text": [
      "Processing Companies:  37%|███▋      | 1574/4204 [1:15:41<2:09:32,  2.96s/it]"
     ]
    },
    {
     "name": "stdout",
     "output_type": "stream",
     "text": [
      "✅ GETY - CashFlow_Quarter 데이터 삽입 완료\n",
      "✅ GERN - IncomeStatement_Quarter 데이터 삽입 완료\n",
      "✅ GERN - BalanceSheet_Quarter 데이터 삽입 완료\n"
     ]
    },
    {
     "name": "stderr",
     "output_type": "stream",
     "text": [
      "Processing Companies:  37%|███▋      | 1575/4204 [1:15:44<2:07:44,  2.92s/it]"
     ]
    },
    {
     "name": "stdout",
     "output_type": "stream",
     "text": [
      "✅ GERN - CashFlow_Quarter 데이터 삽입 완료\n",
      "✅ GES - IncomeStatement_Quarter 데이터 삽입 완료\n",
      "✅ GES - BalanceSheet_Quarter 데이터 삽입 완료\n"
     ]
    },
    {
     "name": "stderr",
     "output_type": "stream",
     "text": [
      "Processing Companies:  37%|███▋      | 1576/4204 [1:15:47<2:07:19,  2.91s/it]"
     ]
    },
    {
     "name": "stdout",
     "output_type": "stream",
     "text": [
      "✅ GES - CashFlow_Quarter 데이터 삽입 완료\n",
      "✅ GEVO - IncomeStatement_Quarter 데이터 삽입 완료\n",
      "✅ GEVO - BalanceSheet_Quarter 데이터 삽입 완료\n"
     ]
    },
    {
     "name": "stderr",
     "output_type": "stream",
     "text": [
      "Processing Companies:  38%|███▊      | 1577/4204 [1:15:50<2:09:14,  2.95s/it]"
     ]
    },
    {
     "name": "stdout",
     "output_type": "stream",
     "text": [
      "✅ GEVO - CashFlow_Quarter 데이터 삽입 완료\n",
      "❌ IncomeStatement_Quarter 데이터 없음\n",
      "✅ GFAI - BalanceSheet_Quarter 데이터 삽입 완료\n"
     ]
    },
    {
     "name": "stderr",
     "output_type": "stream",
     "text": [
      "Processing Companies:  38%|███▊      | 1578/4204 [1:15:53<2:07:07,  2.90s/it]"
     ]
    },
    {
     "name": "stdout",
     "output_type": "stream",
     "text": [
      "❌ CashFlow_Quarter 데이터 없음\n",
      "✅ GFF - IncomeStatement_Quarter 데이터 삽입 완료\n",
      "✅ GFF - BalanceSheet_Quarter 데이터 삽입 완료\n"
     ]
    },
    {
     "name": "stderr",
     "output_type": "stream",
     "text": [
      "Processing Companies:  38%|███▊      | 1579/4204 [1:15:56<2:07:02,  2.90s/it]"
     ]
    },
    {
     "name": "stdout",
     "output_type": "stream",
     "text": [
      "✅ GFF - CashFlow_Quarter 데이터 삽입 완료\n",
      "❌ IncomeStatement_Quarter 데이터 없음\n",
      "✅ GFI - BalanceSheet_Quarter 데이터 삽입 완료\n"
     ]
    },
    {
     "name": "stderr",
     "output_type": "stream",
     "text": [
      "Processing Companies:  38%|███▊      | 1580/4204 [1:15:59<2:06:05,  2.88s/it]"
     ]
    },
    {
     "name": "stdout",
     "output_type": "stream",
     "text": [
      "❌ CashFlow_Quarter 데이터 없음\n",
      "✅ GFL - IncomeStatement_Quarter 데이터 삽입 완료\n",
      "✅ GFL - BalanceSheet_Quarter 데이터 삽입 완료\n"
     ]
    },
    {
     "name": "stderr",
     "output_type": "stream",
     "text": [
      "Processing Companies:  38%|███▊      | 1581/4204 [1:16:02<2:08:22,  2.94s/it]"
     ]
    },
    {
     "name": "stdout",
     "output_type": "stream",
     "text": [
      "✅ GFL - CashFlow_Quarter 데이터 삽입 완료\n",
      "✅ GFR - IncomeStatement_Quarter 데이터 삽입 완료\n",
      "✅ GFR - BalanceSheet_Quarter 데이터 삽입 완료\n"
     ]
    },
    {
     "name": "stderr",
     "output_type": "stream",
     "text": [
      "Processing Companies:  38%|███▊      | 1582/4204 [1:16:05<2:08:31,  2.94s/it]"
     ]
    },
    {
     "name": "stdout",
     "output_type": "stream",
     "text": [
      "✅ GFR - CashFlow_Quarter 데이터 삽입 완료\n",
      "✅ GFS - IncomeStatement_Quarter 데이터 삽입 완료\n",
      "✅ GFS - BalanceSheet_Quarter 데이터 삽입 완료\n"
     ]
    },
    {
     "name": "stderr",
     "output_type": "stream",
     "text": [
      "Processing Companies:  38%|███▊      | 1583/4204 [1:16:07<2:07:55,  2.93s/it]"
     ]
    },
    {
     "name": "stdout",
     "output_type": "stream",
     "text": [
      "✅ GFS - CashFlow_Quarter 데이터 삽입 완료\n",
      "✅ GGG - IncomeStatement_Quarter 데이터 삽입 완료\n",
      "✅ GGG - BalanceSheet_Quarter 데이터 삽입 완료\n"
     ]
    },
    {
     "name": "stderr",
     "output_type": "stream",
     "text": [
      "Processing Companies:  38%|███▊      | 1584/4204 [1:16:10<2:08:50,  2.95s/it]"
     ]
    },
    {
     "name": "stdout",
     "output_type": "stream",
     "text": [
      "✅ GGG - CashFlow_Quarter 데이터 삽입 완료\n",
      "✅ GGR - IncomeStatement_Quarter 데이터 삽입 완료\n",
      "✅ GGR - BalanceSheet_Quarter 데이터 삽입 완료\n"
     ]
    },
    {
     "name": "stderr",
     "output_type": "stream",
     "text": [
      "Processing Companies:  38%|███▊      | 1585/4204 [1:16:13<2:06:56,  2.91s/it]"
     ]
    },
    {
     "name": "stdout",
     "output_type": "stream",
     "text": [
      "✅ GGR - CashFlow_Quarter 데이터 삽입 완료\n",
      "✅ GHC - IncomeStatement_Quarter 데이터 삽입 완료\n",
      "✅ GHC - BalanceSheet_Quarter 데이터 삽입 완료\n"
     ]
    },
    {
     "name": "stderr",
     "output_type": "stream",
     "text": [
      "Processing Companies:  38%|███▊      | 1586/4204 [1:16:16<2:10:34,  2.99s/it]"
     ]
    },
    {
     "name": "stdout",
     "output_type": "stream",
     "text": [
      "✅ GHC - CashFlow_Quarter 데이터 삽입 완료\n",
      "✅ GH - IncomeStatement_Quarter 데이터 삽입 완료\n",
      "✅ GH - BalanceSheet_Quarter 데이터 삽입 완료\n"
     ]
    },
    {
     "name": "stderr",
     "output_type": "stream",
     "text": [
      "Processing Companies:  38%|███▊      | 1587/4204 [1:16:19<2:07:59,  2.93s/it]"
     ]
    },
    {
     "name": "stdout",
     "output_type": "stream",
     "text": [
      "✅ GH - CashFlow_Quarter 데이터 삽입 완료\n",
      "✅ GHG - IncomeStatement_Quarter 데이터 삽입 완료\n",
      "✅ GHG - BalanceSheet_Quarter 데이터 삽입 완료\n"
     ]
    },
    {
     "name": "stderr",
     "output_type": "stream",
     "text": [
      "Processing Companies:  38%|███▊      | 1588/4204 [1:16:22<2:10:48,  3.00s/it]"
     ]
    },
    {
     "name": "stdout",
     "output_type": "stream",
     "text": [
      "✅ GHG - CashFlow_Quarter 데이터 삽입 완료\n",
      "✅ GHI - IncomeStatement_Quarter 데이터 삽입 완료\n",
      "✅ GHI - BalanceSheet_Quarter 데이터 삽입 완료\n"
     ]
    },
    {
     "name": "stderr",
     "output_type": "stream",
     "text": [
      "Processing Companies:  38%|███▊      | 1589/4204 [1:16:25<2:09:25,  2.97s/it]"
     ]
    },
    {
     "name": "stdout",
     "output_type": "stream",
     "text": [
      "✅ GHI - CashFlow_Quarter 데이터 삽입 완료\n",
      "✅ GHLD - IncomeStatement_Quarter 데이터 삽입 완료\n",
      "✅ GHLD - BalanceSheet_Quarter 데이터 삽입 완료\n"
     ]
    },
    {
     "name": "stderr",
     "output_type": "stream",
     "text": [
      "Processing Companies:  38%|███▊      | 1590/4204 [1:16:28<2:07:15,  2.92s/it]"
     ]
    },
    {
     "name": "stdout",
     "output_type": "stream",
     "text": [
      "✅ GHLD - CashFlow_Quarter 데이터 삽입 완료\n",
      "✅ GHRS - IncomeStatement_Quarter 데이터 삽입 완료\n",
      "✅ GHRS - BalanceSheet_Quarter 데이터 삽입 완료\n"
     ]
    },
    {
     "name": "stderr",
     "output_type": "stream",
     "text": [
      "Processing Companies:  38%|███▊      | 1591/4204 [1:16:31<2:05:32,  2.88s/it]"
     ]
    },
    {
     "name": "stdout",
     "output_type": "stream",
     "text": [
      "✅ GHRS - CashFlow_Quarter 데이터 삽입 완료\n",
      "✅ GIC - IncomeStatement_Quarter 데이터 삽입 완료\n",
      "✅ GIC - BalanceSheet_Quarter 데이터 삽입 완료\n"
     ]
    },
    {
     "name": "stderr",
     "output_type": "stream",
     "text": [
      "Processing Companies:  38%|███▊      | 1592/4204 [1:16:34<2:04:22,  2.86s/it]"
     ]
    },
    {
     "name": "stdout",
     "output_type": "stream",
     "text": [
      "✅ GIC - CashFlow_Quarter 데이터 삽입 완료\n",
      "✅ GIFI - IncomeStatement_Quarter 데이터 삽입 완료\n",
      "✅ GIFI - BalanceSheet_Quarter 데이터 삽입 완료\n"
     ]
    },
    {
     "name": "stderr",
     "output_type": "stream",
     "text": [
      "Processing Companies:  38%|███▊      | 1593/4204 [1:16:37<2:04:21,  2.86s/it]"
     ]
    },
    {
     "name": "stdout",
     "output_type": "stream",
     "text": [
      "✅ GIFI - CashFlow_Quarter 데이터 삽입 완료\n",
      "✅ GIGM - IncomeStatement_Quarter 데이터 삽입 완료\n",
      "✅ GIGM - BalanceSheet_Quarter 데이터 삽입 완료\n"
     ]
    },
    {
     "name": "stderr",
     "output_type": "stream",
     "text": [
      "Processing Companies:  38%|███▊      | 1594/4204 [1:16:39<2:03:26,  2.84s/it]"
     ]
    },
    {
     "name": "stdout",
     "output_type": "stream",
     "text": [
      "❌ CashFlow_Quarter 데이터 없음\n",
      "✅ GIII - IncomeStatement_Quarter 데이터 삽입 완료\n",
      "✅ GIII - BalanceSheet_Quarter 데이터 삽입 완료\n"
     ]
    },
    {
     "name": "stderr",
     "output_type": "stream",
     "text": [
      "Processing Companies:  38%|███▊      | 1595/4204 [1:16:42<2:04:26,  2.86s/it]"
     ]
    },
    {
     "name": "stdout",
     "output_type": "stream",
     "text": [
      "✅ GIII - CashFlow_Quarter 데이터 삽입 완료\n",
      "✅ GIL - IncomeStatement_Quarter 데이터 삽입 완료\n",
      "✅ GIL - BalanceSheet_Quarter 데이터 삽입 완료\n"
     ]
    },
    {
     "name": "stderr",
     "output_type": "stream",
     "text": [
      "Processing Companies:  38%|███▊      | 1596/4204 [1:16:45<2:08:42,  2.96s/it]"
     ]
    },
    {
     "name": "stdout",
     "output_type": "stream",
     "text": [
      "✅ GIL - CashFlow_Quarter 데이터 삽입 완료\n",
      "✅ GILD - IncomeStatement_Quarter 데이터 삽입 완료\n",
      "✅ GILD - BalanceSheet_Quarter 데이터 삽입 완료\n"
     ]
    },
    {
     "name": "stderr",
     "output_type": "stream",
     "text": [
      "Processing Companies:  38%|███▊      | 1597/4204 [1:16:48<2:07:04,  2.92s/it]"
     ]
    },
    {
     "name": "stdout",
     "output_type": "stream",
     "text": [
      "✅ GILD - CashFlow_Quarter 데이터 삽입 완료\n",
      "✅ GIPR - IncomeStatement_Quarter 데이터 삽입 완료\n",
      "✅ GIPR - BalanceSheet_Quarter 데이터 삽입 완료\n"
     ]
    },
    {
     "name": "stderr",
     "output_type": "stream",
     "text": [
      "Processing Companies:  38%|███▊      | 1598/4204 [1:16:51<2:05:22,  2.89s/it]"
     ]
    },
    {
     "name": "stdout",
     "output_type": "stream",
     "text": [
      "✅ GIPR - CashFlow_Quarter 데이터 삽입 완료\n",
      "✅ GILT - IncomeStatement_Quarter 데이터 삽입 완료\n",
      "✅ GILT - BalanceSheet_Quarter 데이터 삽입 완료\n"
     ]
    },
    {
     "name": "stderr",
     "output_type": "stream",
     "text": [
      "Processing Companies:  38%|███▊      | 1599/4204 [1:16:54<2:07:04,  2.93s/it]"
     ]
    },
    {
     "name": "stdout",
     "output_type": "stream",
     "text": [
      "✅ GILT - CashFlow_Quarter 데이터 삽입 완료\n",
      "✅ GIS - IncomeStatement_Quarter 데이터 삽입 완료\n",
      "✅ GIS - BalanceSheet_Quarter 데이터 삽입 완료\n"
     ]
    },
    {
     "name": "stderr",
     "output_type": "stream",
     "text": [
      "Processing Companies:  38%|███▊      | 1600/4204 [1:16:57<2:05:49,  2.90s/it]"
     ]
    },
    {
     "name": "stdout",
     "output_type": "stream",
     "text": [
      "✅ GIS - CashFlow_Quarter 데이터 삽입 완료\n",
      "✅ GKOS - IncomeStatement_Quarter 데이터 삽입 완료\n",
      "✅ GKOS - BalanceSheet_Quarter 데이터 삽입 완료\n"
     ]
    },
    {
     "name": "stderr",
     "output_type": "stream",
     "text": [
      "Processing Companies:  38%|███▊      | 1601/4204 [1:17:00<2:05:22,  2.89s/it]"
     ]
    },
    {
     "name": "stdout",
     "output_type": "stream",
     "text": [
      "✅ GKOS - CashFlow_Quarter 데이터 삽입 완료\n",
      "✅ GL - IncomeStatement_Quarter 데이터 삽입 완료\n",
      "✅ GL - BalanceSheet_Quarter 데이터 삽입 완료\n"
     ]
    },
    {
     "name": "stderr",
     "output_type": "stream",
     "text": [
      "Processing Companies:  38%|███▊      | 1602/4204 [1:17:03<2:04:32,  2.87s/it]"
     ]
    },
    {
     "name": "stdout",
     "output_type": "stream",
     "text": [
      "✅ GL - CashFlow_Quarter 데이터 삽입 완료\n",
      "✅ GLBS - IncomeStatement_Quarter 데이터 삽입 완료\n",
      "✅ GLBS - BalanceSheet_Quarter 데이터 삽입 완료\n"
     ]
    },
    {
     "name": "stderr",
     "output_type": "stream",
     "text": [
      "Processing Companies:  38%|███▊      | 1603/4204 [1:17:05<2:03:33,  2.85s/it]"
     ]
    },
    {
     "name": "stdout",
     "output_type": "stream",
     "text": [
      "✅ GLBS - CashFlow_Quarter 데이터 삽입 완료\n",
      "✅ GLBE - IncomeStatement_Quarter 데이터 삽입 완료\n",
      "✅ GLBE - BalanceSheet_Quarter 데이터 삽입 완료\n"
     ]
    },
    {
     "name": "stderr",
     "output_type": "stream",
     "text": [
      "Processing Companies:  38%|███▊      | 1604/4204 [1:17:08<2:03:31,  2.85s/it]"
     ]
    },
    {
     "name": "stdout",
     "output_type": "stream",
     "text": [
      "✅ GLBE - CashFlow_Quarter 데이터 삽입 완료\n",
      "✅ GLBZ - IncomeStatement_Quarter 데이터 삽입 완료\n",
      "✅ GLBZ - BalanceSheet_Quarter 데이터 삽입 완료\n"
     ]
    },
    {
     "name": "stderr",
     "output_type": "stream",
     "text": [
      "Processing Companies:  38%|███▊      | 1605/4204 [1:17:11<2:02:47,  2.83s/it]"
     ]
    },
    {
     "name": "stdout",
     "output_type": "stream",
     "text": [
      "✅ GLBZ - CashFlow_Quarter 데이터 삽입 완료\n",
      "✅ GLDD - IncomeStatement_Quarter 데이터 삽입 완료\n",
      "✅ GLDD - BalanceSheet_Quarter 데이터 삽입 완료\n"
     ]
    },
    {
     "name": "stderr",
     "output_type": "stream",
     "text": [
      "Processing Companies:  38%|███▊      | 1606/4204 [1:17:14<2:03:35,  2.85s/it]"
     ]
    },
    {
     "name": "stdout",
     "output_type": "stream",
     "text": [
      "✅ GLDD - CashFlow_Quarter 데이터 삽입 완료\n",
      "✅ GLDG - IncomeStatement_Quarter 데이터 삽입 완료\n",
      "✅ GLDG - BalanceSheet_Quarter 데이터 삽입 완료\n"
     ]
    },
    {
     "name": "stderr",
     "output_type": "stream",
     "text": [
      "Processing Companies:  38%|███▊      | 1607/4204 [1:17:17<2:04:55,  2.89s/it]"
     ]
    },
    {
     "name": "stdout",
     "output_type": "stream",
     "text": [
      "✅ GLDG - CashFlow_Quarter 데이터 삽입 완료\n",
      "✅ GLMD - IncomeStatement_Quarter 데이터 삽입 완료\n",
      "✅ GLMD - BalanceSheet_Quarter 데이터 삽입 완료\n"
     ]
    },
    {
     "name": "stderr",
     "output_type": "stream",
     "text": [
      "Processing Companies:  38%|███▊      | 1608/4204 [1:17:20<2:03:36,  2.86s/it]"
     ]
    },
    {
     "name": "stdout",
     "output_type": "stream",
     "text": [
      "✅ GLMD - CashFlow_Quarter 데이터 삽입 완료\n",
      "✅ GLOB - IncomeStatement_Quarter 데이터 삽입 완료\n",
      "✅ GLOB - BalanceSheet_Quarter 데이터 삽입 완료\n"
     ]
    },
    {
     "name": "stderr",
     "output_type": "stream",
     "text": [
      "Processing Companies:  38%|███▊      | 1609/4204 [1:17:23<2:03:24,  2.85s/it]"
     ]
    },
    {
     "name": "stdout",
     "output_type": "stream",
     "text": [
      "✅ GLOB - CashFlow_Quarter 데이터 삽입 완료\n",
      "✅ GLNG - IncomeStatement_Quarter 데이터 삽입 완료\n",
      "✅ GLNG - BalanceSheet_Quarter 데이터 삽입 완료\n"
     ]
    },
    {
     "name": "stderr",
     "output_type": "stream",
     "text": [
      "Processing Companies:  38%|███▊      | 1610/4204 [1:17:25<2:03:26,  2.86s/it]"
     ]
    },
    {
     "name": "stdout",
     "output_type": "stream",
     "text": [
      "✅ GLNG - CashFlow_Quarter 데이터 삽입 완료\n",
      "✅ GLPG - IncomeStatement_Quarter 데이터 삽입 완료\n",
      "✅ GLPG - BalanceSheet_Quarter 데이터 삽입 완료\n"
     ]
    },
    {
     "name": "stderr",
     "output_type": "stream",
     "text": [
      "Processing Companies:  38%|███▊      | 1611/4204 [1:17:28<2:04:00,  2.87s/it]"
     ]
    },
    {
     "name": "stdout",
     "output_type": "stream",
     "text": [
      "✅ GLPG - CashFlow_Quarter 데이터 삽입 완료\n",
      "✅ GLP - IncomeStatement_Quarter 데이터 삽입 완료\n",
      "✅ GLP - BalanceSheet_Quarter 데이터 삽입 완료\n"
     ]
    },
    {
     "name": "stderr",
     "output_type": "stream",
     "text": [
      "Processing Companies:  38%|███▊      | 1612/4204 [1:17:31<2:05:36,  2.91s/it]"
     ]
    },
    {
     "name": "stdout",
     "output_type": "stream",
     "text": [
      "✅ GLP - CashFlow_Quarter 데이터 삽입 완료\n",
      "✅ GLPI - IncomeStatement_Quarter 데이터 삽입 완료\n",
      "✅ GLPI - BalanceSheet_Quarter 데이터 삽입 완료\n"
     ]
    },
    {
     "name": "stderr",
     "output_type": "stream",
     "text": [
      "Processing Companies:  38%|███▊      | 1613/4204 [1:17:34<2:04:58,  2.89s/it]"
     ]
    },
    {
     "name": "stdout",
     "output_type": "stream",
     "text": [
      "✅ GLPI - CashFlow_Quarter 데이터 삽입 완료\n",
      "✅ GLRE - IncomeStatement_Quarter 데이터 삽입 완료\n",
      "✅ GLRE - BalanceSheet_Quarter 데이터 삽입 완료\n"
     ]
    },
    {
     "name": "stderr",
     "output_type": "stream",
     "text": [
      "Processing Companies:  38%|███▊      | 1614/4204 [1:17:37<2:02:30,  2.84s/it]"
     ]
    },
    {
     "name": "stdout",
     "output_type": "stream",
     "text": [
      "✅ GLRE - CashFlow_Quarter 데이터 삽입 완료\n",
      "✅ GLSI - IncomeStatement_Quarter 데이터 삽입 완료\n",
      "✅ GLSI - BalanceSheet_Quarter 데이터 삽입 완료\n"
     ]
    },
    {
     "name": "stderr",
     "output_type": "stream",
     "text": [
      "Processing Companies:  38%|███▊      | 1615/4204 [1:17:40<2:01:00,  2.80s/it]"
     ]
    },
    {
     "name": "stdout",
     "output_type": "stream",
     "text": [
      "✅ GLSI - CashFlow_Quarter 데이터 삽입 완료\n",
      "✅ GLTO - IncomeStatement_Quarter 데이터 삽입 완료\n",
      "✅ GLTO - BalanceSheet_Quarter 데이터 삽입 완료\n"
     ]
    },
    {
     "name": "stderr",
     "output_type": "stream",
     "text": [
      "Processing Companies:  38%|███▊      | 1616/4204 [1:17:43<2:02:16,  2.83s/it]"
     ]
    },
    {
     "name": "stdout",
     "output_type": "stream",
     "text": [
      "✅ GLTO - CashFlow_Quarter 데이터 삽입 완료\n",
      "✅ GM - IncomeStatement_Quarter 데이터 삽입 완료\n",
      "✅ GM - BalanceSheet_Quarter 데이터 삽입 완료\n"
     ]
    },
    {
     "name": "stderr",
     "output_type": "stream",
     "text": [
      "Processing Companies:  38%|███▊      | 1617/4204 [1:17:45<2:02:24,  2.84s/it]"
     ]
    },
    {
     "name": "stdout",
     "output_type": "stream",
     "text": [
      "✅ GM - CashFlow_Quarter 데이터 삽입 완료\n"
     ]
    },
    {
     "name": "stderr",
     "output_type": "stream",
     "text": [
      "$GLYC: possibly delisted; no price data found  (period=5d)\n"
     ]
    },
    {
     "name": "stdout",
     "output_type": "stream",
     "text": [
      "✅ GLYC - IncomeStatement_Quarter 데이터 삽입 완료\n",
      "✅ GLYC - BalanceSheet_Quarter 데이터 삽입 완료\n"
     ]
    },
    {
     "name": "stderr",
     "output_type": "stream",
     "text": [
      "Processing Companies:  38%|███▊      | 1618/4204 [1:17:48<2:03:23,  2.86s/it]"
     ]
    },
    {
     "name": "stdout",
     "output_type": "stream",
     "text": [
      "✅ GLYC - CashFlow_Quarter 데이터 삽입 완료\n",
      "✅ GMAB - IncomeStatement_Quarter 데이터 삽입 완료\n",
      "✅ GMAB - BalanceSheet_Quarter 데이터 삽입 완료\n"
     ]
    },
    {
     "name": "stderr",
     "output_type": "stream",
     "text": [
      "Processing Companies:  39%|███▊      | 1619/4204 [1:17:51<2:04:59,  2.90s/it]"
     ]
    },
    {
     "name": "stdout",
     "output_type": "stream",
     "text": [
      "✅ GMAB - CashFlow_Quarter 데이터 삽입 완료\n",
      "✅ GME - IncomeStatement_Quarter 데이터 삽입 완료\n",
      "✅ GME - BalanceSheet_Quarter 데이터 삽입 완료\n"
     ]
    },
    {
     "name": "stderr",
     "output_type": "stream",
     "text": [
      "Processing Companies:  39%|███▊      | 1620/4204 [1:17:54<2:05:25,  2.91s/it]"
     ]
    },
    {
     "name": "stdout",
     "output_type": "stream",
     "text": [
      "✅ GME - CashFlow_Quarter 데이터 삽입 완료\n",
      "✅ GMGI - IncomeStatement_Quarter 데이터 삽입 완료\n",
      "✅ GMGI - BalanceSheet_Quarter 데이터 삽입 완료\n"
     ]
    },
    {
     "name": "stderr",
     "output_type": "stream",
     "text": [
      "Processing Companies:  39%|███▊      | 1621/4204 [1:17:57<2:05:22,  2.91s/it]"
     ]
    },
    {
     "name": "stdout",
     "output_type": "stream",
     "text": [
      "✅ GMGI - CashFlow_Quarter 데이터 삽입 완료\n",
      "✅ GMRE - IncomeStatement_Quarter 데이터 삽입 완료\n",
      "✅ GMRE - BalanceSheet_Quarter 데이터 삽입 완료\n"
     ]
    },
    {
     "name": "stderr",
     "output_type": "stream",
     "text": [
      "Processing Companies:  39%|███▊      | 1622/4204 [1:18:00<2:04:33,  2.89s/it]"
     ]
    },
    {
     "name": "stdout",
     "output_type": "stream",
     "text": [
      "✅ GMRE - CashFlow_Quarter 데이터 삽입 완료\n",
      "✅ GMS - IncomeStatement_Quarter 데이터 삽입 완료\n",
      "✅ GMS - BalanceSheet_Quarter 데이터 삽입 완료\n"
     ]
    },
    {
     "name": "stderr",
     "output_type": "stream",
     "text": [
      "Processing Companies:  39%|███▊      | 1623/4204 [1:18:03<2:02:36,  2.85s/it]"
     ]
    },
    {
     "name": "stdout",
     "output_type": "stream",
     "text": [
      "✅ GMS - CashFlow_Quarter 데이터 삽입 완료\n",
      "✅ GNE - IncomeStatement_Quarter 데이터 삽입 완료\n",
      "✅ GNE - BalanceSheet_Quarter 데이터 삽입 완료\n"
     ]
    },
    {
     "name": "stderr",
     "output_type": "stream",
     "text": [
      "Processing Companies:  39%|███▊      | 1624/4204 [1:18:06<2:05:01,  2.91s/it]"
     ]
    },
    {
     "name": "stdout",
     "output_type": "stream",
     "text": [
      "✅ GNE - CashFlow_Quarter 데이터 삽입 완료\n",
      "✅ GNK - IncomeStatement_Quarter 데이터 삽입 완료\n",
      "✅ GNK - BalanceSheet_Quarter 데이터 삽입 완료\n"
     ]
    },
    {
     "name": "stderr",
     "output_type": "stream",
     "text": [
      "Processing Companies:  39%|███▊      | 1625/4204 [1:18:09<2:03:00,  2.86s/it]"
     ]
    },
    {
     "name": "stdout",
     "output_type": "stream",
     "text": [
      "✅ GNK - CashFlow_Quarter 데이터 삽입 완료\n",
      "✅ GNFT - IncomeStatement_Quarter 데이터 삽입 완료\n",
      "✅ GNFT - BalanceSheet_Quarter 데이터 삽입 완료\n"
     ]
    },
    {
     "name": "stderr",
     "output_type": "stream",
     "text": [
      "Processing Companies:  39%|███▊      | 1626/4204 [1:18:11<2:01:50,  2.84s/it]"
     ]
    },
    {
     "name": "stdout",
     "output_type": "stream",
     "text": [
      "❌ CashFlow_Quarter 데이터 없음\n",
      "✅ GNL - IncomeStatement_Quarter 데이터 삽입 완료\n",
      "✅ GNL - BalanceSheet_Quarter 데이터 삽입 완료\n"
     ]
    },
    {
     "name": "stderr",
     "output_type": "stream",
     "text": [
      "Processing Companies:  39%|███▊      | 1627/4204 [1:18:14<2:01:13,  2.82s/it]"
     ]
    },
    {
     "name": "stdout",
     "output_type": "stream",
     "text": [
      "✅ GNL - CashFlow_Quarter 데이터 삽입 완료\n",
      "✅ GNLN - IncomeStatement_Quarter 데이터 삽입 완료\n",
      "✅ GNLN - BalanceSheet_Quarter 데이터 삽입 완료\n"
     ]
    },
    {
     "name": "stderr",
     "output_type": "stream",
     "text": [
      "Processing Companies:  39%|███▊      | 1628/4204 [1:18:17<2:00:48,  2.81s/it]"
     ]
    },
    {
     "name": "stdout",
     "output_type": "stream",
     "text": [
      "✅ GNLN - CashFlow_Quarter 데이터 삽입 완료\n",
      "✅ GNPX - IncomeStatement_Quarter 데이터 삽입 완료\n",
      "✅ GNPX - BalanceSheet_Quarter 데이터 삽입 완료\n"
     ]
    },
    {
     "name": "stderr",
     "output_type": "stream",
     "text": [
      "Processing Companies:  39%|███▊      | 1629/4204 [1:18:20<1:59:23,  2.78s/it]"
     ]
    },
    {
     "name": "stdout",
     "output_type": "stream",
     "text": [
      "✅ GNPX - CashFlow_Quarter 데이터 삽입 완료\n",
      "✅ GNRC - IncomeStatement_Quarter 데이터 삽입 완료\n",
      "✅ GNRC - BalanceSheet_Quarter 데이터 삽입 완료\n"
     ]
    },
    {
     "name": "stderr",
     "output_type": "stream",
     "text": [
      "Processing Companies:  39%|███▉      | 1630/4204 [1:18:23<2:05:10,  2.92s/it]"
     ]
    },
    {
     "name": "stdout",
     "output_type": "stream",
     "text": [
      "✅ GNRC - CashFlow_Quarter 데이터 삽입 완료\n",
      "❌ IncomeStatement_Quarter 데이터 없음\n",
      "✅ GNS - BalanceSheet_Quarter 데이터 삽입 완료\n"
     ]
    },
    {
     "name": "stderr",
     "output_type": "stream",
     "text": [
      "Processing Companies:  39%|███▉      | 1631/4204 [1:18:26<2:02:27,  2.86s/it]"
     ]
    },
    {
     "name": "stdout",
     "output_type": "stream",
     "text": [
      "❌ CashFlow_Quarter 데이터 없음\n",
      "✅ GNTX - IncomeStatement_Quarter 데이터 삽입 완료\n",
      "✅ GNTX - BalanceSheet_Quarter 데이터 삽입 완료\n"
     ]
    },
    {
     "name": "stderr",
     "output_type": "stream",
     "text": [
      "Processing Companies:  39%|███▉      | 1632/4204 [1:18:28<2:02:46,  2.86s/it]"
     ]
    },
    {
     "name": "stdout",
     "output_type": "stream",
     "text": [
      "✅ GNTX - CashFlow_Quarter 데이터 삽입 완료\n",
      "✅ GNTY - IncomeStatement_Quarter 데이터 삽입 완료\n",
      "✅ GNTY - BalanceSheet_Quarter 데이터 삽입 완료\n"
     ]
    },
    {
     "name": "stderr",
     "output_type": "stream",
     "text": [
      "Processing Companies:  39%|███▉      | 1633/4204 [1:18:31<2:01:52,  2.84s/it]"
     ]
    },
    {
     "name": "stdout",
     "output_type": "stream",
     "text": [
      "✅ GNTY - CashFlow_Quarter 데이터 삽입 완료\n",
      "✅ GNW - IncomeStatement_Quarter 데이터 삽입 완료\n",
      "✅ GNW - BalanceSheet_Quarter 데이터 삽입 완료\n"
     ]
    },
    {
     "name": "stderr",
     "output_type": "stream",
     "text": [
      "Processing Companies:  39%|███▉      | 1634/4204 [1:18:34<2:00:29,  2.81s/it]"
     ]
    },
    {
     "name": "stdout",
     "output_type": "stream",
     "text": [
      "✅ GNW - CashFlow_Quarter 데이터 삽입 완료\n",
      "❌ IncomeStatement_Quarter 데이터 없음\n",
      "✅ GNTA - BalanceSheet_Quarter 데이터 삽입 완료\n"
     ]
    },
    {
     "name": "stderr",
     "output_type": "stream",
     "text": [
      "Processing Companies:  39%|███▉      | 1635/4204 [1:18:37<2:00:43,  2.82s/it]"
     ]
    },
    {
     "name": "stdout",
     "output_type": "stream",
     "text": [
      "❌ CashFlow_Quarter 데이터 없음\n",
      "✅ GO - IncomeStatement_Quarter 데이터 삽입 완료\n",
      "✅ GO - BalanceSheet_Quarter 데이터 삽입 완료\n"
     ]
    },
    {
     "name": "stderr",
     "output_type": "stream",
     "text": [
      "Processing Companies:  39%|███▉      | 1636/4204 [1:18:40<2:04:37,  2.91s/it]"
     ]
    },
    {
     "name": "stdout",
     "output_type": "stream",
     "text": [
      "✅ GO - CashFlow_Quarter 데이터 삽입 완료\n",
      "✅ GOGL - IncomeStatement_Quarter 데이터 삽입 완료\n",
      "✅ GOGL - BalanceSheet_Quarter 데이터 삽입 완료\n"
     ]
    },
    {
     "name": "stderr",
     "output_type": "stream",
     "text": [
      "Processing Companies:  39%|███▉      | 1637/4204 [1:18:43<2:04:21,  2.91s/it]"
     ]
    },
    {
     "name": "stdout",
     "output_type": "stream",
     "text": [
      "✅ GOGL - CashFlow_Quarter 데이터 삽입 완료\n",
      "✅ GOCO - IncomeStatement_Quarter 데이터 삽입 완료\n",
      "✅ GOCO - BalanceSheet_Quarter 데이터 삽입 완료\n"
     ]
    },
    {
     "name": "stderr",
     "output_type": "stream",
     "text": [
      "Processing Companies:  39%|███▉      | 1638/4204 [1:18:46<2:03:38,  2.89s/it]"
     ]
    },
    {
     "name": "stdout",
     "output_type": "stream",
     "text": [
      "✅ GOCO - CashFlow_Quarter 데이터 삽입 완료\n",
      "✅ GOGO - IncomeStatement_Quarter 데이터 삽입 완료\n",
      "✅ GOGO - BalanceSheet_Quarter 데이터 삽입 완료\n"
     ]
    },
    {
     "name": "stderr",
     "output_type": "stream",
     "text": [
      "Processing Companies:  39%|███▉      | 1639/4204 [1:18:49<2:03:20,  2.89s/it]"
     ]
    },
    {
     "name": "stdout",
     "output_type": "stream",
     "text": [
      "✅ GOGO - CashFlow_Quarter 데이터 삽입 완료\n",
      "✅ GOOD - IncomeStatement_Quarter 데이터 삽입 완료\n",
      "✅ GOOD - BalanceSheet_Quarter 데이터 삽입 완료\n"
     ]
    },
    {
     "name": "stderr",
     "output_type": "stream",
     "text": [
      "Processing Companies:  39%|███▉      | 1640/4204 [1:18:51<2:03:23,  2.89s/it]"
     ]
    },
    {
     "name": "stdout",
     "output_type": "stream",
     "text": [
      "✅ GOOD - CashFlow_Quarter 데이터 삽입 완료\n",
      "✅ GOODN - IncomeStatement_Quarter 데이터 삽입 완료\n",
      "✅ GOODN - BalanceSheet_Quarter 데이터 삽입 완료\n"
     ]
    },
    {
     "name": "stderr",
     "output_type": "stream",
     "text": [
      "Processing Companies:  39%|███▉      | 1641/4204 [1:18:54<2:02:41,  2.87s/it]"
     ]
    },
    {
     "name": "stdout",
     "output_type": "stream",
     "text": [
      "✅ GOODN - CashFlow_Quarter 데이터 삽입 완료\n",
      "✅ GOLF - IncomeStatement_Quarter 데이터 삽입 완료\n",
      "✅ GOLF - BalanceSheet_Quarter 데이터 삽입 완료\n"
     ]
    },
    {
     "name": "stderr",
     "output_type": "stream",
     "text": [
      "Processing Companies:  39%|███▉      | 1642/4204 [1:18:57<2:01:50,  2.85s/it]"
     ]
    },
    {
     "name": "stdout",
     "output_type": "stream",
     "text": [
      "✅ GOLF - CashFlow_Quarter 데이터 삽입 완료\n",
      "✅ GOOS - IncomeStatement_Quarter 데이터 삽입 완료\n",
      "✅ GOOS - BalanceSheet_Quarter 데이터 삽입 완료\n"
     ]
    },
    {
     "name": "stderr",
     "output_type": "stream",
     "text": [
      "Processing Companies:  39%|███▉      | 1643/4204 [1:19:00<2:01:46,  2.85s/it]"
     ]
    },
    {
     "name": "stdout",
     "output_type": "stream",
     "text": [
      "✅ GOOS - CashFlow_Quarter 데이터 삽입 완료\n",
      "✅ GORO - IncomeStatement_Quarter 데이터 삽입 완료\n",
      "✅ GORO - BalanceSheet_Quarter 데이터 삽입 완료\n"
     ]
    },
    {
     "name": "stderr",
     "output_type": "stream",
     "text": [
      "Processing Companies:  39%|███▉      | 1644/4204 [1:19:03<2:01:01,  2.84s/it]"
     ]
    },
    {
     "name": "stdout",
     "output_type": "stream",
     "text": [
      "✅ GORO - CashFlow_Quarter 데이터 삽입 완료\n",
      "✅ GORV - IncomeStatement_Quarter 데이터 삽입 완료\n",
      "✅ GORV - BalanceSheet_Quarter 데이터 삽입 완료\n"
     ]
    },
    {
     "name": "stderr",
     "output_type": "stream",
     "text": [
      "Processing Companies:  39%|███▉      | 1645/4204 [1:19:06<2:01:00,  2.84s/it]"
     ]
    },
    {
     "name": "stdout",
     "output_type": "stream",
     "text": [
      "✅ GORV - CashFlow_Quarter 데이터 삽입 완료\n",
      "✅ GOSS - IncomeStatement_Quarter 데이터 삽입 완료\n",
      "✅ GOSS - BalanceSheet_Quarter 데이터 삽입 완료\n"
     ]
    },
    {
     "name": "stderr",
     "output_type": "stream",
     "text": [
      "Processing Companies:  39%|███▉      | 1646/4204 [1:19:08<2:00:36,  2.83s/it]"
     ]
    },
    {
     "name": "stdout",
     "output_type": "stream",
     "text": [
      "✅ GOSS - CashFlow_Quarter 데이터 삽입 완료\n",
      "✅ GOTU - IncomeStatement_Quarter 데이터 삽입 완료\n",
      "✅ GOTU - BalanceSheet_Quarter 데이터 삽입 완료\n"
     ]
    },
    {
     "name": "stderr",
     "output_type": "stream",
     "text": [
      "Processing Companies:  39%|███▉      | 1647/4204 [1:19:11<1:59:53,  2.81s/it]"
     ]
    },
    {
     "name": "stdout",
     "output_type": "stream",
     "text": [
      "❌ CashFlow_Quarter 데이터 없음\n",
      "✅ GP - IncomeStatement_Quarter 데이터 삽입 완료\n",
      "✅ GP - BalanceSheet_Quarter 데이터 삽입 완료\n"
     ]
    },
    {
     "name": "stderr",
     "output_type": "stream",
     "text": [
      "Processing Companies:  39%|███▉      | 1648/4204 [1:19:14<1:59:06,  2.80s/it]"
     ]
    },
    {
     "name": "stdout",
     "output_type": "stream",
     "text": [
      "✅ GP - CashFlow_Quarter 데이터 삽입 완료\n",
      "✅ GOVX - IncomeStatement_Quarter 데이터 삽입 완료\n",
      "✅ GOVX - BalanceSheet_Quarter 데이터 삽입 완료\n"
     ]
    },
    {
     "name": "stderr",
     "output_type": "stream",
     "text": [
      "Processing Companies:  39%|███▉      | 1649/4204 [1:19:17<1:59:27,  2.81s/it]"
     ]
    },
    {
     "name": "stdout",
     "output_type": "stream",
     "text": [
      "✅ GOVX - CashFlow_Quarter 데이터 삽입 완료\n",
      "✅ GPC - IncomeStatement_Quarter 데이터 삽입 완료\n",
      "✅ GPC - BalanceSheet_Quarter 데이터 삽입 완료\n"
     ]
    },
    {
     "name": "stderr",
     "output_type": "stream",
     "text": [
      "Processing Companies:  39%|███▉      | 1650/4204 [1:19:20<2:08:03,  3.01s/it]"
     ]
    },
    {
     "name": "stdout",
     "output_type": "stream",
     "text": [
      "✅ GPC - CashFlow_Quarter 데이터 삽입 완료\n",
      "✅ GPMT - IncomeStatement_Quarter 데이터 삽입 완료\n",
      "✅ GPMT - BalanceSheet_Quarter 데이터 삽입 완료\n"
     ]
    },
    {
     "name": "stderr",
     "output_type": "stream",
     "text": [
      "Processing Companies:  39%|███▉      | 1651/4204 [1:19:23<2:06:37,  2.98s/it]"
     ]
    },
    {
     "name": "stdout",
     "output_type": "stream",
     "text": [
      "✅ GPMT - CashFlow_Quarter 데이터 삽입 완료\n",
      "✅ GPI - IncomeStatement_Quarter 데이터 삽입 완료\n",
      "✅ GPI - BalanceSheet_Quarter 데이터 삽입 완료\n"
     ]
    },
    {
     "name": "stderr",
     "output_type": "stream",
     "text": [
      "Processing Companies:  39%|███▉      | 1652/4204 [1:19:26<2:05:37,  2.95s/it]"
     ]
    },
    {
     "name": "stdout",
     "output_type": "stream",
     "text": [
      "✅ GPI - CashFlow_Quarter 데이터 삽입 완료\n",
      "✅ GPK - IncomeStatement_Quarter 데이터 삽입 완료\n",
      "✅ GPK - BalanceSheet_Quarter 데이터 삽입 완료\n"
     ]
    },
    {
     "name": "stderr",
     "output_type": "stream",
     "text": [
      "Processing Companies:  39%|███▉      | 1653/4204 [1:19:29<2:06:09,  2.97s/it]"
     ]
    },
    {
     "name": "stdout",
     "output_type": "stream",
     "text": [
      "✅ GPK - CashFlow_Quarter 데이터 삽입 완료\n",
      "✅ GPN - IncomeStatement_Quarter 데이터 삽입 완료\n",
      "✅ GPN - BalanceSheet_Quarter 데이터 삽입 완료\n"
     ]
    },
    {
     "name": "stderr",
     "output_type": "stream",
     "text": [
      "Processing Companies:  39%|███▉      | 1654/4204 [1:19:32<2:04:30,  2.93s/it]"
     ]
    },
    {
     "name": "stdout",
     "output_type": "stream",
     "text": [
      "✅ GPN - CashFlow_Quarter 데이터 삽입 완료\n",
      "✅ GPRE - IncomeStatement_Quarter 데이터 삽입 완료\n",
      "✅ GPRE - BalanceSheet_Quarter 데이터 삽입 완료\n"
     ]
    },
    {
     "name": "stderr",
     "output_type": "stream",
     "text": [
      "Processing Companies:  39%|███▉      | 1655/4204 [1:19:35<2:04:09,  2.92s/it]"
     ]
    },
    {
     "name": "stdout",
     "output_type": "stream",
     "text": [
      "✅ GPRE - CashFlow_Quarter 데이터 삽입 완료\n",
      "✅ GPOR - IncomeStatement_Quarter 데이터 삽입 완료\n",
      "✅ GPOR - BalanceSheet_Quarter 데이터 삽입 완료\n"
     ]
    },
    {
     "name": "stderr",
     "output_type": "stream",
     "text": [
      "Processing Companies:  39%|███▉      | 1656/4204 [1:19:38<2:03:51,  2.92s/it]"
     ]
    },
    {
     "name": "stdout",
     "output_type": "stream",
     "text": [
      "✅ GPOR - CashFlow_Quarter 데이터 삽입 완료\n",
      "✅ GPRO - IncomeStatement_Quarter 데이터 삽입 완료\n",
      "✅ GPRO - BalanceSheet_Quarter 데이터 삽입 완료\n"
     ]
    },
    {
     "name": "stderr",
     "output_type": "stream",
     "text": [
      "Processing Companies:  39%|███▉      | 1657/4204 [1:19:41<2:02:59,  2.90s/it]"
     ]
    },
    {
     "name": "stdout",
     "output_type": "stream",
     "text": [
      "✅ GPRO - CashFlow_Quarter 데이터 삽입 완료\n",
      "✅ GRAB - IncomeStatement_Quarter 데이터 삽입 완료\n",
      "✅ GRAB - BalanceSheet_Quarter 데이터 삽입 완료\n"
     ]
    },
    {
     "name": "stderr",
     "output_type": "stream",
     "text": [
      "Processing Companies:  39%|███▉      | 1658/4204 [1:19:43<2:01:45,  2.87s/it]"
     ]
    },
    {
     "name": "stdout",
     "output_type": "stream",
     "text": [
      "✅ GRAB - CashFlow_Quarter 데이터 삽입 완료\n",
      "✅ GRBK - IncomeStatement_Quarter 데이터 삽입 완료\n",
      "✅ GRBK - BalanceSheet_Quarter 데이터 삽입 완료\n"
     ]
    },
    {
     "name": "stderr",
     "output_type": "stream",
     "text": [
      "Processing Companies:  39%|███▉      | 1659/4204 [1:19:46<2:00:54,  2.85s/it]"
     ]
    },
    {
     "name": "stdout",
     "output_type": "stream",
     "text": [
      "✅ GRBK - CashFlow_Quarter 데이터 삽입 완료\n",
      "✅ GRCE - IncomeStatement_Quarter 데이터 삽입 완료\n",
      "✅ GRCE - BalanceSheet_Quarter 데이터 삽입 완료\n"
     ]
    },
    {
     "name": "stderr",
     "output_type": "stream",
     "text": [
      "Processing Companies:  39%|███▉      | 1660/4204 [1:19:49<2:00:43,  2.85s/it]"
     ]
    },
    {
     "name": "stdout",
     "output_type": "stream",
     "text": [
      "✅ GRCE - CashFlow_Quarter 데이터 삽입 완료\n",
      "✅ GRC - IncomeStatement_Quarter 데이터 삽입 완료\n",
      "✅ GRC - BalanceSheet_Quarter 데이터 삽입 완료\n"
     ]
    },
    {
     "name": "stderr",
     "output_type": "stream",
     "text": [
      "Processing Companies:  40%|███▉      | 1661/4204 [1:19:52<1:59:31,  2.82s/it]"
     ]
    },
    {
     "name": "stdout",
     "output_type": "stream",
     "text": [
      "✅ GRC - CashFlow_Quarter 데이터 삽입 완료\n",
      "✅ GRMN - IncomeStatement_Quarter 데이터 삽입 완료\n",
      "✅ GRMN - BalanceSheet_Quarter 데이터 삽입 완료\n"
     ]
    },
    {
     "name": "stderr",
     "output_type": "stream",
     "text": [
      "Processing Companies:  40%|███▉      | 1662/4204 [1:19:55<1:59:47,  2.83s/it]"
     ]
    },
    {
     "name": "stdout",
     "output_type": "stream",
     "text": [
      "✅ GRMN - CashFlow_Quarter 데이터 삽입 완료\n",
      "✅ GRFS - IncomeStatement_Quarter 데이터 삽입 완료\n",
      "✅ GRFS - BalanceSheet_Quarter 데이터 삽입 완료\n"
     ]
    },
    {
     "name": "stderr",
     "output_type": "stream",
     "text": [
      "Processing Companies:  40%|███▉      | 1663/4204 [1:19:57<1:58:39,  2.80s/it]"
     ]
    },
    {
     "name": "stdout",
     "output_type": "stream",
     "text": [
      "✅ GRFS - CashFlow_Quarter 데이터 삽입 완료\n",
      "✅ GRI - IncomeStatement_Quarter 데이터 삽입 완료\n",
      "✅ GRI - BalanceSheet_Quarter 데이터 삽입 완료\n"
     ]
    },
    {
     "name": "stderr",
     "output_type": "stream",
     "text": [
      "Processing Companies:  40%|███▉      | 1664/4204 [1:20:00<1:57:24,  2.77s/it]"
     ]
    },
    {
     "name": "stdout",
     "output_type": "stream",
     "text": [
      "✅ GRI - CashFlow_Quarter 데이터 삽입 완료\n",
      "✅ GRND - IncomeStatement_Quarter 데이터 삽입 완료\n",
      "✅ GRND - BalanceSheet_Quarter 데이터 삽입 완료\n"
     ]
    },
    {
     "name": "stderr",
     "output_type": "stream",
     "text": [
      "Processing Companies:  40%|███▉      | 1665/4204 [1:20:03<2:00:05,  2.84s/it]"
     ]
    },
    {
     "name": "stdout",
     "output_type": "stream",
     "text": [
      "✅ GRND - CashFlow_Quarter 데이터 삽입 완료\n",
      "✅ GRNT - IncomeStatement_Quarter 데이터 삽입 완료\n",
      "✅ GRNT - BalanceSheet_Quarter 데이터 삽입 완료\n"
     ]
    },
    {
     "name": "stderr",
     "output_type": "stream",
     "text": [
      "Processing Companies:  40%|███▉      | 1666/4204 [1:20:06<1:59:07,  2.82s/it]"
     ]
    },
    {
     "name": "stdout",
     "output_type": "stream",
     "text": [
      "✅ GRNT - CashFlow_Quarter 데이터 삽입 완료\n",
      "✅ GROV - IncomeStatement_Quarter 데이터 삽입 완료\n",
      "✅ GROV - BalanceSheet_Quarter 데이터 삽입 완료\n"
     ]
    },
    {
     "name": "stderr",
     "output_type": "stream",
     "text": [
      "Processing Companies:  40%|███▉      | 1667/4204 [1:20:09<1:58:55,  2.81s/it]"
     ]
    },
    {
     "name": "stdout",
     "output_type": "stream",
     "text": [
      "✅ GROV - CashFlow_Quarter 데이터 삽입 완료\n",
      "✅ GROY - IncomeStatement_Quarter 데이터 삽입 완료\n",
      "✅ GROY - BalanceSheet_Quarter 데이터 삽입 완료\n"
     ]
    },
    {
     "name": "stderr",
     "output_type": "stream",
     "text": [
      "Processing Companies:  40%|███▉      | 1668/4204 [1:20:11<1:58:03,  2.79s/it]"
     ]
    },
    {
     "name": "stdout",
     "output_type": "stream",
     "text": [
      "✅ GROY - CashFlow_Quarter 데이터 삽입 완료\n",
      "✅ GRVY - IncomeStatement_Quarter 데이터 삽입 완료\n",
      "✅ GRVY - BalanceSheet_Quarter 데이터 삽입 완료\n"
     ]
    },
    {
     "name": "stderr",
     "output_type": "stream",
     "text": [
      "Processing Companies:  40%|███▉      | 1669/4204 [1:20:14<1:58:22,  2.80s/it]"
     ]
    },
    {
     "name": "stdout",
     "output_type": "stream",
     "text": [
      "❌ CashFlow_Quarter 데이터 없음\n",
      "✅ GRRR - IncomeStatement_Quarter 데이터 삽입 완료\n",
      "✅ GRRR - BalanceSheet_Quarter 데이터 삽입 완료\n"
     ]
    },
    {
     "name": "stderr",
     "output_type": "stream",
     "text": [
      "Processing Companies:  40%|███▉      | 1670/4204 [1:20:17<2:02:29,  2.90s/it]"
     ]
    },
    {
     "name": "stdout",
     "output_type": "stream",
     "text": [
      "✅ GRRR - CashFlow_Quarter 데이터 삽입 완료\n",
      "✅ GSAT - IncomeStatement_Quarter 데이터 삽입 완료\n",
      "✅ GSAT - BalanceSheet_Quarter 데이터 삽입 완료\n"
     ]
    },
    {
     "name": "stderr",
     "output_type": "stream",
     "text": [
      "Processing Companies:  40%|███▉      | 1671/4204 [1:20:20<2:00:29,  2.85s/it]"
     ]
    },
    {
     "name": "stdout",
     "output_type": "stream",
     "text": [
      "✅ GSAT - CashFlow_Quarter 데이터 삽입 완료\n",
      "✅ GSBC - IncomeStatement_Quarter 데이터 삽입 완료\n",
      "✅ GSBC - BalanceSheet_Quarter 데이터 삽입 완료\n"
     ]
    },
    {
     "name": "stderr",
     "output_type": "stream",
     "text": [
      "Processing Companies:  40%|███▉      | 1672/4204 [1:20:23<1:59:38,  2.84s/it]"
     ]
    },
    {
     "name": "stdout",
     "output_type": "stream",
     "text": [
      "✅ GSBC - CashFlow_Quarter 데이터 삽입 완료\n",
      "✅ GSHD - IncomeStatement_Quarter 데이터 삽입 완료\n",
      "✅ GSHD - BalanceSheet_Quarter 데이터 삽입 완료\n"
     ]
    },
    {
     "name": "stderr",
     "output_type": "stream",
     "text": [
      "Processing Companies:  40%|███▉      | 1673/4204 [1:20:26<1:58:39,  2.81s/it]"
     ]
    },
    {
     "name": "stdout",
     "output_type": "stream",
     "text": [
      "✅ GSHD - CashFlow_Quarter 데이터 삽입 완료\n",
      "✅ GSK - IncomeStatement_Quarter 데이터 삽입 완료\n",
      "✅ GSK - BalanceSheet_Quarter 데이터 삽입 완료\n"
     ]
    },
    {
     "name": "stderr",
     "output_type": "stream",
     "text": [
      "Processing Companies:  40%|███▉      | 1674/4204 [1:20:28<1:59:33,  2.84s/it]"
     ]
    },
    {
     "name": "stdout",
     "output_type": "stream",
     "text": [
      "✅ GSK - CashFlow_Quarter 데이터 삽입 완료\n",
      "✅ GSM - IncomeStatement_Quarter 데이터 삽입 완료\n",
      "✅ GSM - BalanceSheet_Quarter 데이터 삽입 완료\n"
     ]
    },
    {
     "name": "stderr",
     "output_type": "stream",
     "text": [
      "Processing Companies:  40%|███▉      | 1675/4204 [1:20:31<1:59:55,  2.85s/it]"
     ]
    },
    {
     "name": "stdout",
     "output_type": "stream",
     "text": [
      "✅ GSM - CashFlow_Quarter 데이터 삽입 완료\n",
      "✅ GSL - IncomeStatement_Quarter 데이터 삽입 완료\n",
      "✅ GSL - BalanceSheet_Quarter 데이터 삽입 완료\n"
     ]
    },
    {
     "name": "stderr",
     "output_type": "stream",
     "text": [
      "Processing Companies:  40%|███▉      | 1676/4204 [1:20:34<2:01:37,  2.89s/it]"
     ]
    },
    {
     "name": "stdout",
     "output_type": "stream",
     "text": [
      "✅ GSL - CashFlow_Quarter 데이터 삽입 완료\n",
      "✅ GT - IncomeStatement_Quarter 데이터 삽입 완료\n",
      "✅ GT - BalanceSheet_Quarter 데이터 삽입 완료\n"
     ]
    },
    {
     "name": "stderr",
     "output_type": "stream",
     "text": [
      "Processing Companies:  40%|███▉      | 1677/4204 [1:20:37<2:01:42,  2.89s/it]"
     ]
    },
    {
     "name": "stdout",
     "output_type": "stream",
     "text": [
      "✅ GT - CashFlow_Quarter 데이터 삽입 완료\n",
      "❌ IncomeStatement_Quarter 데이터 없음\n",
      "✅ GSUN - BalanceSheet_Quarter 데이터 삽입 완료\n"
     ]
    },
    {
     "name": "stderr",
     "output_type": "stream",
     "text": [
      "Processing Companies:  40%|███▉      | 1678/4204 [1:20:40<1:59:03,  2.83s/it]"
     ]
    },
    {
     "name": "stdout",
     "output_type": "stream",
     "text": [
      "❌ CashFlow_Quarter 데이터 없음\n",
      "✅ GTBP - IncomeStatement_Quarter 데이터 삽입 완료\n",
      "✅ GTBP - BalanceSheet_Quarter 데이터 삽입 완료\n"
     ]
    },
    {
     "name": "stderr",
     "output_type": "stream",
     "text": [
      "Processing Companies:  40%|███▉      | 1679/4204 [1:20:43<1:58:16,  2.81s/it]"
     ]
    },
    {
     "name": "stdout",
     "output_type": "stream",
     "text": [
      "✅ GTBP - CashFlow_Quarter 데이터 삽입 완료\n",
      "✅ GTEC - IncomeStatement_Quarter 데이터 삽입 완료\n",
      "✅ GTEC - BalanceSheet_Quarter 데이터 삽입 완료\n"
     ]
    },
    {
     "name": "stderr",
     "output_type": "stream",
     "text": [
      "Processing Companies:  40%|███▉      | 1680/4204 [1:20:46<1:59:22,  2.84s/it]"
     ]
    },
    {
     "name": "stdout",
     "output_type": "stream",
     "text": [
      "✅ GTEC - CashFlow_Quarter 데이터 삽입 완료\n",
      "✅ GTES - IncomeStatement_Quarter 데이터 삽입 완료\n",
      "✅ GTES - BalanceSheet_Quarter 데이터 삽입 완료\n"
     ]
    },
    {
     "name": "stderr",
     "output_type": "stream",
     "text": [
      "Processing Companies:  40%|███▉      | 1681/4204 [1:20:49<2:00:38,  2.87s/it]"
     ]
    },
    {
     "name": "stdout",
     "output_type": "stream",
     "text": [
      "✅ GTES - CashFlow_Quarter 데이터 삽입 완료\n",
      "✅ GTE - IncomeStatement_Quarter 데이터 삽입 완료\n",
      "✅ GTE - BalanceSheet_Quarter 데이터 삽입 완료\n"
     ]
    },
    {
     "name": "stderr",
     "output_type": "stream",
     "text": [
      "Processing Companies:  40%|████      | 1682/4204 [1:20:51<1:59:48,  2.85s/it]"
     ]
    },
    {
     "name": "stdout",
     "output_type": "stream",
     "text": [
      "✅ GTE - CashFlow_Quarter 데이터 삽입 완료\n",
      "✅ GTLB - IncomeStatement_Quarter 데이터 삽입 완료\n",
      "✅ GTLB - BalanceSheet_Quarter 데이터 삽입 완료\n"
     ]
    },
    {
     "name": "stderr",
     "output_type": "stream",
     "text": [
      "Processing Companies:  40%|████      | 1683/4204 [1:20:54<1:59:44,  2.85s/it]"
     ]
    },
    {
     "name": "stdout",
     "output_type": "stream",
     "text": [
      "✅ GTLB - CashFlow_Quarter 데이터 삽입 완료\n",
      "✅ GTLS - IncomeStatement_Quarter 데이터 삽입 완료\n",
      "✅ GTLS - BalanceSheet_Quarter 데이터 삽입 완료\n"
     ]
    },
    {
     "name": "stderr",
     "output_type": "stream",
     "text": [
      "Processing Companies:  40%|████      | 1684/4204 [1:20:57<2:02:07,  2.91s/it]"
     ]
    },
    {
     "name": "stdout",
     "output_type": "stream",
     "text": [
      "✅ GTLS - CashFlow_Quarter 데이터 삽입 완료\n",
      "✅ GTIM - IncomeStatement_Quarter 데이터 삽입 완료\n",
      "✅ GTIM - BalanceSheet_Quarter 데이터 삽입 완료\n"
     ]
    },
    {
     "name": "stderr",
     "output_type": "stream",
     "text": [
      "Processing Companies:  40%|████      | 1685/4204 [1:21:00<2:00:13,  2.86s/it]"
     ]
    },
    {
     "name": "stdout",
     "output_type": "stream",
     "text": [
      "✅ GTIM - CashFlow_Quarter 데이터 삽입 완료\n",
      "✅ GTI - IncomeStatement_Quarter 데이터 삽입 완료\n",
      "✅ GTI - BalanceSheet_Quarter 데이터 삽입 완료\n"
     ]
    },
    {
     "name": "stderr",
     "output_type": "stream",
     "text": [
      "Processing Companies:  40%|████      | 1686/4204 [1:21:03<2:00:34,  2.87s/it]"
     ]
    },
    {
     "name": "stdout",
     "output_type": "stream",
     "text": [
      "✅ GTI - CashFlow_Quarter 데이터 삽입 완료\n",
      "✅ GTN - IncomeStatement_Quarter 데이터 삽입 완료\n",
      "✅ GTN - BalanceSheet_Quarter 데이터 삽입 완료\n"
     ]
    },
    {
     "name": "stderr",
     "output_type": "stream",
     "text": [
      "Processing Companies:  40%|████      | 1687/4204 [1:21:06<2:01:47,  2.90s/it]"
     ]
    },
    {
     "name": "stdout",
     "output_type": "stream",
     "text": [
      "✅ GTN - CashFlow_Quarter 데이터 삽입 완료\n",
      "✅ GTM - IncomeStatement_Quarter 데이터 삽입 완료\n",
      "✅ GTM - BalanceSheet_Quarter 데이터 삽입 완료\n"
     ]
    },
    {
     "name": "stderr",
     "output_type": "stream",
     "text": [
      "Processing Companies:  40%|████      | 1688/4204 [1:21:09<2:01:21,  2.89s/it]"
     ]
    },
    {
     "name": "stdout",
     "output_type": "stream",
     "text": [
      "✅ GTM - CashFlow_Quarter 데이터 삽입 완료\n",
      "✅ GTY - IncomeStatement_Quarter 데이터 삽입 완료\n",
      "✅ GTY - BalanceSheet_Quarter 데이터 삽입 완료\n"
     ]
    },
    {
     "name": "stderr",
     "output_type": "stream",
     "text": [
      "Processing Companies:  40%|████      | 1689/4204 [1:21:12<2:00:15,  2.87s/it]"
     ]
    },
    {
     "name": "stdout",
     "output_type": "stream",
     "text": [
      "✅ GTY - CashFlow_Quarter 데이터 삽입 완료\n",
      "✅ GURE - IncomeStatement_Quarter 데이터 삽입 완료\n",
      "✅ GURE - BalanceSheet_Quarter 데이터 삽입 완료\n"
     ]
    },
    {
     "name": "stderr",
     "output_type": "stream",
     "text": [
      "Processing Companies:  40%|████      | 1690/4204 [1:21:14<1:58:40,  2.83s/it]"
     ]
    },
    {
     "name": "stdout",
     "output_type": "stream",
     "text": [
      "✅ GURE - CashFlow_Quarter 데이터 삽입 완료\n",
      "❌ IncomeStatement_Quarter 데이터 없음\n",
      "✅ GV - BalanceSheet_Quarter 데이터 삽입 완료\n"
     ]
    },
    {
     "name": "stderr",
     "output_type": "stream",
     "text": [
      "Processing Companies:  40%|████      | 1691/4204 [1:21:17<1:57:16,  2.80s/it]"
     ]
    },
    {
     "name": "stdout",
     "output_type": "stream",
     "text": [
      "❌ CashFlow_Quarter 데이터 없음\n",
      "✅ GVA - IncomeStatement_Quarter 데이터 삽입 완료\n",
      "✅ GVA - BalanceSheet_Quarter 데이터 삽입 완료\n"
     ]
    },
    {
     "name": "stderr",
     "output_type": "stream",
     "text": [
      "Processing Companies:  40%|████      | 1692/4204 [1:21:20<1:58:11,  2.82s/it]"
     ]
    },
    {
     "name": "stdout",
     "output_type": "stream",
     "text": [
      "✅ GVA - CashFlow_Quarter 데이터 삽입 완료\n",
      "✅ GWAV - IncomeStatement_Quarter 데이터 삽입 완료\n",
      "✅ GWAV - BalanceSheet_Quarter 데이터 삽입 완료\n"
     ]
    },
    {
     "name": "stderr",
     "output_type": "stream",
     "text": [
      "Processing Companies:  40%|████      | 1693/4204 [1:21:23<2:06:31,  3.02s/it]"
     ]
    },
    {
     "name": "stdout",
     "output_type": "stream",
     "text": [
      "✅ GWAV - CashFlow_Quarter 데이터 삽입 완료\n",
      "✅ GWH - IncomeStatement_Quarter 데이터 삽입 완료\n",
      "✅ GWH - BalanceSheet_Quarter 데이터 삽입 완료\n"
     ]
    },
    {
     "name": "stderr",
     "output_type": "stream",
     "text": [
      "Processing Companies:  40%|████      | 1694/4204 [1:21:26<2:03:46,  2.96s/it]"
     ]
    },
    {
     "name": "stdout",
     "output_type": "stream",
     "text": [
      "✅ GWH - CashFlow_Quarter 데이터 삽입 완료\n",
      "✅ GWRE - IncomeStatement_Quarter 데이터 삽입 완료\n",
      "✅ GWRE - BalanceSheet_Quarter 데이터 삽입 완료\n"
     ]
    },
    {
     "name": "stderr",
     "output_type": "stream",
     "text": [
      "Processing Companies:  40%|████      | 1695/4204 [1:21:29<2:02:30,  2.93s/it]"
     ]
    },
    {
     "name": "stdout",
     "output_type": "stream",
     "text": [
      "✅ GWRE - CashFlow_Quarter 데이터 삽입 완료\n",
      "✅ GWRS - IncomeStatement_Quarter 데이터 삽입 완료\n",
      "✅ GWRS - BalanceSheet_Quarter 데이터 삽입 완료\n"
     ]
    },
    {
     "name": "stderr",
     "output_type": "stream",
     "text": [
      "Processing Companies:  40%|████      | 1696/4204 [1:21:32<2:00:43,  2.89s/it]"
     ]
    },
    {
     "name": "stdout",
     "output_type": "stream",
     "text": [
      "✅ GWRS - CashFlow_Quarter 데이터 삽입 완료\n",
      "✅ GWW - IncomeStatement_Quarter 데이터 삽입 완료\n",
      "✅ GWW - BalanceSheet_Quarter 데이터 삽입 완료\n"
     ]
    },
    {
     "name": "stderr",
     "output_type": "stream",
     "text": [
      "Processing Companies:  40%|████      | 1697/4204 [1:21:35<2:00:08,  2.88s/it]"
     ]
    },
    {
     "name": "stdout",
     "output_type": "stream",
     "text": [
      "✅ GWW - CashFlow_Quarter 데이터 삽입 완료\n",
      "✅ GXO - IncomeStatement_Quarter 데이터 삽입 완료\n",
      "✅ GXO - BalanceSheet_Quarter 데이터 삽입 완료\n"
     ]
    },
    {
     "name": "stderr",
     "output_type": "stream",
     "text": [
      "Processing Companies:  40%|████      | 1698/4204 [1:21:37<1:59:04,  2.85s/it]"
     ]
    },
    {
     "name": "stdout",
     "output_type": "stream",
     "text": [
      "✅ GXO - CashFlow_Quarter 데이터 삽입 완료\n",
      "✅ GYRE - IncomeStatement_Quarter 데이터 삽입 완료\n",
      "✅ GYRE - BalanceSheet_Quarter 데이터 삽입 완료\n"
     ]
    },
    {
     "name": "stderr",
     "output_type": "stream",
     "text": [
      "Processing Companies:  40%|████      | 1699/4204 [1:21:40<1:58:42,  2.84s/it]"
     ]
    },
    {
     "name": "stdout",
     "output_type": "stream",
     "text": [
      "✅ GYRE - CashFlow_Quarter 데이터 삽입 완료\n",
      "❌ IncomeStatement_Quarter 데이터 없음\n",
      "✅ GYRO - BalanceSheet_Quarter 데이터 삽입 완료\n"
     ]
    },
    {
     "name": "stderr",
     "output_type": "stream",
     "text": [
      "Processing Companies:  40%|████      | 1700/4204 [1:21:43<1:59:01,  2.85s/it]"
     ]
    },
    {
     "name": "stdout",
     "output_type": "stream",
     "text": [
      "❌ CashFlow_Quarter 데이터 없음\n",
      "✅ HAE - IncomeStatement_Quarter 데이터 삽입 완료\n",
      "✅ HAE - BalanceSheet_Quarter 데이터 삽입 완료\n"
     ]
    },
    {
     "name": "stderr",
     "output_type": "stream",
     "text": [
      "Processing Companies:  40%|████      | 1701/4204 [1:21:46<2:00:51,  2.90s/it]"
     ]
    },
    {
     "name": "stdout",
     "output_type": "stream",
     "text": [
      "✅ HAE - CashFlow_Quarter 데이터 삽입 완료\n",
      "✅ HAFC - IncomeStatement_Quarter 데이터 삽입 완료\n",
      "✅ HAFC - BalanceSheet_Quarter 데이터 삽입 완료\n"
     ]
    },
    {
     "name": "stderr",
     "output_type": "stream",
     "text": [
      "Processing Companies:  40%|████      | 1702/4204 [1:21:49<2:03:01,  2.95s/it]"
     ]
    },
    {
     "name": "stdout",
     "output_type": "stream",
     "text": [
      "✅ HAFC - CashFlow_Quarter 데이터 삽입 완료\n",
      "✅ HAIN - IncomeStatement_Quarter 데이터 삽입 완료\n",
      "✅ HAIN - BalanceSheet_Quarter 데이터 삽입 완료\n"
     ]
    },
    {
     "name": "stderr",
     "output_type": "stream",
     "text": [
      "Processing Companies:  41%|████      | 1703/4204 [1:21:52<2:00:23,  2.89s/it]"
     ]
    },
    {
     "name": "stdout",
     "output_type": "stream",
     "text": [
      "✅ HAIN - CashFlow_Quarter 데이터 삽입 완료\n",
      "✅ HAL - IncomeStatement_Quarter 데이터 삽입 완료\n",
      "✅ HAL - BalanceSheet_Quarter 데이터 삽입 완료\n"
     ]
    },
    {
     "name": "stderr",
     "output_type": "stream",
     "text": [
      "Processing Companies:  41%|████      | 1704/4204 [1:21:55<2:00:33,  2.89s/it]"
     ]
    },
    {
     "name": "stdout",
     "output_type": "stream",
     "text": [
      "✅ HAL - CashFlow_Quarter 데이터 삽입 완료\n",
      "✅ HAS - IncomeStatement_Quarter 데이터 삽입 완료\n",
      "✅ HAS - BalanceSheet_Quarter 데이터 삽입 완료\n"
     ]
    },
    {
     "name": "stderr",
     "output_type": "stream",
     "text": [
      "Processing Companies:  41%|████      | 1705/4204 [1:21:58<2:01:03,  2.91s/it]"
     ]
    },
    {
     "name": "stdout",
     "output_type": "stream",
     "text": [
      "✅ HAS - CashFlow_Quarter 데이터 삽입 완료\n",
      "✅ HALO - IncomeStatement_Quarter 데이터 삽입 완료\n",
      "✅ HALO - BalanceSheet_Quarter 데이터 삽입 완료\n"
     ]
    },
    {
     "name": "stderr",
     "output_type": "stream",
     "text": [
      "Processing Companies:  41%|████      | 1706/4204 [1:22:01<2:00:54,  2.90s/it]"
     ]
    },
    {
     "name": "stdout",
     "output_type": "stream",
     "text": [
      "✅ HALO - CashFlow_Quarter 데이터 삽입 완료\n",
      "✅ HBANM - IncomeStatement_Quarter 데이터 삽입 완료\n",
      "✅ HBANM - BalanceSheet_Quarter 데이터 삽입 완료\n"
     ]
    },
    {
     "name": "stderr",
     "output_type": "stream",
     "text": [
      "Processing Companies:  41%|████      | 1707/4204 [1:22:04<1:59:42,  2.88s/it]"
     ]
    },
    {
     "name": "stdout",
     "output_type": "stream",
     "text": [
      "✅ HBANM - CashFlow_Quarter 데이터 삽입 완료\n",
      "✅ HBAN - IncomeStatement_Quarter 데이터 삽입 완료\n",
      "✅ HBAN - BalanceSheet_Quarter 데이터 삽입 완료\n"
     ]
    },
    {
     "name": "stderr",
     "output_type": "stream",
     "text": [
      "Processing Companies:  41%|████      | 1708/4204 [1:22:07<2:02:54,  2.95s/it]"
     ]
    },
    {
     "name": "stdout",
     "output_type": "stream",
     "text": [
      "✅ HBAN - CashFlow_Quarter 데이터 삽입 완료\n",
      "✅ HAYW - IncomeStatement_Quarter 데이터 삽입 완료\n",
      "✅ HAYW - BalanceSheet_Quarter 데이터 삽입 완료\n"
     ]
    },
    {
     "name": "stderr",
     "output_type": "stream",
     "text": [
      "Processing Companies:  41%|████      | 1709/4204 [1:22:10<2:09:13,  3.11s/it]"
     ]
    },
    {
     "name": "stdout",
     "output_type": "stream",
     "text": [
      "✅ HAYW - CashFlow_Quarter 데이터 삽입 완료\n",
      "✅ HBIO - IncomeStatement_Quarter 데이터 삽입 완료\n",
      "✅ HBIO - BalanceSheet_Quarter 데이터 삽입 완료\n"
     ]
    },
    {
     "name": "stderr",
     "output_type": "stream",
     "text": [
      "Processing Companies:  41%|████      | 1710/4204 [1:22:13<2:05:11,  3.01s/it]"
     ]
    },
    {
     "name": "stdout",
     "output_type": "stream",
     "text": [
      "✅ HBIO - CashFlow_Quarter 데이터 삽입 완료\n",
      "✅ HBB - IncomeStatement_Quarter 데이터 삽입 완료\n",
      "✅ HBB - BalanceSheet_Quarter 데이터 삽입 완료\n"
     ]
    },
    {
     "name": "stderr",
     "output_type": "stream",
     "text": [
      "Processing Companies:  41%|████      | 1711/4204 [1:22:16<2:03:05,  2.96s/it]"
     ]
    },
    {
     "name": "stdout",
     "output_type": "stream",
     "text": [
      "✅ HBB - CashFlow_Quarter 데이터 삽입 완료\n",
      "✅ HBCP - IncomeStatement_Quarter 데이터 삽입 완료\n",
      "✅ HBCP - BalanceSheet_Quarter 데이터 삽입 완료\n"
     ]
    },
    {
     "name": "stderr",
     "output_type": "stream",
     "text": [
      "Processing Companies:  41%|████      | 1712/4204 [1:22:19<2:01:46,  2.93s/it]"
     ]
    },
    {
     "name": "stdout",
     "output_type": "stream",
     "text": [
      "✅ HBCP - CashFlow_Quarter 데이터 삽입 완료\n",
      "✅ HBI - IncomeStatement_Quarter 데이터 삽입 완료\n",
      "✅ HBI - BalanceSheet_Quarter 데이터 삽입 완료\n"
     ]
    },
    {
     "name": "stderr",
     "output_type": "stream",
     "text": [
      "Processing Companies:  41%|████      | 1713/4204 [1:22:21<2:00:33,  2.90s/it]"
     ]
    },
    {
     "name": "stdout",
     "output_type": "stream",
     "text": [
      "✅ HBI - CashFlow_Quarter 데이터 삽입 완료\n",
      "✅ HBT - IncomeStatement_Quarter 데이터 삽입 완료\n",
      "✅ HBT - BalanceSheet_Quarter 데이터 삽입 완료\n"
     ]
    },
    {
     "name": "stderr",
     "output_type": "stream",
     "text": [
      "Processing Companies:  41%|████      | 1714/4204 [1:22:24<1:59:15,  2.87s/it]"
     ]
    },
    {
     "name": "stdout",
     "output_type": "stream",
     "text": [
      "✅ HBT - CashFlow_Quarter 데이터 삽입 완료\n",
      "✅ HCA - IncomeStatement_Quarter 데이터 삽입 완료\n",
      "✅ HCA - BalanceSheet_Quarter 데이터 삽입 완료\n"
     ]
    },
    {
     "name": "stderr",
     "output_type": "stream",
     "text": [
      "Processing Companies:  41%|████      | 1715/4204 [1:22:27<1:59:02,  2.87s/it]"
     ]
    },
    {
     "name": "stdout",
     "output_type": "stream",
     "text": [
      "✅ HCA - CashFlow_Quarter 데이터 삽입 완료\n",
      "✅ HBNC - IncomeStatement_Quarter 데이터 삽입 완료\n",
      "✅ HBNC - BalanceSheet_Quarter 데이터 삽입 완료\n"
     ]
    },
    {
     "name": "stderr",
     "output_type": "stream",
     "text": [
      "Processing Companies:  41%|████      | 1716/4204 [1:22:30<1:59:14,  2.88s/it]"
     ]
    },
    {
     "name": "stdout",
     "output_type": "stream",
     "text": [
      "✅ HBNC - CashFlow_Quarter 데이터 삽입 완료\n",
      "✅ HBM - IncomeStatement_Quarter 데이터 삽입 완료\n",
      "✅ HBM - BalanceSheet_Quarter 데이터 삽입 완료\n"
     ]
    },
    {
     "name": "stderr",
     "output_type": "stream",
     "text": [
      "Processing Companies:  41%|████      | 1717/4204 [1:22:33<1:59:44,  2.89s/it]"
     ]
    },
    {
     "name": "stdout",
     "output_type": "stream",
     "text": [
      "✅ HBM - CashFlow_Quarter 데이터 삽입 완료\n",
      "✅ HCC - IncomeStatement_Quarter 데이터 삽입 완료\n",
      "✅ HCC - BalanceSheet_Quarter 데이터 삽입 완료\n"
     ]
    },
    {
     "name": "stderr",
     "output_type": "stream",
     "text": [
      "Processing Companies:  41%|████      | 1718/4204 [1:22:36<1:58:30,  2.86s/it]"
     ]
    },
    {
     "name": "stdout",
     "output_type": "stream",
     "text": [
      "✅ HCC - CashFlow_Quarter 데이터 삽입 완료\n",
      "✅ HCAT - IncomeStatement_Quarter 데이터 삽입 완료\n",
      "✅ HCAT - BalanceSheet_Quarter 데이터 삽입 완료\n"
     ]
    },
    {
     "name": "stderr",
     "output_type": "stream",
     "text": [
      "Processing Companies:  41%|████      | 1719/4204 [1:22:38<1:56:58,  2.82s/it]"
     ]
    },
    {
     "name": "stdout",
     "output_type": "stream",
     "text": [
      "✅ HCAT - CashFlow_Quarter 데이터 삽입 완료\n",
      "✅ HBANP - IncomeStatement_Quarter 데이터 삽입 완료\n",
      "✅ HBANP - BalanceSheet_Quarter 데이터 삽입 완료\n"
     ]
    },
    {
     "name": "stderr",
     "output_type": "stream",
     "text": [
      "Processing Companies:  41%|████      | 1720/4204 [1:22:41<1:56:49,  2.82s/it]"
     ]
    },
    {
     "name": "stdout",
     "output_type": "stream",
     "text": [
      "✅ HBANP - CashFlow_Quarter 데이터 삽입 완료\n",
      "✅ HCI - IncomeStatement_Quarter 데이터 삽입 완료\n",
      "✅ HCI - BalanceSheet_Quarter 데이터 삽입 완료\n"
     ]
    },
    {
     "name": "stderr",
     "output_type": "stream",
     "text": [
      "Processing Companies:  41%|████      | 1721/4204 [1:22:44<1:58:17,  2.86s/it]"
     ]
    },
    {
     "name": "stdout",
     "output_type": "stream",
     "text": [
      "✅ HCI - CashFlow_Quarter 데이터 삽입 완료\n",
      "✅ HCKT - IncomeStatement_Quarter 데이터 삽입 완료\n",
      "✅ HCKT - BalanceSheet_Quarter 데이터 삽입 완료\n"
     ]
    },
    {
     "name": "stderr",
     "output_type": "stream",
     "text": [
      "Processing Companies:  41%|████      | 1722/4204 [1:22:47<1:57:58,  2.85s/it]"
     ]
    },
    {
     "name": "stdout",
     "output_type": "stream",
     "text": [
      "✅ HCKT - CashFlow_Quarter 데이터 삽입 완료\n",
      "✅ HCSG - IncomeStatement_Quarter 데이터 삽입 완료\n",
      "✅ HCSG - BalanceSheet_Quarter 데이터 삽입 완료\n"
     ]
    },
    {
     "name": "stderr",
     "output_type": "stream",
     "text": [
      "Processing Companies:  41%|████      | 1723/4204 [1:22:50<2:01:06,  2.93s/it]"
     ]
    },
    {
     "name": "stdout",
     "output_type": "stream",
     "text": [
      "✅ HCSG - CashFlow_Quarter 데이터 삽입 완료\n",
      "❌ IncomeStatement_Quarter 데이터 없음\n",
      "✅ HCM - BalanceSheet_Quarter 데이터 삽입 완료\n"
     ]
    },
    {
     "name": "stderr",
     "output_type": "stream",
     "text": [
      "Processing Companies:  41%|████      | 1724/4204 [1:22:53<1:57:38,  2.85s/it]"
     ]
    },
    {
     "name": "stdout",
     "output_type": "stream",
     "text": [
      "❌ CashFlow_Quarter 데이터 없음\n",
      "✅ HCWB - IncomeStatement_Quarter 데이터 삽입 완료\n",
      "✅ HCWB - BalanceSheet_Quarter 데이터 삽입 완료\n"
     ]
    },
    {
     "name": "stderr",
     "output_type": "stream",
     "text": [
      "Processing Companies:  41%|████      | 1725/4204 [1:22:56<1:58:01,  2.86s/it]"
     ]
    },
    {
     "name": "stdout",
     "output_type": "stream",
     "text": [
      "✅ HCWB - CashFlow_Quarter 데이터 삽입 완료\n",
      "✅ HCTI - IncomeStatement_Quarter 데이터 삽입 완료\n",
      "✅ HCTI - BalanceSheet_Quarter 데이터 삽입 완료\n"
     ]
    },
    {
     "name": "stderr",
     "output_type": "stream",
     "text": [
      "Processing Companies:  41%|████      | 1726/4204 [1:22:58<1:57:01,  2.83s/it]"
     ]
    },
    {
     "name": "stdout",
     "output_type": "stream",
     "text": [
      "✅ HCTI - CashFlow_Quarter 데이터 삽입 완료\n",
      "✅ HD - IncomeStatement_Quarter 데이터 삽입 완료\n",
      "✅ HD - BalanceSheet_Quarter 데이터 삽입 완료\n"
     ]
    },
    {
     "name": "stderr",
     "output_type": "stream",
     "text": [
      "Processing Companies:  41%|████      | 1727/4204 [1:23:01<1:57:30,  2.85s/it]"
     ]
    },
    {
     "name": "stdout",
     "output_type": "stream",
     "text": [
      "✅ HD - CashFlow_Quarter 데이터 삽입 완료\n",
      "✅ HDB - IncomeStatement_Quarter 데이터 삽입 완료\n",
      "✅ HDB - BalanceSheet_Quarter 데이터 삽입 완료\n"
     ]
    },
    {
     "name": "stderr",
     "output_type": "stream",
     "text": [
      "Processing Companies:  41%|████      | 1728/4204 [1:23:04<1:56:09,  2.81s/it]"
     ]
    },
    {
     "name": "stdout",
     "output_type": "stream",
     "text": [
      "❌ CashFlow_Quarter 데이터 없음\n",
      "✅ HDSN - IncomeStatement_Quarter 데이터 삽입 완료\n",
      "✅ HDSN - BalanceSheet_Quarter 데이터 삽입 완료\n"
     ]
    },
    {
     "name": "stderr",
     "output_type": "stream",
     "text": [
      "Processing Companies:  41%|████      | 1729/4204 [1:23:07<1:55:31,  2.80s/it]"
     ]
    },
    {
     "name": "stdout",
     "output_type": "stream",
     "text": [
      "✅ HDSN - CashFlow_Quarter 데이터 삽입 완료\n",
      "✅ HEPS - IncomeStatement_Quarter 데이터 삽입 완료\n",
      "✅ HEPS - BalanceSheet_Quarter 데이터 삽입 완료\n"
     ]
    },
    {
     "name": "stderr",
     "output_type": "stream",
     "text": [
      "Processing Companies:  41%|████      | 1730/4204 [1:23:10<1:59:11,  2.89s/it]"
     ]
    },
    {
     "name": "stdout",
     "output_type": "stream",
     "text": [
      "✅ HEPS - CashFlow_Quarter 데이터 삽입 완료\n"
     ]
    },
    {
     "name": "stderr",
     "output_type": "stream",
     "text": [
      "$HEES: possibly delisted; no price data found  (period=5d)\n"
     ]
    },
    {
     "name": "stdout",
     "output_type": "stream",
     "text": [
      "✅ HEES - IncomeStatement_Quarter 데이터 삽입 완료\n",
      "✅ HEES - BalanceSheet_Quarter 데이터 삽입 완료\n"
     ]
    },
    {
     "name": "stderr",
     "output_type": "stream",
     "text": [
      "Processing Companies:  41%|████      | 1731/4204 [1:23:13<1:59:15,  2.89s/it]"
     ]
    },
    {
     "name": "stdout",
     "output_type": "stream",
     "text": [
      "✅ HEES - CashFlow_Quarter 데이터 삽입 완료\n",
      "✅ HELE - IncomeStatement_Quarter 데이터 삽입 완료\n",
      "✅ HELE - BalanceSheet_Quarter 데이터 삽입 완료\n"
     ]
    },
    {
     "name": "stderr",
     "output_type": "stream",
     "text": [
      "Processing Companies:  41%|████      | 1732/4204 [1:23:16<1:59:18,  2.90s/it]"
     ]
    },
    {
     "name": "stdout",
     "output_type": "stream",
     "text": [
      "✅ HELE - CashFlow_Quarter 데이터 삽입 완료\n",
      "✅ HESM - IncomeStatement_Quarter 데이터 삽입 완료\n",
      "✅ HESM - BalanceSheet_Quarter 데이터 삽입 완료\n"
     ]
    },
    {
     "name": "stderr",
     "output_type": "stream",
     "text": [
      "Processing Companies:  41%|████      | 1733/4204 [1:23:19<2:01:09,  2.94s/it]"
     ]
    },
    {
     "name": "stdout",
     "output_type": "stream",
     "text": [
      "✅ HESM - CashFlow_Quarter 데이터 삽입 완료\n",
      "✅ HES - IncomeStatement_Quarter 데이터 삽입 완료\n",
      "✅ HES - BalanceSheet_Quarter 데이터 삽입 완료\n"
     ]
    },
    {
     "name": "stderr",
     "output_type": "stream",
     "text": [
      "Processing Companies:  41%|████      | 1734/4204 [1:23:22<2:00:31,  2.93s/it]"
     ]
    },
    {
     "name": "stdout",
     "output_type": "stream",
     "text": [
      "✅ HES - CashFlow_Quarter 데이터 삽입 완료\n",
      "✅ HFBL - IncomeStatement_Quarter 데이터 삽입 완료\n",
      "✅ HFBL - BalanceSheet_Quarter 데이터 삽입 완료\n"
     ]
    },
    {
     "name": "stderr",
     "output_type": "stream",
     "text": [
      "Processing Companies:  41%|████▏     | 1735/4204 [1:23:25<2:00:05,  2.92s/it]"
     ]
    },
    {
     "name": "stdout",
     "output_type": "stream",
     "text": [
      "✅ HFBL - CashFlow_Quarter 데이터 삽입 완료\n",
      "✅ HFFG - IncomeStatement_Quarter 데이터 삽입 완료\n",
      "✅ HFFG - BalanceSheet_Quarter 데이터 삽입 완료\n"
     ]
    },
    {
     "name": "stderr",
     "output_type": "stream",
     "text": [
      "Processing Companies:  41%|████▏     | 1736/4204 [1:23:27<1:59:11,  2.90s/it]"
     ]
    },
    {
     "name": "stdout",
     "output_type": "stream",
     "text": [
      "✅ HFFG - CashFlow_Quarter 데이터 삽입 완료\n",
      "✅ HFWA - IncomeStatement_Quarter 데이터 삽입 완료\n",
      "✅ HFWA - BalanceSheet_Quarter 데이터 삽입 완료\n"
     ]
    },
    {
     "name": "stderr",
     "output_type": "stream",
     "text": [
      "Processing Companies:  41%|████▏     | 1737/4204 [1:23:30<1:59:11,  2.90s/it]"
     ]
    },
    {
     "name": "stdout",
     "output_type": "stream",
     "text": [
      "✅ HFWA - CashFlow_Quarter 데이터 삽입 완료\n",
      "✅ HGTY - IncomeStatement_Quarter 데이터 삽입 완료\n",
      "✅ HGTY - BalanceSheet_Quarter 데이터 삽입 완료\n"
     ]
    },
    {
     "name": "stderr",
     "output_type": "stream",
     "text": [
      "Processing Companies:  41%|████▏     | 1738/4204 [1:23:33<2:00:31,  2.93s/it]"
     ]
    },
    {
     "name": "stdout",
     "output_type": "stream",
     "text": [
      "✅ HGTY - CashFlow_Quarter 데이터 삽입 완료\n",
      "✅ HGV - IncomeStatement_Quarter 데이터 삽입 완료\n",
      "✅ HGV - BalanceSheet_Quarter 데이터 삽입 완료\n"
     ]
    },
    {
     "name": "stderr",
     "output_type": "stream",
     "text": [
      "Processing Companies:  41%|████▏     | 1739/4204 [1:23:36<1:59:24,  2.91s/it]"
     ]
    },
    {
     "name": "stdout",
     "output_type": "stream",
     "text": [
      "✅ HGV - CashFlow_Quarter 데이터 삽입 완료\n",
      "✅ HHH - IncomeStatement_Quarter 데이터 삽입 완료\n",
      "✅ HHH - BalanceSheet_Quarter 데이터 삽입 완료\n"
     ]
    },
    {
     "name": "stderr",
     "output_type": "stream",
     "text": [
      "Processing Companies:  41%|████▏     | 1740/4204 [1:23:39<1:59:04,  2.90s/it]"
     ]
    },
    {
     "name": "stdout",
     "output_type": "stream",
     "text": [
      "✅ HHH - CashFlow_Quarter 데이터 삽입 완료\n",
      "✅ HHS - IncomeStatement_Quarter 데이터 삽입 완료\n",
      "✅ HHS - BalanceSheet_Quarter 데이터 삽입 완료\n"
     ]
    },
    {
     "name": "stderr",
     "output_type": "stream",
     "text": [
      "Processing Companies:  41%|████▏     | 1741/4204 [1:23:42<1:58:29,  2.89s/it]"
     ]
    },
    {
     "name": "stdout",
     "output_type": "stream",
     "text": [
      "✅ HHS - CashFlow_Quarter 데이터 삽입 완료\n",
      "✅ HI - IncomeStatement_Quarter 데이터 삽입 완료\n",
      "✅ HI - BalanceSheet_Quarter 데이터 삽입 완료\n"
     ]
    },
    {
     "name": "stderr",
     "output_type": "stream",
     "text": [
      "Processing Companies:  41%|████▏     | 1742/4204 [1:23:45<1:57:25,  2.86s/it]"
     ]
    },
    {
     "name": "stdout",
     "output_type": "stream",
     "text": [
      "✅ HI - CashFlow_Quarter 데이터 삽입 완료\n",
      "✅ HIFS - IncomeStatement_Quarter 데이터 삽입 완료\n",
      "✅ HIFS - BalanceSheet_Quarter 데이터 삽입 완료\n"
     ]
    },
    {
     "name": "stderr",
     "output_type": "stream",
     "text": [
      "Processing Companies:  41%|████▏     | 1743/4204 [1:23:48<1:56:48,  2.85s/it]"
     ]
    },
    {
     "name": "stdout",
     "output_type": "stream",
     "text": [
      "✅ HIFS - CashFlow_Quarter 데이터 삽입 완료\n",
      "✅ HIG - IncomeStatement_Quarter 데이터 삽입 완료\n",
      "✅ HIG - BalanceSheet_Quarter 데이터 삽입 완료\n"
     ]
    },
    {
     "name": "stderr",
     "output_type": "stream",
     "text": [
      "Processing Companies:  41%|████▏     | 1744/4204 [1:23:51<1:57:42,  2.87s/it]"
     ]
    },
    {
     "name": "stdout",
     "output_type": "stream",
     "text": [
      "✅ HIG - CashFlow_Quarter 데이터 삽입 완료\n",
      "✅ HIHO - IncomeStatement_Quarter 데이터 삽입 완료\n",
      "✅ HIHO - BalanceSheet_Quarter 데이터 삽입 완료\n"
     ]
    },
    {
     "name": "stderr",
     "output_type": "stream",
     "text": [
      "Processing Companies:  42%|████▏     | 1745/4204 [1:23:53<1:58:38,  2.89s/it]"
     ]
    },
    {
     "name": "stdout",
     "output_type": "stream",
     "text": [
      "❌ CashFlow_Quarter 데이터 없음\n",
      "✅ HIMS - IncomeStatement_Quarter 데이터 삽입 완료\n",
      "✅ HIMS - BalanceSheet_Quarter 데이터 삽입 완료\n"
     ]
    },
    {
     "name": "stderr",
     "output_type": "stream",
     "text": [
      "Processing Companies:  42%|████▏     | 1746/4204 [1:23:56<1:58:05,  2.88s/it]"
     ]
    },
    {
     "name": "stdout",
     "output_type": "stream",
     "text": [
      "✅ HIMS - CashFlow_Quarter 데이터 삽입 완료\n",
      "✅ HIMX - IncomeStatement_Quarter 데이터 삽입 완료\n",
      "✅ HIMX - BalanceSheet_Quarter 데이터 삽입 완료\n"
     ]
    },
    {
     "name": "stderr",
     "output_type": "stream",
     "text": [
      "Processing Companies:  42%|████▏     | 1747/4204 [1:23:59<1:59:33,  2.92s/it]"
     ]
    },
    {
     "name": "stdout",
     "output_type": "stream",
     "text": [
      "✅ HIMX - CashFlow_Quarter 데이터 삽입 완료\n",
      "✅ HIPO - IncomeStatement_Quarter 데이터 삽입 완료\n",
      "✅ HIPO - BalanceSheet_Quarter 데이터 삽입 완료\n"
     ]
    },
    {
     "name": "stderr",
     "output_type": "stream",
     "text": [
      "Processing Companies:  42%|████▏     | 1748/4204 [1:24:02<1:58:14,  2.89s/it]"
     ]
    },
    {
     "name": "stdout",
     "output_type": "stream",
     "text": [
      "✅ HIPO - CashFlow_Quarter 데이터 삽입 완료\n",
      "✅ HITI - IncomeStatement_Quarter 데이터 삽입 완료\n",
      "✅ HITI - BalanceSheet_Quarter 데이터 삽입 완료\n"
     ]
    },
    {
     "name": "stderr",
     "output_type": "stream",
     "text": [
      "Processing Companies:  42%|████▏     | 1749/4204 [1:24:05<2:01:09,  2.96s/it]"
     ]
    },
    {
     "name": "stdout",
     "output_type": "stream",
     "text": [
      "✅ HITI - CashFlow_Quarter 데이터 삽입 완료\n",
      "✅ HIW - IncomeStatement_Quarter 데이터 삽입 완료\n",
      "✅ HIW - BalanceSheet_Quarter 데이터 삽입 완료\n"
     ]
    },
    {
     "name": "stderr",
     "output_type": "stream",
     "text": [
      "Processing Companies:  42%|████▏     | 1750/4204 [1:24:08<2:02:13,  2.99s/it]"
     ]
    },
    {
     "name": "stdout",
     "output_type": "stream",
     "text": [
      "✅ HIW - CashFlow_Quarter 데이터 삽입 완료\n",
      "✅ HL - IncomeStatement_Quarter 데이터 삽입 완료\n",
      "✅ HL - BalanceSheet_Quarter 데이터 삽입 완료\n"
     ]
    },
    {
     "name": "stderr",
     "output_type": "stream",
     "text": [
      "Processing Companies:  42%|████▏     | 1751/4204 [1:24:11<2:01:11,  2.96s/it]"
     ]
    },
    {
     "name": "stdout",
     "output_type": "stream",
     "text": [
      "✅ HL - CashFlow_Quarter 데이터 삽입 완료\n",
      "✅ HLF - IncomeStatement_Quarter 데이터 삽입 완료\n",
      "✅ HLF - BalanceSheet_Quarter 데이터 삽입 완료\n"
     ]
    },
    {
     "name": "stderr",
     "output_type": "stream",
     "text": [
      "Processing Companies:  42%|████▏     | 1752/4204 [1:24:14<1:58:25,  2.90s/it]"
     ]
    },
    {
     "name": "stdout",
     "output_type": "stream",
     "text": [
      "✅ HLF - CashFlow_Quarter 데이터 삽입 완료\n",
      "✅ HLIO - IncomeStatement_Quarter 데이터 삽입 완료\n",
      "✅ HLIO - BalanceSheet_Quarter 데이터 삽입 완료\n"
     ]
    },
    {
     "name": "stderr",
     "output_type": "stream",
     "text": [
      "Processing Companies:  42%|████▏     | 1753/4204 [1:24:17<1:59:42,  2.93s/it]"
     ]
    },
    {
     "name": "stdout",
     "output_type": "stream",
     "text": [
      "✅ HLIO - CashFlow_Quarter 데이터 삽입 완료\n",
      "✅ HLIT - IncomeStatement_Quarter 데이터 삽입 완료\n",
      "✅ HLIT - BalanceSheet_Quarter 데이터 삽입 완료\n"
     ]
    },
    {
     "name": "stderr",
     "output_type": "stream",
     "text": [
      "Processing Companies:  42%|████▏     | 1754/4204 [1:24:20<2:00:40,  2.96s/it]"
     ]
    },
    {
     "name": "stdout",
     "output_type": "stream",
     "text": [
      "✅ HLIT - CashFlow_Quarter 데이터 삽입 완료\n",
      "✅ HLLY - IncomeStatement_Quarter 데이터 삽입 완료\n",
      "✅ HLLY - BalanceSheet_Quarter 데이터 삽입 완료\n"
     ]
    },
    {
     "name": "stderr",
     "output_type": "stream",
     "text": [
      "Processing Companies:  42%|████▏     | 1755/4204 [1:24:23<1:58:21,  2.90s/it]"
     ]
    },
    {
     "name": "stdout",
     "output_type": "stream",
     "text": [
      "✅ HLLY - CashFlow_Quarter 데이터 삽입 완료\n",
      "✅ HLT - IncomeStatement_Quarter 데이터 삽입 완료\n",
      "✅ HLT - BalanceSheet_Quarter 데이터 삽입 완료\n"
     ]
    },
    {
     "name": "stderr",
     "output_type": "stream",
     "text": [
      "Processing Companies:  42%|████▏     | 1756/4204 [1:24:26<2:03:17,  3.02s/it]"
     ]
    },
    {
     "name": "stdout",
     "output_type": "stream",
     "text": [
      "✅ HLT - CashFlow_Quarter 데이터 삽입 완료\n",
      "✅ HLVX - IncomeStatement_Quarter 데이터 삽입 완료\n",
      "✅ HLVX - BalanceSheet_Quarter 데이터 삽입 완료\n"
     ]
    },
    {
     "name": "stderr",
     "output_type": "stream",
     "text": [
      "Processing Companies:  42%|████▏     | 1757/4204 [1:24:29<2:01:07,  2.97s/it]"
     ]
    },
    {
     "name": "stdout",
     "output_type": "stream",
     "text": [
      "✅ HLVX - CashFlow_Quarter 데이터 삽입 완료\n",
      "✅ HLX - IncomeStatement_Quarter 데이터 삽입 완료\n",
      "✅ HLX - BalanceSheet_Quarter 데이터 삽입 완료\n"
     ]
    },
    {
     "name": "stderr",
     "output_type": "stream",
     "text": [
      "Processing Companies:  42%|████▏     | 1758/4204 [1:24:32<2:00:49,  2.96s/it]"
     ]
    },
    {
     "name": "stdout",
     "output_type": "stream",
     "text": [
      "✅ HLX - CashFlow_Quarter 데이터 삽입 완료\n",
      "✅ HMC - IncomeStatement_Quarter 데이터 삽입 완료\n",
      "✅ HMC - BalanceSheet_Quarter 데이터 삽입 완료\n"
     ]
    },
    {
     "name": "stderr",
     "output_type": "stream",
     "text": [
      "Processing Companies:  42%|████▏     | 1759/4204 [1:24:35<2:00:42,  2.96s/it]"
     ]
    },
    {
     "name": "stdout",
     "output_type": "stream",
     "text": [
      "✅ HMC - CashFlow_Quarter 데이터 삽입 완료\n",
      "✅ HMN - IncomeStatement_Quarter 데이터 삽입 완료\n",
      "✅ HMN - BalanceSheet_Quarter 데이터 삽입 완료\n"
     ]
    },
    {
     "name": "stderr",
     "output_type": "stream",
     "text": [
      "Processing Companies:  42%|████▏     | 1760/4204 [1:24:38<2:00:32,  2.96s/it]"
     ]
    },
    {
     "name": "stdout",
     "output_type": "stream",
     "text": [
      "✅ HMN - CashFlow_Quarter 데이터 삽입 완료\n",
      "✅ HMST - IncomeStatement_Quarter 데이터 삽입 완료\n",
      "✅ HMST - BalanceSheet_Quarter 데이터 삽입 완료\n"
     ]
    },
    {
     "name": "stderr",
     "output_type": "stream",
     "text": [
      "Processing Companies:  42%|████▏     | 1761/4204 [1:24:41<2:00:54,  2.97s/it]"
     ]
    },
    {
     "name": "stdout",
     "output_type": "stream",
     "text": [
      "✅ HMST - CashFlow_Quarter 데이터 삽입 완료\n",
      "❌ IncomeStatement_Quarter 데이터 없음\n",
      "✅ HMY - BalanceSheet_Quarter 데이터 삽입 완료\n"
     ]
    },
    {
     "name": "stderr",
     "output_type": "stream",
     "text": [
      "Processing Companies:  42%|████▏     | 1762/4204 [1:24:44<2:00:13,  2.95s/it]"
     ]
    },
    {
     "name": "stdout",
     "output_type": "stream",
     "text": [
      "❌ CashFlow_Quarter 데이터 없음\n",
      "✅ HNI - IncomeStatement_Quarter 데이터 삽입 완료\n",
      "✅ HNI - BalanceSheet_Quarter 데이터 삽입 완료\n"
     ]
    },
    {
     "name": "stderr",
     "output_type": "stream",
     "text": [
      "Processing Companies:  42%|████▏     | 1763/4204 [1:24:47<1:59:56,  2.95s/it]"
     ]
    },
    {
     "name": "stdout",
     "output_type": "stream",
     "text": [
      "✅ HNI - CashFlow_Quarter 데이터 삽입 완료\n",
      "✅ HNST - IncomeStatement_Quarter 데이터 삽입 완료\n",
      "✅ HNST - BalanceSheet_Quarter 데이터 삽입 완료\n"
     ]
    },
    {
     "name": "stderr",
     "output_type": "stream",
     "text": [
      "Processing Companies:  42%|████▏     | 1764/4204 [1:24:49<1:57:03,  2.88s/it]"
     ]
    },
    {
     "name": "stdout",
     "output_type": "stream",
     "text": [
      "✅ HNST - CashFlow_Quarter 데이터 삽입 완료\n",
      "✅ HNVR - IncomeStatement_Quarter 데이터 삽입 완료\n",
      "✅ HNVR - BalanceSheet_Quarter 데이터 삽입 완료\n"
     ]
    },
    {
     "name": "stderr",
     "output_type": "stream",
     "text": [
      "Processing Companies:  42%|████▏     | 1765/4204 [1:24:52<1:55:53,  2.85s/it]"
     ]
    },
    {
     "name": "stdout",
     "output_type": "stream",
     "text": [
      "✅ HNVR - CashFlow_Quarter 데이터 삽입 완료\n",
      "❌ IncomeStatement_Quarter 데이터 없음\n",
      "✅ HOLO - BalanceSheet_Quarter 데이터 삽입 완료\n"
     ]
    },
    {
     "name": "stderr",
     "output_type": "stream",
     "text": [
      "Processing Companies:  42%|████▏     | 1766/4204 [1:24:55<1:55:13,  2.84s/it]"
     ]
    },
    {
     "name": "stdout",
     "output_type": "stream",
     "text": [
      "❌ CashFlow_Quarter 데이터 없음\n",
      "✅ HOLX - IncomeStatement_Quarter 데이터 삽입 완료\n",
      "✅ HOLX - BalanceSheet_Quarter 데이터 삽입 완료\n"
     ]
    },
    {
     "name": "stderr",
     "output_type": "stream",
     "text": [
      "Processing Companies:  42%|████▏     | 1767/4204 [1:24:58<1:55:29,  2.84s/it]"
     ]
    },
    {
     "name": "stdout",
     "output_type": "stream",
     "text": [
      "✅ HOLX - CashFlow_Quarter 데이터 삽입 완료\n",
      "✅ HOFV - IncomeStatement_Quarter 데이터 삽입 완료\n",
      "✅ HOFV - BalanceSheet_Quarter 데이터 삽입 완료\n"
     ]
    },
    {
     "name": "stderr",
     "output_type": "stream",
     "text": [
      "Processing Companies:  42%|████▏     | 1768/4204 [1:25:01<1:54:44,  2.83s/it]"
     ]
    },
    {
     "name": "stdout",
     "output_type": "stream",
     "text": [
      "✅ HOFV - CashFlow_Quarter 데이터 삽입 완료\n",
      "✅ HOG - IncomeStatement_Quarter 데이터 삽입 완료\n",
      "✅ HOG - BalanceSheet_Quarter 데이터 삽입 완료\n"
     ]
    },
    {
     "name": "stderr",
     "output_type": "stream",
     "text": [
      "Processing Companies:  42%|████▏     | 1769/4204 [1:25:04<1:56:07,  2.86s/it]"
     ]
    },
    {
     "name": "stdout",
     "output_type": "stream",
     "text": [
      "✅ HOG - CashFlow_Quarter 데이터 삽입 완료\n",
      "✅ HOMB - IncomeStatement_Quarter 데이터 삽입 완료\n",
      "✅ HOMB - BalanceSheet_Quarter 데이터 삽입 완료\n"
     ]
    },
    {
     "name": "stderr",
     "output_type": "stream",
     "text": [
      "Processing Companies:  42%|████▏     | 1770/4204 [1:25:06<1:55:57,  2.86s/it]"
     ]
    },
    {
     "name": "stdout",
     "output_type": "stream",
     "text": [
      "✅ HOMB - CashFlow_Quarter 데이터 삽입 완료\n",
      "✅ HONE - IncomeStatement_Quarter 데이터 삽입 완료\n",
      "✅ HONE - BalanceSheet_Quarter 데이터 삽입 완료\n"
     ]
    },
    {
     "name": "stderr",
     "output_type": "stream",
     "text": [
      "Processing Companies:  42%|████▏     | 1771/4204 [1:25:09<1:55:53,  2.86s/it]"
     ]
    },
    {
     "name": "stdout",
     "output_type": "stream",
     "text": [
      "✅ HONE - CashFlow_Quarter 데이터 삽입 완료\n",
      "✅ HOPE - IncomeStatement_Quarter 데이터 삽입 완료\n",
      "✅ HOPE - BalanceSheet_Quarter 데이터 삽입 완료\n"
     ]
    },
    {
     "name": "stderr",
     "output_type": "stream",
     "text": [
      "Processing Companies:  42%|████▏     | 1772/4204 [1:25:12<1:56:18,  2.87s/it]"
     ]
    },
    {
     "name": "stdout",
     "output_type": "stream",
     "text": [
      "✅ HOPE - CashFlow_Quarter 데이터 삽입 완료\n",
      "✅ HOOK - IncomeStatement_Quarter 데이터 삽입 완료\n",
      "✅ HOOK - BalanceSheet_Quarter 데이터 삽입 완료\n"
     ]
    },
    {
     "name": "stderr",
     "output_type": "stream",
     "text": [
      "Processing Companies:  42%|████▏     | 1773/4204 [1:25:15<1:57:13,  2.89s/it]"
     ]
    },
    {
     "name": "stdout",
     "output_type": "stream",
     "text": [
      "✅ HOOK - CashFlow_Quarter 데이터 삽입 완료\n",
      "✅ HOTH - IncomeStatement_Quarter 데이터 삽입 완료\n",
      "✅ HOTH - BalanceSheet_Quarter 데이터 삽입 완료\n"
     ]
    },
    {
     "name": "stderr",
     "output_type": "stream",
     "text": [
      "Processing Companies:  42%|████▏     | 1774/4204 [1:25:18<1:55:04,  2.84s/it]"
     ]
    },
    {
     "name": "stdout",
     "output_type": "stream",
     "text": [
      "✅ HOTH - CashFlow_Quarter 데이터 삽입 완료\n",
      "✅ HOUR - IncomeStatement_Quarter 데이터 삽입 완료\n",
      "✅ HOUR - BalanceSheet_Quarter 데이터 삽입 완료\n"
     ]
    },
    {
     "name": "stderr",
     "output_type": "stream",
     "text": [
      "Processing Companies:  42%|████▏     | 1775/4204 [1:25:21<1:55:06,  2.84s/it]"
     ]
    },
    {
     "name": "stdout",
     "output_type": "stream",
     "text": [
      "✅ HOUR - CashFlow_Quarter 데이터 삽입 완료\n",
      "✅ HOUS - IncomeStatement_Quarter 데이터 삽입 완료\n",
      "✅ HOUS - BalanceSheet_Quarter 데이터 삽입 완료\n"
     ]
    },
    {
     "name": "stderr",
     "output_type": "stream",
     "text": [
      "Processing Companies:  42%|████▏     | 1776/4204 [1:25:24<1:55:32,  2.86s/it]"
     ]
    },
    {
     "name": "stdout",
     "output_type": "stream",
     "text": [
      "✅ HOUS - CashFlow_Quarter 데이터 삽입 완료\n",
      "✅ HOV - IncomeStatement_Quarter 데이터 삽입 완료\n",
      "✅ HOV - BalanceSheet_Quarter 데이터 삽입 완료\n"
     ]
    },
    {
     "name": "stderr",
     "output_type": "stream",
     "text": [
      "Processing Companies:  42%|████▏     | 1777/4204 [1:25:26<1:55:27,  2.85s/it]"
     ]
    },
    {
     "name": "stdout",
     "output_type": "stream",
     "text": [
      "✅ HOV - CashFlow_Quarter 데이터 삽입 완료\n",
      "✅ HOWL - IncomeStatement_Quarter 데이터 삽입 완료\n",
      "✅ HOWL - BalanceSheet_Quarter 데이터 삽입 완료\n"
     ]
    },
    {
     "name": "stderr",
     "output_type": "stream",
     "text": [
      "Processing Companies:  42%|████▏     | 1778/4204 [1:25:29<1:56:30,  2.88s/it]"
     ]
    },
    {
     "name": "stdout",
     "output_type": "stream",
     "text": [
      "✅ HOWL - CashFlow_Quarter 데이터 삽입 완료\n",
      "✅ HP - IncomeStatement_Quarter 데이터 삽입 완료\n",
      "✅ HP - BalanceSheet_Quarter 데이터 삽입 완료\n"
     ]
    },
    {
     "name": "stderr",
     "output_type": "stream",
     "text": [
      "Processing Companies:  42%|████▏     | 1779/4204 [1:25:32<1:56:13,  2.88s/it]"
     ]
    },
    {
     "name": "stdout",
     "output_type": "stream",
     "text": [
      "✅ HP - CashFlow_Quarter 데이터 삽입 완료\n",
      "✅ HPE - IncomeStatement_Quarter 데이터 삽입 완료\n",
      "✅ HPE - BalanceSheet_Quarter 데이터 삽입 완료\n"
     ]
    },
    {
     "name": "stderr",
     "output_type": "stream",
     "text": [
      "Processing Companies:  42%|████▏     | 1780/4204 [1:25:35<1:55:24,  2.86s/it]"
     ]
    },
    {
     "name": "stdout",
     "output_type": "stream",
     "text": [
      "✅ HPE - CashFlow_Quarter 데이터 삽입 완료\n",
      "✅ HPK - IncomeStatement_Quarter 데이터 삽입 완료\n",
      "✅ HPK - BalanceSheet_Quarter 데이터 삽입 완료\n"
     ]
    },
    {
     "name": "stderr",
     "output_type": "stream",
     "text": [
      "Processing Companies:  42%|████▏     | 1781/4204 [1:25:38<1:56:08,  2.88s/it]"
     ]
    },
    {
     "name": "stdout",
     "output_type": "stream",
     "text": [
      "✅ HPK - CashFlow_Quarter 데이터 삽입 완료\n",
      "✅ HPQ - IncomeStatement_Quarter 데이터 삽입 완료\n",
      "✅ HPQ - BalanceSheet_Quarter 데이터 삽입 완료\n"
     ]
    },
    {
     "name": "stderr",
     "output_type": "stream",
     "text": [
      "Processing Companies:  42%|████▏     | 1782/4204 [1:25:41<1:57:06,  2.90s/it]"
     ]
    },
    {
     "name": "stdout",
     "output_type": "stream",
     "text": [
      "✅ HPQ - CashFlow_Quarter 데이터 삽입 완료\n",
      "✅ HQI - IncomeStatement_Quarter 데이터 삽입 완료\n",
      "✅ HQI - BalanceSheet_Quarter 데이터 삽입 완료\n"
     ]
    },
    {
     "name": "stderr",
     "output_type": "stream",
     "text": [
      "Processing Companies:  42%|████▏     | 1783/4204 [1:25:44<1:54:47,  2.84s/it]"
     ]
    },
    {
     "name": "stdout",
     "output_type": "stream",
     "text": [
      "✅ HQI - CashFlow_Quarter 데이터 삽입 완료\n",
      "✅ HQY - IncomeStatement_Quarter 데이터 삽입 완료\n",
      "✅ HQY - BalanceSheet_Quarter 데이터 삽입 완료\n"
     ]
    },
    {
     "name": "stderr",
     "output_type": "stream",
     "text": [
      "Processing Companies:  42%|████▏     | 1784/4204 [1:25:46<1:54:03,  2.83s/it]"
     ]
    },
    {
     "name": "stdout",
     "output_type": "stream",
     "text": [
      "✅ HQY - CashFlow_Quarter 데이터 삽입 완료\n",
      "✅ HR - IncomeStatement_Quarter 데이터 삽입 완료\n",
      "✅ HR - BalanceSheet_Quarter 데이터 삽입 완료\n"
     ]
    },
    {
     "name": "stderr",
     "output_type": "stream",
     "text": [
      "Processing Companies:  42%|████▏     | 1785/4204 [1:25:49<1:55:01,  2.85s/it]"
     ]
    },
    {
     "name": "stdout",
     "output_type": "stream",
     "text": [
      "✅ HR - CashFlow_Quarter 데이터 삽입 완료\n",
      "✅ HRB - IncomeStatement_Quarter 데이터 삽입 완료\n",
      "✅ HRB - BalanceSheet_Quarter 데이터 삽입 완료\n"
     ]
    },
    {
     "name": "stderr",
     "output_type": "stream",
     "text": [
      "Processing Companies:  42%|████▏     | 1786/4204 [1:25:52<1:54:47,  2.85s/it]"
     ]
    },
    {
     "name": "stdout",
     "output_type": "stream",
     "text": [
      "✅ HRB - CashFlow_Quarter 데이터 삽입 완료\n",
      "✅ HRMY - IncomeStatement_Quarter 데이터 삽입 완료\n",
      "✅ HRMY - BalanceSheet_Quarter 데이터 삽입 완료\n"
     ]
    },
    {
     "name": "stderr",
     "output_type": "stream",
     "text": [
      "Processing Companies:  43%|████▎     | 1787/4204 [1:25:55<1:54:14,  2.84s/it]"
     ]
    },
    {
     "name": "stdout",
     "output_type": "stream",
     "text": [
      "✅ HRMY - CashFlow_Quarter 데이터 삽입 완료\n",
      "✅ HRTG - IncomeStatement_Quarter 데이터 삽입 완료\n",
      "✅ HRTG - BalanceSheet_Quarter 데이터 삽입 완료\n"
     ]
    },
    {
     "name": "stderr",
     "output_type": "stream",
     "text": [
      "Processing Companies:  43%|████▎     | 1788/4204 [1:25:58<1:54:22,  2.84s/it]"
     ]
    },
    {
     "name": "stdout",
     "output_type": "stream",
     "text": [
      "✅ HRTG - CashFlow_Quarter 데이터 삽입 완료\n",
      "✅ HROW - IncomeStatement_Quarter 데이터 삽입 완료\n",
      "✅ HROW - BalanceSheet_Quarter 데이터 삽입 완료\n"
     ]
    },
    {
     "name": "stderr",
     "output_type": "stream",
     "text": [
      "Processing Companies:  43%|████▎     | 1789/4204 [1:26:01<1:53:14,  2.81s/it]"
     ]
    },
    {
     "name": "stdout",
     "output_type": "stream",
     "text": [
      "✅ HROW - CashFlow_Quarter 데이터 삽입 완료\n",
      "✅ HRTX - IncomeStatement_Quarter 데이터 삽입 완료\n",
      "✅ HRTX - BalanceSheet_Quarter 데이터 삽입 완료\n"
     ]
    },
    {
     "name": "stderr",
     "output_type": "stream",
     "text": [
      "Processing Companies:  43%|████▎     | 1790/4204 [1:26:03<1:53:42,  2.83s/it]"
     ]
    },
    {
     "name": "stdout",
     "output_type": "stream",
     "text": [
      "✅ HRTX - CashFlow_Quarter 데이터 삽입 완료\n",
      "✅ HSBC - IncomeStatement_Quarter 데이터 삽입 완료\n",
      "✅ HSBC - BalanceSheet_Quarter 데이터 삽입 완료\n"
     ]
    },
    {
     "name": "stderr",
     "output_type": "stream",
     "text": [
      "Processing Companies:  43%|████▎     | 1791/4204 [1:26:06<1:52:15,  2.79s/it]"
     ]
    },
    {
     "name": "stdout",
     "output_type": "stream",
     "text": [
      "❌ CashFlow_Quarter 데이터 없음\n",
      "✅ HSDT - IncomeStatement_Quarter 데이터 삽입 완료\n",
      "✅ HSDT - BalanceSheet_Quarter 데이터 삽입 완료\n"
     ]
    },
    {
     "name": "stderr",
     "output_type": "stream",
     "text": [
      "Processing Companies:  43%|████▎     | 1792/4204 [1:26:09<1:53:04,  2.81s/it]"
     ]
    },
    {
     "name": "stdout",
     "output_type": "stream",
     "text": [
      "✅ HSDT - CashFlow_Quarter 데이터 삽입 완료\n",
      "✅ HSII - IncomeStatement_Quarter 데이터 삽입 완료\n",
      "✅ HSII - BalanceSheet_Quarter 데이터 삽입 완료\n"
     ]
    },
    {
     "name": "stderr",
     "output_type": "stream",
     "text": [
      "Processing Companies:  43%|████▎     | 1793/4204 [1:26:12<1:53:33,  2.83s/it]"
     ]
    },
    {
     "name": "stdout",
     "output_type": "stream",
     "text": [
      "✅ HSII - CashFlow_Quarter 데이터 삽입 완료\n",
      "✅ HSIC - IncomeStatement_Quarter 데이터 삽입 완료\n",
      "✅ HSIC - BalanceSheet_Quarter 데이터 삽입 완료\n"
     ]
    },
    {
     "name": "stderr",
     "output_type": "stream",
     "text": [
      "Processing Companies:  43%|████▎     | 1794/4204 [1:26:15<1:53:13,  2.82s/it]"
     ]
    },
    {
     "name": "stdout",
     "output_type": "stream",
     "text": [
      "✅ HSIC - CashFlow_Quarter 데이터 삽입 완료\n",
      "✅ HSON - IncomeStatement_Quarter 데이터 삽입 완료\n",
      "✅ HSON - BalanceSheet_Quarter 데이터 삽입 완료\n"
     ]
    },
    {
     "name": "stderr",
     "output_type": "stream",
     "text": [
      "Processing Companies:  43%|████▎     | 1795/4204 [1:26:17<1:52:18,  2.80s/it]"
     ]
    },
    {
     "name": "stdout",
     "output_type": "stream",
     "text": [
      "✅ HSON - CashFlow_Quarter 데이터 삽입 완료\n",
      "✅ HST - IncomeStatement_Quarter 데이터 삽입 완료\n",
      "✅ HST - BalanceSheet_Quarter 데이터 삽입 완료\n"
     ]
    },
    {
     "name": "stderr",
     "output_type": "stream",
     "text": [
      "Processing Companies:  43%|████▎     | 1796/4204 [1:26:21<1:57:43,  2.93s/it]"
     ]
    },
    {
     "name": "stdout",
     "output_type": "stream",
     "text": [
      "✅ HST - CashFlow_Quarter 데이터 삽입 완료\n",
      "✅ HSTM - IncomeStatement_Quarter 데이터 삽입 완료\n",
      "✅ HSTM - BalanceSheet_Quarter 데이터 삽입 완료\n"
     ]
    },
    {
     "name": "stderr",
     "output_type": "stream",
     "text": [
      "Processing Companies:  43%|████▎     | 1797/4204 [1:26:24<1:58:08,  2.94s/it]"
     ]
    },
    {
     "name": "stdout",
     "output_type": "stream",
     "text": [
      "✅ HSTM - CashFlow_Quarter 데이터 삽입 완료\n",
      "✅ HTB - IncomeStatement_Quarter 데이터 삽입 완료\n",
      "✅ HTB - BalanceSheet_Quarter 데이터 삽입 완료\n"
     ]
    },
    {
     "name": "stderr",
     "output_type": "stream",
     "text": [
      "Processing Companies:  43%|████▎     | 1798/4204 [1:26:26<1:56:20,  2.90s/it]"
     ]
    },
    {
     "name": "stdout",
     "output_type": "stream",
     "text": [
      "✅ HTB - CashFlow_Quarter 데이터 삽입 완료\n",
      "✅ HSY - IncomeStatement_Quarter 데이터 삽입 완료\n",
      "✅ HSY - BalanceSheet_Quarter 데이터 삽입 완료\n"
     ]
    },
    {
     "name": "stderr",
     "output_type": "stream",
     "text": [
      "Processing Companies:  43%|████▎     | 1799/4204 [1:26:29<1:56:03,  2.90s/it]"
     ]
    },
    {
     "name": "stdout",
     "output_type": "stream",
     "text": [
      "✅ HSY - CashFlow_Quarter 데이터 삽입 완료\n",
      "❌ IncomeStatement_Quarter 데이터 없음\n",
      "✅ HTCO - BalanceSheet_Quarter 데이터 삽입 완료\n"
     ]
    },
    {
     "name": "stderr",
     "output_type": "stream",
     "text": [
      "Processing Companies:  43%|████▎     | 1800/4204 [1:26:32<1:53:50,  2.84s/it]"
     ]
    },
    {
     "name": "stdout",
     "output_type": "stream",
     "text": [
      "❌ CashFlow_Quarter 데이터 없음\n",
      "✅ HTBK - IncomeStatement_Quarter 데이터 삽입 완료\n",
      "✅ HTBK - BalanceSheet_Quarter 데이터 삽입 완료\n"
     ]
    },
    {
     "name": "stderr",
     "output_type": "stream",
     "text": [
      "Processing Companies:  43%|████▎     | 1801/4204 [1:26:35<1:53:40,  2.84s/it]"
     ]
    },
    {
     "name": "stdout",
     "output_type": "stream",
     "text": [
      "✅ HTBK - CashFlow_Quarter 데이터 삽입 완료\n",
      "✅ HTCR - IncomeStatement_Quarter 데이터 삽입 완료\n",
      "✅ HTCR - BalanceSheet_Quarter 데이터 삽입 완료\n"
     ]
    },
    {
     "name": "stderr",
     "output_type": "stream",
     "text": [
      "Processing Companies:  43%|████▎     | 1802/4204 [1:26:38<1:53:16,  2.83s/it]"
     ]
    },
    {
     "name": "stdout",
     "output_type": "stream",
     "text": [
      "✅ HTCR - CashFlow_Quarter 데이터 삽입 완료\n",
      "❌ IncomeStatement_Quarter 데이터 없음\n",
      "❌ BalanceSheet_Quarter 데이터 없음\n"
     ]
    },
    {
     "name": "stderr",
     "output_type": "stream",
     "text": [
      "Processing Companies:  43%|████▎     | 1803/4204 [1:26:40<1:49:05,  2.73s/it]"
     ]
    },
    {
     "name": "stdout",
     "output_type": "stream",
     "text": [
      "❌ CashFlow_Quarter 데이터 없음\n",
      "✅ HTH - IncomeStatement_Quarter 데이터 삽입 완료\n",
      "✅ HTH - BalanceSheet_Quarter 데이터 삽입 완료\n"
     ]
    },
    {
     "name": "stderr",
     "output_type": "stream",
     "text": [
      "Processing Companies:  43%|████▎     | 1804/4204 [1:26:43<1:51:15,  2.78s/it]"
     ]
    },
    {
     "name": "stdout",
     "output_type": "stream",
     "text": [
      "✅ HTH - CashFlow_Quarter 데이터 삽입 완료\n",
      "✅ HTHT - IncomeStatement_Quarter 데이터 삽입 완료\n",
      "✅ HTHT - BalanceSheet_Quarter 데이터 삽입 완료\n"
     ]
    },
    {
     "name": "stderr",
     "output_type": "stream",
     "text": [
      "Processing Companies:  43%|████▎     | 1805/4204 [1:26:46<1:51:33,  2.79s/it]"
     ]
    },
    {
     "name": "stdout",
     "output_type": "stream",
     "text": [
      "✅ HTHT - CashFlow_Quarter 데이터 삽입 완료\n",
      "✅ HTOO - IncomeStatement_Quarter 데이터 삽입 완료\n",
      "✅ HTOO - BalanceSheet_Quarter 데이터 삽입 완료\n"
     ]
    },
    {
     "name": "stderr",
     "output_type": "stream",
     "text": [
      "Processing Companies:  43%|████▎     | 1806/4204 [1:26:49<1:50:39,  2.77s/it]"
     ]
    },
    {
     "name": "stdout",
     "output_type": "stream",
     "text": [
      "❌ CashFlow_Quarter 데이터 없음\n",
      "✅ HTLD - IncomeStatement_Quarter 데이터 삽입 완료\n",
      "✅ HTLD - BalanceSheet_Quarter 데이터 삽입 완료\n"
     ]
    },
    {
     "name": "stderr",
     "output_type": "stream",
     "text": [
      "Processing Companies:  43%|████▎     | 1807/4204 [1:26:51<1:51:54,  2.80s/it]"
     ]
    },
    {
     "name": "stdout",
     "output_type": "stream",
     "text": [
      "✅ HTLD - CashFlow_Quarter 데이터 삽입 완료\n",
      "✅ HTO - IncomeStatement_Quarter 데이터 삽입 완료\n",
      "✅ HTO - BalanceSheet_Quarter 데이터 삽입 완료\n"
     ]
    },
    {
     "name": "stderr",
     "output_type": "stream",
     "text": [
      "Processing Companies:  43%|████▎     | 1808/4204 [1:26:54<1:52:37,  2.82s/it]"
     ]
    },
    {
     "name": "stdout",
     "output_type": "stream",
     "text": [
      "✅ HTO - CashFlow_Quarter 데이터 삽입 완료\n",
      "✅ HTZ - IncomeStatement_Quarter 데이터 삽입 완료\n",
      "✅ HTZ - BalanceSheet_Quarter 데이터 삽입 완료\n"
     ]
    },
    {
     "name": "stderr",
     "output_type": "stream",
     "text": [
      "Processing Companies:  43%|████▎     | 1809/4204 [1:26:57<1:52:11,  2.81s/it]"
     ]
    },
    {
     "name": "stdout",
     "output_type": "stream",
     "text": [
      "✅ HTZ - CashFlow_Quarter 데이터 삽입 완료\n",
      "✅ HUBG - IncomeStatement_Quarter 데이터 삽입 완료\n",
      "✅ HUBG - BalanceSheet_Quarter 데이터 삽입 완료\n"
     ]
    },
    {
     "name": "stderr",
     "output_type": "stream",
     "text": [
      "Processing Companies:  43%|████▎     | 1810/4204 [1:27:00<1:52:24,  2.82s/it]"
     ]
    },
    {
     "name": "stdout",
     "output_type": "stream",
     "text": [
      "✅ HUBG - CashFlow_Quarter 데이터 삽입 완료\n",
      "✅ HUBB - IncomeStatement_Quarter 데이터 삽입 완료\n",
      "✅ HUBB - BalanceSheet_Quarter 데이터 삽입 완료\n"
     ]
    },
    {
     "name": "stderr",
     "output_type": "stream",
     "text": [
      "Processing Companies:  43%|████▎     | 1811/4204 [1:27:03<1:52:59,  2.83s/it]"
     ]
    },
    {
     "name": "stdout",
     "output_type": "stream",
     "text": [
      "✅ HUBB - CashFlow_Quarter 데이터 삽입 완료\n",
      "✅ HUBS - IncomeStatement_Quarter 데이터 삽입 완료\n",
      "✅ HUBS - BalanceSheet_Quarter 데이터 삽입 완료\n"
     ]
    },
    {
     "name": "stderr",
     "output_type": "stream",
     "text": [
      "Processing Companies:  43%|████▎     | 1812/4204 [1:27:06<1:51:47,  2.80s/it]"
     ]
    },
    {
     "name": "stdout",
     "output_type": "stream",
     "text": [
      "✅ HUBS - CashFlow_Quarter 데이터 삽입 완료\n",
      "❌ IncomeStatement_Quarter 데이터 없음\n",
      "✅ HUDI - BalanceSheet_Quarter 데이터 삽입 완료\n"
     ]
    },
    {
     "name": "stderr",
     "output_type": "stream",
     "text": [
      "Processing Companies:  43%|████▎     | 1813/4204 [1:27:08<1:49:50,  2.76s/it]"
     ]
    },
    {
     "name": "stdout",
     "output_type": "stream",
     "text": [
      "❌ CashFlow_Quarter 데이터 없음\n",
      "✅ HUM - IncomeStatement_Quarter 데이터 삽입 완료\n",
      "✅ HUM - BalanceSheet_Quarter 데이터 삽입 완료\n"
     ]
    },
    {
     "name": "stderr",
     "output_type": "stream",
     "text": [
      "Processing Companies:  43%|████▎     | 1814/4204 [1:27:11<1:50:26,  2.77s/it]"
     ]
    },
    {
     "name": "stdout",
     "output_type": "stream",
     "text": [
      "✅ HUM - CashFlow_Quarter 데이터 삽입 완료\n",
      "✅ HUMA - IncomeStatement_Quarter 데이터 삽입 완료\n",
      "✅ HUMA - BalanceSheet_Quarter 데이터 삽입 완료\n"
     ]
    },
    {
     "name": "stderr",
     "output_type": "stream",
     "text": [
      "Processing Companies:  43%|████▎     | 1815/4204 [1:27:14<1:50:16,  2.77s/it]"
     ]
    },
    {
     "name": "stdout",
     "output_type": "stream",
     "text": [
      "✅ HUMA - CashFlow_Quarter 데이터 삽입 완료\n",
      "✅ HURA - IncomeStatement_Quarter 데이터 삽입 완료\n",
      "✅ HURA - BalanceSheet_Quarter 데이터 삽입 완료\n"
     ]
    },
    {
     "name": "stderr",
     "output_type": "stream",
     "text": [
      "Processing Companies:  43%|████▎     | 1816/4204 [1:27:17<1:51:32,  2.80s/it]"
     ]
    },
    {
     "name": "stdout",
     "output_type": "stream",
     "text": [
      "✅ HURA - CashFlow_Quarter 데이터 삽입 완료\n",
      "✅ HURN - IncomeStatement_Quarter 데이터 삽입 완료\n",
      "✅ HURN - BalanceSheet_Quarter 데이터 삽입 완료\n"
     ]
    },
    {
     "name": "stderr",
     "output_type": "stream",
     "text": [
      "Processing Companies:  43%|████▎     | 1817/4204 [1:27:19<1:51:01,  2.79s/it]"
     ]
    },
    {
     "name": "stdout",
     "output_type": "stream",
     "text": [
      "✅ HURN - CashFlow_Quarter 데이터 삽입 완료\n",
      "✅ HUSA - IncomeStatement_Quarter 데이터 삽입 완료\n",
      "✅ HUSA - BalanceSheet_Quarter 데이터 삽입 완료\n"
     ]
    },
    {
     "name": "stderr",
     "output_type": "stream",
     "text": [
      "Processing Companies:  43%|████▎     | 1818/4204 [1:27:22<1:49:45,  2.76s/it]"
     ]
    },
    {
     "name": "stdout",
     "output_type": "stream",
     "text": [
      "✅ HUSA - CashFlow_Quarter 데이터 삽입 완료\n",
      "✅ HUYA - IncomeStatement_Quarter 데이터 삽입 완료\n",
      "✅ HUYA - BalanceSheet_Quarter 데이터 삽입 완료\n"
     ]
    },
    {
     "name": "stderr",
     "output_type": "stream",
     "text": [
      "Processing Companies:  43%|████▎     | 1819/4204 [1:27:25<1:49:48,  2.76s/it]"
     ]
    },
    {
     "name": "stdout",
     "output_type": "stream",
     "text": [
      "❌ CashFlow_Quarter 데이터 없음\n",
      "✅ HWC - IncomeStatement_Quarter 데이터 삽입 완료\n",
      "✅ HWC - BalanceSheet_Quarter 데이터 삽입 완료\n"
     ]
    },
    {
     "name": "stderr",
     "output_type": "stream",
     "text": [
      "Processing Companies:  43%|████▎     | 1820/4204 [1:27:28<1:51:52,  2.82s/it]"
     ]
    },
    {
     "name": "stdout",
     "output_type": "stream",
     "text": [
      "✅ HWC - CashFlow_Quarter 데이터 삽입 완료\n",
      "✅ HWBK - IncomeStatement_Quarter 데이터 삽입 완료\n",
      "✅ HWBK - BalanceSheet_Quarter 데이터 삽입 완료\n"
     ]
    },
    {
     "name": "stderr",
     "output_type": "stream",
     "text": [
      "Processing Companies:  43%|████▎     | 1821/4204 [1:27:31<1:51:28,  2.81s/it]"
     ]
    },
    {
     "name": "stdout",
     "output_type": "stream",
     "text": [
      "✅ HWBK - CashFlow_Quarter 데이터 삽입 완료\n",
      "✅ HWKN - IncomeStatement_Quarter 데이터 삽입 완료\n",
      "✅ HWKN - BalanceSheet_Quarter 데이터 삽입 완료\n"
     ]
    },
    {
     "name": "stderr",
     "output_type": "stream",
     "text": [
      "Processing Companies:  43%|████▎     | 1822/4204 [1:27:33<1:51:06,  2.80s/it]"
     ]
    },
    {
     "name": "stdout",
     "output_type": "stream",
     "text": [
      "✅ HWKN - CashFlow_Quarter 데이터 삽입 완료\n",
      "✅ HWH - IncomeStatement_Quarter 데이터 삽입 완료\n",
      "✅ HWH - BalanceSheet_Quarter 데이터 삽입 완료\n"
     ]
    },
    {
     "name": "stderr",
     "output_type": "stream",
     "text": [
      "Processing Companies:  43%|████▎     | 1823/4204 [1:27:36<1:50:49,  2.79s/it]"
     ]
    },
    {
     "name": "stdout",
     "output_type": "stream",
     "text": [
      "✅ HWH - CashFlow_Quarter 데이터 삽입 완료\n",
      "✅ HYFM - IncomeStatement_Quarter 데이터 삽입 완료\n",
      "✅ HYFM - BalanceSheet_Quarter 데이터 삽입 완료\n"
     ]
    },
    {
     "name": "stderr",
     "output_type": "stream",
     "text": [
      "Processing Companies:  43%|████▎     | 1824/4204 [1:27:39<1:51:28,  2.81s/it]"
     ]
    },
    {
     "name": "stdout",
     "output_type": "stream",
     "text": [
      "✅ HYFM - CashFlow_Quarter 데이터 삽입 완료\n",
      "✅ HY - IncomeStatement_Quarter 데이터 삽입 완료\n",
      "✅ HY - BalanceSheet_Quarter 데이터 삽입 완료\n"
     ]
    },
    {
     "name": "stderr",
     "output_type": "stream",
     "text": [
      "Processing Companies:  43%|████▎     | 1825/4204 [1:27:42<1:51:24,  2.81s/it]"
     ]
    },
    {
     "name": "stdout",
     "output_type": "stream",
     "text": [
      "✅ HY - CashFlow_Quarter 데이터 삽입 완료\n",
      "✅ HYLN - IncomeStatement_Quarter 데이터 삽입 완료\n",
      "✅ HYLN - BalanceSheet_Quarter 데이터 삽입 완료\n"
     ]
    },
    {
     "name": "stderr",
     "output_type": "stream",
     "text": [
      "Processing Companies:  43%|████▎     | 1826/4204 [1:27:45<1:50:46,  2.79s/it]"
     ]
    },
    {
     "name": "stdout",
     "output_type": "stream",
     "text": [
      "✅ HYLN - CashFlow_Quarter 데이터 삽입 완료\n",
      "✅ HYMC - IncomeStatement_Quarter 데이터 삽입 완료\n",
      "✅ HYMC - BalanceSheet_Quarter 데이터 삽입 완료\n"
     ]
    },
    {
     "name": "stderr",
     "output_type": "stream",
     "text": [
      "Processing Companies:  43%|████▎     | 1827/4204 [1:27:47<1:50:36,  2.79s/it]"
     ]
    },
    {
     "name": "stdout",
     "output_type": "stream",
     "text": [
      "✅ HYMC - CashFlow_Quarter 데이터 삽입 완료\n",
      "✅ HZO - IncomeStatement_Quarter 데이터 삽입 완료\n",
      "✅ HZO - BalanceSheet_Quarter 데이터 삽입 완료\n"
     ]
    },
    {
     "name": "stderr",
     "output_type": "stream",
     "text": [
      "Processing Companies:  43%|████▎     | 1828/4204 [1:27:50<1:52:01,  2.83s/it]"
     ]
    },
    {
     "name": "stdout",
     "output_type": "stream",
     "text": [
      "✅ HZO - CashFlow_Quarter 데이터 삽입 완료\n",
      "✅ HYPR - IncomeStatement_Quarter 데이터 삽입 완료\n",
      "✅ HYPR - BalanceSheet_Quarter 데이터 삽입 완료\n"
     ]
    },
    {
     "name": "stderr",
     "output_type": "stream",
     "text": [
      "Processing Companies:  44%|████▎     | 1829/4204 [1:27:53<1:51:22,  2.81s/it]"
     ]
    },
    {
     "name": "stdout",
     "output_type": "stream",
     "text": [
      "✅ HYPR - CashFlow_Quarter 데이터 삽입 완료\n",
      "✅ IAC - IncomeStatement_Quarter 데이터 삽입 완료\n",
      "✅ IAC - BalanceSheet_Quarter 데이터 삽입 완료\n"
     ]
    },
    {
     "name": "stderr",
     "output_type": "stream",
     "text": [
      "Processing Companies:  44%|████▎     | 1830/4204 [1:27:56<1:53:08,  2.86s/it]"
     ]
    },
    {
     "name": "stdout",
     "output_type": "stream",
     "text": [
      "✅ IAC - CashFlow_Quarter 데이터 삽입 완료\n",
      "✅ IART - IncomeStatement_Quarter 데이터 삽입 완료\n",
      "✅ IART - BalanceSheet_Quarter 데이터 삽입 완료\n"
     ]
    },
    {
     "name": "stderr",
     "output_type": "stream",
     "text": [
      "Processing Companies:  44%|████▎     | 1831/4204 [1:27:59<1:52:26,  2.84s/it]"
     ]
    },
    {
     "name": "stdout",
     "output_type": "stream",
     "text": [
      "✅ IART - CashFlow_Quarter 데이터 삽입 완료\n",
      "✅ IAS - IncomeStatement_Quarter 데이터 삽입 완료\n",
      "✅ IAS - BalanceSheet_Quarter 데이터 삽입 완료\n"
     ]
    },
    {
     "name": "stderr",
     "output_type": "stream",
     "text": [
      "Processing Companies:  44%|████▎     | 1832/4204 [1:28:02<1:51:52,  2.83s/it]"
     ]
    },
    {
     "name": "stdout",
     "output_type": "stream",
     "text": [
      "✅ IAS - CashFlow_Quarter 데이터 삽입 완료\n",
      "✅ IAUX - IncomeStatement_Quarter 데이터 삽입 완료\n",
      "✅ IAUX - BalanceSheet_Quarter 데이터 삽입 완료\n"
     ]
    },
    {
     "name": "stderr",
     "output_type": "stream",
     "text": [
      "Processing Companies:  44%|████▎     | 1833/4204 [1:28:04<1:50:55,  2.81s/it]"
     ]
    },
    {
     "name": "stdout",
     "output_type": "stream",
     "text": [
      "✅ IAUX - CashFlow_Quarter 데이터 삽입 완료\n",
      "✅ IAG - IncomeStatement_Quarter 데이터 삽입 완료\n",
      "✅ IAG - BalanceSheet_Quarter 데이터 삽입 완료\n"
     ]
    },
    {
     "name": "stderr",
     "output_type": "stream",
     "text": [
      "Processing Companies:  44%|████▎     | 1834/4204 [1:28:07<1:51:42,  2.83s/it]"
     ]
    },
    {
     "name": "stdout",
     "output_type": "stream",
     "text": [
      "✅ IAG - CashFlow_Quarter 데이터 삽입 완료\n",
      "✅ IBIO - IncomeStatement_Quarter 데이터 삽입 완료\n",
      "✅ IBIO - BalanceSheet_Quarter 데이터 삽입 완료\n"
     ]
    },
    {
     "name": "stderr",
     "output_type": "stream",
     "text": [
      "Processing Companies:  44%|████▎     | 1835/4204 [1:28:10<1:50:45,  2.81s/it]"
     ]
    },
    {
     "name": "stdout",
     "output_type": "stream",
     "text": [
      "✅ IBIO - CashFlow_Quarter 데이터 삽입 완료\n",
      "✅ IBCP - IncomeStatement_Quarter 데이터 삽입 완료\n",
      "✅ IBCP - BalanceSheet_Quarter 데이터 삽입 완료\n"
     ]
    },
    {
     "name": "stderr",
     "output_type": "stream",
     "text": [
      "Processing Companies:  44%|████▎     | 1836/4204 [1:28:13<1:53:01,  2.86s/it]"
     ]
    },
    {
     "name": "stdout",
     "output_type": "stream",
     "text": [
      "✅ IBCP - CashFlow_Quarter 데이터 삽입 완료\n",
      "✅ IBEX - IncomeStatement_Quarter 데이터 삽입 완료\n",
      "✅ IBEX - BalanceSheet_Quarter 데이터 삽입 완료\n"
     ]
    },
    {
     "name": "stderr",
     "output_type": "stream",
     "text": [
      "Processing Companies:  44%|████▎     | 1837/4204 [1:28:16<1:55:47,  2.94s/it]"
     ]
    },
    {
     "name": "stdout",
     "output_type": "stream",
     "text": [
      "✅ IBEX - CashFlow_Quarter 데이터 삽입 완료\n",
      "✅ IBM - IncomeStatement_Quarter 데이터 삽입 완료\n",
      "✅ IBM - BalanceSheet_Quarter 데이터 삽입 완료\n"
     ]
    },
    {
     "name": "stderr",
     "output_type": "stream",
     "text": [
      "Processing Companies:  44%|████▎     | 1838/4204 [1:28:19<1:56:30,  2.95s/it]"
     ]
    },
    {
     "name": "stdout",
     "output_type": "stream",
     "text": [
      "✅ IBM - CashFlow_Quarter 데이터 삽입 완료\n",
      "✅ IBN - IncomeStatement_Quarter 데이터 삽입 완료\n",
      "✅ IBN - BalanceSheet_Quarter 데이터 삽입 완료\n"
     ]
    },
    {
     "name": "stderr",
     "output_type": "stream",
     "text": [
      "Processing Companies:  44%|████▎     | 1839/4204 [1:28:22<1:55:35,  2.93s/it]"
     ]
    },
    {
     "name": "stdout",
     "output_type": "stream",
     "text": [
      "❌ CashFlow_Quarter 데이터 없음\n",
      "✅ IBOC - IncomeStatement_Quarter 데이터 삽입 완료\n",
      "✅ IBOC - BalanceSheet_Quarter 데이터 삽입 완료\n"
     ]
    },
    {
     "name": "stderr",
     "output_type": "stream",
     "text": [
      "Processing Companies:  44%|████▍     | 1840/4204 [1:28:25<1:53:50,  2.89s/it]"
     ]
    },
    {
     "name": "stdout",
     "output_type": "stream",
     "text": [
      "✅ IBOC - CashFlow_Quarter 데이터 삽입 완료\n",
      "✅ ICCC - IncomeStatement_Quarter 데이터 삽입 완료\n",
      "✅ ICCC - BalanceSheet_Quarter 데이터 삽입 완료\n"
     ]
    },
    {
     "name": "stderr",
     "output_type": "stream",
     "text": [
      "Processing Companies:  44%|████▍     | 1841/4204 [1:28:28<1:53:36,  2.88s/it]"
     ]
    },
    {
     "name": "stdout",
     "output_type": "stream",
     "text": [
      "✅ ICCC - CashFlow_Quarter 데이터 삽입 완료\n",
      "✅ IBRX - IncomeStatement_Quarter 데이터 삽입 완료\n",
      "✅ IBRX - BalanceSheet_Quarter 데이터 삽입 완료\n"
     ]
    },
    {
     "name": "stderr",
     "output_type": "stream",
     "text": [
      "Processing Companies:  44%|████▍     | 1842/4204 [1:28:31<1:53:45,  2.89s/it]"
     ]
    },
    {
     "name": "stdout",
     "output_type": "stream",
     "text": [
      "✅ IBRX - CashFlow_Quarter 데이터 삽입 완료\n",
      "✅ ICAD - IncomeStatement_Quarter 데이터 삽입 완료\n",
      "✅ ICAD - BalanceSheet_Quarter 데이터 삽입 완료\n"
     ]
    },
    {
     "name": "stderr",
     "output_type": "stream",
     "text": [
      "Processing Companies:  44%|████▍     | 1843/4204 [1:28:33<1:52:17,  2.85s/it]"
     ]
    },
    {
     "name": "stdout",
     "output_type": "stream",
     "text": [
      "✅ ICAD - CashFlow_Quarter 데이터 삽입 완료\n",
      "✅ ICCM - IncomeStatement_Quarter 데이터 삽입 완료\n",
      "✅ ICCM - BalanceSheet_Quarter 데이터 삽입 완료\n"
     ]
    },
    {
     "name": "stderr",
     "output_type": "stream",
     "text": [
      "Processing Companies:  44%|████▍     | 1844/4204 [1:28:36<1:52:01,  2.85s/it]"
     ]
    },
    {
     "name": "stdout",
     "output_type": "stream",
     "text": [
      "✅ ICCM - CashFlow_Quarter 데이터 삽입 완료\n",
      "❌ IncomeStatement_Quarter 데이터 없음\n",
      "✅ ICFI - BalanceSheet_Quarter 데이터 삽입 완료\n"
     ]
    },
    {
     "name": "stderr",
     "output_type": "stream",
     "text": [
      "Processing Companies:  44%|████▍     | 1845/4204 [1:28:40<2:00:14,  3.06s/it]"
     ]
    },
    {
     "name": "stdout",
     "output_type": "stream",
     "text": [
      "✅ ICFI - CashFlow_Quarter 데이터 삽입 완료\n",
      "✅ ICL - IncomeStatement_Quarter 데이터 삽입 완료\n",
      "✅ ICL - BalanceSheet_Quarter 데이터 삽입 완료\n"
     ]
    },
    {
     "name": "stderr",
     "output_type": "stream",
     "text": [
      "Processing Companies:  44%|████▍     | 1846/4204 [1:28:42<1:56:46,  2.97s/it]"
     ]
    },
    {
     "name": "stdout",
     "output_type": "stream",
     "text": [
      "✅ ICL - CashFlow_Quarter 데이터 삽입 완료\n",
      "✅ ICHR - IncomeStatement_Quarter 데이터 삽입 완료\n",
      "✅ ICHR - BalanceSheet_Quarter 데이터 삽입 완료\n"
     ]
    },
    {
     "name": "stderr",
     "output_type": "stream",
     "text": [
      "Processing Companies:  44%|████▍     | 1847/4204 [1:28:45<1:53:51,  2.90s/it]"
     ]
    },
    {
     "name": "stdout",
     "output_type": "stream",
     "text": [
      "✅ ICHR - CashFlow_Quarter 데이터 삽입 완료\n",
      "✅ ICUI - IncomeStatement_Quarter 데이터 삽입 완료\n",
      "✅ ICUI - BalanceSheet_Quarter 데이터 삽입 완료\n"
     ]
    },
    {
     "name": "stderr",
     "output_type": "stream",
     "text": [
      "Processing Companies:  44%|████▍     | 1848/4204 [1:28:48<1:55:39,  2.95s/it]"
     ]
    },
    {
     "name": "stdout",
     "output_type": "stream",
     "text": [
      "✅ ICUI - CashFlow_Quarter 데이터 삽입 완료\n",
      "✅ ICLR - IncomeStatement_Quarter 데이터 삽입 완료\n",
      "✅ ICLR - BalanceSheet_Quarter 데이터 삽입 완료\n"
     ]
    },
    {
     "name": "stderr",
     "output_type": "stream",
     "text": [
      "Processing Companies:  44%|████▍     | 1849/4204 [1:28:51<1:53:29,  2.89s/it]"
     ]
    },
    {
     "name": "stdout",
     "output_type": "stream",
     "text": [
      "✅ ICLR - CashFlow_Quarter 데이터 삽입 완료\n",
      "✅ IDA - IncomeStatement_Quarter 데이터 삽입 완료\n",
      "✅ IDA - BalanceSheet_Quarter 데이터 삽입 완료\n"
     ]
    },
    {
     "name": "stderr",
     "output_type": "stream",
     "text": [
      "Processing Companies:  44%|████▍     | 1850/4204 [1:28:54<1:52:11,  2.86s/it]"
     ]
    },
    {
     "name": "stdout",
     "output_type": "stream",
     "text": [
      "✅ IDA - CashFlow_Quarter 데이터 삽입 완료\n",
      "✅ ICU - IncomeStatement_Quarter 데이터 삽입 완료\n",
      "✅ ICU - BalanceSheet_Quarter 데이터 삽입 완료\n"
     ]
    },
    {
     "name": "stderr",
     "output_type": "stream",
     "text": [
      "Processing Companies:  44%|████▍     | 1851/4204 [1:28:57<1:51:38,  2.85s/it]"
     ]
    },
    {
     "name": "stdout",
     "output_type": "stream",
     "text": [
      "✅ ICU - CashFlow_Quarter 데이터 삽입 완료\n",
      "✅ IDCC - IncomeStatement_Quarter 데이터 삽입 완료\n",
      "✅ IDCC - BalanceSheet_Quarter 데이터 삽입 완료\n"
     ]
    },
    {
     "name": "stderr",
     "output_type": "stream",
     "text": [
      "Processing Companies:  44%|████▍     | 1852/4204 [1:29:00<1:53:46,  2.90s/it]"
     ]
    },
    {
     "name": "stdout",
     "output_type": "stream",
     "text": [
      "✅ IDCC - CashFlow_Quarter 데이터 삽입 완료\n",
      "✅ IDN - IncomeStatement_Quarter 데이터 삽입 완료\n",
      "✅ IDN - BalanceSheet_Quarter 데이터 삽입 완료\n"
     ]
    },
    {
     "name": "stderr",
     "output_type": "stream",
     "text": [
      "Processing Companies:  44%|████▍     | 1853/4204 [1:29:02<1:51:33,  2.85s/it]"
     ]
    },
    {
     "name": "stdout",
     "output_type": "stream",
     "text": [
      "✅ IDN - CashFlow_Quarter 데이터 삽입 완료\n",
      "✅ IDR - IncomeStatement_Quarter 데이터 삽입 완료\n",
      "✅ IDR - BalanceSheet_Quarter 데이터 삽입 완료\n"
     ]
    },
    {
     "name": "stderr",
     "output_type": "stream",
     "text": [
      "Processing Companies:  44%|████▍     | 1854/4204 [1:29:05<1:50:56,  2.83s/it]"
     ]
    },
    {
     "name": "stdout",
     "output_type": "stream",
     "text": [
      "✅ IDR - CashFlow_Quarter 데이터 삽입 완료\n",
      "✅ IDT - IncomeStatement_Quarter 데이터 삽입 완료\n",
      "✅ IDT - BalanceSheet_Quarter 데이터 삽입 완료\n"
     ]
    },
    {
     "name": "stderr",
     "output_type": "stream",
     "text": [
      "Processing Companies:  44%|████▍     | 1855/4204 [1:29:08<1:51:30,  2.85s/it]"
     ]
    },
    {
     "name": "stdout",
     "output_type": "stream",
     "text": [
      "✅ IDT - CashFlow_Quarter 데이터 삽입 완료\n",
      "✅ IE - IncomeStatement_Quarter 데이터 삽입 완료\n",
      "✅ IE - BalanceSheet_Quarter 데이터 삽입 완료\n"
     ]
    },
    {
     "name": "stderr",
     "output_type": "stream",
     "text": [
      "Processing Companies:  44%|████▍     | 1856/4204 [1:29:11<1:50:54,  2.83s/it]"
     ]
    },
    {
     "name": "stdout",
     "output_type": "stream",
     "text": [
      "✅ IE - CashFlow_Quarter 데이터 삽입 완료\n",
      "✅ IESC - IncomeStatement_Quarter 데이터 삽입 완료\n",
      "✅ IESC - BalanceSheet_Quarter 데이터 삽입 완료\n"
     ]
    },
    {
     "name": "stderr",
     "output_type": "stream",
     "text": [
      "Processing Companies:  44%|████▍     | 1857/4204 [1:29:14<1:50:29,  2.82s/it]"
     ]
    },
    {
     "name": "stdout",
     "output_type": "stream",
     "text": [
      "✅ IESC - CashFlow_Quarter 데이터 삽입 완료\n",
      "✅ IEP - IncomeStatement_Quarter 데이터 삽입 완료\n",
      "✅ IEP - BalanceSheet_Quarter 데이터 삽입 완료\n"
     ]
    },
    {
     "name": "stderr",
     "output_type": "stream",
     "text": [
      "Processing Companies:  44%|████▍     | 1858/4204 [1:29:17<1:51:21,  2.85s/it]"
     ]
    },
    {
     "name": "stdout",
     "output_type": "stream",
     "text": [
      "✅ IEP - CashFlow_Quarter 데이터 삽입 완료\n",
      "✅ IDYA - IncomeStatement_Quarter 데이터 삽입 완료\n",
      "✅ IDYA - BalanceSheet_Quarter 데이터 삽입 완료\n"
     ]
    },
    {
     "name": "stderr",
     "output_type": "stream",
     "text": [
      "Processing Companies:  44%|████▍     | 1859/4204 [1:29:20<1:53:31,  2.90s/it]"
     ]
    },
    {
     "name": "stdout",
     "output_type": "stream",
     "text": [
      "✅ IDYA - CashFlow_Quarter 데이터 삽입 완료\n",
      "❌ IncomeStatement_Quarter 데이터 없음\n",
      "✅ IFBD - BalanceSheet_Quarter 데이터 삽입 완료\n"
     ]
    },
    {
     "name": "stderr",
     "output_type": "stream",
     "text": [
      "Processing Companies:  44%|████▍     | 1860/4204 [1:29:22<1:50:15,  2.82s/it]"
     ]
    },
    {
     "name": "stdout",
     "output_type": "stream",
     "text": [
      "❌ CashFlow_Quarter 데이터 없음\n",
      "✅ IFRX - IncomeStatement_Quarter 데이터 삽입 완료\n",
      "✅ IFRX - BalanceSheet_Quarter 데이터 삽입 완료\n"
     ]
    },
    {
     "name": "stderr",
     "output_type": "stream",
     "text": [
      "Processing Companies:  44%|████▍     | 1861/4204 [1:29:25<1:51:03,  2.84s/it]"
     ]
    },
    {
     "name": "stdout",
     "output_type": "stream",
     "text": [
      "✅ IFRX - CashFlow_Quarter 데이터 삽입 완료\n",
      "✅ IFF - IncomeStatement_Quarter 데이터 삽입 완료\n",
      "✅ IFF - BalanceSheet_Quarter 데이터 삽입 완료\n"
     ]
    },
    {
     "name": "stderr",
     "output_type": "stream",
     "text": [
      "Processing Companies:  44%|████▍     | 1862/4204 [1:29:28<1:51:26,  2.86s/it]"
     ]
    },
    {
     "name": "stdout",
     "output_type": "stream",
     "text": [
      "✅ IFF - CashFlow_Quarter 데이터 삽입 완료\n",
      "✅ IFS - IncomeStatement_Quarter 데이터 삽입 완료\n",
      "✅ IFS - BalanceSheet_Quarter 데이터 삽입 완료\n"
     ]
    },
    {
     "name": "stderr",
     "output_type": "stream",
     "text": [
      "Processing Companies:  44%|████▍     | 1863/4204 [1:29:31<1:50:43,  2.84s/it]"
     ]
    },
    {
     "name": "stdout",
     "output_type": "stream",
     "text": [
      "✅ IFS - CashFlow_Quarter 데이터 삽입 완료\n",
      "✅ IGC - IncomeStatement_Quarter 데이터 삽입 완료\n",
      "✅ IGC - BalanceSheet_Quarter 데이터 삽입 완료\n"
     ]
    },
    {
     "name": "stderr",
     "output_type": "stream",
     "text": [
      "Processing Companies:  44%|████▍     | 1864/4204 [1:29:34<1:50:12,  2.83s/it]"
     ]
    },
    {
     "name": "stdout",
     "output_type": "stream",
     "text": [
      "✅ IGC - CashFlow_Quarter 데이터 삽입 완료\n",
      "✅ IGIC - IncomeStatement_Quarter 데이터 삽입 완료\n",
      "✅ IGIC - BalanceSheet_Quarter 데이터 삽입 완료\n"
     ]
    },
    {
     "name": "stderr",
     "output_type": "stream",
     "text": [
      "Processing Companies:  44%|████▍     | 1865/4204 [1:29:36<1:48:54,  2.79s/it]"
     ]
    },
    {
     "name": "stdout",
     "output_type": "stream",
     "text": [
      "❌ CashFlow_Quarter 데이터 없음\n",
      "✅ IGMS - IncomeStatement_Quarter 데이터 삽입 완료\n",
      "✅ IGMS - BalanceSheet_Quarter 데이터 삽입 완료\n"
     ]
    },
    {
     "name": "stderr",
     "output_type": "stream",
     "text": [
      "Processing Companies:  44%|████▍     | 1866/4204 [1:29:39<1:51:45,  2.87s/it]"
     ]
    },
    {
     "name": "stdout",
     "output_type": "stream",
     "text": [
      "✅ IGMS - CashFlow_Quarter 데이터 삽입 완료\n"
     ]
    },
    {
     "name": "stderr",
     "output_type": "stream",
     "text": [
      "$IGT: possibly delisted; no price data found  (period=5d)\n"
     ]
    },
    {
     "name": "stdout",
     "output_type": "stream",
     "text": [
      "✅ IGT - IncomeStatement_Quarter 데이터 삽입 완료\n",
      "✅ IGT - BalanceSheet_Quarter 데이터 삽입 완료\n"
     ]
    },
    {
     "name": "stderr",
     "output_type": "stream",
     "text": [
      "Processing Companies:  44%|████▍     | 1867/4204 [1:29:43<1:56:20,  2.99s/it]"
     ]
    },
    {
     "name": "stdout",
     "output_type": "stream",
     "text": [
      "✅ IGT - CashFlow_Quarter 데이터 삽입 완료\n",
      "✅ IH - IncomeStatement_Quarter 데이터 삽입 완료\n",
      "✅ IH - BalanceSheet_Quarter 데이터 삽입 완료\n"
     ]
    },
    {
     "name": "stderr",
     "output_type": "stream",
     "text": [
      "Processing Companies:  44%|████▍     | 1868/4204 [1:29:45<1:54:03,  2.93s/it]"
     ]
    },
    {
     "name": "stdout",
     "output_type": "stream",
     "text": [
      "❌ CashFlow_Quarter 데이터 없음\n",
      "✅ IHRT - IncomeStatement_Quarter 데이터 삽입 완료\n",
      "✅ IHRT - BalanceSheet_Quarter 데이터 삽입 완료\n"
     ]
    },
    {
     "name": "stderr",
     "output_type": "stream",
     "text": [
      "Processing Companies:  44%|████▍     | 1869/4204 [1:29:48<1:51:40,  2.87s/it]"
     ]
    },
    {
     "name": "stdout",
     "output_type": "stream",
     "text": [
      "✅ IHRT - CashFlow_Quarter 데이터 삽입 완료\n",
      "❌ IncomeStatement_Quarter 데이터 없음\n",
      "✅ IHG - BalanceSheet_Quarter 데이터 삽입 완료\n"
     ]
    },
    {
     "name": "stderr",
     "output_type": "stream",
     "text": [
      "Processing Companies:  44%|████▍     | 1870/4204 [1:29:51<1:50:24,  2.84s/it]"
     ]
    },
    {
     "name": "stdout",
     "output_type": "stream",
     "text": [
      "❌ CashFlow_Quarter 데이터 없음\n",
      "✅ IHT - IncomeStatement_Quarter 데이터 삽입 완료\n",
      "✅ IHT - BalanceSheet_Quarter 데이터 삽입 완료\n"
     ]
    },
    {
     "name": "stderr",
     "output_type": "stream",
     "text": [
      "Processing Companies:  45%|████▍     | 1871/4204 [1:29:54<1:52:16,  2.89s/it]"
     ]
    },
    {
     "name": "stdout",
     "output_type": "stream",
     "text": [
      "✅ IHT - CashFlow_Quarter 데이터 삽입 완료\n",
      "✅ IHS - IncomeStatement_Quarter 데이터 삽입 완료\n",
      "✅ IHS - BalanceSheet_Quarter 데이터 삽입 완료\n"
     ]
    },
    {
     "name": "stderr",
     "output_type": "stream",
     "text": [
      "Processing Companies:  45%|████▍     | 1872/4204 [1:30:51<12:30:07, 19.30s/it]"
     ]
    },
    {
     "name": "stdout",
     "output_type": "stream",
     "text": [
      "✅ IHS - CashFlow_Quarter 데이터 삽입 완료\n",
      "✅ IIIN - IncomeStatement_Quarter 데이터 삽입 완료\n",
      "✅ IIIN - BalanceSheet_Quarter 데이터 삽입 완료\n"
     ]
    },
    {
     "name": "stderr",
     "output_type": "stream",
     "text": [
      "Processing Companies:  45%|████▍     | 1873/4204 [1:30:54<9:17:42, 14.36s/it] "
     ]
    },
    {
     "name": "stdout",
     "output_type": "stream",
     "text": [
      "✅ IIIN - CashFlow_Quarter 데이터 삽입 완료\n",
      "✅ III - IncomeStatement_Quarter 데이터 삽입 완료\n",
      "✅ III - BalanceSheet_Quarter 데이터 삽입 완료\n"
     ]
    },
    {
     "name": "stderr",
     "output_type": "stream",
     "text": [
      "Processing Companies:  45%|████▍     | 1874/4204 [1:30:57<7:03:24, 10.90s/it]"
     ]
    },
    {
     "name": "stdout",
     "output_type": "stream",
     "text": [
      "✅ III - CashFlow_Quarter 데이터 삽입 완료\n",
      "✅ IIIV - IncomeStatement_Quarter 데이터 삽입 완료\n",
      "✅ IIIV - BalanceSheet_Quarter 데이터 삽입 완료\n"
     ]
    },
    {
     "name": "stderr",
     "output_type": "stream",
     "text": [
      "Processing Companies:  45%|████▍     | 1875/4204 [1:31:00<5:31:10,  8.53s/it]"
     ]
    },
    {
     "name": "stdout",
     "output_type": "stream",
     "text": [
      "✅ IIIV - CashFlow_Quarter 데이터 삽입 완료\n",
      "❌ IncomeStatement_Quarter 데이터 없음\n",
      "✅ IINN - BalanceSheet_Quarter 데이터 삽입 완료\n"
     ]
    },
    {
     "name": "stderr",
     "output_type": "stream",
     "text": [
      "Processing Companies:  45%|████▍     | 1876/4204 [1:31:03<4:23:25,  6.79s/it]"
     ]
    },
    {
     "name": "stdout",
     "output_type": "stream",
     "text": [
      "❌ CashFlow_Quarter 데이터 없음\n",
      "✅ IIPR - IncomeStatement_Quarter 데이터 삽입 완료\n",
      "✅ IIPR - BalanceSheet_Quarter 데이터 삽입 완료\n"
     ]
    },
    {
     "name": "stderr",
     "output_type": "stream",
     "text": [
      "Processing Companies:  45%|████▍     | 1877/4204 [1:31:06<3:38:56,  5.65s/it]"
     ]
    },
    {
     "name": "stdout",
     "output_type": "stream",
     "text": [
      "✅ IIPR - CashFlow_Quarter 데이터 삽입 완료\n",
      "✅ IKNA - IncomeStatement_Quarter 데이터 삽입 완료\n",
      "✅ IKNA - BalanceSheet_Quarter 데이터 삽입 완료\n"
     ]
    },
    {
     "name": "stderr",
     "output_type": "stream",
     "text": [
      "Processing Companies:  45%|████▍     | 1878/4204 [1:31:09<3:06:48,  4.82s/it]"
     ]
    },
    {
     "name": "stdout",
     "output_type": "stream",
     "text": [
      "✅ IKNA - CashFlow_Quarter 데이터 삽입 완료\n",
      "✅ IKT - IncomeStatement_Quarter 데이터 삽입 완료\n",
      "✅ IKT - BalanceSheet_Quarter 데이터 삽입 완료\n"
     ]
    },
    {
     "name": "stderr",
     "output_type": "stream",
     "text": [
      "Processing Companies:  45%|████▍     | 1879/4204 [1:31:11<2:41:52,  4.18s/it]"
     ]
    },
    {
     "name": "stdout",
     "output_type": "stream",
     "text": [
      "✅ IKT - CashFlow_Quarter 데이터 삽입 완료\n",
      "❌ IncomeStatement_Quarter 데이터 없음\n",
      "✅ ILAG - BalanceSheet_Quarter 데이터 삽입 완료\n"
     ]
    },
    {
     "name": "stderr",
     "output_type": "stream",
     "text": [
      "Processing Companies:  45%|████▍     | 1880/4204 [1:31:15<2:29:59,  3.87s/it]"
     ]
    },
    {
     "name": "stdout",
     "output_type": "stream",
     "text": [
      "❌ CashFlow_Quarter 데이터 없음\n",
      "✅ ILLR - IncomeStatement_Quarter 데이터 삽입 완료\n",
      "✅ ILLR - BalanceSheet_Quarter 데이터 삽입 완료\n"
     ]
    },
    {
     "name": "stderr",
     "output_type": "stream",
     "text": [
      "Processing Companies:  45%|████▍     | 1881/4204 [1:31:18<2:21:11,  3.65s/it]"
     ]
    },
    {
     "name": "stdout",
     "output_type": "stream",
     "text": [
      "✅ ILLR - CashFlow_Quarter 데이터 삽입 완료\n",
      "✅ ILMN - IncomeStatement_Quarter 데이터 삽입 완료\n",
      "✅ ILMN - BalanceSheet_Quarter 데이터 삽입 완료\n"
     ]
    },
    {
     "name": "stderr",
     "output_type": "stream",
     "text": [
      "Processing Companies:  45%|████▍     | 1882/4204 [1:31:21<2:14:33,  3.48s/it]"
     ]
    },
    {
     "name": "stdout",
     "output_type": "stream",
     "text": [
      "✅ ILMN - CashFlow_Quarter 데이터 삽입 완료\n",
      "✅ ILPT - IncomeStatement_Quarter 데이터 삽입 완료\n",
      "✅ ILPT - BalanceSheet_Quarter 데이터 삽입 완료\n"
     ]
    },
    {
     "name": "stderr",
     "output_type": "stream",
     "text": [
      "Processing Companies:  45%|████▍     | 1883/4204 [1:31:24<2:07:58,  3.31s/it]"
     ]
    },
    {
     "name": "stdout",
     "output_type": "stream",
     "text": [
      "✅ ILPT - CashFlow_Quarter 데이터 삽입 완료\n",
      "✅ IMAB - IncomeStatement_Quarter 데이터 삽입 완료\n",
      "✅ IMAB - BalanceSheet_Quarter 데이터 삽입 완료\n"
     ]
    },
    {
     "name": "stderr",
     "output_type": "stream",
     "text": [
      "Processing Companies:  45%|████▍     | 1884/4204 [1:31:26<2:01:20,  3.14s/it]"
     ]
    },
    {
     "name": "stdout",
     "output_type": "stream",
     "text": [
      "❌ CashFlow_Quarter 데이터 없음\n",
      "✅ IMAX - IncomeStatement_Quarter 데이터 삽입 완료\n",
      "✅ IMAX - BalanceSheet_Quarter 데이터 삽입 완료\n"
     ]
    },
    {
     "name": "stderr",
     "output_type": "stream",
     "text": [
      "Processing Companies:  45%|████▍     | 1885/4204 [1:31:29<1:59:59,  3.10s/it]"
     ]
    },
    {
     "name": "stdout",
     "output_type": "stream",
     "text": [
      "✅ IMAX - CashFlow_Quarter 데이터 삽입 완료\n",
      "✅ IMCC - IncomeStatement_Quarter 데이터 삽입 완료\n",
      "✅ IMCC - BalanceSheet_Quarter 데이터 삽입 완료\n"
     ]
    },
    {
     "name": "stderr",
     "output_type": "stream",
     "text": [
      "Processing Companies:  45%|████▍     | 1886/4204 [1:31:32<1:56:16,  3.01s/it]"
     ]
    },
    {
     "name": "stdout",
     "output_type": "stream",
     "text": [
      "✅ IMCC - CashFlow_Quarter 데이터 삽입 완료\n",
      "✅ IMCR - IncomeStatement_Quarter 데이터 삽입 완료\n",
      "✅ IMCR - BalanceSheet_Quarter 데이터 삽입 완료\n"
     ]
    },
    {
     "name": "stderr",
     "output_type": "stream",
     "text": [
      "Processing Companies:  45%|████▍     | 1887/4204 [1:31:35<1:55:17,  2.99s/it]"
     ]
    },
    {
     "name": "stdout",
     "output_type": "stream",
     "text": [
      "✅ IMCR - CashFlow_Quarter 데이터 삽입 완료\n",
      "✅ IMKTA - IncomeStatement_Quarter 데이터 삽입 완료\n",
      "✅ IMKTA - BalanceSheet_Quarter 데이터 삽입 완료\n"
     ]
    },
    {
     "name": "stderr",
     "output_type": "stream",
     "text": [
      "Processing Companies:  45%|████▍     | 1888/4204 [1:31:38<1:53:19,  2.94s/it]"
     ]
    },
    {
     "name": "stdout",
     "output_type": "stream",
     "text": [
      "✅ IMKTA - CashFlow_Quarter 데이터 삽입 완료\n",
      "❌ IncomeStatement_Quarter 데이터 없음\n",
      "✅ IMMP - BalanceSheet_Quarter 데이터 삽입 완료\n"
     ]
    },
    {
     "name": "stderr",
     "output_type": "stream",
     "text": [
      "Processing Companies:  45%|████▍     | 1889/4204 [1:31:41<1:50:20,  2.86s/it]"
     ]
    },
    {
     "name": "stdout",
     "output_type": "stream",
     "text": [
      "✅ IMMP - CashFlow_Quarter 데이터 삽입 완료\n"
     ]
    },
    {
     "name": "stderr",
     "output_type": "stream",
     "text": [
      "Processing Companies:  45%|████▍     | 1890/4204 [2:31:40<695:22:41, 1081.83s/it]"
     ]
    },
    {
     "name": "stdout",
     "output_type": "stream",
     "text": [
      "⚠️ IMG - stock.info 가져오기 실패: Failed to perform, curl: (28) Operation timed out after 3598835 milliseconds with 0 bytes received. See https://curl.se/libcurl/c/libcurl-errors.html first for more details.\n"
     ]
    },
    {
     "name": "stderr",
     "output_type": "stream",
     "text": [
      "$IMMR: possibly delisted; no price data found  (period=1y)\n",
      "$IMMR: possibly delisted; no price data found  (period=5d)\n",
      "Processing Companies:  45%|████▍     | 1890/4204 [2:31:57<3:06:03,  4.82s/it]    \n"
     ]
    },
    {
     "ename": "KeyError",
     "evalue": "'currentTradingPeriod'",
     "output_type": "error",
     "traceback": [
      "\u001b[0;31m---------------------------------------------------------------------------\u001b[0m",
      "\u001b[0;31mKeyError\u001b[0m                                  Traceback (most recent call last)",
      "Cell \u001b[0;32mIn[1], line 20\u001b[0m\n\u001b[1;32m     18\u001b[0m \u001b[38;5;28;01mwith\u001b[39;00m DB_FinancialStatement() \u001b[38;5;28;01mas\u001b[39;00m fs:\n\u001b[1;32m     19\u001b[0m     symbols \u001b[38;5;241m=\u001b[39m fs\u001b[38;5;241m.\u001b[39mgetSymbolListByFilter()\n\u001b[0;32m---> 20\u001b[0m     \u001b[43mDataDownloader\u001b[49m\u001b[38;5;241;43m.\u001b[39;49m\u001b[43mdownloadFinancialStatmentAndSaveDB\u001b[49m\u001b[43m(\u001b[49m\u001b[43msymbols\u001b[49m\u001b[43m,\u001b[49m\u001b[43m \u001b[49m\u001b[43mEDateType\u001b[49m\u001b[38;5;241;43m.\u001b[39;49m\u001b[43mQUARTER\u001b[49m\u001b[43m)\u001b[49m\n",
      "File \u001b[0;32m~/Projects/Finance/dataDownloader.py:166\u001b[0m, in \u001b[0;36mDataDownloader.downloadFinancialStatmentAndSaveDB\u001b[0;34m(symbols, date)\u001b[0m\n\u001b[1;32m    162\u001b[0m     symbols \u001b[38;5;241m=\u001b[39m db\u001b[38;5;241m.\u001b[39mgetSymbolList()\n\u001b[1;32m    164\u001b[0m \u001b[38;5;28;01mfor\u001b[39;00m symbol \u001b[38;5;129;01min\u001b[39;00m tqdm(symbols, desc\u001b[38;5;241m=\u001b[39m\u001b[38;5;124m\"\u001b[39m\u001b[38;5;124mProcessing Companies\u001b[39m\u001b[38;5;124m\"\u001b[39m):\n\u001b[0;32m--> 166\u001b[0m     \u001b[43minfo\u001b[49m\u001b[38;5;241;43m.\u001b[39;49m\u001b[43msetCompany\u001b[49m\u001b[43m(\u001b[49m\u001b[43msymbol\u001b[49m\u001b[43m)\u001b[49m\n\u001b[1;32m    168\u001b[0m     \u001b[38;5;28;01mtry\u001b[39;00m:\n\u001b[1;32m    169\u001b[0m         stock_info \u001b[38;5;241m=\u001b[39m info\u001b[38;5;241m.\u001b[39mstock\u001b[38;5;241m.\u001b[39minfo\n",
      "File \u001b[0;32m~/Projects/Finance/yFinanceInfo.py:17\u001b[0m, in \u001b[0;36mYFinanceInfo.setCompany\u001b[0;34m(self, ticker)\u001b[0m\n\u001b[1;32m     15\u001b[0m \u001b[38;5;66;03m# 1차 fast_info로 빠르게 체크\u001b[39;00m\n\u001b[1;32m     16\u001b[0m fast_info \u001b[38;5;241m=\u001b[39m \u001b[38;5;28mself\u001b[39m\u001b[38;5;241m.\u001b[39mstock\u001b[38;5;241m.\u001b[39mfast_info\n\u001b[0;32m---> 17\u001b[0m \u001b[38;5;28;01mif\u001b[39;00m \u001b[38;5;129;01mnot\u001b[39;00m fast_info \u001b[38;5;129;01mor\u001b[39;00m \u001b[38;5;124m'\u001b[39m\u001b[38;5;124mlastPrice\u001b[39m\u001b[38;5;124m'\u001b[39m \u001b[38;5;129;01mnot\u001b[39;00m \u001b[38;5;129;01min\u001b[39;00m fast_info \u001b[38;5;129;01mor\u001b[39;00m \u001b[43mfast_info\u001b[49m\u001b[43m[\u001b[49m\u001b[38;5;124;43m'\u001b[39;49m\u001b[38;5;124;43mlastPrice\u001b[39;49m\u001b[38;5;124;43m'\u001b[39;49m\u001b[43m]\u001b[49m \u001b[38;5;129;01mis\u001b[39;00m \u001b[38;5;28;01mNone\u001b[39;00m:\n\u001b[1;32m     18\u001b[0m     \u001b[38;5;66;03m# 2차 info로 좀 더 정확하게 재확인\u001b[39;00m\n\u001b[1;32m     19\u001b[0m     info \u001b[38;5;241m=\u001b[39m \u001b[38;5;28mself\u001b[39m\u001b[38;5;241m.\u001b[39mstock\u001b[38;5;241m.\u001b[39minfo\n\u001b[1;32m     20\u001b[0m     \u001b[38;5;28;01mif\u001b[39;00m \u001b[38;5;129;01mnot\u001b[39;00m info \u001b[38;5;129;01mor\u001b[39;00m \u001b[38;5;124m'\u001b[39m\u001b[38;5;124mregularMarketPrice\u001b[39m\u001b[38;5;124m'\u001b[39m \u001b[38;5;129;01mnot\u001b[39;00m \u001b[38;5;129;01min\u001b[39;00m info \u001b[38;5;129;01mor\u001b[39;00m info[\u001b[38;5;124m'\u001b[39m\u001b[38;5;124mregularMarketPrice\u001b[39m\u001b[38;5;124m'\u001b[39m] \u001b[38;5;129;01mis\u001b[39;00m \u001b[38;5;28;01mNone\u001b[39;00m:\n",
      "File \u001b[0;32m~/Projects/Finance/myenv/lib/python3.12/site-packages/yfinance/scrapers/quote.py:114\u001b[0m, in \u001b[0;36mFastInfo.__getitem__\u001b[0;34m(self, k)\u001b[0m\n\u001b[1;32m    112\u001b[0m \u001b[38;5;28;01mif\u001b[39;00m k \u001b[38;5;129;01min\u001b[39;00m \u001b[38;5;28mself\u001b[39m\u001b[38;5;241m.\u001b[39m_cc_to_sc_key:\n\u001b[1;32m    113\u001b[0m     k \u001b[38;5;241m=\u001b[39m \u001b[38;5;28mself\u001b[39m\u001b[38;5;241m.\u001b[39m_cc_to_sc_key[k]\n\u001b[0;32m--> 114\u001b[0m \u001b[38;5;28;01mreturn\u001b[39;00m \u001b[38;5;28;43mgetattr\u001b[39;49m\u001b[43m(\u001b[49m\u001b[38;5;28;43mself\u001b[39;49m\u001b[43m,\u001b[49m\u001b[43m \u001b[49m\u001b[43mk\u001b[49m\u001b[43m)\u001b[49m\n",
      "File \u001b[0;32m~/Projects/Finance/myenv/lib/python3.12/site-packages/yfinance/scrapers/quote.py:251\u001b[0m, in \u001b[0;36mFastInfo.last_price\u001b[0;34m(self)\u001b[0m\n\u001b[1;32m    249\u001b[0m \u001b[38;5;28;01mif\u001b[39;00m \u001b[38;5;28mself\u001b[39m\u001b[38;5;241m.\u001b[39m_last_price \u001b[38;5;129;01mis\u001b[39;00m \u001b[38;5;129;01mnot\u001b[39;00m \u001b[38;5;28;01mNone\u001b[39;00m:\n\u001b[1;32m    250\u001b[0m     \u001b[38;5;28;01mreturn\u001b[39;00m \u001b[38;5;28mself\u001b[39m\u001b[38;5;241m.\u001b[39m_last_price\n\u001b[0;32m--> 251\u001b[0m prices \u001b[38;5;241m=\u001b[39m \u001b[38;5;28;43mself\u001b[39;49m\u001b[38;5;241;43m.\u001b[39;49m\u001b[43m_get_1y_prices\u001b[49m\u001b[43m(\u001b[49m\u001b[43m)\u001b[49m\n\u001b[1;32m    252\u001b[0m \u001b[38;5;28;01mif\u001b[39;00m prices\u001b[38;5;241m.\u001b[39mempty:\n\u001b[1;32m    253\u001b[0m     md \u001b[38;5;241m=\u001b[39m \u001b[38;5;28mself\u001b[39m\u001b[38;5;241m.\u001b[39m_get_exchange_metadata()\n",
      "File \u001b[0;32m~/Projects/Finance/myenv/lib/python3.12/site-packages/yfinance/scrapers/quote.py:136\u001b[0m, in \u001b[0;36mFastInfo._get_1y_prices\u001b[0;34m(self, fullDaysOnly)\u001b[0m\n\u001b[1;32m    134\u001b[0m \u001b[38;5;28mself\u001b[39m\u001b[38;5;241m.\u001b[39m_md \u001b[38;5;241m=\u001b[39m \u001b[38;5;28mself\u001b[39m\u001b[38;5;241m.\u001b[39m_tkr\u001b[38;5;241m.\u001b[39mget_history_metadata()\n\u001b[1;32m    135\u001b[0m \u001b[38;5;28;01mtry\u001b[39;00m:\n\u001b[0;32m--> 136\u001b[0m     ctp \u001b[38;5;241m=\u001b[39m \u001b[38;5;28;43mself\u001b[39;49m\u001b[38;5;241;43m.\u001b[39;49m\u001b[43m_md\u001b[49m\u001b[43m[\u001b[49m\u001b[38;5;124;43m\"\u001b[39;49m\u001b[38;5;124;43mcurrentTradingPeriod\u001b[39;49m\u001b[38;5;124;43m\"\u001b[39;49m\u001b[43m]\u001b[49m\n\u001b[1;32m    137\u001b[0m     \u001b[38;5;28mself\u001b[39m\u001b[38;5;241m.\u001b[39m_today_open \u001b[38;5;241m=\u001b[39m pd\u001b[38;5;241m.\u001b[39mto_datetime(ctp[\u001b[38;5;124m\"\u001b[39m\u001b[38;5;124mregular\u001b[39m\u001b[38;5;124m\"\u001b[39m][\u001b[38;5;124m\"\u001b[39m\u001b[38;5;124mstart\u001b[39m\u001b[38;5;124m\"\u001b[39m], unit\u001b[38;5;241m=\u001b[39m\u001b[38;5;124m'\u001b[39m\u001b[38;5;124ms\u001b[39m\u001b[38;5;124m'\u001b[39m, utc\u001b[38;5;241m=\u001b[39m\u001b[38;5;28;01mTrue\u001b[39;00m)\u001b[38;5;241m.\u001b[39mtz_convert(\u001b[38;5;28mself\u001b[39m\u001b[38;5;241m.\u001b[39mtimezone)\n\u001b[1;32m    138\u001b[0m     \u001b[38;5;28mself\u001b[39m\u001b[38;5;241m.\u001b[39m_today_close \u001b[38;5;241m=\u001b[39m pd\u001b[38;5;241m.\u001b[39mto_datetime(ctp[\u001b[38;5;124m\"\u001b[39m\u001b[38;5;124mregular\u001b[39m\u001b[38;5;124m\"\u001b[39m][\u001b[38;5;124m\"\u001b[39m\u001b[38;5;124mend\u001b[39m\u001b[38;5;124m\"\u001b[39m], unit\u001b[38;5;241m=\u001b[39m\u001b[38;5;124m'\u001b[39m\u001b[38;5;124ms\u001b[39m\u001b[38;5;124m'\u001b[39m, utc\u001b[38;5;241m=\u001b[39m\u001b[38;5;28;01mTrue\u001b[39;00m)\u001b[38;5;241m.\u001b[39mtz_convert(\u001b[38;5;28mself\u001b[39m\u001b[38;5;241m.\u001b[39mtimezone)\n",
      "\u001b[0;31mKeyError\u001b[0m: 'currentTradingPeriod'"
     ]
    }
   ],
   "source": [
    "import pandas as pd\n",
    "import commonHelper\n",
    "from dataDownloader import DataDownloader\n",
    "from db_financialStatement import DB_FinancialStatement\n",
    "from db_stock import DB_Stock\n",
    "from db_nyse import DB_NYSE\n",
    "from commonHelper import EDateType, EFinancialStatementType\n",
    "from datetime import datetime\n",
    "import yfinance as yf\n",
    "from portfolio import Portfolio\n",
    "import numpy as np\n",
    "from scipy.stats import norm\n",
    "from dateutil.parser import parse\n",
    "import itertools\n",
    "\n",
    "\n",
    "\n",
    "with DB_FinancialStatement() as fs:\n",
    "    symbols = fs.getSymbolListByFilter()\n",
    "    DataDownloader.downloadFinancialStatmentAndSaveDB(symbols, EDateType.QUARTER)"
   ]
  }
 ],
 "metadata": {
  "kernelspec": {
   "display_name": "myenv",
   "language": "python",
   "name": "python3"
  },
  "language_info": {
   "codemirror_mode": {
    "name": "ipython",
    "version": 3
   },
   "file_extension": ".py",
   "mimetype": "text/x-python",
   "name": "python",
   "nbconvert_exporter": "python",
   "pygments_lexer": "ipython3",
   "version": "3.12.9"
  }
 },
 "nbformat": 4,
 "nbformat_minor": 5
}
