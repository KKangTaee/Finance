{
 "cells": [
  {
   "cell_type": "code",
   "execution_count": null,
   "id": "689c2b26",
   "metadata": {},
   "outputs": [
    {
     "name": "stdout",
     "output_type": "stream",
     "text": [
      "2022-01-01 00:00:00 이전 상장된 기업 추출\n",
      "2022 이전 상장 티커 수 : 20\n",
      "🔍 검사할 분기 범위: ['2024-Q2', '2024-Q3', '2024-Q4', '2025-Q1']\n",
      "✅ 범위 내 모든 분기를 가진 Symbol 수: 11\n",
      "✅ 교집합 Quarters: ['2024-Q2', '2024-Q3', '2024-Q4', '2025-Q1']\n",
      "⚠️ 교집합이 줄어든 원인 Symbol(가장 적은 분기 보유): ['AAP']\n",
      "📊 이들 Symbol의 보유 분기 수: 4\n"
     ]
    },
    {
     "data": {
      "text/html": [
       "<div>\n",
       "<style scoped>\n",
       "    .dataframe tbody tr th:only-of-type {\n",
       "        vertical-align: middle;\n",
       "    }\n",
       "\n",
       "    .dataframe tbody tr th {\n",
       "        vertical-align: top;\n",
       "    }\n",
       "\n",
       "    .dataframe thead th {\n",
       "        text-align: right;\n",
       "    }\n",
       "</style>\n",
       "<table border=\"1\" class=\"dataframe\">\n",
       "  <thead>\n",
       "    <tr style=\"text-align: right;\">\n",
       "      <th></th>\n",
       "      <th>2025-Q1</th>\n",
       "    </tr>\n",
       "  </thead>\n",
       "  <tbody>\n",
       "    <tr>\n",
       "      <th>0</th>\n",
       "      <td>ABG</td>\n",
       "    </tr>\n",
       "    <tr>\n",
       "      <th>1</th>\n",
       "      <td>AA</td>\n",
       "    </tr>\n",
       "    <tr>\n",
       "      <th>2</th>\n",
       "      <td>AAOI</td>\n",
       "    </tr>\n",
       "    <tr>\n",
       "      <th>3</th>\n",
       "      <td>ABL</td>\n",
       "    </tr>\n",
       "    <tr>\n",
       "      <th>4</th>\n",
       "      <td>AAP</td>\n",
       "    </tr>\n",
       "    <tr>\n",
       "      <th>5</th>\n",
       "      <td>ABEV</td>\n",
       "    </tr>\n",
       "    <tr>\n",
       "      <th>6</th>\n",
       "      <td>AAL</td>\n",
       "    </tr>\n",
       "    <tr>\n",
       "      <th>7</th>\n",
       "      <td>A</td>\n",
       "    </tr>\n",
       "    <tr>\n",
       "      <th>8</th>\n",
       "      <td>AAON</td>\n",
       "    </tr>\n",
       "    <tr>\n",
       "      <th>9</th>\n",
       "      <td>ABBV</td>\n",
       "    </tr>\n",
       "    <tr>\n",
       "      <th>10</th>\n",
       "      <td>AAPL</td>\n",
       "    </tr>\n",
       "  </tbody>\n",
       "</table>\n",
       "</div>"
      ],
      "text/plain": [
       "   2025-Q1\n",
       "0      ABG\n",
       "1       AA\n",
       "2     AAOI\n",
       "3      ABL\n",
       "4      AAP\n",
       "5     ABEV\n",
       "6      AAL\n",
       "7        A\n",
       "8     AAON\n",
       "9     ABBV\n",
       "10    AAPL"
      ]
     },
     "metadata": {},
     "output_type": "display_data"
    },
    {
     "name": "stdout",
     "output_type": "stream",
     "text": [
      "<built-in method now of type object at 0x1015ea9b8>\n"
     ]
    }
   ],
   "source": [
    "import pandas as pd\n",
    "import commonHelper\n",
    "from dataDownloader import DataDownloader\n",
    "from db_financialStatement import DB_FinancialStatement\n",
    "from db_stock import DB_Stock\n",
    "from db_nyse import DB_NYSE\n",
    "from commonHelper import EDateType, EFinancialStatementType\n",
    "from datetime import datetime\n",
    "import yfinance as yf\n",
    "from portfolio import Portfolio\n",
    "import numpy as np\n",
    "from scipy.stats import norm\n",
    "from dateutil.parser import parse\n",
    "import itertools\n",
    "from dateutil.parser import parse\n",
    "from dateutil.relativedelta import relativedelta\n",
    "\n",
    "# pd.set_option('display.max_rows', None)  # 모든 행 출\n",
    "# pd.set_option('display.max_columns', None)  # 모든 열 출력\n",
    "# pd.set_option('display.expand_frame_repr', False)  # 긴 데이터 프레임 줄바꿈 없이 출력\n",
    "# pd.set_option('display.max_colwidth', None)  # 열 하나에 들어가는 텍스트의 최대 길이를 제한 없이 설정\n",
    "# pd.set_option('display.width', None)         # 줄바꿈 없이 전체 데이터 프레임을 한 줄로 출력\n",
    "\n",
    "# 필요한 지표\n",
    "DB_FinancialStatement.show_rank_by_fs()\n",
    "\n"
   ]
  }
 ],
 "metadata": {
  "kernelspec": {
   "display_name": "myenv",
   "language": "python",
   "name": "python3"
  },
  "language_info": {
   "codemirror_mode": {
    "name": "ipython",
    "version": 3
   },
   "file_extension": ".py",
   "mimetype": "text/x-python",
   "name": "python",
   "nbconvert_exporter": "python",
   "pygments_lexer": "ipython3",
   "version": "3.12.9"
  }
 },
 "nbformat": 4,
 "nbformat_minor": 5
}
