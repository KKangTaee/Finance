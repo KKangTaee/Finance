{
 "cells": [
  {
   "cell_type": "code",
   "execution_count": null,
   "metadata": {},
   "outputs": [
    {
     "name": "stdout",
     "output_type": "stream",
     "text": [
      "2022-10-22 00:00:00\n"
     ]
    },
    {
     "name": "stderr",
     "output_type": "stream",
     "text": [
      "\n",
      "1 Failed download:\n",
      "['AZUL']: YFPricesMissingError('possibly delisted; no price data found  (1d 2022-10-22 00:00:00 -> 2025-08-13 00:00:00) (Yahoo error = \"No data found, symbol may be delisted\")')\n"
     ]
    }
   ],
   "source": [
    "from dataDownloader  import DataDownloader\n",
    "from db_financialStatement import DB_FinancialStatement\n",
    "from db_nyse import DB_NYSE\n",
    "from portfolio import Portfolio\n",
    "from assetAllocation import AssetAllocation\n",
    "\n",
    "\n",
    "import datetime\n",
    "import dataDownloader\n",
    "import yfinance as yf;\n",
    "import pandas as pd\n",
    "import commonHelper\n",
    "\n",
    "\n",
    "start_date = '2013-12-01'\n",
    "end_date = '2025-08-13'\n",
    "\n",
    "df_ncva_rank = DB_FinancialStatement.get_f_score_rank_table()\n",
    "symbols = list(set(val for val in df_ncva_rank.values.ravel() if pd.notna(val)))\n",
    "quarter_list = df_ncva_rank.columns.to_list()\n",
    "\n",
    "date_dict = commonHelper.get_date_dict_by_quarter_lazy(quarter_list)\n",
    "date_dict = commonHelper.get_trimmed_date_dict(date_dict, start_date, end_date)\n",
    "date_dict = commonHelper.adjust_start_data_dict_by_quarter(date_dict, quarter_list[0])\n",
    "oldest, latest = commonHelper.get_date_range_from_quarters(date_dict)\n",
    "\n",
    "df = AssetAllocation.get_stock_data_with_ma(symbols=symbols, start_date=oldest, end_date=latest, mas=[10], type='ma_month', use_db_stock=True)\n",
    "df = AssetAllocation.filter_close_last_month(df)\n",
    "df = AssetAllocation.strategy_ncva(df, df_ncva_rank, date_dict)\n",
    "\n",
    "display(df)\n"
   ]
  }
 ],
 "metadata": {
  "kernelspec": {
   "display_name": "myenv",
   "language": "python",
   "name": "python3"
  },
  "language_info": {
   "codemirror_mode": {
    "name": "ipython",
    "version": 3
   },
   "file_extension": ".py",
   "mimetype": "text/x-python",
   "name": "python",
   "nbconvert_exporter": "python",
   "pygments_lexer": "ipython3",
   "version": "3.12.9"
  }
 },
 "nbformat": 4,
 "nbformat_minor": 2
}
