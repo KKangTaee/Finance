{
 "cells": [
  {
   "cell_type": "code",
   "execution_count": 19,
   "metadata": {},
   "outputs": [
    {
     "data": {
      "text/plain": [
       "1        Bob\n",
       "2    Charlie\n",
       "Name: Name, dtype: object"
      ]
     },
     "metadata": {},
     "output_type": "display_data"
    }
   ],
   "source": [
    "import datetime\n",
    "from dataDownloader  import DataDownloader\n",
    "import dataDownloader\n",
    "import yfinance as yf;\n",
    "from db_financialStatement import DB_FinancialStatement\n",
    "from db_nyse import DB_NYSE\n",
    "import pandas as pd\n",
    "\n",
    "from portfolio import Portfolio\n",
    "\n",
    "\n",
    "\n",
    "\n",
    "data = {\n",
    "    'Name':['Alice','Bob','Charlie'],\n",
    "    'Age':[25,30,35],\n",
    "    'City':['Seoul','Busan','Incheon']\n",
    "}\n",
    "\n",
    "df = pd.DataFrame(data)\n",
    "display(df.loc[df['Age'] > 28, 'Name'])"
   ]
  }
 ],
 "metadata": {
  "kernelspec": {
   "display_name": "myenv",
   "language": "python",
   "name": "python3"
  },
  "language_info": {
   "codemirror_mode": {
    "name": "ipython",
    "version": 3
   },
   "file_extension": ".py",
   "mimetype": "text/x-python",
   "name": "python",
   "nbconvert_exporter": "python",
   "pygments_lexer": "ipython3",
   "version": "3.12.9"
  }
 },
 "nbformat": 4,
 "nbformat_minor": 2
}
