{
 "cells": [
  {
   "cell_type": "code",
   "execution_count": null,
   "metadata": {},
   "outputs": [
    {
     "data": {
      "text/plain": [
       "4194"
      ]
     },
     "metadata": {},
     "output_type": "display_data"
    },
    {
     "name": "stdout",
     "output_type": "stream",
     "text": [
      "1980-12-12\n",
      "1980-12-12\n"
     ]
    }
   ],
   "source": [
    "import datetime\n",
    "from dataDownloader  import DataDownloader\n",
    "import dataDownloader\n",
    "import yfinance as yf;\n",
    "from db_financialStatement import DB_FinancialStatement\n",
    "from db_nyse import DB_NYSE\n",
    "import pandas as pd\n",
    "\n",
    "from portfolio import Portfolio\n",
    "\n",
    "# 나중에 해야할일\n",
    "# company 데이터 가져올때, get_mark_spec 메서드 활요하면 스펙기업인지 아닌지 확인할 수 있음.\n",
    "# info는 dict임, dict를 까서 isspec인지 체크하고, 그 딕셔너리에 isSpec인지 체크하고, 여기서 이것도 확인하면 좋나? 재표가 있는지?\n",
    "\n",
    "\n",
    "# 스코어링 방식\n",
    "# 기본조건은 다음과 같음\n",
    "# 1. isSpec 제외\n",
    "# 2. 상장한지 3년 이상의 데이터 존재. (즉, 현재 기준으로 4년차 데이터가 존재해야함. 2022년 01월부터 데이터 존재)\n",
    "# 3. 연간 재무재표 3년이상 존재\n",
    "# 4. 분기 재무재표 4분기이상 존재\n",
    "\n",
    "# with DB_NYSE() as nyse:\n",
    "#    symbols = nyse.getSymbolList()\n",
    "#    display(len(symbols))\n",
    "      \n",
    "\n",
    "with DB_FinancialStatement() as fs:\n",
    "   symbols = fs.getSymbolListByFilter()\n",
    "   display(len(symbols))\n",
    "\n",
    "\n",
    "# for symbol in symbols[:5]:\n",
    "# ticker = yf.Ticker('AACP')\n",
    "# data = DataDownloader.get_mark_spac_dict(ticker.info)\n",
    "# display(data)\n",
    "\n",
    "# DataDownloader.downloadCompanyInfoAndSaveDB(symbols[4270:])\n",
    "# Portfolio.show_portfolio()\n",
    "\n",
    "\n",
    "# 상장한 날짜 최초로 알게되는 날짜.\n",
    "ticker = yf.Ticker('AAPL')\n",
    "hist = ticker.history(period='max')\n",
    "date = hist.index[0].date()\n",
    "print(date)\n",
    "\n",
    "first_trade_date = ticker.info.get(\"firstTradeDateMilliseconds\")\n",
    "first_trade_date = datetime.datetime.fromtimestamp(first_trade_date/1000).date()\n",
    "print(first_trade_date)\n"
   ]
  }
 ],
 "metadata": {
  "kernelspec": {
   "display_name": "myenv",
   "language": "python",
   "name": "python3"
  },
  "language_info": {
   "codemirror_mode": {
    "name": "ipython",
    "version": 3
   },
   "file_extension": ".py",
   "mimetype": "text/x-python",
   "name": "python",
   "nbconvert_exporter": "python",
   "pygments_lexer": "ipython3",
   "version": "3.12.9"
  }
 },
 "nbformat": 4,
 "nbformat_minor": 2
}
