{
 "cells": [
  {
   "cell_type": "code",
   "execution_count": null,
   "metadata": {},
   "outputs": [
    {
     "name": "stderr",
     "output_type": "stream",
     "text": [
      "/var/folders/2d/ws36b6y52l9fm56tq6l10zm00000gn/T/ipykernel_28546/3937182446.py:66: FutureWarning:\n",
      "\n",
      "YF.download() has changed argument auto_adjust default to True\n",
      "\n",
      "[*********************100%***********************]  1 of 1 completed\n",
      "/var/folders/2d/ws36b6y52l9fm56tq6l10zm00000gn/T/ipykernel_28546/3937182446.py:77: FutureWarning:\n",
      "\n",
      "'M' is deprecated and will be removed in a future version, please use 'ME' instead.\n",
      "\n"
     ]
    },
    {
     "data": {
      "application/vnd.plotly.v1+json": {
       "config": {
        "displayModeBar": true,
        "modeBarButtonsToAdd": [
         "togglehover"
        ],
        "plotlyServerURL": "https://plot.ly",
        "scrollZoom": true
       },
       "data": [
        {
         "close": {
          "bdata": "AAAA4MiEbkAAAAAgC4JvQAAAAKAFCnBAAAAAAMOxcEAAAADAb0JvQAAAAECmt3BAAAAA4Fr4cEAAAACgna9wQAAAAIC7AnFAAAAAIP5icUAAAACAHARyQAAAAEAeinJAAAAAYDOIckAAAABAnxBxQAAAAOA23m1AAAAAgJTUcEAAAADA3KFxQAAAAMDp8XFAAAAAgHUAc0AAAABg+1N0QAAAAKAgkXNAAAAAIDsUc0AAAABghSd1QAAAAGAo8HVAAAAAIO22dUAAAADgflF2QAAAAGDiVHdAAAAAoOmQeEAAAACgNLp4QAAAACAtSHlAAAAAgC3meUAAAACgfat6QAAAAABLbXlAAAAAAAI2e0AAAACgCf56QAAAAKCcPXxAAAAAIFDAekAAAADAK/Z5QAAAAKAA8HpAAAAAIL+SeEAAAABg8qB4QAAAAOAJmXZAAAAAoMSteEAAAADA/at3QAAAAMDEe3VAAAAAAMQ6d0AAAAAAW4V4QAAAAGCaG3dAAAAAoJ6PeEAAAABAiPF3QAAAACDN1HhAAAAA4Fk6eUAAAAAAKlh5QAAAAICY/HpAAAAAoLzee0AAAABgyGp7QAAAAKDZHXpAAAAAoLWMeUAAAADgKeJ7QAAAAAAPKH1AAAAAIO+efUAAAAAAqip/QAAAAIDKF4BAAAAAgF3jfkAAAADAqDmAQAAAACAzzIBAAAAAgEUAgUAAAAAA92WBQAAAAOCEw4FAAAAAgPCagUAAAAAgtKeCQAAAAKDMNIJAAAAAwPixgkAAAADgNnWCQAAAAODtbYFAAAAAYD5HgUAAAADgOF2CQAAAAMDMToNAAAAA4KPAg0AAAABgZiiEQA==",
          "dtype": "f8"
         },
         "high": {
          "bdata": "JbkbH2qUbkDGGwJfKs5vQEwHXW9EMXBAPX/aLwO4cEBIG0BcR79wQHj5iVF13HBAZ43UYXc+cUDGQH3XmSpxQP2h9VpPRHFAlmKzDuV0cUAAAADgRxVyQMd8kRa5pnJA6EJzO6Ytc0Bkia4NC4hzQN8AFSHbE3JA3R+FitcVcUB8pPqTPcdxQHbKch4EvXJAOHh7YQkLc0DhPDrroHF0QCK0iiGe4HRA4E8tbEOvdEBB5A5OOUp1QAq3y8n0NHZAimxeXfajdkAGyE928CB3QGK6EVwNbndACUCmEnTEeEB2+YgtGuR4QEn0TAIQU3lAbA35HewXekDb+RwYUsJ6QCGNL5cj0XpA/S2uvbU6e0C0xP7nwg58QIgd8CIbe3xAlI5F9wWKfECGq0IsSD17QHLnz4hBj3tAigfB4YNOe0CF6ubvZKB5QLE/mATP5XhAFj+lYre9eECMLImpedx5QGTgvfHHqXhAc0ecqbttd0AAAAAAW4V4QMuAcY2fsHhAlFmQKJupeEANE2NunEZ5QHvolGCd2XhAZHoJqoE6eUCGjcbxm6F5QBp/gg5+DHtAMOVCb3P4e0Dyo/z6UdZ7QKeYFoKGnntAno2s8pLEekB1R9x5MQB8QP84k/w7S31AFOdA+i4ofkCEeUBZ20p/QKDpGo/rI4BAkwxgwBsigEB7E/qejWaAQNK6z3EV/IBA03os8ahxgUBTFPzlEmqBQK6G33sMy4FAXQOciHslgkBwcfdOC66CQNApkjJh24JAhya10zn5gkDvrRWatQyDQFyKPjpYjoJA67eG3vqtgUDnq7DVRo6CQAAAAIDCWYNAAAAAwMz+g0AAAAAA10uEQA==",
          "dtype": "f8"
         },
         "low": {
          "bdata": "RAmrQLmMa0CDoBNOAEhuQCqNXrXazG5A6uk81O0lcEAOZfd9kEFvQD7uGOkPA29ASLOnJxPLcEAJtf2/4xJwQHUE5xgrgXBAThcY6mFTcED4guG0rndxQI+x3r/AmnFAS78LjP9zckC4oSnDi3JwQDSVFDW8SmlANnz20llDbECjSRvzT6JvQKv7R4JuMXFAvBHq2H38cUAInmJRfBJzQMPeL69qr3JAiVwRW0zZckA7aEJzsx5zQG5Y2Kl4OXVA+iWB7xBodUA051c6lbt1QMjHJagd0nVATyol+8Nwd0DFwAyFech3QNCk6/IsfnhA14rYwBjseEA5S41PvcF5QHrN3AjVZ3lAHSEK3x9DeUAbFmj9F/p6QJhBgtRRmXpA3KR23ZoEeUCRHKw9kGp4QPTSlDPBrnhAJ4AGIa+GeEDdOPEkZLJ2QCqzX0jKsXVAx35eOM85dkDhQuQ22Kl3QPSACPWceXVAkpZ0VRzwdEDMMtWkiS52QMfgd2QdpXZA68eNnXLUdkAt3po3Acl3QDdvJokRAHdANsXnJ7F9eEBk/GIDEn14QPM/9o60R3lAk/HU+6ebekAi02AfiVx6QHqU2oCtzHlAjSKTqxoAeUAJpjVpv5N5QDRMvNR5wXtAo6CEU5ycfECxOgHNYa19QGJ0G4Ti+H5AP9hMi3RjfkCRtpwMFr1+QA2O2tUWFIBApuGPz7SWgEDcGFQj4n9/QNqsp01upoBAPccorDqAgUAD9dKV/pSBQBPIC0evC4JA3hzb83ffgUAbusEk2heCQPWPaHQQCoFAx1kq3RMGfkAp6A05NVOBQCP4RA6vOoJAAAAAACk8g0AAAADgUVqDQA==",
          "dtype": "f8"
         },
         "name": "Candlestick",
         "open": {
          "bdata": "qh461pTPa0BuWDP2JotuQMQ3Ttz7tG9AMJqDO0oqcEC60XF277twQL1MYa6ZQ29A2jBaVWbtcEBORKul1vpwQALoqCUolHBAOi69jfcQcUBAWvD1UnpxQKhV2y44CHJAzKwzHeSickA+2vTzFqByQAGEEoBgLXFAcq5qlWK8bEBLOh0H5YdwQOyAq2d6l3FAIyAKx/ADckBbFjJ7RhtzQAhX6rFjYXRAulnA6AG7c0AAAADA+UpzQGeCfBYGXHVAqgbzqaMFdkDfVwIDwe11QGubG7IOoHZAVlhlwRR0d0AsbXkxA7F4QBDzDc5V4HhAyqtZZWxUeUBRx0602AF6QDFfTT6cunpAA31jqTOJeUAcxj9E70V7QBAoB2hCWntAw6SCIAJSfECOWKRFCMx6QAKV2BX43XlACDkegIAJe0BrVqre0JN4QLy85R4mw3hATS0iInWOdkDz3jqDN4J4QFum5cnfiHdAty0E99G3dUDxU8fIR3d3QGd4DNMjlnhAWd31j5w5d0CH3NNn+Xt4QHO4KXRi5HdANOXrpGrMeECnR+k2NTN5QAzqiA/kW3lAo1SqY/z2ekDwsK7tC8d7QE/JJ5u7lntAjAZ6cGYQekBQWfidWZx5QD4GaIRP2HtAHndPr5f2fEB71deParp9QK3Q+C/MOH9Ad/SKz8YdgEAYNCPT6dl+QDkAgJOnRoBAHyO2cVfXgEDtkIbELQ6BQFzODN+ZTIFAUiGlmqrAgUDDGakOLrCBQBg6sygIq4JAa89XPB9PgkCAnEjFNGmCQBMYoZUehYJAIsWsf3RegUA5wsQHv3WBQHe8smE4UIJAAAAAQOFCg0AAAABgZpKDQA==",
          "dtype": "f8"
         },
         "type": "candlestick",
         "x": [
          "2019-01-31T00:00:00.000000000",
          "2019-02-28T00:00:00.000000000",
          "2019-03-31T00:00:00.000000000",
          "2019-04-30T00:00:00.000000000",
          "2019-05-31T00:00:00.000000000",
          "2019-06-30T00:00:00.000000000",
          "2019-07-31T00:00:00.000000000",
          "2019-08-31T00:00:00.000000000",
          "2019-09-30T00:00:00.000000000",
          "2019-10-31T00:00:00.000000000",
          "2019-11-30T00:00:00.000000000",
          "2019-12-31T00:00:00.000000000",
          "2020-01-31T00:00:00.000000000",
          "2020-02-29T00:00:00.000000000",
          "2020-03-31T00:00:00.000000000",
          "2020-04-30T00:00:00.000000000",
          "2020-05-31T00:00:00.000000000",
          "2020-06-30T00:00:00.000000000",
          "2020-07-31T00:00:00.000000000",
          "2020-08-31T00:00:00.000000000",
          "2020-09-30T00:00:00.000000000",
          "2020-10-31T00:00:00.000000000",
          "2020-11-30T00:00:00.000000000",
          "2020-12-31T00:00:00.000000000",
          "2021-01-31T00:00:00.000000000",
          "2021-02-28T00:00:00.000000000",
          "2021-03-31T00:00:00.000000000",
          "2021-04-30T00:00:00.000000000",
          "2021-05-31T00:00:00.000000000",
          "2021-06-30T00:00:00.000000000",
          "2021-07-31T00:00:00.000000000",
          "2021-08-31T00:00:00.000000000",
          "2021-09-30T00:00:00.000000000",
          "2021-10-31T00:00:00.000000000",
          "2021-11-30T00:00:00.000000000",
          "2021-12-31T00:00:00.000000000",
          "2022-01-31T00:00:00.000000000",
          "2022-02-28T00:00:00.000000000",
          "2022-03-31T00:00:00.000000000",
          "2022-04-30T00:00:00.000000000",
          "2022-05-31T00:00:00.000000000",
          "2022-06-30T00:00:00.000000000",
          "2022-07-31T00:00:00.000000000",
          "2022-08-31T00:00:00.000000000",
          "2022-09-30T00:00:00.000000000",
          "2022-10-31T00:00:00.000000000",
          "2022-11-30T00:00:00.000000000",
          "2022-12-31T00:00:00.000000000",
          "2023-01-31T00:00:00.000000000",
          "2023-02-28T00:00:00.000000000",
          "2023-03-31T00:00:00.000000000",
          "2023-04-30T00:00:00.000000000",
          "2023-05-31T00:00:00.000000000",
          "2023-06-30T00:00:00.000000000",
          "2023-07-31T00:00:00.000000000",
          "2023-08-31T00:00:00.000000000",
          "2023-09-30T00:00:00.000000000",
          "2023-10-31T00:00:00.000000000",
          "2023-11-30T00:00:00.000000000",
          "2023-12-31T00:00:00.000000000",
          "2024-01-31T00:00:00.000000000",
          "2024-02-29T00:00:00.000000000",
          "2024-03-31T00:00:00.000000000",
          "2024-04-30T00:00:00.000000000",
          "2024-05-31T00:00:00.000000000",
          "2024-06-30T00:00:00.000000000",
          "2024-07-31T00:00:00.000000000",
          "2024-08-31T00:00:00.000000000",
          "2024-09-30T00:00:00.000000000",
          "2024-10-31T00:00:00.000000000",
          "2024-11-30T00:00:00.000000000",
          "2024-12-31T00:00:00.000000000",
          "2025-01-31T00:00:00.000000000",
          "2025-02-28T00:00:00.000000000",
          "2025-03-31T00:00:00.000000000",
          "2025-04-30T00:00:00.000000000",
          "2025-05-31T00:00:00.000000000",
          "2025-06-30T00:00:00.000000000",
          "2025-07-31T00:00:00.000000000",
          "2025-08-31T00:00:00.000000000"
         ]
        },
        {
         "line": {
          "width": 1.5
         },
         "mode": "lines",
         "name": "MA10M",
         "type": "scatter",
         "x": [
          "2019-01-31T00:00:00.000000000",
          "2019-02-28T00:00:00.000000000",
          "2019-03-31T00:00:00.000000000",
          "2019-04-30T00:00:00.000000000",
          "2019-05-31T00:00:00.000000000",
          "2019-06-30T00:00:00.000000000",
          "2019-07-31T00:00:00.000000000",
          "2019-08-31T00:00:00.000000000",
          "2019-09-30T00:00:00.000000000",
          "2019-10-31T00:00:00.000000000",
          "2019-11-30T00:00:00.000000000",
          "2019-12-31T00:00:00.000000000",
          "2020-01-31T00:00:00.000000000",
          "2020-02-29T00:00:00.000000000",
          "2020-03-31T00:00:00.000000000",
          "2020-04-30T00:00:00.000000000",
          "2020-05-31T00:00:00.000000000",
          "2020-06-30T00:00:00.000000000",
          "2020-07-31T00:00:00.000000000",
          "2020-08-31T00:00:00.000000000",
          "2020-09-30T00:00:00.000000000",
          "2020-10-31T00:00:00.000000000",
          "2020-11-30T00:00:00.000000000",
          "2020-12-31T00:00:00.000000000",
          "2021-01-31T00:00:00.000000000",
          "2021-02-28T00:00:00.000000000",
          "2021-03-31T00:00:00.000000000",
          "2021-04-30T00:00:00.000000000",
          "2021-05-31T00:00:00.000000000",
          "2021-06-30T00:00:00.000000000",
          "2021-07-31T00:00:00.000000000",
          "2021-08-31T00:00:00.000000000",
          "2021-09-30T00:00:00.000000000",
          "2021-10-31T00:00:00.000000000",
          "2021-11-30T00:00:00.000000000",
          "2021-12-31T00:00:00.000000000",
          "2022-01-31T00:00:00.000000000",
          "2022-02-28T00:00:00.000000000",
          "2022-03-31T00:00:00.000000000",
          "2022-04-30T00:00:00.000000000",
          "2022-05-31T00:00:00.000000000",
          "2022-06-30T00:00:00.000000000",
          "2022-07-31T00:00:00.000000000",
          "2022-08-31T00:00:00.000000000",
          "2022-09-30T00:00:00.000000000",
          "2022-10-31T00:00:00.000000000",
          "2022-11-30T00:00:00.000000000",
          "2022-12-31T00:00:00.000000000",
          "2023-01-31T00:00:00.000000000",
          "2023-02-28T00:00:00.000000000",
          "2023-03-31T00:00:00.000000000",
          "2023-04-30T00:00:00.000000000",
          "2023-05-31T00:00:00.000000000",
          "2023-06-30T00:00:00.000000000",
          "2023-07-31T00:00:00.000000000",
          "2023-08-31T00:00:00.000000000",
          "2023-09-30T00:00:00.000000000",
          "2023-10-31T00:00:00.000000000",
          "2023-11-30T00:00:00.000000000",
          "2023-12-31T00:00:00.000000000",
          "2024-01-31T00:00:00.000000000",
          "2024-02-29T00:00:00.000000000",
          "2024-03-31T00:00:00.000000000",
          "2024-04-30T00:00:00.000000000",
          "2024-05-31T00:00:00.000000000",
          "2024-06-30T00:00:00.000000000",
          "2024-07-31T00:00:00.000000000",
          "2024-08-31T00:00:00.000000000",
          "2024-09-30T00:00:00.000000000",
          "2024-10-31T00:00:00.000000000",
          "2024-11-30T00:00:00.000000000",
          "2024-12-31T00:00:00.000000000",
          "2025-01-31T00:00:00.000000000",
          "2025-02-28T00:00:00.000000000",
          "2025-03-31T00:00:00.000000000",
          "2025-04-30T00:00:00.000000000",
          "2025-05-31T00:00:00.000000000",
          "2025-06-30T00:00:00.000000000",
          "2025-07-31T00:00:00.000000000",
          "2025-08-31T00:00:00.000000000"
         ],
         "y": {
          "bdata": "AAAAAAAA+H8AAAAAAAD4fwAAAAAAAPh/AAAAAAAA+H8AAAAAAAD4fwAAAAAAAPh/AAAAAAAA+H8AAAAAAAD4fwAAAAAAAPh/ZmZmFi1qcEBmZmZ+v7BwQDMzM8MO+HBAMzMzI+A3cUAAAACQXEFxQDMzM+uML3FAMzMzi3EycUBmZmbuZENxQGZmZr6fY3FAZmZmvpiWcUDNzMxE5eFxQJqZmeGYCXJAmpmZkWgXckBmZmZeilpyQAAAAEhL13JAAAAAQOCEc0BmZmYWXhF0QM3MzAxFo3RAmpmZCcVMdUBmZmYmWN91QM3MzOwpXnZAAAAA0EQAd0AzMzNDmMJ3QDMzM9P4L3hAzczM/PS2eEAAAABwET55QDMzMwOu1XlAzczM/DgtekDNzMzM8lB6QDMzMzOHiXpAmpmZmWJ3ekAAAACw3FZ6QJqZmemd7nlAAAAA4HbbeUCamZnZ3IB5QGZmZvbV83hAmpmZGY1zeEBmZmaWdDp4QM3MzAxm8XdAMzMzc4+0d0DNzMxccKR3QGZmZtafqXdAMzMzo/Tsd0BmZmbG/v13QM3MzAzbUnhAzczMPFr2eEAAAADgjWF5QGZmZlZninlAAAAAEOrIeUDNzMz89x16QM3MzNxro3pAzczM3Agee0AAAADgELZ7QM3MzCw1ZXxAzczMrBXJfEAzMzPDVz59QGZmZiaB3H1AAAAAsF+mfkBmZmaGGJN/QJqZmUFkK4BAzczM9OF4gECamZlpTtuAQJqZmflzHoFAMzMzMxJhgUCamZlpOa6BQAAAACANzYFAzczMDFvZgUAAAAAwQPyBQM3MzFwiLYJAzczM3AtggkAzMzNzZKGCQA==",
          "dtype": "f8"
         }
        },
        {
         "marker": {
          "color": [
           "red",
           "green",
           "red",
           "green",
           "red",
           "green",
           "red",
           "green",
           "red",
           "green",
           "red",
           "green"
          ],
          "size": 12,
          "symbol": [
           "triangle-down",
           "triangle-up",
           "triangle-down",
           "triangle-up",
           "triangle-down",
           "triangle-up",
           "triangle-down",
           "triangle-up",
           "triangle-down",
           "triangle-up",
           "triangle-down",
           "triangle-up"
          ]
         },
         "mode": "markers",
         "name": "MA10 Crossovers",
         "type": "scatter",
         "x": [
          "2020-02-29T00:00:00",
          "2020-05-31T00:00:00",
          "2022-02-28T00:00:00",
          "2022-03-31T00:00:00",
          "2022-04-30T00:00:00",
          "2022-11-30T00:00:00",
          "2022-12-31T00:00:00",
          "2023-01-31T00:00:00",
          "2023-10-31T00:00:00",
          "2023-11-30T00:00:00",
          "2025-03-31T00:00:00",
          "2025-05-31T00:00:00"
         ],
         "y": [
          273.03887939453125,
          282.11639404296875,
          415.38568115234375,
          431.0001525878906,
          393.1716613769531,
          392.334716796875,
          369.7251892089844,
          392.9762268066406,
          408.7943420410156,
          446.1352233886719,
          557.7411499023438,
          587.6527709960938
         ]
        }
       ],
       "layout": {
        "dragmode": "pan",
        "hovermode": "x",
        "template": {
         "data": {
          "bar": [
           {
            "error_x": {
             "color": "#2a3f5f"
            },
            "error_y": {
             "color": "#2a3f5f"
            },
            "marker": {
             "line": {
              "color": "#E5ECF6",
              "width": 0.5
             },
             "pattern": {
              "fillmode": "overlay",
              "size": 10,
              "solidity": 0.2
             }
            },
            "type": "bar"
           }
          ],
          "barpolar": [
           {
            "marker": {
             "line": {
              "color": "#E5ECF6",
              "width": 0.5
             },
             "pattern": {
              "fillmode": "overlay",
              "size": 10,
              "solidity": 0.2
             }
            },
            "type": "barpolar"
           }
          ],
          "carpet": [
           {
            "aaxis": {
             "endlinecolor": "#2a3f5f",
             "gridcolor": "white",
             "linecolor": "white",
             "minorgridcolor": "white",
             "startlinecolor": "#2a3f5f"
            },
            "baxis": {
             "endlinecolor": "#2a3f5f",
             "gridcolor": "white",
             "linecolor": "white",
             "minorgridcolor": "white",
             "startlinecolor": "#2a3f5f"
            },
            "type": "carpet"
           }
          ],
          "choropleth": [
           {
            "colorbar": {
             "outlinewidth": 0,
             "ticks": ""
            },
            "type": "choropleth"
           }
          ],
          "contour": [
           {
            "colorbar": {
             "outlinewidth": 0,
             "ticks": ""
            },
            "colorscale": [
             [
              0,
              "#0d0887"
             ],
             [
              0.1111111111111111,
              "#46039f"
             ],
             [
              0.2222222222222222,
              "#7201a8"
             ],
             [
              0.3333333333333333,
              "#9c179e"
             ],
             [
              0.4444444444444444,
              "#bd3786"
             ],
             [
              0.5555555555555556,
              "#d8576b"
             ],
             [
              0.6666666666666666,
              "#ed7953"
             ],
             [
              0.7777777777777778,
              "#fb9f3a"
             ],
             [
              0.8888888888888888,
              "#fdca26"
             ],
             [
              1,
              "#f0f921"
             ]
            ],
            "type": "contour"
           }
          ],
          "contourcarpet": [
           {
            "colorbar": {
             "outlinewidth": 0,
             "ticks": ""
            },
            "type": "contourcarpet"
           }
          ],
          "heatmap": [
           {
            "colorbar": {
             "outlinewidth": 0,
             "ticks": ""
            },
            "colorscale": [
             [
              0,
              "#0d0887"
             ],
             [
              0.1111111111111111,
              "#46039f"
             ],
             [
              0.2222222222222222,
              "#7201a8"
             ],
             [
              0.3333333333333333,
              "#9c179e"
             ],
             [
              0.4444444444444444,
              "#bd3786"
             ],
             [
              0.5555555555555556,
              "#d8576b"
             ],
             [
              0.6666666666666666,
              "#ed7953"
             ],
             [
              0.7777777777777778,
              "#fb9f3a"
             ],
             [
              0.8888888888888888,
              "#fdca26"
             ],
             [
              1,
              "#f0f921"
             ]
            ],
            "type": "heatmap"
           }
          ],
          "histogram": [
           {
            "marker": {
             "pattern": {
              "fillmode": "overlay",
              "size": 10,
              "solidity": 0.2
             }
            },
            "type": "histogram"
           }
          ],
          "histogram2d": [
           {
            "colorbar": {
             "outlinewidth": 0,
             "ticks": ""
            },
            "colorscale": [
             [
              0,
              "#0d0887"
             ],
             [
              0.1111111111111111,
              "#46039f"
             ],
             [
              0.2222222222222222,
              "#7201a8"
             ],
             [
              0.3333333333333333,
              "#9c179e"
             ],
             [
              0.4444444444444444,
              "#bd3786"
             ],
             [
              0.5555555555555556,
              "#d8576b"
             ],
             [
              0.6666666666666666,
              "#ed7953"
             ],
             [
              0.7777777777777778,
              "#fb9f3a"
             ],
             [
              0.8888888888888888,
              "#fdca26"
             ],
             [
              1,
              "#f0f921"
             ]
            ],
            "type": "histogram2d"
           }
          ],
          "histogram2dcontour": [
           {
            "colorbar": {
             "outlinewidth": 0,
             "ticks": ""
            },
            "colorscale": [
             [
              0,
              "#0d0887"
             ],
             [
              0.1111111111111111,
              "#46039f"
             ],
             [
              0.2222222222222222,
              "#7201a8"
             ],
             [
              0.3333333333333333,
              "#9c179e"
             ],
             [
              0.4444444444444444,
              "#bd3786"
             ],
             [
              0.5555555555555556,
              "#d8576b"
             ],
             [
              0.6666666666666666,
              "#ed7953"
             ],
             [
              0.7777777777777778,
              "#fb9f3a"
             ],
             [
              0.8888888888888888,
              "#fdca26"
             ],
             [
              1,
              "#f0f921"
             ]
            ],
            "type": "histogram2dcontour"
           }
          ],
          "mesh3d": [
           {
            "colorbar": {
             "outlinewidth": 0,
             "ticks": ""
            },
            "type": "mesh3d"
           }
          ],
          "parcoords": [
           {
            "line": {
             "colorbar": {
              "outlinewidth": 0,
              "ticks": ""
             }
            },
            "type": "parcoords"
           }
          ],
          "pie": [
           {
            "automargin": true,
            "type": "pie"
           }
          ],
          "scatter": [
           {
            "fillpattern": {
             "fillmode": "overlay",
             "size": 10,
             "solidity": 0.2
            },
            "type": "scatter"
           }
          ],
          "scatter3d": [
           {
            "line": {
             "colorbar": {
              "outlinewidth": 0,
              "ticks": ""
             }
            },
            "marker": {
             "colorbar": {
              "outlinewidth": 0,
              "ticks": ""
             }
            },
            "type": "scatter3d"
           }
          ],
          "scattercarpet": [
           {
            "marker": {
             "colorbar": {
              "outlinewidth": 0,
              "ticks": ""
             }
            },
            "type": "scattercarpet"
           }
          ],
          "scattergeo": [
           {
            "marker": {
             "colorbar": {
              "outlinewidth": 0,
              "ticks": ""
             }
            },
            "type": "scattergeo"
           }
          ],
          "scattergl": [
           {
            "marker": {
             "colorbar": {
              "outlinewidth": 0,
              "ticks": ""
             }
            },
            "type": "scattergl"
           }
          ],
          "scattermap": [
           {
            "marker": {
             "colorbar": {
              "outlinewidth": 0,
              "ticks": ""
             }
            },
            "type": "scattermap"
           }
          ],
          "scattermapbox": [
           {
            "marker": {
             "colorbar": {
              "outlinewidth": 0,
              "ticks": ""
             }
            },
            "type": "scattermapbox"
           }
          ],
          "scatterpolar": [
           {
            "marker": {
             "colorbar": {
              "outlinewidth": 0,
              "ticks": ""
             }
            },
            "type": "scatterpolar"
           }
          ],
          "scatterpolargl": [
           {
            "marker": {
             "colorbar": {
              "outlinewidth": 0,
              "ticks": ""
             }
            },
            "type": "scatterpolargl"
           }
          ],
          "scatterternary": [
           {
            "marker": {
             "colorbar": {
              "outlinewidth": 0,
              "ticks": ""
             }
            },
            "type": "scatterternary"
           }
          ],
          "surface": [
           {
            "colorbar": {
             "outlinewidth": 0,
             "ticks": ""
            },
            "colorscale": [
             [
              0,
              "#0d0887"
             ],
             [
              0.1111111111111111,
              "#46039f"
             ],
             [
              0.2222222222222222,
              "#7201a8"
             ],
             [
              0.3333333333333333,
              "#9c179e"
             ],
             [
              0.4444444444444444,
              "#bd3786"
             ],
             [
              0.5555555555555556,
              "#d8576b"
             ],
             [
              0.6666666666666666,
              "#ed7953"
             ],
             [
              0.7777777777777778,
              "#fb9f3a"
             ],
             [
              0.8888888888888888,
              "#fdca26"
             ],
             [
              1,
              "#f0f921"
             ]
            ],
            "type": "surface"
           }
          ],
          "table": [
           {
            "cells": {
             "fill": {
              "color": "#EBF0F8"
             },
             "line": {
              "color": "white"
             }
            },
            "header": {
             "fill": {
              "color": "#C8D4E3"
             },
             "line": {
              "color": "white"
             }
            },
            "type": "table"
           }
          ]
         },
         "layout": {
          "annotationdefaults": {
           "arrowcolor": "#2a3f5f",
           "arrowhead": 0,
           "arrowwidth": 1
          },
          "autotypenumbers": "strict",
          "coloraxis": {
           "colorbar": {
            "outlinewidth": 0,
            "ticks": ""
           }
          },
          "colorscale": {
           "diverging": [
            [
             0,
             "#8e0152"
            ],
            [
             0.1,
             "#c51b7d"
            ],
            [
             0.2,
             "#de77ae"
            ],
            [
             0.3,
             "#f1b6da"
            ],
            [
             0.4,
             "#fde0ef"
            ],
            [
             0.5,
             "#f7f7f7"
            ],
            [
             0.6,
             "#e6f5d0"
            ],
            [
             0.7,
             "#b8e186"
            ],
            [
             0.8,
             "#7fbc41"
            ],
            [
             0.9,
             "#4d9221"
            ],
            [
             1,
             "#276419"
            ]
           ],
           "sequential": [
            [
             0,
             "#0d0887"
            ],
            [
             0.1111111111111111,
             "#46039f"
            ],
            [
             0.2222222222222222,
             "#7201a8"
            ],
            [
             0.3333333333333333,
             "#9c179e"
            ],
            [
             0.4444444444444444,
             "#bd3786"
            ],
            [
             0.5555555555555556,
             "#d8576b"
            ],
            [
             0.6666666666666666,
             "#ed7953"
            ],
            [
             0.7777777777777778,
             "#fb9f3a"
            ],
            [
             0.8888888888888888,
             "#fdca26"
            ],
            [
             1,
             "#f0f921"
            ]
           ],
           "sequentialminus": [
            [
             0,
             "#0d0887"
            ],
            [
             0.1111111111111111,
             "#46039f"
            ],
            [
             0.2222222222222222,
             "#7201a8"
            ],
            [
             0.3333333333333333,
             "#9c179e"
            ],
            [
             0.4444444444444444,
             "#bd3786"
            ],
            [
             0.5555555555555556,
             "#d8576b"
            ],
            [
             0.6666666666666666,
             "#ed7953"
            ],
            [
             0.7777777777777778,
             "#fb9f3a"
            ],
            [
             0.8888888888888888,
             "#fdca26"
            ],
            [
             1,
             "#f0f921"
            ]
           ]
          },
          "colorway": [
           "#636efa",
           "#EF553B",
           "#00cc96",
           "#ab63fa",
           "#FFA15A",
           "#19d3f3",
           "#FF6692",
           "#B6E880",
           "#FF97FF",
           "#FECB52"
          ],
          "font": {
           "color": "#2a3f5f"
          },
          "geo": {
           "bgcolor": "white",
           "lakecolor": "white",
           "landcolor": "#E5ECF6",
           "showlakes": true,
           "showland": true,
           "subunitcolor": "white"
          },
          "hoverlabel": {
           "align": "left"
          },
          "hovermode": "closest",
          "mapbox": {
           "style": "light"
          },
          "paper_bgcolor": "white",
          "plot_bgcolor": "#E5ECF6",
          "polar": {
           "angularaxis": {
            "gridcolor": "white",
            "linecolor": "white",
            "ticks": ""
           },
           "bgcolor": "#E5ECF6",
           "radialaxis": {
            "gridcolor": "white",
            "linecolor": "white",
            "ticks": ""
           }
          },
          "scene": {
           "xaxis": {
            "backgroundcolor": "#E5ECF6",
            "gridcolor": "white",
            "gridwidth": 2,
            "linecolor": "white",
            "showbackground": true,
            "ticks": "",
            "zerolinecolor": "white"
           },
           "yaxis": {
            "backgroundcolor": "#E5ECF6",
            "gridcolor": "white",
            "gridwidth": 2,
            "linecolor": "white",
            "showbackground": true,
            "ticks": "",
            "zerolinecolor": "white"
           },
           "zaxis": {
            "backgroundcolor": "#E5ECF6",
            "gridcolor": "white",
            "gridwidth": 2,
            "linecolor": "white",
            "showbackground": true,
            "ticks": "",
            "zerolinecolor": "white"
           }
          },
          "shapedefaults": {
           "line": {
            "color": "#2a3f5f"
           }
          },
          "ternary": {
           "aaxis": {
            "gridcolor": "white",
            "linecolor": "white",
            "ticks": ""
           },
           "baxis": {
            "gridcolor": "white",
            "linecolor": "white",
            "ticks": ""
           },
           "bgcolor": "#E5ECF6",
           "caxis": {
            "gridcolor": "white",
            "linecolor": "white",
            "ticks": ""
           }
          },
          "title": {
           "x": 0.05
          },
          "xaxis": {
           "automargin": true,
           "gridcolor": "white",
           "linecolor": "white",
           "ticks": "",
           "title": {
            "standoff": 15
           },
           "zerolinecolor": "white",
           "zerolinewidth": 2
          },
          "yaxis": {
           "automargin": true,
           "gridcolor": "white",
           "linecolor": "white",
           "ticks": "",
           "title": {
            "standoff": 15
           },
           "zerolinecolor": "white",
           "zerolinewidth": 2
          }
         }
        },
        "title": {
         "text": "SPY M Candlestick with Moving Averages + Crossovers"
        },
        "xaxis": {
         "rangeslider": {
          "visible": false
         }
        },
        "yaxis": {
         "title": {
          "text": "Price"
         }
        }
       }
      }
     },
     "metadata": {},
     "output_type": "display_data"
    }
   ],
   "source": [
    "from dataDownloader  import DataDownloader\n",
    "from db_financialStatement import DB_FinancialStatement\n",
    "from db_nyse import DB_NYSE\n",
    "from db_stock import DB_Stock\n",
    "from portfolio import Portfolio\n",
    "from assetAllocation import AssetAllocation\n",
    "from matplotlib.dates import relativedelta\n",
    "from datetime import datetime, timedelta\n",
    "from commonHelper import EDateType\n",
    "from scipy.stats.mstats import winsorize\n",
    "\n",
    "import datetime\n",
    "import dataDownloader\n",
    "import yfinance as yf;\n",
    "import pandas as pd\n",
    "import commonHelper\n",
    "import numpy as np\n",
    "import os\n",
    "import warnings\n",
    "import yfinance as yf\n",
    "import mplfinance as mpf\n",
    "import plotly.graph_objects as go\n",
    "\n",
    "start_date = '2014-12-01'\n",
    "end_date = '2025-08-01'\n",
    "\n",
    "\n",
    "\n",
    "def plot_candlestick(ticker:str, start:str=None, end:str=None, period:str=None, freq:str=\"D\"):\n",
    "    \"\"\"\n",
    "    ticker: 티커 (예: 'SPY')\n",
    "    start, end: 기간 지정 (예: start=\"2020-01-01\", end=\"2023-01-01\")\n",
    "    period: 최근 기간 지정 (예: \"1y\", \"6mo\")  # start,end 대신 사용 가능\n",
    "    freq: 'D' (일간), 'M' (월간)\n",
    "    \"\"\"\n",
    "    # 데이터 다운로드\n",
    "    df = yf.download(ticker, start=start, end=end, period=period, interval=\"1d\")\n",
    "    df.columns = df.columns.get_level_values(0)\n",
    "\n",
    "    if df.empty:\n",
    "        raise ValueError(\"데이터를 불러오지 못했습니다. 기간/티커를 확인하세요.\")\n",
    "\n",
    "    # 리샘플링 (월간으로)\n",
    "    if freq == \"M\":\n",
    "        df = df.resample(\"M\").agg({\n",
    "            \"Open\": \"first\",\n",
    "            \"High\": \"max\",\n",
    "            \"Low\": \"min\",\n",
    "            \"Close\": \"last\",\n",
    "            \"Volume\": \"sum\"\n",
    "        })\n",
    "\n",
    "    # 차트 출력\n",
    "    mpf.plot(\n",
    "        df,\n",
    "        type=\"candle\",\n",
    "        style=\"yahoo\",\n",
    "        volume=True,\n",
    "        title=f\"{ticker} {freq} Candlestick\",\n",
    "        ylabel=\"Price\",\n",
    "        ylabel_lower=\"Volume\"\n",
    "    )\n",
    "\n",
    "\n",
    "def plot_candlestick_interactive(ticker, start=None, end=None, period=None, freq=\"D\", ma_windows=None):\n",
    "    df = yf.download(\n",
    "        ticker, start=start, end=end, period=period, interval=\"1d\", group_by=\"column\"\n",
    "    )\n",
    "\n",
    "    if df.empty:\n",
    "        raise ValueError(\"데이터를 불러오지 못했습니다. 기간/티커를 확인하세요.\")\n",
    "\n",
    "    df.columns = df.columns.get_level_values(0)\n",
    "\n",
    "    # 월봉 변환\n",
    "    if freq == \"M\":\n",
    "        df = df.resample(\"M\").agg({\n",
    "            \"Open\": \"first\",\n",
    "            \"High\": \"max\",\n",
    "            \"Low\": \"min\",\n",
    "            \"Close\": \"last\",\n",
    "            \"Volume\": \"sum\"\n",
    "        })\n",
    "\n",
    "    df = df.reset_index()\n",
    "    df.columns.name = None\n",
    "    df = df.dropna()\n",
    "\n",
    "    fig = go.Figure()\n",
    "\n",
    "    # 캔들차트 추가\n",
    "    fig.add_trace(go.Candlestick(\n",
    "        x=df['Date'],\n",
    "        open=df['Open'],\n",
    "        high=df['High'],\n",
    "        low=df['Low'],\n",
    "        close=df['Close'],\n",
    "        name=\"Candlestick\"\n",
    "    ))\n",
    "\n",
    "    # 이동평균선 + Crossovers\n",
    "    if ma_windows:\n",
    "        for window in ma_windows:\n",
    "            ma_col = f\"MA{window}\"\n",
    "            df[ma_col] = df[\"Close\"].rolling(window=window).mean()\n",
    "\n",
    "            # 이동평균선 라인 추가\n",
    "            fig.add_trace(go.Scatter(\n",
    "                x=df['Date'],\n",
    "                y=df[ma_col],\n",
    "                mode=\"lines\",\n",
    "                line=dict(width=1.5),\n",
    "                name=f\"{ma_col}{'D' if freq=='D' else 'M'}\"\n",
    "            ))\n",
    "\n",
    "            # 교차 지점 계산\n",
    "            cross_x, cross_y, cross_symbol, cross_color = [], [], [], []\n",
    "            prev_diff = df[\"Close\"].iloc[0] - df[ma_col].iloc[0]\n",
    "\n",
    "            for i in range(1, len(df)):\n",
    "                curr_diff = df[\"Close\"].iloc[i] - df[ma_col].iloc[i]\n",
    "                if pd.notna(curr_diff) and pd.notna(prev_diff):\n",
    "                    if prev_diff < 0 and curr_diff > 0:  # 상향 돌파\n",
    "                        cross_x.append(df[\"Date\"].iloc[i])\n",
    "                        cross_y.append(df[\"Close\"].iloc[i])\n",
    "                        cross_symbol.append(\"triangle-up\")\n",
    "                        cross_color.append(\"green\")\n",
    "                    elif prev_diff > 0 and curr_diff < 0:  # 하향 돌파\n",
    "                        cross_x.append(df[\"Date\"].iloc[i])\n",
    "                        cross_y.append(df[\"Close\"].iloc[i])\n",
    "                        cross_symbol.append(\"triangle-down\")\n",
    "                        cross_color.append(\"red\")\n",
    "                prev_diff = curr_diff\n",
    "\n",
    "            # 교차점 전체를 하나의 trace로 묶기\n",
    "            if cross_x:\n",
    "                fig.add_trace(go.Scatter(\n",
    "                    x=cross_x,\n",
    "                    y=cross_y,\n",
    "                    mode=\"markers\",\n",
    "                    marker=dict(size=12, color=cross_color, symbol=cross_symbol),\n",
    "                    name=f\"{ma_col} Crossovers\"\n",
    "                ))\n",
    "\n",
    "    fig.update_layout(\n",
    "        title=f\"{ticker} {freq} Candlestick with Moving Averages + Crossovers\",\n",
    "        xaxis_rangeslider_visible=False,\n",
    "        yaxis_title=\"Price\",\n",
    "        dragmode=\"pan\",\n",
    "        hovermode=\"x\"\n",
    "    )\n",
    "\n",
    "    # 마우스 휠 줌 가능\n",
    "    fig.show(config={\n",
    "        \"scrollZoom\": True,\n",
    "        \"displayModeBar\": True,\n",
    "        \"modeBarButtonsToAdd\": [\"togglehover\"]\n",
    "    })\n",
    "\n",
    "plot_candlestick_interactive(\"SPY\", start=\"2019-01-01\", end=\"2025-09-01\", freq=\"M\", ma_windows=[5,10])"
   ]
  }
 ],
 "metadata": {
  "kernelspec": {
   "display_name": "env3_12",
   "language": "python",
   "name": "python3"
  },
  "language_info": {
   "codemirror_mode": {
    "name": "ipython",
    "version": 3
   },
   "file_extension": ".py",
   "mimetype": "text/x-python",
   "name": "python",
   "nbconvert_exporter": "python",
   "pygments_lexer": "ipython3",
   "version": "3.12.9"
  }
 },
 "nbformat": 4,
 "nbformat_minor": 2
}
