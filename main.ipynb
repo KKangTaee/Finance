{
 "cells": [
  {
   "cell_type": "code",
   "execution_count": 1,
   "metadata": {},
   "outputs": [],
   "source": [
    "import pandas as pd\n",
    "from dataDownloader import DataDownloader\n",
    "from db_financialStatement import DB_FinancialStatement\n",
    "\n",
    "pd.set_option('display.max_rows', None)  # 모든 행 출\n",
    "pd.set_option('display.max_columns', None)  # 모든 열 출력\n",
    "pd.set_option('display.expand_frame_repr', False)  # 긴 데이터 프레임 줄바꿈 없이 출력\n"
   ]
  },
  {
   "cell_type": "code",
   "execution_count": 3,
   "metadata": {},
   "outputs": [
    {
     "name": "stdout",
     "output_type": "stream",
     "text": [
      "총 100개의 심볼을 100개씩 나눠서 1번에 걸쳐 처리합니다. (심볼 인덱스 범위: 0 ~ 100)\n",
      "[1/1] 100개 심볼 다운로드 중...\n"
     ]
    },
    {
     "name": "stderr",
     "output_type": "stream",
     "text": [
      "[*********************100%***********************]  100 of 100 completed\n"
     ]
    },
    {
     "name": "stdout",
     "output_type": "stream",
     "text": [
      "[경고] 'ACPpA' 데이터 없음 (상장폐지/잘못된 심볼 등)\n",
      "1674 rows inserted/updated successfully.\n",
      "[1/1] 데이터 저장 완료.\n",
      "모든 데이터 처리 완료.\n"
     ]
    }
   ],
   "source": [
    "DataDownloader.downloadStockDataAndSaveDB('2025-01-01',startIndex=0, endIndex=100)"
   ]
  }
 ],
 "metadata": {
  "kernelspec": {
   "display_name": "myenv",
   "language": "python",
   "name": "python3"
  },
  "language_info": {
   "codemirror_mode": {
    "name": "ipython",
    "version": 3
   },
   "file_extension": ".py",
   "mimetype": "text/x-python",
   "name": "python",
   "nbconvert_exporter": "python",
   "pygments_lexer": "ipython3",
   "version": "3.12.9"
  }
 },
 "nbformat": 4,
 "nbformat_minor": 2
}
