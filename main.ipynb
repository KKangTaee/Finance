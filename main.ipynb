{
 "cells": [
  {
   "cell_type": "code",
   "execution_count": 1,
   "metadata": {},
   "outputs": [],
   "source": [
    "import pandas as pd\n",
    "from dataDownloader import DataDownloader\n",
    "from db_financialStatement import DB_FinancialStatement\n",
    "from db_stock import DB_Stock\n",
    "from db_nyse import DB_NYSE\n",
    "from commonHelper import EDateType\n",
    "from datetime import datetime\n",
    "import yfinance as yf\n",
    "\n",
    "pd.set_option('display.max_rows', None)  # 모든 행 출\n",
    "pd.set_option('display.max_columns', None)  # 모든 열 출력\n",
    "pd.set_option('display.expand_frame_repr', False)  # 긴 데이터 프레임 줄바꿈 없이 출력\n"
   ]
  },
  {
   "cell_type": "code",
   "execution_count": null,
   "metadata": {},
   "outputs": [
    {
     "data": {
      "text/html": [
       "<div>\n",
       "<style scoped>\n",
       "    .dataframe tbody tr th:only-of-type {\n",
       "        vertical-align: middle;\n",
       "    }\n",
       "\n",
       "    .dataframe tbody tr th {\n",
       "        vertical-align: top;\n",
       "    }\n",
       "\n",
       "    .dataframe thead th {\n",
       "        text-align: right;\n",
       "    }\n",
       "</style>\n",
       "<table border=\"1\" class=\"dataframe\">\n",
       "  <thead>\n",
       "    <tr style=\"text-align: right;\">\n",
       "      <th></th>\n",
       "      <th>Symbol</th>\n",
       "      <th>Start Balance</th>\n",
       "      <th>End Balance</th>\n",
       "      <th>MDD</th>\n",
       "      <th>CAGR</th>\n",
       "      <th>Standard Deviation</th>\n",
       "      <th>Sharpe Ratio</th>\n",
       "    </tr>\n",
       "  </thead>\n",
       "  <tbody>\n",
       "    <tr>\n",
       "      <th>0</th>\n",
       "      <td>AMD</td>\n",
       "      <td>10000</td>\n",
       "      <td>39512.2</td>\n",
       "      <td>-25.43554</td>\n",
       "      <td>295.49</td>\n",
       "      <td>0.5968</td>\n",
       "      <td>2.726628</td>\n",
       "    </tr>\n",
       "  </tbody>\n",
       "</table>\n",
       "</div>"
      ],
      "text/plain": [
       "  Symbol  Start Balance  End Balance       MDD    CAGR  Standard Deviation  Sharpe Ratio\n",
       "0    AMD          10000      39512.2 -25.43554  295.49              0.5968      2.726628"
      ]
     },
     "metadata": {},
     "output_type": "display_data"
    }
   ],
   "source": [
    "from yFinanceInfo import YFinanceInfo\n",
    "\n",
    "symbols = []\n",
    "db=DB_NYSE()\n",
    "db.connect()\n",
    "\n",
    "symbols = db.getSymbolList()\n",
    "\n",
    "db.disconnect()\n",
    "\n",
    "db = DB_Stock()\n",
    "db.connect()\n",
    "\n",
    "freq = EDateType.MONTHLY\n",
    "# df = db.getPerformanceSummary(['MRNA'], '2015-12-01', '2025-02-28', freq=freq)\n",
    "df = db.getPerformanceSummary(['AMD'], '2015-12-01', '2016-12-31"
   ]
  },
  {
   "cell_type": "code",
   "execution_count": null,
   "metadata": {},
   "outputs": [],
   "source": []
  },
  {
   "cell_type": "code",
   "execution_count": null,
   "metadata": {},
   "outputs": [],
   "source": []
  },
  {
   "cell_type": "code",
   "execution_count": null,
   "metadata": {},
   "outputs": [],
   "source": []
  },
  {
   "cell_type": "code",
   "execution_count": null,
   "metadata": {},
   "outputs": [],
   "source": []
  },
  {
   "cell_type": "code",
   "execution_count": null,
   "metadata": {},
   "outputs": [],
   "source": []
  },
  {
   "cell_type": "code",
   "execution_count": null,
   "metadata": {},
   "outputs": [],
   "source": [
    "', freq= freq)\n",
    "display(df)\n",
    "\n",
    "db.disconnect()\n"
   ]
  },
  {
   "cell_type": "markdown",
   "metadata": {},
   "source": []
  }
 ],
 "metadata": {
  "kernelspec": {
   "display_name": "myenv",
   "language": "python",
   "name": "python3"
  },
  "language_info": {
   "codemirror_mode": {
    "name": "ipython",
    "version": 3
   },
   "file_extension": ".py",
   "mimetype": "text/x-python",
   "name": "python",
   "nbconvert_exporter": "python",
   "pygments_lexer": "ipython3",
   "version": "3.12.9"
  }
 },
 "nbformat": 4,
 "nbformat_minor": 2
}
