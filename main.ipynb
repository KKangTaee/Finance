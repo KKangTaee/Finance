{
 "cells": [
  {
   "cell_type": "code",
   "execution_count": 15,
   "metadata": {},
   "outputs": [],
   "source": [
    "import mysqlConnecter as mc\n",
    "import pandas as pd\n",
    "import financialStatement as fs\n",
    "\n",
    "pd.set_option('display.max_rows', None)  # 모든 행 출력\n",
    "pd.set_option('display.max_columns', None)  # 모든 열 출력\n",
    "pd.set_option('display.expand_frame_repr', False)  # 긴 데이터 프레임 줄바꿈 없이 출력\n"
   ]
  },
  {
   "cell_type": "code",
   "execution_count": null,
   "metadata": {},
   "outputs": [],
   "source": [
    "mysqlConn = mc.MySQLConnector()\n",
    "mysqlConn.connect()\n",
    "\n",
    "data = mysqlConn.getCompanyByCurrentRatioAndDebtToEquity(100)\n",
    "display(data)\n",
    "\n",
    "mysqlConn.disconnect()"
   ]
  },
  {
   "cell_type": "code",
   "execution_count": null,
   "metadata": {},
   "outputs": [
    {
     "ename": "AttributeError",
     "evalue": "module 'financialStatement' has no attribute 'stock'",
     "output_type": "error",
     "traceback": [
      "\u001b[0;31m---------------------------------------------------------------------------\u001b[0m",
      "\u001b[0;31mAttributeError\u001b[0m                            Traceback (most recent call last)",
      "Cell \u001b[0;32mIn[16], line 12\u001b[0m\n\u001b[1;32m     10\u001b[0m fsData \u001b[38;5;241m=\u001b[39m fs\u001b[38;5;241m.\u001b[39mFinancialStatement()\n\u001b[1;32m     11\u001b[0m fsData\u001b[38;5;241m.\u001b[39msetCompany(\u001b[38;5;124m\"\u001b[39m\u001b[38;5;124mAAPL\u001b[39m\u001b[38;5;124m\"\u001b[39m)\n\u001b[0;32m---> 12\u001b[0m \u001b[38;5;28mprint\u001b[39m(\u001b[43mfs\u001b[49m\u001b[38;5;241;43m.\u001b[39;49m\u001b[43mstock\u001b[49m\u001b[38;5;241m.\u001b[39minfo\u001b[38;5;241m.\u001b[39mget(\u001b[38;5;124m'\u001b[39m\u001b[38;5;124mtrailingPE\u001b[39m\u001b[38;5;124m'\u001b[39m))\n\u001b[1;32m     13\u001b[0m \u001b[38;5;28mprint\u001b[39m(fs\u001b[38;5;241m.\u001b[39mstock\u001b[38;5;241m.\u001b[39minfo\u001b[38;5;241m.\u001b[39mget(\u001b[38;5;124m'\u001b[39m\u001b[38;5;124mforwardPE\u001b[39m\u001b[38;5;124m'\u001b[39m))\n",
      "\u001b[0;31mAttributeError\u001b[0m: module 'financialStatement' has no attribute 'stock'"
     ]
    }
   ],
   "source": [
    "import yfinance as yf\n",
    "\n",
    "# 여러 개의 티커 지정 (예: 애플, 마이크로소프트, 테슬라)\n",
    "tickers = [\"AAPL\"]\n",
    "\n",
    "# 여러 티커의 데이터 다운로드\n",
    "# df = yf.download(tickers, start=\"2024-01-01\", end=\"2024-03-01\")\n",
    "# display(df.columns.to_list())\n",
    "\n",
    "fsData = fs.FinancialStatement()\n",
    "fsData.setCompany(\"AAPL\")\n",
    "print(fsData.stock.info.get('trailingPE'))\n",
    "print(fsData.stock.info.get('forwardPE'))"
   ]
  }
 ],
 "metadata": {
  "kernelspec": {
   "display_name": "myenv",
   "language": "python",
   "name": "python3"
  },
  "language_info": {
   "codemirror_mode": {
    "name": "ipython",
    "version": 3
   },
   "file_extension": ".py",
   "mimetype": "text/x-python",
   "name": "python",
   "nbconvert_exporter": "python",
   "pygments_lexer": "ipython3",
   "version": "3.12.9"
  }
 },
 "nbformat": 4,
 "nbformat_minor": 2
}
