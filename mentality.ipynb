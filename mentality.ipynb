{
 "cells": [
  {
   "cell_type": "code",
   "execution_count": 46,
   "metadata": {},
   "outputs": [],
   "source": [
    "from selenium import webdriver\n",
    "from selenium.webdriver.chrome.service import Service\n",
    "from selenium.webdriver.chrome.options import Options\n",
    "from bs4 import BeautifulSoup\n",
    "from webdriver_manager.chrome import ChromeDriverManager\n",
    "import pandas as pd\n",
    "import requests\n",
    "\n",
    "# 1️⃣ Chrome 옵션 설정 (헤드리스 모드 활성화)\n",
    "options = Options()\n",
    "options.add_argument(\"--headless\")  # GUI 없이 실행\n",
    "options.add_argument(\"--no-sandbox\")\n",
    "options.add_argument(\"--disable-dev-shm-usage\")\n",
    "options.add_argument(\"--disable-gpu\")  # GPU 사용 안 함\n",
    "options.add_argument(\"start-maximized\")\n",
    "options.add_argument(\"disable-infobars\")\n",
    "options.add_argument(\"--disable-blink-features=AutomationControlled\")  # 자동화 탐지 방지\n",
    "options.add_argument(\"user-agent=Mozilla/5.0 (Windows NT 10.0; Win64; x64) AppleWebKit/537.36 (KHTML, like Gecko) Chrome/110.0.0.0 Safari/537.36\")  # User-Agent 변경"
   ]
  },
  {
   "cell_type": "code",
   "execution_count": null,
   "metadata": {},
   "outputs": [],
   "source": [
    "# 2️⃣ Selenium WebDriver 실행 (Headless 모드)\n",
    "service = Service(ChromeDriverManager().install())\n",
    "driver = webdriver.Chrome(service=service, options=options)\n",
    "\n",
    "driver.get(\"https://www.aaii.com/sentimentsurvey/sent_results\")\n",
    "\n",
    "html = driver.page_source \n",
    "soup = BeautifulSoup(html)\n",
    "\n",
    "table = soup.find(\"table\", class_=\"bordered\")  # 해당 class가 있는 <table> 요소 찾기\n",
    "rows = table.find_all(\"tr\")  # 모든 <tr> 태그 가져오기\n",
    "\n",
    "data = []\n",
    "for row in rows[1:]:  # 첫 번째 행(헤더) 제외\n",
    "    cols = row.find_all(\"td\")  # <td> 태그 찾기\n",
    "    cols = [col.text.strip() for col in cols]  # 텍스트 추출 및 공백 제거\n",
    "    if cols:  # 빈 리스트 제외\n",
    "        data.append(cols)\n",
    "\n",
    "# 5️⃣ DataFrame으로 변환\n",
    "df = pd.DataFrame(data, columns=[\"Date\", \"Bullish\", \"Neutral\", \"Bearish\"])\n",
    "\n",
    "# 6️⃣ 데이터 정리 (숫자 변환)\n",
    "df[\"Bullish\"] = df[\"Bullish\"].str.rstrip(\"%\").astype(float) / 100  # 퍼센트를 소수로 변환\n",
    "df[\"Neutral\"] = df[\"Neutral\"].str.rstrip(\"%\").astype(float) / 100\n",
    "df[\"Bearish\"] = df[\"Bearish\"].str.rstrip(\"%\").astype(float) / 100\n",
    "\n",
    "print(\"[AAII 비관론 지수]\")\n",
    "display(df)\n",
    "\n",
    "driver.quit()"
   ]
  },
  {
   "cell_type": "code",
   "execution_count": null,
   "metadata": {},
   "outputs": [],
   "source": [
    "service = Service(ChromeDriverManager().install())\n",
    "driver = webdriver.Chrome(service=service, options=options)\n",
    "\n",
    "driver.get('https://edition.cnn.com/markets/fear-and-greed')\n",
    "\n",
    "html = driver.page_source \n",
    "soup = BeautifulSoup(html)\n",
    "\n",
    "curr = soup.select_one(\".market-fng-gauge__dial-number > .market-fng-gauge__dial-number-value\").text\n",
    "# historyTag = soup.select(\".market-fng-gauge__historical-item-index\")\n",
    "print(curr)\n",
    "\n",
    "driver.quit()"
   ]
  }
 ],
 "metadata": {
  "kernelspec": {
   "display_name": "myenv",
   "language": "python",
   "name": "python3"
  },
  "language_info": {
   "codemirror_mode": {
    "name": "ipython",
    "version": 3
   },
   "file_extension": ".py",
   "mimetype": "text/x-python",
   "name": "python",
   "nbconvert_exporter": "python",
   "pygments_lexer": "ipython3",
   "version": "3.12.9"
  }
 },
 "nbformat": 4,
 "nbformat_minor": 2
}
