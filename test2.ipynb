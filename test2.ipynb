{
 "cells": [
  {
   "cell_type": "code",
   "execution_count": null,
   "metadata": {},
   "outputs": [],
   "source": [
    "from matplotlib.dates import relativedelta\n",
    "from regex import F\n",
    "from assetAllocation import AssetAllocation\n",
    "from commonHelper import EDateType\n",
    "import commonHelper\n",
    "from dataDownloader import DataDownloader\n",
    "from db_financialStatement import DB_FinancialStatement\n",
    "from portfolio import Portfolio\n",
    "import yfinance as yf\n",
    "import pandas as pd\n",
    "import numpy as np\n",
    "\n",
    "pd.set_option('future.no_silent_downcasting', True)\n",
    "\n",
    "start_date = '2013-12-01'\n",
    "end_date = '2025-08-26'\n",
    "symbols = ['A', 'AAPL', 'AMD', 'TSLA']\n",
    "\n",
    "df_quarter = DB_FinancialStatement.get_fs_data_static(symbols=symbols)\n",
    "# display(df_quarter)\n",
    "    \n",
    "\n",
    "Portfolio.show_portfolio_eft()"
   ]
  }
 ],
 "metadata": {
  "kernelspec": {
   "display_name": "myenv",
   "language": "python",
   "name": "python3"
  },
  "language_info": {
   "codemirror_mode": {
    "name": "ipython",
    "version": 3
   },
   "file_extension": ".py",
   "mimetype": "text/x-python",
   "name": "python",
   "nbconvert_exporter": "python",
   "pygments_lexer": "ipython3",
   "version": "3.12.9"
  }
 },
 "nbformat": 4,
 "nbformat_minor": 2
}
