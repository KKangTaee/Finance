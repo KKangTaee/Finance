{
 "cells": [
  {
   "cell_type": "code",
   "execution_count": 2,
   "metadata": {},
   "outputs": [],
   "source": [
    "from selenium.common.exceptions import NoSuchElementException\n",
    "from selenium import webdriver\n",
    "from selenium.webdriver.common.by import By\n",
    "from selenium.webdriver.common.keys import Keys\n",
    "from selenium.webdriver.support.ui import WebDriverWait\n",
    "from selenium.webdriver.support import expected_conditions as EC\n",
    "from bs4 import BeautifulSoup\n",
    "import pandas as pd\n",
    "import time"
   ]
  },
  {
   "cell_type": "code",
   "execution_count": 22,
   "metadata": {},
   "outputs": [],
   "source": [
    "driver = webdriver.Chrome()\n",
    "driver.get(\"https://www.nyse.com/listings_directory/stock\")"
   ]
  },
  {
   "cell_type": "code",
   "execution_count": 46,
   "metadata": {},
   "outputs": [
    {
     "name": "stderr",
     "output_type": "stream",
     "text": [
      "<>:20: SyntaxWarning: invalid escape sequence '\\:'\n",
      "<>:20: SyntaxWarning: invalid escape sequence '\\:'\n",
      "/var/folders/2d/ws36b6y52l9fm56tq6l10zm00000gn/T/ipykernel_11395/1209455051.py:20: SyntaxWarning: invalid escape sequence '\\:'\n",
      "  btn = driver.find_element(By.CSS_SELECTOR, \"#integration-id-fcc63aa > div.flex-1 > div.px-3.lg\\:px-24 > div.flex.flex-col.flex-wrap.gap-x-8.md\\:flex-row > div.basis-2\\/3 > div.\\!text-center > div > ul > li:nth-child(8) > a\")\n"
     ]
    },
    {
     "name": "stdout",
     "output_type": "stream",
     "text": [
      "버튼을 찾을 수 없습니다. 페이지 탐색 종료.\n"
     ]
    }
   ],
   "source": []
  },
  {
   "cell_type": "code",
   "execution_count": null,
   "metadata": {},
   "outputs": [],
   "source": []
  },
  {
   "cell_type": "code",
   "execution_count": null,
   "metadata": {},
   "outputs": [],
   "source": []
  },
  {
   "cell_type": "code",
   "execution_count": null,
   "metadata": {},
   "outputs": [],
   "source": []
  },
  {
   "cell_type": "code",
   "execution_count": null,
   "metadata": {},
   "outputs": [],
   "source": [
    "# 셀레니움에서 페이지 캡쳐한 것\n",
    "\n",
    "data = []\n",
    "\n",
    "while True:\n",
    "\n",
    "    html = driver.page_source \n",
    "\n",
    "    soup = BeautifulSoup(html)\n",
    "    tag = soup.select_one(\".table-data.w-full.table-border-rows\")\n",
    "    infos = tag.select(\"tbody tr\")\n",
    "\n",
    "    for info in infos:\n",
    "        symbol = info.select_one(\"td a\").text.strip()\n",
    "        url = info.select_one(\"td a\")[\"href\"]\n",
    "        name = info.select(\"td\")[1].text.strip()\n",
    "        data.append([symbol,name,url])\n",
    "    \n",
    "    try:\n",
    "        btn = driver.find_element(By.CSS_SELECTOR, \"#integration-id-fcc63aa > div.flex-1 > div.px-3.lg\\:px-24 > div.flex.flex-col.flex-wrap.gap-x-8.md\\:flex-row > div.basis-2\\/3 > div.\\!text-center > div > ul > li:nth-child(8) > a\")\n",
    "        btn.click()\n",
    "\n",
    "        # 새로운 페이지가 로드될 때까지 대기\n",
    "        WebDriverWait(driver, 10).until(\n",
    "            EC.presence_of_element_located((By.CSS_SELECTOR, \".table-data.w-full.table-border-rows tbody tr\"))\n",
    "        )\n",
    "\n",
    "    except NoSuchElementException:\n",
    "        print(\"버튼을 찾을 수 없습니다. 페이지 탐색 종료.\")\n",
    "        break\n",
    "\n",
    "\n",
    "df = pd.DataFrame(data, columns=['Symbol', 'Name', 'URL'])\n",
    "df.to_excel(\"nyse_symbol.xlsx\", index=True)"
   ]
  }
 ],
 "metadata": {
  "kernelspec": {
   "display_name": "myenv",
   "language": "python",
   "name": "python3"
  },
  "language_info": {
   "codemirror_mode": {
    "name": "ipython",
    "version": 3
   },
   "file_extension": ".py",
   "mimetype": "text/x-python",
   "name": "python",
   "nbconvert_exporter": "python",
   "pygments_lexer": "ipython3",
   "version": "3.12.9"
  }
 },
 "nbformat": 4,
 "nbformat_minor": 2
}
